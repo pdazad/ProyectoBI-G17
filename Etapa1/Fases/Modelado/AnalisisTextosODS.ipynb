{
 "cells": [
  {
   "cell_type": "markdown",
   "metadata": {},
   "source": [
    "# Proyecto BI - Análitica de Texto según ODS"
   ]
  },
  {
   "cell_type": "markdown",
   "metadata": {},
   "source": [
    "## Etapa 1"
   ]
  },
  {
   "cell_type": "markdown",
   "metadata": {},
   "source": [
    "## Objetivos\n",
    "\n",
    "*   Aplicar la metodología de analítica de textos para la construcción de soluciones de analítica alineadas con los objetivos del negocio en un contexto de aplicación.\n",
    "*   Planear la interacción con un grupo interdisciplinario para identificar usuarios y posibles herramientas a desarrollar para la interacción del resultado del modelo desarrollado."
   ]
  },
  {
   "cell_type": "markdown",
   "metadata": {},
   "source": [
    "## Problema\n",
    "<p style=\"text-align: justify;\"> Desarrollar un modelo de clasificación, con técnicas de aprendizaje automático, que permita relacionar de manera automática un texto según los ODS. Al igual que desarrollar una aplicación que facilite la interacción con el resultado de dicho modelo. El modelo podrá ser utilizado entonces para la interpretación y análisis de la información textual que es recopilada a través de diferentes fuentes por UNFPA en procesos de planeación participativa para el desarrollo a nivel territorial.\n"
   ]
  },
  {
   "cell_type": "markdown",
   "metadata": {},
   "source": [
    "### 1. Instalación e importanción de librerías."
   ]
  },
  {
   "cell_type": "code",
   "execution_count": 1017,
   "metadata": {},
   "outputs": [
    {
     "name": "stdout",
     "output_type": "stream",
     "text": [
      "Requirement already satisfied: ftfy in /Users/sofiatorres/anaconda3/lib/python3.10/site-packages (6.1.1)\n",
      "Requirement already satisfied: wcwidth>=0.2.5 in /Users/sofiatorres/anaconda3/lib/python3.10/site-packages (from ftfy) (0.2.5)\n"
     ]
    }
   ],
   "source": [
    "!pip install ftfy"
   ]
  },
  {
   "cell_type": "code",
   "execution_count": 1018,
   "metadata": {},
   "outputs": [
    {
     "name": "stdout",
     "output_type": "stream",
     "text": [
      "Requirement already satisfied: openpyxl in /Users/sofiatorres/anaconda3/lib/python3.10/site-packages (3.1.2)\n",
      "Requirement already satisfied: et-xmlfile in /Users/sofiatorres/anaconda3/lib/python3.10/site-packages (from openpyxl) (1.1.0)\n",
      "Note: you may need to restart the kernel to use updated packages.\n"
     ]
    }
   ],
   "source": [
    "pip install openpyxl"
   ]
  },
  {
   "cell_type": "code",
   "execution_count": 1019,
   "metadata": {},
   "outputs": [
    {
     "name": "stdout",
     "output_type": "stream",
     "text": [
      "Requirement already satisfied: unidecode in /Users/sofiatorres/anaconda3/lib/python3.10/site-packages (1.2.0)\n"
     ]
    }
   ],
   "source": [
    "!pip install unidecode"
   ]
  },
  {
   "cell_type": "code",
   "execution_count": 1020,
   "metadata": {},
   "outputs": [
    {
     "name": "stdout",
     "output_type": "stream",
     "text": [
      "Requirement already satisfied: contractions in /Users/sofiatorres/anaconda3/lib/python3.10/site-packages (0.1.73)\n",
      "Requirement already satisfied: textsearch>=0.0.21 in /Users/sofiatorres/anaconda3/lib/python3.10/site-packages (from contractions) (0.0.24)\n",
      "Requirement already satisfied: anyascii in /Users/sofiatorres/anaconda3/lib/python3.10/site-packages (from textsearch>=0.0.21->contractions) (0.3.2)\n",
      "Requirement already satisfied: pyahocorasick in /Users/sofiatorres/anaconda3/lib/python3.10/site-packages (from textsearch>=0.0.21->contractions) (2.0.0)\n"
     ]
    }
   ],
   "source": [
    "# Librería para manejar las contracciones que se presentan en el inglés.\n",
    "!pip install contractions"
   ]
  },
  {
   "cell_type": "code",
   "execution_count": 1021,
   "metadata": {},
   "outputs": [],
   "source": [
    "# librería para manejar las flexiones gramaticales en el idioma inglés.\n",
    "# !pip install inflect\n",
    "# !pip install pandas-profiling==2.7.1"
   ]
  },
  {
   "cell_type": "code",
   "execution_count": 1022,
   "metadata": {},
   "outputs": [
    {
     "name": "stderr",
     "output_type": "stream",
     "text": [
      "[nltk_data] Downloading package punkt to\n",
      "[nltk_data]     /Users/sofiatorres/nltk_data...\n",
      "[nltk_data]   Package punkt is already up-to-date!\n"
     ]
    },
    {
     "data": {
      "text/plain": [
       "True"
      ]
     },
     "execution_count": 1022,
     "metadata": {},
     "output_type": "execute_result"
    }
   ],
   "source": [
    "# librería Natural Language Toolkit, usada para trabajar con textos \n",
    "import nltk\n",
    "# Punkt permite separar un texto en frases.\n",
    "nltk.download('punkt')"
   ]
  },
  {
   "cell_type": "code",
   "execution_count": 1023,
   "metadata": {},
   "outputs": [
    {
     "name": "stderr",
     "output_type": "stream",
     "text": [
      "[nltk_data] Downloading package wordnet to\n",
      "[nltk_data]     /Users/sofiatorres/nltk_data...\n",
      "[nltk_data]   Package wordnet is already up-to-date!\n"
     ]
    },
    {
     "data": {
      "text/plain": [
       "True"
      ]
     },
     "execution_count": 1023,
     "metadata": {},
     "output_type": "execute_result"
    }
   ],
   "source": [
    "# Descarga de paquete WordNetLemmatizer, este es usado para encontrar el lema de cada palabra\n",
    "# ¿Qué es el lema de una palabra? ¿Qué tan dificil puede ser obtenerlo, piensa en el caso en que tuvieras que escribir la función que realiza esta tarea?\n",
    "nltk.download('wordnet')"
   ]
  },
  {
   "cell_type": "code",
   "execution_count": 1024,
   "metadata": {},
   "outputs": [
    {
     "name": "stderr",
     "output_type": "stream",
     "text": [
      "[nltk_data] Downloading package wordnet to\n",
      "[nltk_data]     /Users/sofiatorres/nltk_data...\n",
      "[nltk_data]   Package wordnet is already up-to-date!\n"
     ]
    }
   ],
   "source": [
    "# Instalación de librerias\n",
    "import pandas as pd\n",
    "import numpy as np\n",
    "import sys\n",
    "from pandas_profiling import ProfileReport\n",
    "from unidecode import unidecode\n",
    "\n",
    "import re, string, unicodedata\n",
    "import contractions\n",
    "import inflect\n",
    "from nltk import word_tokenize, sent_tokenize\n",
    "from nltk.corpus import stopwords\n",
    "from nltk.stem import LancasterStemmer, WordNetLemmatizer\n",
    "import nltk\n",
    "from nltk.corpus import wordnet\n",
    "from nltk.stem import PorterStemmer\n",
    "nltk.download('wordnet')\n",
    "\n",
    "\n",
    "from sklearn.model_selection import train_test_split,GridSearchCV\n",
    "from sklearn.feature_extraction.text import TfidfVectorizer, CountVectorizer, HashingVectorizer\n",
    "from sklearn.pipeline import Pipeline, FeatureUnion\n",
    "from sklearn.svm import SVC\n",
    "from sklearn.ensemble import BaggingClassifier, RandomForestClassifier, AdaBoostClassifier\n",
    "from sklearn.naive_bayes import BernoulliNB\n",
    "from sklearn.metrics import classification_report, confusion_matrix\n",
    "#from sklearn.metrics import plot_precision_recall_curve\n",
    "from sklearn.base import BaseEstimator, ClassifierMixin\n",
    "from nltk.tokenize import word_tokenize\n",
    "from sklearn.metrics import (\n",
    "    ConfusionMatrixDisplay, RocCurveDisplay,\n",
    "    roc_auc_score, precision_score, recall_score, f1_score\n",
    ")\n",
    "from sklearn.model_selection import train_test_split, RandomizedSearchCV\n",
    "from sklearn.pipeline import Pipeline\n",
    "\n",
    "import matplotlib.pyplot as plt\n"
   ]
  },
  {
   "cell_type": "code",
   "execution_count": 1025,
   "metadata": {},
   "outputs": [],
   "source": [
    "import warnings\n",
    "warnings.filterwarnings(\"ignore\")"
   ]
  },
  {
   "cell_type": "code",
   "execution_count": 1026,
   "metadata": {},
   "outputs": [],
   "source": [
    "# Configuring pandas to show all cell content\n",
    "pd.set_option(\"display.max_colwidth\", None)"
   ]
  },
  {
   "cell_type": "code",
   "execution_count": 1027,
   "metadata": {},
   "outputs": [
    {
     "name": "stderr",
     "output_type": "stream",
     "text": [
      "[nltk_data] Downloading package punkt to\n",
      "[nltk_data]     /Users/sofiatorres/nltk_data...\n",
      "[nltk_data]   Package punkt is already up-to-date!\n",
      "[nltk_data] Downloading package stopwords to\n",
      "[nltk_data]     /Users/sofiatorres/nltk_data...\n",
      "[nltk_data]   Package stopwords is already up-to-date!\n"
     ]
    }
   ],
   "source": [
    "# Downloading stopwords\n",
    "nltk.download(\"punkt\")\n",
    "nltk.download(\"stopwords\")\n",
    "stop_words = stopwords.words(\"spanish\")"
   ]
  },
  {
   "cell_type": "code",
   "execution_count": 1028,
   "metadata": {},
   "outputs": [
    {
     "data": {
      "text/plain": [
       "['de',\n",
       " 'la',\n",
       " 'que',\n",
       " 'el',\n",
       " 'en',\n",
       " 'y',\n",
       " 'a',\n",
       " 'los',\n",
       " 'del',\n",
       " 'se',\n",
       " 'las',\n",
       " 'por',\n",
       " 'un',\n",
       " 'para',\n",
       " 'con',\n",
       " 'no',\n",
       " 'una',\n",
       " 'su',\n",
       " 'al',\n",
       " 'lo',\n",
       " 'como',\n",
       " 'más',\n",
       " 'pero',\n",
       " 'sus',\n",
       " 'le',\n",
       " 'ya',\n",
       " 'o',\n",
       " 'este',\n",
       " 'sí',\n",
       " 'porque',\n",
       " 'esta',\n",
       " 'entre',\n",
       " 'cuando',\n",
       " 'muy',\n",
       " 'sin',\n",
       " 'sobre',\n",
       " 'también',\n",
       " 'me',\n",
       " 'hasta',\n",
       " 'hay',\n",
       " 'donde',\n",
       " 'quien',\n",
       " 'desde',\n",
       " 'todo',\n",
       " 'nos',\n",
       " 'durante',\n",
       " 'todos',\n",
       " 'uno',\n",
       " 'les',\n",
       " 'ni',\n",
       " 'contra',\n",
       " 'otros',\n",
       " 'ese',\n",
       " 'eso',\n",
       " 'ante',\n",
       " 'ellos',\n",
       " 'e',\n",
       " 'esto',\n",
       " 'mí',\n",
       " 'antes',\n",
       " 'algunos',\n",
       " 'qué',\n",
       " 'unos',\n",
       " 'yo',\n",
       " 'otro',\n",
       " 'otras',\n",
       " 'otra',\n",
       " 'él',\n",
       " 'tanto',\n",
       " 'esa',\n",
       " 'estos',\n",
       " 'mucho',\n",
       " 'quienes',\n",
       " 'nada',\n",
       " 'muchos',\n",
       " 'cual',\n",
       " 'poco',\n",
       " 'ella',\n",
       " 'estar',\n",
       " 'estas',\n",
       " 'algunas',\n",
       " 'algo',\n",
       " 'nosotros',\n",
       " 'mi',\n",
       " 'mis',\n",
       " 'tú',\n",
       " 'te',\n",
       " 'ti',\n",
       " 'tu',\n",
       " 'tus',\n",
       " 'ellas',\n",
       " 'nosotras',\n",
       " 'vosotros',\n",
       " 'vosotras',\n",
       " 'os',\n",
       " 'mío',\n",
       " 'mía',\n",
       " 'míos',\n",
       " 'mías',\n",
       " 'tuyo',\n",
       " 'tuya',\n",
       " 'tuyos',\n",
       " 'tuyas',\n",
       " 'suyo',\n",
       " 'suya',\n",
       " 'suyos',\n",
       " 'suyas',\n",
       " 'nuestro',\n",
       " 'nuestra',\n",
       " 'nuestros',\n",
       " 'nuestras',\n",
       " 'vuestro',\n",
       " 'vuestra',\n",
       " 'vuestros',\n",
       " 'vuestras',\n",
       " 'esos',\n",
       " 'esas',\n",
       " 'estoy',\n",
       " 'estás',\n",
       " 'está',\n",
       " 'estamos',\n",
       " 'estáis',\n",
       " 'están',\n",
       " 'esté',\n",
       " 'estés',\n",
       " 'estemos',\n",
       " 'estéis',\n",
       " 'estén',\n",
       " 'estaré',\n",
       " 'estarás',\n",
       " 'estará',\n",
       " 'estaremos',\n",
       " 'estaréis',\n",
       " 'estarán',\n",
       " 'estaría',\n",
       " 'estarías',\n",
       " 'estaríamos',\n",
       " 'estaríais',\n",
       " 'estarían',\n",
       " 'estaba',\n",
       " 'estabas',\n",
       " 'estábamos',\n",
       " 'estabais',\n",
       " 'estaban',\n",
       " 'estuve',\n",
       " 'estuviste',\n",
       " 'estuvo',\n",
       " 'estuvimos',\n",
       " 'estuvisteis',\n",
       " 'estuvieron',\n",
       " 'estuviera',\n",
       " 'estuvieras',\n",
       " 'estuviéramos',\n",
       " 'estuvierais',\n",
       " 'estuvieran',\n",
       " 'estuviese',\n",
       " 'estuvieses',\n",
       " 'estuviésemos',\n",
       " 'estuvieseis',\n",
       " 'estuviesen',\n",
       " 'estando',\n",
       " 'estado',\n",
       " 'estada',\n",
       " 'estados',\n",
       " 'estadas',\n",
       " 'estad',\n",
       " 'he',\n",
       " 'has',\n",
       " 'ha',\n",
       " 'hemos',\n",
       " 'habéis',\n",
       " 'han',\n",
       " 'haya',\n",
       " 'hayas',\n",
       " 'hayamos',\n",
       " 'hayáis',\n",
       " 'hayan',\n",
       " 'habré',\n",
       " 'habrás',\n",
       " 'habrá',\n",
       " 'habremos',\n",
       " 'habréis',\n",
       " 'habrán',\n",
       " 'habría',\n",
       " 'habrías',\n",
       " 'habríamos',\n",
       " 'habríais',\n",
       " 'habrían',\n",
       " 'había',\n",
       " 'habías',\n",
       " 'habíamos',\n",
       " 'habíais',\n",
       " 'habían',\n",
       " 'hube',\n",
       " 'hubiste',\n",
       " 'hubo',\n",
       " 'hubimos',\n",
       " 'hubisteis',\n",
       " 'hubieron',\n",
       " 'hubiera',\n",
       " 'hubieras',\n",
       " 'hubiéramos',\n",
       " 'hubierais',\n",
       " 'hubieran',\n",
       " 'hubiese',\n",
       " 'hubieses',\n",
       " 'hubiésemos',\n",
       " 'hubieseis',\n",
       " 'hubiesen',\n",
       " 'habiendo',\n",
       " 'habido',\n",
       " 'habida',\n",
       " 'habidos',\n",
       " 'habidas',\n",
       " 'soy',\n",
       " 'eres',\n",
       " 'es',\n",
       " 'somos',\n",
       " 'sois',\n",
       " 'son',\n",
       " 'sea',\n",
       " 'seas',\n",
       " 'seamos',\n",
       " 'seáis',\n",
       " 'sean',\n",
       " 'seré',\n",
       " 'serás',\n",
       " 'será',\n",
       " 'seremos',\n",
       " 'seréis',\n",
       " 'serán',\n",
       " 'sería',\n",
       " 'serías',\n",
       " 'seríamos',\n",
       " 'seríais',\n",
       " 'serían',\n",
       " 'era',\n",
       " 'eras',\n",
       " 'éramos',\n",
       " 'erais',\n",
       " 'eran',\n",
       " 'fui',\n",
       " 'fuiste',\n",
       " 'fue',\n",
       " 'fuimos',\n",
       " 'fuisteis',\n",
       " 'fueron',\n",
       " 'fuera',\n",
       " 'fueras',\n",
       " 'fuéramos',\n",
       " 'fuerais',\n",
       " 'fueran',\n",
       " 'fuese',\n",
       " 'fueses',\n",
       " 'fuésemos',\n",
       " 'fueseis',\n",
       " 'fuesen',\n",
       " 'sintiendo',\n",
       " 'sentido',\n",
       " 'sentida',\n",
       " 'sentidos',\n",
       " 'sentidas',\n",
       " 'siente',\n",
       " 'sentid',\n",
       " 'tengo',\n",
       " 'tienes',\n",
       " 'tiene',\n",
       " 'tenemos',\n",
       " 'tenéis',\n",
       " 'tienen',\n",
       " 'tenga',\n",
       " 'tengas',\n",
       " 'tengamos',\n",
       " 'tengáis',\n",
       " 'tengan',\n",
       " 'tendré',\n",
       " 'tendrás',\n",
       " 'tendrá',\n",
       " 'tendremos',\n",
       " 'tendréis',\n",
       " 'tendrán',\n",
       " 'tendría',\n",
       " 'tendrías',\n",
       " 'tendríamos',\n",
       " 'tendríais',\n",
       " 'tendrían',\n",
       " 'tenía',\n",
       " 'tenías',\n",
       " 'teníamos',\n",
       " 'teníais',\n",
       " 'tenían',\n",
       " 'tuve',\n",
       " 'tuviste',\n",
       " 'tuvo',\n",
       " 'tuvimos',\n",
       " 'tuvisteis',\n",
       " 'tuvieron',\n",
       " 'tuviera',\n",
       " 'tuvieras',\n",
       " 'tuviéramos',\n",
       " 'tuvierais',\n",
       " 'tuvieran',\n",
       " 'tuviese',\n",
       " 'tuvieses',\n",
       " 'tuviésemos',\n",
       " 'tuvieseis',\n",
       " 'tuviesen',\n",
       " 'teniendo',\n",
       " 'tenido',\n",
       " 'tenida',\n",
       " 'tenidos',\n",
       " 'tenidas',\n",
       " 'tened']"
      ]
     },
     "execution_count": 1028,
     "metadata": {},
     "output_type": "execute_result"
    }
   ],
   "source": [
    "stop_words\n"
   ]
  },
  {
   "cell_type": "markdown",
   "metadata": {},
   "source": [
    "### 2. Perfilamiento y entendimiento de los datos"
   ]
  },
  {
   "cell_type": "markdown",
   "metadata": {},
   "source": [
    "\n",
    "#### Lectura de los datos."
   ]
  },
  {
   "cell_type": "code",
   "execution_count": 1029,
   "metadata": {},
   "outputs": [],
   "source": [
    "# Uso de la libreria pandas para la lectura de archivos excel\n",
    "df = pd.read_excel('./data/cat_345.xlsx')\n",
    "# Asignación a una nueva variable de los datos leidos\n",
    "data_t=df\n"
   ]
  },
  {
   "cell_type": "code",
   "execution_count": 1030,
   "metadata": {},
   "outputs": [
    {
     "data": {
      "text/plain": [
       "(3000, 2)"
      ]
     },
     "execution_count": 1030,
     "metadata": {},
     "output_type": "execute_result"
    }
   ],
   "source": [
    "data_t.shape"
   ]
  },
  {
   "cell_type": "code",
   "execution_count": 1031,
   "metadata": {},
   "outputs": [
    {
     "data": {
      "text/html": [
       "<div>\n",
       "<style scoped>\n",
       "    .dataframe tbody tr th:only-of-type {\n",
       "        vertical-align: middle;\n",
       "    }\n",
       "\n",
       "    .dataframe tbody tr th {\n",
       "        vertical-align: top;\n",
       "    }\n",
       "\n",
       "    .dataframe thead th {\n",
       "        text-align: right;\n",
       "    }\n",
       "</style>\n",
       "<table border=\"1\" class=\"dataframe\">\n",
       "  <thead>\n",
       "    <tr style=\"text-align: right;\">\n",
       "      <th></th>\n",
       "      <th>Textos_espanol</th>\n",
       "      <th>sdg</th>\n",
       "    </tr>\n",
       "  </thead>\n",
       "  <tbody>\n",
       "    <tr>\n",
       "      <th>715</th>\n",
       "      <td>Los internados no tomaron en consideración las culturas indígenas, la fisiología o psicología indígena. La educación en ruso y las estancias prolongadas lejos de la familia dieron como resultado el reemplazo gradual de la lengua materna por el ruso, crearon una brecha generacional, tuvieron un efecto negativo en la cohesión familiar y provocaron privaciones psicológicas. La retirada de las redes familiares y sociales y la interrupción de los mecanismos de transmisión cultural dieron como resultado la pérdida de la lengua materna, las habilidades tradicionales y las prácticas curativas indígenas.</td>\n",
       "      <td>3</td>\n",
       "    </tr>\n",
       "    <tr>\n",
       "      <th>1669</th>\n",
       "      <td>La tutoría de carrera está diseñada para apoyar a los estudiantes en la consecución de sus objetivos postsecundarios, incluso a través de conexiones formales con los graduados de la escuela secundaria durante dos años después de la escuela secundaria. A cada estudiante se le asigna un trabajador de apoyo al estudiante (Student-Rjrent Support Worker, SPSW), que supervisa la asistencia a la escuela, el progreso académico y la participación en el programa, al tiempo que ayuda al estudiante a establecer relaciones estables con sus padres, profesores y otros estudiantes. La ayuda financiera de Pathways, como billetes de autobús y vales de almuerzo, se diseñó para eliminar las barreras financieras que dificultan la participación escolar.</td>\n",
       "      <td>4</td>\n",
       "    </tr>\n",
       "    <tr>\n",
       "      <th>616</th>\n",
       "      <td>Las disparidades de cobertura entre grupos sociales y servicios sanitarios aconsejan prestar más atención a la coordinación entre los seguros obligatorios y los complementarios. Las reformas en curso para mejorar la prevención y la coordinación entre los proveedores de asistencia son pasos en la dirección correcta. Sin embargo, es necesario intensificar los avances en el desarrollo de sistemas de pago basados en la capitación, que pueden reducir los incentivos para aumentar el número de actos médicos y animar a los profesionales sanitarios a dedicar más tiempo a sus pacientes, y de sistemas de pago basados en los resultados en la atención primaria, para responder a la creciente prevalencia de las enfermedades crónicas y frenar la demanda inducida por los proveedores y las disparidades sociales en el acceso a la atención.</td>\n",
       "      <td>3</td>\n",
       "    </tr>\n",
       "    <tr>\n",
       "      <th>148</th>\n",
       "      <td>Este documento concluye con métodos para acelerar el despliegue de normas en la sanidad pública y personal. Sin embargo, no garantizan plenamente los despliegues debido a la insuficiencia o falta de coincidencia de requisitos entre los proveedores de TIC y los usuarios cercanos. En particular, esta cuestión supone un obstáculo para el rápido lanzamiento de servicios de sanidad electrónica en las naciones emergentes. AdemÃ¡s, estos paÃses suelen requerir un lanzamiento de servicios mÃ¡s Ã¡gil que la publicaciÃ³n de normas.</td>\n",
       "      <td>3</td>\n",
       "    </tr>\n",
       "    <tr>\n",
       "      <th>541</th>\n",
       "      <td>Los países con población indígena deberían alcanzar niveles de mortalidad infantil y de menores de 5 años entre su población indígena iguales a los de la población general. Para 2005, los países con niveles de mortalidad intermedios deberían aspirar a lograr una tasa de mortalidad infantil inferior a 50 muertes por cada 1.000 y una tasa de mortalidad de menores de 5 años inferior a 60 muertes por cada 1.000 nacimientos. Para 2015, todos los países deberían aspirar a alcanzar una tasa de mortalidad infantil inferior a 35 por cada 1.000 nacidos vivos y una tasa de mortalidad de menores de 5 años inferior a 45 por cada 1.000 nacidos vivos. Los países que alcancen antes estos niveles deben esforzarse por reducirlos aún más.</td>\n",
       "      <td>3</td>\n",
       "    </tr>\n",
       "  </tbody>\n",
       "</table>\n",
       "</div>"
      ],
      "text/plain": [
       "                                                                                                                                                                                                                                                                                                                                                                                                                                                                                                                                                                                                                                                                                                                                                                                                                                                         Textos_espanol  \\\n",
       "715                                                                                                                                                                                                                                          Los internados no tomaron en consideración las culturas indígenas, la fisiología o psicología indígena. La educación en ruso y las estancias prolongadas lejos de la familia dieron como resultado el reemplazo gradual de la lengua materna por el ruso, crearon una brecha generacional, tuvieron un efecto negativo en la cohesión familiar y provocaron privaciones psicológicas. La retirada de las redes familiares y sociales y la interrupción de los mecanismos de transmisión cultural dieron como resultado la pérdida de la lengua materna, las habilidades tradicionales y las prácticas curativas indígenas.   \n",
       "1669                                                                                              La tutoría de carrera está diseñada para apoyar a los estudiantes en la consecución de sus objetivos postsecundarios, incluso a través de conexiones formales con los graduados de la escuela secundaria durante dos años después de la escuela secundaria. A cada estudiante se le asigna un trabajador de apoyo al estudiante (Student-Rjrent Support Worker, SPSW), que supervisa la asistencia a la escuela, el progreso académico y la participación en el programa, al tiempo que ayuda al estudiante a establecer relaciones estables con sus padres, profesores y otros estudiantes. La ayuda financiera de Pathways, como billetes de autobús y vales de almuerzo, se diseñó para eliminar las barreras financieras que dificultan la participación escolar.   \n",
       "616   Las disparidades de cobertura entre grupos sociales y servicios sanitarios aconsejan prestar más atención a la coordinación entre los seguros obligatorios y los complementarios. Las reformas en curso para mejorar la prevención y la coordinación entre los proveedores de asistencia son pasos en la dirección correcta. Sin embargo, es necesario intensificar los avances en el desarrollo de sistemas de pago basados en la capitación, que pueden reducir los incentivos para aumentar el número de actos médicos y animar a los profesionales sanitarios a dedicar más tiempo a sus pacientes, y de sistemas de pago basados en los resultados en la atención primaria, para responder a la creciente prevalencia de las enfermedades crónicas y frenar la demanda inducida por los proveedores y las disparidades sociales en el acceso a la atención.    \n",
       "148                                                                                                                                                                                                                                                                                                                    Este documento concluye con métodos para acelerar el despliegue de normas en la sanidad pública y personal. Sin embargo, no garantizan plenamente los despliegues debido a la insuficiencia o falta de coincidencia de requisitos entre los proveedores de TIC y los usuarios cercanos. En particular, esta cuestión supone un obstáculo para el rápido lanzamiento de servicios de sanidad electrónica en las naciones emergentes. AdemÃ¡s, estos paÃses suelen requerir un lanzamiento de servicios mÃ¡s Ã¡gil que la publicaciÃ³n de normas.    \n",
       "541                                                                                                          Los países con población indígena deberían alcanzar niveles de mortalidad infantil y de menores de 5 años entre su población indígena iguales a los de la población general. Para 2005, los países con niveles de mortalidad intermedios deberían aspirar a lograr una tasa de mortalidad infantil inferior a 50 muertes por cada 1.000 y una tasa de mortalidad de menores de 5 años inferior a 60 muertes por cada 1.000 nacimientos. Para 2015, todos los países deberían aspirar a alcanzar una tasa de mortalidad infantil inferior a 35 por cada 1.000 nacidos vivos y una tasa de mortalidad de menores de 5 años inferior a 45 por cada 1.000 nacidos vivos. Los países que alcancen antes estos niveles deben esforzarse por reducirlos aún más.    \n",
       "\n",
       "      sdg  \n",
       "715     3  \n",
       "1669    4  \n",
       "616     3  \n",
       "148     3  \n",
       "541     3  "
      ]
     },
     "execution_count": 1031,
     "metadata": {},
     "output_type": "execute_result"
    }
   ],
   "source": [
    "data_t.sample(5)"
   ]
  },
  {
   "cell_type": "markdown",
   "metadata": {},
   "source": [
    "## 2.1 Limpieza de datos"
   ]
  },
  {
   "cell_type": "code",
   "execution_count": 1032,
   "metadata": {},
   "outputs": [
    {
     "data": {
      "text/plain": [
       "sdg\n",
       "3    0.333333\n",
       "4    0.333333\n",
       "5    0.333333\n",
       "Name: proportion, dtype: float64"
      ]
     },
     "execution_count": 1032,
     "metadata": {},
     "output_type": "execute_result"
    }
   ],
   "source": [
    "data_t[\"sdg\"].value_counts(dropna=False, normalize=True)"
   ]
  },
  {
   "cell_type": "markdown",
   "metadata": {},
   "source": [
    "Se puede ver una distribución equitativa de los datos en los tres grupos de ODS"
   ]
  },
  {
   "cell_type": "code",
   "execution_count": 1033,
   "metadata": {},
   "outputs": [],
   "source": [
    "data_t[\"Textos_espanol\"] = data_t[\"Textos_espanol\"].astype(str)"
   ]
  },
  {
   "cell_type": "markdown",
   "metadata": {},
   "source": [
    "### Corrección de palabras mal codificadas"
   ]
  },
  {
   "cell_type": "code",
   "execution_count": 1034,
   "metadata": {},
   "outputs": [],
   "source": [
    "import ftfy\n",
    "\n",
    "def fix_malformed_words(text):\n",
    "    # Utiliza ftfy para corregir problemas de codificación\n",
    "    text = ftfy.fix_text(text)\n",
    "    return text\n",
    "\n",
    "# Aplica la función a tu DataFrame\n",
    "data_t['Textos_espanol'] = data_t['Textos_espanol'].apply(fix_malformed_words)\n",
    "\n"
   ]
  },
  {
   "cell_type": "code",
   "execution_count": 1035,
   "metadata": {},
   "outputs": [
    {
     "data": {
      "text/html": [
       "<div>\n",
       "<style scoped>\n",
       "    .dataframe tbody tr th:only-of-type {\n",
       "        vertical-align: middle;\n",
       "    }\n",
       "\n",
       "    .dataframe tbody tr th {\n",
       "        vertical-align: top;\n",
       "    }\n",
       "\n",
       "    .dataframe thead th {\n",
       "        text-align: right;\n",
       "    }\n",
       "</style>\n",
       "<table border=\"1\" class=\"dataframe\">\n",
       "  <thead>\n",
       "    <tr style=\"text-align: right;\">\n",
       "      <th></th>\n",
       "      <th>Textos_espanol</th>\n",
       "      <th>sdg</th>\n",
       "    </tr>\n",
       "  </thead>\n",
       "  <tbody>\n",
       "    <tr>\n",
       "      <th>0</th>\n",
       "      <td>Por ejemplo, el número de consultas externas de especialistas es de 319 por cada mil derechohabientes en el SP, en comparación con 338 y 620 por cada mil derechohabientes en el IMSS y el ISSSTE, respectivamente. Si bien algunas de estas diferencias pueden reflejar una necesidad desigual (como la población ligeramente mayor del ISSSTE), otras no pueden justificarse de esta manera. El número de recetas que no pudieron ser surtidas en su totalidad por un farmacéutico debido a la falta de existencias es de 33% dentro del SP en comparación con 14% dentro del IMSS según los datos de la encuesta (aunque las propias cifras de los institutos de la SS sugieren tasas más altas de recetas surtidas). Ambas cifras se encuentran entre las más altas de la OCDE. El gasto de bolsillo no se ha reducido significativamente en la última década, a pesar de los esfuerzos para lograr la cobertura sanitaria universal a través de la reforma del SP.</td>\n",
       "      <td>3</td>\n",
       "    </tr>\n",
       "    <tr>\n",
       "      <th>1</th>\n",
       "      <td>En 2007, el gobierno central financió directamente solo el 0,3% del gasto total en salud, pero realizó transferencias específicas para el gasto en salud que ascendieron a otro 5,6% del gasto total. La mayor parte del gasto presupuestario en salud lo realizan los gobiernos de los condados. Por lo tanto, los condados pobres solo pueden ofrecer un bajo nivel de atención a la población local. El gobierno provincial proporciona subsidios del lado de la oferta a los hospitales.</td>\n",
       "      <td>3</td>\n",
       "    </tr>\n",
       "    <tr>\n",
       "      <th>2</th>\n",
       "      <td>Claramente, hay muchos otros factores en juego, en particular, una variedad de barreras y determinantes sociales. Estos pueden estar relacionados con el género, la clase, la etnia, la casta, el idioma y la religión, y surgen de estructuras, normas y procesos sociales arraigados que aceptan e incluso fomentan distribuciones injustas de la riqueza y los recursos sociales. Por ejemplo, las personas que viven con el VIH y algunas otras enfermedades crónicas enfrentan altos niveles de estigma y discriminación que dificultan su acceso a pruebas médicas, tratamiento, atención y apoyo. Por lo tanto, los gobiernos que buscan mejorar los estándares de salud querrán mejorar la condición de la mujer, brindar servicios de salud reproductiva efectivos, implementar programas integrales de lactancia materna en línea con las recomendaciones actuales y aumentar las presiones comunitarias contra el aborto selectivo por sexo. Las personas pobres, que carecen de educación e información, o de fondos para opciones más saludables, son más vulnerables al impacto de las ENT que los ricos y es probable que mueran antes. Directa e indirectamente, las ENT tendrán impactos de gran alcance en el progreso hacia los ODM.</td>\n",
       "      <td>3</td>\n",
       "    </tr>\n",
       "    <tr>\n",
       "      <th>3</th>\n",
       "      <td>Por ejemplo, el estado australiano de Victoria creó una agencia de promoción de la salud financiada con los impuestos sobre el tabaco, y varios estados de EE.UU. (California, Massachusetts, Arizona y Oregón) han destinado parte de los ingresos procedentes de los impuestos especiales sobre el tabaco a actividades de educación y control del tabaco, mientras que en Nueva Jersey, Ohio y Texas los ingresos procedentes del alcohol se utilizan para programas de educación y prevención relacionados con el alcohol (Sassi et al., 2004), Los impuestos locales pueden ser una fuente importante de ingresos, sobre todo en los sistemas sanitarios descentralizados (por ejemplo, Dinamarca, Finlandia, Italia y Suecia)17 . Además, el nivel de los impuestos locales puede fijarse en función de las preferencias locales sobre el nivel y la calidad de los servicios médicos. Sin embargo, en ausencia de un mecanismo de transferencia ajustado al riesgo y gestionado centralmente, la descentralización reduce la mancomunación de riesgos y podría dar lugar a mayores disparidades sanitarias interregionales.</td>\n",
       "      <td>3</td>\n",
       "    </tr>\n",
       "    <tr>\n",
       "      <th>4</th>\n",
       "      <td>El consumo anual de alcohol se estima en 15,7 litros al año para los hombres, más de un 50% por encima de la media de la OCDE (10,4) (Sistema mundial de información sobre alcohol y salud de la OMS), lo que puede ayudar a explicar la alta mortalidad por enfermedad hepática relacionada con el alcohol. Si bien la prevalencia de la obesidad en adultos es relativamente baja en comparación con muchos países de la OCDE, más del 30 % de las mujeres en Kazajstán son obesas, en comparación con el 16 % de los hombres (World Obesity, 2016), lo que coloca la tasa entre las mujeres a la par con algunos de los países más obesos de la OCDE. De hecho, una gran proporción de la brecha en la esperanza de vida se explica por una mayor mortalidad entre los jóvenes kazajos de 15 a 29 años, un grupo de edad en el que las tasas generales de mortalidad son más de tres veces más altas que en la UE de los 15.</td>\n",
       "      <td>3</td>\n",
       "    </tr>\n",
       "  </tbody>\n",
       "</table>\n",
       "</div>"
      ],
      "text/plain": [
       "                                                                                                                                                                                                                                                                                                                                                                                                                                                                                                                                                                                                                                                                                                                                                                                                                                                                                                                                                                                                                                                                                                                                                                                                                                            Textos_espanol  \\\n",
       "0                                                                                                                                                                                                                                                                                  Por ejemplo, el número de consultas externas de especialistas es de 319 por cada mil derechohabientes en el SP, en comparación con 338 y 620 por cada mil derechohabientes en el IMSS y el ISSSTE, respectivamente. Si bien algunas de estas diferencias pueden reflejar una necesidad desigual (como la población ligeramente mayor del ISSSTE), otras no pueden justificarse de esta manera. El número de recetas que no pudieron ser surtidas en su totalidad por un farmacéutico debido a la falta de existencias es de 33% dentro del SP en comparación con 14% dentro del IMSS según los datos de la encuesta (aunque las propias cifras de los institutos de la SS sugieren tasas más altas de recetas surtidas). Ambas cifras se encuentran entre las más altas de la OCDE. El gasto de bolsillo no se ha reducido significativamente en la última década, a pesar de los esfuerzos para lograr la cobertura sanitaria universal a través de la reforma del SP.   \n",
       "1                                                                                                                                                                                                                                                                                                                                                                                                                                                                                                                                                                                                                                                                                                                                                             En 2007, el gobierno central financió directamente solo el 0,3% del gasto total en salud, pero realizó transferencias específicas para el gasto en salud que ascendieron a otro 5,6% del gasto total. La mayor parte del gasto presupuestario en salud lo realizan los gobiernos de los condados. Por lo tanto, los condados pobres solo pueden ofrecer un bajo nivel de atención a la población local. El gobierno provincial proporciona subsidios del lado de la oferta a los hospitales.   \n",
       "2  Claramente, hay muchos otros factores en juego, en particular, una variedad de barreras y determinantes sociales. Estos pueden estar relacionados con el género, la clase, la etnia, la casta, el idioma y la religión, y surgen de estructuras, normas y procesos sociales arraigados que aceptan e incluso fomentan distribuciones injustas de la riqueza y los recursos sociales. Por ejemplo, las personas que viven con el VIH y algunas otras enfermedades crónicas enfrentan altos niveles de estigma y discriminación que dificultan su acceso a pruebas médicas, tratamiento, atención y apoyo. Por lo tanto, los gobiernos que buscan mejorar los estándares de salud querrán mejorar la condición de la mujer, brindar servicios de salud reproductiva efectivos, implementar programas integrales de lactancia materna en línea con las recomendaciones actuales y aumentar las presiones comunitarias contra el aborto selectivo por sexo. Las personas pobres, que carecen de educación e información, o de fondos para opciones más saludables, son más vulnerables al impacto de las ENT que los ricos y es probable que mueran antes. Directa e indirectamente, las ENT tendrán impactos de gran alcance en el progreso hacia los ODM.   \n",
       "3                                                                                                                       Por ejemplo, el estado australiano de Victoria creó una agencia de promoción de la salud financiada con los impuestos sobre el tabaco, y varios estados de EE.UU. (California, Massachusetts, Arizona y Oregón) han destinado parte de los ingresos procedentes de los impuestos especiales sobre el tabaco a actividades de educación y control del tabaco, mientras que en Nueva Jersey, Ohio y Texas los ingresos procedentes del alcohol se utilizan para programas de educación y prevención relacionados con el alcohol (Sassi et al., 2004), Los impuestos locales pueden ser una fuente importante de ingresos, sobre todo en los sistemas sanitarios descentralizados (por ejemplo, Dinamarca, Finlandia, Italia y Suecia)17 . Además, el nivel de los impuestos locales puede fijarse en función de las preferencias locales sobre el nivel y la calidad de los servicios médicos. Sin embargo, en ausencia de un mecanismo de transferencia ajustado al riesgo y gestionado centralmente, la descentralización reduce la mancomunación de riesgos y podría dar lugar a mayores disparidades sanitarias interregionales.   \n",
       "4                                                                                                                                                                                                                                                                                                                          El consumo anual de alcohol se estima en 15,7 litros al año para los hombres, más de un 50% por encima de la media de la OCDE (10,4) (Sistema mundial de información sobre alcohol y salud de la OMS), lo que puede ayudar a explicar la alta mortalidad por enfermedad hepática relacionada con el alcohol. Si bien la prevalencia de la obesidad en adultos es relativamente baja en comparación con muchos países de la OCDE, más del 30 % de las mujeres en Kazajstán son obesas, en comparación con el 16 % de los hombres (World Obesity, 2016), lo que coloca la tasa entre las mujeres a la par con algunos de los países más obesos de la OCDE. De hecho, una gran proporción de la brecha en la esperanza de vida se explica por una mayor mortalidad entre los jóvenes kazajos de 15 a 29 años, un grupo de edad en el que las tasas generales de mortalidad son más de tres veces más altas que en la UE de los 15.   \n",
       "\n",
       "   sdg  \n",
       "0    3  \n",
       "1    3  \n",
       "2    3  \n",
       "3    3  \n",
       "4    3  "
      ]
     },
     "execution_count": 1035,
     "metadata": {},
     "output_type": "execute_result"
    }
   ],
   "source": [
    "#Se verifica que se haya realizado la corrección\n",
    "data_t.head(5)"
   ]
  },
  {
   "cell_type": "markdown",
   "metadata": {},
   "source": [
    "### Eliminación de caracteres especiales y puntuación"
   ]
  },
  {
   "cell_type": "code",
   "execution_count": 1036,
   "metadata": {},
   "outputs": [],
   "source": [
    "import re\n",
    "import unicodedata\n",
    "import inflect\n",
    "from nltk.corpus import stopwords\n",
    "\n",
    "# Esta lista contiene las stop words en español\n",
    "spanish_stopwords = set(stopwords.words('spanish'))\n",
    "\n",
    "def remove_non_ascii(words):\n",
    "    \"\"\"Remove non-ASCII characters from list of tokenized words\"\"\"\n",
    "    new_words = []\n",
    "    for word in words:\n",
    "        new_word = unicodedata.normalize('NFKD', word).encode('ascii', 'ignore').decode('utf-8', 'ignore')\n",
    "        new_words.append(new_word)\n",
    "    return new_words\n",
    "\n",
    "def to_lowercase(words):\n",
    "    \"\"\"Convert all characters to lowercase from list of tokenized words\"\"\"\n",
    "    new_words = []\n",
    "    for word in words:\n",
    "        new_words.append(word.lower())\n",
    "    return new_words\n",
    "\n",
    "def remove_punctuation(words):\n",
    "    \"\"\"Remove punctuation from list of tokenized words\"\"\"\n",
    "    new_words = []\n",
    "    for word in words:\n",
    "        new_word = re.sub(r'[^\\w\\s]', '', word)\n",
    "        if new_word != '':\n",
    "            new_words.append(new_word)\n",
    "    return new_words\n",
    "\n",
    "def replace_numbers(words):\n",
    "    \"\"\"Replace all integer occurrences in list of tokenized words with textual representation\"\"\"\n",
    "    p = inflect.engine()\n",
    "    new_words = []\n",
    "    for word in words:\n",
    "        if word.isdigit():\n",
    "            new_word = p.number_to_words(word)\n",
    "            new_words.append(new_word)\n",
    "        else:\n",
    "            new_words.append(word)\n",
    "    return new_words\n",
    "\n",
    "def remove_stopwords(words):\n",
    "    \"\"\"Remove stop words from list of tokenized words\"\"\"\n",
    "    new_words = []\n",
    "    for word in words:\n",
    "        if word not in spanish_stopwords:\n",
    "            new_words.append(word)\n",
    "    return new_words\n",
    "\n",
    "def preprocessing(words):\n",
    "    words = to_lowercase(words)\n",
    "    words = replace_numbers(words)\n",
    "    words = remove_punctuation(words)\n",
    "    words = remove_non_ascii(words)\n",
    "    words = remove_stopwords(words)\n",
    "    return words\n"
   ]
  },
  {
   "cell_type": "markdown",
   "metadata": {},
   "source": [
    "### Tokenización"
   ]
  },
  {
   "cell_type": "code",
   "execution_count": 1037,
   "metadata": {},
   "outputs": [],
   "source": [
    "data_t['Textos_espanol'] = data_t['Textos_espanol'].apply(contractions.fix) #Aplica la corrección de las contracciones"
   ]
  },
  {
   "cell_type": "code",
   "execution_count": 1038,
   "metadata": {},
   "outputs": [
    {
     "data": {
      "text/html": [
       "<div>\n",
       "<style scoped>\n",
       "    .dataframe tbody tr th:only-of-type {\n",
       "        vertical-align: middle;\n",
       "    }\n",
       "\n",
       "    .dataframe tbody tr th {\n",
       "        vertical-align: top;\n",
       "    }\n",
       "\n",
       "    .dataframe thead th {\n",
       "        text-align: right;\n",
       "    }\n",
       "</style>\n",
       "<table border=\"1\" class=\"dataframe\">\n",
       "  <thead>\n",
       "    <tr style=\"text-align: right;\">\n",
       "      <th></th>\n",
       "      <th>Textos_espanol</th>\n",
       "      <th>sdg</th>\n",
       "      <th>words</th>\n",
       "    </tr>\n",
       "  </thead>\n",
       "  <tbody>\n",
       "    <tr>\n",
       "      <th>0</th>\n",
       "      <td>Por ejemplo, el número de consultas externas de especialistas es de 319 por cada mil derechohabientes en el SP, en comparación con 338 y 620 por cada mil derechohabientes en el IMSS y el ISSSTE, respectivamente. Si bien algunas de estas diferencias pueden reflejar una necesidad desigual (como la población ligeramente mayor del ISSSTE), otras no pueden justificarse de esta manera. El número de recetas que no pudieron ser surtidas en su totalidad por un farmacéutico debido a la falta de existencias es de 33% dentro del SP en comparación con 14% dentro del IMSS según los datos de la encuesta (aunque las propias cifras de los institutos de la SS sugieren tasas más altas de recetas surtidas). Ambas cifras se encuentran entre las más altas de la OCDE. El gasto de bolsillo no se ha reducido significativamente en la última década, a pesar de los esfuerzos para lograr la cobertura sanitaria universal a través de la reforma del SP.</td>\n",
       "      <td>3</td>\n",
       "      <td>[ejemplo, numero, consultas, externas, especialistas, three hundred and nineteen, cada, mil, derechohabientes, sp, comparacion, three hundred and thirtyeight, six hundred and twenty, cada, mil, derechohabientes, imss, issste, respectivamente, si, bien, diferencias, pueden, reflejar, necesidad, desigual, poblacion, ligeramente, mayor, issste, pueden, justificarse, manera, numero, recetas, pudieron, ser, surtidas, totalidad, farmaceutico, debido, falta, existencias, thirtythree, dentro, sp, comparacion, fourteen, dentro, imss, segun, datos, encuesta, aunque, propias, cifras, institutos, ss, sugieren, tasas, mas, altas, recetas, surtidas, ambas, cifras, encuentran, mas, altas, ocde, gasto, bolsillo, reducido, significativamente, ultima, decada, pesar, esfuerzos, lograr, cobertura, sanitaria, universal, traves, reforma, sp]</td>\n",
       "    </tr>\n",
       "    <tr>\n",
       "      <th>1</th>\n",
       "      <td>En 2007, el gobierno central financió directamente solo el 0,3% del gasto total en salud, pero realizó transferencias específicas para el gasto en salud que ascendieron a otro 5,6% del gasto total. La mayor parte del gasto presupuestario en salud lo realizan los gobiernos de los condados. Por lo tanto, los condados pobres solo pueden ofrecer un bajo nivel de atención a la población local. El gobierno provincial proporciona subsidios del lado de la oferta a los hospitales.</td>\n",
       "      <td>3</td>\n",
       "      <td>[two thousand and seven, gobierno, central, financio, directamente, solo, 03, gasto, total, salud, realizo, transferencias, especificas, gasto, salud, ascendieron, 56, gasto, total, mayor, parte, gasto, presupuestario, salud, realizan, gobiernos, condados, condados, pobres, solo, pueden, ofrecer, bajo, nivel, atencion, poblacion, local, gobierno, provincial, proporciona, subsidios, lado, oferta, hospitales]</td>\n",
       "    </tr>\n",
       "    <tr>\n",
       "      <th>2</th>\n",
       "      <td>Claramente, hay muchos otros factores en juego, en particular, una variedad de barreras y determinantes sociales. Estos pueden estar relacionados con el género, la clase, la etnia, la casta, el idioma y la religión, y surgen de estructuras, normas y procesos sociales arraigados que aceptan e incluso fomentan distribuciones injustas de la riqueza y los recursos sociales. Por ejemplo, las personas que viven con el VIH y algunas otras enfermedades crónicas enfrentan altos niveles de estigma y discriminación que dificultan su acceso a pruebas médicas, tratamiento, atención y apoyo. Por lo tanto, los gobiernos que buscan mejorar los estándares de salud querrán mejorar la condición de la mujer, brindar servicios de salud reproductiva efectivos, implementar programas integrales de lactancia materna en línea con las recomendaciones actuales y aumentar las presiones comunitarias contra el aborto selectivo por sexo. Las personas pobres, que carecen de educación e información, o de fondos para opciones más saludables, son más vulnerables al impacto de las ENT que los ricos y es probable que mueran antes. Directa e indirectamente, las ENT tendrán impactos de gran alcance en el progreso hacia los ODM.</td>\n",
       "      <td>3</td>\n",
       "      <td>[claramente, factores, juego, particular, variedad, barreras, determinantes, sociales, pueden, relacionados, genero, clase, etnia, casta, idioma, religion, surgen, estructuras, normas, procesos, sociales, arraigados, aceptan, incluso, fomentan, distribuciones, injustas, riqueza, recursos, sociales, ejemplo, personas, viven, vih, enfermedades, cronicas, enfrentan, altos, niveles, estigma, discriminacion, dificultan, acceso, pruebas, medicas, tratamiento, atencion, apoyo, gobiernos, buscan, mejorar, estandares, salud, querran, mejorar, condicion, mujer, brindar, servicios, salud, reproductiva, efectivos, implementar, programas, integrales, lactancia, materna, linea, recomendaciones, actuales, aumentar, presiones, comunitarias, aborto, selectivo, sexo, personas, pobres, carecen, educacion, informacion, fondos, opciones, mas, saludables, mas, vulnerables, impacto, ent, ricos, probable, mueran, directa, indirectamente, ent, tendran, impactos, gran, alcance, progreso, ...]</td>\n",
       "    </tr>\n",
       "    <tr>\n",
       "      <th>3</th>\n",
       "      <td>Por ejemplo, el estado australiano de Victoria creó una agencia de promoción de la salud financiada con los impuestos sobre el tabaco, y varios estados de EE.UU. (California, Massachusetts, Arizona y Oregón) han destinado parte de los ingresos procedentes de los impuestos especiales sobre el tabaco a actividades de educación y control del tabaco, mientras que en Nueva Jersey, Ohio y Texas los ingresos procedentes del alcohol se utilizan para programas de educación y prevención relacionados con el alcohol (Sassi et al., 2004), Los impuestos locales pueden ser una fuente importante de ingresos, sobre todo en los sistemas sanitarios descentralizados (por ejemplo, Dinamarca, Finlandia, Italia y Suecia)17 . Además, el nivel de los impuestos locales puede fijarse en función de las preferencias locales sobre el nivel y la calidad de los servicios médicos. Sin embargo, en ausencia de un mecanismo de transferencia ajustado al riesgo y gestionado centralmente, la descentralización reduce la mancomunación de riesgos y podría dar lugar a mayores disparidades sanitarias interregionales.</td>\n",
       "      <td>3</td>\n",
       "      <td>[ejemplo, australiano, victoria, creo, agencia, promocion, salud, financiada, impuestos, tabaco, varios, eeuu, california, massachusetts, arizona, oregon, destinado, parte, ingresos, procedentes, impuestos, especiales, tabaco, actividades, educacion, control, tabaco, mientras, nueva, jersey, ohio, texas, ingresos, procedentes, alcohol, utilizan, programas, educacion, prevencion, relacionados, alcohol, sassi, et, two thousand and four, impuestos, locales, pueden, ser, fuente, importante, ingresos, sistemas, sanitarios, descentralizados, ejemplo, dinamarca, finlandia, italia, suecia, seventeen, ademas, nivel, impuestos, locales, puede, fijarse, funcion, preferencias, locales, nivel, calidad, servicios, medicos, embargo, ausencia, mecanismo, transferencia, ajustado, riesgo, gestionado, centralmente, descentralizacion, reduce, mancomunacion, riesgos, podria, dar, lugar, mayores, disparidades, sanitarias, interregionales]</td>\n",
       "    </tr>\n",
       "    <tr>\n",
       "      <th>4</th>\n",
       "      <td>El consumo anual de alcohol se estima en 15,7 litros al año para los hombres, más de un 50% por encima de la media de la OCDE (10,4) (Sistema mundial de información sobre alcohol y salud de la OMS), lo que puede ayudar a explicar la alta mortalidad por enfermedad hepática relacionada con el alcohol. Si bien la prevalencia de la obesidad en adultos es relativamente baja en comparación con muchos países de la OCDE, más del 30 % de las mujeres en Kazajstán son obesas, en comparación con el 16 % de los hombres (World Obesity, 2016), lo que coloca la tasa entre las mujeres a la par con algunos de los países más obesos de la OCDE. De hecho, una gran proporción de la brecha en la esperanza de vida se explica por una mayor mortalidad entre los jóvenes kazajos de 15 a 29 años, un grupo de edad en el que las tasas generales de mortalidad son más de tres veces más altas que en la UE de los 15.</td>\n",
       "      <td>3</td>\n",
       "      <td>[consumo, anual, alcohol, estima, 157, litros, ano, hombres, mas, fifty, encima, media, ocde, 104, sistema, mundial, informacion, alcohol, salud, oms, puede, ayudar, explicar, alta, mortalidad, enfermedad, hepatica, relacionada, alcohol, si, bien, prevalencia, obesidad, adultos, relativamente, baja, comparacion, paises, ocde, mas, thirty, mujeres, kazajstan, obesas, comparacion, sixteen, hombres, world, obesity, two thousand and sixteen, coloca, tasa, mujeres, par, paises, mas, obesos, ocde, hecho, gran, proporcion, brecha, esperanza, vida, explica, mayor, mortalidad, jovenes, kazajos, fifteen, twentynine, anos, grupo, edad, tasas, generales, mortalidad, mas, tres, veces, mas, altas, ue, fifteen]</td>\n",
       "    </tr>\n",
       "  </tbody>\n",
       "</table>\n",
       "</div>"
      ],
      "text/plain": [
       "                                                                                                                                                                                                                                                                                                                                                                                                                                                                                                                                                                                                                                                                                                                                                                                                                                                                                                                                                                                                                                                                                                                                                                                                                                            Textos_espanol  \\\n",
       "0                                                                                                                                                                                                                                                                                  Por ejemplo, el número de consultas externas de especialistas es de 319 por cada mil derechohabientes en el SP, en comparación con 338 y 620 por cada mil derechohabientes en el IMSS y el ISSSTE, respectivamente. Si bien algunas de estas diferencias pueden reflejar una necesidad desigual (como la población ligeramente mayor del ISSSTE), otras no pueden justificarse de esta manera. El número de recetas que no pudieron ser surtidas en su totalidad por un farmacéutico debido a la falta de existencias es de 33% dentro del SP en comparación con 14% dentro del IMSS según los datos de la encuesta (aunque las propias cifras de los institutos de la SS sugieren tasas más altas de recetas surtidas). Ambas cifras se encuentran entre las más altas de la OCDE. El gasto de bolsillo no se ha reducido significativamente en la última década, a pesar de los esfuerzos para lograr la cobertura sanitaria universal a través de la reforma del SP.   \n",
       "1                                                                                                                                                                                                                                                                                                                                                                                                                                                                                                                                                                                                                                                                                                                                                             En 2007, el gobierno central financió directamente solo el 0,3% del gasto total en salud, pero realizó transferencias específicas para el gasto en salud que ascendieron a otro 5,6% del gasto total. La mayor parte del gasto presupuestario en salud lo realizan los gobiernos de los condados. Por lo tanto, los condados pobres solo pueden ofrecer un bajo nivel de atención a la población local. El gobierno provincial proporciona subsidios del lado de la oferta a los hospitales.   \n",
       "2  Claramente, hay muchos otros factores en juego, en particular, una variedad de barreras y determinantes sociales. Estos pueden estar relacionados con el género, la clase, la etnia, la casta, el idioma y la religión, y surgen de estructuras, normas y procesos sociales arraigados que aceptan e incluso fomentan distribuciones injustas de la riqueza y los recursos sociales. Por ejemplo, las personas que viven con el VIH y algunas otras enfermedades crónicas enfrentan altos niveles de estigma y discriminación que dificultan su acceso a pruebas médicas, tratamiento, atención y apoyo. Por lo tanto, los gobiernos que buscan mejorar los estándares de salud querrán mejorar la condición de la mujer, brindar servicios de salud reproductiva efectivos, implementar programas integrales de lactancia materna en línea con las recomendaciones actuales y aumentar las presiones comunitarias contra el aborto selectivo por sexo. Las personas pobres, que carecen de educación e información, o de fondos para opciones más saludables, son más vulnerables al impacto de las ENT que los ricos y es probable que mueran antes. Directa e indirectamente, las ENT tendrán impactos de gran alcance en el progreso hacia los ODM.   \n",
       "3                                                                                                                       Por ejemplo, el estado australiano de Victoria creó una agencia de promoción de la salud financiada con los impuestos sobre el tabaco, y varios estados de EE.UU. (California, Massachusetts, Arizona y Oregón) han destinado parte de los ingresos procedentes de los impuestos especiales sobre el tabaco a actividades de educación y control del tabaco, mientras que en Nueva Jersey, Ohio y Texas los ingresos procedentes del alcohol se utilizan para programas de educación y prevención relacionados con el alcohol (Sassi et al., 2004), Los impuestos locales pueden ser una fuente importante de ingresos, sobre todo en los sistemas sanitarios descentralizados (por ejemplo, Dinamarca, Finlandia, Italia y Suecia)17 . Además, el nivel de los impuestos locales puede fijarse en función de las preferencias locales sobre el nivel y la calidad de los servicios médicos. Sin embargo, en ausencia de un mecanismo de transferencia ajustado al riesgo y gestionado centralmente, la descentralización reduce la mancomunación de riesgos y podría dar lugar a mayores disparidades sanitarias interregionales.   \n",
       "4                                                                                                                                                                                                                                                                                                                          El consumo anual de alcohol se estima en 15,7 litros al año para los hombres, más de un 50% por encima de la media de la OCDE (10,4) (Sistema mundial de información sobre alcohol y salud de la OMS), lo que puede ayudar a explicar la alta mortalidad por enfermedad hepática relacionada con el alcohol. Si bien la prevalencia de la obesidad en adultos es relativamente baja en comparación con muchos países de la OCDE, más del 30 % de las mujeres en Kazajstán son obesas, en comparación con el 16 % de los hombres (World Obesity, 2016), lo que coloca la tasa entre las mujeres a la par con algunos de los países más obesos de la OCDE. De hecho, una gran proporción de la brecha en la esperanza de vida se explica por una mayor mortalidad entre los jóvenes kazajos de 15 a 29 años, un grupo de edad en el que las tasas generales de mortalidad son más de tres veces más altas que en la UE de los 15.   \n",
       "\n",
       "   sdg  \\\n",
       "0    3   \n",
       "1    3   \n",
       "2    3   \n",
       "3    3   \n",
       "4    3   \n",
       "\n",
       "                                                                                                                                                                                                                                                                                                                                                                                                                                                                                                                                                                                                                                                                                                                                                                                                                                                                                                                                                                                                                   words  \n",
       "0                                                                                                                                                        [ejemplo, numero, consultas, externas, especialistas, three hundred and nineteen, cada, mil, derechohabientes, sp, comparacion, three hundred and thirtyeight, six hundred and twenty, cada, mil, derechohabientes, imss, issste, respectivamente, si, bien, diferencias, pueden, reflejar, necesidad, desigual, poblacion, ligeramente, mayor, issste, pueden, justificarse, manera, numero, recetas, pudieron, ser, surtidas, totalidad, farmaceutico, debido, falta, existencias, thirtythree, dentro, sp, comparacion, fourteen, dentro, imss, segun, datos, encuesta, aunque, propias, cifras, institutos, ss, sugieren, tasas, mas, altas, recetas, surtidas, ambas, cifras, encuentran, mas, altas, ocde, gasto, bolsillo, reducido, significativamente, ultima, decada, pesar, esfuerzos, lograr, cobertura, sanitaria, universal, traves, reforma, sp]  \n",
       "1                                                                                                                                                                                                                                                                                                                                                                                                                                                                                                                                                                                             [two thousand and seven, gobierno, central, financio, directamente, solo, 03, gasto, total, salud, realizo, transferencias, especificas, gasto, salud, ascendieron, 56, gasto, total, mayor, parte, gasto, presupuestario, salud, realizan, gobiernos, condados, condados, pobres, solo, pueden, ofrecer, bajo, nivel, atencion, poblacion, local, gobierno, provincial, proporciona, subsidios, lado, oferta, hospitales]  \n",
       "2  [claramente, factores, juego, particular, variedad, barreras, determinantes, sociales, pueden, relacionados, genero, clase, etnia, casta, idioma, religion, surgen, estructuras, normas, procesos, sociales, arraigados, aceptan, incluso, fomentan, distribuciones, injustas, riqueza, recursos, sociales, ejemplo, personas, viven, vih, enfermedades, cronicas, enfrentan, altos, niveles, estigma, discriminacion, dificultan, acceso, pruebas, medicas, tratamiento, atencion, apoyo, gobiernos, buscan, mejorar, estandares, salud, querran, mejorar, condicion, mujer, brindar, servicios, salud, reproductiva, efectivos, implementar, programas, integrales, lactancia, materna, linea, recomendaciones, actuales, aumentar, presiones, comunitarias, aborto, selectivo, sexo, personas, pobres, carecen, educacion, informacion, fondos, opciones, mas, saludables, mas, vulnerables, impacto, ent, ricos, probable, mueran, directa, indirectamente, ent, tendran, impactos, gran, alcance, progreso, ...]  \n",
       "3                                                     [ejemplo, australiano, victoria, creo, agencia, promocion, salud, financiada, impuestos, tabaco, varios, eeuu, california, massachusetts, arizona, oregon, destinado, parte, ingresos, procedentes, impuestos, especiales, tabaco, actividades, educacion, control, tabaco, mientras, nueva, jersey, ohio, texas, ingresos, procedentes, alcohol, utilizan, programas, educacion, prevencion, relacionados, alcohol, sassi, et, two thousand and four, impuestos, locales, pueden, ser, fuente, importante, ingresos, sistemas, sanitarios, descentralizados, ejemplo, dinamarca, finlandia, italia, suecia, seventeen, ademas, nivel, impuestos, locales, puede, fijarse, funcion, preferencias, locales, nivel, calidad, servicios, medicos, embargo, ausencia, mecanismo, transferencia, ajustado, riesgo, gestionado, centralmente, descentralizacion, reduce, mancomunacion, riesgos, podria, dar, lugar, mayores, disparidades, sanitarias, interregionales]  \n",
       "4                                                                                                                                                                                                                                                                                      [consumo, anual, alcohol, estima, 157, litros, ano, hombres, mas, fifty, encima, media, ocde, 104, sistema, mundial, informacion, alcohol, salud, oms, puede, ayudar, explicar, alta, mortalidad, enfermedad, hepatica, relacionada, alcohol, si, bien, prevalencia, obesidad, adultos, relativamente, baja, comparacion, paises, ocde, mas, thirty, mujeres, kazajstan, obesas, comparacion, sixteen, hombres, world, obesity, two thousand and sixteen, coloca, tasa, mujeres, par, paises, mas, obesos, ocde, hecho, gran, proporcion, brecha, esperanza, vida, explica, mayor, mortalidad, jovenes, kazajos, fifteen, twentynine, anos, grupo, edad, tasas, generales, mortalidad, mas, tres, veces, mas, altas, ue, fifteen]  "
      ]
     },
     "execution_count": 1038,
     "metadata": {},
     "output_type": "execute_result"
    }
   ],
   "source": [
    "data_t['words'] = data_t['Textos_espanol'].apply(word_tokenize).apply(preprocessing) #Aplica la eliminación del ruido\n",
    "data_t.head()"
   ]
  },
  {
   "cell_type": "markdown",
   "metadata": {},
   "source": [
    "### Normalización de texto"
   ]
  },
  {
   "cell_type": "code",
   "execution_count": 1039,
   "metadata": {},
   "outputs": [],
   "source": [
    "# Crear instancias de los stemmers y lematizadores\n",
    "stemmer = LancasterStemmer()\n",
    "lemmatizer = WordNetLemmatizer()\n",
    "\n",
    "def stem_words(words):\n",
    "    \"\"\"Stem words in list of tokenized words\"\"\"\n",
    "    stems = [stemmer.stem(word) for word in words]\n",
    "    return stems\n",
    "\n",
    "def lemmatize_verbs(words):\n",
    "    \"\"\"Lemmatize verbs in list of tokenized words\"\"\"\n",
    "    lemmas = []\n",
    "    for word in words:\n",
    "        pos = get_wordnet_pos(word)\n",
    "        if pos:\n",
    "            lemma = lemmatizer.lemmatize(word, pos)\n",
    "            lemmas.append(lemma)\n",
    "        else:\n",
    "            lemmas.append(word)\n",
    "    return lemmas\n",
    "\n",
    "def stem_and_lemmatize(words):\n",
    "    stems = stem_words(words)\n",
    "    lemmas = lemmatize_verbs(stems)\n",
    "    return lemmas\n",
    "\n",
    "def get_wordnet_pos(word):\n",
    "    \"\"\"Map POS tag to first character accepted by WordNetLemmatizer\"\"\"\n",
    "    tag = nltk.pos_tag([word])[0][1][0].upper()\n",
    "    tag_dict = {\"J\": wordnet.ADJ,\n",
    "                \"N\": wordnet.NOUN,\n",
    "                \"V\": wordnet.VERB,\n",
    "                \"R\": wordnet.ADV}\n",
    "    return tag_dict.get(tag, wordnet.NOUN)\n"
   ]
  },
  {
   "cell_type": "code",
   "execution_count": 1040,
   "metadata": {},
   "outputs": [
    {
     "data": {
      "text/html": [
       "<div>\n",
       "<style scoped>\n",
       "    .dataframe tbody tr th:only-of-type {\n",
       "        vertical-align: middle;\n",
       "    }\n",
       "\n",
       "    .dataframe tbody tr th {\n",
       "        vertical-align: top;\n",
       "    }\n",
       "\n",
       "    .dataframe thead th {\n",
       "        text-align: right;\n",
       "    }\n",
       "</style>\n",
       "<table border=\"1\" class=\"dataframe\">\n",
       "  <thead>\n",
       "    <tr style=\"text-align: right;\">\n",
       "      <th></th>\n",
       "      <th>Textos_espanol</th>\n",
       "      <th>sdg</th>\n",
       "      <th>words</th>\n",
       "    </tr>\n",
       "  </thead>\n",
       "  <tbody>\n",
       "    <tr>\n",
       "      <th>0</th>\n",
       "      <td>Por ejemplo, el número de consultas externas de especialistas es de 319 por cada mil derechohabientes en el SP, en comparación con 338 y 620 por cada mil derechohabientes en el IMSS y el ISSSTE, respectivamente. Si bien algunas de estas diferencias pueden reflejar una necesidad desigual (como la población ligeramente mayor del ISSSTE), otras no pueden justificarse de esta manera. El número de recetas que no pudieron ser surtidas en su totalidad por un farmacéutico debido a la falta de existencias es de 33% dentro del SP en comparación con 14% dentro del IMSS según los datos de la encuesta (aunque las propias cifras de los institutos de la SS sugieren tasas más altas de recetas surtidas). Ambas cifras se encuentran entre las más altas de la OCDE. El gasto de bolsillo no se ha reducido significativamente en la última década, a pesar de los esfuerzos para lograr la cobertura sanitaria universal a través de la reforma del SP.</td>\n",
       "      <td>3</td>\n",
       "      <td>[ejemplo, numero, consultas, externas, especialistas, three hundred and nineteen, cada, mil, derechohabientes, sp, comparacion, three hundred and thirtyeight, six hundred and twenty, cada, mil, derechohabientes, imss, issste, respectivamente, si, bien, diferencias, pueden, reflejar, necesidad, desigual, poblacion, ligeramente, mayor, issste, pueden, justificarse, manera, numero, recetas, pudieron, ser, surtidas, totalidad, farmaceutico, debido, falta, existencias, thirtythree, dentro, sp, comparacion, fourteen, dentro, imss, segun, datos, encuesta, aunque, propias, cifras, institutos, ss, sugieren, tasas, mas, altas, recetas, surtidas, ambas, cifras, encuentran, mas, altas, ocde, gasto, bolsillo, reducido, significativamente, ultima, decada, pesar, esfuerzos, lograr, cobertura, sanitaria, universal, traves, reforma, sp]</td>\n",
       "    </tr>\n",
       "    <tr>\n",
       "      <th>1</th>\n",
       "      <td>En 2007, el gobierno central financió directamente solo el 0,3% del gasto total en salud, pero realizó transferencias específicas para el gasto en salud que ascendieron a otro 5,6% del gasto total. La mayor parte del gasto presupuestario en salud lo realizan los gobiernos de los condados. Por lo tanto, los condados pobres solo pueden ofrecer un bajo nivel de atención a la población local. El gobierno provincial proporciona subsidios del lado de la oferta a los hospitales.</td>\n",
       "      <td>3</td>\n",
       "      <td>[two thousand and seven, gobierno, central, financio, directamente, solo, 03, gasto, total, salud, realizo, transferencias, especificas, gasto, salud, ascendieron, 56, gasto, total, mayor, parte, gasto, presupuestario, salud, realizan, gobiernos, condados, condados, pobres, solo, pueden, ofrecer, bajo, nivel, atencion, poblacion, local, gobierno, provincial, proporciona, subsidios, lado, oferta, hospitales]</td>\n",
       "    </tr>\n",
       "    <tr>\n",
       "      <th>2</th>\n",
       "      <td>Claramente, hay muchos otros factores en juego, en particular, una variedad de barreras y determinantes sociales. Estos pueden estar relacionados con el género, la clase, la etnia, la casta, el idioma y la religión, y surgen de estructuras, normas y procesos sociales arraigados que aceptan e incluso fomentan distribuciones injustas de la riqueza y los recursos sociales. Por ejemplo, las personas que viven con el VIH y algunas otras enfermedades crónicas enfrentan altos niveles de estigma y discriminación que dificultan su acceso a pruebas médicas, tratamiento, atención y apoyo. Por lo tanto, los gobiernos que buscan mejorar los estándares de salud querrán mejorar la condición de la mujer, brindar servicios de salud reproductiva efectivos, implementar programas integrales de lactancia materna en línea con las recomendaciones actuales y aumentar las presiones comunitarias contra el aborto selectivo por sexo. Las personas pobres, que carecen de educación e información, o de fondos para opciones más saludables, son más vulnerables al impacto de las ENT que los ricos y es probable que mueran antes. Directa e indirectamente, las ENT tendrán impactos de gran alcance en el progreso hacia los ODM.</td>\n",
       "      <td>3</td>\n",
       "      <td>[claramente, factores, juego, particular, variedad, barreras, determinantes, sociales, pueden, relacionados, genero, clase, etnia, casta, idioma, religion, surgen, estructuras, normas, procesos, sociales, arraigados, aceptan, incluso, fomentan, distribuciones, injustas, riqueza, recursos, sociales, ejemplo, personas, viven, vih, enfermedades, cronicas, enfrentan, altos, niveles, estigma, discriminacion, dificultan, acceso, pruebas, medicas, tratamiento, atencion, apoyo, gobiernos, buscan, mejorar, estandares, salud, querran, mejorar, condicion, mujer, brindar, servicios, salud, reproductiva, efectivos, implementar, programas, integrales, lactancia, materna, linea, recomendaciones, actuales, aumentar, presiones, comunitarias, aborto, selectivo, sexo, personas, pobres, carecen, educacion, informacion, fondos, opciones, mas, saludables, mas, vulnerables, impacto, ent, ricos, probable, mueran, directa, indirectamente, ent, tendran, impactos, gran, alcance, progreso, ...]</td>\n",
       "    </tr>\n",
       "    <tr>\n",
       "      <th>3</th>\n",
       "      <td>Por ejemplo, el estado australiano de Victoria creó una agencia de promoción de la salud financiada con los impuestos sobre el tabaco, y varios estados de EE.UU. (California, Massachusetts, Arizona y Oregón) han destinado parte de los ingresos procedentes de los impuestos especiales sobre el tabaco a actividades de educación y control del tabaco, mientras que en Nueva Jersey, Ohio y Texas los ingresos procedentes del alcohol se utilizan para programas de educación y prevención relacionados con el alcohol (Sassi et al., 2004), Los impuestos locales pueden ser una fuente importante de ingresos, sobre todo en los sistemas sanitarios descentralizados (por ejemplo, Dinamarca, Finlandia, Italia y Suecia)17 . Además, el nivel de los impuestos locales puede fijarse en función de las preferencias locales sobre el nivel y la calidad de los servicios médicos. Sin embargo, en ausencia de un mecanismo de transferencia ajustado al riesgo y gestionado centralmente, la descentralización reduce la mancomunación de riesgos y podría dar lugar a mayores disparidades sanitarias interregionales.</td>\n",
       "      <td>3</td>\n",
       "      <td>[ejemplo, australiano, victoria, creo, agencia, promocion, salud, financiada, impuestos, tabaco, varios, eeuu, california, massachusetts, arizona, oregon, destinado, parte, ingresos, procedentes, impuestos, especiales, tabaco, actividades, educacion, control, tabaco, mientras, nueva, jersey, ohio, texas, ingresos, procedentes, alcohol, utilizan, programas, educacion, prevencion, relacionados, alcohol, sassi, et, two thousand and four, impuestos, locales, pueden, ser, fuente, importante, ingresos, sistemas, sanitarios, descentralizados, ejemplo, dinamarca, finlandia, italia, suecia, seventeen, ademas, nivel, impuestos, locales, puede, fijarse, funcion, preferencias, locales, nivel, calidad, servicios, medicos, embargo, ausencia, mecanismo, transferencia, ajustado, riesgo, gestionado, centralmente, descentralizacion, reduce, mancomunacion, riesgos, podria, dar, lugar, mayores, disparidades, sanitarias, interregionales]</td>\n",
       "    </tr>\n",
       "    <tr>\n",
       "      <th>4</th>\n",
       "      <td>El consumo anual de alcohol se estima en 15,7 litros al año para los hombres, más de un 50% por encima de la media de la OCDE (10,4) (Sistema mundial de información sobre alcohol y salud de la OMS), lo que puede ayudar a explicar la alta mortalidad por enfermedad hepática relacionada con el alcohol. Si bien la prevalencia de la obesidad en adultos es relativamente baja en comparación con muchos países de la OCDE, más del 30 % de las mujeres en Kazajstán son obesas, en comparación con el 16 % de los hombres (World Obesity, 2016), lo que coloca la tasa entre las mujeres a la par con algunos de los países más obesos de la OCDE. De hecho, una gran proporción de la brecha en la esperanza de vida se explica por una mayor mortalidad entre los jóvenes kazajos de 15 a 29 años, un grupo de edad en el que las tasas generales de mortalidad son más de tres veces más altas que en la UE de los 15.</td>\n",
       "      <td>3</td>\n",
       "      <td>[consumo, anual, alcohol, estima, 157, litros, ano, hombres, mas, fifty, encima, media, ocde, 104, sistema, mundial, informacion, alcohol, salud, oms, puede, ayudar, explicar, alta, mortalidad, enfermedad, hepatica, relacionada, alcohol, si, bien, prevalencia, obesidad, adultos, relativamente, baja, comparacion, paises, ocde, mas, thirty, mujeres, kazajstan, obesas, comparacion, sixteen, hombres, world, obesity, two thousand and sixteen, coloca, tasa, mujeres, par, paises, mas, obesos, ocde, hecho, gran, proporcion, brecha, esperanza, vida, explica, mayor, mortalidad, jovenes, kazajos, fifteen, twentynine, anos, grupo, edad, tasas, generales, mortalidad, mas, tres, veces, mas, altas, ue, fifteen]</td>\n",
       "    </tr>\n",
       "  </tbody>\n",
       "</table>\n",
       "</div>"
      ],
      "text/plain": [
       "                                                                                                                                                                                                                                                                                                                                                                                                                                                                                                                                                                                                                                                                                                                                                                                                                                                                                                                                                                                                                                                                                                                                                                                                                                            Textos_espanol  \\\n",
       "0                                                                                                                                                                                                                                                                                  Por ejemplo, el número de consultas externas de especialistas es de 319 por cada mil derechohabientes en el SP, en comparación con 338 y 620 por cada mil derechohabientes en el IMSS y el ISSSTE, respectivamente. Si bien algunas de estas diferencias pueden reflejar una necesidad desigual (como la población ligeramente mayor del ISSSTE), otras no pueden justificarse de esta manera. El número de recetas que no pudieron ser surtidas en su totalidad por un farmacéutico debido a la falta de existencias es de 33% dentro del SP en comparación con 14% dentro del IMSS según los datos de la encuesta (aunque las propias cifras de los institutos de la SS sugieren tasas más altas de recetas surtidas). Ambas cifras se encuentran entre las más altas de la OCDE. El gasto de bolsillo no se ha reducido significativamente en la última década, a pesar de los esfuerzos para lograr la cobertura sanitaria universal a través de la reforma del SP.   \n",
       "1                                                                                                                                                                                                                                                                                                                                                                                                                                                                                                                                                                                                                                                                                                                                                             En 2007, el gobierno central financió directamente solo el 0,3% del gasto total en salud, pero realizó transferencias específicas para el gasto en salud que ascendieron a otro 5,6% del gasto total. La mayor parte del gasto presupuestario en salud lo realizan los gobiernos de los condados. Por lo tanto, los condados pobres solo pueden ofrecer un bajo nivel de atención a la población local. El gobierno provincial proporciona subsidios del lado de la oferta a los hospitales.   \n",
       "2  Claramente, hay muchos otros factores en juego, en particular, una variedad de barreras y determinantes sociales. Estos pueden estar relacionados con el género, la clase, la etnia, la casta, el idioma y la religión, y surgen de estructuras, normas y procesos sociales arraigados que aceptan e incluso fomentan distribuciones injustas de la riqueza y los recursos sociales. Por ejemplo, las personas que viven con el VIH y algunas otras enfermedades crónicas enfrentan altos niveles de estigma y discriminación que dificultan su acceso a pruebas médicas, tratamiento, atención y apoyo. Por lo tanto, los gobiernos que buscan mejorar los estándares de salud querrán mejorar la condición de la mujer, brindar servicios de salud reproductiva efectivos, implementar programas integrales de lactancia materna en línea con las recomendaciones actuales y aumentar las presiones comunitarias contra el aborto selectivo por sexo. Las personas pobres, que carecen de educación e información, o de fondos para opciones más saludables, son más vulnerables al impacto de las ENT que los ricos y es probable que mueran antes. Directa e indirectamente, las ENT tendrán impactos de gran alcance en el progreso hacia los ODM.   \n",
       "3                                                                                                                       Por ejemplo, el estado australiano de Victoria creó una agencia de promoción de la salud financiada con los impuestos sobre el tabaco, y varios estados de EE.UU. (California, Massachusetts, Arizona y Oregón) han destinado parte de los ingresos procedentes de los impuestos especiales sobre el tabaco a actividades de educación y control del tabaco, mientras que en Nueva Jersey, Ohio y Texas los ingresos procedentes del alcohol se utilizan para programas de educación y prevención relacionados con el alcohol (Sassi et al., 2004), Los impuestos locales pueden ser una fuente importante de ingresos, sobre todo en los sistemas sanitarios descentralizados (por ejemplo, Dinamarca, Finlandia, Italia y Suecia)17 . Además, el nivel de los impuestos locales puede fijarse en función de las preferencias locales sobre el nivel y la calidad de los servicios médicos. Sin embargo, en ausencia de un mecanismo de transferencia ajustado al riesgo y gestionado centralmente, la descentralización reduce la mancomunación de riesgos y podría dar lugar a mayores disparidades sanitarias interregionales.   \n",
       "4                                                                                                                                                                                                                                                                                                                          El consumo anual de alcohol se estima en 15,7 litros al año para los hombres, más de un 50% por encima de la media de la OCDE (10,4) (Sistema mundial de información sobre alcohol y salud de la OMS), lo que puede ayudar a explicar la alta mortalidad por enfermedad hepática relacionada con el alcohol. Si bien la prevalencia de la obesidad en adultos es relativamente baja en comparación con muchos países de la OCDE, más del 30 % de las mujeres en Kazajstán son obesas, en comparación con el 16 % de los hombres (World Obesity, 2016), lo que coloca la tasa entre las mujeres a la par con algunos de los países más obesos de la OCDE. De hecho, una gran proporción de la brecha en la esperanza de vida se explica por una mayor mortalidad entre los jóvenes kazajos de 15 a 29 años, un grupo de edad en el que las tasas generales de mortalidad son más de tres veces más altas que en la UE de los 15.   \n",
       "\n",
       "   sdg  \\\n",
       "0    3   \n",
       "1    3   \n",
       "2    3   \n",
       "3    3   \n",
       "4    3   \n",
       "\n",
       "                                                                                                                                                                                                                                                                                                                                                                                                                                                                                                                                                                                                                                                                                                                                                                                                                                                                                                                                                                                                                   words  \n",
       "0                                                                                                                                                        [ejemplo, numero, consultas, externas, especialistas, three hundred and nineteen, cada, mil, derechohabientes, sp, comparacion, three hundred and thirtyeight, six hundred and twenty, cada, mil, derechohabientes, imss, issste, respectivamente, si, bien, diferencias, pueden, reflejar, necesidad, desigual, poblacion, ligeramente, mayor, issste, pueden, justificarse, manera, numero, recetas, pudieron, ser, surtidas, totalidad, farmaceutico, debido, falta, existencias, thirtythree, dentro, sp, comparacion, fourteen, dentro, imss, segun, datos, encuesta, aunque, propias, cifras, institutos, ss, sugieren, tasas, mas, altas, recetas, surtidas, ambas, cifras, encuentran, mas, altas, ocde, gasto, bolsillo, reducido, significativamente, ultima, decada, pesar, esfuerzos, lograr, cobertura, sanitaria, universal, traves, reforma, sp]  \n",
       "1                                                                                                                                                                                                                                                                                                                                                                                                                                                                                                                                                                                             [two thousand and seven, gobierno, central, financio, directamente, solo, 03, gasto, total, salud, realizo, transferencias, especificas, gasto, salud, ascendieron, 56, gasto, total, mayor, parte, gasto, presupuestario, salud, realizan, gobiernos, condados, condados, pobres, solo, pueden, ofrecer, bajo, nivel, atencion, poblacion, local, gobierno, provincial, proporciona, subsidios, lado, oferta, hospitales]  \n",
       "2  [claramente, factores, juego, particular, variedad, barreras, determinantes, sociales, pueden, relacionados, genero, clase, etnia, casta, idioma, religion, surgen, estructuras, normas, procesos, sociales, arraigados, aceptan, incluso, fomentan, distribuciones, injustas, riqueza, recursos, sociales, ejemplo, personas, viven, vih, enfermedades, cronicas, enfrentan, altos, niveles, estigma, discriminacion, dificultan, acceso, pruebas, medicas, tratamiento, atencion, apoyo, gobiernos, buscan, mejorar, estandares, salud, querran, mejorar, condicion, mujer, brindar, servicios, salud, reproductiva, efectivos, implementar, programas, integrales, lactancia, materna, linea, recomendaciones, actuales, aumentar, presiones, comunitarias, aborto, selectivo, sexo, personas, pobres, carecen, educacion, informacion, fondos, opciones, mas, saludables, mas, vulnerables, impacto, ent, ricos, probable, mueran, directa, indirectamente, ent, tendran, impactos, gran, alcance, progreso, ...]  \n",
       "3                                                     [ejemplo, australiano, victoria, creo, agencia, promocion, salud, financiada, impuestos, tabaco, varios, eeuu, california, massachusetts, arizona, oregon, destinado, parte, ingresos, procedentes, impuestos, especiales, tabaco, actividades, educacion, control, tabaco, mientras, nueva, jersey, ohio, texas, ingresos, procedentes, alcohol, utilizan, programas, educacion, prevencion, relacionados, alcohol, sassi, et, two thousand and four, impuestos, locales, pueden, ser, fuente, importante, ingresos, sistemas, sanitarios, descentralizados, ejemplo, dinamarca, finlandia, italia, suecia, seventeen, ademas, nivel, impuestos, locales, puede, fijarse, funcion, preferencias, locales, nivel, calidad, servicios, medicos, embargo, ausencia, mecanismo, transferencia, ajustado, riesgo, gestionado, centralmente, descentralizacion, reduce, mancomunacion, riesgos, podria, dar, lugar, mayores, disparidades, sanitarias, interregionales]  \n",
       "4                                                                                                                                                                                                                                                                                      [consumo, anual, alcohol, estima, 157, litros, ano, hombres, mas, fifty, encima, media, ocde, 104, sistema, mundial, informacion, alcohol, salud, oms, puede, ayudar, explicar, alta, mortalidad, enfermedad, hepatica, relacionada, alcohol, si, bien, prevalencia, obesidad, adultos, relativamente, baja, comparacion, paises, ocde, mas, thirty, mujeres, kazajstan, obesas, comparacion, sixteen, hombres, world, obesity, two thousand and sixteen, coloca, tasa, mujeres, par, paises, mas, obesos, ocde, hecho, gran, proporcion, brecha, esperanza, vida, explica, mayor, mortalidad, jovenes, kazajos, fifteen, twentynine, anos, grupo, edad, tasas, generales, mortalidad, mas, tres, veces, mas, altas, ue, fifteen]  "
      ]
     },
     "execution_count": 1040,
     "metadata": {},
     "output_type": "execute_result"
    }
   ],
   "source": [
    "#Se verifica que se haya realizado la corrección\n",
    "data_t.head(5)"
   ]
  },
  {
   "cell_type": "markdown",
   "metadata": {},
   "source": [
    "Selección de campos"
   ]
  },
  {
   "cell_type": "code",
   "execution_count": 1041,
   "metadata": {},
   "outputs": [
    {
     "data": {
      "text/html": [
       "<div>\n",
       "<style scoped>\n",
       "    .dataframe tbody tr th:only-of-type {\n",
       "        vertical-align: middle;\n",
       "    }\n",
       "\n",
       "    .dataframe tbody tr th {\n",
       "        vertical-align: top;\n",
       "    }\n",
       "\n",
       "    .dataframe thead th {\n",
       "        text-align: right;\n",
       "    }\n",
       "</style>\n",
       "<table border=\"1\" class=\"dataframe\">\n",
       "  <thead>\n",
       "    <tr style=\"text-align: right;\">\n",
       "      <th></th>\n",
       "      <th>Textos_espanol</th>\n",
       "      <th>sdg</th>\n",
       "      <th>words</th>\n",
       "    </tr>\n",
       "  </thead>\n",
       "  <tbody>\n",
       "    <tr>\n",
       "      <th>0</th>\n",
       "      <td>Por ejemplo, el número de consultas externas de especialistas es de 319 por cada mil derechohabientes en el SP, en comparación con 338 y 620 por cada mil derechohabientes en el IMSS y el ISSSTE, respectivamente. Si bien algunas de estas diferencias pueden reflejar una necesidad desigual (como la población ligeramente mayor del ISSSTE), otras no pueden justificarse de esta manera. El número de recetas que no pudieron ser surtidas en su totalidad por un farmacéutico debido a la falta de existencias es de 33% dentro del SP en comparación con 14% dentro del IMSS según los datos de la encuesta (aunque las propias cifras de los institutos de la SS sugieren tasas más altas de recetas surtidas). Ambas cifras se encuentran entre las más altas de la OCDE. El gasto de bolsillo no se ha reducido significativamente en la última década, a pesar de los esfuerzos para lograr la cobertura sanitaria universal a través de la reforma del SP.</td>\n",
       "      <td>3</td>\n",
       "      <td>ejemplo numero consultas externas especialistas three hundred and nineteen cada mil derechohabientes sp comparacion three hundred and thirtyeight six hundred and twenty cada mil derechohabientes imss issste respectivamente si bien diferencias pueden reflejar necesidad desigual poblacion ligeramente mayor issste pueden justificarse manera numero recetas pudieron ser surtidas totalidad farmaceutico debido falta existencias thirtythree dentro sp comparacion fourteen dentro imss segun datos encuesta aunque propias cifras institutos ss sugieren tasas mas altas recetas surtidas ambas cifras encuentran mas altas ocde gasto bolsillo reducido significativamente ultima decada pesar esfuerzos lograr cobertura sanitaria universal traves reforma sp</td>\n",
       "    </tr>\n",
       "    <tr>\n",
       "      <th>1</th>\n",
       "      <td>En 2007, el gobierno central financió directamente solo el 0,3% del gasto total en salud, pero realizó transferencias específicas para el gasto en salud que ascendieron a otro 5,6% del gasto total. La mayor parte del gasto presupuestario en salud lo realizan los gobiernos de los condados. Por lo tanto, los condados pobres solo pueden ofrecer un bajo nivel de atención a la población local. El gobierno provincial proporciona subsidios del lado de la oferta a los hospitales.</td>\n",
       "      <td>3</td>\n",
       "      <td>two thousand and seven gobierno central financio directamente solo 03 gasto total salud realizo transferencias especificas gasto salud ascendieron 56 gasto total mayor parte gasto presupuestario salud realizan gobiernos condados condados pobres solo pueden ofrecer bajo nivel atencion poblacion local gobierno provincial proporciona subsidios lado oferta hospitales</td>\n",
       "    </tr>\n",
       "    <tr>\n",
       "      <th>2</th>\n",
       "      <td>Claramente, hay muchos otros factores en juego, en particular, una variedad de barreras y determinantes sociales. Estos pueden estar relacionados con el género, la clase, la etnia, la casta, el idioma y la religión, y surgen de estructuras, normas y procesos sociales arraigados que aceptan e incluso fomentan distribuciones injustas de la riqueza y los recursos sociales. Por ejemplo, las personas que viven con el VIH y algunas otras enfermedades crónicas enfrentan altos niveles de estigma y discriminación que dificultan su acceso a pruebas médicas, tratamiento, atención y apoyo. Por lo tanto, los gobiernos que buscan mejorar los estándares de salud querrán mejorar la condición de la mujer, brindar servicios de salud reproductiva efectivos, implementar programas integrales de lactancia materna en línea con las recomendaciones actuales y aumentar las presiones comunitarias contra el aborto selectivo por sexo. Las personas pobres, que carecen de educación e información, o de fondos para opciones más saludables, son más vulnerables al impacto de las ENT que los ricos y es probable que mueran antes. Directa e indirectamente, las ENT tendrán impactos de gran alcance en el progreso hacia los ODM.</td>\n",
       "      <td>3</td>\n",
       "      <td>claramente factores juego particular variedad barreras determinantes sociales pueden relacionados genero clase etnia casta idioma religion surgen estructuras normas procesos sociales arraigados aceptan incluso fomentan distribuciones injustas riqueza recursos sociales ejemplo personas viven vih enfermedades cronicas enfrentan altos niveles estigma discriminacion dificultan acceso pruebas medicas tratamiento atencion apoyo gobiernos buscan mejorar estandares salud querran mejorar condicion mujer brindar servicios salud reproductiva efectivos implementar programas integrales lactancia materna linea recomendaciones actuales aumentar presiones comunitarias aborto selectivo sexo personas pobres carecen educacion informacion fondos opciones mas saludables mas vulnerables impacto ent ricos probable mueran directa indirectamente ent tendran impactos gran alcance progreso hacia odm</td>\n",
       "    </tr>\n",
       "    <tr>\n",
       "      <th>3</th>\n",
       "      <td>Por ejemplo, el estado australiano de Victoria creó una agencia de promoción de la salud financiada con los impuestos sobre el tabaco, y varios estados de EE.UU. (California, Massachusetts, Arizona y Oregón) han destinado parte de los ingresos procedentes de los impuestos especiales sobre el tabaco a actividades de educación y control del tabaco, mientras que en Nueva Jersey, Ohio y Texas los ingresos procedentes del alcohol se utilizan para programas de educación y prevención relacionados con el alcohol (Sassi et al., 2004), Los impuestos locales pueden ser una fuente importante de ingresos, sobre todo en los sistemas sanitarios descentralizados (por ejemplo, Dinamarca, Finlandia, Italia y Suecia)17 . Además, el nivel de los impuestos locales puede fijarse en función de las preferencias locales sobre el nivel y la calidad de los servicios médicos. Sin embargo, en ausencia de un mecanismo de transferencia ajustado al riesgo y gestionado centralmente, la descentralización reduce la mancomunación de riesgos y podría dar lugar a mayores disparidades sanitarias interregionales.</td>\n",
       "      <td>3</td>\n",
       "      <td>ejemplo australiano victoria creo agencia promocion salud financiada impuestos tabaco varios eeuu california massachusetts arizona oregon destinado parte ingresos procedentes impuestos especiales tabaco actividades educacion control tabaco mientras nueva jersey ohio texas ingresos procedentes alcohol utilizan programas educacion prevencion relacionados alcohol sassi et two thousand and four impuestos locales pueden ser fuente importante ingresos sistemas sanitarios descentralizados ejemplo dinamarca finlandia italia suecia seventeen ademas nivel impuestos locales puede fijarse funcion preferencias locales nivel calidad servicios medicos embargo ausencia mecanismo transferencia ajustado riesgo gestionado centralmente descentralizacion reduce mancomunacion riesgos podria dar lugar mayores disparidades sanitarias interregionales</td>\n",
       "    </tr>\n",
       "    <tr>\n",
       "      <th>4</th>\n",
       "      <td>El consumo anual de alcohol se estima en 15,7 litros al año para los hombres, más de un 50% por encima de la media de la OCDE (10,4) (Sistema mundial de información sobre alcohol y salud de la OMS), lo que puede ayudar a explicar la alta mortalidad por enfermedad hepática relacionada con el alcohol. Si bien la prevalencia de la obesidad en adultos es relativamente baja en comparación con muchos países de la OCDE, más del 30 % de las mujeres en Kazajstán son obesas, en comparación con el 16 % de los hombres (World Obesity, 2016), lo que coloca la tasa entre las mujeres a la par con algunos de los países más obesos de la OCDE. De hecho, una gran proporción de la brecha en la esperanza de vida se explica por una mayor mortalidad entre los jóvenes kazajos de 15 a 29 años, un grupo de edad en el que las tasas generales de mortalidad son más de tres veces más altas que en la UE de los 15.</td>\n",
       "      <td>3</td>\n",
       "      <td>consumo anual alcohol estima 157 litros ano hombres mas fifty encima media ocde 104 sistema mundial informacion alcohol salud oms puede ayudar explicar alta mortalidad enfermedad hepatica relacionada alcohol si bien prevalencia obesidad adultos relativamente baja comparacion paises ocde mas thirty mujeres kazajstan obesas comparacion sixteen hombres world obesity two thousand and sixteen coloca tasa mujeres par paises mas obesos ocde hecho gran proporcion brecha esperanza vida explica mayor mortalidad jovenes kazajos fifteen twentynine anos grupo edad tasas generales mortalidad mas tres veces mas altas ue fifteen</td>\n",
       "    </tr>\n",
       "    <tr>\n",
       "      <th>...</th>\n",
       "      <td>...</td>\n",
       "      <td>...</td>\n",
       "      <td>...</td>\n",
       "    </tr>\n",
       "    <tr>\n",
       "      <th>2995</th>\n",
       "      <td>Un caucus efectivo se basa en fuertes vínculos con grupos nacionales de mujeres, OSC e institutos de investigación y universidades. El Consejo continúa el trabajo del Consejo Interinstitucional posterior a Beijing y la Oficina de Iniciativas y Alcance de la Mujer de la Casa Blanca. Su objetivo es proporcionar \"una respuesta federal coordinada a los desafíos que enfrentan las mujeres y las niñas\" y garantizar \"que todos los gabinetes y agencias a nivel de gabinete consideren cómo sus políticas y programas responden a las necesidades y necesidades de las mujeres y las niñas\". impactarlos.â€</td>\n",
       "      <td>5</td>\n",
       "      <td>caucus efectivo basa fuertes vinculos grupos nacionales mujeres osc institutos investigacion universidades consejo continua trabajo consejo interinstitucional posterior beijing oficina iniciativas alcance mujer casa blanca objetivo proporcionar respuesta federal coordinada desafios enfrentan mujeres ninas garantizar gabinetes agencias nivel gabinete consideren politicas programas responden necesidades necesidades mujeres ninas impactarlosa</td>\n",
       "    </tr>\n",
       "    <tr>\n",
       "      <th>2996</th>\n",
       "      <td>Por el contrario, el porcentaje de hogares en edad de trabajar con un hombre que trabaja se mantuvo relativamente estable (en el 76%) a lo largo del tiempo en la mayorÃa de los paÃses (panel A). Alemania, sin embargo, fue testigo de un descenso significativo (de unos 15 puntos porcentuales) en la participación de los hombres en el empleo entre los hogares durante este perÃodo. A. Hogares con un trabajador masculino Panel. En España, por ejemplo, en 1995 sólo el 22% (25%) de los hogares contaban con una mujer que trabajaba a tiempo completo (todo el año), frente al 42% (52%) del año anterior a la crisis. Las mujeres neerlandesas trabajan ahora más semanas al año, aunque no más horas por semana.</td>\n",
       "      <td>5</td>\n",
       "      <td>contrario porcentaje hogares edad trabajar hombre trabaja mantuvo relativamente estable seventysix largo tiempo mayoraa paases panel alemania embargo testigo descenso significativo fifteen puntos porcentuales participacion hombres empleo hogares peraodo hogares trabajador masculino panel espana ejemplo one thousand nine hundred and ninetyfive solo twentytwo twentyfive hogares contaban mujer trabajaba tiempo completo ano frente fortytwo fiftytwo ano anterior crisis mujeres neerlandesas trabajan ahora mas semanas ano aunque mas horas semana</td>\n",
       "    </tr>\n",
       "    <tr>\n",
       "      <th>2997</th>\n",
       "      <td>El análisis utilizará una gama de medidas que reflejen las barreras básicas por un lado, y la asistencia por el otro, para la participación de las mujeres como agentes económicos productivos en los países de la Commonwealth. Según el Banco Mundial (Banco Mundial 2018a). Estas restricciones abarcan decisiones que afectan su movimiento, para conseguir un trabajo. Para muchas mujeres, estas decisiones no se pueden tomar sin el permiso de su marido.</td>\n",
       "      <td>5</td>\n",
       "      <td>analisis utilizara gama medidas reflejen barreras basicas lado asistencia participacion mujeres agentes economicos productivos paises commonwealth segun banco mundial banco mundial 2018a restricciones abarcan decisiones afectan movimiento conseguir trabajo muchas mujeres decisiones pueden tomar permiso marido</td>\n",
       "    </tr>\n",
       "    <tr>\n",
       "      <th>2998</th>\n",
       "      <td>La capacitación económica, el apoyo y, a veces, los incentivos que abordan las justificaciones económicas de las familias para casar a sus hijas a una edad temprana brindan alternativas al matrimonio y aumentan el valor de las niñas para sus familias de origen. Un ejemplo es Berhane-Hewan en Etiopía, que proporcionó a las familias una cabra mientras sus hijas permanecieran en el programa y permanecieran solteras hasta los 18 años (Karei y Erulkar, 2010). Otro ejemplo es el programa de transferencia de efectivo Zomba en Malawi, que descubrió que las transferencias de efectivo no condicionadas eran más efectivas para retrasar el matrimonio que las transferencias condicionadas (Baird et al., Al educar y movilizar a los padres y las comunidades—aquellos que deciden cuándo y con quién se casarán las niñas) —para cambiar las normas sociales relacionadas con las expectativas de las niñas y sus perspectivas de matrimonio, estos programas apuntan a retrasar el matrimonio.</td>\n",
       "      <td>5</td>\n",
       "      <td>capacitacion economica apoyo veces incentivos abordan justificaciones economicas familias casar hijas edad temprana brindan alternativas matrimonio aumentan valor ninas familias origen ejemplo berhanehewan etiopia proporciono familias cabra mientras hijas permanecieran programa permanecieran solteras eighteen anos karei erulkar two thousand and ten ejemplo programa transferencia efectivo zomba malawi descubrio transferencias efectivo condicionadas mas efectivas retrasar matrimonio transferencias condicionadas baird et educar movilizar padres comunidadesaquellos deciden casaran ninas cambiar normas sociales relacionadas expectativas ninas perspectivas matrimonio programas apuntan retrasar matrimonio</td>\n",
       "    </tr>\n",
       "    <tr>\n",
       "      <th>2999</th>\n",
       "      <td>Esto ha sido reconocido por los comités en la atención prestada a la salud reproductiva de la mujer, el aborto, la anticoncepción, el matrimonio precoz y el embarazo en la adolescencia. AsÃ, se reconoce que el control sobre su propia reproducción es fundamental para que las mujeres puedan participar en igualdad de condiciones en la sociedad. AsÃ, las Directrices para la presentación de informes sobre el artÃculo 6, el derecho a la vida, exigen a los Estados que proporcionen información sobre las tasas de natalidad y las muertes de mujeres relacionadas con el embarazo y el parto, asà como sobre las medidas adoptadas para ayudar a las mujeres a evitar embarazos no deseados y garantizar que no tengan que someterse a abortos clandestinos que pongan en peligro su vida (PIDCP 2012).</td>\n",
       "      <td>5</td>\n",
       "      <td>sido reconocido comites atencion prestada salud reproductiva mujer aborto anticoncepcion matrimonio precoz embarazo adolescencia asa reconoce control propia reproduccion fundamental mujeres puedan participar igualdad condiciones sociedad asa directrices presentacion informes artaculo six derecho vida exigen proporcionen informacion tasas natalidad muertes mujeres relacionadas embarazo parto asa medidas adoptadas ayudar mujeres evitar embarazos deseados garantizar someterse abortos clandestinos pongan peligro vida pidcp two thousand and twelve</td>\n",
       "    </tr>\n",
       "  </tbody>\n",
       "</table>\n",
       "<p>3000 rows × 3 columns</p>\n",
       "</div>"
      ],
      "text/plain": [
       "                                                                                                                                                                                                                                                                                                                                                                                                                                                                                                                                                                                                                                                                                                                                                                                                                                                                                                                                                                                                                                                                                                                                                                                                                                               Textos_espanol  \\\n",
       "0                                                                                                                                                                                                                                                                                     Por ejemplo, el número de consultas externas de especialistas es de 319 por cada mil derechohabientes en el SP, en comparación con 338 y 620 por cada mil derechohabientes en el IMSS y el ISSSTE, respectivamente. Si bien algunas de estas diferencias pueden reflejar una necesidad desigual (como la población ligeramente mayor del ISSSTE), otras no pueden justificarse de esta manera. El número de recetas que no pudieron ser surtidas en su totalidad por un farmacéutico debido a la falta de existencias es de 33% dentro del SP en comparación con 14% dentro del IMSS según los datos de la encuesta (aunque las propias cifras de los institutos de la SS sugieren tasas más altas de recetas surtidas). Ambas cifras se encuentran entre las más altas de la OCDE. El gasto de bolsillo no se ha reducido significativamente en la última década, a pesar de los esfuerzos para lograr la cobertura sanitaria universal a través de la reforma del SP.   \n",
       "1                                                                                                                                                                                                                                                                                                                                                                                                                                                                                                                                                                                                                                                                                                                                                                En 2007, el gobierno central financió directamente solo el 0,3% del gasto total en salud, pero realizó transferencias específicas para el gasto en salud que ascendieron a otro 5,6% del gasto total. La mayor parte del gasto presupuestario en salud lo realizan los gobiernos de los condados. Por lo tanto, los condados pobres solo pueden ofrecer un bajo nivel de atención a la población local. El gobierno provincial proporciona subsidios del lado de la oferta a los hospitales.   \n",
       "2     Claramente, hay muchos otros factores en juego, en particular, una variedad de barreras y determinantes sociales. Estos pueden estar relacionados con el género, la clase, la etnia, la casta, el idioma y la religión, y surgen de estructuras, normas y procesos sociales arraigados que aceptan e incluso fomentan distribuciones injustas de la riqueza y los recursos sociales. Por ejemplo, las personas que viven con el VIH y algunas otras enfermedades crónicas enfrentan altos niveles de estigma y discriminación que dificultan su acceso a pruebas médicas, tratamiento, atención y apoyo. Por lo tanto, los gobiernos que buscan mejorar los estándares de salud querrán mejorar la condición de la mujer, brindar servicios de salud reproductiva efectivos, implementar programas integrales de lactancia materna en línea con las recomendaciones actuales y aumentar las presiones comunitarias contra el aborto selectivo por sexo. Las personas pobres, que carecen de educación e información, o de fondos para opciones más saludables, son más vulnerables al impacto de las ENT que los ricos y es probable que mueran antes. Directa e indirectamente, las ENT tendrán impactos de gran alcance en el progreso hacia los ODM.   \n",
       "3                                                                                                                          Por ejemplo, el estado australiano de Victoria creó una agencia de promoción de la salud financiada con los impuestos sobre el tabaco, y varios estados de EE.UU. (California, Massachusetts, Arizona y Oregón) han destinado parte de los ingresos procedentes de los impuestos especiales sobre el tabaco a actividades de educación y control del tabaco, mientras que en Nueva Jersey, Ohio y Texas los ingresos procedentes del alcohol se utilizan para programas de educación y prevención relacionados con el alcohol (Sassi et al., 2004), Los impuestos locales pueden ser una fuente importante de ingresos, sobre todo en los sistemas sanitarios descentralizados (por ejemplo, Dinamarca, Finlandia, Italia y Suecia)17 . Además, el nivel de los impuestos locales puede fijarse en función de las preferencias locales sobre el nivel y la calidad de los servicios médicos. Sin embargo, en ausencia de un mecanismo de transferencia ajustado al riesgo y gestionado centralmente, la descentralización reduce la mancomunación de riesgos y podría dar lugar a mayores disparidades sanitarias interregionales.   \n",
       "4                                                                                                                                                                                                                                                                                                                             El consumo anual de alcohol se estima en 15,7 litros al año para los hombres, más de un 50% por encima de la media de la OCDE (10,4) (Sistema mundial de información sobre alcohol y salud de la OMS), lo que puede ayudar a explicar la alta mortalidad por enfermedad hepática relacionada con el alcohol. Si bien la prevalencia de la obesidad en adultos es relativamente baja en comparación con muchos países de la OCDE, más del 30 % de las mujeres en Kazajstán son obesas, en comparación con el 16 % de los hombres (World Obesity, 2016), lo que coloca la tasa entre las mujeres a la par con algunos de los países más obesos de la OCDE. De hecho, una gran proporción de la brecha en la esperanza de vida se explica por una mayor mortalidad entre los jóvenes kazajos de 15 a 29 años, un grupo de edad en el que las tasas generales de mortalidad son más de tres veces más altas que en la UE de los 15.   \n",
       "...                                                                                                                                                                                                                                                                                                                                                                                                                                                                                                                                                                                                                                                                                                                                                                                                                                                                                                                                                                                                                                                                                                                                                                                                                                                       ...   \n",
       "2995                                                                                                                                                                                                                                                                                                                                                                                                                                                                                                                                                                                                                                      Un caucus efectivo se basa en fuertes vínculos con grupos nacionales de mujeres, OSC e institutos de investigación y universidades. El Consejo continúa el trabajo del Consejo Interinstitucional posterior a Beijing y la Oficina de Iniciativas y Alcance de la Mujer de la Casa Blanca. Su objetivo es proporcionar \"una respuesta federal coordinada a los desafíos que enfrentan las mujeres y las niñas\" y garantizar \"que todos los gabinetes y agencias a nivel de gabinete consideren cómo sus políticas y programas responden a las necesidades y necesidades de las mujeres y las niñas\". impactarlos.â€   \n",
       "2996                                                                                                                                                                                                                                                                                                                                                                                                                                                                                                                          Por el contrario, el porcentaje de hogares en edad de trabajar con un hombre que trabaja se mantuvo relativamente estable (en el 76%) a lo largo del tiempo en la mayorÃa de los paÃses (panel A). Alemania, sin embargo, fue testigo de un descenso significativo (de unos 15 puntos porcentuales) en la participación de los hombres en el empleo entre los hogares durante este perÃodo. A. Hogares con un trabajador masculino Panel. En España, por ejemplo, en 1995 sólo el 22% (25%) de los hogares contaban con una mujer que trabajaba a tiempo completo (todo el año), frente al 42% (52%) del año anterior a la crisis. Las mujeres neerlandesas trabajan ahora más semanas al año, aunque no más horas por semana.    \n",
       "2997                                                                                                                                                                                                                                                                                                                                                                                                                                                                                                                                                                                                                                                                                                                                                                                        El análisis utilizará una gama de medidas que reflejen las barreras básicas por un lado, y la asistencia por el otro, para la participación de las mujeres como agentes económicos productivos en los países de la Commonwealth. Según el Banco Mundial (Banco Mundial 2018a). Estas restricciones abarcan decisiones que afectan su movimiento, para conseguir un trabajo. Para muchas mujeres, estas decisiones no se pueden tomar sin el permiso de su marido.   \n",
       "2998                                                                                                                                                                                                                                        La capacitación económica, el apoyo y, a veces, los incentivos que abordan las justificaciones económicas de las familias para casar a sus hijas a una edad temprana brindan alternativas al matrimonio y aumentan el valor de las niñas para sus familias de origen. Un ejemplo es Berhane-Hewan en Etiopía, que proporcionó a las familias una cabra mientras sus hijas permanecieran en el programa y permanecieran solteras hasta los 18 años (Karei y Erulkar, 2010). Otro ejemplo es el programa de transferencia de efectivo Zomba en Malawi, que descubrió que las transferencias de efectivo no condicionadas eran más efectivas para retrasar el matrimonio que las transferencias condicionadas (Baird et al., Al educar y movilizar a los padres y las comunidades—aquellos que deciden cuándo y con quién se casarán las niñas) —para cambiar las normas sociales relacionadas con las expectativas de las niñas y sus perspectivas de matrimonio, estos programas apuntan a retrasar el matrimonio.   \n",
       "2999                                                                                                                                                                                                                                                                                                                                                                                                                                     Esto ha sido reconocido por los comités en la atención prestada a la salud reproductiva de la mujer, el aborto, la anticoncepción, el matrimonio precoz y el embarazo en la adolescencia. AsÃ, se reconoce que el control sobre su propia reproducción es fundamental para que las mujeres puedan participar en igualdad de condiciones en la sociedad. AsÃ, las Directrices para la presentación de informes sobre el artÃculo 6, el derecho a la vida, exigen a los Estados que proporcionen información sobre las tasas de natalidad y las muertes de mujeres relacionadas con el embarazo y el parto, asà como sobre las medidas adoptadas para ayudar a las mujeres a evitar embarazos no deseados y garantizar que no tengan que someterse a abortos clandestinos que pongan en peligro su vida (PIDCP 2012).    \n",
       "\n",
       "      sdg  \\\n",
       "0       3   \n",
       "1       3   \n",
       "2       3   \n",
       "3       3   \n",
       "4       3   \n",
       "...   ...   \n",
       "2995    5   \n",
       "2996    5   \n",
       "2997    5   \n",
       "2998    5   \n",
       "2999    5   \n",
       "\n",
       "                                                                                                                                                                                                                                                                                                                                                                                                                                                                                                                                                                                                                                                                                                                                                                                                                                                                                                                      words  \n",
       "0                                                                                                                                                 ejemplo numero consultas externas especialistas three hundred and nineteen cada mil derechohabientes sp comparacion three hundred and thirtyeight six hundred and twenty cada mil derechohabientes imss issste respectivamente si bien diferencias pueden reflejar necesidad desigual poblacion ligeramente mayor issste pueden justificarse manera numero recetas pudieron ser surtidas totalidad farmaceutico debido falta existencias thirtythree dentro sp comparacion fourteen dentro imss segun datos encuesta aunque propias cifras institutos ss sugieren tasas mas altas recetas surtidas ambas cifras encuentran mas altas ocde gasto bolsillo reducido significativamente ultima decada pesar esfuerzos lograr cobertura sanitaria universal traves reforma sp  \n",
       "1                                                                                                                                                                                                                                                                                                                                                                                                                                                                                                                                             two thousand and seven gobierno central financio directamente solo 03 gasto total salud realizo transferencias especificas gasto salud ascendieron 56 gasto total mayor parte gasto presupuestario salud realizan gobiernos condados condados pobres solo pueden ofrecer bajo nivel atencion poblacion local gobierno provincial proporciona subsidios lado oferta hospitales  \n",
       "2     claramente factores juego particular variedad barreras determinantes sociales pueden relacionados genero clase etnia casta idioma religion surgen estructuras normas procesos sociales arraigados aceptan incluso fomentan distribuciones injustas riqueza recursos sociales ejemplo personas viven vih enfermedades cronicas enfrentan altos niveles estigma discriminacion dificultan acceso pruebas medicas tratamiento atencion apoyo gobiernos buscan mejorar estandares salud querran mejorar condicion mujer brindar servicios salud reproductiva efectivos implementar programas integrales lactancia materna linea recomendaciones actuales aumentar presiones comunitarias aborto selectivo sexo personas pobres carecen educacion informacion fondos opciones mas saludables mas vulnerables impacto ent ricos probable mueran directa indirectamente ent tendran impactos gran alcance progreso hacia odm  \n",
       "3                                                     ejemplo australiano victoria creo agencia promocion salud financiada impuestos tabaco varios eeuu california massachusetts arizona oregon destinado parte ingresos procedentes impuestos especiales tabaco actividades educacion control tabaco mientras nueva jersey ohio texas ingresos procedentes alcohol utilizan programas educacion prevencion relacionados alcohol sassi et two thousand and four impuestos locales pueden ser fuente importante ingresos sistemas sanitarios descentralizados ejemplo dinamarca finlandia italia suecia seventeen ademas nivel impuestos locales puede fijarse funcion preferencias locales nivel calidad servicios medicos embargo ausencia mecanismo transferencia ajustado riesgo gestionado centralmente descentralizacion reduce mancomunacion riesgos podria dar lugar mayores disparidades sanitarias interregionales  \n",
       "4                                                                                                                                                                                                                                                                              consumo anual alcohol estima 157 litros ano hombres mas fifty encima media ocde 104 sistema mundial informacion alcohol salud oms puede ayudar explicar alta mortalidad enfermedad hepatica relacionada alcohol si bien prevalencia obesidad adultos relativamente baja comparacion paises ocde mas thirty mujeres kazajstan obesas comparacion sixteen hombres world obesity two thousand and sixteen coloca tasa mujeres par paises mas obesos ocde hecho gran proporcion brecha esperanza vida explica mayor mortalidad jovenes kazajos fifteen twentynine anos grupo edad tasas generales mortalidad mas tres veces mas altas ue fifteen  \n",
       "...                                                                                                                                                                                                                                                                                                                                                                                                                                                                                                                                                                                                                                                                                                                                                                                                                                                                                                                     ...  \n",
       "2995                                                                                                                                                                                                                                                                                                                                                                                                                                                            caucus efectivo basa fuertes vinculos grupos nacionales mujeres osc institutos investigacion universidades consejo continua trabajo consejo interinstitucional posterior beijing oficina iniciativas alcance mujer casa blanca objetivo proporcionar respuesta federal coordinada desafios enfrentan mujeres ninas garantizar gabinetes agencias nivel gabinete consideren politicas programas responden necesidades necesidades mujeres ninas impactarlosa  \n",
       "2996                                                                                                                                                                                                                                                                                                                                                       contrario porcentaje hogares edad trabajar hombre trabaja mantuvo relativamente estable seventysix largo tiempo mayoraa paases panel alemania embargo testigo descenso significativo fifteen puntos porcentuales participacion hombres empleo hogares peraodo hogares trabajador masculino panel espana ejemplo one thousand nine hundred and ninetyfive solo twentytwo twentyfive hogares contaban mujer trabajaba tiempo completo ano frente fortytwo fiftytwo ano anterior crisis mujeres neerlandesas trabajan ahora mas semanas ano aunque mas horas semana  \n",
       "2997                                                                                                                                                                                                                                                                                                                                                                                                                                                                                                                                                                                                 analisis utilizara gama medidas reflejen barreras basicas lado asistencia participacion mujeres agentes economicos productivos paises commonwealth segun banco mundial banco mundial 2018a restricciones abarcan decisiones afectan movimiento conseguir trabajo muchas mujeres decisiones pueden tomar permiso marido  \n",
       "2998                                                                                                                                                                                    capacitacion economica apoyo veces incentivos abordan justificaciones economicas familias casar hijas edad temprana brindan alternativas matrimonio aumentan valor ninas familias origen ejemplo berhanehewan etiopia proporciono familias cabra mientras hijas permanecieran programa permanecieran solteras eighteen anos karei erulkar two thousand and ten ejemplo programa transferencia efectivo zomba malawi descubrio transferencias efectivo condicionadas mas efectivas retrasar matrimonio transferencias condicionadas baird et educar movilizar padres comunidadesaquellos deciden casaran ninas cambiar normas sociales relacionadas expectativas ninas perspectivas matrimonio programas apuntan retrasar matrimonio  \n",
       "2999                                                                                                                                                                                                                                                                                                                                                   sido reconocido comites atencion prestada salud reproductiva mujer aborto anticoncepcion matrimonio precoz embarazo adolescencia asa reconoce control propia reproduccion fundamental mujeres puedan participar igualdad condiciones sociedad asa directrices presentacion informes artaculo six derecho vida exigen proporcionen informacion tasas natalidad muertes mujeres relacionadas embarazo parto asa medidas adoptadas ayudar mujeres evitar embarazos deseados garantizar someterse abortos clandestinos pongan peligro vida pidcp two thousand and twelve  \n",
       "\n",
       "[3000 rows x 3 columns]"
      ]
     },
     "execution_count": 1041,
     "metadata": {},
     "output_type": "execute_result"
    }
   ],
   "source": [
    "data_t['words'] = data_t['words'].apply(lambda x: ' '.join(map(str, x)))\n",
    "data_t"
   ]
  },
  {
   "cell_type": "code",
   "execution_count": 1042,
   "metadata": {},
   "outputs": [],
   "source": [
    "nuevo_df = data_t[['words', 'sdg']]\n",
    "nuevo_df['sdg'] = \"\"\n",
    "nuevo_df.to_csv('nuevo_archivo.csv', index=False)"
   ]
  },
  {
   "cell_type": "markdown",
   "metadata": {},
   "source": [
    "# Entrenamiento del modelo con TF_IDF"
   ]
  },
  {
   "cell_type": "markdown",
   "metadata": {},
   "source": [
    "En TF-IDF Los valores no son necesariamente enteros, ya que dependen de la frecuencia de un término en un documento específico y en la colección de documentos en su conjunto."
   ]
  },
  {
   "cell_type": "markdown",
   "metadata": {},
   "source": [
    "## Data splitting"
   ]
  },
  {
   "cell_type": "code",
   "execution_count": 1043,
   "metadata": {},
   "outputs": [],
   "source": [
    "X_train, X_test, y_train, y_test = train_test_split(data_t[[\"words\"]], data_t[\"sdg\"], random_state=1, stratify=data_t['sdg'])"
   ]
  },
  {
   "cell_type": "code",
   "execution_count": 1044,
   "metadata": {},
   "outputs": [
    {
     "data": {
      "text/plain": [
       "((2250, 1), (750, 1))"
      ]
     },
     "execution_count": 1044,
     "metadata": {},
     "output_type": "execute_result"
    }
   ],
   "source": [
    "X_train.shape, X_test.shape"
   ]
  },
  {
   "cell_type": "code",
   "execution_count": 1045,
   "metadata": {},
   "outputs": [
    {
     "data": {
      "text/plain": [
       "((2250,), (750,))"
      ]
     },
     "execution_count": 1045,
     "metadata": {},
     "output_type": "execute_result"
    }
   ],
   "source": [
    "y_train.shape, y_test.shape"
   ]
  },
  {
   "cell_type": "code",
   "execution_count": 1046,
   "metadata": {},
   "outputs": [
    {
     "data": {
      "text/plain": [
       "876     3\n",
       "2518    5\n",
       "2775    5\n",
       "1910    4\n",
       "2776    5\n",
       "Name: sdg, dtype: int64"
      ]
     },
     "execution_count": 1046,
     "metadata": {},
     "output_type": "execute_result"
    }
   ],
   "source": [
    "#ver los primeros datos de entrenamiento\n",
    "y_train[:5]"
   ]
  },
  {
   "cell_type": "code",
   "execution_count": 1047,
   "metadata": {},
   "outputs": [
    {
     "data": {
      "text/plain": [
       "sdg\n",
       "3    0.333333\n",
       "5    0.333333\n",
       "4    0.333333\n",
       "Name: proportion, dtype: float64"
      ]
     },
     "execution_count": 1047,
     "metadata": {},
     "output_type": "execute_result"
    }
   ],
   "source": [
    "pd.Series(y_train).value_counts(normalize=True)"
   ]
  },
  {
   "cell_type": "code",
   "execution_count": 1048,
   "metadata": {},
   "outputs": [
    {
     "data": {
      "text/plain": [
       "sdg\n",
       "4    0.333333\n",
       "5    0.333333\n",
       "3    0.333333\n",
       "Name: proportion, dtype: float64"
      ]
     },
     "execution_count": 1048,
     "metadata": {},
     "output_type": "execute_result"
    }
   ],
   "source": [
    "pd.Series(y_test).value_counts(normalize=True)"
   ]
  },
  {
   "cell_type": "markdown",
   "metadata": {},
   "source": [
    "## Vectorización del texto"
   ]
  },
  {
   "cell_type": "code",
   "execution_count": 1049,
   "metadata": {},
   "outputs": [
    {
     "name": "stdout",
     "output_type": "stream",
     "text": [
      "(2250, 15111)\n",
      "Vocabulary size: 15111\n"
     ]
    }
   ],
   "source": [
    "# Supongamos que tienes un DataFrame llamado 'df' con una columna 'texto' que contiene tus textos preprocesados.\n",
    "texts = X_train['words']\n",
    "\n",
    "# Crea una instancia de TfidfVectorizer\n",
    "tfidf_vectorizer = TfidfVectorizer(tokenizer=word_tokenize,  # Número máximo de características (ajusta según sea necesario)\n",
    "                                   stop_words= stop_words, # Especifica las stop words\n",
    "                                   lowercase=True)\n",
    "\n",
    "# Ajusta y transforma tus datos de texto\n",
    "X_tfidf = tfidf_vectorizer.fit_transform(texts)\n",
    "\n",
    "# tfidf_matrix es una matriz que contiene las representaciones TF-IDF de tus textos\n",
    "\n",
    "print(X_tfidf.shape)\n",
    "print(\"Vocabulary size:\", len(tfidf_vectorizer.vocabulary_))"
   ]
  },
  {
   "cell_type": "code",
   "execution_count": 1050,
   "metadata": {},
   "outputs": [],
   "source": [
    "tfidf_model = RandomForestClassifier(random_state=3)"
   ]
  },
  {
   "cell_type": "code",
   "execution_count": 1051,
   "metadata": {},
   "outputs": [
    {
     "name": "stdout",
     "output_type": "stream",
     "text": [
      "Shape de X_tfidf: (2250, 15111)\n",
      "Shape de y_train: (2250,)\n",
      "Shape de y_test: (750,)\n",
      "Ejemplos de y_train: 876     3\n",
      "2518    5\n",
      "2775    5\n",
      "1910    4\n",
      "2776    5\n",
      "2642    5\n",
      "2251    5\n",
      "1442    4\n",
      "1028    4\n",
      "1592    4\n",
      "Name: sdg, dtype: int64\n",
      "Ejemplos de y_test: 1731    4\n",
      "1436    4\n",
      "2611    5\n",
      "2211    5\n",
      "2955    5\n",
      "1247    4\n",
      "777     3\n",
      "1253    4\n",
      "1244    4\n",
      "2180    5\n",
      "Name: sdg, dtype: int64\n"
     ]
    }
   ],
   "source": [
    "print(\"Shape de X_tfidf:\", X_tfidf.shape)\n",
    "print(\"Shape de y_train:\", y_train.shape)\n",
    "print(\"Shape de y_test:\", y_test.shape)\n",
    "print(\"Ejemplos de y_train:\", y_train[:10])  # Imprime las primeras 10 etiquetas\n",
    "print(\"Ejemplos de y_test:\", y_test[:10])    # Imprime las primeras 10 etiquetas"
   ]
  },
  {
   "cell_type": "code",
   "execution_count": 1052,
   "metadata": {},
   "outputs": [
    {
     "data": {
      "text/html": [
       "<style>#sk-container-id-53 {color: black;}#sk-container-id-53 pre{padding: 0;}#sk-container-id-53 div.sk-toggleable {background-color: white;}#sk-container-id-53 label.sk-toggleable__label {cursor: pointer;display: block;width: 100%;margin-bottom: 0;padding: 0.3em;box-sizing: border-box;text-align: center;}#sk-container-id-53 label.sk-toggleable__label-arrow:before {content: \"▸\";float: left;margin-right: 0.25em;color: #696969;}#sk-container-id-53 label.sk-toggleable__label-arrow:hover:before {color: black;}#sk-container-id-53 div.sk-estimator:hover label.sk-toggleable__label-arrow:before {color: black;}#sk-container-id-53 div.sk-toggleable__content {max-height: 0;max-width: 0;overflow: hidden;text-align: left;background-color: #f0f8ff;}#sk-container-id-53 div.sk-toggleable__content pre {margin: 0.2em;color: black;border-radius: 0.25em;background-color: #f0f8ff;}#sk-container-id-53 input.sk-toggleable__control:checked~div.sk-toggleable__content {max-height: 200px;max-width: 100%;overflow: auto;}#sk-container-id-53 input.sk-toggleable__control:checked~label.sk-toggleable__label-arrow:before {content: \"▾\";}#sk-container-id-53 div.sk-estimator input.sk-toggleable__control:checked~label.sk-toggleable__label {background-color: #d4ebff;}#sk-container-id-53 div.sk-label input.sk-toggleable__control:checked~label.sk-toggleable__label {background-color: #d4ebff;}#sk-container-id-53 input.sk-hidden--visually {border: 0;clip: rect(1px 1px 1px 1px);clip: rect(1px, 1px, 1px, 1px);height: 1px;margin: -1px;overflow: hidden;padding: 0;position: absolute;width: 1px;}#sk-container-id-53 div.sk-estimator {font-family: monospace;background-color: #f0f8ff;border: 1px dotted black;border-radius: 0.25em;box-sizing: border-box;margin-bottom: 0.5em;}#sk-container-id-53 div.sk-estimator:hover {background-color: #d4ebff;}#sk-container-id-53 div.sk-parallel-item::after {content: \"\";width: 100%;border-bottom: 1px solid gray;flex-grow: 1;}#sk-container-id-53 div.sk-label:hover label.sk-toggleable__label {background-color: #d4ebff;}#sk-container-id-53 div.sk-serial::before {content: \"\";position: absolute;border-left: 1px solid gray;box-sizing: border-box;top: 0;bottom: 0;left: 50%;z-index: 0;}#sk-container-id-53 div.sk-serial {display: flex;flex-direction: column;align-items: center;background-color: white;padding-right: 0.2em;padding-left: 0.2em;position: relative;}#sk-container-id-53 div.sk-item {position: relative;z-index: 1;}#sk-container-id-53 div.sk-parallel {display: flex;align-items: stretch;justify-content: center;background-color: white;position: relative;}#sk-container-id-53 div.sk-item::before, #sk-container-id-53 div.sk-parallel-item::before {content: \"\";position: absolute;border-left: 1px solid gray;box-sizing: border-box;top: 0;bottom: 0;left: 50%;z-index: -1;}#sk-container-id-53 div.sk-parallel-item {display: flex;flex-direction: column;z-index: 1;position: relative;background-color: white;}#sk-container-id-53 div.sk-parallel-item:first-child::after {align-self: flex-end;width: 50%;}#sk-container-id-53 div.sk-parallel-item:last-child::after {align-self: flex-start;width: 50%;}#sk-container-id-53 div.sk-parallel-item:only-child::after {width: 0;}#sk-container-id-53 div.sk-dashed-wrapped {border: 1px dashed gray;margin: 0 0.4em 0.5em 0.4em;box-sizing: border-box;padding-bottom: 0.4em;background-color: white;}#sk-container-id-53 div.sk-label label {font-family: monospace;font-weight: bold;display: inline-block;line-height: 1.2em;}#sk-container-id-53 div.sk-label-container {text-align: center;}#sk-container-id-53 div.sk-container {/* jupyter's `normalize.less` sets `[hidden] { display: none; }` but bootstrap.min.css set `[hidden] { display: none !important; }` so we also need the `!important` here to be able to override the default hidden behavior on the sphinx rendered scikit-learn.org. See: https://github.com/scikit-learn/scikit-learn/issues/21755 */display: inline-block !important;position: relative;}#sk-container-id-53 div.sk-text-repr-fallback {display: none;}</style><div id=\"sk-container-id-53\" class=\"sk-top-container\"><div class=\"sk-text-repr-fallback\"><pre>RandomForestClassifier(random_state=3)</pre><b>In a Jupyter environment, please rerun this cell to show the HTML representation or trust the notebook. <br />On GitHub, the HTML representation is unable to render, please try loading this page with nbviewer.org.</b></div><div class=\"sk-container\" hidden><div class=\"sk-item\"><div class=\"sk-estimator sk-toggleable\"><input class=\"sk-toggleable__control sk-hidden--visually\" id=\"sk-estimator-id-131\" type=\"checkbox\" checked><label for=\"sk-estimator-id-131\" class=\"sk-toggleable__label sk-toggleable__label-arrow\">RandomForestClassifier</label><div class=\"sk-toggleable__content\"><pre>RandomForestClassifier(random_state=3)</pre></div></div></div></div></div>"
      ],
      "text/plain": [
       "RandomForestClassifier(random_state=3)"
      ]
     },
     "execution_count": 1052,
     "metadata": {},
     "output_type": "execute_result"
    }
   ],
   "source": [
    "tfidf_model.fit(X_tfidf, y_train)"
   ]
  },
  {
   "cell_type": "code",
   "execution_count": 1053,
   "metadata": {},
   "outputs": [
    {
     "data": {
      "text/plain": [
       "<Axes: >"
      ]
     },
     "execution_count": 1053,
     "metadata": {},
     "output_type": "execute_result"
    },
    {
     "data": {
      "image/png": "[encoded data removed]",
      "text/plain": [
       "<Figure size 1500x1000 with 1 Axes>"
      ]
     },
     "metadata": {},
     "output_type": "display_data"
    }
   ],
   "source": [
    "pd.Series(tfidf_model.feature_importances_, index=tfidf_vectorizer.vocabulary_).sort_values().tail(20).plot.barh(figsize=(15, 10))"
   ]
  },
  {
   "cell_type": "code",
   "execution_count": 1054,
   "metadata": {},
   "outputs": [
    {
     "name": "stdout",
     "output_type": "stream",
     "text": [
      "Number of trees: 100\n",
      "Trees depth (mean): 98.46\n"
     ]
    }
   ],
   "source": [
    "tfidf_estimators = tfidf_model.estimators_\n",
    "print(\"Number of trees:\", len(tfidf_estimators))\n",
    "print(\"Trees depth (mean):\", np.mean([tree.get_depth() for tree in tfidf_estimators]))"
   ]
  },
  {
   "cell_type": "code",
   "execution_count": 1055,
   "metadata": {},
   "outputs": [],
   "source": [
    "\n",
    "# predicciones en función de las características de entrenamiento vectorizadas\n",
    "y_train_tfidf_predict = tfidf_model.predict(X_tfidf)\n",
    "# predicciones en función de las características de prueba vectorizadas en X_test[\"words\"]\n",
    "y_test_tfidf_predict = tfidf_model.predict(tfidf_vectorizer.transform(X_test[\"words\"]))"
   ]
  },
  {
   "cell_type": "code",
   "execution_count": 1056,
   "metadata": {},
   "outputs": [
    {
     "data": {
      "text/plain": [
       "<sklearn.metrics._plot.confusion_matrix.ConfusionMatrixDisplay at 0x2d17aa080>"
      ]
     },
     "execution_count": 1056,
     "metadata": {},
     "output_type": "execute_result"
    },
    {
     "data": {
      "image/png": "[encoded data removed]",
      "text/plain": [
       "<Figure size 640x480 with 2 Axes>"
      ]
     },
     "metadata": {},
     "output_type": "display_data"
    }
   ],
   "source": [
    "ConfusionMatrixDisplay.from_predictions(y_train, y_train_tfidf_predict)"
   ]
  },
  {
   "cell_type": "code",
   "execution_count": 1057,
   "metadata": {},
   "outputs": [
    {
     "data": {
      "text/plain": [
       "<sklearn.metrics._plot.confusion_matrix.ConfusionMatrixDisplay at 0x2d16ad1e0>"
      ]
     },
     "execution_count": 1057,
     "metadata": {},
     "output_type": "execute_result"
    },
    {
     "data": {
      "image/png": "[encoded data removed]",
      "text/plain": [
       "<Figure size 640x480 with 2 Axes>"
      ]
     },
     "metadata": {},
     "output_type": "display_data"
    }
   ],
   "source": [
    "ConfusionMatrixDisplay.from_predictions(y_test, y_test_tfidf_predict)"
   ]
  },
  {
   "cell_type": "markdown",
   "metadata": {},
   "source": [
    "## Métricas para del data frame de entrenamiento"
   ]
  },
  {
   "cell_type": "code",
   "execution_count": 1058,
   "metadata": {},
   "outputs": [
    {
     "name": "stdout",
     "output_type": "stream",
     "text": [
      "Precision (micro): 1.0\n",
      "Recall (micro): 1.0\n",
      "F1 (micro): 1.0\n"
     ]
    }
   ],
   "source": [
    "print(\"Precision (micro):\", precision_score(y_train, y_train_tfidf_predict, average='micro'))\n",
    "print(\"Recall (micro):\", recall_score(y_train, y_train_tfidf_predict, average='micro'))\n",
    "print(\"F1 (micro):\", f1_score(y_train, y_train_tfidf_predict, average='micro'))\n"
   ]
  },
  {
   "cell_type": "code",
   "execution_count": 1059,
   "metadata": {},
   "outputs": [
    {
     "name": "stdout",
     "output_type": "stream",
     "text": [
      "Precision (macro): 1.0\n",
      "Recall (macro): 1.0\n",
      "F1 (macro): 1.0\n"
     ]
    }
   ],
   "source": [
    "print(\"Precision (macro):\", precision_score(y_train, y_train_tfidf_predict, average='macro'))\n",
    "print(\"Recall (macro):\", recall_score(y_train, y_train_tfidf_predict, average='macro'))\n",
    "print(\"F1 (macro):\", f1_score(y_train, y_train_tfidf_predict, average='macro'))\n"
   ]
  },
  {
   "cell_type": "code",
   "execution_count": 1060,
   "metadata": {},
   "outputs": [
    {
     "name": "stdout",
     "output_type": "stream",
     "text": [
      "Precision (weighted): 1.0\n",
      "Recall (weighted): 1.0\n",
      "F1 (weighted): 1.0\n"
     ]
    }
   ],
   "source": [
    "print(\"Precision (weighted):\", precision_score(y_train, y_train_tfidf_predict, average='weighted'))\n",
    "print(\"Recall (weighted):\", recall_score(y_train, y_train_tfidf_predict, average='weighted'))\n",
    "print(\"F1 (weighted):\", f1_score(y_train, y_train_tfidf_predict, average='weighted'))\n"
   ]
  },
  {
   "cell_type": "markdown",
   "metadata": {},
   "source": [
    "## Métricas para de data frame de prueba"
   ]
  },
  {
   "cell_type": "code",
   "execution_count": 1061,
   "metadata": {},
   "outputs": [
    {
     "name": "stdout",
     "output_type": "stream",
     "text": [
      "Precision (micro): 0.9733333333333334\n",
      "Recall (micro): 0.9733333333333334\n",
      "F1 (micro): 0.9733333333333334\n"
     ]
    }
   ],
   "source": [
    "print(\"Precision (micro):\", precision_score(y_test, y_test_tfidf_predict, average='micro'))\n",
    "print(\"Recall (micro):\", recall_score(y_test, y_test_tfidf_predict, average='micro'))\n",
    "print(\"F1 (micro):\", f1_score(y_test, y_test_tfidf_predict, average='micro'))"
   ]
  },
  {
   "cell_type": "code",
   "execution_count": 1062,
   "metadata": {},
   "outputs": [
    {
     "name": "stdout",
     "output_type": "stream",
     "text": [
      "Precision (macro): 0.9734176980182174\n",
      "Recall (macro): 0.9733333333333333\n",
      "F1 (macro): 0.9733266512270969\n"
     ]
    }
   ],
   "source": [
    "print(\"Precision (macro):\", precision_score(y_test, y_test_tfidf_predict, average='macro'))\n",
    "print(\"Recall (macro):\", recall_score(y_test, y_test_tfidf_predict, average='macro'))\n",
    "print(\"F1 (macro):\", f1_score(y_test, y_test_tfidf_predict, average='macro'))"
   ]
  },
  {
   "cell_type": "code",
   "execution_count": 1063,
   "metadata": {},
   "outputs": [
    {
     "name": "stdout",
     "output_type": "stream",
     "text": [
      "Precision (weighted): 0.9734176980182174\n",
      "Recall (weighted): 0.9733333333333334\n",
      "F1 (weighted): 0.9733266512270969\n"
     ]
    }
   ],
   "source": [
    "print(\"Precision (weighted):\", precision_score(y_test, y_test_tfidf_predict, average='weighted'))\n",
    "print(\"Recall (weighted):\", recall_score(y_test, y_test_tfidf_predict, average='weighted'))\n",
    "print(\"F1 (weighted):\", f1_score(y_test, y_test_tfidf_predict, average='weighted'))"
   ]
  },
  {
   "cell_type": "markdown",
   "metadata": {},
   "source": [
    "## Selección del modelo"
   ]
  },
  {
   "cell_type": "markdown",
   "metadata": {},
   "source": [
    "### Primer modelo"
   ]
  },
  {
   "cell_type": "code",
   "execution_count": 1064,
   "metadata": {},
   "outputs": [],
   "source": [
    "X_train_1=X_train\n",
    "X_test_1=X_test\n",
    "y_train_1=y_train\n",
    "y_test_1=y_test"
   ]
  },
  {
   "cell_type": "code",
   "execution_count": 1065,
   "metadata": {},
   "outputs": [],
   "source": [
    "parametros_1 = {\n",
    "    \"vectorizer\": TfidfVectorizer(tokenizer=word_tokenize, stop_words=stop_words),\n",
    "    \"vectorizer__lowercase\": True,\n",
    "    \"classifier__n_estimators\": 100,\n",
    "    \"classifier__criterion\": 'gini',\n",
    "    \"classifier__max_depth\": 50\n",
    "}"
   ]
  },
  {
   "cell_type": "code",
   "execution_count": 1066,
   "metadata": {},
   "outputs": [],
   "source": [
    "pipeline_1 = Pipeline(steps=[\n",
    "    (\"vectorizer\", parametros_1[\"vectorizer\"]),\n",
    "    (\"classifier\", RandomForestClassifier(\n",
    "        n_estimators=parametros_1[\"classifier__n_estimators\"],\n",
    "        criterion=parametros_1[\"classifier__criterion\"],\n",
    "        max_depth=parametros_1[\"classifier__max_depth\"],\n",
    "        random_state=4\n",
    "    ))\n",
    "])"
   ]
  },
  {
   "cell_type": "code",
   "execution_count": 1067,
   "metadata": {},
   "outputs": [
    {
     "data": {
      "text/html": [
       "<style>#sk-container-id-54 {color: black;}#sk-container-id-54 pre{padding: 0;}#sk-container-id-54 div.sk-toggleable {background-color: white;}#sk-container-id-54 label.sk-toggleable__label {cursor: pointer;display: block;width: 100%;margin-bottom: 0;padding: 0.3em;box-sizing: border-box;text-align: center;}#sk-container-id-54 label.sk-toggleable__label-arrow:before {content: \"▸\";float: left;margin-right: 0.25em;color: #696969;}#sk-container-id-54 label.sk-toggleable__label-arrow:hover:before {color: black;}#sk-container-id-54 div.sk-estimator:hover label.sk-toggleable__label-arrow:before {color: black;}#sk-container-id-54 div.sk-toggleable__content {max-height: 0;max-width: 0;overflow: hidden;text-align: left;background-color: #f0f8ff;}#sk-container-id-54 div.sk-toggleable__content pre {margin: 0.2em;color: black;border-radius: 0.25em;background-color: #f0f8ff;}#sk-container-id-54 input.sk-toggleable__control:checked~div.sk-toggleable__content {max-height: 200px;max-width: 100%;overflow: auto;}#sk-container-id-54 input.sk-toggleable__control:checked~label.sk-toggleable__label-arrow:before {content: \"▾\";}#sk-container-id-54 div.sk-estimator input.sk-toggleable__control:checked~label.sk-toggleable__label {background-color: #d4ebff;}#sk-container-id-54 div.sk-label input.sk-toggleable__control:checked~label.sk-toggleable__label {background-color: #d4ebff;}#sk-container-id-54 input.sk-hidden--visually {border: 0;clip: rect(1px 1px 1px 1px);clip: rect(1px, 1px, 1px, 1px);height: 1px;margin: -1px;overflow: hidden;padding: 0;position: absolute;width: 1px;}#sk-container-id-54 div.sk-estimator {font-family: monospace;background-color: #f0f8ff;border: 1px dotted black;border-radius: 0.25em;box-sizing: border-box;margin-bottom: 0.5em;}#sk-container-id-54 div.sk-estimator:hover {background-color: #d4ebff;}#sk-container-id-54 div.sk-parallel-item::after {content: \"\";width: 100%;border-bottom: 1px solid gray;flex-grow: 1;}#sk-container-id-54 div.sk-label:hover label.sk-toggleable__label {background-color: #d4ebff;}#sk-container-id-54 div.sk-serial::before {content: \"\";position: absolute;border-left: 1px solid gray;box-sizing: border-box;top: 0;bottom: 0;left: 50%;z-index: 0;}#sk-container-id-54 div.sk-serial {display: flex;flex-direction: column;align-items: center;background-color: white;padding-right: 0.2em;padding-left: 0.2em;position: relative;}#sk-container-id-54 div.sk-item {position: relative;z-index: 1;}#sk-container-id-54 div.sk-parallel {display: flex;align-items: stretch;justify-content: center;background-color: white;position: relative;}#sk-container-id-54 div.sk-item::before, #sk-container-id-54 div.sk-parallel-item::before {content: \"\";position: absolute;border-left: 1px solid gray;box-sizing: border-box;top: 0;bottom: 0;left: 50%;z-index: -1;}#sk-container-id-54 div.sk-parallel-item {display: flex;flex-direction: column;z-index: 1;position: relative;background-color: white;}#sk-container-id-54 div.sk-parallel-item:first-child::after {align-self: flex-end;width: 50%;}#sk-container-id-54 div.sk-parallel-item:last-child::after {align-self: flex-start;width: 50%;}#sk-container-id-54 div.sk-parallel-item:only-child::after {width: 0;}#sk-container-id-54 div.sk-dashed-wrapped {border: 1px dashed gray;margin: 0 0.4em 0.5em 0.4em;box-sizing: border-box;padding-bottom: 0.4em;background-color: white;}#sk-container-id-54 div.sk-label label {font-family: monospace;font-weight: bold;display: inline-block;line-height: 1.2em;}#sk-container-id-54 div.sk-label-container {text-align: center;}#sk-container-id-54 div.sk-container {/* jupyter's `normalize.less` sets `[hidden] { display: none; }` but bootstrap.min.css set `[hidden] { display: none !important; }` so we also need the `!important` here to be able to override the default hidden behavior on the sphinx rendered scikit-learn.org. See: https://github.com/scikit-learn/scikit-learn/issues/21755 */display: inline-block !important;position: relative;}#sk-container-id-54 div.sk-text-repr-fallback {display: none;}</style><div id=\"sk-container-id-54\" class=\"sk-top-container\"><div class=\"sk-text-repr-fallback\"><pre>Pipeline(steps=[(&#x27;vectorizer&#x27;,\n",
       "                 TfidfVectorizer(stop_words=[&#x27;de&#x27;, &#x27;la&#x27;, &#x27;que&#x27;, &#x27;el&#x27;, &#x27;en&#x27;, &#x27;y&#x27;,\n",
       "                                             &#x27;a&#x27;, &#x27;los&#x27;, &#x27;del&#x27;, &#x27;se&#x27;, &#x27;las&#x27;,\n",
       "                                             &#x27;por&#x27;, &#x27;un&#x27;, &#x27;para&#x27;, &#x27;con&#x27;, &#x27;no&#x27;,\n",
       "                                             &#x27;una&#x27;, &#x27;su&#x27;, &#x27;al&#x27;, &#x27;lo&#x27;, &#x27;como&#x27;,\n",
       "                                             &#x27;más&#x27;, &#x27;pero&#x27;, &#x27;sus&#x27;, &#x27;le&#x27;, &#x27;ya&#x27;,\n",
       "                                             &#x27;o&#x27;, &#x27;este&#x27;, &#x27;sí&#x27;, &#x27;porque&#x27;, ...],\n",
       "                                 tokenizer=&lt;function word_tokenize at 0x12fd95240&gt;)),\n",
       "                (&#x27;classifier&#x27;,\n",
       "                 RandomForestClassifier(max_depth=50, random_state=4))])</pre><b>In a Jupyter environment, please rerun this cell to show the HTML representation or trust the notebook. <br />On GitHub, the HTML representation is unable to render, please try loading this page with nbviewer.org.</b></div><div class=\"sk-container\" hidden><div class=\"sk-item sk-dashed-wrapped\"><div class=\"sk-label-container\"><div class=\"sk-label sk-toggleable\"><input class=\"sk-toggleable__control sk-hidden--visually\" id=\"sk-estimator-id-132\" type=\"checkbox\" ><label for=\"sk-estimator-id-132\" class=\"sk-toggleable__label sk-toggleable__label-arrow\">Pipeline</label><div class=\"sk-toggleable__content\"><pre>Pipeline(steps=[(&#x27;vectorizer&#x27;,\n",
       "                 TfidfVectorizer(stop_words=[&#x27;de&#x27;, &#x27;la&#x27;, &#x27;que&#x27;, &#x27;el&#x27;, &#x27;en&#x27;, &#x27;y&#x27;,\n",
       "                                             &#x27;a&#x27;, &#x27;los&#x27;, &#x27;del&#x27;, &#x27;se&#x27;, &#x27;las&#x27;,\n",
       "                                             &#x27;por&#x27;, &#x27;un&#x27;, &#x27;para&#x27;, &#x27;con&#x27;, &#x27;no&#x27;,\n",
       "                                             &#x27;una&#x27;, &#x27;su&#x27;, &#x27;al&#x27;, &#x27;lo&#x27;, &#x27;como&#x27;,\n",
       "                                             &#x27;más&#x27;, &#x27;pero&#x27;, &#x27;sus&#x27;, &#x27;le&#x27;, &#x27;ya&#x27;,\n",
       "                                             &#x27;o&#x27;, &#x27;este&#x27;, &#x27;sí&#x27;, &#x27;porque&#x27;, ...],\n",
       "                                 tokenizer=&lt;function word_tokenize at 0x12fd95240&gt;)),\n",
       "                (&#x27;classifier&#x27;,\n",
       "                 RandomForestClassifier(max_depth=50, random_state=4))])</pre></div></div></div><div class=\"sk-serial\"><div class=\"sk-item\"><div class=\"sk-estimator sk-toggleable\"><input class=\"sk-toggleable__control sk-hidden--visually\" id=\"sk-estimator-id-133\" type=\"checkbox\" ><label for=\"sk-estimator-id-133\" class=\"sk-toggleable__label sk-toggleable__label-arrow\">TfidfVectorizer</label><div class=\"sk-toggleable__content\"><pre>TfidfVectorizer(stop_words=[&#x27;de&#x27;, &#x27;la&#x27;, &#x27;que&#x27;, &#x27;el&#x27;, &#x27;en&#x27;, &#x27;y&#x27;, &#x27;a&#x27;, &#x27;los&#x27;,\n",
       "                            &#x27;del&#x27;, &#x27;se&#x27;, &#x27;las&#x27;, &#x27;por&#x27;, &#x27;un&#x27;, &#x27;para&#x27;, &#x27;con&#x27;,\n",
       "                            &#x27;no&#x27;, &#x27;una&#x27;, &#x27;su&#x27;, &#x27;al&#x27;, &#x27;lo&#x27;, &#x27;como&#x27;, &#x27;más&#x27;,\n",
       "                            &#x27;pero&#x27;, &#x27;sus&#x27;, &#x27;le&#x27;, &#x27;ya&#x27;, &#x27;o&#x27;, &#x27;este&#x27;, &#x27;sí&#x27;,\n",
       "                            &#x27;porque&#x27;, ...],\n",
       "                tokenizer=&lt;function word_tokenize at 0x12fd95240&gt;)</pre></div></div></div><div class=\"sk-item\"><div class=\"sk-estimator sk-toggleable\"><input class=\"sk-toggleable__control sk-hidden--visually\" id=\"sk-estimator-id-134\" type=\"checkbox\" ><label for=\"sk-estimator-id-134\" class=\"sk-toggleable__label sk-toggleable__label-arrow\">RandomForestClassifier</label><div class=\"sk-toggleable__content\"><pre>RandomForestClassifier(max_depth=50, random_state=4)</pre></div></div></div></div></div></div></div>"
      ],
      "text/plain": [
       "Pipeline(steps=[('vectorizer',\n",
       "                 TfidfVectorizer(stop_words=['de', 'la', 'que', 'el', 'en', 'y',\n",
       "                                             'a', 'los', 'del', 'se', 'las',\n",
       "                                             'por', 'un', 'para', 'con', 'no',\n",
       "                                             'una', 'su', 'al', 'lo', 'como',\n",
       "                                             'más', 'pero', 'sus', 'le', 'ya',\n",
       "                                             'o', 'este', 'sí', 'porque', ...],\n",
       "                                 tokenizer=<function word_tokenize at 0x12fd95240>)),\n",
       "                ('classifier',\n",
       "                 RandomForestClassifier(max_depth=50, random_state=4))])"
      ]
     },
     "execution_count": 1067,
     "metadata": {},
     "output_type": "execute_result"
    }
   ],
   "source": [
    "# Entrena el modelo con tus datos\n",
    "pipeline_1.fit(X_train_1[\"words\"], y_train_1)"
   ]
  },
  {
   "cell_type": "code",
   "execution_count": 1068,
   "metadata": {},
   "outputs": [],
   "source": [
    "# Realizar predicciones en los conjuntos de entrenamiento y prueba\n",
    "y_train_predict_1 = pipeline_1.predict(X_train_1[\"words\"])\n",
    "y_test_predict_1 = pipeline_1.predict(X_test_1[\"words\"])"
   ]
  },
  {
   "cell_type": "code",
   "execution_count": 1069,
   "metadata": {},
   "outputs": [
    {
     "name": "stdout",
     "output_type": "stream",
     "text": [
      "Precision (weighted): 1.0\n",
      "Recall (weighted): 1.0\n",
      "F1 (weighted): 1.0\n"
     ]
    }
   ],
   "source": [
    "print(\"Precision (weighted):\", precision_score(y_train_1, y_train_predict_1, average='weighted'))\n",
    "print(\"Recall (weighted):\", recall_score(y_train_1, y_train_predict_1, average='weighted'))\n",
    "print(\"F1 (weighted):\", f1_score(y_train_1, y_train_predict_1, average='weighted'))"
   ]
  },
  {
   "cell_type": "code",
   "execution_count": 1070,
   "metadata": {},
   "outputs": [
    {
     "name": "stdout",
     "output_type": "stream",
     "text": [
      "Precision (weighted): 0.9695690498076077\n",
      "Recall (weighted): 0.9693333333333334\n",
      "F1 (weighted): 0.9693568827441543\n"
     ]
    }
   ],
   "source": [
    "print(\"Precision (weighted):\", precision_score(y_test_1, y_test_predict_1, average='weighted'))\n",
    "print(\"Recall (weighted):\", recall_score(y_test_1, y_test_predict_1, average='weighted'))\n",
    "print(\"F1 (weighted):\", f1_score(y_test_1, y_test_predict_1, average='weighted'))"
   ]
  },
  {
   "cell_type": "markdown",
   "metadata": {},
   "source": [
    "### Segundo Modelo"
   ]
  },
  {
   "cell_type": "code",
   "execution_count": 1071,
   "metadata": {},
   "outputs": [],
   "source": [
    "X_train_2=X_train\n",
    "X_test_2=X_test\n",
    "y_train_2=y_train\n",
    "y_test_2=y_test"
   ]
  },
  {
   "cell_type": "code",
   "execution_count": 1072,
   "metadata": {},
   "outputs": [],
   "source": [
    "parametros_2 = {\n",
    "    \"vectorizer\": TfidfVectorizer(tokenizer=word_tokenize, stop_words=stop_words),\n",
    "    \"vectorizer__lowercase\": True,\n",
    "    \"classifier__n_estimators\": 300,\n",
    "    \"classifier__criterion\": 'gini',\n",
    "    \"classifier__max_depth\": 100\n",
    "}"
   ]
  },
  {
   "cell_type": "code",
   "execution_count": 1073,
   "metadata": {},
   "outputs": [],
   "source": [
    "pipeline_2 = Pipeline(steps=[\n",
    "    (\"vectorizer\", parametros_2[\"vectorizer\"]),\n",
    "    (\"classifier\", RandomForestClassifier(\n",
    "        n_estimators=parametros_2[\"classifier__n_estimators\"],\n",
    "        criterion=parametros_2[\"classifier__criterion\"],\n",
    "        max_depth=parametros_2[\"classifier__max_depth\"],\n",
    "        random_state=4\n",
    "    ))\n",
    "])"
   ]
  },
  {
   "cell_type": "code",
   "execution_count": 1074,
   "metadata": {},
   "outputs": [
    {
     "data": {
      "text/html": [
       "<style>#sk-container-id-55 {color: black;}#sk-container-id-55 pre{padding: 0;}#sk-container-id-55 div.sk-toggleable {background-color: white;}#sk-container-id-55 label.sk-toggleable__label {cursor: pointer;display: block;width: 100%;margin-bottom: 0;padding: 0.3em;box-sizing: border-box;text-align: center;}#sk-container-id-55 label.sk-toggleable__label-arrow:before {content: \"▸\";float: left;margin-right: 0.25em;color: #696969;}#sk-container-id-55 label.sk-toggleable__label-arrow:hover:before {color: black;}#sk-container-id-55 div.sk-estimator:hover label.sk-toggleable__label-arrow:before {color: black;}#sk-container-id-55 div.sk-toggleable__content {max-height: 0;max-width: 0;overflow: hidden;text-align: left;background-color: #f0f8ff;}#sk-container-id-55 div.sk-toggleable__content pre {margin: 0.2em;color: black;border-radius: 0.25em;background-color: #f0f8ff;}#sk-container-id-55 input.sk-toggleable__control:checked~div.sk-toggleable__content {max-height: 200px;max-width: 100%;overflow: auto;}#sk-container-id-55 input.sk-toggleable__control:checked~label.sk-toggleable__label-arrow:before {content: \"▾\";}#sk-container-id-55 div.sk-estimator input.sk-toggleable__control:checked~label.sk-toggleable__label {background-color: #d4ebff;}#sk-container-id-55 div.sk-label input.sk-toggleable__control:checked~label.sk-toggleable__label {background-color: #d4ebff;}#sk-container-id-55 input.sk-hidden--visually {border: 0;clip: rect(1px 1px 1px 1px);clip: rect(1px, 1px, 1px, 1px);height: 1px;margin: -1px;overflow: hidden;padding: 0;position: absolute;width: 1px;}#sk-container-id-55 div.sk-estimator {font-family: monospace;background-color: #f0f8ff;border: 1px dotted black;border-radius: 0.25em;box-sizing: border-box;margin-bottom: 0.5em;}#sk-container-id-55 div.sk-estimator:hover {background-color: #d4ebff;}#sk-container-id-55 div.sk-parallel-item::after {content: \"\";width: 100%;border-bottom: 1px solid gray;flex-grow: 1;}#sk-container-id-55 div.sk-label:hover label.sk-toggleable__label {background-color: #d4ebff;}#sk-container-id-55 div.sk-serial::before {content: \"\";position: absolute;border-left: 1px solid gray;box-sizing: border-box;top: 0;bottom: 0;left: 50%;z-index: 0;}#sk-container-id-55 div.sk-serial {display: flex;flex-direction: column;align-items: center;background-color: white;padding-right: 0.2em;padding-left: 0.2em;position: relative;}#sk-container-id-55 div.sk-item {position: relative;z-index: 1;}#sk-container-id-55 div.sk-parallel {display: flex;align-items: stretch;justify-content: center;background-color: white;position: relative;}#sk-container-id-55 div.sk-item::before, #sk-container-id-55 div.sk-parallel-item::before {content: \"\";position: absolute;border-left: 1px solid gray;box-sizing: border-box;top: 0;bottom: 0;left: 50%;z-index: -1;}#sk-container-id-55 div.sk-parallel-item {display: flex;flex-direction: column;z-index: 1;position: relative;background-color: white;}#sk-container-id-55 div.sk-parallel-item:first-child::after {align-self: flex-end;width: 50%;}#sk-container-id-55 div.sk-parallel-item:last-child::after {align-self: flex-start;width: 50%;}#sk-container-id-55 div.sk-parallel-item:only-child::after {width: 0;}#sk-container-id-55 div.sk-dashed-wrapped {border: 1px dashed gray;margin: 0 0.4em 0.5em 0.4em;box-sizing: border-box;padding-bottom: 0.4em;background-color: white;}#sk-container-id-55 div.sk-label label {font-family: monospace;font-weight: bold;display: inline-block;line-height: 1.2em;}#sk-container-id-55 div.sk-label-container {text-align: center;}#sk-container-id-55 div.sk-container {/* jupyter's `normalize.less` sets `[hidden] { display: none; }` but bootstrap.min.css set `[hidden] { display: none !important; }` so we also need the `!important` here to be able to override the default hidden behavior on the sphinx rendered scikit-learn.org. See: https://github.com/scikit-learn/scikit-learn/issues/21755 */display: inline-block !important;position: relative;}#sk-container-id-55 div.sk-text-repr-fallback {display: none;}</style><div id=\"sk-container-id-55\" class=\"sk-top-container\"><div class=\"sk-text-repr-fallback\"><pre>Pipeline(steps=[(&#x27;vectorizer&#x27;,\n",
       "                 TfidfVectorizer(stop_words=[&#x27;de&#x27;, &#x27;la&#x27;, &#x27;que&#x27;, &#x27;el&#x27;, &#x27;en&#x27;, &#x27;y&#x27;,\n",
       "                                             &#x27;a&#x27;, &#x27;los&#x27;, &#x27;del&#x27;, &#x27;se&#x27;, &#x27;las&#x27;,\n",
       "                                             &#x27;por&#x27;, &#x27;un&#x27;, &#x27;para&#x27;, &#x27;con&#x27;, &#x27;no&#x27;,\n",
       "                                             &#x27;una&#x27;, &#x27;su&#x27;, &#x27;al&#x27;, &#x27;lo&#x27;, &#x27;como&#x27;,\n",
       "                                             &#x27;más&#x27;, &#x27;pero&#x27;, &#x27;sus&#x27;, &#x27;le&#x27;, &#x27;ya&#x27;,\n",
       "                                             &#x27;o&#x27;, &#x27;este&#x27;, &#x27;sí&#x27;, &#x27;porque&#x27;, ...],\n",
       "                                 tokenizer=&lt;function word_tokenize at 0x12fd95240&gt;)),\n",
       "                (&#x27;classifier&#x27;,\n",
       "                 RandomForestClassifier(max_depth=100, n_estimators=300,\n",
       "                                        random_state=4))])</pre><b>In a Jupyter environment, please rerun this cell to show the HTML representation or trust the notebook. <br />On GitHub, the HTML representation is unable to render, please try loading this page with nbviewer.org.</b></div><div class=\"sk-container\" hidden><div class=\"sk-item sk-dashed-wrapped\"><div class=\"sk-label-container\"><div class=\"sk-label sk-toggleable\"><input class=\"sk-toggleable__control sk-hidden--visually\" id=\"sk-estimator-id-135\" type=\"checkbox\" ><label for=\"sk-estimator-id-135\" class=\"sk-toggleable__label sk-toggleable__label-arrow\">Pipeline</label><div class=\"sk-toggleable__content\"><pre>Pipeline(steps=[(&#x27;vectorizer&#x27;,\n",
       "                 TfidfVectorizer(stop_words=[&#x27;de&#x27;, &#x27;la&#x27;, &#x27;que&#x27;, &#x27;el&#x27;, &#x27;en&#x27;, &#x27;y&#x27;,\n",
       "                                             &#x27;a&#x27;, &#x27;los&#x27;, &#x27;del&#x27;, &#x27;se&#x27;, &#x27;las&#x27;,\n",
       "                                             &#x27;por&#x27;, &#x27;un&#x27;, &#x27;para&#x27;, &#x27;con&#x27;, &#x27;no&#x27;,\n",
       "                                             &#x27;una&#x27;, &#x27;su&#x27;, &#x27;al&#x27;, &#x27;lo&#x27;, &#x27;como&#x27;,\n",
       "                                             &#x27;más&#x27;, &#x27;pero&#x27;, &#x27;sus&#x27;, &#x27;le&#x27;, &#x27;ya&#x27;,\n",
       "                                             &#x27;o&#x27;, &#x27;este&#x27;, &#x27;sí&#x27;, &#x27;porque&#x27;, ...],\n",
       "                                 tokenizer=&lt;function word_tokenize at 0x12fd95240&gt;)),\n",
       "                (&#x27;classifier&#x27;,\n",
       "                 RandomForestClassifier(max_depth=100, n_estimators=300,\n",
       "                                        random_state=4))])</pre></div></div></div><div class=\"sk-serial\"><div class=\"sk-item\"><div class=\"sk-estimator sk-toggleable\"><input class=\"sk-toggleable__control sk-hidden--visually\" id=\"sk-estimator-id-136\" type=\"checkbox\" ><label for=\"sk-estimator-id-136\" class=\"sk-toggleable__label sk-toggleable__label-arrow\">TfidfVectorizer</label><div class=\"sk-toggleable__content\"><pre>TfidfVectorizer(stop_words=[&#x27;de&#x27;, &#x27;la&#x27;, &#x27;que&#x27;, &#x27;el&#x27;, &#x27;en&#x27;, &#x27;y&#x27;, &#x27;a&#x27;, &#x27;los&#x27;,\n",
       "                            &#x27;del&#x27;, &#x27;se&#x27;, &#x27;las&#x27;, &#x27;por&#x27;, &#x27;un&#x27;, &#x27;para&#x27;, &#x27;con&#x27;,\n",
       "                            &#x27;no&#x27;, &#x27;una&#x27;, &#x27;su&#x27;, &#x27;al&#x27;, &#x27;lo&#x27;, &#x27;como&#x27;, &#x27;más&#x27;,\n",
       "                            &#x27;pero&#x27;, &#x27;sus&#x27;, &#x27;le&#x27;, &#x27;ya&#x27;, &#x27;o&#x27;, &#x27;este&#x27;, &#x27;sí&#x27;,\n",
       "                            &#x27;porque&#x27;, ...],\n",
       "                tokenizer=&lt;function word_tokenize at 0x12fd95240&gt;)</pre></div></div></div><div class=\"sk-item\"><div class=\"sk-estimator sk-toggleable\"><input class=\"sk-toggleable__control sk-hidden--visually\" id=\"sk-estimator-id-137\" type=\"checkbox\" ><label for=\"sk-estimator-id-137\" class=\"sk-toggleable__label sk-toggleable__label-arrow\">RandomForestClassifier</label><div class=\"sk-toggleable__content\"><pre>RandomForestClassifier(max_depth=100, n_estimators=300, random_state=4)</pre></div></div></div></div></div></div></div>"
      ],
      "text/plain": [
       "Pipeline(steps=[('vectorizer',\n",
       "                 TfidfVectorizer(stop_words=['de', 'la', 'que', 'el', 'en', 'y',\n",
       "                                             'a', 'los', 'del', 'se', 'las',\n",
       "                                             'por', 'un', 'para', 'con', 'no',\n",
       "                                             'una', 'su', 'al', 'lo', 'como',\n",
       "                                             'más', 'pero', 'sus', 'le', 'ya',\n",
       "                                             'o', 'este', 'sí', 'porque', ...],\n",
       "                                 tokenizer=<function word_tokenize at 0x12fd95240>)),\n",
       "                ('classifier',\n",
       "                 RandomForestClassifier(max_depth=100, n_estimators=300,\n",
       "                                        random_state=4))])"
      ]
     },
     "execution_count": 1074,
     "metadata": {},
     "output_type": "execute_result"
    }
   ],
   "source": [
    "# Entrena el modelo con tus datos\n",
    "pipeline_2.fit(X_train_2[\"words\"], y_train_2)"
   ]
  },
  {
   "cell_type": "code",
   "execution_count": 1075,
   "metadata": {},
   "outputs": [],
   "source": [
    "# Realizar predicciones en los conjuntos de entrenamiento y prueba\n",
    "y_train_predict_2 = pipeline_2.predict(X_train_2[\"words\"])\n",
    "y_test_predict_2 = pipeline_2.predict(X_test_2[\"words\"])"
   ]
  },
  {
   "cell_type": "code",
   "execution_count": 1076,
   "metadata": {},
   "outputs": [
    {
     "name": "stdout",
     "output_type": "stream",
     "text": [
      "Precision (weighted): 1.0\n",
      "Recall (weighted): 1.0\n",
      "F1 (weighted): 1.0\n"
     ]
    }
   ],
   "source": [
    "print(\"Precision (weighted):\", precision_score(y_train_2, y_train_predict_2, average='weighted'))\n",
    "print(\"Recall (weighted):\", recall_score(y_train_2, y_train_predict_2, average='weighted'))\n",
    "print(\"F1 (weighted):\", f1_score(y_train_2, y_train_predict_2, average='weighted'))"
   ]
  },
  {
   "cell_type": "code",
   "execution_count": 1077,
   "metadata": {},
   "outputs": [
    {
     "name": "stdout",
     "output_type": "stream",
     "text": [
      "Precision (weighted): 0.980112114934346\n",
      "Recall (weighted): 0.98\n",
      "F1 (weighted): 0.9800069226577939\n"
     ]
    }
   ],
   "source": [
    "print(\"Precision (weighted):\", precision_score(y_test_2, y_test_predict_2, average='weighted'))\n",
    "print(\"Recall (weighted):\", recall_score(y_test_2, y_test_predict_2, average='weighted'))\n",
    "print(\"F1 (weighted):\", f1_score(y_test_2, y_test_predict_2, average='weighted'))"
   ]
  },
  {
   "cell_type": "markdown",
   "metadata": {},
   "source": [
    "### Tercer modelo"
   ]
  },
  {
   "cell_type": "code",
   "execution_count": 1078,
   "metadata": {},
   "outputs": [],
   "source": [
    "X_train_3=X_train\n",
    "X_test_3=X_test\n",
    "y_train_3=y_train\n",
    "y_test_3=y_test"
   ]
  },
  {
   "cell_type": "code",
   "execution_count": 1079,
   "metadata": {},
   "outputs": [],
   "source": [
    "parametros_3 = {\n",
    "    \"vectorizer\": TfidfVectorizer(tokenizer=word_tokenize, stop_words=stop_words),\n",
    "    \"vectorizer__lowercase\": False,\n",
    "    \"classifier__n_estimators\": 350,\n",
    "    \"classifier__criterion\": 'gini',\n",
    "    \"classifier__max_depth\": 100\n",
    "}"
   ]
  },
  {
   "cell_type": "code",
   "execution_count": 1080,
   "metadata": {},
   "outputs": [],
   "source": [
    "pipeline_3 = Pipeline(steps=[\n",
    "    (\"vectorizer\", parametros_3[\"vectorizer\"]),\n",
    "    (\"classifier\", RandomForestClassifier(\n",
    "        n_estimators=parametros_3[\"classifier__n_estimators\"],\n",
    "        criterion=parametros_3[\"classifier__criterion\"],\n",
    "        max_depth=parametros_3[\"classifier__max_depth\"],\n",
    "        random_state=4\n",
    "    ))\n",
    "])"
   ]
  },
  {
   "cell_type": "code",
   "execution_count": 1081,
   "metadata": {},
   "outputs": [
    {
     "data": {
      "text/html": [
       "<style>#sk-container-id-56 {color: black;}#sk-container-id-56 pre{padding: 0;}#sk-container-id-56 div.sk-toggleable {background-color: white;}#sk-container-id-56 label.sk-toggleable__label {cursor: pointer;display: block;width: 100%;margin-bottom: 0;padding: 0.3em;box-sizing: border-box;text-align: center;}#sk-container-id-56 label.sk-toggleable__label-arrow:before {content: \"▸\";float: left;margin-right: 0.25em;color: #696969;}#sk-container-id-56 label.sk-toggleable__label-arrow:hover:before {color: black;}#sk-container-id-56 div.sk-estimator:hover label.sk-toggleable__label-arrow:before {color: black;}#sk-container-id-56 div.sk-toggleable__content {max-height: 0;max-width: 0;overflow: hidden;text-align: left;background-color: #f0f8ff;}#sk-container-id-56 div.sk-toggleable__content pre {margin: 0.2em;color: black;border-radius: 0.25em;background-color: #f0f8ff;}#sk-container-id-56 input.sk-toggleable__control:checked~div.sk-toggleable__content {max-height: 200px;max-width: 100%;overflow: auto;}#sk-container-id-56 input.sk-toggleable__control:checked~label.sk-toggleable__label-arrow:before {content: \"▾\";}#sk-container-id-56 div.sk-estimator input.sk-toggleable__control:checked~label.sk-toggleable__label {background-color: #d4ebff;}#sk-container-id-56 div.sk-label input.sk-toggleable__control:checked~label.sk-toggleable__label {background-color: #d4ebff;}#sk-container-id-56 input.sk-hidden--visually {border: 0;clip: rect(1px 1px 1px 1px);clip: rect(1px, 1px, 1px, 1px);height: 1px;margin: -1px;overflow: hidden;padding: 0;position: absolute;width: 1px;}#sk-container-id-56 div.sk-estimator {font-family: monospace;background-color: #f0f8ff;border: 1px dotted black;border-radius: 0.25em;box-sizing: border-box;margin-bottom: 0.5em;}#sk-container-id-56 div.sk-estimator:hover {background-color: #d4ebff;}#sk-container-id-56 div.sk-parallel-item::after {content: \"\";width: 100%;border-bottom: 1px solid gray;flex-grow: 1;}#sk-container-id-56 div.sk-label:hover label.sk-toggleable__label {background-color: #d4ebff;}#sk-container-id-56 div.sk-serial::before {content: \"\";position: absolute;border-left: 1px solid gray;box-sizing: border-box;top: 0;bottom: 0;left: 50%;z-index: 0;}#sk-container-id-56 div.sk-serial {display: flex;flex-direction: column;align-items: center;background-color: white;padding-right: 0.2em;padding-left: 0.2em;position: relative;}#sk-container-id-56 div.sk-item {position: relative;z-index: 1;}#sk-container-id-56 div.sk-parallel {display: flex;align-items: stretch;justify-content: center;background-color: white;position: relative;}#sk-container-id-56 div.sk-item::before, #sk-container-id-56 div.sk-parallel-item::before {content: \"\";position: absolute;border-left: 1px solid gray;box-sizing: border-box;top: 0;bottom: 0;left: 50%;z-index: -1;}#sk-container-id-56 div.sk-parallel-item {display: flex;flex-direction: column;z-index: 1;position: relative;background-color: white;}#sk-container-id-56 div.sk-parallel-item:first-child::after {align-self: flex-end;width: 50%;}#sk-container-id-56 div.sk-parallel-item:last-child::after {align-self: flex-start;width: 50%;}#sk-container-id-56 div.sk-parallel-item:only-child::after {width: 0;}#sk-container-id-56 div.sk-dashed-wrapped {border: 1px dashed gray;margin: 0 0.4em 0.5em 0.4em;box-sizing: border-box;padding-bottom: 0.4em;background-color: white;}#sk-container-id-56 div.sk-label label {font-family: monospace;font-weight: bold;display: inline-block;line-height: 1.2em;}#sk-container-id-56 div.sk-label-container {text-align: center;}#sk-container-id-56 div.sk-container {/* jupyter's `normalize.less` sets `[hidden] { display: none; }` but bootstrap.min.css set `[hidden] { display: none !important; }` so we also need the `!important` here to be able to override the default hidden behavior on the sphinx rendered scikit-learn.org. See: https://github.com/scikit-learn/scikit-learn/issues/21755 */display: inline-block !important;position: relative;}#sk-container-id-56 div.sk-text-repr-fallback {display: none;}</style><div id=\"sk-container-id-56\" class=\"sk-top-container\"><div class=\"sk-text-repr-fallback\"><pre>Pipeline(steps=[(&#x27;vectorizer&#x27;,\n",
       "                 TfidfVectorizer(stop_words=[&#x27;de&#x27;, &#x27;la&#x27;, &#x27;que&#x27;, &#x27;el&#x27;, &#x27;en&#x27;, &#x27;y&#x27;,\n",
       "                                             &#x27;a&#x27;, &#x27;los&#x27;, &#x27;del&#x27;, &#x27;se&#x27;, &#x27;las&#x27;,\n",
       "                                             &#x27;por&#x27;, &#x27;un&#x27;, &#x27;para&#x27;, &#x27;con&#x27;, &#x27;no&#x27;,\n",
       "                                             &#x27;una&#x27;, &#x27;su&#x27;, &#x27;al&#x27;, &#x27;lo&#x27;, &#x27;como&#x27;,\n",
       "                                             &#x27;más&#x27;, &#x27;pero&#x27;, &#x27;sus&#x27;, &#x27;le&#x27;, &#x27;ya&#x27;,\n",
       "                                             &#x27;o&#x27;, &#x27;este&#x27;, &#x27;sí&#x27;, &#x27;porque&#x27;, ...],\n",
       "                                 tokenizer=&lt;function word_tokenize at 0x12fd95240&gt;)),\n",
       "                (&#x27;classifier&#x27;,\n",
       "                 RandomForestClassifier(max_depth=100, n_estimators=350,\n",
       "                                        random_state=4))])</pre><b>In a Jupyter environment, please rerun this cell to show the HTML representation or trust the notebook. <br />On GitHub, the HTML representation is unable to render, please try loading this page with nbviewer.org.</b></div><div class=\"sk-container\" hidden><div class=\"sk-item sk-dashed-wrapped\"><div class=\"sk-label-container\"><div class=\"sk-label sk-toggleable\"><input class=\"sk-toggleable__control sk-hidden--visually\" id=\"sk-estimator-id-138\" type=\"checkbox\" ><label for=\"sk-estimator-id-138\" class=\"sk-toggleable__label sk-toggleable__label-arrow\">Pipeline</label><div class=\"sk-toggleable__content\"><pre>Pipeline(steps=[(&#x27;vectorizer&#x27;,\n",
       "                 TfidfVectorizer(stop_words=[&#x27;de&#x27;, &#x27;la&#x27;, &#x27;que&#x27;, &#x27;el&#x27;, &#x27;en&#x27;, &#x27;y&#x27;,\n",
       "                                             &#x27;a&#x27;, &#x27;los&#x27;, &#x27;del&#x27;, &#x27;se&#x27;, &#x27;las&#x27;,\n",
       "                                             &#x27;por&#x27;, &#x27;un&#x27;, &#x27;para&#x27;, &#x27;con&#x27;, &#x27;no&#x27;,\n",
       "                                             &#x27;una&#x27;, &#x27;su&#x27;, &#x27;al&#x27;, &#x27;lo&#x27;, &#x27;como&#x27;,\n",
       "                                             &#x27;más&#x27;, &#x27;pero&#x27;, &#x27;sus&#x27;, &#x27;le&#x27;, &#x27;ya&#x27;,\n",
       "                                             &#x27;o&#x27;, &#x27;este&#x27;, &#x27;sí&#x27;, &#x27;porque&#x27;, ...],\n",
       "                                 tokenizer=&lt;function word_tokenize at 0x12fd95240&gt;)),\n",
       "                (&#x27;classifier&#x27;,\n",
       "                 RandomForestClassifier(max_depth=100, n_estimators=350,\n",
       "                                        random_state=4))])</pre></div></div></div><div class=\"sk-serial\"><div class=\"sk-item\"><div class=\"sk-estimator sk-toggleable\"><input class=\"sk-toggleable__control sk-hidden--visually\" id=\"sk-estimator-id-139\" type=\"checkbox\" ><label for=\"sk-estimator-id-139\" class=\"sk-toggleable__label sk-toggleable__label-arrow\">TfidfVectorizer</label><div class=\"sk-toggleable__content\"><pre>TfidfVectorizer(stop_words=[&#x27;de&#x27;, &#x27;la&#x27;, &#x27;que&#x27;, &#x27;el&#x27;, &#x27;en&#x27;, &#x27;y&#x27;, &#x27;a&#x27;, &#x27;los&#x27;,\n",
       "                            &#x27;del&#x27;, &#x27;se&#x27;, &#x27;las&#x27;, &#x27;por&#x27;, &#x27;un&#x27;, &#x27;para&#x27;, &#x27;con&#x27;,\n",
       "                            &#x27;no&#x27;, &#x27;una&#x27;, &#x27;su&#x27;, &#x27;al&#x27;, &#x27;lo&#x27;, &#x27;como&#x27;, &#x27;más&#x27;,\n",
       "                            &#x27;pero&#x27;, &#x27;sus&#x27;, &#x27;le&#x27;, &#x27;ya&#x27;, &#x27;o&#x27;, &#x27;este&#x27;, &#x27;sí&#x27;,\n",
       "                            &#x27;porque&#x27;, ...],\n",
       "                tokenizer=&lt;function word_tokenize at 0x12fd95240&gt;)</pre></div></div></div><div class=\"sk-item\"><div class=\"sk-estimator sk-toggleable\"><input class=\"sk-toggleable__control sk-hidden--visually\" id=\"sk-estimator-id-140\" type=\"checkbox\" ><label for=\"sk-estimator-id-140\" class=\"sk-toggleable__label sk-toggleable__label-arrow\">RandomForestClassifier</label><div class=\"sk-toggleable__content\"><pre>RandomForestClassifier(max_depth=100, n_estimators=350, random_state=4)</pre></div></div></div></div></div></div></div>"
      ],
      "text/plain": [
       "Pipeline(steps=[('vectorizer',\n",
       "                 TfidfVectorizer(stop_words=['de', 'la', 'que', 'el', 'en', 'y',\n",
       "                                             'a', 'los', 'del', 'se', 'las',\n",
       "                                             'por', 'un', 'para', 'con', 'no',\n",
       "                                             'una', 'su', 'al', 'lo', 'como',\n",
       "                                             'más', 'pero', 'sus', 'le', 'ya',\n",
       "                                             'o', 'este', 'sí', 'porque', ...],\n",
       "                                 tokenizer=<function word_tokenize at 0x12fd95240>)),\n",
       "                ('classifier',\n",
       "                 RandomForestClassifier(max_depth=100, n_estimators=350,\n",
       "                                        random_state=4))])"
      ]
     },
     "execution_count": 1081,
     "metadata": {},
     "output_type": "execute_result"
    }
   ],
   "source": [
    "# Entrena el modelo con tus datos\n",
    "pipeline_3.fit(X_train_3[\"words\"], y_train_3)"
   ]
  },
  {
   "cell_type": "code",
   "execution_count": 1082,
   "metadata": {},
   "outputs": [],
   "source": [
    "# Realizar predicciones en los conjuntos de entrenamiento y prueba\n",
    "y_train_predict_3 = pipeline_3.predict(X_train_3[\"words\"])\n",
    "y_test_predict_3 = pipeline_3.predict(X_test_3[\"words\"])"
   ]
  },
  {
   "cell_type": "code",
   "execution_count": 1083,
   "metadata": {},
   "outputs": [
    {
     "name": "stdout",
     "output_type": "stream",
     "text": [
      "Precision (weighted): 1.0\n",
      "Recall (weighted): 1.0\n",
      "F1 (weighted): 1.0\n"
     ]
    }
   ],
   "source": [
    "print(\"Precision (weighted):\", precision_score(y_train_3, y_train_predict_3, average='weighted'))\n",
    "print(\"Recall (weighted):\", recall_score(y_train_3, y_train_predict_3, average='weighted'))\n",
    "print(\"F1 (weighted):\", f1_score(y_train_3, y_train_predict_3, average='weighted'))"
   ]
  },
  {
   "cell_type": "code",
   "execution_count": 1084,
   "metadata": {},
   "outputs": [
    {
     "name": "stdout",
     "output_type": "stream",
     "text": [
      "Precision (weighted): 0.97883455634278\n",
      "Recall (weighted): 0.9786666666666667\n",
      "F1 (weighted): 0.9786810454293615\n"
     ]
    }
   ],
   "source": [
    "print(\"Precision (weighted):\", precision_score(y_test_3, y_test_predict_3, average='weighted'))\n",
    "print(\"Recall (weighted):\", recall_score(y_test_3, y_test_predict_3, average='weighted'))\n",
    "print(\"F1 (weighted):\", f1_score(y_test_3, y_test_predict_3, average='weighted'))"
   ]
  },
  {
   "cell_type": "markdown",
   "metadata": {},
   "source": [
    "### Generar predicciones"
   ]
  },
  {
   "cell_type": "code",
   "execution_count": 1085,
   "metadata": {},
   "outputs": [],
   "source": [
    "nuevo_df = pd.read_csv('nuevo_archivo.csv', sep=',', encoding = 'utf-8')"
   ]
  },
  {
   "cell_type": "code",
   "execution_count": 1086,
   "metadata": {},
   "outputs": [
    {
     "data": {
      "text/plain": [
       "(3000, 2)"
      ]
     },
     "execution_count": 1086,
     "metadata": {},
     "output_type": "execute_result"
    }
   ],
   "source": [
    "nuevo_df.shape"
   ]
  },
  {
   "cell_type": "code",
   "execution_count": 1087,
   "metadata": {},
   "outputs": [
    {
     "data": {
      "text/html": [
       "<div>\n",
       "<style scoped>\n",
       "    .dataframe tbody tr th:only-of-type {\n",
       "        vertical-align: middle;\n",
       "    }\n",
       "\n",
       "    .dataframe tbody tr th {\n",
       "        vertical-align: top;\n",
       "    }\n",
       "\n",
       "    .dataframe thead th {\n",
       "        text-align: right;\n",
       "    }\n",
       "</style>\n",
       "<table border=\"1\" class=\"dataframe\">\n",
       "  <thead>\n",
       "    <tr style=\"text-align: right;\">\n",
       "      <th></th>\n",
       "      <th>words</th>\n",
       "      <th>sdg</th>\n",
       "    </tr>\n",
       "  </thead>\n",
       "  <tbody>\n",
       "    <tr>\n",
       "      <th>1788</th>\n",
       "      <td>estandares marcos liderazgo escolar profesional tambien deben aclarar resaltar importancia liderazgo escolar evaluacion evaluacion general valoracion docentes evaluacion escolar particular dar ejemplo liderazgo distribuido escuelas secundarias puede ayudar brindar retroalimentacion informal regular maestros areas tematicas lider escolar individual podria necesariamente equipado considerando falta experiencia diferentes materias ocde two thousand and nine mismo tiempo distribuir liderazgo escuelas necesariamente disminuye carga trabajo lider escolar puede crear nuevos desafios lideres escolares vez requieren apoyo continuo</td>\n",
       "      <td>NaN</td>\n",
       "    </tr>\n",
       "    <tr>\n",
       "      <th>1142</th>\n",
       "      <td>jovenes decisiones toman estudiar dentro despues periodos educacion obligatoria vuelto mas importantes mas dificiles tomar objetivo orientacion profesional permitir jovenes tomen decisiones adecuadas educacion carrera ahora futuro ausencia informacion fiable fidedigna apoyo debe proporcionar buena orientacion profesional tales decisiones hacen mas dificiles costes personales sociales menudo manifiestan desajustes cualificaciones perspectivas empleo insatisfactorias ultimos anos aumentado importancia servicios orientacion profesional rapidos cambios economicos educativos dado lugar transiciones escuela trabajo ahora mas largas complejas</td>\n",
       "      <td>NaN</td>\n",
       "    </tr>\n",
       "    <tr>\n",
       "      <th>85</th>\n",
       "      <td>dispone indicadores calidad nivel nacional deberian poder desglosarse nivel hospitalario claro responsables politicos gestores profesionales sanitarios utilicen sistematicamente indicadores informacion calidad atencion primaria tambien escasa ejemplo letonia solo realiza unas pocas encuestas relacionadas salud mientras paises ocde utilizan encuestas herramientas importantes recopilar amplia gama informacion incluida relativa experiencia pacientes coordinacion asistencia seguridad pacientes</td>\n",
       "      <td>NaN</td>\n",
       "    </tr>\n",
       "    <tr>\n",
       "      <th>2133</th>\n",
       "      <td>areas mayor potencial explotar fuerza laboral alemana madres inactivas trabajadoras tiempo parcial mejor distribucion trabajo remunerado hogar acompanada politicas publicas coherentes ayuda madres mantener vinculo mercado laboral continuar carreras mujeres alemanas jovenes buena educacion comparacion hombres alemanes jovenes 321 mujeres twentyfive thirtyfour anos completado educacion terciaria comparacion 279 pares masculinos capitulo two</td>\n",
       "      <td>NaN</td>\n",
       "    </tr>\n",
       "    <tr>\n",
       "      <th>466</th>\n",
       "      <td>ejemplo finlandia reduccion numero medicos promulgada principios anos noventa frenar gasto sanitario provoco fuerte descenso numero estudiantes medicina dio lugar numero insuficiente medicos anos siguientes revirtiendo lentamente ocde 2012a controles precio medicamentos suelen fijar precio maximo farmacos establecer tope beneficios empresas farmaceuticas gran mayoria paises ocde aplican algun tipo regulacion precios farmaceuticos paris etal</td>\n",
       "      <td>NaN</td>\n",
       "    </tr>\n",
       "  </tbody>\n",
       "</table>\n",
       "</div>"
      ],
      "text/plain": [
       "                                                                                                                                                                                                                                                                                                                                                                                                                                                                                                                                                                                                                                                                    words  \\\n",
       "1788                estandares marcos liderazgo escolar profesional tambien deben aclarar resaltar importancia liderazgo escolar evaluacion evaluacion general valoracion docentes evaluacion escolar particular dar ejemplo liderazgo distribuido escuelas secundarias puede ayudar brindar retroalimentacion informal regular maestros areas tematicas lider escolar individual podria necesariamente equipado considerando falta experiencia diferentes materias ocde two thousand and nine mismo tiempo distribuir liderazgo escuelas necesariamente disminuye carga trabajo lider escolar puede crear nuevos desafios lideres escolares vez requieren apoyo continuo   \n",
       "1142  jovenes decisiones toman estudiar dentro despues periodos educacion obligatoria vuelto mas importantes mas dificiles tomar objetivo orientacion profesional permitir jovenes tomen decisiones adecuadas educacion carrera ahora futuro ausencia informacion fiable fidedigna apoyo debe proporcionar buena orientacion profesional tales decisiones hacen mas dificiles costes personales sociales menudo manifiestan desajustes cualificaciones perspectivas empleo insatisfactorias ultimos anos aumentado importancia servicios orientacion profesional rapidos cambios economicos educativos dado lugar transiciones escuela trabajo ahora mas largas complejas   \n",
       "85                                                                                                                                                         dispone indicadores calidad nivel nacional deberian poder desglosarse nivel hospitalario claro responsables politicos gestores profesionales sanitarios utilicen sistematicamente indicadores informacion calidad atencion primaria tambien escasa ejemplo letonia solo realiza unas pocas encuestas relacionadas salud mientras paises ocde utilizan encuestas herramientas importantes recopilar amplia gama informacion incluida relativa experiencia pacientes coordinacion asistencia seguridad pacientes   \n",
       "2133                                                                                                                                                                                                           areas mayor potencial explotar fuerza laboral alemana madres inactivas trabajadoras tiempo parcial mejor distribucion trabajo remunerado hogar acompanada politicas publicas coherentes ayuda madres mantener vinculo mercado laboral continuar carreras mujeres alemanas jovenes buena educacion comparacion hombres alemanes jovenes 321 mujeres twentyfive thirtyfour anos completado educacion terciaria comparacion 279 pares masculinos capitulo two   \n",
       "466                                                                                                                                                                                                          ejemplo finlandia reduccion numero medicos promulgada principios anos noventa frenar gasto sanitario provoco fuerte descenso numero estudiantes medicina dio lugar numero insuficiente medicos anos siguientes revirtiendo lentamente ocde 2012a controles precio medicamentos suelen fijar precio maximo farmacos establecer tope beneficios empresas farmaceuticas gran mayoria paises ocde aplican algun tipo regulacion precios farmaceuticos paris etal   \n",
       "\n",
       "      sdg  \n",
       "1788  NaN  \n",
       "1142  NaN  \n",
       "85    NaN  \n",
       "2133  NaN  \n",
       "466   NaN  "
      ]
     },
     "execution_count": 1087,
     "metadata": {},
     "output_type": "execute_result"
    }
   ],
   "source": [
    "nuevo_df.sample(5)"
   ]
  },
  {
   "cell_type": "code",
   "execution_count": 1088,
   "metadata": {},
   "outputs": [],
   "source": [
    "nuevo_df['sdg'] = pipeline_2.predict(nuevo_df['words'])"
   ]
  },
  {
   "cell_type": "code",
   "execution_count": 1089,
   "metadata": {},
   "outputs": [
    {
     "data": {
      "text/plain": [
       "count    3000.000000\n",
       "mean        3.997667\n",
       "std         0.817242\n",
       "min         3.000000\n",
       "25%         3.000000\n",
       "50%         4.000000\n",
       "75%         5.000000\n",
       "max         5.000000\n",
       "Name: sdg, dtype: float64"
      ]
     },
     "execution_count": 1089,
     "metadata": {},
     "output_type": "execute_result"
    }
   ],
   "source": [
    "nuevo_df['sdg'].describe()"
   ]
  },
  {
   "cell_type": "code",
   "execution_count": 1094,
   "metadata": {},
   "outputs": [
    {
     "data": {
      "image/png": "[encoded data removed]",
      "text/plain": [
       "<Figure size 640x480 with 1 Axes>"
      ]
     },
     "metadata": {},
     "output_type": "display_data"
    }
   ],
   "source": [
    "# Create a histogram plot of selling prices\n",
    "import seaborn as sns\n",
    "\n",
    "# Create a histogram plot of selling prices\n",
    "sns.histplot(nuevo_df['sdg'])\n",
    "\n",
    "plt.xlim(3, 5)\n",
    "\n",
    "# Display the plot\n",
    "plt.show()"
   ]
  },
  {
   "cell_type": "code",
   "execution_count": 1095,
   "metadata": {},
   "outputs": [
    {
     "data": {
      "image/png": "[encoded data removed]",
      "text/plain": [
       "<Figure size 640x480 with 1 Axes>"
      ]
     },
     "metadata": {},
     "output_type": "display_data"
    }
   ],
   "source": [
    "sns.histplot(data_t['sdg'])\n",
    "plt.xlim(3, 5)\n",
    "plt.show()"
   ]
  },
  {
   "cell_type": "code",
   "execution_count": 1096,
   "metadata": {},
   "outputs": [
    {
     "data": {
      "text/html": [
       "<div>\n",
       "<style scoped>\n",
       "    .dataframe tbody tr th:only-of-type {\n",
       "        vertical-align: middle;\n",
       "    }\n",
       "\n",
       "    .dataframe tbody tr th {\n",
       "        vertical-align: top;\n",
       "    }\n",
       "\n",
       "    .dataframe thead th {\n",
       "        text-align: right;\n",
       "    }\n",
       "</style>\n",
       "<table border=\"1\" class=\"dataframe\">\n",
       "  <thead>\n",
       "    <tr style=\"text-align: right;\">\n",
       "      <th></th>\n",
       "      <th>words</th>\n",
       "      <th>sdg</th>\n",
       "    </tr>\n",
       "  </thead>\n",
       "  <tbody>\n",
       "    <tr>\n",
       "      <th>580</th>\n",
       "      <td>peru prevalencia tabaquismo mayor promedio ocde hombres menor mujeres 346 hombres 83 mujeres mayores fifteen anos peru usaban tabaco diariamente two thousand and thirteen comparacion 242 155 respectivamente paises ocde ocde two thousand and sixteen mas bajo promedio ocde 88 litros two thousand and thirteen ocde two thousand and sixteen embargo 232 poblacion peruana ve afectada consumo excesivo alcohol 352 hombres 127 mujeres</td>\n",
       "      <td>3</td>\n",
       "    </tr>\n",
       "    <tr>\n",
       "      <th>2207</th>\n",
       "      <td>decada one thousand nine hundred and ninety finales two thousand dos tercios paises tasas empleo femenino aumentaron mas mujeres cuyos maridos encontraban deciles ingresos mas altos encontraban parte inferior distribucion ciertos paises italia mexico tasas empleo esposas personas altos ingresos aumentaron mas esposas personas bajos ingresos fines decada two thousand mientras principios decada one thousand nine hundred and ninety ocurrio contrario solo incluye parejas mujer hombre</td>\n",
       "      <td>5</td>\n",
       "    </tr>\n",
       "    <tr>\n",
       "      <th>813</th>\n",
       "      <td>factores incluyen edad madre residencia urbanarural caracteristicas clave nino sexo orden nacimiento duracion intervalo nacimientos anterior politicas salud enfocan reducir desigualdades propuestas fondo naciones unidas infancia unicef parecen tener mas probabilidades generar grandes retornos inversiones realizan paises evitando mas muertes infantiles maternas politicas enfocadas mejorar niveles generales salud mortalidad prestar atencion papel desigualdades si bien importante invertir nivel mundial salud materna adolescente infantil every woman every child two thousand and fifteen fundamental esfuerzos dirijan ninos economicamente mas vulnerables familias</td>\n",
       "      <td>3</td>\n",
       "    </tr>\n",
       "    <tr>\n",
       "      <th>42</th>\n",
       "      <td>respuesta director general presento informe reforma trabajo oms gestion emergencias sanitarias programa emergencias sanitarias oms 70723 secretario general incluyen revision the neglected dimension of global security framework to counter infectious disease crises academia nacional medicina nam 2 b iniciativa conjunta universidad harvard london school of hygiene and tropical medicine moon two thousand and fifteen c revision panel independiente creado fundacion bill melinda gates d revision msf two thousand and fifteen</td>\n",
       "      <td>3</td>\n",
       "    </tr>\n",
       "    <tr>\n",
       "      <th>2790</th>\n",
       "      <td>enfoque informe instrumentos promover equilibrio genero mundo academico luego presenta descripcion general principales medidas programas politica iniciados autoridades gubernamentales promover equilibrio genero investigacion tambien dan ejemplos acciones tomadas consejos nacionales investigacion nordicos institucion nordica conjunta nordforsk abordar equilibrio genero</td>\n",
       "      <td>5</td>\n",
       "    </tr>\n",
       "  </tbody>\n",
       "</table>\n",
       "</div>"
      ],
      "text/plain": [
       "                                                                                                                                                                                                                                                                                                                                                                                                                                                                                                                                                                                                                                                                                         words  \\\n",
       "580                                                                                                                                                                                                                                               peru prevalencia tabaquismo mayor promedio ocde hombres menor mujeres 346 hombres 83 mujeres mayores fifteen anos peru usaban tabaco diariamente two thousand and thirteen comparacion 242 155 respectivamente paises ocde ocde two thousand and sixteen mas bajo promedio ocde 88 litros two thousand and thirteen ocde two thousand and sixteen embargo 232 poblacion peruana ve afectada consumo excesivo alcohol 352 hombres 127 mujeres   \n",
       "2207                                                                                                                                                                                      decada one thousand nine hundred and ninety finales two thousand dos tercios paises tasas empleo femenino aumentaron mas mujeres cuyos maridos encontraban deciles ingresos mas altos encontraban parte inferior distribucion ciertos paises italia mexico tasas empleo esposas personas altos ingresos aumentaron mas esposas personas bajos ingresos fines decada two thousand mientras principios decada one thousand nine hundred and ninety ocurrio contrario solo incluye parejas mujer hombre   \n",
       "813   factores incluyen edad madre residencia urbanarural caracteristicas clave nino sexo orden nacimiento duracion intervalo nacimientos anterior politicas salud enfocan reducir desigualdades propuestas fondo naciones unidas infancia unicef parecen tener mas probabilidades generar grandes retornos inversiones realizan paises evitando mas muertes infantiles maternas politicas enfocadas mejorar niveles generales salud mortalidad prestar atencion papel desigualdades si bien importante invertir nivel mundial salud materna adolescente infantil every woman every child two thousand and fifteen fundamental esfuerzos dirijan ninos economicamente mas vulnerables familias   \n",
       "42                                                                                                                                                  respuesta director general presento informe reforma trabajo oms gestion emergencias sanitarias programa emergencias sanitarias oms 70723 secretario general incluyen revision the neglected dimension of global security framework to counter infectious disease crises academia nacional medicina nam 2 b iniciativa conjunta universidad harvard london school of hygiene and tropical medicine moon two thousand and fifteen c revision panel independiente creado fundacion bill melinda gates d revision msf two thousand and fifteen   \n",
       "2790                                                                                                                                                                                                                                                                                                        enfoque informe instrumentos promover equilibrio genero mundo academico luego presenta descripcion general principales medidas programas politica iniciados autoridades gubernamentales promover equilibrio genero investigacion tambien dan ejemplos acciones tomadas consejos nacionales investigacion nordicos institucion nordica conjunta nordforsk abordar equilibrio genero   \n",
       "\n",
       "      sdg  \n",
       "580     3  \n",
       "2207    5  \n",
       "813     3  \n",
       "42      3  \n",
       "2790    5  "
      ]
     },
     "execution_count": 1096,
     "metadata": {},
     "output_type": "execute_result"
    }
   ],
   "source": [
    "nuevo_df.sample(5)"
   ]
  }
 ],
 "metadata": {
  "kernelspec": {
   "display_name": "Python 3",
   "language": "python",
   "name": "python3"
  },
  "language_info": {
   "codemirror_mode": {
    "name": "ipython",
    "version": 3
   },
   "file_extension": ".py",
   "mimetype": "text/x-python",
   "name": "python",
   "nbconvert_exporter": "python",
   "pygments_lexer": "ipython3",
   "version": "3.9.13"
  }
 },
 "nbformat": 4,
 "nbformat_minor": 2
}
