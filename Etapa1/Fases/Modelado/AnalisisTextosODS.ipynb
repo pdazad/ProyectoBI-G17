{
 "cells": [
  {
   "cell_type": "markdown",
   "metadata": {},
   "source": [
    "# Proyecto BI - Análitica de Texto según ODS"
   ]
  },
  {
   "cell_type": "markdown",
   "metadata": {},
   "source": [
    "## Etapa 1"
   ]
  },
  {
   "cell_type": "markdown",
   "metadata": {},
   "source": [
    "## Objetivos\n",
    "\n",
    "*   Aplicar la metodología de analítica de textos para la construcción de soluciones de analítica alineadas con los objetivos del negocio en un contexto de aplicación.\n",
    "*   Planear la interacción con un grupo interdisciplinario para identificar usuarios y posibles herramientas a desarrollar para la interacción del resultado del modelo desarrollado."
   ]
  },
  {
   "cell_type": "markdown",
   "metadata": {},
   "source": [
    "## Problema\n",
    "<p style=\"text-align: justify;\"> Desarrollar un modelo de clasificación, con técnicas de aprendizaje automático, que permita relacionar de manera automática un texto según los ODS. Al igual que desarrollar una aplicación que facilite la interacción con el resultado de dicho modelo. El modelo podrá ser utilizado entonces para la interpretación y análisis de la información textual que es recopilada a través de diferentes fuentes por UNFPA en procesos de planeación participativa para el desarrollo a nivel territorial.\n"
   ]
  },
  {
   "cell_type": "markdown",
   "metadata": {},
   "source": [
    "### 1. Instalación e importanción de librerías."
   ]
  },
  {
   "cell_type": "code",
   "execution_count": 37,
   "metadata": {},
   "outputs": [
    {
     "name": "stdout",
     "output_type": "stream",
     "text": [
      "Requirement already satisfied: ftfy in c:\\users\\paula\\appdata\\local\\packages\\pythonsoftwarefoundation.python.3.9_qbz5n2kfra8p0\\localcache\\local-packages\\python39\\site-packages (6.1.1)\n",
      "Requirement already satisfied: wcwidth>=0.2.5 in c:\\users\\paula\\appdata\\local\\packages\\pythonsoftwarefoundation.python.3.9_qbz5n2kfra8p0\\localcache\\local-packages\\python39\\site-packages (from ftfy) (0.2.5)\n"
     ]
    }
   ],
   "source": [
    "!pip install ftfy"
   ]
  },
  {
   "cell_type": "code",
   "execution_count": 38,
   "metadata": {},
   "outputs": [
    {
     "name": "stdout",
     "output_type": "stream",
     "text": [
      "Requirement already satisfied: openpyxl in c:\\users\\paula\\appdata\\local\\packages\\pythonsoftwarefoundation.python.3.9_qbz5n2kfra8p0\\localcache\\local-packages\\python39\\site-packages (3.1.2)Note: you may need to restart the kernel to use updated packages.\n",
      "\n",
      "Requirement already satisfied: et-xmlfile in c:\\users\\paula\\appdata\\local\\packages\\pythonsoftwarefoundation.python.3.9_qbz5n2kfra8p0\\localcache\\local-packages\\python39\\site-packages (from openpyxl) (1.1.0)\n"
     ]
    }
   ],
   "source": [
    "pip install openpyxl"
   ]
  },
  {
   "cell_type": "code",
   "execution_count": 39,
   "metadata": {},
   "outputs": [
    {
     "name": "stdout",
     "output_type": "stream",
     "text": [
      "Requirement already satisfied: unidecode in c:\\users\\paula\\appdata\\local\\packages\\pythonsoftwarefoundation.python.3.9_qbz5n2kfra8p0\\localcache\\local-packages\\python39\\site-packages (1.3.7)\n"
     ]
    }
   ],
   "source": [
    "!pip install unidecode"
   ]
  },
  {
   "cell_type": "code",
   "execution_count": 40,
   "metadata": {},
   "outputs": [
    {
     "name": "stdout",
     "output_type": "stream",
     "text": [
      "Requirement already satisfied: contractions in c:\\users\\paula\\appdata\\local\\packages\\pythonsoftwarefoundation.python.3.9_qbz5n2kfra8p0\\localcache\\local-packages\\python39\\site-packages (0.1.73)\n",
      "Requirement already satisfied: textsearch>=0.0.21 in c:\\users\\paula\\appdata\\local\\packages\\pythonsoftwarefoundation.python.3.9_qbz5n2kfra8p0\\localcache\\local-packages\\python39\\site-packages (from contractions) (0.0.24)\n",
      "Requirement already satisfied: anyascii in c:\\users\\paula\\appdata\\local\\packages\\pythonsoftwarefoundation.python.3.9_qbz5n2kfra8p0\\localcache\\local-packages\\python39\\site-packages (from textsearch>=0.0.21->contractions) (0.3.2)\n",
      "Requirement already satisfied: pyahocorasick in c:\\users\\paula\\appdata\\local\\packages\\pythonsoftwarefoundation.python.3.9_qbz5n2kfra8p0\\localcache\\local-packages\\python39\\site-packages (from textsearch>=0.0.21->contractions) (2.0.0)\n"
     ]
    }
   ],
   "source": [
    "# Librería para manejar las contracciones que se presentan en el inglés.\n",
    "!pip install contractions"
   ]
  },
  {
   "cell_type": "code",
   "execution_count": 41,
   "metadata": {},
   "outputs": [
    {
     "name": "stdout",
     "output_type": "stream",
     "text": [
      "Requirement already satisfied: inflect in c:\\users\\paula\\appdata\\local\\packages\\pythonsoftwarefoundation.python.3.9_qbz5n2kfra8p0\\localcache\\local-packages\\python39\\site-packages (7.0.0)\n",
      "Requirement already satisfied: pydantic>=1.9.1 in c:\\users\\paula\\appdata\\local\\packages\\pythonsoftwarefoundation.python.3.9_qbz5n2kfra8p0\\localcache\\local-packages\\python39\\site-packages (from inflect) (1.10.12)\n",
      "Requirement already satisfied: typing-extensions in c:\\users\\paula\\appdata\\local\\packages\\pythonsoftwarefoundation.python.3.9_qbz5n2kfra8p0\\localcache\\local-packages\\python39\\site-packages (from inflect) (4.7.1)\n"
     ]
    },
    {
     "name": "stderr",
     "output_type": "stream",
     "text": [
      "ERROR: Could not find a version that satisfies the requirement pandas-profiling==2.7.1 (from versions: 3.0.0, 3.1.0, 3.2.0, 3.3.0, 3.4.0, 3.5.0, 3.6.0, 3.6.1, 3.6.2, 3.6.3, 3.6.4, 3.6.5, 3.6.6)\n",
      "ERROR: No matching distribution found for pandas-profiling==2.7.1\n"
     ]
    }
   ],
   "source": [
    "# librería para manejar las flexiones gramaticales en el idioma inglés.\n",
    "!pip install inflect\n",
    "!pip install pandas-profiling==2.7.1"
   ]
  },
  {
   "cell_type": "code",
   "execution_count": 42,
   "metadata": {},
   "outputs": [
    {
     "name": "stderr",
     "output_type": "stream",
     "text": [
      "[nltk_data] Downloading package punkt to\n",
      "[nltk_data]     C:\\Users\\paula\\AppData\\Roaming\\nltk_data...\n",
      "[nltk_data]   Package punkt is already up-to-date!\n"
     ]
    },
    {
     "data": {
      "text/plain": [
       "True"
      ]
     },
     "execution_count": 42,
     "metadata": {},
     "output_type": "execute_result"
    }
   ],
   "source": [
    "# librería Natural Language Toolkit, usada para trabajar con textos \n",
    "import nltk\n",
    "# Punkt permite separar un texto en frases.\n",
    "nltk.download('punkt')"
   ]
  },
  {
   "cell_type": "code",
   "execution_count": 43,
   "metadata": {},
   "outputs": [
    {
     "name": "stderr",
     "output_type": "stream",
     "text": [
      "[nltk_data] Downloading package wordnet to\n",
      "[nltk_data]     C:\\Users\\paula\\AppData\\Roaming\\nltk_data...\n",
      "[nltk_data]   Package wordnet is already up-to-date!\n"
     ]
    },
    {
     "data": {
      "text/plain": [
       "True"
      ]
     },
     "execution_count": 43,
     "metadata": {},
     "output_type": "execute_result"
    }
   ],
   "source": [
    "# Descarga de paquete WordNetLemmatizer, este es usado para encontrar el lema de cada palabra\n",
    "# ¿Qué es el lema de una palabra? ¿Qué tan dificil puede ser obtenerlo, piensa en el caso en que tuvieras que escribir la función que realiza esta tarea?\n",
    "nltk.download('wordnet')"
   ]
  },
  {
   "cell_type": "code",
   "execution_count": 44,
   "metadata": {},
   "outputs": [],
   "source": [
    "# Instalación de librerias\n",
    "import pandas as pd\n",
    "import numpy as np\n",
    "import sys\n",
    "from pandas_profiling import ProfileReport\n",
    "from unidecode import unidecode\n",
    "\n",
    "import re, string, unicodedata\n",
    "import contractions\n",
    "import inflect\n",
    "from nltk import word_tokenize, sent_tokenize\n",
    "from nltk.corpus import stopwords\n",
    "from nltk.stem import LancasterStemmer, WordNetLemmatizer\n",
    "\n",
    "from sklearn.model_selection import train_test_split,GridSearchCV\n",
    "from sklearn.feature_extraction.text import TfidfVectorizer, CountVectorizer, HashingVectorizer\n",
    "from sklearn.pipeline import Pipeline, FeatureUnion\n",
    "from sklearn.svm import SVC\n",
    "from sklearn.ensemble import BaggingClassifier, RandomForestClassifier, AdaBoostClassifier\n",
    "from sklearn.naive_bayes import BernoulliNB\n",
    "from sklearn.metrics import classification_report, confusion_matrix\n",
    "#from sklearn.metrics import plot_precision_recall_curve\n",
    "from sklearn.base import BaseEstimator, ClassifierMixin\n",
    "from nltk.tokenize import word_tokenize\n",
    "from sklearn.metrics import (\n",
    "    ConfusionMatrixDisplay, RocCurveDisplay,\n",
    "    roc_auc_score, precision_score, recall_score, f1_score\n",
    ")\n",
    "from sklearn.model_selection import train_test_split, RandomizedSearchCV\n",
    "from sklearn.pipeline import Pipeline\n",
    "\n",
    "import matplotlib.pyplot as plt\n"
   ]
  },
  {
   "cell_type": "code",
   "execution_count": 45,
   "metadata": {},
   "outputs": [],
   "source": [
    "import warnings\n",
    "warnings.filterwarnings(\"ignore\")"
   ]
  },
  {
   "cell_type": "code",
   "execution_count": 46,
   "metadata": {},
   "outputs": [],
   "source": [
    "# Configuring pandas to show all cell content\n",
    "pd.set_option(\"display.max_colwidth\", None)"
   ]
  },
  {
   "cell_type": "code",
   "execution_count": 47,
   "metadata": {},
   "outputs": [
    {
     "name": "stderr",
     "output_type": "stream",
     "text": [
      "[nltk_data] Downloading package punkt to\n",
      "[nltk_data]     C:\\Users\\paula\\AppData\\Roaming\\nltk_data...\n",
      "[nltk_data]   Package punkt is already up-to-date!\n",
      "[nltk_data] Downloading package stopwords to\n",
      "[nltk_data]     C:\\Users\\paula\\AppData\\Roaming\\nltk_data...\n",
      "[nltk_data]   Package stopwords is already up-to-date!\n"
     ]
    }
   ],
   "source": [
    "# Downloading stopwords\n",
    "nltk.download(\"punkt\")\n",
    "nltk.download(\"stopwords\")\n",
    "stop_words = stopwords.words(\"spanish\")"
   ]
  },
  {
   "cell_type": "code",
   "execution_count": 48,
   "metadata": {},
   "outputs": [
    {
     "data": {
      "text/plain": [
       "['de',\n",
       " 'la',\n",
       " 'que',\n",
       " 'el',\n",
       " 'en',\n",
       " 'y',\n",
       " 'a',\n",
       " 'los',\n",
       " 'del',\n",
       " 'se',\n",
       " 'las',\n",
       " 'por',\n",
       " 'un',\n",
       " 'para',\n",
       " 'con',\n",
       " 'no',\n",
       " 'una',\n",
       " 'su',\n",
       " 'al',\n",
       " 'lo',\n",
       " 'como',\n",
       " 'más',\n",
       " 'pero',\n",
       " 'sus',\n",
       " 'le',\n",
       " 'ya',\n",
       " 'o',\n",
       " 'este',\n",
       " 'sí',\n",
       " 'porque',\n",
       " 'esta',\n",
       " 'entre',\n",
       " 'cuando',\n",
       " 'muy',\n",
       " 'sin',\n",
       " 'sobre',\n",
       " 'también',\n",
       " 'me',\n",
       " 'hasta',\n",
       " 'hay',\n",
       " 'donde',\n",
       " 'quien',\n",
       " 'desde',\n",
       " 'todo',\n",
       " 'nos',\n",
       " 'durante',\n",
       " 'todos',\n",
       " 'uno',\n",
       " 'les',\n",
       " 'ni',\n",
       " 'contra',\n",
       " 'otros',\n",
       " 'ese',\n",
       " 'eso',\n",
       " 'ante',\n",
       " 'ellos',\n",
       " 'e',\n",
       " 'esto',\n",
       " 'mí',\n",
       " 'antes',\n",
       " 'algunos',\n",
       " 'qué',\n",
       " 'unos',\n",
       " 'yo',\n",
       " 'otro',\n",
       " 'otras',\n",
       " 'otra',\n",
       " 'él',\n",
       " 'tanto',\n",
       " 'esa',\n",
       " 'estos',\n",
       " 'mucho',\n",
       " 'quienes',\n",
       " 'nada',\n",
       " 'muchos',\n",
       " 'cual',\n",
       " 'poco',\n",
       " 'ella',\n",
       " 'estar',\n",
       " 'estas',\n",
       " 'algunas',\n",
       " 'algo',\n",
       " 'nosotros',\n",
       " 'mi',\n",
       " 'mis',\n",
       " 'tú',\n",
       " 'te',\n",
       " 'ti',\n",
       " 'tu',\n",
       " 'tus',\n",
       " 'ellas',\n",
       " 'nosotras',\n",
       " 'vosotros',\n",
       " 'vosotras',\n",
       " 'os',\n",
       " 'mío',\n",
       " 'mía',\n",
       " 'míos',\n",
       " 'mías',\n",
       " 'tuyo',\n",
       " 'tuya',\n",
       " 'tuyos',\n",
       " 'tuyas',\n",
       " 'suyo',\n",
       " 'suya',\n",
       " 'suyos',\n",
       " 'suyas',\n",
       " 'nuestro',\n",
       " 'nuestra',\n",
       " 'nuestros',\n",
       " 'nuestras',\n",
       " 'vuestro',\n",
       " 'vuestra',\n",
       " 'vuestros',\n",
       " 'vuestras',\n",
       " 'esos',\n",
       " 'esas',\n",
       " 'estoy',\n",
       " 'estás',\n",
       " 'está',\n",
       " 'estamos',\n",
       " 'estáis',\n",
       " 'están',\n",
       " 'esté',\n",
       " 'estés',\n",
       " 'estemos',\n",
       " 'estéis',\n",
       " 'estén',\n",
       " 'estaré',\n",
       " 'estarás',\n",
       " 'estará',\n",
       " 'estaremos',\n",
       " 'estaréis',\n",
       " 'estarán',\n",
       " 'estaría',\n",
       " 'estarías',\n",
       " 'estaríamos',\n",
       " 'estaríais',\n",
       " 'estarían',\n",
       " 'estaba',\n",
       " 'estabas',\n",
       " 'estábamos',\n",
       " 'estabais',\n",
       " 'estaban',\n",
       " 'estuve',\n",
       " 'estuviste',\n",
       " 'estuvo',\n",
       " 'estuvimos',\n",
       " 'estuvisteis',\n",
       " 'estuvieron',\n",
       " 'estuviera',\n",
       " 'estuvieras',\n",
       " 'estuviéramos',\n",
       " 'estuvierais',\n",
       " 'estuvieran',\n",
       " 'estuviese',\n",
       " 'estuvieses',\n",
       " 'estuviésemos',\n",
       " 'estuvieseis',\n",
       " 'estuviesen',\n",
       " 'estando',\n",
       " 'estado',\n",
       " 'estada',\n",
       " 'estados',\n",
       " 'estadas',\n",
       " 'estad',\n",
       " 'he',\n",
       " 'has',\n",
       " 'ha',\n",
       " 'hemos',\n",
       " 'habéis',\n",
       " 'han',\n",
       " 'haya',\n",
       " 'hayas',\n",
       " 'hayamos',\n",
       " 'hayáis',\n",
       " 'hayan',\n",
       " 'habré',\n",
       " 'habrás',\n",
       " 'habrá',\n",
       " 'habremos',\n",
       " 'habréis',\n",
       " 'habrán',\n",
       " 'habría',\n",
       " 'habrías',\n",
       " 'habríamos',\n",
       " 'habríais',\n",
       " 'habrían',\n",
       " 'había',\n",
       " 'habías',\n",
       " 'habíamos',\n",
       " 'habíais',\n",
       " 'habían',\n",
       " 'hube',\n",
       " 'hubiste',\n",
       " 'hubo',\n",
       " 'hubimos',\n",
       " 'hubisteis',\n",
       " 'hubieron',\n",
       " 'hubiera',\n",
       " 'hubieras',\n",
       " 'hubiéramos',\n",
       " 'hubierais',\n",
       " 'hubieran',\n",
       " 'hubiese',\n",
       " 'hubieses',\n",
       " 'hubiésemos',\n",
       " 'hubieseis',\n",
       " 'hubiesen',\n",
       " 'habiendo',\n",
       " 'habido',\n",
       " 'habida',\n",
       " 'habidos',\n",
       " 'habidas',\n",
       " 'soy',\n",
       " 'eres',\n",
       " 'es',\n",
       " 'somos',\n",
       " 'sois',\n",
       " 'son',\n",
       " 'sea',\n",
       " 'seas',\n",
       " 'seamos',\n",
       " 'seáis',\n",
       " 'sean',\n",
       " 'seré',\n",
       " 'serás',\n",
       " 'será',\n",
       " 'seremos',\n",
       " 'seréis',\n",
       " 'serán',\n",
       " 'sería',\n",
       " 'serías',\n",
       " 'seríamos',\n",
       " 'seríais',\n",
       " 'serían',\n",
       " 'era',\n",
       " 'eras',\n",
       " 'éramos',\n",
       " 'erais',\n",
       " 'eran',\n",
       " 'fui',\n",
       " 'fuiste',\n",
       " 'fue',\n",
       " 'fuimos',\n",
       " 'fuisteis',\n",
       " 'fueron',\n",
       " 'fuera',\n",
       " 'fueras',\n",
       " 'fuéramos',\n",
       " 'fuerais',\n",
       " 'fueran',\n",
       " 'fuese',\n",
       " 'fueses',\n",
       " 'fuésemos',\n",
       " 'fueseis',\n",
       " 'fuesen',\n",
       " 'sintiendo',\n",
       " 'sentido',\n",
       " 'sentida',\n",
       " 'sentidos',\n",
       " 'sentidas',\n",
       " 'siente',\n",
       " 'sentid',\n",
       " 'tengo',\n",
       " 'tienes',\n",
       " 'tiene',\n",
       " 'tenemos',\n",
       " 'tenéis',\n",
       " 'tienen',\n",
       " 'tenga',\n",
       " 'tengas',\n",
       " 'tengamos',\n",
       " 'tengáis',\n",
       " 'tengan',\n",
       " 'tendré',\n",
       " 'tendrás',\n",
       " 'tendrá',\n",
       " 'tendremos',\n",
       " 'tendréis',\n",
       " 'tendrán',\n",
       " 'tendría',\n",
       " 'tendrías',\n",
       " 'tendríamos',\n",
       " 'tendríais',\n",
       " 'tendrían',\n",
       " 'tenía',\n",
       " 'tenías',\n",
       " 'teníamos',\n",
       " 'teníais',\n",
       " 'tenían',\n",
       " 'tuve',\n",
       " 'tuviste',\n",
       " 'tuvo',\n",
       " 'tuvimos',\n",
       " 'tuvisteis',\n",
       " 'tuvieron',\n",
       " 'tuviera',\n",
       " 'tuvieras',\n",
       " 'tuviéramos',\n",
       " 'tuvierais',\n",
       " 'tuvieran',\n",
       " 'tuviese',\n",
       " 'tuvieses',\n",
       " 'tuviésemos',\n",
       " 'tuvieseis',\n",
       " 'tuviesen',\n",
       " 'teniendo',\n",
       " 'tenido',\n",
       " 'tenida',\n",
       " 'tenidos',\n",
       " 'tenidas',\n",
       " 'tened']"
      ]
     },
     "execution_count": 48,
     "metadata": {},
     "output_type": "execute_result"
    }
   ],
   "source": [
    "stop_words\n"
   ]
  },
  {
   "cell_type": "markdown",
   "metadata": {},
   "source": [
    "### 2. Perfilamiento y entendimiento de los datos"
   ]
  },
  {
   "cell_type": "markdown",
   "metadata": {},
   "source": [
    "\n",
    "#### Lectura de los datos."
   ]
  },
  {
   "cell_type": "code",
   "execution_count": 49,
   "metadata": {},
   "outputs": [],
   "source": [
    "# Uso de la libreria pandas para la lectura de archivos excel\n",
    "df = pd.read_excel('./data/cat_345.xlsx')\n",
    "# Asignación a una nueva variable de los datos leidos\n",
    "data_t=df\n"
   ]
  },
  {
   "cell_type": "code",
   "execution_count": 50,
   "metadata": {},
   "outputs": [
    {
     "data": {
      "text/plain": [
       "(3000, 2)"
      ]
     },
     "execution_count": 50,
     "metadata": {},
     "output_type": "execute_result"
    }
   ],
   "source": [
    "data_t.shape"
   ]
  },
  {
   "cell_type": "code",
   "execution_count": 51,
   "metadata": {},
   "outputs": [
    {
     "data": {
      "text/html": [
       "<div>\n",
       "<style scoped>\n",
       "    .dataframe tbody tr th:only-of-type {\n",
       "        vertical-align: middle;\n",
       "    }\n",
       "\n",
       "    .dataframe tbody tr th {\n",
       "        vertical-align: top;\n",
       "    }\n",
       "\n",
       "    .dataframe thead th {\n",
       "        text-align: right;\n",
       "    }\n",
       "</style>\n",
       "<table border=\"1\" class=\"dataframe\">\n",
       "  <thead>\n",
       "    <tr style=\"text-align: right;\">\n",
       "      <th></th>\n",
       "      <th>Textos_espanol</th>\n",
       "      <th>sdg</th>\n",
       "    </tr>\n",
       "  </thead>\n",
       "  <tbody>\n",
       "    <tr>\n",
       "      <th>2399</th>\n",
       "      <td>También han llevado a cabo una variedad de proyectos de investigación relacionados con la condición de las mujeres y las niñas. Por ejemplo, la Comisión Nacional de Mujeres Libanesas inició una campaña para presionar por una reforma legal en el campo de los derechos económicos y publicó un estudio sobre los derechos de las mujeres en la ley libanesa. A menudo se cita a Marruecos por su compromiso con la presupuestación sensible al género. Publica un informe presupuestario anual que brinda todos los detalles sobre sus gastos desglosados ​​por sexo, y recientemente dio un paso más con una Ley Orgánica de Finanzas (2014) que consagra la igualdad de género como un principio clave en los objetivos e indicadores de desempeño del gobierno nacional marroquí. presupuesto.51 Además, Egipto ha creado una Unidad de Igualdad de Oportunidades dentro de su Ministerio de Finanzas, y Palestina ha formado un Comité Nacional para supervisar el desarrollo de presupuestos más sensibles al género en el futuro.</td>\n",
       "      <td>5</td>\n",
       "    </tr>\n",
       "    <tr>\n",
       "      <th>325</th>\n",
       "      <td>En Ulaanbaatar, las pruebas de metales pesados ​​mostraron que las concentraciones de plomo, cadmio y mercurio en 58 muestras estaban dentro de las normas de Mongolia (MNS 5850:2008). Kosheleva, Natalia E. et al. La contaminación por metales pesados ​​proviene de diferentes fuentes, como la producción de curtidos, las actividades mineras, las zonas de tráfico y la ingeniería de calor y energía.</td>\n",
       "      <td>3</td>\n",
       "    </tr>\n",
       "    <tr>\n",
       "      <th>2297</th>\n",
       "      <td>Las mujeres informaron el 32 % de las noticias danesas, pero los periodistas hombres y mujeres no informan por igual sobre todos los temas noticiosos. Las mujeres informaron solo el 15% de las noticias sobre política o economía y las reporteras también eran más propensas que los hombres a utilizar sujetos noticiosos femeninos y poner a una mujer en el centro de atención de una historia. Sin embargo, la mayoría de los periodistas hombres y mujeres utilizaron fuentes de noticias masculinas y solo el 13 % de las noticias tenían a una mujer en el centro de atención en 2015.</td>\n",
       "      <td>5</td>\n",
       "    </tr>\n",
       "    <tr>\n",
       "      <th>2669</th>\n",
       "      <td>Las estrategias para el empoderamiento económico de las mujeres deben tener en cuenta las diferencias en las experiencias, necesidades y prioridades de las mujeres. Existen sólidos fundamentos de desarrollo para mejorar el acceso de las mujeres a una variedad de recursos económicos y financieros. Un conjunto de fundamentos gira en torno a las implicaciones del acceso de las mujeres a los recursos para el bienestar de sus hijos.</td>\n",
       "      <td>5</td>\n",
       "    </tr>\n",
       "    <tr>\n",
       "      <th>763</th>\n",
       "      <td>En estos sistemas, la asistencia sanitaria la presta principalmente el sector público y se financia a través de los impuestos. Dos rasgos distintivos del sistema finlandés son un alto grado de descentralización y un sistema paralelo de financiación que combina la fiscalidad y el seguro nacional de enfermedad (Figura 2.4). Excluida la asistencia sanitaria ocupacional y estudiantil, así como la asistencia dental. Inversiones sanitarias brutas, asistencia sanitaria ocupacional y estudiantil y aparatos terapéuticos.</td>\n",
       "      <td>3</td>\n",
       "    </tr>\n",
       "  </tbody>\n",
       "</table>\n",
       "</div>"
      ],
      "text/plain": [
       "                                                                                                                                                                                                                                                                                                                                                                                                                                                                                                                                                                                                                                                                                                                                                                                                                                                                                                                                                                                                                                   Textos_espanol  \\\n",
       "2399  También han llevado a cabo una variedad de proyectos de investigación relacionados con la condición de las mujeres y las niñas. Por ejemplo, la Comisión Nacional de Mujeres Libanesas inició una campaña para presionar por una reforma legal en el campo de los derechos económicos y publicó un estudio sobre los derechos de las mujeres en la ley libanesa. A menudo se cita a Marruecos por su compromiso con la presupuestación sensible al género. Publica un informe presupuestario anual que brinda todos los detalles sobre sus gastos desglosados ​​por sexo, y recientemente dio un paso más con una Ley Orgánica de Finanzas (2014) que consagra la igualdad de género como un principio clave en los objetivos e indicadores de desempeño del gobierno nacional marroquí. presupuesto.51 Además, Egipto ha creado una Unidad de Igualdad de Oportunidades dentro de su Ministerio de Finanzas, y Palestina ha formado un Comité Nacional para supervisar el desarrollo de presupuestos más sensibles al género en el futuro.   \n",
       "325                                                                                                                                                                                                                                                                                                                                                                                                                                                                                                                                                                                                                                 En Ulaanbaatar, las pruebas de metales pesados ​​mostraron que las concentraciones de plomo, cadmio y mercurio en 58 muestras estaban dentro de las normas de Mongolia (MNS 5850:2008). Kosheleva, Natalia E. et al. La contaminación por metales pesados ​​proviene de diferentes fuentes, como la producción de curtidos, las actividades mineras, las zonas de tráfico y la ingeniería de calor y energía.   \n",
       "2297                                                                                                                                                                                                                                                                                                                                                                                                                                             Las mujeres informaron el 32 % de las noticias danesas, pero los periodistas hombres y mujeres no informan por igual sobre todos los temas noticiosos. Las mujeres informaron solo el 15% de las noticias sobre política o economía y las reporteras también eran más propensas que los hombres a utilizar sujetos noticiosos femeninos y poner a una mujer en el centro de atención de una historia. Sin embargo, la mayoría de los periodistas hombres y mujeres utilizaron fuentes de noticias masculinas y solo el 13 % de las noticias tenían a una mujer en el centro de atención en 2015.   \n",
       "2669                                                                                                                                                                                                                                                                                                                                                                                                                                                                                                                                                                                              Las estrategias para el empoderamiento económico de las mujeres deben tener en cuenta las diferencias en las experiencias, necesidades y prioridades de las mujeres. Existen sólidos fundamentos de desarrollo para mejorar el acceso de las mujeres a una variedad de recursos económicos y financieros. Un conjunto de fundamentos gira en torno a las implicaciones del acceso de las mujeres a los recursos para el bienestar de sus hijos.   \n",
       "763                                                                                                                                                                                                                                                                                                                                                                                                                                                                                                         En estos sistemas, la asistencia sanitaria la presta principalmente el sector público y se financia a través de los impuestos. Dos rasgos distintivos del sistema finlandés son un alto grado de descentralización y un sistema paralelo de financiación que combina la fiscalidad y el seguro nacional de enfermedad (Figura 2.4). Excluida la asistencia sanitaria ocupacional y estudiantil, así como la asistencia dental. Inversiones sanitarias brutas, asistencia sanitaria ocupacional y estudiantil y aparatos terapéuticos.   \n",
       "\n",
       "      sdg  \n",
       "2399    5  \n",
       "325     3  \n",
       "2297    5  \n",
       "2669    5  \n",
       "763     3  "
      ]
     },
     "execution_count": 51,
     "metadata": {},
     "output_type": "execute_result"
    }
   ],
   "source": [
    "data_t.sample(5)"
   ]
  },
  {
   "cell_type": "markdown",
   "metadata": {},
   "source": [
    "## 2.1 Limpieza de datos"
   ]
  },
  {
   "cell_type": "code",
   "execution_count": 52,
   "metadata": {},
   "outputs": [
    {
     "data": {
      "text/plain": [
       "sdg\n",
       "3    0.333333\n",
       "4    0.333333\n",
       "5    0.333333\n",
       "Name: proportion, dtype: float64"
      ]
     },
     "execution_count": 52,
     "metadata": {},
     "output_type": "execute_result"
    }
   ],
   "source": [
    "data_t[\"sdg\"].value_counts(dropna=False, normalize=True)"
   ]
  },
  {
   "cell_type": "code",
   "execution_count": 53,
   "metadata": {},
   "outputs": [],
   "source": [
    "data_t[\"Textos_espanol\"] = data_t[\"Textos_espanol\"].astype(str)"
   ]
  },
  {
   "cell_type": "markdown",
   "metadata": {},
   "source": [
    "### Corrección de palabras mal codificadas"
   ]
  },
  {
   "cell_type": "code",
   "execution_count": 54,
   "metadata": {},
   "outputs": [],
   "source": [
    "import ftfy\n",
    "\n",
    "def fix_malformed_words(text):\n",
    "    # Utiliza ftfy para corregir problemas de codificación\n",
    "    text = ftfy.fix_text(text)\n",
    "    return text\n",
    "\n",
    "# Aplica la función a tu DataFrame\n",
    "data_t['Textos_espanol'] = data_t['Textos_espanol'].apply(fix_malformed_words)\n",
    "\n"
   ]
  },
  {
   "cell_type": "code",
   "execution_count": 56,
   "metadata": {},
   "outputs": [
    {
     "data": {
      "text/html": [
       "<div>\n",
       "<style scoped>\n",
       "    .dataframe tbody tr th:only-of-type {\n",
       "        vertical-align: middle;\n",
       "    }\n",
       "\n",
       "    .dataframe tbody tr th {\n",
       "        vertical-align: top;\n",
       "    }\n",
       "\n",
       "    .dataframe thead th {\n",
       "        text-align: right;\n",
       "    }\n",
       "</style>\n",
       "<table border=\"1\" class=\"dataframe\">\n",
       "  <thead>\n",
       "    <tr style=\"text-align: right;\">\n",
       "      <th></th>\n",
       "      <th>Textos_espanol</th>\n",
       "      <th>sdg</th>\n",
       "    </tr>\n",
       "  </thead>\n",
       "  <tbody>\n",
       "    <tr>\n",
       "      <th>725</th>\n",
       "      <td>La atención a los resultados sanitarios comenzó en 1992 con la estrategia gubernamental \"Salud de la nación\" (Departamento de Sanidad, 1992a), que se basaba en el documento anterior de la OMS, \"Salud para todos en el año 2000\". Las enfermedades mentales se incluyeron como parte fundamental de esta estrategia, que establecía objetivos para reducir la morbilidad y la mortalidad debidas a las enfermedades mentales, y fue seguida de estrategias de aplicación en los Manuales del Área Clave de las Enfermedades Mentales (Department of Health, 1993, Department of Health, 1994, véase también Jenkins, 1994). En \"Building Bridges\" (Departamento de Sanidad, 1995) se expuso la visión del enlace intersectorial en torno a la salud mental y en \"The Spectrum of Care\" (Departamento de Sanidad, 1996) se estableció la gama de servicios e intervenciones previstos como parte de los servicios locales para enfermos mentales. El Quality Outcomes Framework (QoF) se introdujo en 2004 junto con el PbR, como un sistema de gestión del rendimiento y de pago de incentivos para los médicos generalistas (GP) en Inglaterra, e incluye indicadores de atención a la salud mental (véase la sección 5.2).</td>\n",
       "      <td>3</td>\n",
       "    </tr>\n",
       "    <tr>\n",
       "      <th>717</th>\n",
       "      <td>Sin embargo, esta retroalimentación a los médicos y las campañas de información podrían estar mejor enfocadas, ya que los médicos y los pacientes son un objetivo más amplio. De hecho, en el caso del Reino Unido, las prácticas de retroalimentación centradas en los médicos con las tasas más altas de prescripción de antibióticos fueron eficaces para reducir su uso, mientras que las campañas de información centradas en el paciente tuvieron efectos limitados (OCDE, 2017b). Los hospitales representan alrededor de una cuarta parte de las ventas farmacéuticas totales en Francia, y la proporción del uso de genéricos allí fue solo del 2,3 % en valor en 2013 (ANSM, 2014). Esta baja proporción se explica en parte por las diferentes patologías de los pacientes y los tratamientos más intensivos e innovadores de los hospitales (OCDE, 2015b), pero los productores también suelen vender medicamentos de marca a precios reducidos para ganar un mercado más amplio (Dahan, 2016).</td>\n",
       "      <td>3</td>\n",
       "    </tr>\n",
       "    <tr>\n",
       "      <th>1546</th>\n",
       "      <td>Pero en mis conversaciones con ministros de educación de todo el mundo, los desafíos que citan con más frecuencia no se refieren al diseño de reformas, sino a cómo se pueden poner en práctica con éxito. Las escuelas, colegios, universidades y otras instituciones educativas se encuentran entre los principales receptores del gasto público. Y como todos han participado en la educación, todos tienen una opinión al respecto. Todo el mundo apoya la reforma educativa, excepto cuando pueda afectar a sus propios hijos.</td>\n",
       "      <td>4</td>\n",
       "    </tr>\n",
       "    <tr>\n",
       "      <th>852</th>\n",
       "      <td>Estos valiosos esfuerzos han incluido, en particular, información sobre los médicos por especialidad. En Finlandia, por ejemplo, la planificación de la mano de obra sanitaria forma parte de un ejercicio de planificación de la mano de obra para toda la economía, en lugar de ser específica para cada ocupación. El principal objetivo de la planificación global de la mano de obra es asesorar sobre la admisión de estudiantes de educación terciaria, para lograr un mejor equilibrio entre la oferta y la demanda futuras de mano de obra. Mientras tanto, Japón ha llevado a cabo un análisis de médicos, enfermeros, trabajadores de cuidados de larga duración, farmacéuticos y otros trabajadores sanitarios (Ono et al., Estos esfuerzos deben continuar y ampliarse para incluir a otras partes de la mano de obra, como los profesionales sanitarios aliados.</td>\n",
       "      <td>3</td>\n",
       "    </tr>\n",
       "    <tr>\n",
       "      <th>822</th>\n",
       "      <td>Un incidente de gran importancia en la historia de la atención de la salud mental en Japón fue el ataque con cuchillo del entonces embajador de EE. UU. en Japón, Edwin Reischauer, por parte de una persona con esquizofrenia en 1964. Este ataque generó una alarma pública significativa y contribuyó a aumentar el estigma de las enfermedades mentales. , impulsado por una campaña en los medios de comunicación, además de los altos niveles existentes de estigma dirigido hacia los trastornos mentales. Este incidente también contribuyó a la revisión de 1965 de la Ley de Higiene Mental discutida anteriormente. En 1993, la Ley de Salud Mental fue enmendada nuevamente, con un enfoque particular en la atención en la comunidad, incluida la autorización de la construcción de hogares grupales en la comunidad para personas con trastornos mentales (Tatara y Okamoto, 2009). La Ley de Atención de Salud Comunitaria introducida en 1994 y apoyó aún más el establecimiento de un sistema de salud mental basado en la comunidad.</td>\n",
       "      <td>3</td>\n",
       "    </tr>\n",
       "  </tbody>\n",
       "</table>\n",
       "</div>"
      ],
      "text/plain": [
       "                                                                                                                                                                                                                                                                                                                                                                                                                                                                                                                                                                                                                                                                                                                                                                                                                                                                                                                                                                                                                                                                                                                                                                                                                      Textos_espanol  \\\n",
       "725   La atención a los resultados sanitarios comenzó en 1992 con la estrategia gubernamental \"Salud de la nación\" (Departamento de Sanidad, 1992a), que se basaba en el documento anterior de la OMS, \"Salud para todos en el año 2000\". Las enfermedades mentales se incluyeron como parte fundamental de esta estrategia, que establecía objetivos para reducir la morbilidad y la mortalidad debidas a las enfermedades mentales, y fue seguida de estrategias de aplicación en los Manuales del Área Clave de las Enfermedades Mentales (Department of Health, 1993, Department of Health, 1994, véase también Jenkins, 1994). En \"Building Bridges\" (Departamento de Sanidad, 1995) se expuso la visión del enlace intersectorial en torno a la salud mental y en \"The Spectrum of Care\" (Departamento de Sanidad, 1996) se estableció la gama de servicios e intervenciones previstos como parte de los servicios locales para enfermos mentales. El Quality Outcomes Framework (QoF) se introdujo en 2004 junto con el PbR, como un sistema de gestión del rendimiento y de pago de incentivos para los médicos generalistas (GP) en Inglaterra, e incluye indicadores de atención a la salud mental (véase la sección 5.2).   \n",
       "717                                                                                                                                                                                                                      Sin embargo, esta retroalimentación a los médicos y las campañas de información podrían estar mejor enfocadas, ya que los médicos y los pacientes son un objetivo más amplio. De hecho, en el caso del Reino Unido, las prácticas de retroalimentación centradas en los médicos con las tasas más altas de prescripción de antibióticos fueron eficaces para reducir su uso, mientras que las campañas de información centradas en el paciente tuvieron efectos limitados (OCDE, 2017b). Los hospitales representan alrededor de una cuarta parte de las ventas farmacéuticas totales en Francia, y la proporción del uso de genéricos allí fue solo del 2,3 % en valor en 2013 (ANSM, 2014). Esta baja proporción se explica en parte por las diferentes patologías de los pacientes y los tratamientos más intensivos e innovadores de los hospitales (OCDE, 2015b), pero los productores también suelen vender medicamentos de marca a precios reducidos para ganar un mercado más amplio (Dahan, 2016).   \n",
       "1546                                                                                                                                                                                                                                                                                                                                                                                                                                                                                                                                                                                                                                                                                             Pero en mis conversaciones con ministros de educación de todo el mundo, los desafíos que citan con más frecuencia no se refieren al diseño de reformas, sino a cómo se pueden poner en práctica con éxito. Las escuelas, colegios, universidades y otras instituciones educativas se encuentran entre los principales receptores del gasto público. Y como todos han participado en la educación, todos tienen una opinión al respecto. Todo el mundo apoya la reforma educativa, excepto cuando pueda afectar a sus propios hijos.   \n",
       "852                                                                                                                                                                                                                                                                                                                                                   Estos valiosos esfuerzos han incluido, en particular, información sobre los médicos por especialidad. En Finlandia, por ejemplo, la planificación de la mano de obra sanitaria forma parte de un ejercicio de planificación de la mano de obra para toda la economía, en lugar de ser específica para cada ocupación. El principal objetivo de la planificación global de la mano de obra es asesorar sobre la admisión de estudiantes de educación terciaria, para lograr un mejor equilibrio entre la oferta y la demanda futuras de mano de obra. Mientras tanto, Japón ha llevado a cabo un análisis de médicos, enfermeros, trabajadores de cuidados de larga duración, farmacéuticos y otros trabajadores sanitarios (Ono et al., Estos esfuerzos deben continuar y ampliarse para incluir a otras partes de la mano de obra, como los profesionales sanitarios aliados.   \n",
       "822                                                                                                                                                                          Un incidente de gran importancia en la historia de la atención de la salud mental en Japón fue el ataque con cuchillo del entonces embajador de EE. UU. en Japón, Edwin Reischauer, por parte de una persona con esquizofrenia en 1964. Este ataque generó una alarma pública significativa y contribuyó a aumentar el estigma de las enfermedades mentales. , impulsado por una campaña en los medios de comunicación, además de los altos niveles existentes de estigma dirigido hacia los trastornos mentales. Este incidente también contribuyó a la revisión de 1965 de la Ley de Higiene Mental discutida anteriormente. En 1993, la Ley de Salud Mental fue enmendada nuevamente, con un enfoque particular en la atención en la comunidad, incluida la autorización de la construcción de hogares grupales en la comunidad para personas con trastornos mentales (Tatara y Okamoto, 2009). La Ley de Atención de Salud Comunitaria introducida en 1994 y apoyó aún más el establecimiento de un sistema de salud mental basado en la comunidad.   \n",
       "\n",
       "      sdg  \n",
       "725     3  \n",
       "717     3  \n",
       "1546    4  \n",
       "852     3  \n",
       "822     3  "
      ]
     },
     "execution_count": 56,
     "metadata": {},
     "output_type": "execute_result"
    }
   ],
   "source": [
    "data_t.sample(5)"
   ]
  }
 ],
 "metadata": {
  "kernelspec": {
   "display_name": "Python 3",
   "language": "python",
   "name": "python3"
  },
  "language_info": {
   "codemirror_mode": {
    "name": "ipython",
    "version": 3
   },
   "file_extension": ".py",
   "mimetype": "text/x-python",
   "name": "python",
   "nbconvert_exporter": "python",
   "pygments_lexer": "ipython3",
   "version": "3.9.13"
  }
 },
 "nbformat": 4,
 "nbformat_minor": 2
}
