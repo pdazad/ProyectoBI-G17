{
 "cells": [
  {
   "cell_type": "markdown",
   "metadata": {},
   "source": [
    "# Proyecto BI - Análitica de Texto según ODS"
   ]
  },
  {
   "cell_type": "markdown",
   "metadata": {},
   "source": [
    "## Etapa 1"
   ]
  },
  {
   "cell_type": "markdown",
   "metadata": {},
   "source": [
    "## Objetivos\n",
    "\n",
    "*   Aplicar la metodología de analítica de textos para la construcción de soluciones de analítica alineadas con los objetivos del negocio en un contexto de aplicación.\n",
    "*   Planear la interacción con un grupo interdisciplinario para identificar usuarios y posibles herramientas a desarrollar para la interacción del resultado del modelo desarrollado."
   ]
  },
  {
   "cell_type": "markdown",
   "metadata": {},
   "source": [
    "## Problema\n",
    "<p style=\"text-align: justify;\"> Desarrollar un modelo de clasificación, con técnicas de aprendizaje automático, que permita relacionar de manera automática un texto según los ODS. Al igual que desarrollar una aplicación que facilite la interacción con el resultado de dicho modelo. El modelo podrá ser utilizado entonces para la interpretación y análisis de la información textual que es recopilada a través de diferentes fuentes por UNFPA en procesos de planeación participativa para el desarrollo a nivel territorial.\n"
   ]
  },
  {
   "cell_type": "markdown",
   "metadata": {},
   "source": [
    "### 1. Instalación e importanción de librerías."
   ]
  },
  {
   "cell_type": "code",
   "execution_count": 1040,
   "metadata": {},
   "outputs": [
    {
     "name": "stdout",
     "output_type": "stream",
     "text": [
      "Requirement already satisfied: ftfy in /Users/sofiatorres/anaconda3/lib/python3.10/site-packages (6.1.1)\n",
      "Requirement already satisfied: wcwidth>=0.2.5 in /Users/sofiatorres/anaconda3/lib/python3.10/site-packages (from ftfy) (0.2.5)\n"
     ]
    }
   ],
   "source": [
    "!pip install ftfy"
   ]
  },
  {
   "cell_type": "code",
   "execution_count": 1041,
   "metadata": {},
   "outputs": [
    {
     "name": "stdout",
     "output_type": "stream",
     "text": [
      "Requirement already satisfied: openpyxl in /Users/sofiatorres/anaconda3/lib/python3.10/site-packages (3.1.2)\n",
      "Requirement already satisfied: et-xmlfile in /Users/sofiatorres/anaconda3/lib/python3.10/site-packages (from openpyxl) (1.1.0)\n",
      "Note: you may need to restart the kernel to use updated packages.\n"
     ]
    }
   ],
   "source": [
    "pip install openpyxl"
   ]
  },
  {
   "cell_type": "code",
   "execution_count": 1042,
   "metadata": {},
   "outputs": [
    {
     "name": "stdout",
     "output_type": "stream",
     "text": [
      "Requirement already satisfied: unidecode in /Users/sofiatorres/anaconda3/lib/python3.10/site-packages (1.2.0)\n"
     ]
    }
   ],
   "source": [
    "!pip install unidecode"
   ]
  },
  {
   "cell_type": "code",
   "execution_count": 1043,
   "metadata": {},
   "outputs": [
    {
     "name": "stdout",
     "output_type": "stream",
     "text": [
      "Requirement already satisfied: contractions in /Users/sofiatorres/anaconda3/lib/python3.10/site-packages (0.1.73)\n",
      "Requirement already satisfied: textsearch>=0.0.21 in /Users/sofiatorres/anaconda3/lib/python3.10/site-packages (from contractions) (0.0.24)\n",
      "Requirement already satisfied: anyascii in /Users/sofiatorres/anaconda3/lib/python3.10/site-packages (from textsearch>=0.0.21->contractions) (0.3.2)\n",
      "Requirement already satisfied: pyahocorasick in /Users/sofiatorres/anaconda3/lib/python3.10/site-packages (from textsearch>=0.0.21->contractions) (2.0.0)\n"
     ]
    }
   ],
   "source": [
    "# Librería para manejar las contracciones que se presentan en el inglés.\n",
    "!pip install contractions"
   ]
  },
  {
   "cell_type": "code",
   "execution_count": 1044,
   "metadata": {},
   "outputs": [],
   "source": [
    "# librería para manejar las flexiones gramaticales en el idioma inglés.\n",
    "# !pip install inflect\n",
    "# !pip install pandas-profiling==2.7.1"
   ]
  },
  {
   "cell_type": "code",
   "execution_count": 1045,
   "metadata": {},
   "outputs": [
    {
     "name": "stderr",
     "output_type": "stream",
     "text": [
      "[nltk_data] Downloading package punkt to\n",
      "[nltk_data]     /Users/sofiatorres/nltk_data...\n",
      "[nltk_data]   Package punkt is already up-to-date!\n"
     ]
    },
    {
     "data": {
      "text/plain": [
       "True"
      ]
     },
     "execution_count": 1045,
     "metadata": {},
     "output_type": "execute_result"
    }
   ],
   "source": [
    "# librería Natural Language Toolkit, usada para trabajar con textos \n",
    "import nltk\n",
    "# Punkt permite separar un texto en frases.\n",
    "nltk.download('punkt')"
   ]
  },
  {
   "cell_type": "code",
   "execution_count": 1046,
   "metadata": {},
   "outputs": [
    {
     "name": "stderr",
     "output_type": "stream",
     "text": [
      "[nltk_data] Downloading package wordnet to\n",
      "[nltk_data]     /Users/sofiatorres/nltk_data...\n",
      "[nltk_data]   Package wordnet is already up-to-date!\n"
     ]
    },
    {
     "data": {
      "text/plain": [
       "True"
      ]
     },
     "execution_count": 1046,
     "metadata": {},
     "output_type": "execute_result"
    }
   ],
   "source": [
    "# Descarga de paquete WordNetLemmatizer, este es usado para encontrar el lema de cada palabra\n",
    "# ¿Qué es el lema de una palabra? ¿Qué tan dificil puede ser obtenerlo, piensa en el caso en que tuvieras que escribir la función que realiza esta tarea?\n",
    "nltk.download('wordnet')"
   ]
  },
  {
   "cell_type": "code",
   "execution_count": 1047,
   "metadata": {},
   "outputs": [
    {
     "name": "stderr",
     "output_type": "stream",
     "text": [
      "[nltk_data] Downloading package wordnet to\n",
      "[nltk_data]     /Users/sofiatorres/nltk_data...\n",
      "[nltk_data]   Package wordnet is already up-to-date!\n"
     ]
    }
   ],
   "source": [
    "# Instalación de librerias\n",
    "import pandas as pd\n",
    "import numpy as np\n",
    "import sys\n",
    "from pandas_profiling import ProfileReport\n",
    "from unidecode import unidecode\n",
    "\n",
    "import re, string, unicodedata\n",
    "import contractions\n",
    "import inflect\n",
    "from nltk import word_tokenize, sent_tokenize\n",
    "from nltk.corpus import stopwords\n",
    "from nltk.stem import LancasterStemmer, WordNetLemmatizer\n",
    "import nltk\n",
    "from nltk.corpus import wordnet\n",
    "from nltk.stem import PorterStemmer\n",
    "nltk.download('wordnet')\n",
    "\n",
    "\n",
    "from sklearn.model_selection import train_test_split,GridSearchCV\n",
    "from sklearn.feature_extraction.text import TfidfVectorizer, CountVectorizer, HashingVectorizer\n",
    "from sklearn.pipeline import Pipeline, FeatureUnion\n",
    "from sklearn.svm import SVC\n",
    "from sklearn.ensemble import BaggingClassifier, RandomForestClassifier, AdaBoostClassifier\n",
    "from sklearn.naive_bayes import BernoulliNB\n",
    "from sklearn.metrics import classification_report, confusion_matrix\n",
    "#from sklearn.metrics import plot_precision_recall_curve\n",
    "from sklearn.base import BaseEstimator, ClassifierMixin\n",
    "from nltk.tokenize import word_tokenize\n",
    "from sklearn.metrics import (\n",
    "    ConfusionMatrixDisplay, RocCurveDisplay,\n",
    "    roc_auc_score, precision_score, recall_score, f1_score, accuracy_score,\n",
    ")\n",
    "from sklearn.model_selection import train_test_split, RandomizedSearchCV\n",
    "from sklearn.pipeline import Pipeline\n",
    "from sklearn.tree import DecisionTreeClassifier\n",
    "\n",
    "import matplotlib.pyplot as plt\n"
   ]
  },
  {
   "cell_type": "code",
   "execution_count": 1048,
   "metadata": {},
   "outputs": [],
   "source": [
    "import warnings\n",
    "warnings.filterwarnings(\"ignore\")"
   ]
  },
  {
   "cell_type": "code",
   "execution_count": 1049,
   "metadata": {},
   "outputs": [],
   "source": [
    "# Configuring pandas to show all cell content\n",
    "pd.set_option(\"display.max_colwidth\", None)"
   ]
  },
  {
   "cell_type": "code",
   "execution_count": 1050,
   "metadata": {},
   "outputs": [
    {
     "name": "stderr",
     "output_type": "stream",
     "text": [
      "[nltk_data] Downloading package punkt to\n",
      "[nltk_data]     /Users/sofiatorres/nltk_data...\n",
      "[nltk_data]   Package punkt is already up-to-date!\n",
      "[nltk_data] Downloading package stopwords to\n",
      "[nltk_data]     /Users/sofiatorres/nltk_data...\n",
      "[nltk_data]   Package stopwords is already up-to-date!\n"
     ]
    }
   ],
   "source": [
    "# Downloading stopwords\n",
    "nltk.download(\"punkt\")\n",
    "nltk.download(\"stopwords\")\n",
    "stop_words = stopwords.words(\"spanish\")"
   ]
  },
  {
   "cell_type": "code",
   "execution_count": 1051,
   "metadata": {},
   "outputs": [
    {
     "data": {
      "text/plain": [
       "['de',\n",
       " 'la',\n",
       " 'que',\n",
       " 'el',\n",
       " 'en',\n",
       " 'y',\n",
       " 'a',\n",
       " 'los',\n",
       " 'del',\n",
       " 'se',\n",
       " 'las',\n",
       " 'por',\n",
       " 'un',\n",
       " 'para',\n",
       " 'con',\n",
       " 'no',\n",
       " 'una',\n",
       " 'su',\n",
       " 'al',\n",
       " 'lo',\n",
       " 'como',\n",
       " 'más',\n",
       " 'pero',\n",
       " 'sus',\n",
       " 'le',\n",
       " 'ya',\n",
       " 'o',\n",
       " 'este',\n",
       " 'sí',\n",
       " 'porque',\n",
       " 'esta',\n",
       " 'entre',\n",
       " 'cuando',\n",
       " 'muy',\n",
       " 'sin',\n",
       " 'sobre',\n",
       " 'también',\n",
       " 'me',\n",
       " 'hasta',\n",
       " 'hay',\n",
       " 'donde',\n",
       " 'quien',\n",
       " 'desde',\n",
       " 'todo',\n",
       " 'nos',\n",
       " 'durante',\n",
       " 'todos',\n",
       " 'uno',\n",
       " 'les',\n",
       " 'ni',\n",
       " 'contra',\n",
       " 'otros',\n",
       " 'ese',\n",
       " 'eso',\n",
       " 'ante',\n",
       " 'ellos',\n",
       " 'e',\n",
       " 'esto',\n",
       " 'mí',\n",
       " 'antes',\n",
       " 'algunos',\n",
       " 'qué',\n",
       " 'unos',\n",
       " 'yo',\n",
       " 'otro',\n",
       " 'otras',\n",
       " 'otra',\n",
       " 'él',\n",
       " 'tanto',\n",
       " 'esa',\n",
       " 'estos',\n",
       " 'mucho',\n",
       " 'quienes',\n",
       " 'nada',\n",
       " 'muchos',\n",
       " 'cual',\n",
       " 'poco',\n",
       " 'ella',\n",
       " 'estar',\n",
       " 'estas',\n",
       " 'algunas',\n",
       " 'algo',\n",
       " 'nosotros',\n",
       " 'mi',\n",
       " 'mis',\n",
       " 'tú',\n",
       " 'te',\n",
       " 'ti',\n",
       " 'tu',\n",
       " 'tus',\n",
       " 'ellas',\n",
       " 'nosotras',\n",
       " 'vosotros',\n",
       " 'vosotras',\n",
       " 'os',\n",
       " 'mío',\n",
       " 'mía',\n",
       " 'míos',\n",
       " 'mías',\n",
       " 'tuyo',\n",
       " 'tuya',\n",
       " 'tuyos',\n",
       " 'tuyas',\n",
       " 'suyo',\n",
       " 'suya',\n",
       " 'suyos',\n",
       " 'suyas',\n",
       " 'nuestro',\n",
       " 'nuestra',\n",
       " 'nuestros',\n",
       " 'nuestras',\n",
       " 'vuestro',\n",
       " 'vuestra',\n",
       " 'vuestros',\n",
       " 'vuestras',\n",
       " 'esos',\n",
       " 'esas',\n",
       " 'estoy',\n",
       " 'estás',\n",
       " 'está',\n",
       " 'estamos',\n",
       " 'estáis',\n",
       " 'están',\n",
       " 'esté',\n",
       " 'estés',\n",
       " 'estemos',\n",
       " 'estéis',\n",
       " 'estén',\n",
       " 'estaré',\n",
       " 'estarás',\n",
       " 'estará',\n",
       " 'estaremos',\n",
       " 'estaréis',\n",
       " 'estarán',\n",
       " 'estaría',\n",
       " 'estarías',\n",
       " 'estaríamos',\n",
       " 'estaríais',\n",
       " 'estarían',\n",
       " 'estaba',\n",
       " 'estabas',\n",
       " 'estábamos',\n",
       " 'estabais',\n",
       " 'estaban',\n",
       " 'estuve',\n",
       " 'estuviste',\n",
       " 'estuvo',\n",
       " 'estuvimos',\n",
       " 'estuvisteis',\n",
       " 'estuvieron',\n",
       " 'estuviera',\n",
       " 'estuvieras',\n",
       " 'estuviéramos',\n",
       " 'estuvierais',\n",
       " 'estuvieran',\n",
       " 'estuviese',\n",
       " 'estuvieses',\n",
       " 'estuviésemos',\n",
       " 'estuvieseis',\n",
       " 'estuviesen',\n",
       " 'estando',\n",
       " 'estado',\n",
       " 'estada',\n",
       " 'estados',\n",
       " 'estadas',\n",
       " 'estad',\n",
       " 'he',\n",
       " 'has',\n",
       " 'ha',\n",
       " 'hemos',\n",
       " 'habéis',\n",
       " 'han',\n",
       " 'haya',\n",
       " 'hayas',\n",
       " 'hayamos',\n",
       " 'hayáis',\n",
       " 'hayan',\n",
       " 'habré',\n",
       " 'habrás',\n",
       " 'habrá',\n",
       " 'habremos',\n",
       " 'habréis',\n",
       " 'habrán',\n",
       " 'habría',\n",
       " 'habrías',\n",
       " 'habríamos',\n",
       " 'habríais',\n",
       " 'habrían',\n",
       " 'había',\n",
       " 'habías',\n",
       " 'habíamos',\n",
       " 'habíais',\n",
       " 'habían',\n",
       " 'hube',\n",
       " 'hubiste',\n",
       " 'hubo',\n",
       " 'hubimos',\n",
       " 'hubisteis',\n",
       " 'hubieron',\n",
       " 'hubiera',\n",
       " 'hubieras',\n",
       " 'hubiéramos',\n",
       " 'hubierais',\n",
       " 'hubieran',\n",
       " 'hubiese',\n",
       " 'hubieses',\n",
       " 'hubiésemos',\n",
       " 'hubieseis',\n",
       " 'hubiesen',\n",
       " 'habiendo',\n",
       " 'habido',\n",
       " 'habida',\n",
       " 'habidos',\n",
       " 'habidas',\n",
       " 'soy',\n",
       " 'eres',\n",
       " 'es',\n",
       " 'somos',\n",
       " 'sois',\n",
       " 'son',\n",
       " 'sea',\n",
       " 'seas',\n",
       " 'seamos',\n",
       " 'seáis',\n",
       " 'sean',\n",
       " 'seré',\n",
       " 'serás',\n",
       " 'será',\n",
       " 'seremos',\n",
       " 'seréis',\n",
       " 'serán',\n",
       " 'sería',\n",
       " 'serías',\n",
       " 'seríamos',\n",
       " 'seríais',\n",
       " 'serían',\n",
       " 'era',\n",
       " 'eras',\n",
       " 'éramos',\n",
       " 'erais',\n",
       " 'eran',\n",
       " 'fui',\n",
       " 'fuiste',\n",
       " 'fue',\n",
       " 'fuimos',\n",
       " 'fuisteis',\n",
       " 'fueron',\n",
       " 'fuera',\n",
       " 'fueras',\n",
       " 'fuéramos',\n",
       " 'fuerais',\n",
       " 'fueran',\n",
       " 'fuese',\n",
       " 'fueses',\n",
       " 'fuésemos',\n",
       " 'fueseis',\n",
       " 'fuesen',\n",
       " 'sintiendo',\n",
       " 'sentido',\n",
       " 'sentida',\n",
       " 'sentidos',\n",
       " 'sentidas',\n",
       " 'siente',\n",
       " 'sentid',\n",
       " 'tengo',\n",
       " 'tienes',\n",
       " 'tiene',\n",
       " 'tenemos',\n",
       " 'tenéis',\n",
       " 'tienen',\n",
       " 'tenga',\n",
       " 'tengas',\n",
       " 'tengamos',\n",
       " 'tengáis',\n",
       " 'tengan',\n",
       " 'tendré',\n",
       " 'tendrás',\n",
       " 'tendrá',\n",
       " 'tendremos',\n",
       " 'tendréis',\n",
       " 'tendrán',\n",
       " 'tendría',\n",
       " 'tendrías',\n",
       " 'tendríamos',\n",
       " 'tendríais',\n",
       " 'tendrían',\n",
       " 'tenía',\n",
       " 'tenías',\n",
       " 'teníamos',\n",
       " 'teníais',\n",
       " 'tenían',\n",
       " 'tuve',\n",
       " 'tuviste',\n",
       " 'tuvo',\n",
       " 'tuvimos',\n",
       " 'tuvisteis',\n",
       " 'tuvieron',\n",
       " 'tuviera',\n",
       " 'tuvieras',\n",
       " 'tuviéramos',\n",
       " 'tuvierais',\n",
       " 'tuvieran',\n",
       " 'tuviese',\n",
       " 'tuvieses',\n",
       " 'tuviésemos',\n",
       " 'tuvieseis',\n",
       " 'tuviesen',\n",
       " 'teniendo',\n",
       " 'tenido',\n",
       " 'tenida',\n",
       " 'tenidos',\n",
       " 'tenidas',\n",
       " 'tened']"
      ]
     },
     "execution_count": 1051,
     "metadata": {},
     "output_type": "execute_result"
    }
   ],
   "source": [
    "stop_words\n"
   ]
  },
  {
   "cell_type": "markdown",
   "metadata": {},
   "source": [
    "## 2. Perfilamiento y entendimiento de los datos"
   ]
  },
  {
   "cell_type": "markdown",
   "metadata": {},
   "source": [
    "\n",
    "#### Lectura de los datos."
   ]
  },
  {
   "cell_type": "code",
   "execution_count": 1052,
   "metadata": {},
   "outputs": [],
   "source": [
    "# Uso de la libreria pandas para la lectura de archivos excel\n",
    "df = pd.read_excel('./data/cat_345.xlsx')\n",
    "df_nuevo = pd.read_excel('./data/SinEtiquetatest_cat_345.xlsx')\n",
    "# Asignación a una nueva variable de los datos leidos\n",
    "data_t=df\n",
    "data_t_nuevo=df_nuevo\n"
   ]
  },
  {
   "cell_type": "code",
   "execution_count": 1053,
   "metadata": {},
   "outputs": [
    {
     "data": {
      "text/plain": [
       "(3000, 2)"
      ]
     },
     "execution_count": 1053,
     "metadata": {},
     "output_type": "execute_result"
    }
   ],
   "source": [
    "data_t.shape"
   ]
  },
  {
   "cell_type": "code",
   "execution_count": 1054,
   "metadata": {},
   "outputs": [
    {
     "data": {
      "text/plain": [
       "(1759, 2)"
      ]
     },
     "execution_count": 1054,
     "metadata": {},
     "output_type": "execute_result"
    }
   ],
   "source": [
    "data_t_nuevo.shape"
   ]
  },
  {
   "cell_type": "code",
   "execution_count": 1055,
   "metadata": {},
   "outputs": [
    {
     "data": {
      "text/html": [
       "<div>\n",
       "<style scoped>\n",
       "    .dataframe tbody tr th:only-of-type {\n",
       "        vertical-align: middle;\n",
       "    }\n",
       "\n",
       "    .dataframe tbody tr th {\n",
       "        vertical-align: top;\n",
       "    }\n",
       "\n",
       "    .dataframe thead th {\n",
       "        text-align: right;\n",
       "    }\n",
       "</style>\n",
       "<table border=\"1\" class=\"dataframe\">\n",
       "  <thead>\n",
       "    <tr style=\"text-align: right;\">\n",
       "      <th></th>\n",
       "      <th>Textos_espanol</th>\n",
       "      <th>sdg</th>\n",
       "    </tr>\n",
       "  </thead>\n",
       "  <tbody>\n",
       "    <tr>\n",
       "      <th>1285</th>\n",
       "      <td>El certificado de finalización de la educación secundaria superior general (Abitur) se obtiene después de 12 o 13 años de educación. Existe una fuerte cooperación entre las instituciones educativas, los empleadores y otros interlocutores sociales que también trabajan juntos en el ajuste de los planes de estudio. En 2011, las tasas de empleo de los adultos que alcanzaron el nivel secundario superior profesional fueron 17 puntos porcentuales más altas que las de aquellos que obtuvieron programas generales (en comparación con la brecha promedio de la OCDE de 5 puntos porcentuales).</td>\n",
       "      <td>4</td>\n",
       "    </tr>\n",
       "    <tr>\n",
       "      <th>1906</th>\n",
       "      <td>Además, hacer que la profesión docente sea más atractiva y competitiva mejoraría la calidad. Las desigualdades se derivan en primer lugar de la brecha urbano-rural y en segundo lugar de la estratificación social, mientras que las diferencias de edad, género y región contribuyen en menor medida. Una mayor financiación central al nivel obligatorio garantizaría una calidad mínima. Los niños migrantes deben tener acceso a las escuelas públicas o vales para las escuelas privadas.</td>\n",
       "      <td>4</td>\n",
       "    </tr>\n",
       "    <tr>\n",
       "      <th>931</th>\n",
       "      <td>Son progresivas, prolongadas y difíciles de controlar y, por tanto, más costosas de tratar. A esto se suma la mayor incidencia de otros eventos, como lesiones y caídas, que tienen importantes implicaciones en términos de mantenimiento de la funcionalidad durante la vejez. En el mundo desarrollado, el proceso de envejecimiento tuvo lugar una vez que las sociedades alcanzaron niveles de vida más altos, menos desigualdad social y económica y un acceso más equitativo a los servicios de salud.</td>\n",
       "      <td>3</td>\n",
       "    </tr>\n",
       "    <tr>\n",
       "      <th>390</th>\n",
       "      <td>Podría explotarse la redistribución de tareas a las enfermeras o al equipo clínico más amplio, especialmente en las instalaciones de emergencia que enfrentan presiones crecientes por el lado de la demanda. Además, se necesita con urgencia una respuesta más coordinada y más rápida del departamento de emergencias. Hay ejemplos innovadores que se pueden encontrar en Japón o en otros países de la OCDE.</td>\n",
       "      <td>3</td>\n",
       "    </tr>\n",
       "    <tr>\n",
       "      <th>594</th>\n",
       "      <td>El programa se basaba en la integración estratégica de todos los organismos pertinentes implicados en la prestación de servicios de salud mental para este grupo, y en la identificación de las necesidades de los niños en el contexto escolar. Además de formar a los profesores, el programa incluía programas de aprendizaje social y emocional. Los \"padres y la comunidad\" también participaron en los aspectos sociales y de aprendizaje de la iniciativa.</td>\n",
       "      <td>3</td>\n",
       "    </tr>\n",
       "  </tbody>\n",
       "</table>\n",
       "</div>"
      ],
      "text/plain": [
       "                                                                                                                                                                                                                                                                                                                                                                                                                                                                                                                                                                                                 Textos_espanol  \\\n",
       "1285  El certificado de finalización de la educación secundaria superior general (Abitur) se obtiene después de 12 o 13 años de educación. Existe una fuerte cooperación entre las instituciones educativas, los empleadores y otros interlocutores sociales que también trabajan juntos en el ajuste de los planes de estudio. En 2011, las tasas de empleo de los adultos que alcanzaron el nivel secundario superior profesional fueron 17 puntos porcentuales más altas que las de aquellos que obtuvieron programas generales (en comparación con la brecha promedio de la OCDE de 5 puntos porcentuales).   \n",
       "1906                                                                                                            Además, hacer que la profesión docente sea más atractiva y competitiva mejoraría la calidad. Las desigualdades se derivan en primer lugar de la brecha urbano-rural y en segundo lugar de la estratificación social, mientras que las diferencias de edad, género y región contribuyen en menor medida. Una mayor financiación central al nivel obligatorio garantizaría una calidad mínima. Los niños migrantes deben tener acceso a las escuelas públicas o vales para las escuelas privadas.   \n",
       "931                                                                                               Son progresivas, prolongadas y difíciles de controlar y, por tanto, más costosas de tratar. A esto se suma la mayor incidencia de otros eventos, como lesiones y caídas, que tienen importantes implicaciones en términos de mantenimiento de la funcionalidad durante la vejez. En el mundo desarrollado, el proceso de envejecimiento tuvo lugar una vez que las sociedades alcanzaron niveles de vida más altos, menos desigualdad social y económica y un acceso más equitativo a los servicios de salud.   \n",
       "390                                                                                                                                                                                           Podría explotarse la redistribución de tareas a las enfermeras o al equipo clínico más amplio, especialmente en las instalaciones de emergencia que enfrentan presiones crecientes por el lado de la demanda. Además, se necesita con urgencia una respuesta más coordinada y más rápida del departamento de emergencias. Hay ejemplos innovadores que se pueden encontrar en Japón o en otros países de la OCDE.   \n",
       "594                                                                                                                                          El programa se basaba en la integración estratégica de todos los organismos pertinentes implicados en la prestación de servicios de salud mental para este grupo, y en la identificación de las necesidades de los niños en el contexto escolar. Además de formar a los profesores, el programa incluía programas de aprendizaje social y emocional. Los \"padres y la comunidad\" también participaron en los aspectos sociales y de aprendizaje de la iniciativa.    \n",
       "\n",
       "      sdg  \n",
       "1285    4  \n",
       "1906    4  \n",
       "931     3  \n",
       "390     3  \n",
       "594     3  "
      ]
     },
     "execution_count": 1055,
     "metadata": {},
     "output_type": "execute_result"
    }
   ],
   "source": [
    "data_t.sample(5)"
   ]
  },
  {
   "cell_type": "code",
   "execution_count": 1056,
   "metadata": {},
   "outputs": [
    {
     "data": {
      "text/html": [
       "<div>\n",
       "<style scoped>\n",
       "    .dataframe tbody tr th:only-of-type {\n",
       "        vertical-align: middle;\n",
       "    }\n",
       "\n",
       "    .dataframe tbody tr th {\n",
       "        vertical-align: top;\n",
       "    }\n",
       "\n",
       "    .dataframe thead th {\n",
       "        text-align: right;\n",
       "    }\n",
       "</style>\n",
       "<table border=\"1\" class=\"dataframe\">\n",
       "  <thead>\n",
       "    <tr style=\"text-align: right;\">\n",
       "      <th></th>\n",
       "      <th>Textos_espanol</th>\n",
       "      <th>sdg</th>\n",
       "    </tr>\n",
       "  </thead>\n",
       "  <tbody>\n",
       "    <tr>\n",
       "      <th>62</th>\n",
       "      <td>Los días 9 y 10 de abril de 2018 tuvo lugar en Estocolmo una misión exploratoria que incluyó reuniones con funcionarios del Ministerio de Educación e Investigación, la Agencia Nacional de Educación y representantes de instituciones de formación del profesorado, municipios, escuelas independientes, sindicatos de profesores y directores, así como investigadores (anexo A). En cada sección se describen las políticas actuales, se analiza la situación y se ofrecen a Suecia ejemplos prometedores de países homólogos en varios niveles políticos: el aula, la escuela (o la universidad en algunos casos), el municipio, la región y el sistema. Con ello se pretende subrayar la responsabilidad compartida a todos los niveles del sistema educativo en la integración de los alumnos inmigrantes y refugiados. Por último, se ofrecen sugerencias políticas para orientar a Suecia sobre la mejor manera de responder a los actuales retos de integración en estos cuatro ámbitos.</td>\n",
       "      <td>NaN</td>\n",
       "    </tr>\n",
       "    <tr>\n",
       "      <th>1448</th>\n",
       "      <td>Hubo reducciones de 69% y 75% en la tasa de mortalidad por diabetes, y disminuciones de 72% y 75% por enfermedad renal. Además de mejores resultados de salud, el estudio también demuestra la rentabilidad de fortalecer la atención primaria de salud (Zhao et al., En algunas áreas, un bajo volumen de pacientes hace inviable un hospital o un especialista. Estos también son lugares que no son percibidos por los profesionales de la salud como atractivos para vivir.</td>\n",
       "      <td>NaN</td>\n",
       "    </tr>\n",
       "    <tr>\n",
       "      <th>298</th>\n",
       "      <td>Las polÃticas macroeconÃ³micas conforman el entorno econÃ³mico general para la realizaciÃ³n de los derechos econÃ³micos y sociales de las mujeres a travÃ©s de su impacto sobre la creaciÃ³n de empleo y el espacio fiscal en particular. Por tanto, la forma en que se diseÃ±en y apliquen las polÃticas macroeconÃ³micas tendrÃ¡ un impacto directo en la probabilidad de que se logre la igualdad de gÃ©nero. Dos grandes categorÃas de polÃticas macroeconÃ³micas son la polÃtica fiscal y la polÃtica monetaria.</td>\n",
       "      <td>NaN</td>\n",
       "    </tr>\n",
       "    <tr>\n",
       "      <th>1666</th>\n",
       "      <td>El gobierno decidió recientemente establecer una formación especializada para enfermeras en cuidados crónicos fuera de los hospitales, con estas enfermeras muy probablemente empleadas en prácticas de médicos generales y servicios de salud municipales. Las regiones también invirtieron en centros de especialidades múltiples llamados 'Casas de salud', que incluyen médicos de cabecera (que también actúan como coordinadores de la atención), especialistas y fisioterapeutas, aunque han surgido dificultades para contratar médicos de cabecera (consulte la Sección 5.2). El sistema de atención primaria parece estar resistiendo bien a pesar de las reducciones en la actividad de atención aguda descritas anteriormente, aunque las hospitalizaciones evitables por ciertas afecciones son más altas que el promedio de la UE (consulte la Sección S.3).</td>\n",
       "      <td>NaN</td>\n",
       "    </tr>\n",
       "    <tr>\n",
       "      <th>299</th>\n",
       "      <td>Rumanía informó de que la cantidad de estimulantes de tipo anfetamínico incautada en 2014 fue casi 11 veces superior a la incautada en 2013. En 2014, Austria informó de la detección de tres laboratorios de anfetamina y nueve de metanfetamina, mientras que las autoridades alemanas desmantelaron 11 laboratorios de anfetamina y tres laboratorios que habían estado fabricando metanfetamina a partir de pseudoefedrina extraída de descongestionantes nasales. En la República Checa, el número de laboratorios de metanfetamina desmantelados aumentó ligeramente a 272 en 2014, frente a los 262 desmantelados en 2013.</td>\n",
       "      <td>NaN</td>\n",
       "    </tr>\n",
       "  </tbody>\n",
       "</table>\n",
       "</div>"
      ],
      "text/plain": [
       "                                                                                                                                                                                                                                                                                                                                                                                                                                                                                                                                                                                                                                                                                                                                                                                                                                                                                                                                                                                           Textos_espanol  \\\n",
       "62    Los días 9 y 10 de abril de 2018 tuvo lugar en Estocolmo una misión exploratoria que incluyó reuniones con funcionarios del Ministerio de Educación e Investigación, la Agencia Nacional de Educación y representantes de instituciones de formación del profesorado, municipios, escuelas independientes, sindicatos de profesores y directores, así como investigadores (anexo A). En cada sección se describen las políticas actuales, se analiza la situación y se ofrecen a Suecia ejemplos prometedores de países homólogos en varios niveles políticos: el aula, la escuela (o la universidad en algunos casos), el municipio, la región y el sistema. Con ello se pretende subrayar la responsabilidad compartida a todos los niveles del sistema educativo en la integración de los alumnos inmigrantes y refugiados. Por último, se ofrecen sugerencias políticas para orientar a Suecia sobre la mejor manera de responder a los actuales retos de integración en estos cuatro ámbitos.    \n",
       "1448                                                                                                                                                                                                                                                                                                                                                                                                                                                                                                                      Hubo reducciones de 69% y 75% en la tasa de mortalidad por diabetes, y disminuciones de 72% y 75% por enfermedad renal. Además de mejores resultados de salud, el estudio también demuestra la rentabilidad de fortalecer la atención primaria de salud (Zhao et al., En algunas áreas, un bajo volumen de pacientes hace inviable un hospital o un especialista. Estos también son lugares que no son percibidos por los profesionales de la salud como atractivos para vivir.   \n",
       "298                                                                                                                                                                                                                                                                                                                                                                                                                                                                                 Las polÃticas macroeconÃ³micas conforman el entorno econÃ³mico general para la realizaciÃ³n de los derechos econÃ³micos y sociales de las mujeres a travÃ©s de su impacto sobre la creaciÃ³n de empleo y el espacio fiscal en particular. Por tanto, la forma en que se diseÃ±en y apliquen las polÃticas macroeconÃ³micas tendrÃ¡ un impacto directo en la probabilidad de que se logre la igualdad de gÃ©nero. Dos grandes categorÃas de polÃticas macroeconÃ³micas son la polÃtica fiscal y la polÃtica monetaria.   \n",
       "1666                                                                                                                           El gobierno decidió recientemente establecer una formación especializada para enfermeras en cuidados crónicos fuera de los hospitales, con estas enfermeras muy probablemente empleadas en prácticas de médicos generales y servicios de salud municipales. Las regiones también invirtieron en centros de especialidades múltiples llamados 'Casas de salud', que incluyen médicos de cabecera (que también actúan como coordinadores de la atención), especialistas y fisioterapeutas, aunque han surgido dificultades para contratar médicos de cabecera (consulte la Sección 5.2). El sistema de atención primaria parece estar resistiendo bien a pesar de las reducciones en la actividad de atención aguda descritas anteriormente, aunque las hospitalizaciones evitables por ciertas afecciones son más altas que el promedio de la UE (consulte la Sección S.3).   \n",
       "299                                                                                                                                                                                                                                                                                                                                                                     Rumanía informó de que la cantidad de estimulantes de tipo anfetamínico incautada en 2014 fue casi 11 veces superior a la incautada en 2013. En 2014, Austria informó de la detección de tres laboratorios de anfetamina y nueve de metanfetamina, mientras que las autoridades alemanas desmantelaron 11 laboratorios de anfetamina y tres laboratorios que habían estado fabricando metanfetamina a partir de pseudoefedrina extraída de descongestionantes nasales. En la República Checa, el número de laboratorios de metanfetamina desmantelados aumentó ligeramente a 272 en 2014, frente a los 262 desmantelados en 2013.   \n",
       "\n",
       "      sdg  \n",
       "62    NaN  \n",
       "1448  NaN  \n",
       "298   NaN  \n",
       "1666  NaN  \n",
       "299   NaN  "
      ]
     },
     "execution_count": 1056,
     "metadata": {},
     "output_type": "execute_result"
    }
   ],
   "source": [
    "data_t_nuevo.sample(5)"
   ]
  },
  {
   "cell_type": "markdown",
   "metadata": {},
   "source": [
    "### 2.1 Limpieza de datos"
   ]
  },
  {
   "cell_type": "code",
   "execution_count": 1057,
   "metadata": {},
   "outputs": [
    {
     "data": {
      "text/plain": [
       "sdg\n",
       "3    0.333333\n",
       "4    0.333333\n",
       "5    0.333333\n",
       "Name: proportion, dtype: float64"
      ]
     },
     "execution_count": 1057,
     "metadata": {},
     "output_type": "execute_result"
    }
   ],
   "source": [
    "data_t[\"sdg\"].value_counts(dropna=False, normalize=True)"
   ]
  },
  {
   "cell_type": "code",
   "execution_count": 1058,
   "metadata": {},
   "outputs": [
    {
     "data": {
      "text/plain": [
       "sdg\n",
       "NaN    1.0\n",
       "Name: proportion, dtype: float64"
      ]
     },
     "execution_count": 1058,
     "metadata": {},
     "output_type": "execute_result"
    }
   ],
   "source": [
    "data_t_nuevo[\"sdg\"].value_counts(dropna=False, normalize=True)"
   ]
  },
  {
   "cell_type": "markdown",
   "metadata": {},
   "source": [
    "Se puede ver una distribución equitativa de los datos en los tres grupos de ODS"
   ]
  },
  {
   "cell_type": "code",
   "execution_count": 1059,
   "metadata": {},
   "outputs": [],
   "source": [
    "data_t[\"Textos_espanol\"] = data_t[\"Textos_espanol\"].astype(str)"
   ]
  },
  {
   "cell_type": "code",
   "execution_count": 1060,
   "metadata": {},
   "outputs": [],
   "source": [
    "data_t_nuevo[\"Textos_espanol\"] = data_t_nuevo[\"Textos_espanol\"].astype(str)"
   ]
  },
  {
   "cell_type": "markdown",
   "metadata": {},
   "source": [
    "### 2.2 Corrección de palabras mal codificadas"
   ]
  },
  {
   "cell_type": "code",
   "execution_count": 1061,
   "metadata": {},
   "outputs": [],
   "source": [
    "import ftfy\n",
    "\n",
    "def fix_malformed_words(text):\n",
    "    # Utiliza ftfy para corregir problemas de codificación\n",
    "    text = ftfy.fix_text(text)\n",
    "    return text\n",
    "\n",
    "# Aplica la función a tu DataFrame\n",
    "data_t['Textos_espanol'] = data_t['Textos_espanol'].apply(fix_malformed_words)\n",
    "\n"
   ]
  },
  {
   "cell_type": "code",
   "execution_count": 1062,
   "metadata": {},
   "outputs": [],
   "source": [
    "import ftfy\n",
    "\n",
    "def fix_malformed_words(text):\n",
    "    # Utiliza ftfy para corregir problemas de codificación\n",
    "    text = ftfy.fix_text(text)\n",
    "    return text\n",
    "\n",
    "# Aplica la función a tu DataFrame\n",
    "data_t_nuevo['Textos_espanol'] = data_t_nuevo['Textos_espanol'].apply(fix_malformed_words)"
   ]
  },
  {
   "cell_type": "code",
   "execution_count": 1063,
   "metadata": {},
   "outputs": [
    {
     "data": {
      "text/html": [
       "<div>\n",
       "<style scoped>\n",
       "    .dataframe tbody tr th:only-of-type {\n",
       "        vertical-align: middle;\n",
       "    }\n",
       "\n",
       "    .dataframe tbody tr th {\n",
       "        vertical-align: top;\n",
       "    }\n",
       "\n",
       "    .dataframe thead th {\n",
       "        text-align: right;\n",
       "    }\n",
       "</style>\n",
       "<table border=\"1\" class=\"dataframe\">\n",
       "  <thead>\n",
       "    <tr style=\"text-align: right;\">\n",
       "      <th></th>\n",
       "      <th>Textos_espanol</th>\n",
       "      <th>sdg</th>\n",
       "    </tr>\n",
       "  </thead>\n",
       "  <tbody>\n",
       "    <tr>\n",
       "      <th>0</th>\n",
       "      <td>Por ejemplo, el número de consultas externas de especialistas es de 319 por cada mil derechohabientes en el SP, en comparación con 338 y 620 por cada mil derechohabientes en el IMSS y el ISSSTE, respectivamente. Si bien algunas de estas diferencias pueden reflejar una necesidad desigual (como la población ligeramente mayor del ISSSTE), otras no pueden justificarse de esta manera. El número de recetas que no pudieron ser surtidas en su totalidad por un farmacéutico debido a la falta de existencias es de 33% dentro del SP en comparación con 14% dentro del IMSS según los datos de la encuesta (aunque las propias cifras de los institutos de la SS sugieren tasas más altas de recetas surtidas). Ambas cifras se encuentran entre las más altas de la OCDE. El gasto de bolsillo no se ha reducido significativamente en la última década, a pesar de los esfuerzos para lograr la cobertura sanitaria universal a través de la reforma del SP.</td>\n",
       "      <td>3</td>\n",
       "    </tr>\n",
       "    <tr>\n",
       "      <th>1</th>\n",
       "      <td>En 2007, el gobierno central financió directamente solo el 0,3% del gasto total en salud, pero realizó transferencias específicas para el gasto en salud que ascendieron a otro 5,6% del gasto total. La mayor parte del gasto presupuestario en salud lo realizan los gobiernos de los condados. Por lo tanto, los condados pobres solo pueden ofrecer un bajo nivel de atención a la población local. El gobierno provincial proporciona subsidios del lado de la oferta a los hospitales.</td>\n",
       "      <td>3</td>\n",
       "    </tr>\n",
       "    <tr>\n",
       "      <th>2</th>\n",
       "      <td>Claramente, hay muchos otros factores en juego, en particular, una variedad de barreras y determinantes sociales. Estos pueden estar relacionados con el género, la clase, la etnia, la casta, el idioma y la religión, y surgen de estructuras, normas y procesos sociales arraigados que aceptan e incluso fomentan distribuciones injustas de la riqueza y los recursos sociales. Por ejemplo, las personas que viven con el VIH y algunas otras enfermedades crónicas enfrentan altos niveles de estigma y discriminación que dificultan su acceso a pruebas médicas, tratamiento, atención y apoyo. Por lo tanto, los gobiernos que buscan mejorar los estándares de salud querrán mejorar la condición de la mujer, brindar servicios de salud reproductiva efectivos, implementar programas integrales de lactancia materna en línea con las recomendaciones actuales y aumentar las presiones comunitarias contra el aborto selectivo por sexo. Las personas pobres, que carecen de educación e información, o de fondos para opciones más saludables, son más vulnerables al impacto de las ENT que los ricos y es probable que mueran antes. Directa e indirectamente, las ENT tendrán impactos de gran alcance en el progreso hacia los ODM.</td>\n",
       "      <td>3</td>\n",
       "    </tr>\n",
       "    <tr>\n",
       "      <th>3</th>\n",
       "      <td>Por ejemplo, el estado australiano de Victoria creó una agencia de promoción de la salud financiada con los impuestos sobre el tabaco, y varios estados de EE.UU. (California, Massachusetts, Arizona y Oregón) han destinado parte de los ingresos procedentes de los impuestos especiales sobre el tabaco a actividades de educación y control del tabaco, mientras que en Nueva Jersey, Ohio y Texas los ingresos procedentes del alcohol se utilizan para programas de educación y prevención relacionados con el alcohol (Sassi et al., 2004), Los impuestos locales pueden ser una fuente importante de ingresos, sobre todo en los sistemas sanitarios descentralizados (por ejemplo, Dinamarca, Finlandia, Italia y Suecia)17 . Además, el nivel de los impuestos locales puede fijarse en función de las preferencias locales sobre el nivel y la calidad de los servicios médicos. Sin embargo, en ausencia de un mecanismo de transferencia ajustado al riesgo y gestionado centralmente, la descentralización reduce la mancomunación de riesgos y podría dar lugar a mayores disparidades sanitarias interregionales.</td>\n",
       "      <td>3</td>\n",
       "    </tr>\n",
       "    <tr>\n",
       "      <th>4</th>\n",
       "      <td>El consumo anual de alcohol se estima en 15,7 litros al año para los hombres, más de un 50% por encima de la media de la OCDE (10,4) (Sistema mundial de información sobre alcohol y salud de la OMS), lo que puede ayudar a explicar la alta mortalidad por enfermedad hepática relacionada con el alcohol. Si bien la prevalencia de la obesidad en adultos es relativamente baja en comparación con muchos países de la OCDE, más del 30 % de las mujeres en Kazajstán son obesas, en comparación con el 16 % de los hombres (World Obesity, 2016), lo que coloca la tasa entre las mujeres a la par con algunos de los países más obesos de la OCDE. De hecho, una gran proporción de la brecha en la esperanza de vida se explica por una mayor mortalidad entre los jóvenes kazajos de 15 a 29 años, un grupo de edad en el que las tasas generales de mortalidad son más de tres veces más altas que en la UE de los 15.</td>\n",
       "      <td>3</td>\n",
       "    </tr>\n",
       "  </tbody>\n",
       "</table>\n",
       "</div>"
      ],
      "text/plain": [
       "                                                                                                                                                                                                                                                                                                                                                                                                                                                                                                                                                                                                                                                                                                                                                                                                                                                                                                                                                                                                                                                                                                                                                                                                                                            Textos_espanol  \\\n",
       "0                                                                                                                                                                                                                                                                                  Por ejemplo, el número de consultas externas de especialistas es de 319 por cada mil derechohabientes en el SP, en comparación con 338 y 620 por cada mil derechohabientes en el IMSS y el ISSSTE, respectivamente. Si bien algunas de estas diferencias pueden reflejar una necesidad desigual (como la población ligeramente mayor del ISSSTE), otras no pueden justificarse de esta manera. El número de recetas que no pudieron ser surtidas en su totalidad por un farmacéutico debido a la falta de existencias es de 33% dentro del SP en comparación con 14% dentro del IMSS según los datos de la encuesta (aunque las propias cifras de los institutos de la SS sugieren tasas más altas de recetas surtidas). Ambas cifras se encuentran entre las más altas de la OCDE. El gasto de bolsillo no se ha reducido significativamente en la última década, a pesar de los esfuerzos para lograr la cobertura sanitaria universal a través de la reforma del SP.   \n",
       "1                                                                                                                                                                                                                                                                                                                                                                                                                                                                                                                                                                                                                                                                                                                                                             En 2007, el gobierno central financió directamente solo el 0,3% del gasto total en salud, pero realizó transferencias específicas para el gasto en salud que ascendieron a otro 5,6% del gasto total. La mayor parte del gasto presupuestario en salud lo realizan los gobiernos de los condados. Por lo tanto, los condados pobres solo pueden ofrecer un bajo nivel de atención a la población local. El gobierno provincial proporciona subsidios del lado de la oferta a los hospitales.   \n",
       "2  Claramente, hay muchos otros factores en juego, en particular, una variedad de barreras y determinantes sociales. Estos pueden estar relacionados con el género, la clase, la etnia, la casta, el idioma y la religión, y surgen de estructuras, normas y procesos sociales arraigados que aceptan e incluso fomentan distribuciones injustas de la riqueza y los recursos sociales. Por ejemplo, las personas que viven con el VIH y algunas otras enfermedades crónicas enfrentan altos niveles de estigma y discriminación que dificultan su acceso a pruebas médicas, tratamiento, atención y apoyo. Por lo tanto, los gobiernos que buscan mejorar los estándares de salud querrán mejorar la condición de la mujer, brindar servicios de salud reproductiva efectivos, implementar programas integrales de lactancia materna en línea con las recomendaciones actuales y aumentar las presiones comunitarias contra el aborto selectivo por sexo. Las personas pobres, que carecen de educación e información, o de fondos para opciones más saludables, son más vulnerables al impacto de las ENT que los ricos y es probable que mueran antes. Directa e indirectamente, las ENT tendrán impactos de gran alcance en el progreso hacia los ODM.   \n",
       "3                                                                                                                       Por ejemplo, el estado australiano de Victoria creó una agencia de promoción de la salud financiada con los impuestos sobre el tabaco, y varios estados de EE.UU. (California, Massachusetts, Arizona y Oregón) han destinado parte de los ingresos procedentes de los impuestos especiales sobre el tabaco a actividades de educación y control del tabaco, mientras que en Nueva Jersey, Ohio y Texas los ingresos procedentes del alcohol se utilizan para programas de educación y prevención relacionados con el alcohol (Sassi et al., 2004), Los impuestos locales pueden ser una fuente importante de ingresos, sobre todo en los sistemas sanitarios descentralizados (por ejemplo, Dinamarca, Finlandia, Italia y Suecia)17 . Además, el nivel de los impuestos locales puede fijarse en función de las preferencias locales sobre el nivel y la calidad de los servicios médicos. Sin embargo, en ausencia de un mecanismo de transferencia ajustado al riesgo y gestionado centralmente, la descentralización reduce la mancomunación de riesgos y podría dar lugar a mayores disparidades sanitarias interregionales.   \n",
       "4                                                                                                                                                                                                                                                                                                                          El consumo anual de alcohol se estima en 15,7 litros al año para los hombres, más de un 50% por encima de la media de la OCDE (10,4) (Sistema mundial de información sobre alcohol y salud de la OMS), lo que puede ayudar a explicar la alta mortalidad por enfermedad hepática relacionada con el alcohol. Si bien la prevalencia de la obesidad en adultos es relativamente baja en comparación con muchos países de la OCDE, más del 30 % de las mujeres en Kazajstán son obesas, en comparación con el 16 % de los hombres (World Obesity, 2016), lo que coloca la tasa entre las mujeres a la par con algunos de los países más obesos de la OCDE. De hecho, una gran proporción de la brecha en la esperanza de vida se explica por una mayor mortalidad entre los jóvenes kazajos de 15 a 29 años, un grupo de edad en el que las tasas generales de mortalidad son más de tres veces más altas que en la UE de los 15.   \n",
       "\n",
       "   sdg  \n",
       "0    3  \n",
       "1    3  \n",
       "2    3  \n",
       "3    3  \n",
       "4    3  "
      ]
     },
     "execution_count": 1063,
     "metadata": {},
     "output_type": "execute_result"
    }
   ],
   "source": [
    "#Se verifica que se haya realizado la corrección\n",
    "data_t.head(5)"
   ]
  },
  {
   "cell_type": "code",
   "execution_count": 1064,
   "metadata": {},
   "outputs": [
    {
     "data": {
      "text/html": [
       "<div>\n",
       "<style scoped>\n",
       "    .dataframe tbody tr th:only-of-type {\n",
       "        vertical-align: middle;\n",
       "    }\n",
       "\n",
       "    .dataframe tbody tr th {\n",
       "        vertical-align: top;\n",
       "    }\n",
       "\n",
       "    .dataframe thead th {\n",
       "        text-align: right;\n",
       "    }\n",
       "</style>\n",
       "<table border=\"1\" class=\"dataframe\">\n",
       "  <thead>\n",
       "    <tr style=\"text-align: right;\">\n",
       "      <th></th>\n",
       "      <th>Textos_espanol</th>\n",
       "      <th>sdg</th>\n",
       "    </tr>\n",
       "  </thead>\n",
       "  <tbody>\n",
       "    <tr>\n",
       "      <th>0</th>\n",
       "      <td>Se basa en los nueve años de educación básica (seis de primaria y tres de secundaria). Los alumnos que acceden al segundo ciclo de secundaria pueden ir a un centro de orientación más académica o a un centro de formación profesional. Esto se aplica tanto en el sistema islámico como en el no islámico. La enseñanza secundaria superior formal comprende la enseñanza general (sekolah menengah atas, o SMA), la enseñanza profesional (sekolah menengah kejuruan, o SMK), las escuelas secundarias superiores islámicas (madrasah aliyah, o MA) y la enseñanza profesional islámica (madrasah aliyah kejuruan, o MAK). Este capítulo se centra principalmente en la enseñanza secundaria superior académica, mientras que el capítulo 5 trata de la formación profesional. Se está trabajando en el desarrollo de colegios comunitarios y vías alternativas de acceso a la enseñanza superior.</td>\n",
       "      <td>NaN</td>\n",
       "    </tr>\n",
       "    <tr>\n",
       "      <th>1</th>\n",
       "      <td>En la última década, y en particular desde 2010, el número de altas per cápita ha tendido a disminuir, y ahora está en línea con la media de la OCDE mencionada anteriormente. Por ejemplo, los habitantes de zonas rurales representan el 43% de la población, pero sólo el 32% de las altas hospitalarias. A falta de información complementaria, no es posible determinar si esta diferencia indica o no disparidades en el acceso de las poblaciones rurales y, en caso afirmativo, si las causas son geográficas, culturales o infraestructurales. No parece que se recojan datos sobre el acceso a la atención desde el punto de vista del paciente, lo que ayudaría a comprender la naturaleza de los obstáculos al acceso (y las soluciones). En general, no es posible determinar con los datos disponibles si los ingresos o las características socioeconómicas de los pacientes influyen a la hora de llegar a las puertas del hospital o de ser ingresado. El acceso desigual probablemente se deba también a la incapacidad de los centros de las distintas regiones para prestar los mismos servicios.</td>\n",
       "      <td>NaN</td>\n",
       "    </tr>\n",
       "    <tr>\n",
       "      <th>2</th>\n",
       "      <td>AsÃ, por ejemplo, el estigma asociado a los beneficiarios de prestaciones sociales o a los pobres aumenta su desventaja. Del mismo modo, los errores de dignidad y reconocimiento pueden causar desventajas.54 La infravaloración del trabajo de las mujeres es un error de reconocimiento que causa directamente desventajas socioeconómicas, por lo que el derecho a la igualdad de retribución por un trabajo de igual valor es una sÃntesis importante de las dos primeras dimensiones del derecho a la igualdad: reparar la desventaja y abordar el estigma y los estereotipos. Tanto el Comité de Derechos Económicos, Sociales y Culturales como el Comité para la Eliminación de la Discriminación contra la Mujer han dado este paso. Directrices para la presentación de informes\", párrafo 29, CDESC, Ecuador, op. cit.</td>\n",
       "      <td>NaN</td>\n",
       "    </tr>\n",
       "    <tr>\n",
       "      <th>3</th>\n",
       "      <td>Hay muchos profesores no cualificados en las escuelas, ya que es difícil contratar a profesores cualificados. Un indicio del reconocimiento del importante papel de los profesores en este contexto es la inclusión por Alberta de preguntas adicionales en la Encuesta Internacional sobre la Enseñanza y el Aprendizaje de la OCDE de 2018 relativas a la comprensión por parte de los profesores y los lÃderes escolares de cuestiones relacionadas con las culturas indÃgenas, la historia y el trabajo con alumnos indÃgenas, asà como sobre el desarrollo profesional pertinente. El enfoque holÃstico de los pueblos indÃgenas hace hincapié en lo mucho que estos contribuyen al bienestar general de los niños, asà como al de todos los demás, además de factores como las ventajas y desventajas materiales. El trauma sufrido por los pueblos indígenas, incluso a través del sistema de escuelas residenciales, todavía es sentido agudamente por muchos. De hecho, se nos dijo que los síntomas del trauma pueden aumentar en lugar de disminuir con el paso del tiempo, exacerbados por las relaciones intergeneracionales. Frente a este panorama más amplio, pueden comprenderse mejor los estudios específicos de determinadas provincias y territorios, y la comparación entre jóvenes indígenas y no indígenas (Freeman, King y Pickett, 2016).</td>\n",
       "      <td>NaN</td>\n",
       "    </tr>\n",
       "    <tr>\n",
       "      <th>4</th>\n",
       "      <td>A raíz de su preocupación por el hecho de que los médicos de todo el sistema sanitario japonés no fueran capaces de identificar los signos de sufrimiento psicológico que podrían ayudar a reducir los suicidios, la Asociación Médica Japonesa informa de que empezó a compartir información y orientaciones sobre la depresión con todos los médicos, primero en 2004 y luego de nuevo en 2009. En la actualidad, sólo se recogen indicadores sobre la tasa de reclusión y contención, y de ingresos involuntarios, por parte de los proveedores y a nivel prefectural. La información recopilada sistemáticamente sobre el sistema de atención de salud mental se limita a indicadores estructurales: instalaciones, número de personal, número de camas.</td>\n",
       "      <td>NaN</td>\n",
       "    </tr>\n",
       "  </tbody>\n",
       "</table>\n",
       "</div>"
      ],
      "text/plain": [
       "                                                                                                                                                                                                                                                                                                                                                                                                                                                                                                                                                                                                                                                                                                                                                                                                                                                                                                                                                                                                                                                                                                                                                                                                                                                                                                                                                         Textos_espanol  \\\n",
       "0                                                                                                                                                                                                                                                                                                                                                                                                                                                                Se basa en los nueve años de educación básica (seis de primaria y tres de secundaria). Los alumnos que acceden al segundo ciclo de secundaria pueden ir a un centro de orientación más académica o a un centro de formación profesional. Esto se aplica tanto en el sistema islámico como en el no islámico. La enseñanza secundaria superior formal comprende la enseñanza general (sekolah menengah atas, o SMA), la enseñanza profesional (sekolah menengah kejuruan, o SMK), las escuelas secundarias superiores islámicas (madrasah aliyah, o MA) y la enseñanza profesional islámica (madrasah aliyah kejuruan, o MAK). Este capítulo se centra principalmente en la enseñanza secundaria superior académica, mientras que el capítulo 5 trata de la formación profesional. Se está trabajando en el desarrollo de colegios comunitarios y vías alternativas de acceso a la enseñanza superior.    \n",
       "1                                                                                                                                                                                                                                                En la última década, y en particular desde 2010, el número de altas per cápita ha tendido a disminuir, y ahora está en línea con la media de la OCDE mencionada anteriormente. Por ejemplo, los habitantes de zonas rurales representan el 43% de la población, pero sólo el 32% de las altas hospitalarias. A falta de información complementaria, no es posible determinar si esta diferencia indica o no disparidades en el acceso de las poblaciones rurales y, en caso afirmativo, si las causas son geográficas, culturales o infraestructurales. No parece que se recojan datos sobre el acceso a la atención desde el punto de vista del paciente, lo que ayudaría a comprender la naturaleza de los obstáculos al acceso (y las soluciones). En general, no es posible determinar con los datos disponibles si los ingresos o las características socioeconómicas de los pacientes influyen a la hora de llegar a las puertas del hospital o de ser ingresado. El acceso desigual probablemente se deba también a la incapacidad de los centros de las distintas regiones para prestar los mismos servicios.    \n",
       "2                                                                                                                                                                                                                                                                                                                                                                                                                                                                                                                                   AsÃ, por ejemplo, el estigma asociado a los beneficiarios de prestaciones sociales o a los pobres aumenta su desventaja. Del mismo modo, los errores de dignidad y reconocimiento pueden causar desventajas.54 La infravaloración del trabajo de las mujeres es un error de reconocimiento que causa directamente desventajas socioeconómicas, por lo que el derecho a la igualdad de retribución por un trabajo de igual valor es una sÃntesis importante de las dos primeras dimensiones del derecho a la igualdad: reparar la desventaja y abordar el estigma y los estereotipos. Tanto el Comité de Derechos Económicos, Sociales y Culturales como el Comité para la Eliminación de la Discriminación contra la Mujer han dado este paso. Directrices para la presentación de informes\", párrafo 29, CDESC, Ecuador, op. cit.    \n",
       "3  Hay muchos profesores no cualificados en las escuelas, ya que es difícil contratar a profesores cualificados. Un indicio del reconocimiento del importante papel de los profesores en este contexto es la inclusión por Alberta de preguntas adicionales en la Encuesta Internacional sobre la Enseñanza y el Aprendizaje de la OCDE de 2018 relativas a la comprensión por parte de los profesores y los lÃderes escolares de cuestiones relacionadas con las culturas indÃgenas, la historia y el trabajo con alumnos indÃgenas, asà como sobre el desarrollo profesional pertinente. El enfoque holÃstico de los pueblos indÃgenas hace hincapié en lo mucho que estos contribuyen al bienestar general de los niños, asà como al de todos los demás, además de factores como las ventajas y desventajas materiales. El trauma sufrido por los pueblos indígenas, incluso a través del sistema de escuelas residenciales, todavía es sentido agudamente por muchos. De hecho, se nos dijo que los síntomas del trauma pueden aumentar en lugar de disminuir con el paso del tiempo, exacerbados por las relaciones intergeneracionales. Frente a este panorama más amplio, pueden comprenderse mejor los estudios específicos de determinadas provincias y territorios, y la comparación entre jóvenes indígenas y no indígenas (Freeman, King y Pickett, 2016).    \n",
       "4                                                                                                                                                                                                                                                                                                                                                                                                                                                                                                                                                                                                         A raíz de su preocupación por el hecho de que los médicos de todo el sistema sanitario japonés no fueran capaces de identificar los signos de sufrimiento psicológico que podrían ayudar a reducir los suicidios, la Asociación Médica Japonesa informa de que empezó a compartir información y orientaciones sobre la depresión con todos los médicos, primero en 2004 y luego de nuevo en 2009. En la actualidad, sólo se recogen indicadores sobre la tasa de reclusión y contención, y de ingresos involuntarios, por parte de los proveedores y a nivel prefectural. La información recopilada sistemáticamente sobre el sistema de atención de salud mental se limita a indicadores estructurales: instalaciones, número de personal, número de camas.    \n",
       "\n",
       "   sdg  \n",
       "0  NaN  \n",
       "1  NaN  \n",
       "2  NaN  \n",
       "3  NaN  \n",
       "4  NaN  "
      ]
     },
     "execution_count": 1064,
     "metadata": {},
     "output_type": "execute_result"
    }
   ],
   "source": [
    "#Se verifica que se haya realizado la corrección\n",
    "data_t_nuevo.head(5)"
   ]
  },
  {
   "cell_type": "markdown",
   "metadata": {},
   "source": [
    "### 2.3 Eliminación de caracteres especiales y puntuación"
   ]
  },
  {
   "cell_type": "code",
   "execution_count": 1065,
   "metadata": {},
   "outputs": [],
   "source": [
    "import re\n",
    "import unicodedata\n",
    "import inflect\n",
    "from nltk.corpus import stopwords\n",
    "\n",
    "# Esta lista contiene las stop words en español\n",
    "spanish_stopwords = set(stopwords.words('spanish'))\n",
    "\n",
    "def remove_non_ascii(words):\n",
    "    \"\"\"Remove non-ASCII characters from list of tokenized words\"\"\"\n",
    "    new_words = []\n",
    "    for word in words:\n",
    "        new_word = unicodedata.normalize('NFKD', word).encode('ascii', 'ignore').decode('utf-8', 'ignore')\n",
    "        new_words.append(new_word)\n",
    "    return new_words\n",
    "\n",
    "def to_lowercase(words):\n",
    "    \"\"\"Convert all characters to lowercase from list of tokenized words\"\"\"\n",
    "    new_words = []\n",
    "    for word in words:\n",
    "        new_words.append(word.lower())\n",
    "    return new_words\n",
    "\n",
    "def remove_punctuation(words):\n",
    "    \"\"\"Remove punctuation from list of tokenized words\"\"\"\n",
    "    new_words = []\n",
    "    for word in words:\n",
    "        new_word = re.sub(r'[^\\w\\s]', '', word)\n",
    "        if new_word != '':\n",
    "            new_words.append(new_word)\n",
    "    return new_words\n",
    "\n",
    "def replace_numbers(words):\n",
    "    \"\"\"Replace all integer occurrences in list of tokenized words with textual representation\"\"\"\n",
    "    p = inflect.engine()\n",
    "    new_words = []\n",
    "    for word in words:\n",
    "        if word.isdigit():\n",
    "            new_word = p.number_to_words(word)\n",
    "            new_words.append(new_word)\n",
    "        else:\n",
    "            new_words.append(word)\n",
    "    return new_words\n",
    "\n",
    "def remove_stopwords(words):\n",
    "    \"\"\"Remove stop words from list of tokenized words\"\"\"\n",
    "    new_words = []\n",
    "    for word in words:\n",
    "        if word not in spanish_stopwords:\n",
    "            new_words.append(word)\n",
    "    return new_words\n",
    "\n",
    "def preprocessing(words):\n",
    "    words = to_lowercase(words)\n",
    "    words = replace_numbers(words)\n",
    "    words = remove_punctuation(words)\n",
    "    words = remove_non_ascii(words)\n",
    "    words = remove_stopwords(words)\n",
    "    return words\n"
   ]
  },
  {
   "cell_type": "markdown",
   "metadata": {},
   "source": [
    "### 2.4 Tokenización"
   ]
  },
  {
   "cell_type": "code",
   "execution_count": 1066,
   "metadata": {},
   "outputs": [],
   "source": [
    "data_t['Textos_espanol'] = data_t['Textos_espanol'].apply(contractions.fix) #Aplica la corrección de las contracciones"
   ]
  },
  {
   "cell_type": "code",
   "execution_count": 1067,
   "metadata": {},
   "outputs": [],
   "source": [
    "data_t_nuevo['Textos_espanol'] = data_t_nuevo['Textos_espanol'].apply(contractions.fix) #Aplica la corrección de las contracciones"
   ]
  },
  {
   "cell_type": "code",
   "execution_count": 1068,
   "metadata": {},
   "outputs": [
    {
     "data": {
      "text/html": [
       "<div>\n",
       "<style scoped>\n",
       "    .dataframe tbody tr th:only-of-type {\n",
       "        vertical-align: middle;\n",
       "    }\n",
       "\n",
       "    .dataframe tbody tr th {\n",
       "        vertical-align: top;\n",
       "    }\n",
       "\n",
       "    .dataframe thead th {\n",
       "        text-align: right;\n",
       "    }\n",
       "</style>\n",
       "<table border=\"1\" class=\"dataframe\">\n",
       "  <thead>\n",
       "    <tr style=\"text-align: right;\">\n",
       "      <th></th>\n",
       "      <th>Textos_espanol</th>\n",
       "      <th>sdg</th>\n",
       "      <th>words</th>\n",
       "    </tr>\n",
       "  </thead>\n",
       "  <tbody>\n",
       "    <tr>\n",
       "      <th>0</th>\n",
       "      <td>Por ejemplo, el número de consultas externas de especialistas es de 319 por cada mil derechohabientes en el SP, en comparación con 338 y 620 por cada mil derechohabientes en el IMSS y el ISSSTE, respectivamente. Si bien algunas de estas diferencias pueden reflejar una necesidad desigual (como la población ligeramente mayor del ISSSTE), otras no pueden justificarse de esta manera. El número de recetas que no pudieron ser surtidas en su totalidad por un farmacéutico debido a la falta de existencias es de 33% dentro del SP en comparación con 14% dentro del IMSS según los datos de la encuesta (aunque las propias cifras de los institutos de la SS sugieren tasas más altas de recetas surtidas). Ambas cifras se encuentran entre las más altas de la OCDE. El gasto de bolsillo no se ha reducido significativamente en la última década, a pesar de los esfuerzos para lograr la cobertura sanitaria universal a través de la reforma del SP.</td>\n",
       "      <td>3</td>\n",
       "      <td>[ejemplo, numero, consultas, externas, especialistas, three hundred and nineteen, cada, mil, derechohabientes, sp, comparacion, three hundred and thirtyeight, six hundred and twenty, cada, mil, derechohabientes, imss, issste, respectivamente, si, bien, diferencias, pueden, reflejar, necesidad, desigual, poblacion, ligeramente, mayor, issste, pueden, justificarse, manera, numero, recetas, pudieron, ser, surtidas, totalidad, farmaceutico, debido, falta, existencias, thirtythree, dentro, sp, comparacion, fourteen, dentro, imss, segun, datos, encuesta, aunque, propias, cifras, institutos, ss, sugieren, tasas, mas, altas, recetas, surtidas, ambas, cifras, encuentran, mas, altas, ocde, gasto, bolsillo, reducido, significativamente, ultima, decada, pesar, esfuerzos, lograr, cobertura, sanitaria, universal, traves, reforma, sp]</td>\n",
       "    </tr>\n",
       "    <tr>\n",
       "      <th>1</th>\n",
       "      <td>En 2007, el gobierno central financió directamente solo el 0,3% del gasto total en salud, pero realizó transferencias específicas para el gasto en salud que ascendieron a otro 5,6% del gasto total. La mayor parte del gasto presupuestario en salud lo realizan los gobiernos de los condados. Por lo tanto, los condados pobres solo pueden ofrecer un bajo nivel de atención a la población local. El gobierno provincial proporciona subsidios del lado de la oferta a los hospitales.</td>\n",
       "      <td>3</td>\n",
       "      <td>[two thousand and seven, gobierno, central, financio, directamente, solo, 03, gasto, total, salud, realizo, transferencias, especificas, gasto, salud, ascendieron, 56, gasto, total, mayor, parte, gasto, presupuestario, salud, realizan, gobiernos, condados, condados, pobres, solo, pueden, ofrecer, bajo, nivel, atencion, poblacion, local, gobierno, provincial, proporciona, subsidios, lado, oferta, hospitales]</td>\n",
       "    </tr>\n",
       "    <tr>\n",
       "      <th>2</th>\n",
       "      <td>Claramente, hay muchos otros factores en juego, en particular, una variedad de barreras y determinantes sociales. Estos pueden estar relacionados con el género, la clase, la etnia, la casta, el idioma y la religión, y surgen de estructuras, normas y procesos sociales arraigados que aceptan e incluso fomentan distribuciones injustas de la riqueza y los recursos sociales. Por ejemplo, las personas que viven con el VIH y algunas otras enfermedades crónicas enfrentan altos niveles de estigma y discriminación que dificultan su acceso a pruebas médicas, tratamiento, atención y apoyo. Por lo tanto, los gobiernos que buscan mejorar los estándares de salud querrán mejorar la condición de la mujer, brindar servicios de salud reproductiva efectivos, implementar programas integrales de lactancia materna en línea con las recomendaciones actuales y aumentar las presiones comunitarias contra el aborto selectivo por sexo. Las personas pobres, que carecen de educación e información, o de fondos para opciones más saludables, son más vulnerables al impacto de las ENT que los ricos y es probable que mueran antes. Directa e indirectamente, las ENT tendrán impactos de gran alcance en el progreso hacia los ODM.</td>\n",
       "      <td>3</td>\n",
       "      <td>[claramente, factores, juego, particular, variedad, barreras, determinantes, sociales, pueden, relacionados, genero, clase, etnia, casta, idioma, religion, surgen, estructuras, normas, procesos, sociales, arraigados, aceptan, incluso, fomentan, distribuciones, injustas, riqueza, recursos, sociales, ejemplo, personas, viven, vih, enfermedades, cronicas, enfrentan, altos, niveles, estigma, discriminacion, dificultan, acceso, pruebas, medicas, tratamiento, atencion, apoyo, gobiernos, buscan, mejorar, estandares, salud, querran, mejorar, condicion, mujer, brindar, servicios, salud, reproductiva, efectivos, implementar, programas, integrales, lactancia, materna, linea, recomendaciones, actuales, aumentar, presiones, comunitarias, aborto, selectivo, sexo, personas, pobres, carecen, educacion, informacion, fondos, opciones, mas, saludables, mas, vulnerables, impacto, ent, ricos, probable, mueran, directa, indirectamente, ent, tendran, impactos, gran, alcance, progreso, ...]</td>\n",
       "    </tr>\n",
       "    <tr>\n",
       "      <th>3</th>\n",
       "      <td>Por ejemplo, el estado australiano de Victoria creó una agencia de promoción de la salud financiada con los impuestos sobre el tabaco, y varios estados de EE.UU. (California, Massachusetts, Arizona y Oregón) han destinado parte de los ingresos procedentes de los impuestos especiales sobre el tabaco a actividades de educación y control del tabaco, mientras que en Nueva Jersey, Ohio y Texas los ingresos procedentes del alcohol se utilizan para programas de educación y prevención relacionados con el alcohol (Sassi et al., 2004), Los impuestos locales pueden ser una fuente importante de ingresos, sobre todo en los sistemas sanitarios descentralizados (por ejemplo, Dinamarca, Finlandia, Italia y Suecia)17 . Además, el nivel de los impuestos locales puede fijarse en función de las preferencias locales sobre el nivel y la calidad de los servicios médicos. Sin embargo, en ausencia de un mecanismo de transferencia ajustado al riesgo y gestionado centralmente, la descentralización reduce la mancomunación de riesgos y podría dar lugar a mayores disparidades sanitarias interregionales.</td>\n",
       "      <td>3</td>\n",
       "      <td>[ejemplo, australiano, victoria, creo, agencia, promocion, salud, financiada, impuestos, tabaco, varios, eeuu, california, massachusetts, arizona, oregon, destinado, parte, ingresos, procedentes, impuestos, especiales, tabaco, actividades, educacion, control, tabaco, mientras, nueva, jersey, ohio, texas, ingresos, procedentes, alcohol, utilizan, programas, educacion, prevencion, relacionados, alcohol, sassi, et, two thousand and four, impuestos, locales, pueden, ser, fuente, importante, ingresos, sistemas, sanitarios, descentralizados, ejemplo, dinamarca, finlandia, italia, suecia, seventeen, ademas, nivel, impuestos, locales, puede, fijarse, funcion, preferencias, locales, nivel, calidad, servicios, medicos, embargo, ausencia, mecanismo, transferencia, ajustado, riesgo, gestionado, centralmente, descentralizacion, reduce, mancomunacion, riesgos, podria, dar, lugar, mayores, disparidades, sanitarias, interregionales]</td>\n",
       "    </tr>\n",
       "    <tr>\n",
       "      <th>4</th>\n",
       "      <td>El consumo anual de alcohol se estima en 15,7 litros al año para los hombres, más de un 50% por encima de la media de la OCDE (10,4) (Sistema mundial de información sobre alcohol y salud de la OMS), lo que puede ayudar a explicar la alta mortalidad por enfermedad hepática relacionada con el alcohol. Si bien la prevalencia de la obesidad en adultos es relativamente baja en comparación con muchos países de la OCDE, más del 30 % de las mujeres en Kazajstán son obesas, en comparación con el 16 % de los hombres (World Obesity, 2016), lo que coloca la tasa entre las mujeres a la par con algunos de los países más obesos de la OCDE. De hecho, una gran proporción de la brecha en la esperanza de vida se explica por una mayor mortalidad entre los jóvenes kazajos de 15 a 29 años, un grupo de edad en el que las tasas generales de mortalidad son más de tres veces más altas que en la UE de los 15.</td>\n",
       "      <td>3</td>\n",
       "      <td>[consumo, anual, alcohol, estima, 157, litros, ano, hombres, mas, fifty, encima, media, ocde, 104, sistema, mundial, informacion, alcohol, salud, oms, puede, ayudar, explicar, alta, mortalidad, enfermedad, hepatica, relacionada, alcohol, si, bien, prevalencia, obesidad, adultos, relativamente, baja, comparacion, paises, ocde, mas, thirty, mujeres, kazajstan, obesas, comparacion, sixteen, hombres, world, obesity, two thousand and sixteen, coloca, tasa, mujeres, par, paises, mas, obesos, ocde, hecho, gran, proporcion, brecha, esperanza, vida, explica, mayor, mortalidad, jovenes, kazajos, fifteen, twentynine, anos, grupo, edad, tasas, generales, mortalidad, mas, tres, veces, mas, altas, ue, fifteen]</td>\n",
       "    </tr>\n",
       "  </tbody>\n",
       "</table>\n",
       "</div>"
      ],
      "text/plain": [
       "                                                                                                                                                                                                                                                                                                                                                                                                                                                                                                                                                                                                                                                                                                                                                                                                                                                                                                                                                                                                                                                                                                                                                                                                                                            Textos_espanol  \\\n",
       "0                                                                                                                                                                                                                                                                                  Por ejemplo, el número de consultas externas de especialistas es de 319 por cada mil derechohabientes en el SP, en comparación con 338 y 620 por cada mil derechohabientes en el IMSS y el ISSSTE, respectivamente. Si bien algunas de estas diferencias pueden reflejar una necesidad desigual (como la población ligeramente mayor del ISSSTE), otras no pueden justificarse de esta manera. El número de recetas que no pudieron ser surtidas en su totalidad por un farmacéutico debido a la falta de existencias es de 33% dentro del SP en comparación con 14% dentro del IMSS según los datos de la encuesta (aunque las propias cifras de los institutos de la SS sugieren tasas más altas de recetas surtidas). Ambas cifras se encuentran entre las más altas de la OCDE. El gasto de bolsillo no se ha reducido significativamente en la última década, a pesar de los esfuerzos para lograr la cobertura sanitaria universal a través de la reforma del SP.   \n",
       "1                                                                                                                                                                                                                                                                                                                                                                                                                                                                                                                                                                                                                                                                                                                                                             En 2007, el gobierno central financió directamente solo el 0,3% del gasto total en salud, pero realizó transferencias específicas para el gasto en salud que ascendieron a otro 5,6% del gasto total. La mayor parte del gasto presupuestario en salud lo realizan los gobiernos de los condados. Por lo tanto, los condados pobres solo pueden ofrecer un bajo nivel de atención a la población local. El gobierno provincial proporciona subsidios del lado de la oferta a los hospitales.   \n",
       "2  Claramente, hay muchos otros factores en juego, en particular, una variedad de barreras y determinantes sociales. Estos pueden estar relacionados con el género, la clase, la etnia, la casta, el idioma y la religión, y surgen de estructuras, normas y procesos sociales arraigados que aceptan e incluso fomentan distribuciones injustas de la riqueza y los recursos sociales. Por ejemplo, las personas que viven con el VIH y algunas otras enfermedades crónicas enfrentan altos niveles de estigma y discriminación que dificultan su acceso a pruebas médicas, tratamiento, atención y apoyo. Por lo tanto, los gobiernos que buscan mejorar los estándares de salud querrán mejorar la condición de la mujer, brindar servicios de salud reproductiva efectivos, implementar programas integrales de lactancia materna en línea con las recomendaciones actuales y aumentar las presiones comunitarias contra el aborto selectivo por sexo. Las personas pobres, que carecen de educación e información, o de fondos para opciones más saludables, son más vulnerables al impacto de las ENT que los ricos y es probable que mueran antes. Directa e indirectamente, las ENT tendrán impactos de gran alcance en el progreso hacia los ODM.   \n",
       "3                                                                                                                       Por ejemplo, el estado australiano de Victoria creó una agencia de promoción de la salud financiada con los impuestos sobre el tabaco, y varios estados de EE.UU. (California, Massachusetts, Arizona y Oregón) han destinado parte de los ingresos procedentes de los impuestos especiales sobre el tabaco a actividades de educación y control del tabaco, mientras que en Nueva Jersey, Ohio y Texas los ingresos procedentes del alcohol se utilizan para programas de educación y prevención relacionados con el alcohol (Sassi et al., 2004), Los impuestos locales pueden ser una fuente importante de ingresos, sobre todo en los sistemas sanitarios descentralizados (por ejemplo, Dinamarca, Finlandia, Italia y Suecia)17 . Además, el nivel de los impuestos locales puede fijarse en función de las preferencias locales sobre el nivel y la calidad de los servicios médicos. Sin embargo, en ausencia de un mecanismo de transferencia ajustado al riesgo y gestionado centralmente, la descentralización reduce la mancomunación de riesgos y podría dar lugar a mayores disparidades sanitarias interregionales.   \n",
       "4                                                                                                                                                                                                                                                                                                                          El consumo anual de alcohol se estima en 15,7 litros al año para los hombres, más de un 50% por encima de la media de la OCDE (10,4) (Sistema mundial de información sobre alcohol y salud de la OMS), lo que puede ayudar a explicar la alta mortalidad por enfermedad hepática relacionada con el alcohol. Si bien la prevalencia de la obesidad en adultos es relativamente baja en comparación con muchos países de la OCDE, más del 30 % de las mujeres en Kazajstán son obesas, en comparación con el 16 % de los hombres (World Obesity, 2016), lo que coloca la tasa entre las mujeres a la par con algunos de los países más obesos de la OCDE. De hecho, una gran proporción de la brecha en la esperanza de vida se explica por una mayor mortalidad entre los jóvenes kazajos de 15 a 29 años, un grupo de edad en el que las tasas generales de mortalidad son más de tres veces más altas que en la UE de los 15.   \n",
       "\n",
       "   sdg  \\\n",
       "0    3   \n",
       "1    3   \n",
       "2    3   \n",
       "3    3   \n",
       "4    3   \n",
       "\n",
       "                                                                                                                                                                                                                                                                                                                                                                                                                                                                                                                                                                                                                                                                                                                                                                                                                                                                                                                                                                                                                   words  \n",
       "0                                                                                                                                                        [ejemplo, numero, consultas, externas, especialistas, three hundred and nineteen, cada, mil, derechohabientes, sp, comparacion, three hundred and thirtyeight, six hundred and twenty, cada, mil, derechohabientes, imss, issste, respectivamente, si, bien, diferencias, pueden, reflejar, necesidad, desigual, poblacion, ligeramente, mayor, issste, pueden, justificarse, manera, numero, recetas, pudieron, ser, surtidas, totalidad, farmaceutico, debido, falta, existencias, thirtythree, dentro, sp, comparacion, fourteen, dentro, imss, segun, datos, encuesta, aunque, propias, cifras, institutos, ss, sugieren, tasas, mas, altas, recetas, surtidas, ambas, cifras, encuentran, mas, altas, ocde, gasto, bolsillo, reducido, significativamente, ultima, decada, pesar, esfuerzos, lograr, cobertura, sanitaria, universal, traves, reforma, sp]  \n",
       "1                                                                                                                                                                                                                                                                                                                                                                                                                                                                                                                                                                                             [two thousand and seven, gobierno, central, financio, directamente, solo, 03, gasto, total, salud, realizo, transferencias, especificas, gasto, salud, ascendieron, 56, gasto, total, mayor, parte, gasto, presupuestario, salud, realizan, gobiernos, condados, condados, pobres, solo, pueden, ofrecer, bajo, nivel, atencion, poblacion, local, gobierno, provincial, proporciona, subsidios, lado, oferta, hospitales]  \n",
       "2  [claramente, factores, juego, particular, variedad, barreras, determinantes, sociales, pueden, relacionados, genero, clase, etnia, casta, idioma, religion, surgen, estructuras, normas, procesos, sociales, arraigados, aceptan, incluso, fomentan, distribuciones, injustas, riqueza, recursos, sociales, ejemplo, personas, viven, vih, enfermedades, cronicas, enfrentan, altos, niveles, estigma, discriminacion, dificultan, acceso, pruebas, medicas, tratamiento, atencion, apoyo, gobiernos, buscan, mejorar, estandares, salud, querran, mejorar, condicion, mujer, brindar, servicios, salud, reproductiva, efectivos, implementar, programas, integrales, lactancia, materna, linea, recomendaciones, actuales, aumentar, presiones, comunitarias, aborto, selectivo, sexo, personas, pobres, carecen, educacion, informacion, fondos, opciones, mas, saludables, mas, vulnerables, impacto, ent, ricos, probable, mueran, directa, indirectamente, ent, tendran, impactos, gran, alcance, progreso, ...]  \n",
       "3                                                     [ejemplo, australiano, victoria, creo, agencia, promocion, salud, financiada, impuestos, tabaco, varios, eeuu, california, massachusetts, arizona, oregon, destinado, parte, ingresos, procedentes, impuestos, especiales, tabaco, actividades, educacion, control, tabaco, mientras, nueva, jersey, ohio, texas, ingresos, procedentes, alcohol, utilizan, programas, educacion, prevencion, relacionados, alcohol, sassi, et, two thousand and four, impuestos, locales, pueden, ser, fuente, importante, ingresos, sistemas, sanitarios, descentralizados, ejemplo, dinamarca, finlandia, italia, suecia, seventeen, ademas, nivel, impuestos, locales, puede, fijarse, funcion, preferencias, locales, nivel, calidad, servicios, medicos, embargo, ausencia, mecanismo, transferencia, ajustado, riesgo, gestionado, centralmente, descentralizacion, reduce, mancomunacion, riesgos, podria, dar, lugar, mayores, disparidades, sanitarias, interregionales]  \n",
       "4                                                                                                                                                                                                                                                                                      [consumo, anual, alcohol, estima, 157, litros, ano, hombres, mas, fifty, encima, media, ocde, 104, sistema, mundial, informacion, alcohol, salud, oms, puede, ayudar, explicar, alta, mortalidad, enfermedad, hepatica, relacionada, alcohol, si, bien, prevalencia, obesidad, adultos, relativamente, baja, comparacion, paises, ocde, mas, thirty, mujeres, kazajstan, obesas, comparacion, sixteen, hombres, world, obesity, two thousand and sixteen, coloca, tasa, mujeres, par, paises, mas, obesos, ocde, hecho, gran, proporcion, brecha, esperanza, vida, explica, mayor, mortalidad, jovenes, kazajos, fifteen, twentynine, anos, grupo, edad, tasas, generales, mortalidad, mas, tres, veces, mas, altas, ue, fifteen]  "
      ]
     },
     "execution_count": 1068,
     "metadata": {},
     "output_type": "execute_result"
    }
   ],
   "source": [
    "data_t['words'] = data_t['Textos_espanol'].apply(word_tokenize).apply(preprocessing) #Aplica la eliminación del ruido\n",
    "data_t.head()"
   ]
  },
  {
   "cell_type": "code",
   "execution_count": 1069,
   "metadata": {},
   "outputs": [
    {
     "data": {
      "text/html": [
       "<div>\n",
       "<style scoped>\n",
       "    .dataframe tbody tr th:only-of-type {\n",
       "        vertical-align: middle;\n",
       "    }\n",
       "\n",
       "    .dataframe tbody tr th {\n",
       "        vertical-align: top;\n",
       "    }\n",
       "\n",
       "    .dataframe thead th {\n",
       "        text-align: right;\n",
       "    }\n",
       "</style>\n",
       "<table border=\"1\" class=\"dataframe\">\n",
       "  <thead>\n",
       "    <tr style=\"text-align: right;\">\n",
       "      <th></th>\n",
       "      <th>Textos_espanol</th>\n",
       "      <th>sdg</th>\n",
       "      <th>words</th>\n",
       "    </tr>\n",
       "  </thead>\n",
       "  <tbody>\n",
       "    <tr>\n",
       "      <th>0</th>\n",
       "      <td>Se basa en los nueve años de educación básica (seis de primaria y tres de secundaria). Los alumnos que acceden al segundo ciclo de secundaria pueden ir a un centro de orientación más académica o a un centro de formación profesional. Esto se aplica tanto en el sistema islámico como en el no islámico. La enseñanza secundaria superior formal comprende la enseñanza general (sekolah menengah atas, o SMA), la enseñanza profesional (sekolah menengah kejuruan, o SMK), las escuelas secundarias superiores islámicas (madrasah aliyah, o MA) y la enseñanza profesional islámica (madrasah aliyah kejuruan, o MAK). Este capítulo se centra principalmente en la enseñanza secundaria superior académica, mientras que el capítulo 5 trata de la formación profesional. Se está trabajando en el desarrollo de colegios comunitarios y vías alternativas de acceso a la enseñanza superior.</td>\n",
       "      <td>NaN</td>\n",
       "      <td>[basa, nueve, anos, educacion, basica, seis, primaria, tres, secundaria, alumnos, acceden, segundo, ciclo, secundaria, pueden, ir, centro, orientacion, mas, academica, centro, formacion, profesional, aplica, sistema, islamico, islamico, ensenanza, secundaria, superior, formal, comprende, ensenanza, general, sekolah, menengah, atas, sma, ensenanza, profesional, sekolah, menengah, kejuruan, smk, escuelas, secundarias, superiores, islamicas, madrasah, aliyah, ma, ensenanza, profesional, islamica, madrasah, aliyah, kejuruan, mak, capitulo, centra, principalmente, ensenanza, secundaria, superior, academica, mientras, capitulo, five, trata, formacion, profesional, trabajando, desarrollo, colegios, comunitarios, vias, alternativas, acceso, ensenanza, superior]</td>\n",
       "    </tr>\n",
       "    <tr>\n",
       "      <th>1</th>\n",
       "      <td>En la última década, y en particular desde 2010, el número de altas per cápita ha tendido a disminuir, y ahora está en línea con la media de la OCDE mencionada anteriormente. Por ejemplo, los habitantes de zonas rurales representan el 43% de la población, pero sólo el 32% de las altas hospitalarias. A falta de información complementaria, no es posible determinar si esta diferencia indica o no disparidades en el acceso de las poblaciones rurales y, en caso afirmativo, si las causas son geográficas, culturales o infraestructurales. No parece que se recojan datos sobre el acceso a la atención desde el punto de vista del paciente, lo que ayudaría a comprender la naturaleza de los obstáculos al acceso (y las soluciones). En general, no es posible determinar con los datos disponibles si los ingresos o las características socioeconómicas de los pacientes influyen a la hora de llegar a las puertas del hospital o de ser ingresado. El acceso desigual probablemente se deba también a la incapacidad de los centros de las distintas regiones para prestar los mismos servicios.</td>\n",
       "      <td>NaN</td>\n",
       "      <td>[ultima, decada, particular, two thousand and ten, numero, altas, per, capita, tendido, disminuir, ahora, linea, media, ocde, mencionada, anteriormente, ejemplo, habitantes, zonas, rurales, representan, fortythree, poblacion, solo, thirtytwo, altas, hospitalarias, falta, informacion, complementaria, posible, determinar, si, diferencia, indica, disparidades, acceso, poblaciones, rurales, caso, afirmativo, si, causas, geograficas, culturales, infraestructurales, parece, recojan, datos, acceso, atencion, punto, vista, paciente, ayudaria, comprender, naturaleza, obstaculos, acceso, soluciones, general, posible, determinar, datos, disponibles, si, ingresos, caracteristicas, socioeconomicas, pacientes, influyen, hora, llegar, puertas, hospital, ser, ingresado, acceso, desigual, probablemente, deba, tambien, incapacidad, centros, distintas, regiones, prestar, mismos, servicios]</td>\n",
       "    </tr>\n",
       "    <tr>\n",
       "      <th>2</th>\n",
       "      <td>AsÃ, por ejemplo, el estigma asociado a los beneficiarios de prestaciones sociales o a los pobres aumenta su desventaja. Del mismo modo, los errores de dignidad y reconocimiento pueden causar desventajas.54 La infravaloración del trabajo de las mujeres es un error de reconocimiento que causa directamente desventajas socioeconómicas, por lo que el derecho a la igualdad de retribución por un trabajo de igual valor es una sÃntesis importante de las dos primeras dimensiones del derecho a la igualdad: reparar la desventaja y abordar el estigma y los estereotipos. Tanto el Comité de Derechos Económicos, Sociales y Culturales como el Comité para la Eliminación de la Discriminación contra la Mujer han dado este paso. Directrices para la presentación de informes\", párrafo 29, CDESC, Ecuador, op. cit.</td>\n",
       "      <td>NaN</td>\n",
       "      <td>[asa, ejemplo, estigma, asociado, beneficiarios, prestaciones, sociales, pobres, aumenta, desventaja, mismo, modo, errores, dignidad, reconocimiento, pueden, causar, desventajas54, infravaloracion, trabajo, mujeres, error, reconocimiento, causa, directamente, desventajas, socioeconomicas, derecho, igualdad, retribucion, trabajo, igual, valor, santesis, importante, dos, primeras, dimensiones, derecho, igualdad, reparar, desventaja, abordar, estigma, estereotipos, comite, derechos, economicos, sociales, culturales, comite, eliminacion, discriminacion, mujer, dado, paso, directrices, presentacion, informes, parrafo, twentynine, cdesc, ecuador, op, cit]</td>\n",
       "    </tr>\n",
       "    <tr>\n",
       "      <th>3</th>\n",
       "      <td>Hay muchos profesores no cualificados en las escuelas, ya que es difícil contratar a profesores cualificados. Un indicio del reconocimiento del importante papel de los profesores en este contexto es la inclusión por Alberta de preguntas adicionales en la Encuesta Internacional sobre la Enseñanza y el Aprendizaje de la OCDE de 2018 relativas a la comprensión por parte de los profesores y los lÃderes escolares de cuestiones relacionadas con las culturas indÃgenas, la historia y el trabajo con alumnos indÃgenas, asà como sobre el desarrollo profesional pertinente. El enfoque holÃstico de los pueblos indÃgenas hace hincapié en lo mucho que estos contribuyen al bienestar general de los niños, asà como al de todos los demás, además de factores como las ventajas y desventajas materiales. El trauma sufrido por los pueblos indígenas, incluso a través del sistema de escuelas residenciales, todavía es sentido agudamente por muchos. De hecho, se nos dijo que los síntomas del trauma pueden aumentar en lugar de disminuir con el paso del tiempo, exacerbados por las relaciones intergeneracionales. Frente a este panorama más amplio, pueden comprenderse mejor los estudios específicos de determinadas provincias y territorios, y la comparación entre jóvenes indígenas y no indígenas (Freeman, King y Pickett, 2016).</td>\n",
       "      <td>NaN</td>\n",
       "      <td>[profesores, cualificados, escuelas, dificil, contratar, profesores, cualificados, indicio, reconocimiento, importante, papel, profesores, contexto, inclusion, alberta, preguntas, adicionales, encuesta, internacional, ensenanza, aprendizaje, ocde, two thousand and eighteen, relativas, comprension, parte, profesores, laderes, escolares, cuestiones, relacionadas, culturas, indagenas, historia, trabajo, alumnos, indagenas, asa, desarrollo, profesional, pertinente, enfoque, holastico, pueblos, indagenas, hace, hincapie, contribuyen, bienestar, general, ninos, asa, demas, ademas, factores, ventajas, desventajas, materiales, trauma, sufrido, pueblos, indigenas, incluso, traves, sistema, escuelas, residenciales, todavia, agudamente, hecho, dijo, sintomas, trauma, pueden, aumentar, lugar, disminuir, paso, tiempo, exacerbados, relaciones, intergeneracionales, frente, panorama, mas, amplio, pueden, comprenderse, mejor, estudios, especificos, determinadas, provincias, territorios, comparacion, jovenes, indigenas, indigenas, freeman, king, ...]</td>\n",
       "    </tr>\n",
       "    <tr>\n",
       "      <th>4</th>\n",
       "      <td>A raíz de su preocupación por el hecho de que los médicos de todo el sistema sanitario japonés no fueran capaces de identificar los signos de sufrimiento psicológico que podrían ayudar a reducir los suicidios, la Asociación Médica Japonesa informa de que empezó a compartir información y orientaciones sobre la depresión con todos los médicos, primero en 2004 y luego de nuevo en 2009. En la actualidad, sólo se recogen indicadores sobre la tasa de reclusión y contención, y de ingresos involuntarios, por parte de los proveedores y a nivel prefectural. La información recopilada sistemáticamente sobre el sistema de atención de salud mental se limita a indicadores estructurales: instalaciones, número de personal, número de camas.</td>\n",
       "      <td>NaN</td>\n",
       "      <td>[raiz, preocupacion, hecho, medicos, sistema, sanitario, japones, capaces, identificar, signos, sufrimiento, psicologico, podrian, ayudar, reducir, suicidios, asociacion, medica, japonesa, informa, empezo, compartir, informacion, orientaciones, depresion, medicos, primero, two thousand and four, luego, nuevo, two thousand and nine, actualidad, solo, recogen, indicadores, tasa, reclusion, contencion, ingresos, involuntarios, parte, proveedores, nivel, prefectural, informacion, recopilada, sistematicamente, sistema, atencion, salud, mental, limita, indicadores, estructurales, instalaciones, numero, personal, numero, camas]</td>\n",
       "    </tr>\n",
       "  </tbody>\n",
       "</table>\n",
       "</div>"
      ],
      "text/plain": [
       "                                                                                                                                                                                                                                                                                                                                                                                                                                                                                                                                                                                                                                                                                                                                                                                                                                                                                                                                                                                                                                                                                                                                                                                                                                                                                                                                                         Textos_espanol  \\\n",
       "0                                                                                                                                                                                                                                                                                                                                                                                                                                                                Se basa en los nueve años de educación básica (seis de primaria y tres de secundaria). Los alumnos que acceden al segundo ciclo de secundaria pueden ir a un centro de orientación más académica o a un centro de formación profesional. Esto se aplica tanto en el sistema islámico como en el no islámico. La enseñanza secundaria superior formal comprende la enseñanza general (sekolah menengah atas, o SMA), la enseñanza profesional (sekolah menengah kejuruan, o SMK), las escuelas secundarias superiores islámicas (madrasah aliyah, o MA) y la enseñanza profesional islámica (madrasah aliyah kejuruan, o MAK). Este capítulo se centra principalmente en la enseñanza secundaria superior académica, mientras que el capítulo 5 trata de la formación profesional. Se está trabajando en el desarrollo de colegios comunitarios y vías alternativas de acceso a la enseñanza superior.    \n",
       "1                                                                                                                                                                                                                                                En la última década, y en particular desde 2010, el número de altas per cápita ha tendido a disminuir, y ahora está en línea con la media de la OCDE mencionada anteriormente. Por ejemplo, los habitantes de zonas rurales representan el 43% de la población, pero sólo el 32% de las altas hospitalarias. A falta de información complementaria, no es posible determinar si esta diferencia indica o no disparidades en el acceso de las poblaciones rurales y, en caso afirmativo, si las causas son geográficas, culturales o infraestructurales. No parece que se recojan datos sobre el acceso a la atención desde el punto de vista del paciente, lo que ayudaría a comprender la naturaleza de los obstáculos al acceso (y las soluciones). En general, no es posible determinar con los datos disponibles si los ingresos o las características socioeconómicas de los pacientes influyen a la hora de llegar a las puertas del hospital o de ser ingresado. El acceso desigual probablemente se deba también a la incapacidad de los centros de las distintas regiones para prestar los mismos servicios.    \n",
       "2                                                                                                                                                                                                                                                                                                                                                                                                                                                                                                                                   AsÃ, por ejemplo, el estigma asociado a los beneficiarios de prestaciones sociales o a los pobres aumenta su desventaja. Del mismo modo, los errores de dignidad y reconocimiento pueden causar desventajas.54 La infravaloración del trabajo de las mujeres es un error de reconocimiento que causa directamente desventajas socioeconómicas, por lo que el derecho a la igualdad de retribución por un trabajo de igual valor es una sÃntesis importante de las dos primeras dimensiones del derecho a la igualdad: reparar la desventaja y abordar el estigma y los estereotipos. Tanto el Comité de Derechos Económicos, Sociales y Culturales como el Comité para la Eliminación de la Discriminación contra la Mujer han dado este paso. Directrices para la presentación de informes\", párrafo 29, CDESC, Ecuador, op. cit.    \n",
       "3  Hay muchos profesores no cualificados en las escuelas, ya que es difícil contratar a profesores cualificados. Un indicio del reconocimiento del importante papel de los profesores en este contexto es la inclusión por Alberta de preguntas adicionales en la Encuesta Internacional sobre la Enseñanza y el Aprendizaje de la OCDE de 2018 relativas a la comprensión por parte de los profesores y los lÃderes escolares de cuestiones relacionadas con las culturas indÃgenas, la historia y el trabajo con alumnos indÃgenas, asà como sobre el desarrollo profesional pertinente. El enfoque holÃstico de los pueblos indÃgenas hace hincapié en lo mucho que estos contribuyen al bienestar general de los niños, asà como al de todos los demás, además de factores como las ventajas y desventajas materiales. El trauma sufrido por los pueblos indígenas, incluso a través del sistema de escuelas residenciales, todavía es sentido agudamente por muchos. De hecho, se nos dijo que los síntomas del trauma pueden aumentar en lugar de disminuir con el paso del tiempo, exacerbados por las relaciones intergeneracionales. Frente a este panorama más amplio, pueden comprenderse mejor los estudios específicos de determinadas provincias y territorios, y la comparación entre jóvenes indígenas y no indígenas (Freeman, King y Pickett, 2016).    \n",
       "4                                                                                                                                                                                                                                                                                                                                                                                                                                                                                                                                                                                                         A raíz de su preocupación por el hecho de que los médicos de todo el sistema sanitario japonés no fueran capaces de identificar los signos de sufrimiento psicológico que podrían ayudar a reducir los suicidios, la Asociación Médica Japonesa informa de que empezó a compartir información y orientaciones sobre la depresión con todos los médicos, primero en 2004 y luego de nuevo en 2009. En la actualidad, sólo se recogen indicadores sobre la tasa de reclusión y contención, y de ingresos involuntarios, por parte de los proveedores y a nivel prefectural. La información recopilada sistemáticamente sobre el sistema de atención de salud mental se limita a indicadores estructurales: instalaciones, número de personal, número de camas.    \n",
       "\n",
       "   sdg  \\\n",
       "0  NaN   \n",
       "1  NaN   \n",
       "2  NaN   \n",
       "3  NaN   \n",
       "4  NaN   \n",
       "\n",
       "                                                                                                                                                                                                                                                                                                                                                                                                                                                                                                                                                                                                                                                                                                                                                                                                                                                                                                                                                                                                                                                                                      words  \n",
       "0                                                                                                                                                                                                                                                                                               [basa, nueve, anos, educacion, basica, seis, primaria, tres, secundaria, alumnos, acceden, segundo, ciclo, secundaria, pueden, ir, centro, orientacion, mas, academica, centro, formacion, profesional, aplica, sistema, islamico, islamico, ensenanza, secundaria, superior, formal, comprende, ensenanza, general, sekolah, menengah, atas, sma, ensenanza, profesional, sekolah, menengah, kejuruan, smk, escuelas, secundarias, superiores, islamicas, madrasah, aliyah, ma, ensenanza, profesional, islamica, madrasah, aliyah, kejuruan, mak, capitulo, centra, principalmente, ensenanza, secundaria, superior, academica, mientras, capitulo, five, trata, formacion, profesional, trabajando, desarrollo, colegios, comunitarios, vias, alternativas, acceso, ensenanza, superior]  \n",
       "1                                                                                                                                                                       [ultima, decada, particular, two thousand and ten, numero, altas, per, capita, tendido, disminuir, ahora, linea, media, ocde, mencionada, anteriormente, ejemplo, habitantes, zonas, rurales, representan, fortythree, poblacion, solo, thirtytwo, altas, hospitalarias, falta, informacion, complementaria, posible, determinar, si, diferencia, indica, disparidades, acceso, poblaciones, rurales, caso, afirmativo, si, causas, geograficas, culturales, infraestructurales, parece, recojan, datos, acceso, atencion, punto, vista, paciente, ayudaria, comprender, naturaleza, obstaculos, acceso, soluciones, general, posible, determinar, datos, disponibles, si, ingresos, caracteristicas, socioeconomicas, pacientes, influyen, hora, llegar, puertas, hospital, ser, ingresado, acceso, desigual, probablemente, deba, tambien, incapacidad, centros, distintas, regiones, prestar, mismos, servicios]  \n",
       "2                                                                                                                                                                                                                                                                                                                                                                                                         [asa, ejemplo, estigma, asociado, beneficiarios, prestaciones, sociales, pobres, aumenta, desventaja, mismo, modo, errores, dignidad, reconocimiento, pueden, causar, desventajas54, infravaloracion, trabajo, mujeres, error, reconocimiento, causa, directamente, desventajas, socioeconomicas, derecho, igualdad, retribucion, trabajo, igual, valor, santesis, importante, dos, primeras, dimensiones, derecho, igualdad, reparar, desventaja, abordar, estigma, estereotipos, comite, derechos, economicos, sociales, culturales, comite, eliminacion, discriminacion, mujer, dado, paso, directrices, presentacion, informes, parrafo, twentynine, cdesc, ecuador, op, cit]  \n",
       "3  [profesores, cualificados, escuelas, dificil, contratar, profesores, cualificados, indicio, reconocimiento, importante, papel, profesores, contexto, inclusion, alberta, preguntas, adicionales, encuesta, internacional, ensenanza, aprendizaje, ocde, two thousand and eighteen, relativas, comprension, parte, profesores, laderes, escolares, cuestiones, relacionadas, culturas, indagenas, historia, trabajo, alumnos, indagenas, asa, desarrollo, profesional, pertinente, enfoque, holastico, pueblos, indagenas, hace, hincapie, contribuyen, bienestar, general, ninos, asa, demas, ademas, factores, ventajas, desventajas, materiales, trauma, sufrido, pueblos, indigenas, incluso, traves, sistema, escuelas, residenciales, todavia, agudamente, hecho, dijo, sintomas, trauma, pueden, aumentar, lugar, disminuir, paso, tiempo, exacerbados, relaciones, intergeneracionales, frente, panorama, mas, amplio, pueden, comprenderse, mejor, estudios, especificos, determinadas, provincias, territorios, comparacion, jovenes, indigenas, indigenas, freeman, king, ...]  \n",
       "4                                                                                                                                                                                                                                                                                                                                                                                                                                      [raiz, preocupacion, hecho, medicos, sistema, sanitario, japones, capaces, identificar, signos, sufrimiento, psicologico, podrian, ayudar, reducir, suicidios, asociacion, medica, japonesa, informa, empezo, compartir, informacion, orientaciones, depresion, medicos, primero, two thousand and four, luego, nuevo, two thousand and nine, actualidad, solo, recogen, indicadores, tasa, reclusion, contencion, ingresos, involuntarios, parte, proveedores, nivel, prefectural, informacion, recopilada, sistematicamente, sistema, atencion, salud, mental, limita, indicadores, estructurales, instalaciones, numero, personal, numero, camas]  "
      ]
     },
     "execution_count": 1069,
     "metadata": {},
     "output_type": "execute_result"
    }
   ],
   "source": [
    "data_t_nuevo['words'] = data_t_nuevo['Textos_espanol'].apply(word_tokenize).apply(preprocessing) #Aplica la eliminación del ruido\n",
    "data_t_nuevo.head()"
   ]
  },
  {
   "cell_type": "markdown",
   "metadata": {},
   "source": [
    "### 2.5 Normalización de texto"
   ]
  },
  {
   "cell_type": "code",
   "execution_count": 1070,
   "metadata": {},
   "outputs": [],
   "source": [
    "# Crear instancias de los stemmers y lematizadores\n",
    "stemmer = LancasterStemmer()\n",
    "lemmatizer = WordNetLemmatizer()\n",
    "\n",
    "def stem_words(words):\n",
    "    \"\"\"Stem words in list of tokenized words\"\"\"\n",
    "    stems = [stemmer.stem(word) for word in words]\n",
    "    return stems\n",
    "\n",
    "def lemmatize_verbs(words):\n",
    "    \"\"\"Lemmatize verbs in list of tokenized words\"\"\"\n",
    "    lemmas = []\n",
    "    for word in words:\n",
    "        pos = get_wordnet_pos(word)\n",
    "        if pos:\n",
    "            lemma = lemmatizer.lemmatize(word, pos)\n",
    "            lemmas.append(lemma)\n",
    "        else:\n",
    "            lemmas.append(word)\n",
    "    return lemmas\n",
    "\n",
    "def stem_and_lemmatize(words):\n",
    "    stems = stem_words(words)\n",
    "    lemmas = lemmatize_verbs(stems)\n",
    "    return lemmas\n",
    "\n",
    "def get_wordnet_pos(word):\n",
    "    \"\"\"Map POS tag to first character accepted by WordNetLemmatizer\"\"\"\n",
    "    tag = nltk.pos_tag([word])[0][1][0].upper()\n",
    "    tag_dict = {\"J\": wordnet.ADJ,\n",
    "                \"N\": wordnet.NOUN,\n",
    "                \"V\": wordnet.VERB,\n",
    "                \"R\": wordnet.ADV}\n",
    "    return tag_dict.get(tag, wordnet.NOUN)\n"
   ]
  },
  {
   "cell_type": "code",
   "execution_count": 1071,
   "metadata": {},
   "outputs": [
    {
     "data": {
      "text/html": [
       "<div>\n",
       "<style scoped>\n",
       "    .dataframe tbody tr th:only-of-type {\n",
       "        vertical-align: middle;\n",
       "    }\n",
       "\n",
       "    .dataframe tbody tr th {\n",
       "        vertical-align: top;\n",
       "    }\n",
       "\n",
       "    .dataframe thead th {\n",
       "        text-align: right;\n",
       "    }\n",
       "</style>\n",
       "<table border=\"1\" class=\"dataframe\">\n",
       "  <thead>\n",
       "    <tr style=\"text-align: right;\">\n",
       "      <th></th>\n",
       "      <th>Textos_espanol</th>\n",
       "      <th>sdg</th>\n",
       "      <th>words</th>\n",
       "    </tr>\n",
       "  </thead>\n",
       "  <tbody>\n",
       "    <tr>\n",
       "      <th>0</th>\n",
       "      <td>Por ejemplo, el número de consultas externas de especialistas es de 319 por cada mil derechohabientes en el SP, en comparación con 338 y 620 por cada mil derechohabientes en el IMSS y el ISSSTE, respectivamente. Si bien algunas de estas diferencias pueden reflejar una necesidad desigual (como la población ligeramente mayor del ISSSTE), otras no pueden justificarse de esta manera. El número de recetas que no pudieron ser surtidas en su totalidad por un farmacéutico debido a la falta de existencias es de 33% dentro del SP en comparación con 14% dentro del IMSS según los datos de la encuesta (aunque las propias cifras de los institutos de la SS sugieren tasas más altas de recetas surtidas). Ambas cifras se encuentran entre las más altas de la OCDE. El gasto de bolsillo no se ha reducido significativamente en la última década, a pesar de los esfuerzos para lograr la cobertura sanitaria universal a través de la reforma del SP.</td>\n",
       "      <td>3</td>\n",
       "      <td>[ejemplo, numero, consultas, externas, especialistas, three hundred and nineteen, cada, mil, derechohabientes, sp, comparacion, three hundred and thirtyeight, six hundred and twenty, cada, mil, derechohabientes, imss, issste, respectivamente, si, bien, diferencias, pueden, reflejar, necesidad, desigual, poblacion, ligeramente, mayor, issste, pueden, justificarse, manera, numero, recetas, pudieron, ser, surtidas, totalidad, farmaceutico, debido, falta, existencias, thirtythree, dentro, sp, comparacion, fourteen, dentro, imss, segun, datos, encuesta, aunque, propias, cifras, institutos, ss, sugieren, tasas, mas, altas, recetas, surtidas, ambas, cifras, encuentran, mas, altas, ocde, gasto, bolsillo, reducido, significativamente, ultima, decada, pesar, esfuerzos, lograr, cobertura, sanitaria, universal, traves, reforma, sp]</td>\n",
       "    </tr>\n",
       "    <tr>\n",
       "      <th>1</th>\n",
       "      <td>En 2007, el gobierno central financió directamente solo el 0,3% del gasto total en salud, pero realizó transferencias específicas para el gasto en salud que ascendieron a otro 5,6% del gasto total. La mayor parte del gasto presupuestario en salud lo realizan los gobiernos de los condados. Por lo tanto, los condados pobres solo pueden ofrecer un bajo nivel de atención a la población local. El gobierno provincial proporciona subsidios del lado de la oferta a los hospitales.</td>\n",
       "      <td>3</td>\n",
       "      <td>[two thousand and seven, gobierno, central, financio, directamente, solo, 03, gasto, total, salud, realizo, transferencias, especificas, gasto, salud, ascendieron, 56, gasto, total, mayor, parte, gasto, presupuestario, salud, realizan, gobiernos, condados, condados, pobres, solo, pueden, ofrecer, bajo, nivel, atencion, poblacion, local, gobierno, provincial, proporciona, subsidios, lado, oferta, hospitales]</td>\n",
       "    </tr>\n",
       "    <tr>\n",
       "      <th>2</th>\n",
       "      <td>Claramente, hay muchos otros factores en juego, en particular, una variedad de barreras y determinantes sociales. Estos pueden estar relacionados con el género, la clase, la etnia, la casta, el idioma y la religión, y surgen de estructuras, normas y procesos sociales arraigados que aceptan e incluso fomentan distribuciones injustas de la riqueza y los recursos sociales. Por ejemplo, las personas que viven con el VIH y algunas otras enfermedades crónicas enfrentan altos niveles de estigma y discriminación que dificultan su acceso a pruebas médicas, tratamiento, atención y apoyo. Por lo tanto, los gobiernos que buscan mejorar los estándares de salud querrán mejorar la condición de la mujer, brindar servicios de salud reproductiva efectivos, implementar programas integrales de lactancia materna en línea con las recomendaciones actuales y aumentar las presiones comunitarias contra el aborto selectivo por sexo. Las personas pobres, que carecen de educación e información, o de fondos para opciones más saludables, son más vulnerables al impacto de las ENT que los ricos y es probable que mueran antes. Directa e indirectamente, las ENT tendrán impactos de gran alcance en el progreso hacia los ODM.</td>\n",
       "      <td>3</td>\n",
       "      <td>[claramente, factores, juego, particular, variedad, barreras, determinantes, sociales, pueden, relacionados, genero, clase, etnia, casta, idioma, religion, surgen, estructuras, normas, procesos, sociales, arraigados, aceptan, incluso, fomentan, distribuciones, injustas, riqueza, recursos, sociales, ejemplo, personas, viven, vih, enfermedades, cronicas, enfrentan, altos, niveles, estigma, discriminacion, dificultan, acceso, pruebas, medicas, tratamiento, atencion, apoyo, gobiernos, buscan, mejorar, estandares, salud, querran, mejorar, condicion, mujer, brindar, servicios, salud, reproductiva, efectivos, implementar, programas, integrales, lactancia, materna, linea, recomendaciones, actuales, aumentar, presiones, comunitarias, aborto, selectivo, sexo, personas, pobres, carecen, educacion, informacion, fondos, opciones, mas, saludables, mas, vulnerables, impacto, ent, ricos, probable, mueran, directa, indirectamente, ent, tendran, impactos, gran, alcance, progreso, ...]</td>\n",
       "    </tr>\n",
       "    <tr>\n",
       "      <th>3</th>\n",
       "      <td>Por ejemplo, el estado australiano de Victoria creó una agencia de promoción de la salud financiada con los impuestos sobre el tabaco, y varios estados de EE.UU. (California, Massachusetts, Arizona y Oregón) han destinado parte de los ingresos procedentes de los impuestos especiales sobre el tabaco a actividades de educación y control del tabaco, mientras que en Nueva Jersey, Ohio y Texas los ingresos procedentes del alcohol se utilizan para programas de educación y prevención relacionados con el alcohol (Sassi et al., 2004), Los impuestos locales pueden ser una fuente importante de ingresos, sobre todo en los sistemas sanitarios descentralizados (por ejemplo, Dinamarca, Finlandia, Italia y Suecia)17 . Además, el nivel de los impuestos locales puede fijarse en función de las preferencias locales sobre el nivel y la calidad de los servicios médicos. Sin embargo, en ausencia de un mecanismo de transferencia ajustado al riesgo y gestionado centralmente, la descentralización reduce la mancomunación de riesgos y podría dar lugar a mayores disparidades sanitarias interregionales.</td>\n",
       "      <td>3</td>\n",
       "      <td>[ejemplo, australiano, victoria, creo, agencia, promocion, salud, financiada, impuestos, tabaco, varios, eeuu, california, massachusetts, arizona, oregon, destinado, parte, ingresos, procedentes, impuestos, especiales, tabaco, actividades, educacion, control, tabaco, mientras, nueva, jersey, ohio, texas, ingresos, procedentes, alcohol, utilizan, programas, educacion, prevencion, relacionados, alcohol, sassi, et, two thousand and four, impuestos, locales, pueden, ser, fuente, importante, ingresos, sistemas, sanitarios, descentralizados, ejemplo, dinamarca, finlandia, italia, suecia, seventeen, ademas, nivel, impuestos, locales, puede, fijarse, funcion, preferencias, locales, nivel, calidad, servicios, medicos, embargo, ausencia, mecanismo, transferencia, ajustado, riesgo, gestionado, centralmente, descentralizacion, reduce, mancomunacion, riesgos, podria, dar, lugar, mayores, disparidades, sanitarias, interregionales]</td>\n",
       "    </tr>\n",
       "    <tr>\n",
       "      <th>4</th>\n",
       "      <td>El consumo anual de alcohol se estima en 15,7 litros al año para los hombres, más de un 50% por encima de la media de la OCDE (10,4) (Sistema mundial de información sobre alcohol y salud de la OMS), lo que puede ayudar a explicar la alta mortalidad por enfermedad hepática relacionada con el alcohol. Si bien la prevalencia de la obesidad en adultos es relativamente baja en comparación con muchos países de la OCDE, más del 30 % de las mujeres en Kazajstán son obesas, en comparación con el 16 % de los hombres (World Obesity, 2016), lo que coloca la tasa entre las mujeres a la par con algunos de los países más obesos de la OCDE. De hecho, una gran proporción de la brecha en la esperanza de vida se explica por una mayor mortalidad entre los jóvenes kazajos de 15 a 29 años, un grupo de edad en el que las tasas generales de mortalidad son más de tres veces más altas que en la UE de los 15.</td>\n",
       "      <td>3</td>\n",
       "      <td>[consumo, anual, alcohol, estima, 157, litros, ano, hombres, mas, fifty, encima, media, ocde, 104, sistema, mundial, informacion, alcohol, salud, oms, puede, ayudar, explicar, alta, mortalidad, enfermedad, hepatica, relacionada, alcohol, si, bien, prevalencia, obesidad, adultos, relativamente, baja, comparacion, paises, ocde, mas, thirty, mujeres, kazajstan, obesas, comparacion, sixteen, hombres, world, obesity, two thousand and sixteen, coloca, tasa, mujeres, par, paises, mas, obesos, ocde, hecho, gran, proporcion, brecha, esperanza, vida, explica, mayor, mortalidad, jovenes, kazajos, fifteen, twentynine, anos, grupo, edad, tasas, generales, mortalidad, mas, tres, veces, mas, altas, ue, fifteen]</td>\n",
       "    </tr>\n",
       "  </tbody>\n",
       "</table>\n",
       "</div>"
      ],
      "text/plain": [
       "                                                                                                                                                                                                                                                                                                                                                                                                                                                                                                                                                                                                                                                                                                                                                                                                                                                                                                                                                                                                                                                                                                                                                                                                                                            Textos_espanol  \\\n",
       "0                                                                                                                                                                                                                                                                                  Por ejemplo, el número de consultas externas de especialistas es de 319 por cada mil derechohabientes en el SP, en comparación con 338 y 620 por cada mil derechohabientes en el IMSS y el ISSSTE, respectivamente. Si bien algunas de estas diferencias pueden reflejar una necesidad desigual (como la población ligeramente mayor del ISSSTE), otras no pueden justificarse de esta manera. El número de recetas que no pudieron ser surtidas en su totalidad por un farmacéutico debido a la falta de existencias es de 33% dentro del SP en comparación con 14% dentro del IMSS según los datos de la encuesta (aunque las propias cifras de los institutos de la SS sugieren tasas más altas de recetas surtidas). Ambas cifras se encuentran entre las más altas de la OCDE. El gasto de bolsillo no se ha reducido significativamente en la última década, a pesar de los esfuerzos para lograr la cobertura sanitaria universal a través de la reforma del SP.   \n",
       "1                                                                                                                                                                                                                                                                                                                                                                                                                                                                                                                                                                                                                                                                                                                                                             En 2007, el gobierno central financió directamente solo el 0,3% del gasto total en salud, pero realizó transferencias específicas para el gasto en salud que ascendieron a otro 5,6% del gasto total. La mayor parte del gasto presupuestario en salud lo realizan los gobiernos de los condados. Por lo tanto, los condados pobres solo pueden ofrecer un bajo nivel de atención a la población local. El gobierno provincial proporciona subsidios del lado de la oferta a los hospitales.   \n",
       "2  Claramente, hay muchos otros factores en juego, en particular, una variedad de barreras y determinantes sociales. Estos pueden estar relacionados con el género, la clase, la etnia, la casta, el idioma y la religión, y surgen de estructuras, normas y procesos sociales arraigados que aceptan e incluso fomentan distribuciones injustas de la riqueza y los recursos sociales. Por ejemplo, las personas que viven con el VIH y algunas otras enfermedades crónicas enfrentan altos niveles de estigma y discriminación que dificultan su acceso a pruebas médicas, tratamiento, atención y apoyo. Por lo tanto, los gobiernos que buscan mejorar los estándares de salud querrán mejorar la condición de la mujer, brindar servicios de salud reproductiva efectivos, implementar programas integrales de lactancia materna en línea con las recomendaciones actuales y aumentar las presiones comunitarias contra el aborto selectivo por sexo. Las personas pobres, que carecen de educación e información, o de fondos para opciones más saludables, son más vulnerables al impacto de las ENT que los ricos y es probable que mueran antes. Directa e indirectamente, las ENT tendrán impactos de gran alcance en el progreso hacia los ODM.   \n",
       "3                                                                                                                       Por ejemplo, el estado australiano de Victoria creó una agencia de promoción de la salud financiada con los impuestos sobre el tabaco, y varios estados de EE.UU. (California, Massachusetts, Arizona y Oregón) han destinado parte de los ingresos procedentes de los impuestos especiales sobre el tabaco a actividades de educación y control del tabaco, mientras que en Nueva Jersey, Ohio y Texas los ingresos procedentes del alcohol se utilizan para programas de educación y prevención relacionados con el alcohol (Sassi et al., 2004), Los impuestos locales pueden ser una fuente importante de ingresos, sobre todo en los sistemas sanitarios descentralizados (por ejemplo, Dinamarca, Finlandia, Italia y Suecia)17 . Además, el nivel de los impuestos locales puede fijarse en función de las preferencias locales sobre el nivel y la calidad de los servicios médicos. Sin embargo, en ausencia de un mecanismo de transferencia ajustado al riesgo y gestionado centralmente, la descentralización reduce la mancomunación de riesgos y podría dar lugar a mayores disparidades sanitarias interregionales.   \n",
       "4                                                                                                                                                                                                                                                                                                                          El consumo anual de alcohol se estima en 15,7 litros al año para los hombres, más de un 50% por encima de la media de la OCDE (10,4) (Sistema mundial de información sobre alcohol y salud de la OMS), lo que puede ayudar a explicar la alta mortalidad por enfermedad hepática relacionada con el alcohol. Si bien la prevalencia de la obesidad en adultos es relativamente baja en comparación con muchos países de la OCDE, más del 30 % de las mujeres en Kazajstán son obesas, en comparación con el 16 % de los hombres (World Obesity, 2016), lo que coloca la tasa entre las mujeres a la par con algunos de los países más obesos de la OCDE. De hecho, una gran proporción de la brecha en la esperanza de vida se explica por una mayor mortalidad entre los jóvenes kazajos de 15 a 29 años, un grupo de edad en el que las tasas generales de mortalidad son más de tres veces más altas que en la UE de los 15.   \n",
       "\n",
       "   sdg  \\\n",
       "0    3   \n",
       "1    3   \n",
       "2    3   \n",
       "3    3   \n",
       "4    3   \n",
       "\n",
       "                                                                                                                                                                                                                                                                                                                                                                                                                                                                                                                                                                                                                                                                                                                                                                                                                                                                                                                                                                                                                   words  \n",
       "0                                                                                                                                                        [ejemplo, numero, consultas, externas, especialistas, three hundred and nineteen, cada, mil, derechohabientes, sp, comparacion, three hundred and thirtyeight, six hundred and twenty, cada, mil, derechohabientes, imss, issste, respectivamente, si, bien, diferencias, pueden, reflejar, necesidad, desigual, poblacion, ligeramente, mayor, issste, pueden, justificarse, manera, numero, recetas, pudieron, ser, surtidas, totalidad, farmaceutico, debido, falta, existencias, thirtythree, dentro, sp, comparacion, fourteen, dentro, imss, segun, datos, encuesta, aunque, propias, cifras, institutos, ss, sugieren, tasas, mas, altas, recetas, surtidas, ambas, cifras, encuentran, mas, altas, ocde, gasto, bolsillo, reducido, significativamente, ultima, decada, pesar, esfuerzos, lograr, cobertura, sanitaria, universal, traves, reforma, sp]  \n",
       "1                                                                                                                                                                                                                                                                                                                                                                                                                                                                                                                                                                                             [two thousand and seven, gobierno, central, financio, directamente, solo, 03, gasto, total, salud, realizo, transferencias, especificas, gasto, salud, ascendieron, 56, gasto, total, mayor, parte, gasto, presupuestario, salud, realizan, gobiernos, condados, condados, pobres, solo, pueden, ofrecer, bajo, nivel, atencion, poblacion, local, gobierno, provincial, proporciona, subsidios, lado, oferta, hospitales]  \n",
       "2  [claramente, factores, juego, particular, variedad, barreras, determinantes, sociales, pueden, relacionados, genero, clase, etnia, casta, idioma, religion, surgen, estructuras, normas, procesos, sociales, arraigados, aceptan, incluso, fomentan, distribuciones, injustas, riqueza, recursos, sociales, ejemplo, personas, viven, vih, enfermedades, cronicas, enfrentan, altos, niveles, estigma, discriminacion, dificultan, acceso, pruebas, medicas, tratamiento, atencion, apoyo, gobiernos, buscan, mejorar, estandares, salud, querran, mejorar, condicion, mujer, brindar, servicios, salud, reproductiva, efectivos, implementar, programas, integrales, lactancia, materna, linea, recomendaciones, actuales, aumentar, presiones, comunitarias, aborto, selectivo, sexo, personas, pobres, carecen, educacion, informacion, fondos, opciones, mas, saludables, mas, vulnerables, impacto, ent, ricos, probable, mueran, directa, indirectamente, ent, tendran, impactos, gran, alcance, progreso, ...]  \n",
       "3                                                     [ejemplo, australiano, victoria, creo, agencia, promocion, salud, financiada, impuestos, tabaco, varios, eeuu, california, massachusetts, arizona, oregon, destinado, parte, ingresos, procedentes, impuestos, especiales, tabaco, actividades, educacion, control, tabaco, mientras, nueva, jersey, ohio, texas, ingresos, procedentes, alcohol, utilizan, programas, educacion, prevencion, relacionados, alcohol, sassi, et, two thousand and four, impuestos, locales, pueden, ser, fuente, importante, ingresos, sistemas, sanitarios, descentralizados, ejemplo, dinamarca, finlandia, italia, suecia, seventeen, ademas, nivel, impuestos, locales, puede, fijarse, funcion, preferencias, locales, nivel, calidad, servicios, medicos, embargo, ausencia, mecanismo, transferencia, ajustado, riesgo, gestionado, centralmente, descentralizacion, reduce, mancomunacion, riesgos, podria, dar, lugar, mayores, disparidades, sanitarias, interregionales]  \n",
       "4                                                                                                                                                                                                                                                                                      [consumo, anual, alcohol, estima, 157, litros, ano, hombres, mas, fifty, encima, media, ocde, 104, sistema, mundial, informacion, alcohol, salud, oms, puede, ayudar, explicar, alta, mortalidad, enfermedad, hepatica, relacionada, alcohol, si, bien, prevalencia, obesidad, adultos, relativamente, baja, comparacion, paises, ocde, mas, thirty, mujeres, kazajstan, obesas, comparacion, sixteen, hombres, world, obesity, two thousand and sixteen, coloca, tasa, mujeres, par, paises, mas, obesos, ocde, hecho, gran, proporcion, brecha, esperanza, vida, explica, mayor, mortalidad, jovenes, kazajos, fifteen, twentynine, anos, grupo, edad, tasas, generales, mortalidad, mas, tres, veces, mas, altas, ue, fifteen]  "
      ]
     },
     "execution_count": 1071,
     "metadata": {},
     "output_type": "execute_result"
    }
   ],
   "source": [
    "#Se verifica que se haya realizado la corrección\n",
    "data_t.head(5)"
   ]
  },
  {
   "cell_type": "code",
   "execution_count": 1072,
   "metadata": {},
   "outputs": [
    {
     "data": {
      "text/html": [
       "<div>\n",
       "<style scoped>\n",
       "    .dataframe tbody tr th:only-of-type {\n",
       "        vertical-align: middle;\n",
       "    }\n",
       "\n",
       "    .dataframe tbody tr th {\n",
       "        vertical-align: top;\n",
       "    }\n",
       "\n",
       "    .dataframe thead th {\n",
       "        text-align: right;\n",
       "    }\n",
       "</style>\n",
       "<table border=\"1\" class=\"dataframe\">\n",
       "  <thead>\n",
       "    <tr style=\"text-align: right;\">\n",
       "      <th></th>\n",
       "      <th>Textos_espanol</th>\n",
       "      <th>sdg</th>\n",
       "      <th>words</th>\n",
       "    </tr>\n",
       "  </thead>\n",
       "  <tbody>\n",
       "    <tr>\n",
       "      <th>0</th>\n",
       "      <td>Se basa en los nueve años de educación básica (seis de primaria y tres de secundaria). Los alumnos que acceden al segundo ciclo de secundaria pueden ir a un centro de orientación más académica o a un centro de formación profesional. Esto se aplica tanto en el sistema islámico como en el no islámico. La enseñanza secundaria superior formal comprende la enseñanza general (sekolah menengah atas, o SMA), la enseñanza profesional (sekolah menengah kejuruan, o SMK), las escuelas secundarias superiores islámicas (madrasah aliyah, o MA) y la enseñanza profesional islámica (madrasah aliyah kejuruan, o MAK). Este capítulo se centra principalmente en la enseñanza secundaria superior académica, mientras que el capítulo 5 trata de la formación profesional. Se está trabajando en el desarrollo de colegios comunitarios y vías alternativas de acceso a la enseñanza superior.</td>\n",
       "      <td>NaN</td>\n",
       "      <td>[basa, nueve, anos, educacion, basica, seis, primaria, tres, secundaria, alumnos, acceden, segundo, ciclo, secundaria, pueden, ir, centro, orientacion, mas, academica, centro, formacion, profesional, aplica, sistema, islamico, islamico, ensenanza, secundaria, superior, formal, comprende, ensenanza, general, sekolah, menengah, atas, sma, ensenanza, profesional, sekolah, menengah, kejuruan, smk, escuelas, secundarias, superiores, islamicas, madrasah, aliyah, ma, ensenanza, profesional, islamica, madrasah, aliyah, kejuruan, mak, capitulo, centra, principalmente, ensenanza, secundaria, superior, academica, mientras, capitulo, five, trata, formacion, profesional, trabajando, desarrollo, colegios, comunitarios, vias, alternativas, acceso, ensenanza, superior]</td>\n",
       "    </tr>\n",
       "    <tr>\n",
       "      <th>1</th>\n",
       "      <td>En la última década, y en particular desde 2010, el número de altas per cápita ha tendido a disminuir, y ahora está en línea con la media de la OCDE mencionada anteriormente. Por ejemplo, los habitantes de zonas rurales representan el 43% de la población, pero sólo el 32% de las altas hospitalarias. A falta de información complementaria, no es posible determinar si esta diferencia indica o no disparidades en el acceso de las poblaciones rurales y, en caso afirmativo, si las causas son geográficas, culturales o infraestructurales. No parece que se recojan datos sobre el acceso a la atención desde el punto de vista del paciente, lo que ayudaría a comprender la naturaleza de los obstáculos al acceso (y las soluciones). En general, no es posible determinar con los datos disponibles si los ingresos o las características socioeconómicas de los pacientes influyen a la hora de llegar a las puertas del hospital o de ser ingresado. El acceso desigual probablemente se deba también a la incapacidad de los centros de las distintas regiones para prestar los mismos servicios.</td>\n",
       "      <td>NaN</td>\n",
       "      <td>[ultima, decada, particular, two thousand and ten, numero, altas, per, capita, tendido, disminuir, ahora, linea, media, ocde, mencionada, anteriormente, ejemplo, habitantes, zonas, rurales, representan, fortythree, poblacion, solo, thirtytwo, altas, hospitalarias, falta, informacion, complementaria, posible, determinar, si, diferencia, indica, disparidades, acceso, poblaciones, rurales, caso, afirmativo, si, causas, geograficas, culturales, infraestructurales, parece, recojan, datos, acceso, atencion, punto, vista, paciente, ayudaria, comprender, naturaleza, obstaculos, acceso, soluciones, general, posible, determinar, datos, disponibles, si, ingresos, caracteristicas, socioeconomicas, pacientes, influyen, hora, llegar, puertas, hospital, ser, ingresado, acceso, desigual, probablemente, deba, tambien, incapacidad, centros, distintas, regiones, prestar, mismos, servicios]</td>\n",
       "    </tr>\n",
       "    <tr>\n",
       "      <th>2</th>\n",
       "      <td>AsÃ, por ejemplo, el estigma asociado a los beneficiarios de prestaciones sociales o a los pobres aumenta su desventaja. Del mismo modo, los errores de dignidad y reconocimiento pueden causar desventajas.54 La infravaloración del trabajo de las mujeres es un error de reconocimiento que causa directamente desventajas socioeconómicas, por lo que el derecho a la igualdad de retribución por un trabajo de igual valor es una sÃntesis importante de las dos primeras dimensiones del derecho a la igualdad: reparar la desventaja y abordar el estigma y los estereotipos. Tanto el Comité de Derechos Económicos, Sociales y Culturales como el Comité para la Eliminación de la Discriminación contra la Mujer han dado este paso. Directrices para la presentación de informes\", párrafo 29, CDESC, Ecuador, op. cit.</td>\n",
       "      <td>NaN</td>\n",
       "      <td>[asa, ejemplo, estigma, asociado, beneficiarios, prestaciones, sociales, pobres, aumenta, desventaja, mismo, modo, errores, dignidad, reconocimiento, pueden, causar, desventajas54, infravaloracion, trabajo, mujeres, error, reconocimiento, causa, directamente, desventajas, socioeconomicas, derecho, igualdad, retribucion, trabajo, igual, valor, santesis, importante, dos, primeras, dimensiones, derecho, igualdad, reparar, desventaja, abordar, estigma, estereotipos, comite, derechos, economicos, sociales, culturales, comite, eliminacion, discriminacion, mujer, dado, paso, directrices, presentacion, informes, parrafo, twentynine, cdesc, ecuador, op, cit]</td>\n",
       "    </tr>\n",
       "    <tr>\n",
       "      <th>3</th>\n",
       "      <td>Hay muchos profesores no cualificados en las escuelas, ya que es difícil contratar a profesores cualificados. Un indicio del reconocimiento del importante papel de los profesores en este contexto es la inclusión por Alberta de preguntas adicionales en la Encuesta Internacional sobre la Enseñanza y el Aprendizaje de la OCDE de 2018 relativas a la comprensión por parte de los profesores y los lÃderes escolares de cuestiones relacionadas con las culturas indÃgenas, la historia y el trabajo con alumnos indÃgenas, asà como sobre el desarrollo profesional pertinente. El enfoque holÃstico de los pueblos indÃgenas hace hincapié en lo mucho que estos contribuyen al bienestar general de los niños, asà como al de todos los demás, además de factores como las ventajas y desventajas materiales. El trauma sufrido por los pueblos indígenas, incluso a través del sistema de escuelas residenciales, todavía es sentido agudamente por muchos. De hecho, se nos dijo que los síntomas del trauma pueden aumentar en lugar de disminuir con el paso del tiempo, exacerbados por las relaciones intergeneracionales. Frente a este panorama más amplio, pueden comprenderse mejor los estudios específicos de determinadas provincias y territorios, y la comparación entre jóvenes indígenas y no indígenas (Freeman, King y Pickett, 2016).</td>\n",
       "      <td>NaN</td>\n",
       "      <td>[profesores, cualificados, escuelas, dificil, contratar, profesores, cualificados, indicio, reconocimiento, importante, papel, profesores, contexto, inclusion, alberta, preguntas, adicionales, encuesta, internacional, ensenanza, aprendizaje, ocde, two thousand and eighteen, relativas, comprension, parte, profesores, laderes, escolares, cuestiones, relacionadas, culturas, indagenas, historia, trabajo, alumnos, indagenas, asa, desarrollo, profesional, pertinente, enfoque, holastico, pueblos, indagenas, hace, hincapie, contribuyen, bienestar, general, ninos, asa, demas, ademas, factores, ventajas, desventajas, materiales, trauma, sufrido, pueblos, indigenas, incluso, traves, sistema, escuelas, residenciales, todavia, agudamente, hecho, dijo, sintomas, trauma, pueden, aumentar, lugar, disminuir, paso, tiempo, exacerbados, relaciones, intergeneracionales, frente, panorama, mas, amplio, pueden, comprenderse, mejor, estudios, especificos, determinadas, provincias, territorios, comparacion, jovenes, indigenas, indigenas, freeman, king, ...]</td>\n",
       "    </tr>\n",
       "    <tr>\n",
       "      <th>4</th>\n",
       "      <td>A raíz de su preocupación por el hecho de que los médicos de todo el sistema sanitario japonés no fueran capaces de identificar los signos de sufrimiento psicológico que podrían ayudar a reducir los suicidios, la Asociación Médica Japonesa informa de que empezó a compartir información y orientaciones sobre la depresión con todos los médicos, primero en 2004 y luego de nuevo en 2009. En la actualidad, sólo se recogen indicadores sobre la tasa de reclusión y contención, y de ingresos involuntarios, por parte de los proveedores y a nivel prefectural. La información recopilada sistemáticamente sobre el sistema de atención de salud mental se limita a indicadores estructurales: instalaciones, número de personal, número de camas.</td>\n",
       "      <td>NaN</td>\n",
       "      <td>[raiz, preocupacion, hecho, medicos, sistema, sanitario, japones, capaces, identificar, signos, sufrimiento, psicologico, podrian, ayudar, reducir, suicidios, asociacion, medica, japonesa, informa, empezo, compartir, informacion, orientaciones, depresion, medicos, primero, two thousand and four, luego, nuevo, two thousand and nine, actualidad, solo, recogen, indicadores, tasa, reclusion, contencion, ingresos, involuntarios, parte, proveedores, nivel, prefectural, informacion, recopilada, sistematicamente, sistema, atencion, salud, mental, limita, indicadores, estructurales, instalaciones, numero, personal, numero, camas]</td>\n",
       "    </tr>\n",
       "  </tbody>\n",
       "</table>\n",
       "</div>"
      ],
      "text/plain": [
       "                                                                                                                                                                                                                                                                                                                                                                                                                                                                                                                                                                                                                                                                                                                                                                                                                                                                                                                                                                                                                                                                                                                                                                                                                                                                                                                                                         Textos_espanol  \\\n",
       "0                                                                                                                                                                                                                                                                                                                                                                                                                                                                Se basa en los nueve años de educación básica (seis de primaria y tres de secundaria). Los alumnos que acceden al segundo ciclo de secundaria pueden ir a un centro de orientación más académica o a un centro de formación profesional. Esto se aplica tanto en el sistema islámico como en el no islámico. La enseñanza secundaria superior formal comprende la enseñanza general (sekolah menengah atas, o SMA), la enseñanza profesional (sekolah menengah kejuruan, o SMK), las escuelas secundarias superiores islámicas (madrasah aliyah, o MA) y la enseñanza profesional islámica (madrasah aliyah kejuruan, o MAK). Este capítulo se centra principalmente en la enseñanza secundaria superior académica, mientras que el capítulo 5 trata de la formación profesional. Se está trabajando en el desarrollo de colegios comunitarios y vías alternativas de acceso a la enseñanza superior.    \n",
       "1                                                                                                                                                                                                                                                En la última década, y en particular desde 2010, el número de altas per cápita ha tendido a disminuir, y ahora está en línea con la media de la OCDE mencionada anteriormente. Por ejemplo, los habitantes de zonas rurales representan el 43% de la población, pero sólo el 32% de las altas hospitalarias. A falta de información complementaria, no es posible determinar si esta diferencia indica o no disparidades en el acceso de las poblaciones rurales y, en caso afirmativo, si las causas son geográficas, culturales o infraestructurales. No parece que se recojan datos sobre el acceso a la atención desde el punto de vista del paciente, lo que ayudaría a comprender la naturaleza de los obstáculos al acceso (y las soluciones). En general, no es posible determinar con los datos disponibles si los ingresos o las características socioeconómicas de los pacientes influyen a la hora de llegar a las puertas del hospital o de ser ingresado. El acceso desigual probablemente se deba también a la incapacidad de los centros de las distintas regiones para prestar los mismos servicios.    \n",
       "2                                                                                                                                                                                                                                                                                                                                                                                                                                                                                                                                   AsÃ, por ejemplo, el estigma asociado a los beneficiarios de prestaciones sociales o a los pobres aumenta su desventaja. Del mismo modo, los errores de dignidad y reconocimiento pueden causar desventajas.54 La infravaloración del trabajo de las mujeres es un error de reconocimiento que causa directamente desventajas socioeconómicas, por lo que el derecho a la igualdad de retribución por un trabajo de igual valor es una sÃntesis importante de las dos primeras dimensiones del derecho a la igualdad: reparar la desventaja y abordar el estigma y los estereotipos. Tanto el Comité de Derechos Económicos, Sociales y Culturales como el Comité para la Eliminación de la Discriminación contra la Mujer han dado este paso. Directrices para la presentación de informes\", párrafo 29, CDESC, Ecuador, op. cit.    \n",
       "3  Hay muchos profesores no cualificados en las escuelas, ya que es difícil contratar a profesores cualificados. Un indicio del reconocimiento del importante papel de los profesores en este contexto es la inclusión por Alberta de preguntas adicionales en la Encuesta Internacional sobre la Enseñanza y el Aprendizaje de la OCDE de 2018 relativas a la comprensión por parte de los profesores y los lÃderes escolares de cuestiones relacionadas con las culturas indÃgenas, la historia y el trabajo con alumnos indÃgenas, asà como sobre el desarrollo profesional pertinente. El enfoque holÃstico de los pueblos indÃgenas hace hincapié en lo mucho que estos contribuyen al bienestar general de los niños, asà como al de todos los demás, además de factores como las ventajas y desventajas materiales. El trauma sufrido por los pueblos indígenas, incluso a través del sistema de escuelas residenciales, todavía es sentido agudamente por muchos. De hecho, se nos dijo que los síntomas del trauma pueden aumentar en lugar de disminuir con el paso del tiempo, exacerbados por las relaciones intergeneracionales. Frente a este panorama más amplio, pueden comprenderse mejor los estudios específicos de determinadas provincias y territorios, y la comparación entre jóvenes indígenas y no indígenas (Freeman, King y Pickett, 2016).    \n",
       "4                                                                                                                                                                                                                                                                                                                                                                                                                                                                                                                                                                                                         A raíz de su preocupación por el hecho de que los médicos de todo el sistema sanitario japonés no fueran capaces de identificar los signos de sufrimiento psicológico que podrían ayudar a reducir los suicidios, la Asociación Médica Japonesa informa de que empezó a compartir información y orientaciones sobre la depresión con todos los médicos, primero en 2004 y luego de nuevo en 2009. En la actualidad, sólo se recogen indicadores sobre la tasa de reclusión y contención, y de ingresos involuntarios, por parte de los proveedores y a nivel prefectural. La información recopilada sistemáticamente sobre el sistema de atención de salud mental se limita a indicadores estructurales: instalaciones, número de personal, número de camas.    \n",
       "\n",
       "   sdg  \\\n",
       "0  NaN   \n",
       "1  NaN   \n",
       "2  NaN   \n",
       "3  NaN   \n",
       "4  NaN   \n",
       "\n",
       "                                                                                                                                                                                                                                                                                                                                                                                                                                                                                                                                                                                                                                                                                                                                                                                                                                                                                                                                                                                                                                                                                      words  \n",
       "0                                                                                                                                                                                                                                                                                               [basa, nueve, anos, educacion, basica, seis, primaria, tres, secundaria, alumnos, acceden, segundo, ciclo, secundaria, pueden, ir, centro, orientacion, mas, academica, centro, formacion, profesional, aplica, sistema, islamico, islamico, ensenanza, secundaria, superior, formal, comprende, ensenanza, general, sekolah, menengah, atas, sma, ensenanza, profesional, sekolah, menengah, kejuruan, smk, escuelas, secundarias, superiores, islamicas, madrasah, aliyah, ma, ensenanza, profesional, islamica, madrasah, aliyah, kejuruan, mak, capitulo, centra, principalmente, ensenanza, secundaria, superior, academica, mientras, capitulo, five, trata, formacion, profesional, trabajando, desarrollo, colegios, comunitarios, vias, alternativas, acceso, ensenanza, superior]  \n",
       "1                                                                                                                                                                       [ultima, decada, particular, two thousand and ten, numero, altas, per, capita, tendido, disminuir, ahora, linea, media, ocde, mencionada, anteriormente, ejemplo, habitantes, zonas, rurales, representan, fortythree, poblacion, solo, thirtytwo, altas, hospitalarias, falta, informacion, complementaria, posible, determinar, si, diferencia, indica, disparidades, acceso, poblaciones, rurales, caso, afirmativo, si, causas, geograficas, culturales, infraestructurales, parece, recojan, datos, acceso, atencion, punto, vista, paciente, ayudaria, comprender, naturaleza, obstaculos, acceso, soluciones, general, posible, determinar, datos, disponibles, si, ingresos, caracteristicas, socioeconomicas, pacientes, influyen, hora, llegar, puertas, hospital, ser, ingresado, acceso, desigual, probablemente, deba, tambien, incapacidad, centros, distintas, regiones, prestar, mismos, servicios]  \n",
       "2                                                                                                                                                                                                                                                                                                                                                                                                         [asa, ejemplo, estigma, asociado, beneficiarios, prestaciones, sociales, pobres, aumenta, desventaja, mismo, modo, errores, dignidad, reconocimiento, pueden, causar, desventajas54, infravaloracion, trabajo, mujeres, error, reconocimiento, causa, directamente, desventajas, socioeconomicas, derecho, igualdad, retribucion, trabajo, igual, valor, santesis, importante, dos, primeras, dimensiones, derecho, igualdad, reparar, desventaja, abordar, estigma, estereotipos, comite, derechos, economicos, sociales, culturales, comite, eliminacion, discriminacion, mujer, dado, paso, directrices, presentacion, informes, parrafo, twentynine, cdesc, ecuador, op, cit]  \n",
       "3  [profesores, cualificados, escuelas, dificil, contratar, profesores, cualificados, indicio, reconocimiento, importante, papel, profesores, contexto, inclusion, alberta, preguntas, adicionales, encuesta, internacional, ensenanza, aprendizaje, ocde, two thousand and eighteen, relativas, comprension, parte, profesores, laderes, escolares, cuestiones, relacionadas, culturas, indagenas, historia, trabajo, alumnos, indagenas, asa, desarrollo, profesional, pertinente, enfoque, holastico, pueblos, indagenas, hace, hincapie, contribuyen, bienestar, general, ninos, asa, demas, ademas, factores, ventajas, desventajas, materiales, trauma, sufrido, pueblos, indigenas, incluso, traves, sistema, escuelas, residenciales, todavia, agudamente, hecho, dijo, sintomas, trauma, pueden, aumentar, lugar, disminuir, paso, tiempo, exacerbados, relaciones, intergeneracionales, frente, panorama, mas, amplio, pueden, comprenderse, mejor, estudios, especificos, determinadas, provincias, territorios, comparacion, jovenes, indigenas, indigenas, freeman, king, ...]  \n",
       "4                                                                                                                                                                                                                                                                                                                                                                                                                                      [raiz, preocupacion, hecho, medicos, sistema, sanitario, japones, capaces, identificar, signos, sufrimiento, psicologico, podrian, ayudar, reducir, suicidios, asociacion, medica, japonesa, informa, empezo, compartir, informacion, orientaciones, depresion, medicos, primero, two thousand and four, luego, nuevo, two thousand and nine, actualidad, solo, recogen, indicadores, tasa, reclusion, contencion, ingresos, involuntarios, parte, proveedores, nivel, prefectural, informacion, recopilada, sistematicamente, sistema, atencion, salud, mental, limita, indicadores, estructurales, instalaciones, numero, personal, numero, camas]  "
      ]
     },
     "execution_count": 1072,
     "metadata": {},
     "output_type": "execute_result"
    }
   ],
   "source": [
    "#Se verifica que se haya realizado la corrección\n",
    "data_t_nuevo.head(5)"
   ]
  },
  {
   "cell_type": "markdown",
   "metadata": {},
   "source": [
    "#### Selección de campos"
   ]
  },
  {
   "cell_type": "code",
   "execution_count": 1073,
   "metadata": {},
   "outputs": [
    {
     "data": {
      "text/html": [
       "<div>\n",
       "<style scoped>\n",
       "    .dataframe tbody tr th:only-of-type {\n",
       "        vertical-align: middle;\n",
       "    }\n",
       "\n",
       "    .dataframe tbody tr th {\n",
       "        vertical-align: top;\n",
       "    }\n",
       "\n",
       "    .dataframe thead th {\n",
       "        text-align: right;\n",
       "    }\n",
       "</style>\n",
       "<table border=\"1\" class=\"dataframe\">\n",
       "  <thead>\n",
       "    <tr style=\"text-align: right;\">\n",
       "      <th></th>\n",
       "      <th>Textos_espanol</th>\n",
       "      <th>sdg</th>\n",
       "      <th>words</th>\n",
       "    </tr>\n",
       "  </thead>\n",
       "  <tbody>\n",
       "    <tr>\n",
       "      <th>0</th>\n",
       "      <td>Por ejemplo, el número de consultas externas de especialistas es de 319 por cada mil derechohabientes en el SP, en comparación con 338 y 620 por cada mil derechohabientes en el IMSS y el ISSSTE, respectivamente. Si bien algunas de estas diferencias pueden reflejar una necesidad desigual (como la población ligeramente mayor del ISSSTE), otras no pueden justificarse de esta manera. El número de recetas que no pudieron ser surtidas en su totalidad por un farmacéutico debido a la falta de existencias es de 33% dentro del SP en comparación con 14% dentro del IMSS según los datos de la encuesta (aunque las propias cifras de los institutos de la SS sugieren tasas más altas de recetas surtidas). Ambas cifras se encuentran entre las más altas de la OCDE. El gasto de bolsillo no se ha reducido significativamente en la última década, a pesar de los esfuerzos para lograr la cobertura sanitaria universal a través de la reforma del SP.</td>\n",
       "      <td>3</td>\n",
       "      <td>ejemplo numero consultas externas especialistas three hundred and nineteen cada mil derechohabientes sp comparacion three hundred and thirtyeight six hundred and twenty cada mil derechohabientes imss issste respectivamente si bien diferencias pueden reflejar necesidad desigual poblacion ligeramente mayor issste pueden justificarse manera numero recetas pudieron ser surtidas totalidad farmaceutico debido falta existencias thirtythree dentro sp comparacion fourteen dentro imss segun datos encuesta aunque propias cifras institutos ss sugieren tasas mas altas recetas surtidas ambas cifras encuentran mas altas ocde gasto bolsillo reducido significativamente ultima decada pesar esfuerzos lograr cobertura sanitaria universal traves reforma sp</td>\n",
       "    </tr>\n",
       "    <tr>\n",
       "      <th>1</th>\n",
       "      <td>En 2007, el gobierno central financió directamente solo el 0,3% del gasto total en salud, pero realizó transferencias específicas para el gasto en salud que ascendieron a otro 5,6% del gasto total. La mayor parte del gasto presupuestario en salud lo realizan los gobiernos de los condados. Por lo tanto, los condados pobres solo pueden ofrecer un bajo nivel de atención a la población local. El gobierno provincial proporciona subsidios del lado de la oferta a los hospitales.</td>\n",
       "      <td>3</td>\n",
       "      <td>two thousand and seven gobierno central financio directamente solo 03 gasto total salud realizo transferencias especificas gasto salud ascendieron 56 gasto total mayor parte gasto presupuestario salud realizan gobiernos condados condados pobres solo pueden ofrecer bajo nivel atencion poblacion local gobierno provincial proporciona subsidios lado oferta hospitales</td>\n",
       "    </tr>\n",
       "    <tr>\n",
       "      <th>2</th>\n",
       "      <td>Claramente, hay muchos otros factores en juego, en particular, una variedad de barreras y determinantes sociales. Estos pueden estar relacionados con el género, la clase, la etnia, la casta, el idioma y la religión, y surgen de estructuras, normas y procesos sociales arraigados que aceptan e incluso fomentan distribuciones injustas de la riqueza y los recursos sociales. Por ejemplo, las personas que viven con el VIH y algunas otras enfermedades crónicas enfrentan altos niveles de estigma y discriminación que dificultan su acceso a pruebas médicas, tratamiento, atención y apoyo. Por lo tanto, los gobiernos que buscan mejorar los estándares de salud querrán mejorar la condición de la mujer, brindar servicios de salud reproductiva efectivos, implementar programas integrales de lactancia materna en línea con las recomendaciones actuales y aumentar las presiones comunitarias contra el aborto selectivo por sexo. Las personas pobres, que carecen de educación e información, o de fondos para opciones más saludables, son más vulnerables al impacto de las ENT que los ricos y es probable que mueran antes. Directa e indirectamente, las ENT tendrán impactos de gran alcance en el progreso hacia los ODM.</td>\n",
       "      <td>3</td>\n",
       "      <td>claramente factores juego particular variedad barreras determinantes sociales pueden relacionados genero clase etnia casta idioma religion surgen estructuras normas procesos sociales arraigados aceptan incluso fomentan distribuciones injustas riqueza recursos sociales ejemplo personas viven vih enfermedades cronicas enfrentan altos niveles estigma discriminacion dificultan acceso pruebas medicas tratamiento atencion apoyo gobiernos buscan mejorar estandares salud querran mejorar condicion mujer brindar servicios salud reproductiva efectivos implementar programas integrales lactancia materna linea recomendaciones actuales aumentar presiones comunitarias aborto selectivo sexo personas pobres carecen educacion informacion fondos opciones mas saludables mas vulnerables impacto ent ricos probable mueran directa indirectamente ent tendran impactos gran alcance progreso hacia odm</td>\n",
       "    </tr>\n",
       "    <tr>\n",
       "      <th>3</th>\n",
       "      <td>Por ejemplo, el estado australiano de Victoria creó una agencia de promoción de la salud financiada con los impuestos sobre el tabaco, y varios estados de EE.UU. (California, Massachusetts, Arizona y Oregón) han destinado parte de los ingresos procedentes de los impuestos especiales sobre el tabaco a actividades de educación y control del tabaco, mientras que en Nueva Jersey, Ohio y Texas los ingresos procedentes del alcohol se utilizan para programas de educación y prevención relacionados con el alcohol (Sassi et al., 2004), Los impuestos locales pueden ser una fuente importante de ingresos, sobre todo en los sistemas sanitarios descentralizados (por ejemplo, Dinamarca, Finlandia, Italia y Suecia)17 . Además, el nivel de los impuestos locales puede fijarse en función de las preferencias locales sobre el nivel y la calidad de los servicios médicos. Sin embargo, en ausencia de un mecanismo de transferencia ajustado al riesgo y gestionado centralmente, la descentralización reduce la mancomunación de riesgos y podría dar lugar a mayores disparidades sanitarias interregionales.</td>\n",
       "      <td>3</td>\n",
       "      <td>ejemplo australiano victoria creo agencia promocion salud financiada impuestos tabaco varios eeuu california massachusetts arizona oregon destinado parte ingresos procedentes impuestos especiales tabaco actividades educacion control tabaco mientras nueva jersey ohio texas ingresos procedentes alcohol utilizan programas educacion prevencion relacionados alcohol sassi et two thousand and four impuestos locales pueden ser fuente importante ingresos sistemas sanitarios descentralizados ejemplo dinamarca finlandia italia suecia seventeen ademas nivel impuestos locales puede fijarse funcion preferencias locales nivel calidad servicios medicos embargo ausencia mecanismo transferencia ajustado riesgo gestionado centralmente descentralizacion reduce mancomunacion riesgos podria dar lugar mayores disparidades sanitarias interregionales</td>\n",
       "    </tr>\n",
       "    <tr>\n",
       "      <th>4</th>\n",
       "      <td>El consumo anual de alcohol se estima en 15,7 litros al año para los hombres, más de un 50% por encima de la media de la OCDE (10,4) (Sistema mundial de información sobre alcohol y salud de la OMS), lo que puede ayudar a explicar la alta mortalidad por enfermedad hepática relacionada con el alcohol. Si bien la prevalencia de la obesidad en adultos es relativamente baja en comparación con muchos países de la OCDE, más del 30 % de las mujeres en Kazajstán son obesas, en comparación con el 16 % de los hombres (World Obesity, 2016), lo que coloca la tasa entre las mujeres a la par con algunos de los países más obesos de la OCDE. De hecho, una gran proporción de la brecha en la esperanza de vida se explica por una mayor mortalidad entre los jóvenes kazajos de 15 a 29 años, un grupo de edad en el que las tasas generales de mortalidad son más de tres veces más altas que en la UE de los 15.</td>\n",
       "      <td>3</td>\n",
       "      <td>consumo anual alcohol estima 157 litros ano hombres mas fifty encima media ocde 104 sistema mundial informacion alcohol salud oms puede ayudar explicar alta mortalidad enfermedad hepatica relacionada alcohol si bien prevalencia obesidad adultos relativamente baja comparacion paises ocde mas thirty mujeres kazajstan obesas comparacion sixteen hombres world obesity two thousand and sixteen coloca tasa mujeres par paises mas obesos ocde hecho gran proporcion brecha esperanza vida explica mayor mortalidad jovenes kazajos fifteen twentynine anos grupo edad tasas generales mortalidad mas tres veces mas altas ue fifteen</td>\n",
       "    </tr>\n",
       "    <tr>\n",
       "      <th>...</th>\n",
       "      <td>...</td>\n",
       "      <td>...</td>\n",
       "      <td>...</td>\n",
       "    </tr>\n",
       "    <tr>\n",
       "      <th>2995</th>\n",
       "      <td>Un caucus efectivo se basa en fuertes vínculos con grupos nacionales de mujeres, OSC e institutos de investigación y universidades. El Consejo continúa el trabajo del Consejo Interinstitucional posterior a Beijing y la Oficina de Iniciativas y Alcance de la Mujer de la Casa Blanca. Su objetivo es proporcionar \"una respuesta federal coordinada a los desafíos que enfrentan las mujeres y las niñas\" y garantizar \"que todos los gabinetes y agencias a nivel de gabinete consideren cómo sus políticas y programas responden a las necesidades y necesidades de las mujeres y las niñas\". impactarlos.â€</td>\n",
       "      <td>5</td>\n",
       "      <td>caucus efectivo basa fuertes vinculos grupos nacionales mujeres osc institutos investigacion universidades consejo continua trabajo consejo interinstitucional posterior beijing oficina iniciativas alcance mujer casa blanca objetivo proporcionar respuesta federal coordinada desafios enfrentan mujeres ninas garantizar gabinetes agencias nivel gabinete consideren politicas programas responden necesidades necesidades mujeres ninas impactarlosa</td>\n",
       "    </tr>\n",
       "    <tr>\n",
       "      <th>2996</th>\n",
       "      <td>Por el contrario, el porcentaje de hogares en edad de trabajar con un hombre que trabaja se mantuvo relativamente estable (en el 76%) a lo largo del tiempo en la mayorÃa de los paÃses (panel A). Alemania, sin embargo, fue testigo de un descenso significativo (de unos 15 puntos porcentuales) en la participación de los hombres en el empleo entre los hogares durante este perÃodo. A. Hogares con un trabajador masculino Panel. En España, por ejemplo, en 1995 sólo el 22% (25%) de los hogares contaban con una mujer que trabajaba a tiempo completo (todo el año), frente al 42% (52%) del año anterior a la crisis. Las mujeres neerlandesas trabajan ahora más semanas al año, aunque no más horas por semana.</td>\n",
       "      <td>5</td>\n",
       "      <td>contrario porcentaje hogares edad trabajar hombre trabaja mantuvo relativamente estable seventysix largo tiempo mayoraa paases panel alemania embargo testigo descenso significativo fifteen puntos porcentuales participacion hombres empleo hogares peraodo hogares trabajador masculino panel espana ejemplo one thousand nine hundred and ninetyfive solo twentytwo twentyfive hogares contaban mujer trabajaba tiempo completo ano frente fortytwo fiftytwo ano anterior crisis mujeres neerlandesas trabajan ahora mas semanas ano aunque mas horas semana</td>\n",
       "    </tr>\n",
       "    <tr>\n",
       "      <th>2997</th>\n",
       "      <td>El análisis utilizará una gama de medidas que reflejen las barreras básicas por un lado, y la asistencia por el otro, para la participación de las mujeres como agentes económicos productivos en los países de la Commonwealth. Según el Banco Mundial (Banco Mundial 2018a). Estas restricciones abarcan decisiones que afectan su movimiento, para conseguir un trabajo. Para muchas mujeres, estas decisiones no se pueden tomar sin el permiso de su marido.</td>\n",
       "      <td>5</td>\n",
       "      <td>analisis utilizara gama medidas reflejen barreras basicas lado asistencia participacion mujeres agentes economicos productivos paises commonwealth segun banco mundial banco mundial 2018a restricciones abarcan decisiones afectan movimiento conseguir trabajo muchas mujeres decisiones pueden tomar permiso marido</td>\n",
       "    </tr>\n",
       "    <tr>\n",
       "      <th>2998</th>\n",
       "      <td>La capacitación económica, el apoyo y, a veces, los incentivos que abordan las justificaciones económicas de las familias para casar a sus hijas a una edad temprana brindan alternativas al matrimonio y aumentan el valor de las niñas para sus familias de origen. Un ejemplo es Berhane-Hewan en Etiopía, que proporcionó a las familias una cabra mientras sus hijas permanecieran en el programa y permanecieran solteras hasta los 18 años (Karei y Erulkar, 2010). Otro ejemplo es el programa de transferencia de efectivo Zomba en Malawi, que descubrió que las transferencias de efectivo no condicionadas eran más efectivas para retrasar el matrimonio que las transferencias condicionadas (Baird et al., Al educar y movilizar a los padres y las comunidades—aquellos que deciden cuándo y con quién se casarán las niñas) —para cambiar las normas sociales relacionadas con las expectativas de las niñas y sus perspectivas de matrimonio, estos programas apuntan a retrasar el matrimonio.</td>\n",
       "      <td>5</td>\n",
       "      <td>capacitacion economica apoyo veces incentivos abordan justificaciones economicas familias casar hijas edad temprana brindan alternativas matrimonio aumentan valor ninas familias origen ejemplo berhanehewan etiopia proporciono familias cabra mientras hijas permanecieran programa permanecieran solteras eighteen anos karei erulkar two thousand and ten ejemplo programa transferencia efectivo zomba malawi descubrio transferencias efectivo condicionadas mas efectivas retrasar matrimonio transferencias condicionadas baird et educar movilizar padres comunidadesaquellos deciden casaran ninas cambiar normas sociales relacionadas expectativas ninas perspectivas matrimonio programas apuntan retrasar matrimonio</td>\n",
       "    </tr>\n",
       "    <tr>\n",
       "      <th>2999</th>\n",
       "      <td>Esto ha sido reconocido por los comités en la atención prestada a la salud reproductiva de la mujer, el aborto, la anticoncepción, el matrimonio precoz y el embarazo en la adolescencia. AsÃ, se reconoce que el control sobre su propia reproducción es fundamental para que las mujeres puedan participar en igualdad de condiciones en la sociedad. AsÃ, las Directrices para la presentación de informes sobre el artÃculo 6, el derecho a la vida, exigen a los Estados que proporcionen información sobre las tasas de natalidad y las muertes de mujeres relacionadas con el embarazo y el parto, asà como sobre las medidas adoptadas para ayudar a las mujeres a evitar embarazos no deseados y garantizar que no tengan que someterse a abortos clandestinos que pongan en peligro su vida (PIDCP 2012).</td>\n",
       "      <td>5</td>\n",
       "      <td>sido reconocido comites atencion prestada salud reproductiva mujer aborto anticoncepcion matrimonio precoz embarazo adolescencia asa reconoce control propia reproduccion fundamental mujeres puedan participar igualdad condiciones sociedad asa directrices presentacion informes artaculo six derecho vida exigen proporcionen informacion tasas natalidad muertes mujeres relacionadas embarazo parto asa medidas adoptadas ayudar mujeres evitar embarazos deseados garantizar someterse abortos clandestinos pongan peligro vida pidcp two thousand and twelve</td>\n",
       "    </tr>\n",
       "  </tbody>\n",
       "</table>\n",
       "<p>3000 rows × 3 columns</p>\n",
       "</div>"
      ],
      "text/plain": [
       "                                                                                                                                                                                                                                                                                                                                                                                                                                                                                                                                                                                                                                                                                                                                                                                                                                                                                                                                                                                                                                                                                                                                                                                                                                               Textos_espanol  \\\n",
       "0                                                                                                                                                                                                                                                                                     Por ejemplo, el número de consultas externas de especialistas es de 319 por cada mil derechohabientes en el SP, en comparación con 338 y 620 por cada mil derechohabientes en el IMSS y el ISSSTE, respectivamente. Si bien algunas de estas diferencias pueden reflejar una necesidad desigual (como la población ligeramente mayor del ISSSTE), otras no pueden justificarse de esta manera. El número de recetas que no pudieron ser surtidas en su totalidad por un farmacéutico debido a la falta de existencias es de 33% dentro del SP en comparación con 14% dentro del IMSS según los datos de la encuesta (aunque las propias cifras de los institutos de la SS sugieren tasas más altas de recetas surtidas). Ambas cifras se encuentran entre las más altas de la OCDE. El gasto de bolsillo no se ha reducido significativamente en la última década, a pesar de los esfuerzos para lograr la cobertura sanitaria universal a través de la reforma del SP.   \n",
       "1                                                                                                                                                                                                                                                                                                                                                                                                                                                                                                                                                                                                                                                                                                                                                                En 2007, el gobierno central financió directamente solo el 0,3% del gasto total en salud, pero realizó transferencias específicas para el gasto en salud que ascendieron a otro 5,6% del gasto total. La mayor parte del gasto presupuestario en salud lo realizan los gobiernos de los condados. Por lo tanto, los condados pobres solo pueden ofrecer un bajo nivel de atención a la población local. El gobierno provincial proporciona subsidios del lado de la oferta a los hospitales.   \n",
       "2     Claramente, hay muchos otros factores en juego, en particular, una variedad de barreras y determinantes sociales. Estos pueden estar relacionados con el género, la clase, la etnia, la casta, el idioma y la religión, y surgen de estructuras, normas y procesos sociales arraigados que aceptan e incluso fomentan distribuciones injustas de la riqueza y los recursos sociales. Por ejemplo, las personas que viven con el VIH y algunas otras enfermedades crónicas enfrentan altos niveles de estigma y discriminación que dificultan su acceso a pruebas médicas, tratamiento, atención y apoyo. Por lo tanto, los gobiernos que buscan mejorar los estándares de salud querrán mejorar la condición de la mujer, brindar servicios de salud reproductiva efectivos, implementar programas integrales de lactancia materna en línea con las recomendaciones actuales y aumentar las presiones comunitarias contra el aborto selectivo por sexo. Las personas pobres, que carecen de educación e información, o de fondos para opciones más saludables, son más vulnerables al impacto de las ENT que los ricos y es probable que mueran antes. Directa e indirectamente, las ENT tendrán impactos de gran alcance en el progreso hacia los ODM.   \n",
       "3                                                                                                                          Por ejemplo, el estado australiano de Victoria creó una agencia de promoción de la salud financiada con los impuestos sobre el tabaco, y varios estados de EE.UU. (California, Massachusetts, Arizona y Oregón) han destinado parte de los ingresos procedentes de los impuestos especiales sobre el tabaco a actividades de educación y control del tabaco, mientras que en Nueva Jersey, Ohio y Texas los ingresos procedentes del alcohol se utilizan para programas de educación y prevención relacionados con el alcohol (Sassi et al., 2004), Los impuestos locales pueden ser una fuente importante de ingresos, sobre todo en los sistemas sanitarios descentralizados (por ejemplo, Dinamarca, Finlandia, Italia y Suecia)17 . Además, el nivel de los impuestos locales puede fijarse en función de las preferencias locales sobre el nivel y la calidad de los servicios médicos. Sin embargo, en ausencia de un mecanismo de transferencia ajustado al riesgo y gestionado centralmente, la descentralización reduce la mancomunación de riesgos y podría dar lugar a mayores disparidades sanitarias interregionales.   \n",
       "4                                                                                                                                                                                                                                                                                                                             El consumo anual de alcohol se estima en 15,7 litros al año para los hombres, más de un 50% por encima de la media de la OCDE (10,4) (Sistema mundial de información sobre alcohol y salud de la OMS), lo que puede ayudar a explicar la alta mortalidad por enfermedad hepática relacionada con el alcohol. Si bien la prevalencia de la obesidad en adultos es relativamente baja en comparación con muchos países de la OCDE, más del 30 % de las mujeres en Kazajstán son obesas, en comparación con el 16 % de los hombres (World Obesity, 2016), lo que coloca la tasa entre las mujeres a la par con algunos de los países más obesos de la OCDE. De hecho, una gran proporción de la brecha en la esperanza de vida se explica por una mayor mortalidad entre los jóvenes kazajos de 15 a 29 años, un grupo de edad en el que las tasas generales de mortalidad son más de tres veces más altas que en la UE de los 15.   \n",
       "...                                                                                                                                                                                                                                                                                                                                                                                                                                                                                                                                                                                                                                                                                                                                                                                                                                                                                                                                                                                                                                                                                                                                                                                                                                                       ...   \n",
       "2995                                                                                                                                                                                                                                                                                                                                                                                                                                                                                                                                                                                                                                      Un caucus efectivo se basa en fuertes vínculos con grupos nacionales de mujeres, OSC e institutos de investigación y universidades. El Consejo continúa el trabajo del Consejo Interinstitucional posterior a Beijing y la Oficina de Iniciativas y Alcance de la Mujer de la Casa Blanca. Su objetivo es proporcionar \"una respuesta federal coordinada a los desafíos que enfrentan las mujeres y las niñas\" y garantizar \"que todos los gabinetes y agencias a nivel de gabinete consideren cómo sus políticas y programas responden a las necesidades y necesidades de las mujeres y las niñas\". impactarlos.â€   \n",
       "2996                                                                                                                                                                                                                                                                                                                                                                                                                                                                                                                          Por el contrario, el porcentaje de hogares en edad de trabajar con un hombre que trabaja se mantuvo relativamente estable (en el 76%) a lo largo del tiempo en la mayorÃa de los paÃses (panel A). Alemania, sin embargo, fue testigo de un descenso significativo (de unos 15 puntos porcentuales) en la participación de los hombres en el empleo entre los hogares durante este perÃodo. A. Hogares con un trabajador masculino Panel. En España, por ejemplo, en 1995 sólo el 22% (25%) de los hogares contaban con una mujer que trabajaba a tiempo completo (todo el año), frente al 42% (52%) del año anterior a la crisis. Las mujeres neerlandesas trabajan ahora más semanas al año, aunque no más horas por semana.    \n",
       "2997                                                                                                                                                                                                                                                                                                                                                                                                                                                                                                                                                                                                                                                                                                                                                                                        El análisis utilizará una gama de medidas que reflejen las barreras básicas por un lado, y la asistencia por el otro, para la participación de las mujeres como agentes económicos productivos en los países de la Commonwealth. Según el Banco Mundial (Banco Mundial 2018a). Estas restricciones abarcan decisiones que afectan su movimiento, para conseguir un trabajo. Para muchas mujeres, estas decisiones no se pueden tomar sin el permiso de su marido.   \n",
       "2998                                                                                                                                                                                                                                        La capacitación económica, el apoyo y, a veces, los incentivos que abordan las justificaciones económicas de las familias para casar a sus hijas a una edad temprana brindan alternativas al matrimonio y aumentan el valor de las niñas para sus familias de origen. Un ejemplo es Berhane-Hewan en Etiopía, que proporcionó a las familias una cabra mientras sus hijas permanecieran en el programa y permanecieran solteras hasta los 18 años (Karei y Erulkar, 2010). Otro ejemplo es el programa de transferencia de efectivo Zomba en Malawi, que descubrió que las transferencias de efectivo no condicionadas eran más efectivas para retrasar el matrimonio que las transferencias condicionadas (Baird et al., Al educar y movilizar a los padres y las comunidades—aquellos que deciden cuándo y con quién se casarán las niñas) —para cambiar las normas sociales relacionadas con las expectativas de las niñas y sus perspectivas de matrimonio, estos programas apuntan a retrasar el matrimonio.   \n",
       "2999                                                                                                                                                                                                                                                                                                                                                                                                                                     Esto ha sido reconocido por los comités en la atención prestada a la salud reproductiva de la mujer, el aborto, la anticoncepción, el matrimonio precoz y el embarazo en la adolescencia. AsÃ, se reconoce que el control sobre su propia reproducción es fundamental para que las mujeres puedan participar en igualdad de condiciones en la sociedad. AsÃ, las Directrices para la presentación de informes sobre el artÃculo 6, el derecho a la vida, exigen a los Estados que proporcionen información sobre las tasas de natalidad y las muertes de mujeres relacionadas con el embarazo y el parto, asà como sobre las medidas adoptadas para ayudar a las mujeres a evitar embarazos no deseados y garantizar que no tengan que someterse a abortos clandestinos que pongan en peligro su vida (PIDCP 2012).    \n",
       "\n",
       "      sdg  \\\n",
       "0       3   \n",
       "1       3   \n",
       "2       3   \n",
       "3       3   \n",
       "4       3   \n",
       "...   ...   \n",
       "2995    5   \n",
       "2996    5   \n",
       "2997    5   \n",
       "2998    5   \n",
       "2999    5   \n",
       "\n",
       "                                                                                                                                                                                                                                                                                                                                                                                                                                                                                                                                                                                                                                                                                                                                                                                                                                                                                                                      words  \n",
       "0                                                                                                                                                 ejemplo numero consultas externas especialistas three hundred and nineteen cada mil derechohabientes sp comparacion three hundred and thirtyeight six hundred and twenty cada mil derechohabientes imss issste respectivamente si bien diferencias pueden reflejar necesidad desigual poblacion ligeramente mayor issste pueden justificarse manera numero recetas pudieron ser surtidas totalidad farmaceutico debido falta existencias thirtythree dentro sp comparacion fourteen dentro imss segun datos encuesta aunque propias cifras institutos ss sugieren tasas mas altas recetas surtidas ambas cifras encuentran mas altas ocde gasto bolsillo reducido significativamente ultima decada pesar esfuerzos lograr cobertura sanitaria universal traves reforma sp  \n",
       "1                                                                                                                                                                                                                                                                                                                                                                                                                                                                                                                                             two thousand and seven gobierno central financio directamente solo 03 gasto total salud realizo transferencias especificas gasto salud ascendieron 56 gasto total mayor parte gasto presupuestario salud realizan gobiernos condados condados pobres solo pueden ofrecer bajo nivel atencion poblacion local gobierno provincial proporciona subsidios lado oferta hospitales  \n",
       "2     claramente factores juego particular variedad barreras determinantes sociales pueden relacionados genero clase etnia casta idioma religion surgen estructuras normas procesos sociales arraigados aceptan incluso fomentan distribuciones injustas riqueza recursos sociales ejemplo personas viven vih enfermedades cronicas enfrentan altos niveles estigma discriminacion dificultan acceso pruebas medicas tratamiento atencion apoyo gobiernos buscan mejorar estandares salud querran mejorar condicion mujer brindar servicios salud reproductiva efectivos implementar programas integrales lactancia materna linea recomendaciones actuales aumentar presiones comunitarias aborto selectivo sexo personas pobres carecen educacion informacion fondos opciones mas saludables mas vulnerables impacto ent ricos probable mueran directa indirectamente ent tendran impactos gran alcance progreso hacia odm  \n",
       "3                                                     ejemplo australiano victoria creo agencia promocion salud financiada impuestos tabaco varios eeuu california massachusetts arizona oregon destinado parte ingresos procedentes impuestos especiales tabaco actividades educacion control tabaco mientras nueva jersey ohio texas ingresos procedentes alcohol utilizan programas educacion prevencion relacionados alcohol sassi et two thousand and four impuestos locales pueden ser fuente importante ingresos sistemas sanitarios descentralizados ejemplo dinamarca finlandia italia suecia seventeen ademas nivel impuestos locales puede fijarse funcion preferencias locales nivel calidad servicios medicos embargo ausencia mecanismo transferencia ajustado riesgo gestionado centralmente descentralizacion reduce mancomunacion riesgos podria dar lugar mayores disparidades sanitarias interregionales  \n",
       "4                                                                                                                                                                                                                                                                              consumo anual alcohol estima 157 litros ano hombres mas fifty encima media ocde 104 sistema mundial informacion alcohol salud oms puede ayudar explicar alta mortalidad enfermedad hepatica relacionada alcohol si bien prevalencia obesidad adultos relativamente baja comparacion paises ocde mas thirty mujeres kazajstan obesas comparacion sixteen hombres world obesity two thousand and sixteen coloca tasa mujeres par paises mas obesos ocde hecho gran proporcion brecha esperanza vida explica mayor mortalidad jovenes kazajos fifteen twentynine anos grupo edad tasas generales mortalidad mas tres veces mas altas ue fifteen  \n",
       "...                                                                                                                                                                                                                                                                                                                                                                                                                                                                                                                                                                                                                                                                                                                                                                                                                                                                                                                     ...  \n",
       "2995                                                                                                                                                                                                                                                                                                                                                                                                                                                            caucus efectivo basa fuertes vinculos grupos nacionales mujeres osc institutos investigacion universidades consejo continua trabajo consejo interinstitucional posterior beijing oficina iniciativas alcance mujer casa blanca objetivo proporcionar respuesta federal coordinada desafios enfrentan mujeres ninas garantizar gabinetes agencias nivel gabinete consideren politicas programas responden necesidades necesidades mujeres ninas impactarlosa  \n",
       "2996                                                                                                                                                                                                                                                                                                                                                       contrario porcentaje hogares edad trabajar hombre trabaja mantuvo relativamente estable seventysix largo tiempo mayoraa paases panel alemania embargo testigo descenso significativo fifteen puntos porcentuales participacion hombres empleo hogares peraodo hogares trabajador masculino panel espana ejemplo one thousand nine hundred and ninetyfive solo twentytwo twentyfive hogares contaban mujer trabajaba tiempo completo ano frente fortytwo fiftytwo ano anterior crisis mujeres neerlandesas trabajan ahora mas semanas ano aunque mas horas semana  \n",
       "2997                                                                                                                                                                                                                                                                                                                                                                                                                                                                                                                                                                                                 analisis utilizara gama medidas reflejen barreras basicas lado asistencia participacion mujeres agentes economicos productivos paises commonwealth segun banco mundial banco mundial 2018a restricciones abarcan decisiones afectan movimiento conseguir trabajo muchas mujeres decisiones pueden tomar permiso marido  \n",
       "2998                                                                                                                                                                                    capacitacion economica apoyo veces incentivos abordan justificaciones economicas familias casar hijas edad temprana brindan alternativas matrimonio aumentan valor ninas familias origen ejemplo berhanehewan etiopia proporciono familias cabra mientras hijas permanecieran programa permanecieran solteras eighteen anos karei erulkar two thousand and ten ejemplo programa transferencia efectivo zomba malawi descubrio transferencias efectivo condicionadas mas efectivas retrasar matrimonio transferencias condicionadas baird et educar movilizar padres comunidadesaquellos deciden casaran ninas cambiar normas sociales relacionadas expectativas ninas perspectivas matrimonio programas apuntan retrasar matrimonio  \n",
       "2999                                                                                                                                                                                                                                                                                                                                                   sido reconocido comites atencion prestada salud reproductiva mujer aborto anticoncepcion matrimonio precoz embarazo adolescencia asa reconoce control propia reproduccion fundamental mujeres puedan participar igualdad condiciones sociedad asa directrices presentacion informes artaculo six derecho vida exigen proporcionen informacion tasas natalidad muertes mujeres relacionadas embarazo parto asa medidas adoptadas ayudar mujeres evitar embarazos deseados garantizar someterse abortos clandestinos pongan peligro vida pidcp two thousand and twelve  \n",
       "\n",
       "[3000 rows x 3 columns]"
      ]
     },
     "execution_count": 1073,
     "metadata": {},
     "output_type": "execute_result"
    }
   ],
   "source": [
    "data_t['words'] = data_t['words'].apply(lambda x: ' '.join(map(str, x)))\n",
    "data_t"
   ]
  },
  {
   "cell_type": "code",
   "execution_count": 1074,
   "metadata": {},
   "outputs": [
    {
     "data": {
      "text/html": [
       "<div>\n",
       "<style scoped>\n",
       "    .dataframe tbody tr th:only-of-type {\n",
       "        vertical-align: middle;\n",
       "    }\n",
       "\n",
       "    .dataframe tbody tr th {\n",
       "        vertical-align: top;\n",
       "    }\n",
       "\n",
       "    .dataframe thead th {\n",
       "        text-align: right;\n",
       "    }\n",
       "</style>\n",
       "<table border=\"1\" class=\"dataframe\">\n",
       "  <thead>\n",
       "    <tr style=\"text-align: right;\">\n",
       "      <th></th>\n",
       "      <th>Textos_espanol</th>\n",
       "      <th>sdg</th>\n",
       "      <th>words</th>\n",
       "    </tr>\n",
       "  </thead>\n",
       "  <tbody>\n",
       "    <tr>\n",
       "      <th>0</th>\n",
       "      <td>Se basa en los nueve años de educación básica (seis de primaria y tres de secundaria). Los alumnos que acceden al segundo ciclo de secundaria pueden ir a un centro de orientación más académica o a un centro de formación profesional. Esto se aplica tanto en el sistema islámico como en el no islámico. La enseñanza secundaria superior formal comprende la enseñanza general (sekolah menengah atas, o SMA), la enseñanza profesional (sekolah menengah kejuruan, o SMK), las escuelas secundarias superiores islámicas (madrasah aliyah, o MA) y la enseñanza profesional islámica (madrasah aliyah kejuruan, o MAK). Este capítulo se centra principalmente en la enseñanza secundaria superior académica, mientras que el capítulo 5 trata de la formación profesional. Se está trabajando en el desarrollo de colegios comunitarios y vías alternativas de acceso a la enseñanza superior.</td>\n",
       "      <td>NaN</td>\n",
       "      <td>basa nueve anos educacion basica seis primaria tres secundaria alumnos acceden segundo ciclo secundaria pueden ir centro orientacion mas academica centro formacion profesional aplica sistema islamico islamico ensenanza secundaria superior formal comprende ensenanza general sekolah menengah atas sma ensenanza profesional sekolah menengah kejuruan smk escuelas secundarias superiores islamicas madrasah aliyah ma ensenanza profesional islamica madrasah aliyah kejuruan mak capitulo centra principalmente ensenanza secundaria superior academica mientras capitulo five trata formacion profesional trabajando desarrollo colegios comunitarios vias alternativas acceso ensenanza superior</td>\n",
       "    </tr>\n",
       "    <tr>\n",
       "      <th>1</th>\n",
       "      <td>En la última década, y en particular desde 2010, el número de altas per cápita ha tendido a disminuir, y ahora está en línea con la media de la OCDE mencionada anteriormente. Por ejemplo, los habitantes de zonas rurales representan el 43% de la población, pero sólo el 32% de las altas hospitalarias. A falta de información complementaria, no es posible determinar si esta diferencia indica o no disparidades en el acceso de las poblaciones rurales y, en caso afirmativo, si las causas son geográficas, culturales o infraestructurales. No parece que se recojan datos sobre el acceso a la atención desde el punto de vista del paciente, lo que ayudaría a comprender la naturaleza de los obstáculos al acceso (y las soluciones). En general, no es posible determinar con los datos disponibles si los ingresos o las características socioeconómicas de los pacientes influyen a la hora de llegar a las puertas del hospital o de ser ingresado. El acceso desigual probablemente se deba también a la incapacidad de los centros de las distintas regiones para prestar los mismos servicios.</td>\n",
       "      <td>NaN</td>\n",
       "      <td>ultima decada particular two thousand and ten numero altas per capita tendido disminuir ahora linea media ocde mencionada anteriormente ejemplo habitantes zonas rurales representan fortythree poblacion solo thirtytwo altas hospitalarias falta informacion complementaria posible determinar si diferencia indica disparidades acceso poblaciones rurales caso afirmativo si causas geograficas culturales infraestructurales parece recojan datos acceso atencion punto vista paciente ayudaria comprender naturaleza obstaculos acceso soluciones general posible determinar datos disponibles si ingresos caracteristicas socioeconomicas pacientes influyen hora llegar puertas hospital ser ingresado acceso desigual probablemente deba tambien incapacidad centros distintas regiones prestar mismos servicios</td>\n",
       "    </tr>\n",
       "    <tr>\n",
       "      <th>2</th>\n",
       "      <td>AsÃ, por ejemplo, el estigma asociado a los beneficiarios de prestaciones sociales o a los pobres aumenta su desventaja. Del mismo modo, los errores de dignidad y reconocimiento pueden causar desventajas.54 La infravaloración del trabajo de las mujeres es un error de reconocimiento que causa directamente desventajas socioeconómicas, por lo que el derecho a la igualdad de retribución por un trabajo de igual valor es una sÃntesis importante de las dos primeras dimensiones del derecho a la igualdad: reparar la desventaja y abordar el estigma y los estereotipos. Tanto el Comité de Derechos Económicos, Sociales y Culturales como el Comité para la Eliminación de la Discriminación contra la Mujer han dado este paso. Directrices para la presentación de informes\", párrafo 29, CDESC, Ecuador, op. cit.</td>\n",
       "      <td>NaN</td>\n",
       "      <td>asa ejemplo estigma asociado beneficiarios prestaciones sociales pobres aumenta desventaja mismo modo errores dignidad reconocimiento pueden causar desventajas54 infravaloracion trabajo mujeres error reconocimiento causa directamente desventajas socioeconomicas derecho igualdad retribucion trabajo igual valor santesis importante dos primeras dimensiones derecho igualdad reparar desventaja abordar estigma estereotipos comite derechos economicos sociales culturales comite eliminacion discriminacion mujer dado paso directrices presentacion informes parrafo twentynine cdesc ecuador op cit</td>\n",
       "    </tr>\n",
       "    <tr>\n",
       "      <th>3</th>\n",
       "      <td>Hay muchos profesores no cualificados en las escuelas, ya que es difícil contratar a profesores cualificados. Un indicio del reconocimiento del importante papel de los profesores en este contexto es la inclusión por Alberta de preguntas adicionales en la Encuesta Internacional sobre la Enseñanza y el Aprendizaje de la OCDE de 2018 relativas a la comprensión por parte de los profesores y los lÃderes escolares de cuestiones relacionadas con las culturas indÃgenas, la historia y el trabajo con alumnos indÃgenas, asà como sobre el desarrollo profesional pertinente. El enfoque holÃstico de los pueblos indÃgenas hace hincapié en lo mucho que estos contribuyen al bienestar general de los niños, asà como al de todos los demás, además de factores como las ventajas y desventajas materiales. El trauma sufrido por los pueblos indígenas, incluso a través del sistema de escuelas residenciales, todavía es sentido agudamente por muchos. De hecho, se nos dijo que los síntomas del trauma pueden aumentar en lugar de disminuir con el paso del tiempo, exacerbados por las relaciones intergeneracionales. Frente a este panorama más amplio, pueden comprenderse mejor los estudios específicos de determinadas provincias y territorios, y la comparación entre jóvenes indígenas y no indígenas (Freeman, King y Pickett, 2016).</td>\n",
       "      <td>NaN</td>\n",
       "      <td>profesores cualificados escuelas dificil contratar profesores cualificados indicio reconocimiento importante papel profesores contexto inclusion alberta preguntas adicionales encuesta internacional ensenanza aprendizaje ocde two thousand and eighteen relativas comprension parte profesores laderes escolares cuestiones relacionadas culturas indagenas historia trabajo alumnos indagenas asa desarrollo profesional pertinente enfoque holastico pueblos indagenas hace hincapie contribuyen bienestar general ninos asa demas ademas factores ventajas desventajas materiales trauma sufrido pueblos indigenas incluso traves sistema escuelas residenciales todavia agudamente hecho dijo sintomas trauma pueden aumentar lugar disminuir paso tiempo exacerbados relaciones intergeneracionales frente panorama mas amplio pueden comprenderse mejor estudios especificos determinadas provincias territorios comparacion jovenes indigenas indigenas freeman king pickett two thousand and sixteen</td>\n",
       "    </tr>\n",
       "    <tr>\n",
       "      <th>4</th>\n",
       "      <td>A raíz de su preocupación por el hecho de que los médicos de todo el sistema sanitario japonés no fueran capaces de identificar los signos de sufrimiento psicológico que podrían ayudar a reducir los suicidios, la Asociación Médica Japonesa informa de que empezó a compartir información y orientaciones sobre la depresión con todos los médicos, primero en 2004 y luego de nuevo en 2009. En la actualidad, sólo se recogen indicadores sobre la tasa de reclusión y contención, y de ingresos involuntarios, por parte de los proveedores y a nivel prefectural. La información recopilada sistemáticamente sobre el sistema de atención de salud mental se limita a indicadores estructurales: instalaciones, número de personal, número de camas.</td>\n",
       "      <td>NaN</td>\n",
       "      <td>raiz preocupacion hecho medicos sistema sanitario japones capaces identificar signos sufrimiento psicologico podrian ayudar reducir suicidios asociacion medica japonesa informa empezo compartir informacion orientaciones depresion medicos primero two thousand and four luego nuevo two thousand and nine actualidad solo recogen indicadores tasa reclusion contencion ingresos involuntarios parte proveedores nivel prefectural informacion recopilada sistematicamente sistema atencion salud mental limita indicadores estructurales instalaciones numero personal numero camas</td>\n",
       "    </tr>\n",
       "    <tr>\n",
       "      <th>...</th>\n",
       "      <td>...</td>\n",
       "      <td>...</td>\n",
       "      <td>...</td>\n",
       "    </tr>\n",
       "    <tr>\n",
       "      <th>1754</th>\n",
       "      <td>O puede darse de baja llamando a XXXXXXX o visitando www. Un ensayo controlado aleatorizado similar de 2 años de duración entre 537 hombres indios asiáticos con prediabetes encontró que los mensajes de teléfono móvil eran un método aceptable para brindar asesoramiento y apoyo para la modificación del estilo de vida para prevenir la diabetes tipo 2 (Ramachandran, 2013). El ensayo fue el primero en mostrar el beneficio de esta tecnología en la prevención de la diabetes, con una reducción del 36 % en el riesgo relativo en comparación con la atención estándar en 2 años. Otro estudio piloto de 1 año de duración entre 200 pacientes con diabetes tipo 2 en la clínica mostró que los mensajes de teléfonos móviles sobre los principios del control de la diabetes ayudaron a mejorar los resultados de la atención médica.</td>\n",
       "      <td>NaN</td>\n",
       "      <td>puede darse baja llamando xxxxxxx visitando www ensayo controlado aleatorizado similar two anos duracion five hundred and thirtyseven hombres indios asiaticos prediabetes encontro mensajes telefono movil metodo aceptable brindar asesoramiento apoyo modificacion estilo vida prevenir diabetes tipo two ramachandran two thousand and thirteen ensayo primero mostrar beneficio tecnologia prevencion diabetes reduccion thirtysix riesgo relativo comparacion atencion estandar two anos estudio piloto one ano duracion two hundred pacientes diabetes tipo two clinica mostro mensajes telefonos moviles principios control diabetes ayudaron mejorar resultados atencion medica</td>\n",
       "    </tr>\n",
       "    <tr>\n",
       "      <th>1755</th>\n",
       "      <td>Considere establecer o fortalecer la capacidad de instituciones independientes (como Comisiones Independientes, Entidades Fiscalizadoras Superiores, Oficinas de Ombudsman) y órganos asesores (p. ej., consejos de Gobierno) para monitorear la implementación de estrategias de igualdad de género, integrar cuestiones de género en la formulación de políticas y facilitar informes regulares, auditorías y mediciones. Para ser eficaz, dicha supervisión debe llevarse a cabo de manera equilibrada y evitar enfoques prescriptivos para fomentar la mejora continua al tiempo que permite realizar un seguimiento del progreso en la igualdad de género. Por ejemplo, sobre la base de buenas prácticas y según corresponda, estas medidas pueden incluir requisitos de divulgación, cuotas, metas voluntarias, leyes de paridad, alternancia de sexos en la lista del partido y vinculación de las proporciones de género en los partidos políticos con su acceso a la financiación pública. Promover la contratación basada en el mérito, considerar políticas y prácticas positivas para garantizar una representación equilibrada de hombres y mujeres en cada grupo ocupacional en el empleo del sector público, y desarrollar medidas concretas para garantizar la eliminación efectiva de las barreras implícitas en los procesos de contratación y dotación de personal, donde apropiado y necesario.</td>\n",
       "      <td>NaN</td>\n",
       "      <td>considere establecer fortalecer capacidad instituciones independientes comisiones independientes entidades fiscalizadoras superiores oficinas ombudsman organos asesores p ej consejos gobierno monitorear implementacion estrategias igualdad genero integrar cuestiones genero formulacion politicas facilitar informes regulares auditorias mediciones ser eficaz dicha supervision debe llevarse cabo manera equilibrada evitar enfoques prescriptivos fomentar mejora continua tiempo permite realizar seguimiento progreso igualdad genero ejemplo base buenas practicas segun corresponda medidas pueden incluir requisitos divulgacion cuotas metas voluntarias leyes paridad alternancia sexos lista partido vinculacion proporciones genero partidos politicos acceso financiacion publica promover contratacion basada merito considerar politicas practicas positivas garantizar representacion equilibrada hombres mujeres cada grupo ocupacional empleo sector publico desarrollar medidas concretas garantizar eliminacion efectiva barreras implicitas procesos contratacion dotacion personal apropiado necesario</td>\n",
       "    </tr>\n",
       "    <tr>\n",
       "      <th>1756</th>\n",
       "      <td>Sin embargo, la calidad general del entorno de EAPI tuvo un efecto sobre los ingresos de los adultos. En muchos países, las proporciones entre el personal y los niños se han regulado con proporciones más altas entre el personal y los niños para los más pequeños y proporciones más bajas para los niños mayores (NICHD, 2002). Sin embargo, falta investigación sobre exactamente qué proporción es más favorable para mejorar la satisfacción laboral de los docentes, la calidad de la EAPI y los resultados de los niños.</td>\n",
       "      <td>NaN</td>\n",
       "      <td>embargo calidad general entorno eapi efecto ingresos adultos paises proporciones personal ninos regulado proporciones mas altas personal ninos mas pequenos proporciones mas bajas ninos mayores nichd two thousand and two embargo falta investigacion exactamente proporcion mas favorable mejorar satisfaccion laboral docentes calidad eapi resultados ninos</td>\n",
       "    </tr>\n",
       "    <tr>\n",
       "      <th>1757</th>\n",
       "      <td>Cada vez con más frecuencia, los traficantes de drogas utilizan números de registro de aeronaves robados o falsificados cuando transportan envíos ilícitos por vía aérea. En la mayoría de los países de América Central y el Caribe se producen niveles significativos de hierba de cannabis. Jamaica sigue siendo el mayor productor de cannabis en el Caribe, con un cultivo total de planta de cannabis estimado por las autoridades locales en unas 15.000 ha.</td>\n",
       "      <td>NaN</td>\n",
       "      <td>cada vez mas frecuencia traficantes drogas utilizan numeros registro aeronaves robados falsificados transportan envios ilicitos via aerea mayoria paises america central caribe producen niveles significativos hierba cannabis jamaica sigue siendo mayor productor cannabis caribe cultivo total planta cannabis estimado autoridades locales unas 15000</td>\n",
       "    </tr>\n",
       "    <tr>\n",
       "      <th>1758</th>\n",
       "      <td>También presenta responsabilidad individual, lo que significa que el éxito del equipo depende del aprendizaje individual, no de los productos grupales. Se debe considerar que el plan de estudios tiene en cuenta las diferencias individuales significativas y que es capaz de ampliar a cada alumno un poco más allá de su capacidad autodefinida (Dumont, Istance y Benavides, 2010). Sin embargo, dada la variación entre países en cuanto a quién tiene la responsabilidad de los currículos, es difícil proporcionar una dirección política clara sobre los currículos a nivel escolar. Los métodos de aprendizaje cooperativo, que implican que el maestro coloque a los estudiantes dentro de la misma clase en pequeños grupos temporales con habilidades mixtas que se enfocan en tareas que requieren que confíen en las habilidades de los demás, tienden a funcionar igualmente bien para todos los tipos de estudiantes (Slavin, 2010).</td>\n",
       "      <td>NaN</td>\n",
       "      <td>tambien presenta responsabilidad individual significa exito equipo depende aprendizaje individual productos grupales debe considerar plan estudios cuenta diferencias individuales significativas capaz ampliar cada alumno mas alla capacidad autodefinida dumont istance benavides two thousand and ten embargo dada variacion paises cuanto responsabilidad curriculos dificil proporcionar direccion politica clara curriculos nivel escolar metodos aprendizaje cooperativo implican maestro coloque estudiantes dentro misma clase pequenos grupos temporales habilidades mixtas enfocan tareas requieren confien habilidades demas tienden funcionar igualmente bien tipos estudiantes slavin two thousand and ten</td>\n",
       "    </tr>\n",
       "  </tbody>\n",
       "</table>\n",
       "<p>1759 rows × 3 columns</p>\n",
       "</div>"
      ],
      "text/plain": [
       "                                                                                                                                                                                                                                                                                                                                                                                                                                                                                                                                                                                                                                                                                                                                                                                                                                                                                                                                                                                                                                                                                                                                                                                                                                                                                                                                                                                                            Textos_espanol  \\\n",
       "0                                                                                                                                                                                                                                                                                                                                                                                                                                                                                                                   Se basa en los nueve años de educación básica (seis de primaria y tres de secundaria). Los alumnos que acceden al segundo ciclo de secundaria pueden ir a un centro de orientación más académica o a un centro de formación profesional. Esto se aplica tanto en el sistema islámico como en el no islámico. La enseñanza secundaria superior formal comprende la enseñanza general (sekolah menengah atas, o SMA), la enseñanza profesional (sekolah menengah kejuruan, o SMK), las escuelas secundarias superiores islámicas (madrasah aliyah, o MA) y la enseñanza profesional islámica (madrasah aliyah kejuruan, o MAK). Este capítulo se centra principalmente en la enseñanza secundaria superior académica, mientras que el capítulo 5 trata de la formación profesional. Se está trabajando en el desarrollo de colegios comunitarios y vías alternativas de acceso a la enseñanza superior.    \n",
       "1                                                                                                                                                                                                                                                                                                   En la última década, y en particular desde 2010, el número de altas per cápita ha tendido a disminuir, y ahora está en línea con la media de la OCDE mencionada anteriormente. Por ejemplo, los habitantes de zonas rurales representan el 43% de la población, pero sólo el 32% de las altas hospitalarias. A falta de información complementaria, no es posible determinar si esta diferencia indica o no disparidades en el acceso de las poblaciones rurales y, en caso afirmativo, si las causas son geográficas, culturales o infraestructurales. No parece que se recojan datos sobre el acceso a la atención desde el punto de vista del paciente, lo que ayudaría a comprender la naturaleza de los obstáculos al acceso (y las soluciones). En general, no es posible determinar con los datos disponibles si los ingresos o las características socioeconómicas de los pacientes influyen a la hora de llegar a las puertas del hospital o de ser ingresado. El acceso desigual probablemente se deba también a la incapacidad de los centros de las distintas regiones para prestar los mismos servicios.    \n",
       "2                                                                                                                                                                                                                                                                                                                                                                                                                                                                                                                                                                                      AsÃ, por ejemplo, el estigma asociado a los beneficiarios de prestaciones sociales o a los pobres aumenta su desventaja. Del mismo modo, los errores de dignidad y reconocimiento pueden causar desventajas.54 La infravaloración del trabajo de las mujeres es un error de reconocimiento que causa directamente desventajas socioeconómicas, por lo que el derecho a la igualdad de retribución por un trabajo de igual valor es una sÃntesis importante de las dos primeras dimensiones del derecho a la igualdad: reparar la desventaja y abordar el estigma y los estereotipos. Tanto el Comité de Derechos Económicos, Sociales y Culturales como el Comité para la Eliminación de la Discriminación contra la Mujer han dado este paso. Directrices para la presentación de informes\", párrafo 29, CDESC, Ecuador, op. cit.    \n",
       "3                                                     Hay muchos profesores no cualificados en las escuelas, ya que es difícil contratar a profesores cualificados. Un indicio del reconocimiento del importante papel de los profesores en este contexto es la inclusión por Alberta de preguntas adicionales en la Encuesta Internacional sobre la Enseñanza y el Aprendizaje de la OCDE de 2018 relativas a la comprensión por parte de los profesores y los lÃderes escolares de cuestiones relacionadas con las culturas indÃgenas, la historia y el trabajo con alumnos indÃgenas, asà como sobre el desarrollo profesional pertinente. El enfoque holÃstico de los pueblos indÃgenas hace hincapié en lo mucho que estos contribuyen al bienestar general de los niños, asà como al de todos los demás, además de factores como las ventajas y desventajas materiales. El trauma sufrido por los pueblos indígenas, incluso a través del sistema de escuelas residenciales, todavía es sentido agudamente por muchos. De hecho, se nos dijo que los síntomas del trauma pueden aumentar en lugar de disminuir con el paso del tiempo, exacerbados por las relaciones intergeneracionales. Frente a este panorama más amplio, pueden comprenderse mejor los estudios específicos de determinadas provincias y territorios, y la comparación entre jóvenes indígenas y no indígenas (Freeman, King y Pickett, 2016).    \n",
       "4                                                                                                                                                                                                                                                                                                                                                                                                                                                                                                                                                                                                                                                            A raíz de su preocupación por el hecho de que los médicos de todo el sistema sanitario japonés no fueran capaces de identificar los signos de sufrimiento psicológico que podrían ayudar a reducir los suicidios, la Asociación Médica Japonesa informa de que empezó a compartir información y orientaciones sobre la depresión con todos los médicos, primero en 2004 y luego de nuevo en 2009. En la actualidad, sólo se recogen indicadores sobre la tasa de reclusión y contención, y de ingresos involuntarios, por parte de los proveedores y a nivel prefectural. La información recopilada sistemáticamente sobre el sistema de atención de salud mental se limita a indicadores estructurales: instalaciones, número de personal, número de camas.    \n",
       "...                                                                                                                                                                                                                                                                                                                                                                                                                                                                                                                                                                                                                                                                                                                                                                                                                                                                                                                                                                                                                                                                                                                                                                                                                                                                                                                                                                                                                    ...   \n",
       "1754                                                                                                                                                                                                                                                                                                                                                                                                                                                                                                                                                                     O puede darse de baja llamando a XXXXXXX o visitando www. Un ensayo controlado aleatorizado similar de 2 años de duración entre 537 hombres indios asiáticos con prediabetes encontró que los mensajes de teléfono móvil eran un método aceptable para brindar asesoramiento y apoyo para la modificación del estilo de vida para prevenir la diabetes tipo 2 (Ramachandran, 2013). El ensayo fue el primero en mostrar el beneficio de esta tecnología en la prevención de la diabetes, con una reducción del 36 % en el riesgo relativo en comparación con la atención estándar en 2 años. Otro estudio piloto de 1 año de duración entre 200 pacientes con diabetes tipo 2 en la clínica mostró que los mensajes de teléfonos móviles sobre los principios del control de la diabetes ayudaron a mejorar los resultados de la atención médica.   \n",
       "1755  Considere establecer o fortalecer la capacidad de instituciones independientes (como Comisiones Independientes, Entidades Fiscalizadoras Superiores, Oficinas de Ombudsman) y órganos asesores (p. ej., consejos de Gobierno) para monitorear la implementación de estrategias de igualdad de género, integrar cuestiones de género en la formulación de políticas y facilitar informes regulares, auditorías y mediciones. Para ser eficaz, dicha supervisión debe llevarse a cabo de manera equilibrada y evitar enfoques prescriptivos para fomentar la mejora continua al tiempo que permite realizar un seguimiento del progreso en la igualdad de género. Por ejemplo, sobre la base de buenas prácticas y según corresponda, estas medidas pueden incluir requisitos de divulgación, cuotas, metas voluntarias, leyes de paridad, alternancia de sexos en la lista del partido y vinculación de las proporciones de género en los partidos políticos con su acceso a la financiación pública. Promover la contratación basada en el mérito, considerar políticas y prácticas positivas para garantizar una representación equilibrada de hombres y mujeres en cada grupo ocupacional en el empleo del sector público, y desarrollar medidas concretas para garantizar la eliminación efectiva de las barreras implícitas en los procesos de contratación y dotación de personal, donde apropiado y necesario.   \n",
       "1756                                                                                                                                                                                                                                                                                                                                                                                                                                                                                                                                                                                                                                                                                                                                                                                                                                                                                    Sin embargo, la calidad general del entorno de EAPI tuvo un efecto sobre los ingresos de los adultos. En muchos países, las proporciones entre el personal y los niños se han regulado con proporciones más altas entre el personal y los niños para los más pequeños y proporciones más bajas para los niños mayores (NICHD, 2002). Sin embargo, falta investigación sobre exactamente qué proporción es más favorable para mejorar la satisfacción laboral de los docentes, la calidad de la EAPI y los resultados de los niños.   \n",
       "1757                                                                                                                                                                                                                                                                                                                                                                                                                                                                                                                                                                                                                                                                                                                                                                                                                                                                                                                                                   Cada vez con más frecuencia, los traficantes de drogas utilizan números de registro de aeronaves robados o falsificados cuando transportan envíos ilícitos por vía aérea. En la mayoría de los países de América Central y el Caribe se producen niveles significativos de hierba de cannabis. Jamaica sigue siendo el mayor productor de cannabis en el Caribe, con un cultivo total de planta de cannabis estimado por las autoridades locales en unas 15.000 ha.   \n",
       "1758                                                                                                                                                                                                                                                                                                                                                                                                                                                                También presenta responsabilidad individual, lo que significa que el éxito del equipo depende del aprendizaje individual, no de los productos grupales. Se debe considerar que el plan de estudios tiene en cuenta las diferencias individuales significativas y que es capaz de ampliar a cada alumno un poco más allá de su capacidad autodefinida (Dumont, Istance y Benavides, 2010). Sin embargo, dada la variación entre países en cuanto a quién tiene la responsabilidad de los currículos, es difícil proporcionar una dirección política clara sobre los currículos a nivel escolar. Los métodos de aprendizaje cooperativo, que implican que el maestro coloque a los estudiantes dentro de la misma clase en pequeños grupos temporales con habilidades mixtas que se enfocan en tareas que requieren que confíen en las habilidades de los demás, tienden a funcionar igualmente bien para todos los tipos de estudiantes (Slavin, 2010).   \n",
       "\n",
       "      sdg  \\\n",
       "0     NaN   \n",
       "1     NaN   \n",
       "2     NaN   \n",
       "3     NaN   \n",
       "4     NaN   \n",
       "...   ...   \n",
       "1754  NaN   \n",
       "1755  NaN   \n",
       "1756  NaN   \n",
       "1757  NaN   \n",
       "1758  NaN   \n",
       "\n",
       "                                                                                                                                                                                                                                                                                                                                                                                                                                                                                                                                                                                                                                                                                                                                                                                                                                                                                                                                                                                                                                                                                                                                   words  \n",
       "0                                                                                                                                                                                                                                                                                                                                                                                                                             basa nueve anos educacion basica seis primaria tres secundaria alumnos acceden segundo ciclo secundaria pueden ir centro orientacion mas academica centro formacion profesional aplica sistema islamico islamico ensenanza secundaria superior formal comprende ensenanza general sekolah menengah atas sma ensenanza profesional sekolah menengah kejuruan smk escuelas secundarias superiores islamicas madrasah aliyah ma ensenanza profesional islamica madrasah aliyah kejuruan mak capitulo centra principalmente ensenanza secundaria superior academica mientras capitulo five trata formacion profesional trabajando desarrollo colegios comunitarios vias alternativas acceso ensenanza superior  \n",
       "1                                                                                                                                                                                                                                                                                                              ultima decada particular two thousand and ten numero altas per capita tendido disminuir ahora linea media ocde mencionada anteriormente ejemplo habitantes zonas rurales representan fortythree poblacion solo thirtytwo altas hospitalarias falta informacion complementaria posible determinar si diferencia indica disparidades acceso poblaciones rurales caso afirmativo si causas geograficas culturales infraestructurales parece recojan datos acceso atencion punto vista paciente ayudaria comprender naturaleza obstaculos acceso soluciones general posible determinar datos disponibles si ingresos caracteristicas socioeconomicas pacientes influyen hora llegar puertas hospital ser ingresado acceso desigual probablemente deba tambien incapacidad centros distintas regiones prestar mismos servicios  \n",
       "2                                                                                                                                                                                                                                                                                                                                                                                                                                                                                                                        asa ejemplo estigma asociado beneficiarios prestaciones sociales pobres aumenta desventaja mismo modo errores dignidad reconocimiento pueden causar desventajas54 infravaloracion trabajo mujeres error reconocimiento causa directamente desventajas socioeconomicas derecho igualdad retribucion trabajo igual valor santesis importante dos primeras dimensiones derecho igualdad reparar desventaja abordar estigma estereotipos comite derechos economicos sociales culturales comite eliminacion discriminacion mujer dado paso directrices presentacion informes parrafo twentynine cdesc ecuador op cit  \n",
       "3                                                                                                                        profesores cualificados escuelas dificil contratar profesores cualificados indicio reconocimiento importante papel profesores contexto inclusion alberta preguntas adicionales encuesta internacional ensenanza aprendizaje ocde two thousand and eighteen relativas comprension parte profesores laderes escolares cuestiones relacionadas culturas indagenas historia trabajo alumnos indagenas asa desarrollo profesional pertinente enfoque holastico pueblos indagenas hace hincapie contribuyen bienestar general ninos asa demas ademas factores ventajas desventajas materiales trauma sufrido pueblos indigenas incluso traves sistema escuelas residenciales todavia agudamente hecho dijo sintomas trauma pueden aumentar lugar disminuir paso tiempo exacerbados relaciones intergeneracionales frente panorama mas amplio pueden comprenderse mejor estudios especificos determinadas provincias territorios comparacion jovenes indigenas indigenas freeman king pickett two thousand and sixteen  \n",
       "4                                                                                                                                                                                                                                                                                                                                                                                                                                                                                                                                               raiz preocupacion hecho medicos sistema sanitario japones capaces identificar signos sufrimiento psicologico podrian ayudar reducir suicidios asociacion medica japonesa informa empezo compartir informacion orientaciones depresion medicos primero two thousand and four luego nuevo two thousand and nine actualidad solo recogen indicadores tasa reclusion contencion ingresos involuntarios parte proveedores nivel prefectural informacion recopilada sistematicamente sistema atencion salud mental limita indicadores estructurales instalaciones numero personal numero camas  \n",
       "...                                                                                                                                                                                                                                                                                                                                                                                                                                                                                                                                                                                                                                                                                                                                                                                                                                                                                                                                                                                                                                                                                                                                  ...  \n",
       "1754                                                                                                                                                                                                                                                                                                                                                                                                                                            puede darse baja llamando xxxxxxx visitando www ensayo controlado aleatorizado similar two anos duracion five hundred and thirtyseven hombres indios asiaticos prediabetes encontro mensajes telefono movil metodo aceptable brindar asesoramiento apoyo modificacion estilo vida prevenir diabetes tipo two ramachandran two thousand and thirteen ensayo primero mostrar beneficio tecnologia prevencion diabetes reduccion thirtysix riesgo relativo comparacion atencion estandar two anos estudio piloto one ano duracion two hundred pacientes diabetes tipo two clinica mostro mensajes telefonos moviles principios control diabetes ayudaron mejorar resultados atencion medica  \n",
       "1755  considere establecer fortalecer capacidad instituciones independientes comisiones independientes entidades fiscalizadoras superiores oficinas ombudsman organos asesores p ej consejos gobierno monitorear implementacion estrategias igualdad genero integrar cuestiones genero formulacion politicas facilitar informes regulares auditorias mediciones ser eficaz dicha supervision debe llevarse cabo manera equilibrada evitar enfoques prescriptivos fomentar mejora continua tiempo permite realizar seguimiento progreso igualdad genero ejemplo base buenas practicas segun corresponda medidas pueden incluir requisitos divulgacion cuotas metas voluntarias leyes paridad alternancia sexos lista partido vinculacion proporciones genero partidos politicos acceso financiacion publica promover contratacion basada merito considerar politicas practicas positivas garantizar representacion equilibrada hombres mujeres cada grupo ocupacional empleo sector publico desarrollar medidas concretas garantizar eliminacion efectiva barreras implicitas procesos contratacion dotacion personal apropiado necesario  \n",
       "1756                                                                                                                                                                                                                                                                                                                                                                                                                                                                                                                                                                                                                                                                                                                                                                    embargo calidad general entorno eapi efecto ingresos adultos paises proporciones personal ninos regulado proporciones mas altas personal ninos mas pequenos proporciones mas bajas ninos mayores nichd two thousand and two embargo falta investigacion exactamente proporcion mas favorable mejorar satisfaccion laboral docentes calidad eapi resultados ninos  \n",
       "1757                                                                                                                                                                                                                                                                                                                                                                                                                                                                                                                                                                                                                                                                                                                                                                          cada vez mas frecuencia traficantes drogas utilizan numeros registro aeronaves robados falsificados transportan envios ilicitos via aerea mayoria paises america central caribe producen niveles significativos hierba cannabis jamaica sigue siendo mayor productor cannabis caribe cultivo total planta cannabis estimado autoridades locales unas 15000  \n",
       "1758                                                                                                                                                                                                                                                                                                                                                                                                           tambien presenta responsabilidad individual significa exito equipo depende aprendizaje individual productos grupales debe considerar plan estudios cuenta diferencias individuales significativas capaz ampliar cada alumno mas alla capacidad autodefinida dumont istance benavides two thousand and ten embargo dada variacion paises cuanto responsabilidad curriculos dificil proporcionar direccion politica clara curriculos nivel escolar metodos aprendizaje cooperativo implican maestro coloque estudiantes dentro misma clase pequenos grupos temporales habilidades mixtas enfocan tareas requieren confien habilidades demas tienden funcionar igualmente bien tipos estudiantes slavin two thousand and ten  \n",
       "\n",
       "[1759 rows x 3 columns]"
      ]
     },
     "execution_count": 1074,
     "metadata": {},
     "output_type": "execute_result"
    }
   ],
   "source": [
    "data_t_nuevo['words'] = data_t_nuevo['words'].apply(lambda x: ' '.join(map(str, x)))\n",
    "data_t_nuevo"
   ]
  },
  {
   "cell_type": "code",
   "execution_count": 1075,
   "metadata": {},
   "outputs": [],
   "source": [
    "data_t.to_csv('datos_limpios.csv', index=False)"
   ]
  },
  {
   "cell_type": "markdown",
   "metadata": {},
   "source": [
    "### 3. Entrenamiento del modelo con TF_IDF"
   ]
  },
  {
   "cell_type": "markdown",
   "metadata": {},
   "source": [
    "En TF-IDF Los valores no son necesariamente enteros, ya que dependen de la frecuencia de un término en un documento específico y en la colección de documentos en su conjunto."
   ]
  },
  {
   "cell_type": "markdown",
   "metadata": {},
   "source": [
    "#### 3.1 Data splitting"
   ]
  },
  {
   "cell_type": "code",
   "execution_count": 1076,
   "metadata": {},
   "outputs": [],
   "source": [
    "X_train, X_test, y_train, y_test = train_test_split(data_t[[\"words\"]], data_t[\"sdg\"], random_state=1, stratify=data_t['sdg'])"
   ]
  },
  {
   "cell_type": "code",
   "execution_count": 1077,
   "metadata": {},
   "outputs": [
    {
     "data": {
      "text/plain": [
       "((2250, 1), (750, 1))"
      ]
     },
     "execution_count": 1077,
     "metadata": {},
     "output_type": "execute_result"
    }
   ],
   "source": [
    "X_train.shape, X_test.shape"
   ]
  },
  {
   "cell_type": "code",
   "execution_count": 1078,
   "metadata": {},
   "outputs": [
    {
     "data": {
      "text/plain": [
       "((2250,), (750,))"
      ]
     },
     "execution_count": 1078,
     "metadata": {},
     "output_type": "execute_result"
    }
   ],
   "source": [
    "y_train.shape, y_test.shape"
   ]
  },
  {
   "cell_type": "code",
   "execution_count": 1079,
   "metadata": {},
   "outputs": [
    {
     "data": {
      "text/plain": [
       "876     3\n",
       "2518    5\n",
       "2775    5\n",
       "1910    4\n",
       "2776    5\n",
       "Name: sdg, dtype: int64"
      ]
     },
     "execution_count": 1079,
     "metadata": {},
     "output_type": "execute_result"
    }
   ],
   "source": [
    "#ver los primeros datos de entrenamiento\n",
    "y_train[:5]"
   ]
  },
  {
   "cell_type": "code",
   "execution_count": 1080,
   "metadata": {},
   "outputs": [
    {
     "data": {
      "text/plain": [
       "sdg\n",
       "3    0.333333\n",
       "5    0.333333\n",
       "4    0.333333\n",
       "Name: proportion, dtype: float64"
      ]
     },
     "execution_count": 1080,
     "metadata": {},
     "output_type": "execute_result"
    }
   ],
   "source": [
    "pd.Series(y_train).value_counts(normalize=True)"
   ]
  },
  {
   "cell_type": "code",
   "execution_count": 1081,
   "metadata": {},
   "outputs": [
    {
     "data": {
      "text/plain": [
       "sdg\n",
       "4    0.333333\n",
       "5    0.333333\n",
       "3    0.333333\n",
       "Name: proportion, dtype: float64"
      ]
     },
     "execution_count": 1081,
     "metadata": {},
     "output_type": "execute_result"
    }
   ],
   "source": [
    "pd.Series(y_test).value_counts(normalize=True)"
   ]
  },
  {
   "cell_type": "markdown",
   "metadata": {},
   "source": [
    "#### 3.2 Vectorización del texto"
   ]
  },
  {
   "cell_type": "code",
   "execution_count": 1082,
   "metadata": {},
   "outputs": [
    {
     "name": "stdout",
     "output_type": "stream",
     "text": [
      "(2250, 15111)\n",
      "Vocabulary size: 15111\n"
     ]
    }
   ],
   "source": [
    "# Supongamos que tienes un DataFrame llamado 'df' con una columna 'words' que contiene tus textos preprocesados.\n",
    "texts = X_train['words']\n",
    "\n",
    "\n",
    "# Crea una instancia de TfidfVectorizer\n",
    "tfidf_vectorizer = TfidfVectorizer(tokenizer=word_tokenize,  # Número máximo de características (ajusta según sea necesario)\n",
    "                                   stop_words= stop_words, # Especifica las stop words\n",
    "                                   lowercase=True)\n",
    "\n",
    "# Ajusta y transforma tus datos de texto\n",
    "X_tfidf = tfidf_vectorizer.fit_transform(texts)\n",
    "\n",
    "\n",
    "# tfidf_matrix es una matriz que contiene las representaciones TF-IDF de tus textos\n",
    "\n",
    "print(X_tfidf.shape)\n",
    "\n",
    "print(\"Vocabulary size:\", len(tfidf_vectorizer.vocabulary_))\n"
   ]
  },
  {
   "cell_type": "markdown",
   "metadata": {},
   "source": [
    "### 3.3 Selección del modelo"
   ]
  },
  {
   "cell_type": "markdown",
   "metadata": {},
   "source": [
    "### Primer modelo"
   ]
  },
  {
   "cell_type": "code",
   "execution_count": 1083,
   "metadata": {},
   "outputs": [],
   "source": [
    "tfidf_model = RandomForestClassifier(random_state=3)"
   ]
  },
  {
   "cell_type": "code",
   "execution_count": 1084,
   "metadata": {},
   "outputs": [
    {
     "name": "stdout",
     "output_type": "stream",
     "text": [
      "Shape de X_tfidf: (2250, 1)\n",
      "Shape de y_train: (2250,)\n",
      "Shape de y_test: (750,)\n",
      "Ejemplos de y_train: 876     3\n",
      "2518    5\n",
      "2775    5\n",
      "1910    4\n",
      "2776    5\n",
      "2642    5\n",
      "2251    5\n",
      "1442    4\n",
      "1028    4\n",
      "1592    4\n",
      "Name: sdg, dtype: int64\n",
      "Ejemplos de y_test: 1731    4\n",
      "1436    4\n",
      "2611    5\n",
      "2211    5\n",
      "2955    5\n",
      "1247    4\n",
      "777     3\n",
      "1253    4\n",
      "1244    4\n",
      "2180    5\n",
      "Name: sdg, dtype: int64\n"
     ]
    }
   ],
   "source": [
    "print(\"Shape de X_tfidf:\", X_train.shape)\n",
    "print(\"Shape de y_train:\", y_train.shape)\n",
    "print(\"Shape de y_test:\", y_test.shape)\n",
    "print(\"Ejemplos de y_train:\", y_train[:10])  # Imprime las primeras 10 etiquetas\n",
    "print(\"Ejemplos de y_test:\", y_test[:10])    # Imprime las primeras 10 etiquetas"
   ]
  },
  {
   "cell_type": "code",
   "execution_count": 1085,
   "metadata": {},
   "outputs": [
    {
     "data": {
      "text/html": [
       "<style>#sk-container-id-58 {color: black;}#sk-container-id-58 pre{padding: 0;}#sk-container-id-58 div.sk-toggleable {background-color: white;}#sk-container-id-58 label.sk-toggleable__label {cursor: pointer;display: block;width: 100%;margin-bottom: 0;padding: 0.3em;box-sizing: border-box;text-align: center;}#sk-container-id-58 label.sk-toggleable__label-arrow:before {content: \"▸\";float: left;margin-right: 0.25em;color: #696969;}#sk-container-id-58 label.sk-toggleable__label-arrow:hover:before {color: black;}#sk-container-id-58 div.sk-estimator:hover label.sk-toggleable__label-arrow:before {color: black;}#sk-container-id-58 div.sk-toggleable__content {max-height: 0;max-width: 0;overflow: hidden;text-align: left;background-color: #f0f8ff;}#sk-container-id-58 div.sk-toggleable__content pre {margin: 0.2em;color: black;border-radius: 0.25em;background-color: #f0f8ff;}#sk-container-id-58 input.sk-toggleable__control:checked~div.sk-toggleable__content {max-height: 200px;max-width: 100%;overflow: auto;}#sk-container-id-58 input.sk-toggleable__control:checked~label.sk-toggleable__label-arrow:before {content: \"▾\";}#sk-container-id-58 div.sk-estimator input.sk-toggleable__control:checked~label.sk-toggleable__label {background-color: #d4ebff;}#sk-container-id-58 div.sk-label input.sk-toggleable__control:checked~label.sk-toggleable__label {background-color: #d4ebff;}#sk-container-id-58 input.sk-hidden--visually {border: 0;clip: rect(1px 1px 1px 1px);clip: rect(1px, 1px, 1px, 1px);height: 1px;margin: -1px;overflow: hidden;padding: 0;position: absolute;width: 1px;}#sk-container-id-58 div.sk-estimator {font-family: monospace;background-color: #f0f8ff;border: 1px dotted black;border-radius: 0.25em;box-sizing: border-box;margin-bottom: 0.5em;}#sk-container-id-58 div.sk-estimator:hover {background-color: #d4ebff;}#sk-container-id-58 div.sk-parallel-item::after {content: \"\";width: 100%;border-bottom: 1px solid gray;flex-grow: 1;}#sk-container-id-58 div.sk-label:hover label.sk-toggleable__label {background-color: #d4ebff;}#sk-container-id-58 div.sk-serial::before {content: \"\";position: absolute;border-left: 1px solid gray;box-sizing: border-box;top: 0;bottom: 0;left: 50%;z-index: 0;}#sk-container-id-58 div.sk-serial {display: flex;flex-direction: column;align-items: center;background-color: white;padding-right: 0.2em;padding-left: 0.2em;position: relative;}#sk-container-id-58 div.sk-item {position: relative;z-index: 1;}#sk-container-id-58 div.sk-parallel {display: flex;align-items: stretch;justify-content: center;background-color: white;position: relative;}#sk-container-id-58 div.sk-item::before, #sk-container-id-58 div.sk-parallel-item::before {content: \"\";position: absolute;border-left: 1px solid gray;box-sizing: border-box;top: 0;bottom: 0;left: 50%;z-index: -1;}#sk-container-id-58 div.sk-parallel-item {display: flex;flex-direction: column;z-index: 1;position: relative;background-color: white;}#sk-container-id-58 div.sk-parallel-item:first-child::after {align-self: flex-end;width: 50%;}#sk-container-id-58 div.sk-parallel-item:last-child::after {align-self: flex-start;width: 50%;}#sk-container-id-58 div.sk-parallel-item:only-child::after {width: 0;}#sk-container-id-58 div.sk-dashed-wrapped {border: 1px dashed gray;margin: 0 0.4em 0.5em 0.4em;box-sizing: border-box;padding-bottom: 0.4em;background-color: white;}#sk-container-id-58 div.sk-label label {font-family: monospace;font-weight: bold;display: inline-block;line-height: 1.2em;}#sk-container-id-58 div.sk-label-container {text-align: center;}#sk-container-id-58 div.sk-container {/* jupyter's `normalize.less` sets `[hidden] { display: none; }` but bootstrap.min.css set `[hidden] { display: none !important; }` so we also need the `!important` here to be able to override the default hidden behavior on the sphinx rendered scikit-learn.org. See: https://github.com/scikit-learn/scikit-learn/issues/21755 */display: inline-block !important;position: relative;}#sk-container-id-58 div.sk-text-repr-fallback {display: none;}</style><div id=\"sk-container-id-58\" class=\"sk-top-container\"><div class=\"sk-text-repr-fallback\"><pre>RandomForestClassifier(random_state=3)</pre><b>In a Jupyter environment, please rerun this cell to show the HTML representation or trust the notebook. <br />On GitHub, the HTML representation is unable to render, please try loading this page with nbviewer.org.</b></div><div class=\"sk-container\" hidden><div class=\"sk-item\"><div class=\"sk-estimator sk-toggleable\"><input class=\"sk-toggleable__control sk-hidden--visually\" id=\"sk-estimator-id-130\" type=\"checkbox\" checked><label for=\"sk-estimator-id-130\" class=\"sk-toggleable__label sk-toggleable__label-arrow\">RandomForestClassifier</label><div class=\"sk-toggleable__content\"><pre>RandomForestClassifier(random_state=3)</pre></div></div></div></div></div>"
      ],
      "text/plain": [
       "RandomForestClassifier(random_state=3)"
      ]
     },
     "execution_count": 1085,
     "metadata": {},
     "output_type": "execute_result"
    }
   ],
   "source": [
    "tfidf_model.fit(X_tfidf, y_train)"
   ]
  },
  {
   "cell_type": "code",
   "execution_count": 1086,
   "metadata": {},
   "outputs": [
    {
     "data": {
      "text/plain": [
       "<Axes: >"
      ]
     },
     "execution_count": 1086,
     "metadata": {},
     "output_type": "execute_result"
    },
    {
     "data": {
      "image/png": "[encoded data removed]",
      "text/plain": [
       "<Figure size 1500x1000 with 1 Axes>"
      ]
     },
     "metadata": {},
     "output_type": "display_data"
    }
   ],
   "source": [
    "pd.Series(tfidf_model.feature_importances_, index=tfidf_vectorizer.vocabulary_).sort_values().tail(20).plot.barh(figsize=(15, 10))"
   ]
  },
  {
   "cell_type": "code",
   "execution_count": 1087,
   "metadata": {},
   "outputs": [
    {
     "name": "stdout",
     "output_type": "stream",
     "text": [
      "Number of trees: 100\n",
      "Trees depth (mean): 98.46\n"
     ]
    }
   ],
   "source": [
    "tfidf_estimators = tfidf_model.estimators_\n",
    "print(\"Number of trees:\", len(tfidf_estimators))\n",
    "print(\"Trees depth (mean):\", np.mean([tree.get_depth() for tree in tfidf_estimators]))"
   ]
  },
  {
   "cell_type": "code",
   "execution_count": 1088,
   "metadata": {},
   "outputs": [],
   "source": [
    "\n",
    "# predicciones en función de las características de entrenamiento vectorizadas\n",
    "y_train_tfidf_predict = tfidf_model.predict(X_tfidf)\n",
    "# predicciones en función de las características de prueba vectorizadas en X_test[\"words\"]\n",
    "y_test_tfidf_predict = tfidf_model.predict(tfidf_vectorizer.transform(X_test[\"words\"]))"
   ]
  },
  {
   "cell_type": "code",
   "execution_count": 1089,
   "metadata": {},
   "outputs": [
    {
     "data": {
      "text/plain": [
       "<sklearn.metrics._plot.confusion_matrix.ConfusionMatrixDisplay at 0x2e5ffa7a0>"
      ]
     },
     "execution_count": 1089,
     "metadata": {},
     "output_type": "execute_result"
    },
    {
     "data": {
      "image/png": "[encoded data removed]",
      "text/plain": [
       "<Figure size 640x480 with 2 Axes>"
      ]
     },
     "metadata": {},
     "output_type": "display_data"
    }
   ],
   "source": [
    "ConfusionMatrixDisplay.from_predictions(y_train, y_train_tfidf_predict)"
   ]
  },
  {
   "cell_type": "code",
   "execution_count": 1090,
   "metadata": {},
   "outputs": [
    {
     "data": {
      "text/plain": [
       "<sklearn.metrics._plot.confusion_matrix.ConfusionMatrixDisplay at 0x2e1cc5780>"
      ]
     },
     "execution_count": 1090,
     "metadata": {},
     "output_type": "execute_result"
    },
    {
     "data": {
      "image/png": "[encoded data removed]",
      "text/plain": [
       "<Figure size 640x480 with 2 Axes>"
      ]
     },
     "metadata": {},
     "output_type": "display_data"
    }
   ],
   "source": [
    "ConfusionMatrixDisplay.from_predictions(y_test, y_test_tfidf_predict)"
   ]
  },
  {
   "cell_type": "markdown",
   "metadata": {},
   "source": [
    "#### Métricas para del data frame de entrenamiento"
   ]
  },
  {
   "cell_type": "code",
   "execution_count": 1091,
   "metadata": {},
   "outputs": [
    {
     "name": "stdout",
     "output_type": "stream",
     "text": [
      "Precision (weighted): 1.0\n",
      "Recall (weighted): 1.0\n",
      "F1 (weighted): 1.0\n"
     ]
    }
   ],
   "source": [
    "print(\"Precision (weighted):\", precision_score(y_train, y_train_tfidf_predict, average='weighted'))\n",
    "print(\"Recall (weighted):\", recall_score(y_train, y_train_tfidf_predict, average='weighted'))\n",
    "print(\"F1 (weighted):\", f1_score(y_train, y_train_tfidf_predict, average='weighted'))\n"
   ]
  },
  {
   "cell_type": "markdown",
   "metadata": {},
   "source": [
    "#### Métricas para de data frame de prueba"
   ]
  },
  {
   "cell_type": "code",
   "execution_count": 1092,
   "metadata": {},
   "outputs": [
    {
     "name": "stdout",
     "output_type": "stream",
     "text": [
      "Precision (weighted): 0.9734176980182174\n",
      "Recall (weighted): 0.9733333333333334\n",
      "F1 (weighted): 0.9733266512270969\n"
     ]
    }
   ],
   "source": [
    "print(\"Precision (weighted):\", precision_score(y_test, y_test_tfidf_predict, average='weighted'))\n",
    "print(\"Recall (weighted):\", recall_score(y_test, y_test_tfidf_predict, average='weighted'))\n",
    "print(\"F1 (weighted):\", f1_score(y_test, y_test_tfidf_predict, average='weighted'))"
   ]
  },
  {
   "cell_type": "markdown",
   "metadata": {},
   "source": [
    "### Segundo modelo"
   ]
  },
  {
   "cell_type": "code",
   "execution_count": 1093,
   "metadata": {},
   "outputs": [],
   "source": [
    "X_train_1=X_train\n",
    "X_test_1=X_test\n",
    "y_train_1=y_train\n",
    "y_test_1=y_test"
   ]
  },
  {
   "cell_type": "code",
   "execution_count": 1094,
   "metadata": {},
   "outputs": [],
   "source": [
    "parametros_1 = {\n",
    "    \"vectorizer\": TfidfVectorizer(tokenizer=word_tokenize, stop_words=stop_words),\n",
    "    \"vectorizer__lowercase\": True,\n",
    "    \"classifier__n_estimators\": 100,\n",
    "    \"classifier__criterion\": 'gini',\n",
    "    \"classifier__max_depth\": 50\n",
    "}"
   ]
  },
  {
   "cell_type": "code",
   "execution_count": 1095,
   "metadata": {},
   "outputs": [],
   "source": [
    "pipeline_1 = Pipeline(steps=[\n",
    "    (\"vectorizer\", parametros_1[\"vectorizer\"]),\n",
    "    (\"classifier\", RandomForestClassifier(\n",
    "        n_estimators=parametros_1[\"classifier__n_estimators\"],\n",
    "        criterion=parametros_1[\"classifier__criterion\"],\n",
    "        max_depth=parametros_1[\"classifier__max_depth\"],\n",
    "        random_state=4\n",
    "    ))\n",
    "])"
   ]
  },
  {
   "cell_type": "code",
   "execution_count": 1096,
   "metadata": {},
   "outputs": [
    {
     "data": {
      "text/html": [
       "<style>#sk-container-id-59 {color: black;}#sk-container-id-59 pre{padding: 0;}#sk-container-id-59 div.sk-toggleable {background-color: white;}#sk-container-id-59 label.sk-toggleable__label {cursor: pointer;display: block;width: 100%;margin-bottom: 0;padding: 0.3em;box-sizing: border-box;text-align: center;}#sk-container-id-59 label.sk-toggleable__label-arrow:before {content: \"▸\";float: left;margin-right: 0.25em;color: #696969;}#sk-container-id-59 label.sk-toggleable__label-arrow:hover:before {color: black;}#sk-container-id-59 div.sk-estimator:hover label.sk-toggleable__label-arrow:before {color: black;}#sk-container-id-59 div.sk-toggleable__content {max-height: 0;max-width: 0;overflow: hidden;text-align: left;background-color: #f0f8ff;}#sk-container-id-59 div.sk-toggleable__content pre {margin: 0.2em;color: black;border-radius: 0.25em;background-color: #f0f8ff;}#sk-container-id-59 input.sk-toggleable__control:checked~div.sk-toggleable__content {max-height: 200px;max-width: 100%;overflow: auto;}#sk-container-id-59 input.sk-toggleable__control:checked~label.sk-toggleable__label-arrow:before {content: \"▾\";}#sk-container-id-59 div.sk-estimator input.sk-toggleable__control:checked~label.sk-toggleable__label {background-color: #d4ebff;}#sk-container-id-59 div.sk-label input.sk-toggleable__control:checked~label.sk-toggleable__label {background-color: #d4ebff;}#sk-container-id-59 input.sk-hidden--visually {border: 0;clip: rect(1px 1px 1px 1px);clip: rect(1px, 1px, 1px, 1px);height: 1px;margin: -1px;overflow: hidden;padding: 0;position: absolute;width: 1px;}#sk-container-id-59 div.sk-estimator {font-family: monospace;background-color: #f0f8ff;border: 1px dotted black;border-radius: 0.25em;box-sizing: border-box;margin-bottom: 0.5em;}#sk-container-id-59 div.sk-estimator:hover {background-color: #d4ebff;}#sk-container-id-59 div.sk-parallel-item::after {content: \"\";width: 100%;border-bottom: 1px solid gray;flex-grow: 1;}#sk-container-id-59 div.sk-label:hover label.sk-toggleable__label {background-color: #d4ebff;}#sk-container-id-59 div.sk-serial::before {content: \"\";position: absolute;border-left: 1px solid gray;box-sizing: border-box;top: 0;bottom: 0;left: 50%;z-index: 0;}#sk-container-id-59 div.sk-serial {display: flex;flex-direction: column;align-items: center;background-color: white;padding-right: 0.2em;padding-left: 0.2em;position: relative;}#sk-container-id-59 div.sk-item {position: relative;z-index: 1;}#sk-container-id-59 div.sk-parallel {display: flex;align-items: stretch;justify-content: center;background-color: white;position: relative;}#sk-container-id-59 div.sk-item::before, #sk-container-id-59 div.sk-parallel-item::before {content: \"\";position: absolute;border-left: 1px solid gray;box-sizing: border-box;top: 0;bottom: 0;left: 50%;z-index: -1;}#sk-container-id-59 div.sk-parallel-item {display: flex;flex-direction: column;z-index: 1;position: relative;background-color: white;}#sk-container-id-59 div.sk-parallel-item:first-child::after {align-self: flex-end;width: 50%;}#sk-container-id-59 div.sk-parallel-item:last-child::after {align-self: flex-start;width: 50%;}#sk-container-id-59 div.sk-parallel-item:only-child::after {width: 0;}#sk-container-id-59 div.sk-dashed-wrapped {border: 1px dashed gray;margin: 0 0.4em 0.5em 0.4em;box-sizing: border-box;padding-bottom: 0.4em;background-color: white;}#sk-container-id-59 div.sk-label label {font-family: monospace;font-weight: bold;display: inline-block;line-height: 1.2em;}#sk-container-id-59 div.sk-label-container {text-align: center;}#sk-container-id-59 div.sk-container {/* jupyter's `normalize.less` sets `[hidden] { display: none; }` but bootstrap.min.css set `[hidden] { display: none !important; }` so we also need the `!important` here to be able to override the default hidden behavior on the sphinx rendered scikit-learn.org. See: https://github.com/scikit-learn/scikit-learn/issues/21755 */display: inline-block !important;position: relative;}#sk-container-id-59 div.sk-text-repr-fallback {display: none;}</style><div id=\"sk-container-id-59\" class=\"sk-top-container\"><div class=\"sk-text-repr-fallback\"><pre>Pipeline(steps=[(&#x27;vectorizer&#x27;,\n",
       "                 TfidfVectorizer(stop_words=[&#x27;de&#x27;, &#x27;la&#x27;, &#x27;que&#x27;, &#x27;el&#x27;, &#x27;en&#x27;, &#x27;y&#x27;,\n",
       "                                             &#x27;a&#x27;, &#x27;los&#x27;, &#x27;del&#x27;, &#x27;se&#x27;, &#x27;las&#x27;,\n",
       "                                             &#x27;por&#x27;, &#x27;un&#x27;, &#x27;para&#x27;, &#x27;con&#x27;, &#x27;no&#x27;,\n",
       "                                             &#x27;una&#x27;, &#x27;su&#x27;, &#x27;al&#x27;, &#x27;lo&#x27;, &#x27;como&#x27;,\n",
       "                                             &#x27;más&#x27;, &#x27;pero&#x27;, &#x27;sus&#x27;, &#x27;le&#x27;, &#x27;ya&#x27;,\n",
       "                                             &#x27;o&#x27;, &#x27;este&#x27;, &#x27;sí&#x27;, &#x27;porque&#x27;, ...],\n",
       "                                 tokenizer=&lt;function word_tokenize at 0x12f1f9240&gt;)),\n",
       "                (&#x27;classifier&#x27;,\n",
       "                 RandomForestClassifier(max_depth=50, random_state=4))])</pre><b>In a Jupyter environment, please rerun this cell to show the HTML representation or trust the notebook. <br />On GitHub, the HTML representation is unable to render, please try loading this page with nbviewer.org.</b></div><div class=\"sk-container\" hidden><div class=\"sk-item sk-dashed-wrapped\"><div class=\"sk-label-container\"><div class=\"sk-label sk-toggleable\"><input class=\"sk-toggleable__control sk-hidden--visually\" id=\"sk-estimator-id-131\" type=\"checkbox\" ><label for=\"sk-estimator-id-131\" class=\"sk-toggleable__label sk-toggleable__label-arrow\">Pipeline</label><div class=\"sk-toggleable__content\"><pre>Pipeline(steps=[(&#x27;vectorizer&#x27;,\n",
       "                 TfidfVectorizer(stop_words=[&#x27;de&#x27;, &#x27;la&#x27;, &#x27;que&#x27;, &#x27;el&#x27;, &#x27;en&#x27;, &#x27;y&#x27;,\n",
       "                                             &#x27;a&#x27;, &#x27;los&#x27;, &#x27;del&#x27;, &#x27;se&#x27;, &#x27;las&#x27;,\n",
       "                                             &#x27;por&#x27;, &#x27;un&#x27;, &#x27;para&#x27;, &#x27;con&#x27;, &#x27;no&#x27;,\n",
       "                                             &#x27;una&#x27;, &#x27;su&#x27;, &#x27;al&#x27;, &#x27;lo&#x27;, &#x27;como&#x27;,\n",
       "                                             &#x27;más&#x27;, &#x27;pero&#x27;, &#x27;sus&#x27;, &#x27;le&#x27;, &#x27;ya&#x27;,\n",
       "                                             &#x27;o&#x27;, &#x27;este&#x27;, &#x27;sí&#x27;, &#x27;porque&#x27;, ...],\n",
       "                                 tokenizer=&lt;function word_tokenize at 0x12f1f9240&gt;)),\n",
       "                (&#x27;classifier&#x27;,\n",
       "                 RandomForestClassifier(max_depth=50, random_state=4))])</pre></div></div></div><div class=\"sk-serial\"><div class=\"sk-item\"><div class=\"sk-estimator sk-toggleable\"><input class=\"sk-toggleable__control sk-hidden--visually\" id=\"sk-estimator-id-132\" type=\"checkbox\" ><label for=\"sk-estimator-id-132\" class=\"sk-toggleable__label sk-toggleable__label-arrow\">TfidfVectorizer</label><div class=\"sk-toggleable__content\"><pre>TfidfVectorizer(stop_words=[&#x27;de&#x27;, &#x27;la&#x27;, &#x27;que&#x27;, &#x27;el&#x27;, &#x27;en&#x27;, &#x27;y&#x27;, &#x27;a&#x27;, &#x27;los&#x27;,\n",
       "                            &#x27;del&#x27;, &#x27;se&#x27;, &#x27;las&#x27;, &#x27;por&#x27;, &#x27;un&#x27;, &#x27;para&#x27;, &#x27;con&#x27;,\n",
       "                            &#x27;no&#x27;, &#x27;una&#x27;, &#x27;su&#x27;, &#x27;al&#x27;, &#x27;lo&#x27;, &#x27;como&#x27;, &#x27;más&#x27;,\n",
       "                            &#x27;pero&#x27;, &#x27;sus&#x27;, &#x27;le&#x27;, &#x27;ya&#x27;, &#x27;o&#x27;, &#x27;este&#x27;, &#x27;sí&#x27;,\n",
       "                            &#x27;porque&#x27;, ...],\n",
       "                tokenizer=&lt;function word_tokenize at 0x12f1f9240&gt;)</pre></div></div></div><div class=\"sk-item\"><div class=\"sk-estimator sk-toggleable\"><input class=\"sk-toggleable__control sk-hidden--visually\" id=\"sk-estimator-id-133\" type=\"checkbox\" ><label for=\"sk-estimator-id-133\" class=\"sk-toggleable__label sk-toggleable__label-arrow\">RandomForestClassifier</label><div class=\"sk-toggleable__content\"><pre>RandomForestClassifier(max_depth=50, random_state=4)</pre></div></div></div></div></div></div></div>"
      ],
      "text/plain": [
       "Pipeline(steps=[('vectorizer',\n",
       "                 TfidfVectorizer(stop_words=['de', 'la', 'que', 'el', 'en', 'y',\n",
       "                                             'a', 'los', 'del', 'se', 'las',\n",
       "                                             'por', 'un', 'para', 'con', 'no',\n",
       "                                             'una', 'su', 'al', 'lo', 'como',\n",
       "                                             'más', 'pero', 'sus', 'le', 'ya',\n",
       "                                             'o', 'este', 'sí', 'porque', ...],\n",
       "                                 tokenizer=<function word_tokenize at 0x12f1f9240>)),\n",
       "                ('classifier',\n",
       "                 RandomForestClassifier(max_depth=50, random_state=4))])"
      ]
     },
     "execution_count": 1096,
     "metadata": {},
     "output_type": "execute_result"
    }
   ],
   "source": [
    "# Entrena el modelo con tus datos\n",
    "pipeline_1.fit(X_train_1[\"words\"], y_train_1)"
   ]
  },
  {
   "cell_type": "code",
   "execution_count": 1097,
   "metadata": {},
   "outputs": [],
   "source": [
    "# Realizar predicciones en los conjuntos de entrenamiento y prueba\n",
    "y_train_predict_1 = pipeline_1.predict(X_train_1[\"words\"])\n",
    "y_test_predict_1 = pipeline_1.predict(X_test_1[\"words\"])"
   ]
  },
  {
   "cell_type": "code",
   "execution_count": 1098,
   "metadata": {},
   "outputs": [
    {
     "name": "stdout",
     "output_type": "stream",
     "text": [
      "Precision (weighted): 1.0\n",
      "Recall (weighted): 1.0\n",
      "F1 (weighted): 1.0\n"
     ]
    }
   ],
   "source": [
    "print(\"Precision (weighted):\", precision_score(y_train_1, y_train_predict_1, average='weighted'))\n",
    "print(\"Recall (weighted):\", recall_score(y_train_1, y_train_predict_1, average='weighted'))\n",
    "print(\"F1 (weighted):\", f1_score(y_train_1, y_train_predict_1, average='weighted'))"
   ]
  },
  {
   "cell_type": "code",
   "execution_count": 1099,
   "metadata": {},
   "outputs": [
    {
     "name": "stdout",
     "output_type": "stream",
     "text": [
      "Precision (weighted): 0.9695690498076077\n",
      "Recall (weighted): 0.9693333333333334\n",
      "F1 (weighted): 0.9693568827441543\n"
     ]
    }
   ],
   "source": [
    "print(\"Precision (weighted):\", precision_score(y_test_1, y_test_predict_1, average='weighted'))\n",
    "print(\"Recall (weighted):\", recall_score(y_test_1, y_test_predict_1, average='weighted'))\n",
    "print(\"F1 (weighted):\", f1_score(y_test_1, y_test_predict_1, average='weighted'))"
   ]
  },
  {
   "cell_type": "markdown",
   "metadata": {},
   "source": [
    "#### Tercer Modelo"
   ]
  },
  {
   "cell_type": "code",
   "execution_count": 1100,
   "metadata": {},
   "outputs": [],
   "source": [
    "X_train_2=X_train\n",
    "X_test_2=X_test\n",
    "y_train_2=y_train\n",
    "y_test_2=y_test"
   ]
  },
  {
   "cell_type": "code",
   "execution_count": 1101,
   "metadata": {},
   "outputs": [],
   "source": [
    "parametros_2 = {\n",
    "    \"vectorizer\": TfidfVectorizer(tokenizer=word_tokenize, stop_words=stop_words),\n",
    "    \"vectorizer__lowercase\": True,\n",
    "    \"classifier__n_estimators\": 300,\n",
    "    \"classifier__criterion\": 'gini',\n",
    "    \"classifier__max_depth\": 100\n",
    "}"
   ]
  },
  {
   "cell_type": "code",
   "execution_count": 1102,
   "metadata": {},
   "outputs": [],
   "source": [
    "pipeline_2 = Pipeline(steps=[\n",
    "    (\"vectorizer\", parametros_2[\"vectorizer\"]),\n",
    "    (\"classifier\", RandomForestClassifier(\n",
    "        n_estimators=parametros_2[\"classifier__n_estimators\"],\n",
    "        criterion=parametros_2[\"classifier__criterion\"],\n",
    "        max_depth=parametros_2[\"classifier__max_depth\"],\n",
    "        random_state=4\n",
    "    ))\n",
    "])"
   ]
  },
  {
   "cell_type": "code",
   "execution_count": 1103,
   "metadata": {},
   "outputs": [
    {
     "data": {
      "text/html": [
       "<style>#sk-container-id-60 {color: black;}#sk-container-id-60 pre{padding: 0;}#sk-container-id-60 div.sk-toggleable {background-color: white;}#sk-container-id-60 label.sk-toggleable__label {cursor: pointer;display: block;width: 100%;margin-bottom: 0;padding: 0.3em;box-sizing: border-box;text-align: center;}#sk-container-id-60 label.sk-toggleable__label-arrow:before {content: \"▸\";float: left;margin-right: 0.25em;color: #696969;}#sk-container-id-60 label.sk-toggleable__label-arrow:hover:before {color: black;}#sk-container-id-60 div.sk-estimator:hover label.sk-toggleable__label-arrow:before {color: black;}#sk-container-id-60 div.sk-toggleable__content {max-height: 0;max-width: 0;overflow: hidden;text-align: left;background-color: #f0f8ff;}#sk-container-id-60 div.sk-toggleable__content pre {margin: 0.2em;color: black;border-radius: 0.25em;background-color: #f0f8ff;}#sk-container-id-60 input.sk-toggleable__control:checked~div.sk-toggleable__content {max-height: 200px;max-width: 100%;overflow: auto;}#sk-container-id-60 input.sk-toggleable__control:checked~label.sk-toggleable__label-arrow:before {content: \"▾\";}#sk-container-id-60 div.sk-estimator input.sk-toggleable__control:checked~label.sk-toggleable__label {background-color: #d4ebff;}#sk-container-id-60 div.sk-label input.sk-toggleable__control:checked~label.sk-toggleable__label {background-color: #d4ebff;}#sk-container-id-60 input.sk-hidden--visually {border: 0;clip: rect(1px 1px 1px 1px);clip: rect(1px, 1px, 1px, 1px);height: 1px;margin: -1px;overflow: hidden;padding: 0;position: absolute;width: 1px;}#sk-container-id-60 div.sk-estimator {font-family: monospace;background-color: #f0f8ff;border: 1px dotted black;border-radius: 0.25em;box-sizing: border-box;margin-bottom: 0.5em;}#sk-container-id-60 div.sk-estimator:hover {background-color: #d4ebff;}#sk-container-id-60 div.sk-parallel-item::after {content: \"\";width: 100%;border-bottom: 1px solid gray;flex-grow: 1;}#sk-container-id-60 div.sk-label:hover label.sk-toggleable__label {background-color: #d4ebff;}#sk-container-id-60 div.sk-serial::before {content: \"\";position: absolute;border-left: 1px solid gray;box-sizing: border-box;top: 0;bottom: 0;left: 50%;z-index: 0;}#sk-container-id-60 div.sk-serial {display: flex;flex-direction: column;align-items: center;background-color: white;padding-right: 0.2em;padding-left: 0.2em;position: relative;}#sk-container-id-60 div.sk-item {position: relative;z-index: 1;}#sk-container-id-60 div.sk-parallel {display: flex;align-items: stretch;justify-content: center;background-color: white;position: relative;}#sk-container-id-60 div.sk-item::before, #sk-container-id-60 div.sk-parallel-item::before {content: \"\";position: absolute;border-left: 1px solid gray;box-sizing: border-box;top: 0;bottom: 0;left: 50%;z-index: -1;}#sk-container-id-60 div.sk-parallel-item {display: flex;flex-direction: column;z-index: 1;position: relative;background-color: white;}#sk-container-id-60 div.sk-parallel-item:first-child::after {align-self: flex-end;width: 50%;}#sk-container-id-60 div.sk-parallel-item:last-child::after {align-self: flex-start;width: 50%;}#sk-container-id-60 div.sk-parallel-item:only-child::after {width: 0;}#sk-container-id-60 div.sk-dashed-wrapped {border: 1px dashed gray;margin: 0 0.4em 0.5em 0.4em;box-sizing: border-box;padding-bottom: 0.4em;background-color: white;}#sk-container-id-60 div.sk-label label {font-family: monospace;font-weight: bold;display: inline-block;line-height: 1.2em;}#sk-container-id-60 div.sk-label-container {text-align: center;}#sk-container-id-60 div.sk-container {/* jupyter's `normalize.less` sets `[hidden] { display: none; }` but bootstrap.min.css set `[hidden] { display: none !important; }` so we also need the `!important` here to be able to override the default hidden behavior on the sphinx rendered scikit-learn.org. See: https://github.com/scikit-learn/scikit-learn/issues/21755 */display: inline-block !important;position: relative;}#sk-container-id-60 div.sk-text-repr-fallback {display: none;}</style><div id=\"sk-container-id-60\" class=\"sk-top-container\"><div class=\"sk-text-repr-fallback\"><pre>Pipeline(steps=[(&#x27;vectorizer&#x27;,\n",
       "                 TfidfVectorizer(stop_words=[&#x27;de&#x27;, &#x27;la&#x27;, &#x27;que&#x27;, &#x27;el&#x27;, &#x27;en&#x27;, &#x27;y&#x27;,\n",
       "                                             &#x27;a&#x27;, &#x27;los&#x27;, &#x27;del&#x27;, &#x27;se&#x27;, &#x27;las&#x27;,\n",
       "                                             &#x27;por&#x27;, &#x27;un&#x27;, &#x27;para&#x27;, &#x27;con&#x27;, &#x27;no&#x27;,\n",
       "                                             &#x27;una&#x27;, &#x27;su&#x27;, &#x27;al&#x27;, &#x27;lo&#x27;, &#x27;como&#x27;,\n",
       "                                             &#x27;más&#x27;, &#x27;pero&#x27;, &#x27;sus&#x27;, &#x27;le&#x27;, &#x27;ya&#x27;,\n",
       "                                             &#x27;o&#x27;, &#x27;este&#x27;, &#x27;sí&#x27;, &#x27;porque&#x27;, ...],\n",
       "                                 tokenizer=&lt;function word_tokenize at 0x12f1f9240&gt;)),\n",
       "                (&#x27;classifier&#x27;,\n",
       "                 RandomForestClassifier(max_depth=100, n_estimators=300,\n",
       "                                        random_state=4))])</pre><b>In a Jupyter environment, please rerun this cell to show the HTML representation or trust the notebook. <br />On GitHub, the HTML representation is unable to render, please try loading this page with nbviewer.org.</b></div><div class=\"sk-container\" hidden><div class=\"sk-item sk-dashed-wrapped\"><div class=\"sk-label-container\"><div class=\"sk-label sk-toggleable\"><input class=\"sk-toggleable__control sk-hidden--visually\" id=\"sk-estimator-id-134\" type=\"checkbox\" ><label for=\"sk-estimator-id-134\" class=\"sk-toggleable__label sk-toggleable__label-arrow\">Pipeline</label><div class=\"sk-toggleable__content\"><pre>Pipeline(steps=[(&#x27;vectorizer&#x27;,\n",
       "                 TfidfVectorizer(stop_words=[&#x27;de&#x27;, &#x27;la&#x27;, &#x27;que&#x27;, &#x27;el&#x27;, &#x27;en&#x27;, &#x27;y&#x27;,\n",
       "                                             &#x27;a&#x27;, &#x27;los&#x27;, &#x27;del&#x27;, &#x27;se&#x27;, &#x27;las&#x27;,\n",
       "                                             &#x27;por&#x27;, &#x27;un&#x27;, &#x27;para&#x27;, &#x27;con&#x27;, &#x27;no&#x27;,\n",
       "                                             &#x27;una&#x27;, &#x27;su&#x27;, &#x27;al&#x27;, &#x27;lo&#x27;, &#x27;como&#x27;,\n",
       "                                             &#x27;más&#x27;, &#x27;pero&#x27;, &#x27;sus&#x27;, &#x27;le&#x27;, &#x27;ya&#x27;,\n",
       "                                             &#x27;o&#x27;, &#x27;este&#x27;, &#x27;sí&#x27;, &#x27;porque&#x27;, ...],\n",
       "                                 tokenizer=&lt;function word_tokenize at 0x12f1f9240&gt;)),\n",
       "                (&#x27;classifier&#x27;,\n",
       "                 RandomForestClassifier(max_depth=100, n_estimators=300,\n",
       "                                        random_state=4))])</pre></div></div></div><div class=\"sk-serial\"><div class=\"sk-item\"><div class=\"sk-estimator sk-toggleable\"><input class=\"sk-toggleable__control sk-hidden--visually\" id=\"sk-estimator-id-135\" type=\"checkbox\" ><label for=\"sk-estimator-id-135\" class=\"sk-toggleable__label sk-toggleable__label-arrow\">TfidfVectorizer</label><div class=\"sk-toggleable__content\"><pre>TfidfVectorizer(stop_words=[&#x27;de&#x27;, &#x27;la&#x27;, &#x27;que&#x27;, &#x27;el&#x27;, &#x27;en&#x27;, &#x27;y&#x27;, &#x27;a&#x27;, &#x27;los&#x27;,\n",
       "                            &#x27;del&#x27;, &#x27;se&#x27;, &#x27;las&#x27;, &#x27;por&#x27;, &#x27;un&#x27;, &#x27;para&#x27;, &#x27;con&#x27;,\n",
       "                            &#x27;no&#x27;, &#x27;una&#x27;, &#x27;su&#x27;, &#x27;al&#x27;, &#x27;lo&#x27;, &#x27;como&#x27;, &#x27;más&#x27;,\n",
       "                            &#x27;pero&#x27;, &#x27;sus&#x27;, &#x27;le&#x27;, &#x27;ya&#x27;, &#x27;o&#x27;, &#x27;este&#x27;, &#x27;sí&#x27;,\n",
       "                            &#x27;porque&#x27;, ...],\n",
       "                tokenizer=&lt;function word_tokenize at 0x12f1f9240&gt;)</pre></div></div></div><div class=\"sk-item\"><div class=\"sk-estimator sk-toggleable\"><input class=\"sk-toggleable__control sk-hidden--visually\" id=\"sk-estimator-id-136\" type=\"checkbox\" ><label for=\"sk-estimator-id-136\" class=\"sk-toggleable__label sk-toggleable__label-arrow\">RandomForestClassifier</label><div class=\"sk-toggleable__content\"><pre>RandomForestClassifier(max_depth=100, n_estimators=300, random_state=4)</pre></div></div></div></div></div></div></div>"
      ],
      "text/plain": [
       "Pipeline(steps=[('vectorizer',\n",
       "                 TfidfVectorizer(stop_words=['de', 'la', 'que', 'el', 'en', 'y',\n",
       "                                             'a', 'los', 'del', 'se', 'las',\n",
       "                                             'por', 'un', 'para', 'con', 'no',\n",
       "                                             'una', 'su', 'al', 'lo', 'como',\n",
       "                                             'más', 'pero', 'sus', 'le', 'ya',\n",
       "                                             'o', 'este', 'sí', 'porque', ...],\n",
       "                                 tokenizer=<function word_tokenize at 0x12f1f9240>)),\n",
       "                ('classifier',\n",
       "                 RandomForestClassifier(max_depth=100, n_estimators=300,\n",
       "                                        random_state=4))])"
      ]
     },
     "execution_count": 1103,
     "metadata": {},
     "output_type": "execute_result"
    }
   ],
   "source": [
    "# Entrena el modelo con tus datos\n",
    "pipeline_2.fit(X_train_2[\"words\"], y_train_2)"
   ]
  },
  {
   "cell_type": "code",
   "execution_count": 1104,
   "metadata": {},
   "outputs": [],
   "source": [
    "# Realizar predicciones en los conjuntos de entrenamiento y prueba\n",
    "y_train_predict_2 = pipeline_2.predict(X_train_2[\"words\"])\n",
    "y_test_predict_2 = pipeline_2.predict(X_test_2[\"words\"])"
   ]
  },
  {
   "cell_type": "code",
   "execution_count": 1105,
   "metadata": {},
   "outputs": [
    {
     "name": "stdout",
     "output_type": "stream",
     "text": [
      "Precision (weighted): 1.0\n",
      "Recall (weighted): 1.0\n",
      "F1 (weighted): 1.0\n"
     ]
    }
   ],
   "source": [
    "print(\"Precision (weighted):\", precision_score(y_train_2, y_train_predict_2, average='weighted'))\n",
    "print(\"Recall (weighted):\", recall_score(y_train_2, y_train_predict_2, average='weighted'))\n",
    "print(\"F1 (weighted):\", f1_score(y_train_2, y_train_predict_2, average='weighted'))"
   ]
  },
  {
   "cell_type": "code",
   "execution_count": 1106,
   "metadata": {},
   "outputs": [
    {
     "name": "stdout",
     "output_type": "stream",
     "text": [
      "Precision (weighted): 0.980112114934346\n",
      "Recall (weighted): 0.98\n",
      "F1 (weighted): 0.9800069226577939\n"
     ]
    }
   ],
   "source": [
    "print(\"Precision (weighted):\", precision_score(y_test_2, y_test_predict_2, average='weighted'))\n",
    "print(\"Recall (weighted):\", recall_score(y_test_2, y_test_predict_2, average='weighted'))\n",
    "print(\"F1 (weighted):\", f1_score(y_test_2, y_test_predict_2, average='weighted'))"
   ]
  },
  {
   "cell_type": "markdown",
   "metadata": {},
   "source": [
    "#### Cuarto modelo"
   ]
  },
  {
   "cell_type": "code",
   "execution_count": 1107,
   "metadata": {},
   "outputs": [],
   "source": [
    "X_train_3=X_train\n",
    "X_test_3=X_test\n",
    "y_train_3=y_train\n",
    "y_test_3=y_test"
   ]
  },
  {
   "cell_type": "code",
   "execution_count": 1108,
   "metadata": {},
   "outputs": [],
   "source": [
    "parametros_3 = {\n",
    "    \"vectorizer\": TfidfVectorizer(tokenizer=word_tokenize, stop_words=stop_words),\n",
    "    \"vectorizer__lowercase\": False,\n",
    "    \"classifier__n_estimators\": 350,\n",
    "    \"classifier__criterion\": 'gini',\n",
    "    \"classifier__max_depth\": 100\n",
    "}"
   ]
  },
  {
   "cell_type": "code",
   "execution_count": 1109,
   "metadata": {},
   "outputs": [],
   "source": [
    "pipeline_3 = Pipeline(steps=[\n",
    "    (\"vectorizer\", parametros_3[\"vectorizer\"]),\n",
    "    (\"classifier\", RandomForestClassifier(\n",
    "        n_estimators=parametros_3[\"classifier__n_estimators\"],\n",
    "        criterion=parametros_3[\"classifier__criterion\"],\n",
    "        max_depth=parametros_3[\"classifier__max_depth\"],\n",
    "        random_state=4\n",
    "    ))\n",
    "])"
   ]
  },
  {
   "cell_type": "code",
   "execution_count": 1110,
   "metadata": {},
   "outputs": [
    {
     "data": {
      "text/html": [
       "<style>#sk-container-id-61 {color: black;}#sk-container-id-61 pre{padding: 0;}#sk-container-id-61 div.sk-toggleable {background-color: white;}#sk-container-id-61 label.sk-toggleable__label {cursor: pointer;display: block;width: 100%;margin-bottom: 0;padding: 0.3em;box-sizing: border-box;text-align: center;}#sk-container-id-61 label.sk-toggleable__label-arrow:before {content: \"▸\";float: left;margin-right: 0.25em;color: #696969;}#sk-container-id-61 label.sk-toggleable__label-arrow:hover:before {color: black;}#sk-container-id-61 div.sk-estimator:hover label.sk-toggleable__label-arrow:before {color: black;}#sk-container-id-61 div.sk-toggleable__content {max-height: 0;max-width: 0;overflow: hidden;text-align: left;background-color: #f0f8ff;}#sk-container-id-61 div.sk-toggleable__content pre {margin: 0.2em;color: black;border-radius: 0.25em;background-color: #f0f8ff;}#sk-container-id-61 input.sk-toggleable__control:checked~div.sk-toggleable__content {max-height: 200px;max-width: 100%;overflow: auto;}#sk-container-id-61 input.sk-toggleable__control:checked~label.sk-toggleable__label-arrow:before {content: \"▾\";}#sk-container-id-61 div.sk-estimator input.sk-toggleable__control:checked~label.sk-toggleable__label {background-color: #d4ebff;}#sk-container-id-61 div.sk-label input.sk-toggleable__control:checked~label.sk-toggleable__label {background-color: #d4ebff;}#sk-container-id-61 input.sk-hidden--visually {border: 0;clip: rect(1px 1px 1px 1px);clip: rect(1px, 1px, 1px, 1px);height: 1px;margin: -1px;overflow: hidden;padding: 0;position: absolute;width: 1px;}#sk-container-id-61 div.sk-estimator {font-family: monospace;background-color: #f0f8ff;border: 1px dotted black;border-radius: 0.25em;box-sizing: border-box;margin-bottom: 0.5em;}#sk-container-id-61 div.sk-estimator:hover {background-color: #d4ebff;}#sk-container-id-61 div.sk-parallel-item::after {content: \"\";width: 100%;border-bottom: 1px solid gray;flex-grow: 1;}#sk-container-id-61 div.sk-label:hover label.sk-toggleable__label {background-color: #d4ebff;}#sk-container-id-61 div.sk-serial::before {content: \"\";position: absolute;border-left: 1px solid gray;box-sizing: border-box;top: 0;bottom: 0;left: 50%;z-index: 0;}#sk-container-id-61 div.sk-serial {display: flex;flex-direction: column;align-items: center;background-color: white;padding-right: 0.2em;padding-left: 0.2em;position: relative;}#sk-container-id-61 div.sk-item {position: relative;z-index: 1;}#sk-container-id-61 div.sk-parallel {display: flex;align-items: stretch;justify-content: center;background-color: white;position: relative;}#sk-container-id-61 div.sk-item::before, #sk-container-id-61 div.sk-parallel-item::before {content: \"\";position: absolute;border-left: 1px solid gray;box-sizing: border-box;top: 0;bottom: 0;left: 50%;z-index: -1;}#sk-container-id-61 div.sk-parallel-item {display: flex;flex-direction: column;z-index: 1;position: relative;background-color: white;}#sk-container-id-61 div.sk-parallel-item:first-child::after {align-self: flex-end;width: 50%;}#sk-container-id-61 div.sk-parallel-item:last-child::after {align-self: flex-start;width: 50%;}#sk-container-id-61 div.sk-parallel-item:only-child::after {width: 0;}#sk-container-id-61 div.sk-dashed-wrapped {border: 1px dashed gray;margin: 0 0.4em 0.5em 0.4em;box-sizing: border-box;padding-bottom: 0.4em;background-color: white;}#sk-container-id-61 div.sk-label label {font-family: monospace;font-weight: bold;display: inline-block;line-height: 1.2em;}#sk-container-id-61 div.sk-label-container {text-align: center;}#sk-container-id-61 div.sk-container {/* jupyter's `normalize.less` sets `[hidden] { display: none; }` but bootstrap.min.css set `[hidden] { display: none !important; }` so we also need the `!important` here to be able to override the default hidden behavior on the sphinx rendered scikit-learn.org. See: https://github.com/scikit-learn/scikit-learn/issues/21755 */display: inline-block !important;position: relative;}#sk-container-id-61 div.sk-text-repr-fallback {display: none;}</style><div id=\"sk-container-id-61\" class=\"sk-top-container\"><div class=\"sk-text-repr-fallback\"><pre>Pipeline(steps=[(&#x27;vectorizer&#x27;,\n",
       "                 TfidfVectorizer(stop_words=[&#x27;de&#x27;, &#x27;la&#x27;, &#x27;que&#x27;, &#x27;el&#x27;, &#x27;en&#x27;, &#x27;y&#x27;,\n",
       "                                             &#x27;a&#x27;, &#x27;los&#x27;, &#x27;del&#x27;, &#x27;se&#x27;, &#x27;las&#x27;,\n",
       "                                             &#x27;por&#x27;, &#x27;un&#x27;, &#x27;para&#x27;, &#x27;con&#x27;, &#x27;no&#x27;,\n",
       "                                             &#x27;una&#x27;, &#x27;su&#x27;, &#x27;al&#x27;, &#x27;lo&#x27;, &#x27;como&#x27;,\n",
       "                                             &#x27;más&#x27;, &#x27;pero&#x27;, &#x27;sus&#x27;, &#x27;le&#x27;, &#x27;ya&#x27;,\n",
       "                                             &#x27;o&#x27;, &#x27;este&#x27;, &#x27;sí&#x27;, &#x27;porque&#x27;, ...],\n",
       "                                 tokenizer=&lt;function word_tokenize at 0x12f1f9240&gt;)),\n",
       "                (&#x27;classifier&#x27;,\n",
       "                 RandomForestClassifier(max_depth=100, n_estimators=350,\n",
       "                                        random_state=4))])</pre><b>In a Jupyter environment, please rerun this cell to show the HTML representation or trust the notebook. <br />On GitHub, the HTML representation is unable to render, please try loading this page with nbviewer.org.</b></div><div class=\"sk-container\" hidden><div class=\"sk-item sk-dashed-wrapped\"><div class=\"sk-label-container\"><div class=\"sk-label sk-toggleable\"><input class=\"sk-toggleable__control sk-hidden--visually\" id=\"sk-estimator-id-137\" type=\"checkbox\" ><label for=\"sk-estimator-id-137\" class=\"sk-toggleable__label sk-toggleable__label-arrow\">Pipeline</label><div class=\"sk-toggleable__content\"><pre>Pipeline(steps=[(&#x27;vectorizer&#x27;,\n",
       "                 TfidfVectorizer(stop_words=[&#x27;de&#x27;, &#x27;la&#x27;, &#x27;que&#x27;, &#x27;el&#x27;, &#x27;en&#x27;, &#x27;y&#x27;,\n",
       "                                             &#x27;a&#x27;, &#x27;los&#x27;, &#x27;del&#x27;, &#x27;se&#x27;, &#x27;las&#x27;,\n",
       "                                             &#x27;por&#x27;, &#x27;un&#x27;, &#x27;para&#x27;, &#x27;con&#x27;, &#x27;no&#x27;,\n",
       "                                             &#x27;una&#x27;, &#x27;su&#x27;, &#x27;al&#x27;, &#x27;lo&#x27;, &#x27;como&#x27;,\n",
       "                                             &#x27;más&#x27;, &#x27;pero&#x27;, &#x27;sus&#x27;, &#x27;le&#x27;, &#x27;ya&#x27;,\n",
       "                                             &#x27;o&#x27;, &#x27;este&#x27;, &#x27;sí&#x27;, &#x27;porque&#x27;, ...],\n",
       "                                 tokenizer=&lt;function word_tokenize at 0x12f1f9240&gt;)),\n",
       "                (&#x27;classifier&#x27;,\n",
       "                 RandomForestClassifier(max_depth=100, n_estimators=350,\n",
       "                                        random_state=4))])</pre></div></div></div><div class=\"sk-serial\"><div class=\"sk-item\"><div class=\"sk-estimator sk-toggleable\"><input class=\"sk-toggleable__control sk-hidden--visually\" id=\"sk-estimator-id-138\" type=\"checkbox\" ><label for=\"sk-estimator-id-138\" class=\"sk-toggleable__label sk-toggleable__label-arrow\">TfidfVectorizer</label><div class=\"sk-toggleable__content\"><pre>TfidfVectorizer(stop_words=[&#x27;de&#x27;, &#x27;la&#x27;, &#x27;que&#x27;, &#x27;el&#x27;, &#x27;en&#x27;, &#x27;y&#x27;, &#x27;a&#x27;, &#x27;los&#x27;,\n",
       "                            &#x27;del&#x27;, &#x27;se&#x27;, &#x27;las&#x27;, &#x27;por&#x27;, &#x27;un&#x27;, &#x27;para&#x27;, &#x27;con&#x27;,\n",
       "                            &#x27;no&#x27;, &#x27;una&#x27;, &#x27;su&#x27;, &#x27;al&#x27;, &#x27;lo&#x27;, &#x27;como&#x27;, &#x27;más&#x27;,\n",
       "                            &#x27;pero&#x27;, &#x27;sus&#x27;, &#x27;le&#x27;, &#x27;ya&#x27;, &#x27;o&#x27;, &#x27;este&#x27;, &#x27;sí&#x27;,\n",
       "                            &#x27;porque&#x27;, ...],\n",
       "                tokenizer=&lt;function word_tokenize at 0x12f1f9240&gt;)</pre></div></div></div><div class=\"sk-item\"><div class=\"sk-estimator sk-toggleable\"><input class=\"sk-toggleable__control sk-hidden--visually\" id=\"sk-estimator-id-139\" type=\"checkbox\" ><label for=\"sk-estimator-id-139\" class=\"sk-toggleable__label sk-toggleable__label-arrow\">RandomForestClassifier</label><div class=\"sk-toggleable__content\"><pre>RandomForestClassifier(max_depth=100, n_estimators=350, random_state=4)</pre></div></div></div></div></div></div></div>"
      ],
      "text/plain": [
       "Pipeline(steps=[('vectorizer',\n",
       "                 TfidfVectorizer(stop_words=['de', 'la', 'que', 'el', 'en', 'y',\n",
       "                                             'a', 'los', 'del', 'se', 'las',\n",
       "                                             'por', 'un', 'para', 'con', 'no',\n",
       "                                             'una', 'su', 'al', 'lo', 'como',\n",
       "                                             'más', 'pero', 'sus', 'le', 'ya',\n",
       "                                             'o', 'este', 'sí', 'porque', ...],\n",
       "                                 tokenizer=<function word_tokenize at 0x12f1f9240>)),\n",
       "                ('classifier',\n",
       "                 RandomForestClassifier(max_depth=100, n_estimators=350,\n",
       "                                        random_state=4))])"
      ]
     },
     "execution_count": 1110,
     "metadata": {},
     "output_type": "execute_result"
    }
   ],
   "source": [
    "# Entrena el modelo con tus datos\n",
    "pipeline_3.fit(X_train_3[\"words\"], y_train_3)"
   ]
  },
  {
   "cell_type": "code",
   "execution_count": 1111,
   "metadata": {},
   "outputs": [],
   "source": [
    "# Realizar predicciones en los conjuntos de entrenamiento y prueba\n",
    "y_train_predict_3 = pipeline_3.predict(X_train_3[\"words\"])\n",
    "y_test_predict_3 = pipeline_3.predict(X_test_3[\"words\"])"
   ]
  },
  {
   "cell_type": "code",
   "execution_count": 1112,
   "metadata": {},
   "outputs": [
    {
     "name": "stdout",
     "output_type": "stream",
     "text": [
      "Precision (weighted): 1.0\n",
      "Recall (weighted): 1.0\n",
      "F1 (weighted): 1.0\n"
     ]
    }
   ],
   "source": [
    "print(\"Precision (weighted):\", precision_score(y_train_3, y_train_predict_3, average='weighted'))\n",
    "print(\"Recall (weighted):\", recall_score(y_train_3, y_train_predict_3, average='weighted'))\n",
    "print(\"F1 (weighted):\", f1_score(y_train_3, y_train_predict_3, average='weighted'))"
   ]
  },
  {
   "cell_type": "code",
   "execution_count": 1113,
   "metadata": {},
   "outputs": [
    {
     "name": "stdout",
     "output_type": "stream",
     "text": [
      "Precision (weighted): 0.97883455634278\n",
      "Recall (weighted): 0.9786666666666667\n",
      "F1 (weighted): 0.9786810454293615\n"
     ]
    }
   ],
   "source": [
    "print(\"Precision (weighted):\", precision_score(y_test_3, y_test_predict_3, average='weighted'))\n",
    "print(\"Recall (weighted):\", recall_score(y_test_3, y_test_predict_3, average='weighted'))\n",
    "print(\"F1 (weighted):\", f1_score(y_test_3, y_test_predict_3, average='weighted'))"
   ]
  },
  {
   "cell_type": "markdown",
   "metadata": {},
   "source": [
    "#### Quinto modelo"
   ]
  },
  {
   "cell_type": "code",
   "execution_count": 1114,
   "metadata": {},
   "outputs": [],
   "source": [
    "X_train_4=X_train\n",
    "X_test_4=X_test\n",
    "y_train_4=y_train\n",
    "y_test_4=y_test"
   ]
  },
  {
   "cell_type": "code",
   "execution_count": 1115,
   "metadata": {},
   "outputs": [],
   "source": [
    "tfidf_vectorizer = TfidfVectorizer(tokenizer=word_tokenize, stop_words=stop_words)\n",
    "X_train_tfidf = tfidf_vectorizer.fit_transform(X_train_4[\"words\"])\n",
    "X_test_tfidf = tfidf_vectorizer.transform(X_test_4[\"words\"])\n",
    "# y_test_tfidf = tfidf_vectorizer.transform(y_test_4)\n",
    "# y_train_tfidf = tfidf_vectorizer.transform(y_train_4)"
   ]
  },
  {
   "cell_type": "code",
   "execution_count": 1116,
   "metadata": {},
   "outputs": [],
   "source": [
    "tree_model = DecisionTreeClassifier(max_depth=10, random_state=4)"
   ]
  },
  {
   "cell_type": "code",
   "execution_count": 1117,
   "metadata": {},
   "outputs": [
    {
     "data": {
      "text/html": [
       "<style>#sk-container-id-62 {color: black;}#sk-container-id-62 pre{padding: 0;}#sk-container-id-62 div.sk-toggleable {background-color: white;}#sk-container-id-62 label.sk-toggleable__label {cursor: pointer;display: block;width: 100%;margin-bottom: 0;padding: 0.3em;box-sizing: border-box;text-align: center;}#sk-container-id-62 label.sk-toggleable__label-arrow:before {content: \"▸\";float: left;margin-right: 0.25em;color: #696969;}#sk-container-id-62 label.sk-toggleable__label-arrow:hover:before {color: black;}#sk-container-id-62 div.sk-estimator:hover label.sk-toggleable__label-arrow:before {color: black;}#sk-container-id-62 div.sk-toggleable__content {max-height: 0;max-width: 0;overflow: hidden;text-align: left;background-color: #f0f8ff;}#sk-container-id-62 div.sk-toggleable__content pre {margin: 0.2em;color: black;border-radius: 0.25em;background-color: #f0f8ff;}#sk-container-id-62 input.sk-toggleable__control:checked~div.sk-toggleable__content {max-height: 200px;max-width: 100%;overflow: auto;}#sk-container-id-62 input.sk-toggleable__control:checked~label.sk-toggleable__label-arrow:before {content: \"▾\";}#sk-container-id-62 div.sk-estimator input.sk-toggleable__control:checked~label.sk-toggleable__label {background-color: #d4ebff;}#sk-container-id-62 div.sk-label input.sk-toggleable__control:checked~label.sk-toggleable__label {background-color: #d4ebff;}#sk-container-id-62 input.sk-hidden--visually {border: 0;clip: rect(1px 1px 1px 1px);clip: rect(1px, 1px, 1px, 1px);height: 1px;margin: -1px;overflow: hidden;padding: 0;position: absolute;width: 1px;}#sk-container-id-62 div.sk-estimator {font-family: monospace;background-color: #f0f8ff;border: 1px dotted black;border-radius: 0.25em;box-sizing: border-box;margin-bottom: 0.5em;}#sk-container-id-62 div.sk-estimator:hover {background-color: #d4ebff;}#sk-container-id-62 div.sk-parallel-item::after {content: \"\";width: 100%;border-bottom: 1px solid gray;flex-grow: 1;}#sk-container-id-62 div.sk-label:hover label.sk-toggleable__label {background-color: #d4ebff;}#sk-container-id-62 div.sk-serial::before {content: \"\";position: absolute;border-left: 1px solid gray;box-sizing: border-box;top: 0;bottom: 0;left: 50%;z-index: 0;}#sk-container-id-62 div.sk-serial {display: flex;flex-direction: column;align-items: center;background-color: white;padding-right: 0.2em;padding-left: 0.2em;position: relative;}#sk-container-id-62 div.sk-item {position: relative;z-index: 1;}#sk-container-id-62 div.sk-parallel {display: flex;align-items: stretch;justify-content: center;background-color: white;position: relative;}#sk-container-id-62 div.sk-item::before, #sk-container-id-62 div.sk-parallel-item::before {content: \"\";position: absolute;border-left: 1px solid gray;box-sizing: border-box;top: 0;bottom: 0;left: 50%;z-index: -1;}#sk-container-id-62 div.sk-parallel-item {display: flex;flex-direction: column;z-index: 1;position: relative;background-color: white;}#sk-container-id-62 div.sk-parallel-item:first-child::after {align-self: flex-end;width: 50%;}#sk-container-id-62 div.sk-parallel-item:last-child::after {align-self: flex-start;width: 50%;}#sk-container-id-62 div.sk-parallel-item:only-child::after {width: 0;}#sk-container-id-62 div.sk-dashed-wrapped {border: 1px dashed gray;margin: 0 0.4em 0.5em 0.4em;box-sizing: border-box;padding-bottom: 0.4em;background-color: white;}#sk-container-id-62 div.sk-label label {font-family: monospace;font-weight: bold;display: inline-block;line-height: 1.2em;}#sk-container-id-62 div.sk-label-container {text-align: center;}#sk-container-id-62 div.sk-container {/* jupyter's `normalize.less` sets `[hidden] { display: none; }` but bootstrap.min.css set `[hidden] { display: none !important; }` so we also need the `!important` here to be able to override the default hidden behavior on the sphinx rendered scikit-learn.org. See: https://github.com/scikit-learn/scikit-learn/issues/21755 */display: inline-block !important;position: relative;}#sk-container-id-62 div.sk-text-repr-fallback {display: none;}</style><div id=\"sk-container-id-62\" class=\"sk-top-container\"><div class=\"sk-text-repr-fallback\"><pre>DecisionTreeClassifier(max_depth=10, random_state=4)</pre><b>In a Jupyter environment, please rerun this cell to show the HTML representation or trust the notebook. <br />On GitHub, the HTML representation is unable to render, please try loading this page with nbviewer.org.</b></div><div class=\"sk-container\" hidden><div class=\"sk-item\"><div class=\"sk-estimator sk-toggleable\"><input class=\"sk-toggleable__control sk-hidden--visually\" id=\"sk-estimator-id-140\" type=\"checkbox\" checked><label for=\"sk-estimator-id-140\" class=\"sk-toggleable__label sk-toggleable__label-arrow\">DecisionTreeClassifier</label><div class=\"sk-toggleable__content\"><pre>DecisionTreeClassifier(max_depth=10, random_state=4)</pre></div></div></div></div></div>"
      ],
      "text/plain": [
       "DecisionTreeClassifier(max_depth=10, random_state=4)"
      ]
     },
     "execution_count": 1117,
     "metadata": {},
     "output_type": "execute_result"
    }
   ],
   "source": [
    "tree_model.fit(X_train_tfidf, y_train_4)\n"
   ]
  },
  {
   "cell_type": "code",
   "execution_count": 1118,
   "metadata": {},
   "outputs": [],
   "source": [
    "y_train_predict_4 = tree_model.predict(X_train_tfidf)\n",
    "y_test_predict_4 = tree_model.predict(X_test_tfidf)"
   ]
  },
  {
   "cell_type": "code",
   "execution_count": 1119,
   "metadata": {},
   "outputs": [
    {
     "name": "stdout",
     "output_type": "stream",
     "text": [
      "Precision (weighted): 0.954462691898449\n",
      "Recall (weighted): 0.9515555555555556\n",
      "F1 (weighted): 0.9519843106683067\n"
     ]
    }
   ],
   "source": [
    "print(\"Precision (weighted):\", precision_score(y_train_4, y_train_predict_4, average='weighted'))\n",
    "print(\"Recall (weighted):\", recall_score(y_train_4, y_train_predict_4, average='weighted'))\n",
    "print(\"F1 (weighted):\", f1_score(y_train_4, y_train_predict_4, average='weighted'))"
   ]
  },
  {
   "cell_type": "markdown",
   "metadata": {},
   "source": [
    "### 4. Generar predicciones"
   ]
  },
  {
   "cell_type": "code",
   "execution_count": 1120,
   "metadata": {},
   "outputs": [
    {
     "data": {
      "text/html": [
       "<div>\n",
       "<style scoped>\n",
       "    .dataframe tbody tr th:only-of-type {\n",
       "        vertical-align: middle;\n",
       "    }\n",
       "\n",
       "    .dataframe tbody tr th {\n",
       "        vertical-align: top;\n",
       "    }\n",
       "\n",
       "    .dataframe thead th {\n",
       "        text-align: right;\n",
       "    }\n",
       "</style>\n",
       "<table border=\"1\" class=\"dataframe\">\n",
       "  <thead>\n",
       "    <tr style=\"text-align: right;\">\n",
       "      <th></th>\n",
       "      <th>Textos_espanol</th>\n",
       "      <th>sdg</th>\n",
       "      <th>words</th>\n",
       "    </tr>\n",
       "  </thead>\n",
       "  <tbody>\n",
       "    <tr>\n",
       "      <th>178</th>\n",
       "      <td>Asimismo, los puntos de referencia internacionales sobre el rendimiento de los estudiantes proporcionados por las encuestas internacionales de estudiantes, como PISA y TIMSS, han influido a la hora de impulsar el desarrollo de políticas a nivel del sistema. Además, el NCESE (cuyos servicios, a partir de 2015, se integraron en el IAC) también realiza encuestas para evaluar las opiniones de la sociedad sobre la educación, que incluyen la recopilación de opiniones y perspectivas de directores, profesores, padres, estudiantes y posibles empleadores. Por el contrario, no existe un marco para evaluar el trabajo de los Departamentos de Educación de los rayons y oblasts, aunque la supervisión de su trabajo pueda seguirse sobre la base de los resultados de aprendizaje de los estudiantes.</td>\n",
       "      <td>NaN</td>\n",
       "      <td>asimismo puntos referencia internacionales rendimiento estudiantes proporcionados encuestas internacionales estudiantes pisa timss influido hora impulsar desarrollo politicas nivel sistema ademas ncese cuyos servicios partir two thousand and fifteen integraron iac tambien realiza encuestas evaluar opiniones sociedad educacion incluyen recopilacion opiniones perspectivas directores profesores padres estudiantes posibles empleadores contrario existe marco evaluar trabajo departamentos educacion rayons oblasts aunque supervision trabajo pueda seguirse base resultados aprendizaje estudiantes</td>\n",
       "    </tr>\n",
       "    <tr>\n",
       "      <th>860</th>\n",
       "      <td>En 2014, una nueva ley electoral incluso requería que los partidos alcanzaran la paridad de género en las listas de candidatos para las elecciones legislativas federales y estatales y que alternaran los géneros dentro de las listas (OCDE, 2017(9)). En las últimas elecciones antes de que se introdujeran las cuotas en 2007, 18 mujeres fueron elegidas para el parlamento nacional, en 2009, las primeras elecciones tras la introducción de la cuota, 52 mujeres fueron elegidas (un cambio del 189 %). En Eslovenia, solo se ha percibido un cambio modesto: 11 mujeres fueron elegidas en las últimas elecciones antes de que se introdujera la cuota en 2004 y 12 durante las primeras elecciones después de que se aplicara la cuota en 2008 (un cambio del 9 %), sin embargo, el número de mujeres candidatas aumentó en 2008 aunque el número total de candidatos disminuyó ( El 24% del total de candidatos fueron mujeres en 2004 frente al 35% en 2008. En Polonia, en las últimas elecciones antes de la aplicación de la cuota en 2007, resultaron elegidas 94 mujeres, frente a las 110 en 2011 tras la introducción de la cuota (un cambio del 17%).</td>\n",
       "      <td>NaN</td>\n",
       "      <td>two thousand and fourteen nueva ley electoral incluso requeria partidos alcanzaran paridad genero listas candidatos elecciones legislativas federales estatales alternaran generos dentro listas ocde two thousand and seventeen nine ultimas elecciones introdujeran cuotas two thousand and seven eighteen mujeres elegidas parlamento nacional two thousand and nine primeras elecciones tras introduccion cuota fiftytwo mujeres elegidas cambio one hundred and eightynine eslovenia solo percibido cambio modesto eleven mujeres elegidas ultimas elecciones introdujera cuota two thousand and four twelve primeras elecciones despues aplicara cuota two thousand and eight cambio nine embargo numero mujeres candidatas aumento two thousand and eight aunque numero total candidatos disminuyo twentyfour total candidatos mujeres two thousand and four frente thirtyfive two thousand and eight polonia ultimas elecciones aplicacion cuota two thousand and seven resultaron elegidas ninetyfour mujeres frente one hundred and ten two thousand and eleven tras introduccion cuota cambio seventeen</td>\n",
       "    </tr>\n",
       "    <tr>\n",
       "      <th>658</th>\n",
       "      <td>Más específicamente, se estableció un acuerdo entre la OCDE y la Secretaría de Educación Pública (SEP) de México para apoyar el diseño e implementación de reformas de política educativa para mejorar la calidad y equidad del sistema educativo en México (2008-2010). ). Se solicitó apoyo específicamente en las áreas de trayectoria profesional docente, gestión escolar, liderazgo y participación social. Tres tipos de contribuciones incluyen análisis comparativos, comunicaciones (talleres, conferencias y visitas a países) y recomendaciones (presentadas en este informe), realizadas por el Grupo Directivo sobre Gestión Escolar y Política Docente de la OCDE en México.</td>\n",
       "      <td>NaN</td>\n",
       "      <td>mas especificamente establecio acuerdo ocde secretaria educacion publica sep mexico apoyar diseno implementacion reformas politica educativa mejorar calidad equidad sistema educativo mexico 20082010 solicito apoyo especificamente areas trayectoria profesional docente gestion escolar liderazgo participacion social tres tipos contribuciones incluyen analisis comparativos comunicaciones talleres conferencias visitas paises recomendaciones presentadas informe realizadas grupo directivo gestion escolar politica docente ocde mexico</td>\n",
       "    </tr>\n",
       "    <tr>\n",
       "      <th>387</th>\n",
       "      <td>Reforzar la gestión de la diversidad. Los esfuerzos deben dirigirse tanto a crear capacidad docente a corto plazo en todo el país para acoger a los recién llegados como a crear capacidad a medio y largo plazo para garantizar que los inmigrantes alcancen su pleno potencial y se conviertan en participantes activos en la vida económica y social de su comunidad local. A corto plazo, uno de los principales objetivos debe ser formar y reciclar al mayor número posible de profesores para que sepan cómo ayudar a los niños con conocimientos lingüísticos mínimos, con padres poco instruidos y que llegan a Suecia después de los 12 años con escasos conocimientos previos (debido a la mala calidad de la educación que recibieron en su país de origen o a la falta de oportunidades durante un largo periodo de tiempo durante el proceso de migración). Un reto fundamental es proporcionar un apoyo lingüístico adecuado a los jóvenes que llegan a Suecia después de los 12 años, con escasos conocimientos previos de lectura y escritura.</td>\n",
       "      <td>NaN</td>\n",
       "      <td>reforzar gestion diversidad esfuerzos deben dirigirse crear capacidad docente corto plazo pais acoger recien llegados crear capacidad medio largo plazo garantizar inmigrantes alcancen pleno potencial conviertan participantes activos vida economica social comunidad local corto plazo principales objetivos debe ser formar reciclar mayor numero posible profesores sepan ayudar ninos conocimientos linguisticos minimos padres instruidos llegan suecia despues twelve anos escasos conocimientos previos debido mala calidad educacion recibieron pais origen falta oportunidades largo periodo tiempo proceso migracion reto fundamental proporcionar apoyo linguistico adecuado jovenes llegan suecia despues twelve anos escasos conocimientos previos lectura escritura</td>\n",
       "    </tr>\n",
       "    <tr>\n",
       "      <th>1349</th>\n",
       "      <td>La falta de habilidades generales, en particular la alfabetización y la aritmética, puede ser un problema para la empleabilidad a largo plazo, ya que hace que sea más difícil volver a capacitarse para adaptarse a las necesidades cambiantes del mercado laboral. Retrasar el seguimiento de los alumnos contribuiría a paliar esta falta de competencias generales. El acceso a las escuelas generales, secundarias profesionales y de formación profesional (este último hace más hincapié en las habilidades prácticas y reagrupa a una cuarta parte de los estudiantes, Figura 12) actualmente tiene lugar a los 14 años, frente a los 15-16 años en la mayoría de los países de la OCDE.</td>\n",
       "      <td>NaN</td>\n",
       "      <td>falta habilidades generales particular alfabetizacion aritmetica puede ser problema empleabilidad largo plazo hace mas dificil volver capacitarse adaptarse necesidades cambiantes mercado laboral retrasar seguimiento alumnos contribuiria paliar falta competencias generales acceso escuelas generales secundarias profesionales formacion profesional ultimo hace mas hincapie habilidades practicas reagrupa cuarta parte estudiantes figura twelve actualmente lugar fourteen anos frente 1516 anos mayoria paises ocde</td>\n",
       "    </tr>\n",
       "  </tbody>\n",
       "</table>\n",
       "</div>"
      ],
      "text/plain": [
       "                                                                                                                                                                                                                                                                                                                                                                                                                                                                                                                                                                                                                                                                                                                                                                                                                                                                                                                                                                                                                                                                                                                                                                  Textos_espanol  \\\n",
       "178                                                                                                                                                                                                                                                                                                                                                        Asimismo, los puntos de referencia internacionales sobre el rendimiento de los estudiantes proporcionados por las encuestas internacionales de estudiantes, como PISA y TIMSS, han influido a la hora de impulsar el desarrollo de políticas a nivel del sistema. Además, el NCESE (cuyos servicios, a partir de 2015, se integraron en el IAC) también realiza encuestas para evaluar las opiniones de la sociedad sobre la educación, que incluyen la recopilación de opiniones y perspectivas de directores, profesores, padres, estudiantes y posibles empleadores. Por el contrario, no existe un marco para evaluar el trabajo de los Departamentos de Educación de los rayons y oblasts, aunque la supervisión de su trabajo pueda seguirse sobre la base de los resultados de aprendizaje de los estudiantes.   \n",
       "860   En 2014, una nueva ley electoral incluso requería que los partidos alcanzaran la paridad de género en las listas de candidatos para las elecciones legislativas federales y estatales y que alternaran los géneros dentro de las listas (OCDE, 2017(9)). En las últimas elecciones antes de que se introdujeran las cuotas en 2007, 18 mujeres fueron elegidas para el parlamento nacional, en 2009, las primeras elecciones tras la introducción de la cuota, 52 mujeres fueron elegidas (un cambio del 189 %). En Eslovenia, solo se ha percibido un cambio modesto: 11 mujeres fueron elegidas en las últimas elecciones antes de que se introdujera la cuota en 2004 y 12 durante las primeras elecciones después de que se aplicara la cuota en 2008 (un cambio del 9 %), sin embargo, el número de mujeres candidatas aumentó en 2008 aunque el número total de candidatos disminuyó ( El 24% del total de candidatos fueron mujeres en 2004 frente al 35% en 2008. En Polonia, en las últimas elecciones antes de la aplicación de la cuota en 2007, resultaron elegidas 94 mujeres, frente a las 110 en 2011 tras la introducción de la cuota (un cambio del 17%).   \n",
       "658                                                                                                                                                                                                                                                                                                                                                                                                                                                                                  Más específicamente, se estableció un acuerdo entre la OCDE y la Secretaría de Educación Pública (SEP) de México para apoyar el diseño e implementación de reformas de política educativa para mejorar la calidad y equidad del sistema educativo en México (2008-2010). ). Se solicitó apoyo específicamente en las áreas de trayectoria profesional docente, gestión escolar, liderazgo y participación social. Tres tipos de contribuciones incluyen análisis comparativos, comunicaciones (talleres, conferencias y visitas a países) y recomendaciones (presentadas en este informe), realizadas por el Grupo Directivo sobre Gestión Escolar y Política Docente de la OCDE en México.   \n",
       "387                                                                                                              Reforzar la gestión de la diversidad. Los esfuerzos deben dirigirse tanto a crear capacidad docente a corto plazo en todo el país para acoger a los recién llegados como a crear capacidad a medio y largo plazo para garantizar que los inmigrantes alcancen su pleno potencial y se conviertan en participantes activos en la vida económica y social de su comunidad local. A corto plazo, uno de los principales objetivos debe ser formar y reciclar al mayor número posible de profesores para que sepan cómo ayudar a los niños con conocimientos lingüísticos mínimos, con padres poco instruidos y que llegan a Suecia después de los 12 años con escasos conocimientos previos (debido a la mala calidad de la educación que recibieron en su país de origen o a la falta de oportunidades durante un largo periodo de tiempo durante el proceso de migración). Un reto fundamental es proporcionar un apoyo lingüístico adecuado a los jóvenes que llegan a Suecia después de los 12 años, con escasos conocimientos previos de lectura y escritura.   \n",
       "1349                                                                                                                                                                                                                                                                                                                                                                                                                                                                            La falta de habilidades generales, en particular la alfabetización y la aritmética, puede ser un problema para la empleabilidad a largo plazo, ya que hace que sea más difícil volver a capacitarse para adaptarse a las necesidades cambiantes del mercado laboral. Retrasar el seguimiento de los alumnos contribuiría a paliar esta falta de competencias generales. El acceso a las escuelas generales, secundarias profesionales y de formación profesional (este último hace más hincapié en las habilidades prácticas y reagrupa a una cuarta parte de los estudiantes, Figura 12) actualmente tiene lugar a los 14 años, frente a los 15-16 años en la mayoría de los países de la OCDE.   \n",
       "\n",
       "      sdg  \\\n",
       "178   NaN   \n",
       "860   NaN   \n",
       "658   NaN   \n",
       "387   NaN   \n",
       "1349  NaN   \n",
       "\n",
       "                                                                                                                                                                                                                                                                                                                                                                                                                                                                                                                                                                                                                                                                                                                                                                                                                                                                                                                                                                                                                                                                                                                   words  \n",
       "178                                                                                                                                                                                                                                                                                                                                                                                                                                                                                                   asimismo puntos referencia internacionales rendimiento estudiantes proporcionados encuestas internacionales estudiantes pisa timss influido hora impulsar desarrollo politicas nivel sistema ademas ncese cuyos servicios partir two thousand and fifteen integraron iac tambien realiza encuestas evaluar opiniones sociedad educacion incluyen recopilacion opiniones perspectivas directores profesores padres estudiantes posibles empleadores contrario existe marco evaluar trabajo departamentos educacion rayons oblasts aunque supervision trabajo pueda seguirse base resultados aprendizaje estudiantes  \n",
       "860   two thousand and fourteen nueva ley electoral incluso requeria partidos alcanzaran paridad genero listas candidatos elecciones legislativas federales estatales alternaran generos dentro listas ocde two thousand and seventeen nine ultimas elecciones introdujeran cuotas two thousand and seven eighteen mujeres elegidas parlamento nacional two thousand and nine primeras elecciones tras introduccion cuota fiftytwo mujeres elegidas cambio one hundred and eightynine eslovenia solo percibido cambio modesto eleven mujeres elegidas ultimas elecciones introdujera cuota two thousand and four twelve primeras elecciones despues aplicara cuota two thousand and eight cambio nine embargo numero mujeres candidatas aumento two thousand and eight aunque numero total candidatos disminuyo twentyfour total candidatos mujeres two thousand and four frente thirtyfive two thousand and eight polonia ultimas elecciones aplicacion cuota two thousand and seven resultaron elegidas ninetyfour mujeres frente one hundred and ten two thousand and eleven tras introduccion cuota cambio seventeen  \n",
       "658                                                                                                                                                                                                                                                                                                                                                                                                                                                                                                                                                                  mas especificamente establecio acuerdo ocde secretaria educacion publica sep mexico apoyar diseno implementacion reformas politica educativa mejorar calidad equidad sistema educativo mexico 20082010 solicito apoyo especificamente areas trayectoria profesional docente gestion escolar liderazgo participacion social tres tipos contribuciones incluyen analisis comparativos comunicaciones talleres conferencias visitas paises recomendaciones presentadas informe realizadas grupo directivo gestion escolar politica docente ocde mexico  \n",
       "387                                                                                                                                                                                                                                                                                                                                 reforzar gestion diversidad esfuerzos deben dirigirse crear capacidad docente corto plazo pais acoger recien llegados crear capacidad medio largo plazo garantizar inmigrantes alcancen pleno potencial conviertan participantes activos vida economica social comunidad local corto plazo principales objetivos debe ser formar reciclar mayor numero posible profesores sepan ayudar ninos conocimientos linguisticos minimos padres instruidos llegan suecia despues twelve anos escasos conocimientos previos debido mala calidad educacion recibieron pais origen falta oportunidades largo periodo tiempo proceso migracion reto fundamental proporcionar apoyo linguistico adecuado jovenes llegan suecia despues twelve anos escasos conocimientos previos lectura escritura  \n",
       "1349                                                                                                                                                                                                                                                                                                                                                                                                                                                                                                                                                                                      falta habilidades generales particular alfabetizacion aritmetica puede ser problema empleabilidad largo plazo hace mas dificil volver capacitarse adaptarse necesidades cambiantes mercado laboral retrasar seguimiento alumnos contribuiria paliar falta competencias generales acceso escuelas generales secundarias profesionales formacion profesional ultimo hace mas hincapie habilidades practicas reagrupa cuarta parte estudiantes figura twelve actualmente lugar fourteen anos frente 1516 anos mayoria paises ocde  "
      ]
     },
     "execution_count": 1120,
     "metadata": {},
     "output_type": "execute_result"
    }
   ],
   "source": [
    "data_t_nuevo.sample(5)"
   ]
  },
  {
   "cell_type": "code",
   "execution_count": 1121,
   "metadata": {},
   "outputs": [],
   "source": [
    "data_t_nuevo['sdg'] = pipeline_2.predict(data_t_nuevo['words'])"
   ]
  },
  {
   "cell_type": "code",
   "execution_count": 1122,
   "metadata": {},
   "outputs": [
    {
     "data": {
      "text/plain": [
       "count    1759.000000\n",
       "mean        4.142126\n",
       "std         0.789748\n",
       "min         3.000000\n",
       "25%         3.000000\n",
       "50%         4.000000\n",
       "75%         5.000000\n",
       "max         5.000000\n",
       "Name: sdg, dtype: float64"
      ]
     },
     "execution_count": 1122,
     "metadata": {},
     "output_type": "execute_result"
    }
   ],
   "source": [
    "data_t_nuevo['sdg'].describe()"
   ]
  },
  {
   "cell_type": "code",
   "execution_count": 1123,
   "metadata": {},
   "outputs": [
    {
     "data": {
      "image/png": "[encoded data removed]",
      "text/plain": [
       "<Figure size 640x480 with 1 Axes>"
      ]
     },
     "metadata": {},
     "output_type": "display_data"
    }
   ],
   "source": [
    "# Create a histogram plot of selling prices\n",
    "import seaborn as sns\n",
    "\n",
    "# Create a histogram plot of selling prices\n",
    "sns.histplot(data_t_nuevo['sdg'])\n",
    "plt.xlim(3, 5)\n",
    "# Display the plot\n",
    "plt.show()"
   ]
  },
  {
   "cell_type": "code",
   "execution_count": 1124,
   "metadata": {},
   "outputs": [
    {
     "data": {
      "image/png": "[encoded data removed]",
      "text/plain": [
       "<Figure size 640x480 with 1 Axes>"
      ]
     },
     "metadata": {},
     "output_type": "display_data"
    }
   ],
   "source": [
    "sns.histplot(data_t['sdg'])\n",
    "plt.xlim(3, 5)\n",
    "plt.show()"
   ]
  },
  {
   "cell_type": "code",
   "execution_count": 1125,
   "metadata": {},
   "outputs": [
    {
     "data": {
      "text/html": [
       "<div>\n",
       "<style scoped>\n",
       "    .dataframe tbody tr th:only-of-type {\n",
       "        vertical-align: middle;\n",
       "    }\n",
       "\n",
       "    .dataframe tbody tr th {\n",
       "        vertical-align: top;\n",
       "    }\n",
       "\n",
       "    .dataframe thead th {\n",
       "        text-align: right;\n",
       "    }\n",
       "</style>\n",
       "<table border=\"1\" class=\"dataframe\">\n",
       "  <thead>\n",
       "    <tr style=\"text-align: right;\">\n",
       "      <th></th>\n",
       "      <th>Textos_espanol</th>\n",
       "      <th>sdg</th>\n",
       "      <th>words</th>\n",
       "    </tr>\n",
       "  </thead>\n",
       "  <tbody>\n",
       "    <tr>\n",
       "      <th>913</th>\n",
       "      <td>La implicación es que la aspiración de los estudiantes VET de ingresar a la educación terciaria es bastante consistente con la experiencia de los países de la OCDE. También implica en Egipto como en otros lugares que los programas vocacionales deben preparar a los estudiantes no solo para el ingreso directo al mercado laboral, sino también para una gama de programas educativos y de capacitación adicionales, incluida la educación terciaria. Esto implica un énfasis suficiente en las habilidades básicas de lectoescritura y aritmética para sustentar el aprendizaje posterior.</td>\n",
       "      <td>4</td>\n",
       "      <td>implicacion aspiracion estudiantes vet ingresar educacion terciaria bastante consistente experiencia paises ocde tambien implica egipto lugares programas vocacionales deben preparar estudiantes solo ingreso directo mercado laboral sino tambien gama programas educativos capacitacion adicionales incluida educacion terciaria implica enfasis suficiente habilidades basicas lectoescritura aritmetica sustentar aprendizaje posterior</td>\n",
       "    </tr>\n",
       "    <tr>\n",
       "      <th>1098</th>\n",
       "      <td>Las familias pueden permitir que las mujeres y las niñas prosperen y desarrollen su potencial, además de ser los componentes básicos de comunidades, sociedades y economías prósperas. Pero las familias pueden tener un lado más oscuro: pueden ser lugares de violencia y discriminación, espacios donde a las mujeres y las niñas a menudo se les niegan los recursos que necesitan, donde a veces comen menos y son las últimas y donde se silencian sus voces y se niega su autonomía. Como tal, el reconocimiento de las familias como un espacio ambivalente para mujeres y niñas ha estado en el centro de este Informe.</td>\n",
       "      <td>5</td>\n",
       "      <td>familias pueden permitir mujeres ninas prosperen desarrollen potencial ademas ser componentes basicos comunidades sociedades economias prosperas familias pueden tener lado mas oscuro pueden ser lugares violencia discriminacion espacios mujeres ninas menudo niegan recursos necesitan veces comen menos ultimas silencian voces niega autonomia tal reconocimiento familias espacio ambivalente mujeres ninas centro informe</td>\n",
       "    </tr>\n",
       "    <tr>\n",
       "      <th>779</th>\n",
       "      <td>Se informaron cantidades decrecientes de incautaciones de ketamina en Indonesia (de 117 kg en 2010 a 4,7 kg en 2013) y Malasia. Se sigue denunciando la incautación de las sustancias psicoactivas de origen vegetal kratom y khat y la erradicación de su cultivo. Tailandia notificó el mayor total de incautaciones de kratom en la región en 2014 (54 t), frente a las 45,5 t de 2013. También se informó de incautaciones considerables de kratom en Myanmar (219 kg en 2013). Se incautaron más de 6 toneladas de khat en Hong Kong, China, en 2014. Se encontraron casi 2 toneladas de hojas de khat importadas de África en las instalaciones de almacenamiento de cuatro empresas de logística, con destino a los Estados Unidos, Canadá y la provincia china de Taiwán.</td>\n",
       "      <td>3</td>\n",
       "      <td>informaron cantidades decrecientes incautaciones ketamina indonesia one hundred and seventeen kg two thousand and ten 47 kg two thousand and thirteen malasia sigue denunciando incautacion sustancias psicoactivas origen vegetal kratom khat erradicacion cultivo tailandia notifico mayor total incautaciones kratom region two thousand and fourteen fiftyfour t frente 455 t two thousand and thirteen tambien informo incautaciones considerables kratom myanmar two hundred and nineteen kg two thousand and thirteen incautaron mas six toneladas khat hong kong china two thousand and fourteen encontraron casi two toneladas hojas khat importadas africa instalaciones almacenamiento cuatro empresas logistica destino unidos canada provincia china taiwan</td>\n",
       "    </tr>\n",
       "    <tr>\n",
       "      <th>1468</th>\n",
       "      <td>Sin embargo, la brecha en la participación laboral entre mujeres pobres y no pobres cambió poco entre el inicio y el final de la primera década de los 2000. Dado que las desigualdades socioeconómicas y de género están estrechamente vinculadas, la reducción de cualquier tipo de desigualdad requiere abordar la conciliación de la vida laboral y familiar a través de políticas públicas. Además, no todas las políticas pueden promover la igualdad socioeconómica y de género simultáneamente.</td>\n",
       "      <td>5</td>\n",
       "      <td>embargo brecha participacion laboral mujeres pobres pobres cambio inicio final primera decada two thousand dado desigualdades socioeconomicas genero estan estrechamente vinculadas reduccion cualquier tipo desigualdad requiere abordar conciliacion vida laboral familiar traves politicas publicas ademas todas politicas pueden promover igualdad socioeconomica genero simultaneamente</td>\n",
       "    </tr>\n",
       "    <tr>\n",
       "      <th>1110</th>\n",
       "      <td>La distribución precisa de tareas y responsabilidades entre los proveedores escolares y las escuelas, y por lo tanto el grado de autonomía escolar para el uso y manejo de los recursos, siempre dependerá de los proveedores escolares individuales y sus escuelas (MINEDUC, ACE y ES, 2016, Santiago et al. ., Según esta encuesta, el 13 % de las decisiones en la educación secundaria inferior pública se toman a nivel central (promedio de la OCDE: 24 %), mientras que las autoridades locales y las escuelas toman el 41 % y el 46 % de las decisiones clave, respectivamente (promedio de la OCDE: 17 % y 41% respectivamente) (ver Figura 4.1), por lo que los datos demuestran el importante papel de los proveedores escolares en la gobernanza educativa en Chile.</td>\n",
       "      <td>4</td>\n",
       "      <td>distribucion precisa tareas responsabilidades proveedores escolares escuelas grado autonomia escolar uso manejo recursos siempre dependera proveedores escolares individuales escuelas mineduc ace two thousand and sixteen santiago et segun encuesta thirteen decisiones educacion secundaria inferior publica toman nivel central promedio ocde twentyfour mientras autoridades locales escuelas toman fortyone fortysix decisiones clave respectivamente promedio ocde seventeen fortyone respectivamente ver figura 41 datos demuestran importante papel proveedores escolares gobernanza educativa chile</td>\n",
       "    </tr>\n",
       "  </tbody>\n",
       "</table>\n",
       "</div>"
      ],
      "text/plain": [
       "                                                                                                                                                                                                                                                                                                                                                                                                                                                                                                                                                                                                                                                                                                                                                                         Textos_espanol  \\\n",
       "913                                                                                                                                                                                   La implicación es que la aspiración de los estudiantes VET de ingresar a la educación terciaria es bastante consistente con la experiencia de los países de la OCDE. También implica en Egipto como en otros lugares que los programas vocacionales deben preparar a los estudiantes no solo para el ingreso directo al mercado laboral, sino también para una gama de programas educativos y de capacitación adicionales, incluida la educación terciaria. Esto implica un énfasis suficiente en las habilidades básicas de lectoescritura y aritmética para sustentar el aprendizaje posterior.   \n",
       "1098                                                                                                                                                   Las familias pueden permitir que las mujeres y las niñas prosperen y desarrollen su potencial, además de ser los componentes básicos de comunidades, sociedades y economías prósperas. Pero las familias pueden tener un lado más oscuro: pueden ser lugares de violencia y discriminación, espacios donde a las mujeres y las niñas a menudo se les niegan los recursos que necesitan, donde a veces comen menos y son las últimas y donde se silencian sus voces y se niega su autonomía. Como tal, el reconocimiento de las familias como un espacio ambivalente para mujeres y niñas ha estado en el centro de este Informe.   \n",
       "779   Se informaron cantidades decrecientes de incautaciones de ketamina en Indonesia (de 117 kg en 2010 a 4,7 kg en 2013) y Malasia. Se sigue denunciando la incautación de las sustancias psicoactivas de origen vegetal kratom y khat y la erradicación de su cultivo. Tailandia notificó el mayor total de incautaciones de kratom en la región en 2014 (54 t), frente a las 45,5 t de 2013. También se informó de incautaciones considerables de kratom en Myanmar (219 kg en 2013). Se incautaron más de 6 toneladas de khat en Hong Kong, China, en 2014. Se encontraron casi 2 toneladas de hojas de khat importadas de África en las instalaciones de almacenamiento de cuatro empresas de logística, con destino a los Estados Unidos, Canadá y la provincia china de Taiwán.   \n",
       "1468                                                                                                                                                                                                                                                                            Sin embargo, la brecha en la participación laboral entre mujeres pobres y no pobres cambió poco entre el inicio y el final de la primera década de los 2000. Dado que las desigualdades socioeconómicas y de género están estrechamente vinculadas, la reducción de cualquier tipo de desigualdad requiere abordar la conciliación de la vida laboral y familiar a través de políticas públicas. Además, no todas las políticas pueden promover la igualdad socioeconómica y de género simultáneamente.   \n",
       "1110   La distribución precisa de tareas y responsabilidades entre los proveedores escolares y las escuelas, y por lo tanto el grado de autonomía escolar para el uso y manejo de los recursos, siempre dependerá de los proveedores escolares individuales y sus escuelas (MINEDUC, ACE y ES, 2016, Santiago et al. ., Según esta encuesta, el 13 % de las decisiones en la educación secundaria inferior pública se toman a nivel central (promedio de la OCDE: 24 %), mientras que las autoridades locales y las escuelas toman el 41 % y el 46 % de las decisiones clave, respectivamente (promedio de la OCDE: 17 % y 41% respectivamente) (ver Figura 4.1), por lo que los datos demuestran el importante papel de los proveedores escolares en la gobernanza educativa en Chile.   \n",
       "\n",
       "      sdg  \\\n",
       "913     4   \n",
       "1098    5   \n",
       "779     3   \n",
       "1468    5   \n",
       "1110    4   \n",
       "\n",
       "                                                                                                                                                                                                                                                                                                                                                                                                                                                                                                                                                                                                                                                                                                                                                                         words  \n",
       "913                                                                                                                                                                                                                                                                                                                               implicacion aspiracion estudiantes vet ingresar educacion terciaria bastante consistente experiencia paises ocde tambien implica egipto lugares programas vocacionales deben preparar estudiantes solo ingreso directo mercado laboral sino tambien gama programas educativos capacitacion adicionales incluida educacion terciaria implica enfasis suficiente habilidades basicas lectoescritura aritmetica sustentar aprendizaje posterior  \n",
       "1098                                                                                                                                                                                                                                                                                                                                         familias pueden permitir mujeres ninas prosperen desarrollen potencial ademas ser componentes basicos comunidades sociedades economias prosperas familias pueden tener lado mas oscuro pueden ser lugares violencia discriminacion espacios mujeres ninas menudo niegan recursos necesitan veces comen menos ultimas silencian voces niega autonomia tal reconocimiento familias espacio ambivalente mujeres ninas centro informe  \n",
       "779   informaron cantidades decrecientes incautaciones ketamina indonesia one hundred and seventeen kg two thousand and ten 47 kg two thousand and thirteen malasia sigue denunciando incautacion sustancias psicoactivas origen vegetal kratom khat erradicacion cultivo tailandia notifico mayor total incautaciones kratom region two thousand and fourteen fiftyfour t frente 455 t two thousand and thirteen tambien informo incautaciones considerables kratom myanmar two hundred and nineteen kg two thousand and thirteen incautaron mas six toneladas khat hong kong china two thousand and fourteen encontraron casi two toneladas hojas khat importadas africa instalaciones almacenamiento cuatro empresas logistica destino unidos canada provincia china taiwan  \n",
       "1468                                                                                                                                                                                                                                                                                                                                                                              embargo brecha participacion laboral mujeres pobres pobres cambio inicio final primera decada two thousand dado desigualdades socioeconomicas genero estan estrechamente vinculadas reduccion cualquier tipo desigualdad requiere abordar conciliacion vida laboral familiar traves politicas publicas ademas todas politicas pueden promover igualdad socioeconomica genero simultaneamente  \n",
       "1110                                                                                                                                                            distribucion precisa tareas responsabilidades proveedores escolares escuelas grado autonomia escolar uso manejo recursos siempre dependera proveedores escolares individuales escuelas mineduc ace two thousand and sixteen santiago et segun encuesta thirteen decisiones educacion secundaria inferior publica toman nivel central promedio ocde twentyfour mientras autoridades locales escuelas toman fortyone fortysix decisiones clave respectivamente promedio ocde seventeen fortyone respectivamente ver figura 41 datos demuestran importante papel proveedores escolares gobernanza educativa chile  "
      ]
     },
     "execution_count": 1125,
     "metadata": {},
     "output_type": "execute_result"
    }
   ],
   "source": [
    "data_t_nuevo.sample(5)"
   ]
  }
 ],
 "metadata": {
  "kernelspec": {
   "display_name": "Python 3",
   "language": "python",
   "name": "python3"
  },
  "language_info": {
   "codemirror_mode": {
    "name": "ipython",
    "version": 3
   },
   "file_extension": ".py",
   "mimetype": "text/x-python",
   "name": "python",
   "nbconvert_exporter": "python",
   "pygments_lexer": "ipython3",
   "version": "3.10.8"
  }
 },
 "nbformat": 4,
 "nbformat_minor": 2
}
