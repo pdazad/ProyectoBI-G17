{
 "cells": [
  {
   "cell_type": "markdown",
   "metadata": {},
   "source": [
    "# Proyecto BI - Análitica de Texto según ODS"
   ]
  },
  {
   "cell_type": "markdown",
   "metadata": {},
   "source": [
    "## Etapa 1"
   ]
  },
  {
   "cell_type": "markdown",
   "metadata": {},
   "source": [
    "## Objetivos\n",
    "\n",
    "*   Aplicar la metodología de analítica de textos para la construcción de soluciones de analítica alineadas con los objetivos del negocio en un contexto de aplicación.\n",
    "*   Planear la interacción con un grupo interdisciplinario para identificar usuarios y posibles herramientas a desarrollar para la interacción del resultado del modelo desarrollado."
   ]
  },
  {
   "cell_type": "markdown",
   "metadata": {},
   "source": [
    "## Problema\n",
    "<p style=\"text-align: justify;\"> Desarrollar un modelo de clasificación, con técnicas de aprendizaje automático, que permita relacionar de manera automática un texto según los ODS. Al igual que desarrollar una aplicación que facilite la interacción con el resultado de dicho modelo. El modelo podrá ser utilizado entonces para la interpretación y análisis de la información textual que es recopilada a través de diferentes fuentes por UNFPA en procesos de planeación participativa para el desarrollo a nivel territorial.\n"
   ]
  },
  {
   "cell_type": "markdown",
   "metadata": {},
   "source": [
    "### 1. Instalación e importanción de librerías."
   ]
  },
  {
   "cell_type": "code",
   "execution_count": 1,
   "metadata": {},
   "outputs": [
    {
     "name": "stdout",
     "output_type": "stream",
     "text": [
      "Requirement already satisfied: ftfy in /Users/sofiatorres/anaconda3/lib/python3.10/site-packages (6.1.1)\n",
      "Requirement already satisfied: wcwidth>=0.2.5 in /Users/sofiatorres/anaconda3/lib/python3.10/site-packages (from ftfy) (0.2.5)\n",
      "\n",
      "\u001b[1m[\u001b[0m\u001b[34;49mnotice\u001b[0m\u001b[1;39;49m]\u001b[0m\u001b[39;49m A new release of pip is available: \u001b[0m\u001b[31;49m23.2.1\u001b[0m\u001b[39;49m -> \u001b[0m\u001b[32;49m23.3.1\u001b[0m\n",
      "\u001b[1m[\u001b[0m\u001b[34;49mnotice\u001b[0m\u001b[1;39;49m]\u001b[0m\u001b[39;49m To update, run: \u001b[0m\u001b[32;49mpip install --upgrade pip\u001b[0m\n"
     ]
    }
   ],
   "source": [
    "!pip install ftfy"
   ]
  },
  {
   "cell_type": "code",
   "execution_count": 2,
   "metadata": {},
   "outputs": [
    {
     "name": "stdout",
     "output_type": "stream",
     "text": [
      "Requirement already satisfied: openpyxl in /Users/sofiatorres/anaconda3/lib/python3.10/site-packages (3.1.2)\n",
      "Requirement already satisfied: et-xmlfile in /Users/sofiatorres/anaconda3/lib/python3.10/site-packages (from openpyxl) (1.1.0)\n",
      "\n",
      "\u001b[1m[\u001b[0m\u001b[34;49mnotice\u001b[0m\u001b[1;39;49m]\u001b[0m\u001b[39;49m A new release of pip is available: \u001b[0m\u001b[31;49m23.2.1\u001b[0m\u001b[39;49m -> \u001b[0m\u001b[32;49m23.3.1\u001b[0m\n",
      "\u001b[1m[\u001b[0m\u001b[34;49mnotice\u001b[0m\u001b[1;39;49m]\u001b[0m\u001b[39;49m To update, run: \u001b[0m\u001b[32;49mpip install --upgrade pip\u001b[0m\n",
      "Note: you may need to restart the kernel to use updated packages.\n"
     ]
    }
   ],
   "source": [
    "pip install openpyxl"
   ]
  },
  {
   "cell_type": "code",
   "execution_count": 3,
   "metadata": {},
   "outputs": [
    {
     "name": "stdout",
     "output_type": "stream",
     "text": [
      "Requirement already satisfied: unidecode in /Users/sofiatorres/anaconda3/lib/python3.10/site-packages (1.2.0)\n",
      "\n",
      "\u001b[1m[\u001b[0m\u001b[34;49mnotice\u001b[0m\u001b[1;39;49m]\u001b[0m\u001b[39;49m A new release of pip is available: \u001b[0m\u001b[31;49m23.2.1\u001b[0m\u001b[39;49m -> \u001b[0m\u001b[32;49m23.3.1\u001b[0m\n",
      "\u001b[1m[\u001b[0m\u001b[34;49mnotice\u001b[0m\u001b[1;39;49m]\u001b[0m\u001b[39;49m To update, run: \u001b[0m\u001b[32;49mpip install --upgrade pip\u001b[0m\n"
     ]
    }
   ],
   "source": [
    "!pip install unidecode"
   ]
  },
  {
   "cell_type": "code",
   "execution_count": 4,
   "metadata": {},
   "outputs": [
    {
     "name": "stdout",
     "output_type": "stream",
     "text": [
      "Requirement already satisfied: contractions in /Users/sofiatorres/anaconda3/lib/python3.10/site-packages (0.1.73)\n",
      "Requirement already satisfied: textsearch>=0.0.21 in /Users/sofiatorres/anaconda3/lib/python3.10/site-packages (from contractions) (0.0.24)\n",
      "Requirement already satisfied: anyascii in /Users/sofiatorres/anaconda3/lib/python3.10/site-packages (from textsearch>=0.0.21->contractions) (0.3.2)\n",
      "Requirement already satisfied: pyahocorasick in /Users/sofiatorres/anaconda3/lib/python3.10/site-packages (from textsearch>=0.0.21->contractions) (2.0.0)\n",
      "\n",
      "\u001b[1m[\u001b[0m\u001b[34;49mnotice\u001b[0m\u001b[1;39;49m]\u001b[0m\u001b[39;49m A new release of pip is available: \u001b[0m\u001b[31;49m23.2.1\u001b[0m\u001b[39;49m -> \u001b[0m\u001b[32;49m23.3.1\u001b[0m\n",
      "\u001b[1m[\u001b[0m\u001b[34;49mnotice\u001b[0m\u001b[1;39;49m]\u001b[0m\u001b[39;49m To update, run: \u001b[0m\u001b[32;49mpip install --upgrade pip\u001b[0m\n"
     ]
    }
   ],
   "source": [
    "# Librería para manejar las contracciones que se presentan en el inglés.\n",
    "!pip install contractions"
   ]
  },
  {
   "cell_type": "code",
   "execution_count": 5,
   "metadata": {},
   "outputs": [],
   "source": [
    "# librería para manejar las flexiones gramaticales en el idioma inglés.\n",
    "# !pip install inflect\n",
    "# !pip install pandas-profiling==2.7.1"
   ]
  },
  {
   "cell_type": "code",
   "execution_count": 6,
   "metadata": {},
   "outputs": [
    {
     "name": "stderr",
     "output_type": "stream",
     "text": [
      "[nltk_data] Downloading package punkt to\n",
      "[nltk_data]     /Users/sofiatorres/nltk_data...\n",
      "[nltk_data]   Package punkt is already up-to-date!\n"
     ]
    },
    {
     "data": {
      "text/plain": [
       "True"
      ]
     },
     "execution_count": 6,
     "metadata": {},
     "output_type": "execute_result"
    }
   ],
   "source": [
    "# librería Natural Language Toolkit, usada para trabajar con textos \n",
    "import nltk\n",
    "# Punkt permite separar un texto en frases.\n",
    "nltk.download('punkt')"
   ]
  },
  {
   "cell_type": "code",
   "execution_count": 7,
   "metadata": {},
   "outputs": [
    {
     "name": "stderr",
     "output_type": "stream",
     "text": [
      "[nltk_data] Downloading package wordnet to\n",
      "[nltk_data]     /Users/sofiatorres/nltk_data...\n",
      "[nltk_data]   Package wordnet is already up-to-date!\n"
     ]
    },
    {
     "data": {
      "text/plain": [
       "True"
      ]
     },
     "execution_count": 7,
     "metadata": {},
     "output_type": "execute_result"
    }
   ],
   "source": [
    "# Descarga de paquete WordNetLemmatizer, este es usado para encontrar el lema de cada palabra\n",
    "# ¿Qué es el lema de una palabra? ¿Qué tan dificil puede ser obtenerlo, piensa en el caso en que tuvieras que escribir la función que realiza esta tarea?\n",
    "nltk.download('wordnet')"
   ]
  },
  {
   "cell_type": "code",
   "execution_count": 8,
   "metadata": {},
   "outputs": [
    {
     "name": "stderr",
     "output_type": "stream",
     "text": [
      "/var/folders/c3/74tsbvcd7f59g59y1gww3qk40000gn/T/ipykernel_1418/3507715297.py:5: DeprecationWarning: `import pandas_profiling` is going to be deprecated by April 1st. Please use `import ydata_profiling` instead.\n",
      "  from pandas_profiling import ProfileReport\n",
      "[nltk_data] Downloading package wordnet to\n",
      "[nltk_data]     /Users/sofiatorres/nltk_data...\n",
      "[nltk_data]   Package wordnet is already up-to-date!\n"
     ]
    }
   ],
   "source": [
    "# Instalación de librerias\n",
    "import pandas as pd\n",
    "import numpy as np\n",
    "import sys\n",
    "from pandas_profiling import ProfileReport\n",
    "from unidecode import unidecode\n",
    "\n",
    "import re, string, unicodedata\n",
    "import contractions\n",
    "import inflect\n",
    "from nltk import word_tokenize, sent_tokenize\n",
    "from nltk.corpus import stopwords\n",
    "from nltk.stem import LancasterStemmer, WordNetLemmatizer\n",
    "import nltk\n",
    "from nltk.corpus import wordnet\n",
    "from nltk.stem import PorterStemmer\n",
    "nltk.download('wordnet')\n",
    "\n",
    "\n",
    "from sklearn.model_selection import train_test_split,GridSearchCV\n",
    "from sklearn.feature_extraction.text import TfidfVectorizer, CountVectorizer, HashingVectorizer\n",
    "from sklearn.pipeline import Pipeline, FeatureUnion\n",
    "from sklearn.svm import SVC\n",
    "from sklearn.ensemble import BaggingClassifier, RandomForestClassifier, AdaBoostClassifier\n",
    "from sklearn.naive_bayes import BernoulliNB\n",
    "from sklearn.metrics import classification_report, confusion_matrix\n",
    "#from sklearn.metrics import plot_precision_recall_curve\n",
    "from sklearn.base import BaseEstimator, ClassifierMixin\n",
    "from nltk.tokenize import word_tokenize\n",
    "from sklearn.metrics import (\n",
    "    ConfusionMatrixDisplay, RocCurveDisplay,\n",
    "    roc_auc_score, precision_score, recall_score, f1_score, accuracy_score,\n",
    ")\n",
    "from sklearn.model_selection import train_test_split, RandomizedSearchCV\n",
    "from sklearn.pipeline import Pipeline\n",
    "from sklearn.tree import DecisionTreeClassifier\n",
    "\n",
    "import matplotlib.pyplot as plt\n"
   ]
  },
  {
   "cell_type": "code",
   "execution_count": 9,
   "metadata": {},
   "outputs": [],
   "source": [
    "import warnings\n",
    "warnings.filterwarnings(\"ignore\")"
   ]
  },
  {
   "cell_type": "code",
   "execution_count": 10,
   "metadata": {},
   "outputs": [],
   "source": [
    "# Configuring pandas to show all cell content\n",
    "pd.set_option(\"display.max_colwidth\", None)"
   ]
  },
  {
   "cell_type": "code",
   "execution_count": 11,
   "metadata": {},
   "outputs": [
    {
     "name": "stderr",
     "output_type": "stream",
     "text": [
      "[nltk_data] Downloading package punkt to\n",
      "[nltk_data]     /Users/sofiatorres/nltk_data...\n",
      "[nltk_data]   Package punkt is already up-to-date!\n",
      "[nltk_data] Downloading package stopwords to\n",
      "[nltk_data]     /Users/sofiatorres/nltk_data...\n",
      "[nltk_data]   Package stopwords is already up-to-date!\n"
     ]
    }
   ],
   "source": [
    "# Downloading stopwords\n",
    "nltk.download(\"punkt\")\n",
    "nltk.download(\"stopwords\")\n",
    "stop_words = stopwords.words(\"spanish\")"
   ]
  },
  {
   "cell_type": "code",
   "execution_count": 12,
   "metadata": {},
   "outputs": [
    {
     "data": {
      "text/plain": [
       "['de',\n",
       " 'la',\n",
       " 'que',\n",
       " 'el',\n",
       " 'en',\n",
       " 'y',\n",
       " 'a',\n",
       " 'los',\n",
       " 'del',\n",
       " 'se',\n",
       " 'las',\n",
       " 'por',\n",
       " 'un',\n",
       " 'para',\n",
       " 'con',\n",
       " 'no',\n",
       " 'una',\n",
       " 'su',\n",
       " 'al',\n",
       " 'lo',\n",
       " 'como',\n",
       " 'más',\n",
       " 'pero',\n",
       " 'sus',\n",
       " 'le',\n",
       " 'ya',\n",
       " 'o',\n",
       " 'este',\n",
       " 'sí',\n",
       " 'porque',\n",
       " 'esta',\n",
       " 'entre',\n",
       " 'cuando',\n",
       " 'muy',\n",
       " 'sin',\n",
       " 'sobre',\n",
       " 'también',\n",
       " 'me',\n",
       " 'hasta',\n",
       " 'hay',\n",
       " 'donde',\n",
       " 'quien',\n",
       " 'desde',\n",
       " 'todo',\n",
       " 'nos',\n",
       " 'durante',\n",
       " 'todos',\n",
       " 'uno',\n",
       " 'les',\n",
       " 'ni',\n",
       " 'contra',\n",
       " 'otros',\n",
       " 'ese',\n",
       " 'eso',\n",
       " 'ante',\n",
       " 'ellos',\n",
       " 'e',\n",
       " 'esto',\n",
       " 'mí',\n",
       " 'antes',\n",
       " 'algunos',\n",
       " 'qué',\n",
       " 'unos',\n",
       " 'yo',\n",
       " 'otro',\n",
       " 'otras',\n",
       " 'otra',\n",
       " 'él',\n",
       " 'tanto',\n",
       " 'esa',\n",
       " 'estos',\n",
       " 'mucho',\n",
       " 'quienes',\n",
       " 'nada',\n",
       " 'muchos',\n",
       " 'cual',\n",
       " 'poco',\n",
       " 'ella',\n",
       " 'estar',\n",
       " 'estas',\n",
       " 'algunas',\n",
       " 'algo',\n",
       " 'nosotros',\n",
       " 'mi',\n",
       " 'mis',\n",
       " 'tú',\n",
       " 'te',\n",
       " 'ti',\n",
       " 'tu',\n",
       " 'tus',\n",
       " 'ellas',\n",
       " 'nosotras',\n",
       " 'vosotros',\n",
       " 'vosotras',\n",
       " 'os',\n",
       " 'mío',\n",
       " 'mía',\n",
       " 'míos',\n",
       " 'mías',\n",
       " 'tuyo',\n",
       " 'tuya',\n",
       " 'tuyos',\n",
       " 'tuyas',\n",
       " 'suyo',\n",
       " 'suya',\n",
       " 'suyos',\n",
       " 'suyas',\n",
       " 'nuestro',\n",
       " 'nuestra',\n",
       " 'nuestros',\n",
       " 'nuestras',\n",
       " 'vuestro',\n",
       " 'vuestra',\n",
       " 'vuestros',\n",
       " 'vuestras',\n",
       " 'esos',\n",
       " 'esas',\n",
       " 'estoy',\n",
       " 'estás',\n",
       " 'está',\n",
       " 'estamos',\n",
       " 'estáis',\n",
       " 'están',\n",
       " 'esté',\n",
       " 'estés',\n",
       " 'estemos',\n",
       " 'estéis',\n",
       " 'estén',\n",
       " 'estaré',\n",
       " 'estarás',\n",
       " 'estará',\n",
       " 'estaremos',\n",
       " 'estaréis',\n",
       " 'estarán',\n",
       " 'estaría',\n",
       " 'estarías',\n",
       " 'estaríamos',\n",
       " 'estaríais',\n",
       " 'estarían',\n",
       " 'estaba',\n",
       " 'estabas',\n",
       " 'estábamos',\n",
       " 'estabais',\n",
       " 'estaban',\n",
       " 'estuve',\n",
       " 'estuviste',\n",
       " 'estuvo',\n",
       " 'estuvimos',\n",
       " 'estuvisteis',\n",
       " 'estuvieron',\n",
       " 'estuviera',\n",
       " 'estuvieras',\n",
       " 'estuviéramos',\n",
       " 'estuvierais',\n",
       " 'estuvieran',\n",
       " 'estuviese',\n",
       " 'estuvieses',\n",
       " 'estuviésemos',\n",
       " 'estuvieseis',\n",
       " 'estuviesen',\n",
       " 'estando',\n",
       " 'estado',\n",
       " 'estada',\n",
       " 'estados',\n",
       " 'estadas',\n",
       " 'estad',\n",
       " 'he',\n",
       " 'has',\n",
       " 'ha',\n",
       " 'hemos',\n",
       " 'habéis',\n",
       " 'han',\n",
       " 'haya',\n",
       " 'hayas',\n",
       " 'hayamos',\n",
       " 'hayáis',\n",
       " 'hayan',\n",
       " 'habré',\n",
       " 'habrás',\n",
       " 'habrá',\n",
       " 'habremos',\n",
       " 'habréis',\n",
       " 'habrán',\n",
       " 'habría',\n",
       " 'habrías',\n",
       " 'habríamos',\n",
       " 'habríais',\n",
       " 'habrían',\n",
       " 'había',\n",
       " 'habías',\n",
       " 'habíamos',\n",
       " 'habíais',\n",
       " 'habían',\n",
       " 'hube',\n",
       " 'hubiste',\n",
       " 'hubo',\n",
       " 'hubimos',\n",
       " 'hubisteis',\n",
       " 'hubieron',\n",
       " 'hubiera',\n",
       " 'hubieras',\n",
       " 'hubiéramos',\n",
       " 'hubierais',\n",
       " 'hubieran',\n",
       " 'hubiese',\n",
       " 'hubieses',\n",
       " 'hubiésemos',\n",
       " 'hubieseis',\n",
       " 'hubiesen',\n",
       " 'habiendo',\n",
       " 'habido',\n",
       " 'habida',\n",
       " 'habidos',\n",
       " 'habidas',\n",
       " 'soy',\n",
       " 'eres',\n",
       " 'es',\n",
       " 'somos',\n",
       " 'sois',\n",
       " 'son',\n",
       " 'sea',\n",
       " 'seas',\n",
       " 'seamos',\n",
       " 'seáis',\n",
       " 'sean',\n",
       " 'seré',\n",
       " 'serás',\n",
       " 'será',\n",
       " 'seremos',\n",
       " 'seréis',\n",
       " 'serán',\n",
       " 'sería',\n",
       " 'serías',\n",
       " 'seríamos',\n",
       " 'seríais',\n",
       " 'serían',\n",
       " 'era',\n",
       " 'eras',\n",
       " 'éramos',\n",
       " 'erais',\n",
       " 'eran',\n",
       " 'fui',\n",
       " 'fuiste',\n",
       " 'fue',\n",
       " 'fuimos',\n",
       " 'fuisteis',\n",
       " 'fueron',\n",
       " 'fuera',\n",
       " 'fueras',\n",
       " 'fuéramos',\n",
       " 'fuerais',\n",
       " 'fueran',\n",
       " 'fuese',\n",
       " 'fueses',\n",
       " 'fuésemos',\n",
       " 'fueseis',\n",
       " 'fuesen',\n",
       " 'sintiendo',\n",
       " 'sentido',\n",
       " 'sentida',\n",
       " 'sentidos',\n",
       " 'sentidas',\n",
       " 'siente',\n",
       " 'sentid',\n",
       " 'tengo',\n",
       " 'tienes',\n",
       " 'tiene',\n",
       " 'tenemos',\n",
       " 'tenéis',\n",
       " 'tienen',\n",
       " 'tenga',\n",
       " 'tengas',\n",
       " 'tengamos',\n",
       " 'tengáis',\n",
       " 'tengan',\n",
       " 'tendré',\n",
       " 'tendrás',\n",
       " 'tendrá',\n",
       " 'tendremos',\n",
       " 'tendréis',\n",
       " 'tendrán',\n",
       " 'tendría',\n",
       " 'tendrías',\n",
       " 'tendríamos',\n",
       " 'tendríais',\n",
       " 'tendrían',\n",
       " 'tenía',\n",
       " 'tenías',\n",
       " 'teníamos',\n",
       " 'teníais',\n",
       " 'tenían',\n",
       " 'tuve',\n",
       " 'tuviste',\n",
       " 'tuvo',\n",
       " 'tuvimos',\n",
       " 'tuvisteis',\n",
       " 'tuvieron',\n",
       " 'tuviera',\n",
       " 'tuvieras',\n",
       " 'tuviéramos',\n",
       " 'tuvierais',\n",
       " 'tuvieran',\n",
       " 'tuviese',\n",
       " 'tuvieses',\n",
       " 'tuviésemos',\n",
       " 'tuvieseis',\n",
       " 'tuviesen',\n",
       " 'teniendo',\n",
       " 'tenido',\n",
       " 'tenida',\n",
       " 'tenidos',\n",
       " 'tenidas',\n",
       " 'tened']"
      ]
     },
     "execution_count": 12,
     "metadata": {},
     "output_type": "execute_result"
    }
   ],
   "source": [
    "stop_words\n"
   ]
  },
  {
   "cell_type": "code",
   "execution_count": 14,
   "metadata": {},
   "outputs": [],
   "source": [
    "stop_words.append(\"usarlas\")"
   ]
  },
  {
   "cell_type": "code",
   "execution_count": 15,
   "metadata": {},
   "outputs": [],
   "source": [
    "stop_words.append(\"ejecutarlo\")"
   ]
  },
  {
   "cell_type": "code",
   "execution_count": 16,
   "metadata": {},
   "outputs": [
    {
     "data": {
      "text/plain": [
       "['de',\n",
       " 'la',\n",
       " 'que',\n",
       " 'el',\n",
       " 'en',\n",
       " 'y',\n",
       " 'a',\n",
       " 'los',\n",
       " 'del',\n",
       " 'se',\n",
       " 'las',\n",
       " 'por',\n",
       " 'un',\n",
       " 'para',\n",
       " 'con',\n",
       " 'no',\n",
       " 'una',\n",
       " 'su',\n",
       " 'al',\n",
       " 'lo',\n",
       " 'como',\n",
       " 'más',\n",
       " 'pero',\n",
       " 'sus',\n",
       " 'le',\n",
       " 'ya',\n",
       " 'o',\n",
       " 'este',\n",
       " 'sí',\n",
       " 'porque',\n",
       " 'esta',\n",
       " 'entre',\n",
       " 'cuando',\n",
       " 'muy',\n",
       " 'sin',\n",
       " 'sobre',\n",
       " 'también',\n",
       " 'me',\n",
       " 'hasta',\n",
       " 'hay',\n",
       " 'donde',\n",
       " 'quien',\n",
       " 'desde',\n",
       " 'todo',\n",
       " 'nos',\n",
       " 'durante',\n",
       " 'todos',\n",
       " 'uno',\n",
       " 'les',\n",
       " 'ni',\n",
       " 'contra',\n",
       " 'otros',\n",
       " 'ese',\n",
       " 'eso',\n",
       " 'ante',\n",
       " 'ellos',\n",
       " 'e',\n",
       " 'esto',\n",
       " 'mí',\n",
       " 'antes',\n",
       " 'algunos',\n",
       " 'qué',\n",
       " 'unos',\n",
       " 'yo',\n",
       " 'otro',\n",
       " 'otras',\n",
       " 'otra',\n",
       " 'él',\n",
       " 'tanto',\n",
       " 'esa',\n",
       " 'estos',\n",
       " 'mucho',\n",
       " 'quienes',\n",
       " 'nada',\n",
       " 'muchos',\n",
       " 'cual',\n",
       " 'poco',\n",
       " 'ella',\n",
       " 'estar',\n",
       " 'estas',\n",
       " 'algunas',\n",
       " 'algo',\n",
       " 'nosotros',\n",
       " 'mi',\n",
       " 'mis',\n",
       " 'tú',\n",
       " 'te',\n",
       " 'ti',\n",
       " 'tu',\n",
       " 'tus',\n",
       " 'ellas',\n",
       " 'nosotras',\n",
       " 'vosotros',\n",
       " 'vosotras',\n",
       " 'os',\n",
       " 'mío',\n",
       " 'mía',\n",
       " 'míos',\n",
       " 'mías',\n",
       " 'tuyo',\n",
       " 'tuya',\n",
       " 'tuyos',\n",
       " 'tuyas',\n",
       " 'suyo',\n",
       " 'suya',\n",
       " 'suyos',\n",
       " 'suyas',\n",
       " 'nuestro',\n",
       " 'nuestra',\n",
       " 'nuestros',\n",
       " 'nuestras',\n",
       " 'vuestro',\n",
       " 'vuestra',\n",
       " 'vuestros',\n",
       " 'vuestras',\n",
       " 'esos',\n",
       " 'esas',\n",
       " 'estoy',\n",
       " 'estás',\n",
       " 'está',\n",
       " 'estamos',\n",
       " 'estáis',\n",
       " 'están',\n",
       " 'esté',\n",
       " 'estés',\n",
       " 'estemos',\n",
       " 'estéis',\n",
       " 'estén',\n",
       " 'estaré',\n",
       " 'estarás',\n",
       " 'estará',\n",
       " 'estaremos',\n",
       " 'estaréis',\n",
       " 'estarán',\n",
       " 'estaría',\n",
       " 'estarías',\n",
       " 'estaríamos',\n",
       " 'estaríais',\n",
       " 'estarían',\n",
       " 'estaba',\n",
       " 'estabas',\n",
       " 'estábamos',\n",
       " 'estabais',\n",
       " 'estaban',\n",
       " 'estuve',\n",
       " 'estuviste',\n",
       " 'estuvo',\n",
       " 'estuvimos',\n",
       " 'estuvisteis',\n",
       " 'estuvieron',\n",
       " 'estuviera',\n",
       " 'estuvieras',\n",
       " 'estuviéramos',\n",
       " 'estuvierais',\n",
       " 'estuvieran',\n",
       " 'estuviese',\n",
       " 'estuvieses',\n",
       " 'estuviésemos',\n",
       " 'estuvieseis',\n",
       " 'estuviesen',\n",
       " 'estando',\n",
       " 'estado',\n",
       " 'estada',\n",
       " 'estados',\n",
       " 'estadas',\n",
       " 'estad',\n",
       " 'he',\n",
       " 'has',\n",
       " 'ha',\n",
       " 'hemos',\n",
       " 'habéis',\n",
       " 'han',\n",
       " 'haya',\n",
       " 'hayas',\n",
       " 'hayamos',\n",
       " 'hayáis',\n",
       " 'hayan',\n",
       " 'habré',\n",
       " 'habrás',\n",
       " 'habrá',\n",
       " 'habremos',\n",
       " 'habréis',\n",
       " 'habrán',\n",
       " 'habría',\n",
       " 'habrías',\n",
       " 'habríamos',\n",
       " 'habríais',\n",
       " 'habrían',\n",
       " 'había',\n",
       " 'habías',\n",
       " 'habíamos',\n",
       " 'habíais',\n",
       " 'habían',\n",
       " 'hube',\n",
       " 'hubiste',\n",
       " 'hubo',\n",
       " 'hubimos',\n",
       " 'hubisteis',\n",
       " 'hubieron',\n",
       " 'hubiera',\n",
       " 'hubieras',\n",
       " 'hubiéramos',\n",
       " 'hubierais',\n",
       " 'hubieran',\n",
       " 'hubiese',\n",
       " 'hubieses',\n",
       " 'hubiésemos',\n",
       " 'hubieseis',\n",
       " 'hubiesen',\n",
       " 'habiendo',\n",
       " 'habido',\n",
       " 'habida',\n",
       " 'habidos',\n",
       " 'habidas',\n",
       " 'soy',\n",
       " 'eres',\n",
       " 'es',\n",
       " 'somos',\n",
       " 'sois',\n",
       " 'son',\n",
       " 'sea',\n",
       " 'seas',\n",
       " 'seamos',\n",
       " 'seáis',\n",
       " 'sean',\n",
       " 'seré',\n",
       " 'serás',\n",
       " 'será',\n",
       " 'seremos',\n",
       " 'seréis',\n",
       " 'serán',\n",
       " 'sería',\n",
       " 'serías',\n",
       " 'seríamos',\n",
       " 'seríais',\n",
       " 'serían',\n",
       " 'era',\n",
       " 'eras',\n",
       " 'éramos',\n",
       " 'erais',\n",
       " 'eran',\n",
       " 'fui',\n",
       " 'fuiste',\n",
       " 'fue',\n",
       " 'fuimos',\n",
       " 'fuisteis',\n",
       " 'fueron',\n",
       " 'fuera',\n",
       " 'fueras',\n",
       " 'fuéramos',\n",
       " 'fuerais',\n",
       " 'fueran',\n",
       " 'fuese',\n",
       " 'fueses',\n",
       " 'fuésemos',\n",
       " 'fueseis',\n",
       " 'fuesen',\n",
       " 'sintiendo',\n",
       " 'sentido',\n",
       " 'sentida',\n",
       " 'sentidos',\n",
       " 'sentidas',\n",
       " 'siente',\n",
       " 'sentid',\n",
       " 'tengo',\n",
       " 'tienes',\n",
       " 'tiene',\n",
       " 'tenemos',\n",
       " 'tenéis',\n",
       " 'tienen',\n",
       " 'tenga',\n",
       " 'tengas',\n",
       " 'tengamos',\n",
       " 'tengáis',\n",
       " 'tengan',\n",
       " 'tendré',\n",
       " 'tendrás',\n",
       " 'tendrá',\n",
       " 'tendremos',\n",
       " 'tendréis',\n",
       " 'tendrán',\n",
       " 'tendría',\n",
       " 'tendrías',\n",
       " 'tendríamos',\n",
       " 'tendríais',\n",
       " 'tendrían',\n",
       " 'tenía',\n",
       " 'tenías',\n",
       " 'teníamos',\n",
       " 'teníais',\n",
       " 'tenían',\n",
       " 'tuve',\n",
       " 'tuviste',\n",
       " 'tuvo',\n",
       " 'tuvimos',\n",
       " 'tuvisteis',\n",
       " 'tuvieron',\n",
       " 'tuviera',\n",
       " 'tuvieras',\n",
       " 'tuviéramos',\n",
       " 'tuvierais',\n",
       " 'tuvieran',\n",
       " 'tuviese',\n",
       " 'tuvieses',\n",
       " 'tuviésemos',\n",
       " 'tuvieseis',\n",
       " 'tuviesen',\n",
       " 'teniendo',\n",
       " 'tenido',\n",
       " 'tenida',\n",
       " 'tenidos',\n",
       " 'tenidas',\n",
       " 'tened',\n",
       " 'usarlas',\n",
       " 'ejecutarlo']"
      ]
     },
     "execution_count": 16,
     "metadata": {},
     "output_type": "execute_result"
    }
   ],
   "source": [
    "stop_words"
   ]
  },
  {
   "cell_type": "markdown",
   "metadata": {},
   "source": [
    "## 2. Perfilamiento y entendimiento de los datos"
   ]
  },
  {
   "cell_type": "markdown",
   "metadata": {},
   "source": [
    "\n",
    "#### Lectura de los datos."
   ]
  },
  {
   "cell_type": "code",
   "execution_count": 17,
   "metadata": {},
   "outputs": [],
   "source": [
    "# Uso de la libreria pandas para la lectura de archivos excel\n",
    "df = pd.read_excel('./data/cat_345.xlsx')\n",
    "df_nuevo = pd.read_excel('./data/SinEtiquetatest_cat_345.xlsx')\n",
    "# Asignación a una nueva variable de los datos leidos\n",
    "data_t=df\n",
    "data_t_nuevo=df_nuevo\n"
   ]
  },
  {
   "cell_type": "code",
   "execution_count": 18,
   "metadata": {},
   "outputs": [
    {
     "data": {
      "text/plain": [
       "(3000, 2)"
      ]
     },
     "execution_count": 18,
     "metadata": {},
     "output_type": "execute_result"
    }
   ],
   "source": [
    "data_t.shape"
   ]
  },
  {
   "cell_type": "code",
   "execution_count": 19,
   "metadata": {},
   "outputs": [
    {
     "data": {
      "text/plain": [
       "(1759, 2)"
      ]
     },
     "execution_count": 19,
     "metadata": {},
     "output_type": "execute_result"
    }
   ],
   "source": [
    "data_t_nuevo.shape"
   ]
  },
  {
   "cell_type": "code",
   "execution_count": 20,
   "metadata": {},
   "outputs": [
    {
     "data": {
      "text/html": [
       "<div>\n",
       "<style scoped>\n",
       "    .dataframe tbody tr th:only-of-type {\n",
       "        vertical-align: middle;\n",
       "    }\n",
       "\n",
       "    .dataframe tbody tr th {\n",
       "        vertical-align: top;\n",
       "    }\n",
       "\n",
       "    .dataframe thead th {\n",
       "        text-align: right;\n",
       "    }\n",
       "</style>\n",
       "<table border=\"1\" class=\"dataframe\">\n",
       "  <thead>\n",
       "    <tr style=\"text-align: right;\">\n",
       "      <th></th>\n",
       "      <th>Textos_espanol</th>\n",
       "      <th>sdg</th>\n",
       "    </tr>\n",
       "  </thead>\n",
       "  <tbody>\n",
       "    <tr>\n",
       "      <th>993</th>\n",
       "      <td>La sustitución de la asistencia pública por la asistencia profesional (financiada en parte por los empresarios) o la asistencia privada (con importantes copagos) reduce los costes para los municipios. La elección del usuario, hasta ahora muy limitada en el sistema público, se amplía así con un coste limitado para las finanzas públicas. Sin embargo, el sistema genera incentivos para el desplazamiento de costes entre actividades financiadas a través de diferentes canales, lo que lleva a decisiones subóptimas en cuanto a la prestación de asistencia y a grandes desigualdades en el acceso entre grupos socioeconómicos con diferente cobertura y recursos financieros, y regiones con distinta oferta de asistencia sanitaria.</td>\n",
       "      <td>3</td>\n",
       "    </tr>\n",
       "    <tr>\n",
       "      <th>302</th>\n",
       "      <td>Los indicadores de mortalidad, como el suicidio y la mortalidad prematura, proporcionan información importante sobre el estado de salud mental y la interacción de la salud mental y física, pero se necesitan indicadores más específicos para reflejar la calidad de la atención de salud mental. Medir y mejorar la calidad de la atención de salud mental es un reto fundamental, sobre todo por la necesidad de reflejar vías de atención complejas y abarcar diversos resultados. Numerosos proyectos en curso y finalizados tratan de medir y comparar la calidad y los resultados de la atención de salud mental a escala internacional, a pesar de los numerosos retos a los que se enfrentan.</td>\n",
       "      <td>3</td>\n",
       "    </tr>\n",
       "    <tr>\n",
       "      <th>2259</th>\n",
       "      <td>Es necesario que un liderazgo nacional e internacional firme envíe señales claras y coherentes de que no se tolerarán los abusos en las misiones de mantenimiento de la paz. Es necesario poner en marcha medidas para atender adecuadamente las necesidades de las mujeres, hombres, niños y niñas que han sido reclutados a la fuerza y han sufrido violencia de género. Pueden emprenderse iniciativas para reclutar a mujeres excombatientes en la policía y las fuerzas armadas. Los hombres excombatientes deben recibir asesoramiento y programas destinados a prevenir la violencia de género en el momento de su reinserción.</td>\n",
       "      <td>5</td>\n",
       "    </tr>\n",
       "    <tr>\n",
       "      <th>650</th>\n",
       "      <td>Anuncios gubernamentales recientes señalan la intención de brindar atención dental en algunos entornos de atención primaria. En la práctica, más del 55% de la población está exenta de cualquier costo compartido en el servicio público. Los pagos directos se realizan para aquellos servicios no cubiertos por el paquete de beneficios, incluida la atención dental y las consultas con especialistas en atención ambulatoria privada.</td>\n",
       "      <td>3</td>\n",
       "    </tr>\n",
       "    <tr>\n",
       "      <th>2626</th>\n",
       "      <td>Como se verá, parte de la literatura apunta a cómo el deseo de las mujeres de alejarse de las áreas periféricas, en algún grado, se combina con el deseo de las mujeres de acceder a más oportunidades, así como a una mayor sensación de libertad [o menos social]. control). Forsberg define los contratos de género como reglas y normas no escritas que regulan las relaciones entre hombres y mujeres, y que contribuyen a la creación y mantenimiento de estructuras de oportunidades de género en estas áreas. En su trabajo, Forsberg también ha utilizado el término regiones escaladoras [rulletrapperregioner] para describir las regiones suecas cercanas a las ciudades que, en oposición a las áreas periféricas, están dominadas por lo que ella llama contratos de género contemporáneos, lo que significa una división de género menos tradicional y una percepción menos tradicional de las oportunidades y la libertad de elección de hombres y mujeres. Más tarde, Forsberg, junto con Stenbacka, llevó la noción de contratos de género aún más lejos.</td>\n",
       "      <td>5</td>\n",
       "    </tr>\n",
       "  </tbody>\n",
       "</table>\n",
       "</div>"
      ],
      "text/plain": [
       "                                                                                                                                                                                                                                                                                                                                                                                                                                                                                                                                                                                                                                                                                                                                                                                                                                                                                                                                                                                                                                                                   Textos_espanol  \\\n",
       "993                                                                                                                                                                                                                                                                                                                           La sustitución de la asistencia pública por la asistencia profesional (financiada en parte por los empresarios) o la asistencia privada (con importantes copagos) reduce los costes para los municipios. La elección del usuario, hasta ahora muy limitada en el sistema público, se amplía así con un coste limitado para las finanzas públicas. Sin embargo, el sistema genera incentivos para el desplazamiento de costes entre actividades financiadas a través de diferentes canales, lo que lleva a decisiones subóptimas en cuanto a la prestación de asistencia y a grandes desigualdades en el acceso entre grupos socioeconómicos con diferente cobertura y recursos financieros, y regiones con distinta oferta de asistencia sanitaria.   \n",
       "302                                                                                                                                                                                                                                                                                                                                                                       Los indicadores de mortalidad, como el suicidio y la mortalidad prematura, proporcionan información importante sobre el estado de salud mental y la interacción de la salud mental y física, pero se necesitan indicadores más específicos para reflejar la calidad de la atención de salud mental. Medir y mejorar la calidad de la atención de salud mental es un reto fundamental, sobre todo por la necesidad de reflejar vías de atención complejas y abarcar diversos resultados. Numerosos proyectos en curso y finalizados tratan de medir y comparar la calidad y los resultados de la atención de salud mental a escala internacional, a pesar de los numerosos retos a los que se enfrentan.   \n",
       "2259                                                                                                                                                                                                                                                                                                                                                                                                                                       Es necesario que un liderazgo nacional e internacional firme envíe señales claras y coherentes de que no se tolerarán los abusos en las misiones de mantenimiento de la paz. Es necesario poner en marcha medidas para atender adecuadamente las necesidades de las mujeres, hombres, niños y niñas que han sido reclutados a la fuerza y han sufrido violencia de género. Pueden emprenderse iniciativas para reclutar a mujeres excombatientes en la policía y las fuerzas armadas. Los hombres excombatientes deben recibir asesoramiento y programas destinados a prevenir la violencia de género en el momento de su reinserción.   \n",
       "650                                                                                                                                                                                                                                                                                                                                                                                                                                                                                                                                                                                                                                   Anuncios gubernamentales recientes señalan la intención de brindar atención dental en algunos entornos de atención primaria. En la práctica, más del 55% de la población está exenta de cualquier costo compartido en el servicio público. Los pagos directos se realizan para aquellos servicios no cubiertos por el paquete de beneficios, incluida la atención dental y las consultas con especialistas en atención ambulatoria privada.   \n",
       "2626  Como se verá, parte de la literatura apunta a cómo el deseo de las mujeres de alejarse de las áreas periféricas, en algún grado, se combina con el deseo de las mujeres de acceder a más oportunidades, así como a una mayor sensación de libertad [o menos social]. control). Forsberg define los contratos de género como reglas y normas no escritas que regulan las relaciones entre hombres y mujeres, y que contribuyen a la creación y mantenimiento de estructuras de oportunidades de género en estas áreas. En su trabajo, Forsberg también ha utilizado el término regiones escaladoras [rulletrapperregioner] para describir las regiones suecas cercanas a las ciudades que, en oposición a las áreas periféricas, están dominadas por lo que ella llama contratos de género contemporáneos, lo que significa una división de género menos tradicional y una percepción menos tradicional de las oportunidades y la libertad de elección de hombres y mujeres. Más tarde, Forsberg, junto con Stenbacka, llevó la noción de contratos de género aún más lejos.   \n",
       "\n",
       "      sdg  \n",
       "993     3  \n",
       "302     3  \n",
       "2259    5  \n",
       "650     3  \n",
       "2626    5  "
      ]
     },
     "execution_count": 20,
     "metadata": {},
     "output_type": "execute_result"
    }
   ],
   "source": [
    "data_t.sample(5)"
   ]
  },
  {
   "cell_type": "code",
   "execution_count": 21,
   "metadata": {},
   "outputs": [
    {
     "data": {
      "text/html": [
       "<div>\n",
       "<style scoped>\n",
       "    .dataframe tbody tr th:only-of-type {\n",
       "        vertical-align: middle;\n",
       "    }\n",
       "\n",
       "    .dataframe tbody tr th {\n",
       "        vertical-align: top;\n",
       "    }\n",
       "\n",
       "    .dataframe thead th {\n",
       "        text-align: right;\n",
       "    }\n",
       "</style>\n",
       "<table border=\"1\" class=\"dataframe\">\n",
       "  <thead>\n",
       "    <tr style=\"text-align: right;\">\n",
       "      <th></th>\n",
       "      <th>Textos_espanol</th>\n",
       "      <th>sdg</th>\n",
       "    </tr>\n",
       "  </thead>\n",
       "  <tbody>\n",
       "    <tr>\n",
       "      <th>1447</th>\n",
       "      <td>La CCSS estableció recientemente un programa de monitoreo de calidad en atención primaria (ver Sección 1), con planes para desarrollar un programa similar para hospitales. No se sabe lo suficiente sobre la calidad y los resultados de la atención en Costa Rica. Aunque algunas iniciativas importantes están en marcha, como el marco de monitoreo del desempeño de la atención primaria, la calidad no emerge como la idea rectora dominante dentro de la atención de salud costarricense. Todavía se piensa en la “calidad” en términos limitados (típicamente, tiempos de espera), lo que significa que persisten brechas importantes en la infraestructura de información del sistema de salud. Aunque existe un observatorio nacional del cáncer, por ejemplo, las autoridades no pudieron producir datos sobre el estadio del cáncer en el momento del diagnóstico (vital para comprender la eficacia de los programas de detección y prevención) cuando se les solicitó.</td>\n",
       "      <td>NaN</td>\n",
       "    </tr>\n",
       "    <tr>\n",
       "      <th>1149</th>\n",
       "      <td>En la mayoría de los países, las políticas monetarias se enfocan casi exclusivamente en cumplir metas de inflación muy bajas, que se logran elevando las tasas de interés para evitar que los precios aumenten más rápidamente.40 Las tasas de interés altas ralentizan la actividad económica al encarecer y hacer menos accesible el crédito, reduciendo compras de los consumidores y elevando el costo de financiar las inversiones productivas. Todos estos factores reducen la demanda de mano de obra. Investigaciones recientes han demostrado que el empleo de las mujeres ha disminuido más rápido que el de los hombres en una variedad de países en desarrollo, incluidos Brasil, Colombia, Costa Rica, Filipinas y la República de Corea, que están experimentando reducciones en la inflación asociadas con políticas monetarias restrictivas.41 En países que mantienen un entorno monetario menos restrictivo, tales desigualdades de género son menos evidentes.</td>\n",
       "      <td>NaN</td>\n",
       "    </tr>\n",
       "    <tr>\n",
       "      <th>1649</th>\n",
       "      <td>En 2013, las trabajadoras de tiempo completo ganaban casi un 13,4% menos que sus pares masculinos (Gráfico 2.13). La brecha salarial de género no está ajustada y se calcula como la diferencia entre los ingresos medios de hombres y mujeres en relación con los ingresos medios de los hombres. Las estimaciones de ganancias utilizadas en los cálculos se refieren a las ganancias brutas de los trabajadores asalariados a tiempo completo.</td>\n",
       "      <td>NaN</td>\n",
       "    </tr>\n",
       "    <tr>\n",
       "      <th>1626</th>\n",
       "      <td>Los largos tiempos de espera para los servicios cubiertos pueden impedir gravemente el acceso a la atención y empeorar la salud de los pacientes que requieren un procedimiento. Los tiempos de espera se han medido en varios países de la OCDE, aunque no necesariamente de manera homogénea (Siciliani et al., La calidad de la atención tiene múltiples dimensiones y la OCDE ahora propone un conjunto de indicadores en diferentes dominios que pueden ser utilizados por país con sistemas de información apropiados ¿Qué proporción de los costos se cubre?</td>\n",
       "      <td>NaN</td>\n",
       "    </tr>\n",
       "    <tr>\n",
       "      <th>1439</th>\n",
       "      <td>La Reforma del Presupuesto Federal y el principio de orientación a los resultados se consideran una gran oportunidad para la elaboración de presupuestos con perspectiva de género y para promover políticas de igualdad de género en Austria. Su objetivo es utilizar los fondos existentes de manera equitativa para lograr la igualdad efectiva de mujeres y hombres dentro del presupuesto nacional. La base clave para la gestión presupuestaria sensible al género en todas las autoridades públicas se encuentra en la Constitución Federal de Austria: \"La Federación, los Laender y los municipios deben aspirar a la igualdad de condiciones de mujeres y hombres en la gestión presupuestaria\".</td>\n",
       "      <td>NaN</td>\n",
       "    </tr>\n",
       "  </tbody>\n",
       "</table>\n",
       "</div>"
      ],
      "text/plain": [
       "                                                                                                                                                                                                                                                                                                                                                                                                                                                                                                                                                                                                                                                                                                                                                                                                                                                                                                                                                                            Textos_espanol  \\\n",
       "1447  La CCSS estableció recientemente un programa de monitoreo de calidad en atención primaria (ver Sección 1), con planes para desarrollar un programa similar para hospitales. No se sabe lo suficiente sobre la calidad y los resultados de la atención en Costa Rica. Aunque algunas iniciativas importantes están en marcha, como el marco de monitoreo del desempeño de la atención primaria, la calidad no emerge como la idea rectora dominante dentro de la atención de salud costarricense. Todavía se piensa en la “calidad” en términos limitados (típicamente, tiempos de espera), lo que significa que persisten brechas importantes en la infraestructura de información del sistema de salud. Aunque existe un observatorio nacional del cáncer, por ejemplo, las autoridades no pudieron producir datos sobre el estadio del cáncer en el momento del diagnóstico (vital para comprender la eficacia de los programas de detección y prevención) cuando se les solicitó.   \n",
       "1149     En la mayoría de los países, las políticas monetarias se enfocan casi exclusivamente en cumplir metas de inflación muy bajas, que se logran elevando las tasas de interés para evitar que los precios aumenten más rápidamente.40 Las tasas de interés altas ralentizan la actividad económica al encarecer y hacer menos accesible el crédito, reduciendo compras de los consumidores y elevando el costo de financiar las inversiones productivas. Todos estos factores reducen la demanda de mano de obra. Investigaciones recientes han demostrado que el empleo de las mujeres ha disminuido más rápido que el de los hombres en una variedad de países en desarrollo, incluidos Brasil, Colombia, Costa Rica, Filipinas y la República de Corea, que están experimentando reducciones en la inflación asociadas con políticas monetarias restrictivas.41 En países que mantienen un entorno monetario menos restrictivo, tales desigualdades de género son menos evidentes.   \n",
       "1649                                                                                                                                                                                                                                                                                                                                                                                                                                                                                                                                     En 2013, las trabajadoras de tiempo completo ganaban casi un 13,4% menos que sus pares masculinos (Gráfico 2.13). La brecha salarial de género no está ajustada y se calcula como la diferencia entre los ingresos medios de hombres y mujeres en relación con los ingresos medios de los hombres. Las estimaciones de ganancias utilizadas en los cálculos se refieren a las ganancias brutas de los trabajadores asalariados a tiempo completo.   \n",
       "1626                                                                                                                                                                                                                                                                                                                                                                                                                   Los largos tiempos de espera para los servicios cubiertos pueden impedir gravemente el acceso a la atención y empeorar la salud de los pacientes que requieren un procedimiento. Los tiempos de espera se han medido en varios países de la OCDE, aunque no necesariamente de manera homogénea (Siciliani et al., La calidad de la atención tiene múltiples dimensiones y la OCDE ahora propone un conjunto de indicadores en diferentes dominios que pueden ser utilizados por país con sistemas de información apropiados ¿Qué proporción de los costos se cubre?   \n",
       "1439                                                                                                                                                                                                                                                                            La Reforma del Presupuesto Federal y el principio de orientación a los resultados se consideran una gran oportunidad para la elaboración de presupuestos con perspectiva de género y para promover políticas de igualdad de género en Austria. Su objetivo es utilizar los fondos existentes de manera equitativa para lograr la igualdad efectiva de mujeres y hombres dentro del presupuesto nacional. La base clave para la gestión presupuestaria sensible al género en todas las autoridades públicas se encuentra en la Constitución Federal de Austria: \"La Federación, los Laender y los municipios deben aspirar a la igualdad de condiciones de mujeres y hombres en la gestión presupuestaria\".   \n",
       "\n",
       "      sdg  \n",
       "1447  NaN  \n",
       "1149  NaN  \n",
       "1649  NaN  \n",
       "1626  NaN  \n",
       "1439  NaN  "
      ]
     },
     "execution_count": 21,
     "metadata": {},
     "output_type": "execute_result"
    }
   ],
   "source": [
    "data_t_nuevo.sample(5)"
   ]
  },
  {
   "cell_type": "markdown",
   "metadata": {},
   "source": [
    "### 2.1 Limpieza de datos"
   ]
  },
  {
   "cell_type": "code",
   "execution_count": 22,
   "metadata": {},
   "outputs": [
    {
     "data": {
      "text/plain": [
       "sdg\n",
       "3    0.333333\n",
       "4    0.333333\n",
       "5    0.333333\n",
       "Name: proportion, dtype: float64"
      ]
     },
     "execution_count": 22,
     "metadata": {},
     "output_type": "execute_result"
    }
   ],
   "source": [
    "data_t[\"sdg\"].value_counts(dropna=False, normalize=True)"
   ]
  },
  {
   "cell_type": "code",
   "execution_count": 23,
   "metadata": {},
   "outputs": [
    {
     "data": {
      "text/plain": [
       "sdg\n",
       "NaN    1.0\n",
       "Name: proportion, dtype: float64"
      ]
     },
     "execution_count": 23,
     "metadata": {},
     "output_type": "execute_result"
    }
   ],
   "source": [
    "data_t_nuevo[\"sdg\"].value_counts(dropna=False, normalize=True)"
   ]
  },
  {
   "cell_type": "markdown",
   "metadata": {},
   "source": [
    "Se puede ver una distribución equitativa de los datos en los tres grupos de ODS"
   ]
  },
  {
   "cell_type": "code",
   "execution_count": 24,
   "metadata": {},
   "outputs": [],
   "source": [
    "data_t[\"Textos_espanol\"] = data_t[\"Textos_espanol\"].astype(str)"
   ]
  },
  {
   "cell_type": "code",
   "execution_count": 25,
   "metadata": {},
   "outputs": [],
   "source": [
    "data_t_nuevo[\"Textos_espanol\"] = data_t_nuevo[\"Textos_espanol\"].astype(str)"
   ]
  },
  {
   "cell_type": "markdown",
   "metadata": {},
   "source": [
    "### 2.2 Corrección de palabras mal codificadas"
   ]
  },
  {
   "cell_type": "code",
   "execution_count": 26,
   "metadata": {},
   "outputs": [],
   "source": [
    "import ftfy\n",
    "\n",
    "def fix_malformed_words(text):\n",
    "    # Utiliza ftfy para corregir problemas de codificación\n",
    "    text = ftfy.fix_text(text)\n",
    "    return text\n",
    "\n",
    "# Aplica la función a tu DataFrame\n",
    "data_t['Textos_espanol'] = data_t['Textos_espanol'].apply(fix_malformed_words)\n",
    "\n"
   ]
  },
  {
   "cell_type": "code",
   "execution_count": 27,
   "metadata": {},
   "outputs": [],
   "source": [
    "import ftfy\n",
    "\n",
    "def fix_malformed_words(text):\n",
    "    # Utiliza ftfy para corregir problemas de codificación\n",
    "    text = ftfy.fix_text(text)\n",
    "    return text\n",
    "\n",
    "# Aplica la función a tu DataFrame\n",
    "data_t_nuevo['Textos_espanol'] = data_t_nuevo['Textos_espanol'].apply(fix_malformed_words)"
   ]
  },
  {
   "cell_type": "code",
   "execution_count": 28,
   "metadata": {},
   "outputs": [
    {
     "data": {
      "text/html": [
       "<div>\n",
       "<style scoped>\n",
       "    .dataframe tbody tr th:only-of-type {\n",
       "        vertical-align: middle;\n",
       "    }\n",
       "\n",
       "    .dataframe tbody tr th {\n",
       "        vertical-align: top;\n",
       "    }\n",
       "\n",
       "    .dataframe thead th {\n",
       "        text-align: right;\n",
       "    }\n",
       "</style>\n",
       "<table border=\"1\" class=\"dataframe\">\n",
       "  <thead>\n",
       "    <tr style=\"text-align: right;\">\n",
       "      <th></th>\n",
       "      <th>Textos_espanol</th>\n",
       "      <th>sdg</th>\n",
       "    </tr>\n",
       "  </thead>\n",
       "  <tbody>\n",
       "    <tr>\n",
       "      <th>0</th>\n",
       "      <td>Por ejemplo, el número de consultas externas de especialistas es de 319 por cada mil derechohabientes en el SP, en comparación con 338 y 620 por cada mil derechohabientes en el IMSS y el ISSSTE, respectivamente. Si bien algunas de estas diferencias pueden reflejar una necesidad desigual (como la población ligeramente mayor del ISSSTE), otras no pueden justificarse de esta manera. El número de recetas que no pudieron ser surtidas en su totalidad por un farmacéutico debido a la falta de existencias es de 33% dentro del SP en comparación con 14% dentro del IMSS según los datos de la encuesta (aunque las propias cifras de los institutos de la SS sugieren tasas más altas de recetas surtidas). Ambas cifras se encuentran entre las más altas de la OCDE. El gasto de bolsillo no se ha reducido significativamente en la última década, a pesar de los esfuerzos para lograr la cobertura sanitaria universal a través de la reforma del SP.</td>\n",
       "      <td>3</td>\n",
       "    </tr>\n",
       "    <tr>\n",
       "      <th>1</th>\n",
       "      <td>En 2007, el gobierno central financió directamente solo el 0,3% del gasto total en salud, pero realizó transferencias específicas para el gasto en salud que ascendieron a otro 5,6% del gasto total. La mayor parte del gasto presupuestario en salud lo realizan los gobiernos de los condados. Por lo tanto, los condados pobres solo pueden ofrecer un bajo nivel de atención a la población local. El gobierno provincial proporciona subsidios del lado de la oferta a los hospitales.</td>\n",
       "      <td>3</td>\n",
       "    </tr>\n",
       "    <tr>\n",
       "      <th>2</th>\n",
       "      <td>Claramente, hay muchos otros factores en juego, en particular, una variedad de barreras y determinantes sociales. Estos pueden estar relacionados con el género, la clase, la etnia, la casta, el idioma y la religión, y surgen de estructuras, normas y procesos sociales arraigados que aceptan e incluso fomentan distribuciones injustas de la riqueza y los recursos sociales. Por ejemplo, las personas que viven con el VIH y algunas otras enfermedades crónicas enfrentan altos niveles de estigma y discriminación que dificultan su acceso a pruebas médicas, tratamiento, atención y apoyo. Por lo tanto, los gobiernos que buscan mejorar los estándares de salud querrán mejorar la condición de la mujer, brindar servicios de salud reproductiva efectivos, implementar programas integrales de lactancia materna en línea con las recomendaciones actuales y aumentar las presiones comunitarias contra el aborto selectivo por sexo. Las personas pobres, que carecen de educación e información, o de fondos para opciones más saludables, son más vulnerables al impacto de las ENT que los ricos y es probable que mueran antes. Directa e indirectamente, las ENT tendrán impactos de gran alcance en el progreso hacia los ODM.</td>\n",
       "      <td>3</td>\n",
       "    </tr>\n",
       "    <tr>\n",
       "      <th>3</th>\n",
       "      <td>Por ejemplo, el estado australiano de Victoria creó una agencia de promoción de la salud financiada con los impuestos sobre el tabaco, y varios estados de EE.UU. (California, Massachusetts, Arizona y Oregón) han destinado parte de los ingresos procedentes de los impuestos especiales sobre el tabaco a actividades de educación y control del tabaco, mientras que en Nueva Jersey, Ohio y Texas los ingresos procedentes del alcohol se utilizan para programas de educación y prevención relacionados con el alcohol (Sassi et al., 2004), Los impuestos locales pueden ser una fuente importante de ingresos, sobre todo en los sistemas sanitarios descentralizados (por ejemplo, Dinamarca, Finlandia, Italia y Suecia)17 . Además, el nivel de los impuestos locales puede fijarse en función de las preferencias locales sobre el nivel y la calidad de los servicios médicos. Sin embargo, en ausencia de un mecanismo de transferencia ajustado al riesgo y gestionado centralmente, la descentralización reduce la mancomunación de riesgos y podría dar lugar a mayores disparidades sanitarias interregionales.</td>\n",
       "      <td>3</td>\n",
       "    </tr>\n",
       "    <tr>\n",
       "      <th>4</th>\n",
       "      <td>El consumo anual de alcohol se estima en 15,7 litros al año para los hombres, más de un 50% por encima de la media de la OCDE (10,4) (Sistema mundial de información sobre alcohol y salud de la OMS), lo que puede ayudar a explicar la alta mortalidad por enfermedad hepática relacionada con el alcohol. Si bien la prevalencia de la obesidad en adultos es relativamente baja en comparación con muchos países de la OCDE, más del 30 % de las mujeres en Kazajstán son obesas, en comparación con el 16 % de los hombres (World Obesity, 2016), lo que coloca la tasa entre las mujeres a la par con algunos de los países más obesos de la OCDE. De hecho, una gran proporción de la brecha en la esperanza de vida se explica por una mayor mortalidad entre los jóvenes kazajos de 15 a 29 años, un grupo de edad en el que las tasas generales de mortalidad son más de tres veces más altas que en la UE de los 15.</td>\n",
       "      <td>3</td>\n",
       "    </tr>\n",
       "  </tbody>\n",
       "</table>\n",
       "</div>"
      ],
      "text/plain": [
       "                                                                                                                                                                                                                                                                                                                                                                                                                                                                                                                                                                                                                                                                                                                                                                                                                                                                                                                                                                                                                                                                                                                                                                                                                                            Textos_espanol  \\\n",
       "0                                                                                                                                                                                                                                                                                  Por ejemplo, el número de consultas externas de especialistas es de 319 por cada mil derechohabientes en el SP, en comparación con 338 y 620 por cada mil derechohabientes en el IMSS y el ISSSTE, respectivamente. Si bien algunas de estas diferencias pueden reflejar una necesidad desigual (como la población ligeramente mayor del ISSSTE), otras no pueden justificarse de esta manera. El número de recetas que no pudieron ser surtidas en su totalidad por un farmacéutico debido a la falta de existencias es de 33% dentro del SP en comparación con 14% dentro del IMSS según los datos de la encuesta (aunque las propias cifras de los institutos de la SS sugieren tasas más altas de recetas surtidas). Ambas cifras se encuentran entre las más altas de la OCDE. El gasto de bolsillo no se ha reducido significativamente en la última década, a pesar de los esfuerzos para lograr la cobertura sanitaria universal a través de la reforma del SP.   \n",
       "1                                                                                                                                                                                                                                                                                                                                                                                                                                                                                                                                                                                                                                                                                                                                                             En 2007, el gobierno central financió directamente solo el 0,3% del gasto total en salud, pero realizó transferencias específicas para el gasto en salud que ascendieron a otro 5,6% del gasto total. La mayor parte del gasto presupuestario en salud lo realizan los gobiernos de los condados. Por lo tanto, los condados pobres solo pueden ofrecer un bajo nivel de atención a la población local. El gobierno provincial proporciona subsidios del lado de la oferta a los hospitales.   \n",
       "2  Claramente, hay muchos otros factores en juego, en particular, una variedad de barreras y determinantes sociales. Estos pueden estar relacionados con el género, la clase, la etnia, la casta, el idioma y la religión, y surgen de estructuras, normas y procesos sociales arraigados que aceptan e incluso fomentan distribuciones injustas de la riqueza y los recursos sociales. Por ejemplo, las personas que viven con el VIH y algunas otras enfermedades crónicas enfrentan altos niveles de estigma y discriminación que dificultan su acceso a pruebas médicas, tratamiento, atención y apoyo. Por lo tanto, los gobiernos que buscan mejorar los estándares de salud querrán mejorar la condición de la mujer, brindar servicios de salud reproductiva efectivos, implementar programas integrales de lactancia materna en línea con las recomendaciones actuales y aumentar las presiones comunitarias contra el aborto selectivo por sexo. Las personas pobres, que carecen de educación e información, o de fondos para opciones más saludables, son más vulnerables al impacto de las ENT que los ricos y es probable que mueran antes. Directa e indirectamente, las ENT tendrán impactos de gran alcance en el progreso hacia los ODM.   \n",
       "3                                                                                                                       Por ejemplo, el estado australiano de Victoria creó una agencia de promoción de la salud financiada con los impuestos sobre el tabaco, y varios estados de EE.UU. (California, Massachusetts, Arizona y Oregón) han destinado parte de los ingresos procedentes de los impuestos especiales sobre el tabaco a actividades de educación y control del tabaco, mientras que en Nueva Jersey, Ohio y Texas los ingresos procedentes del alcohol se utilizan para programas de educación y prevención relacionados con el alcohol (Sassi et al., 2004), Los impuestos locales pueden ser una fuente importante de ingresos, sobre todo en los sistemas sanitarios descentralizados (por ejemplo, Dinamarca, Finlandia, Italia y Suecia)17 . Además, el nivel de los impuestos locales puede fijarse en función de las preferencias locales sobre el nivel y la calidad de los servicios médicos. Sin embargo, en ausencia de un mecanismo de transferencia ajustado al riesgo y gestionado centralmente, la descentralización reduce la mancomunación de riesgos y podría dar lugar a mayores disparidades sanitarias interregionales.   \n",
       "4                                                                                                                                                                                                                                                                                                                          El consumo anual de alcohol se estima en 15,7 litros al año para los hombres, más de un 50% por encima de la media de la OCDE (10,4) (Sistema mundial de información sobre alcohol y salud de la OMS), lo que puede ayudar a explicar la alta mortalidad por enfermedad hepática relacionada con el alcohol. Si bien la prevalencia de la obesidad en adultos es relativamente baja en comparación con muchos países de la OCDE, más del 30 % de las mujeres en Kazajstán son obesas, en comparación con el 16 % de los hombres (World Obesity, 2016), lo que coloca la tasa entre las mujeres a la par con algunos de los países más obesos de la OCDE. De hecho, una gran proporción de la brecha en la esperanza de vida se explica por una mayor mortalidad entre los jóvenes kazajos de 15 a 29 años, un grupo de edad en el que las tasas generales de mortalidad son más de tres veces más altas que en la UE de los 15.   \n",
       "\n",
       "   sdg  \n",
       "0    3  \n",
       "1    3  \n",
       "2    3  \n",
       "3    3  \n",
       "4    3  "
      ]
     },
     "execution_count": 28,
     "metadata": {},
     "output_type": "execute_result"
    }
   ],
   "source": [
    "#Se verifica que se haya realizado la corrección\n",
    "data_t.head(5)"
   ]
  },
  {
   "cell_type": "code",
   "execution_count": 29,
   "metadata": {},
   "outputs": [
    {
     "data": {
      "text/html": [
       "<div>\n",
       "<style scoped>\n",
       "    .dataframe tbody tr th:only-of-type {\n",
       "        vertical-align: middle;\n",
       "    }\n",
       "\n",
       "    .dataframe tbody tr th {\n",
       "        vertical-align: top;\n",
       "    }\n",
       "\n",
       "    .dataframe thead th {\n",
       "        text-align: right;\n",
       "    }\n",
       "</style>\n",
       "<table border=\"1\" class=\"dataframe\">\n",
       "  <thead>\n",
       "    <tr style=\"text-align: right;\">\n",
       "      <th></th>\n",
       "      <th>Textos_espanol</th>\n",
       "      <th>sdg</th>\n",
       "    </tr>\n",
       "  </thead>\n",
       "  <tbody>\n",
       "    <tr>\n",
       "      <th>0</th>\n",
       "      <td>Se basa en los nueve años de educación básica (seis de primaria y tres de secundaria). Los alumnos que acceden al segundo ciclo de secundaria pueden ir a un centro de orientación más académica o a un centro de formación profesional. Esto se aplica tanto en el sistema islámico como en el no islámico. La enseñanza secundaria superior formal comprende la enseñanza general (sekolah menengah atas, o SMA), la enseñanza profesional (sekolah menengah kejuruan, o SMK), las escuelas secundarias superiores islámicas (madrasah aliyah, o MA) y la enseñanza profesional islámica (madrasah aliyah kejuruan, o MAK). Este capítulo se centra principalmente en la enseñanza secundaria superior académica, mientras que el capítulo 5 trata de la formación profesional. Se está trabajando en el desarrollo de colegios comunitarios y vías alternativas de acceso a la enseñanza superior.</td>\n",
       "      <td>NaN</td>\n",
       "    </tr>\n",
       "    <tr>\n",
       "      <th>1</th>\n",
       "      <td>En la última década, y en particular desde 2010, el número de altas per cápita ha tendido a disminuir, y ahora está en línea con la media de la OCDE mencionada anteriormente. Por ejemplo, los habitantes de zonas rurales representan el 43% de la población, pero sólo el 32% de las altas hospitalarias. A falta de información complementaria, no es posible determinar si esta diferencia indica o no disparidades en el acceso de las poblaciones rurales y, en caso afirmativo, si las causas son geográficas, culturales o infraestructurales. No parece que se recojan datos sobre el acceso a la atención desde el punto de vista del paciente, lo que ayudaría a comprender la naturaleza de los obstáculos al acceso (y las soluciones). En general, no es posible determinar con los datos disponibles si los ingresos o las características socioeconómicas de los pacientes influyen a la hora de llegar a las puertas del hospital o de ser ingresado. El acceso desigual probablemente se deba también a la incapacidad de los centros de las distintas regiones para prestar los mismos servicios.</td>\n",
       "      <td>NaN</td>\n",
       "    </tr>\n",
       "    <tr>\n",
       "      <th>2</th>\n",
       "      <td>AsÃ, por ejemplo, el estigma asociado a los beneficiarios de prestaciones sociales o a los pobres aumenta su desventaja. Del mismo modo, los errores de dignidad y reconocimiento pueden causar desventajas.54 La infravaloración del trabajo de las mujeres es un error de reconocimiento que causa directamente desventajas socioeconómicas, por lo que el derecho a la igualdad de retribución por un trabajo de igual valor es una sÃntesis importante de las dos primeras dimensiones del derecho a la igualdad: reparar la desventaja y abordar el estigma y los estereotipos. Tanto el Comité de Derechos Económicos, Sociales y Culturales como el Comité para la Eliminación de la Discriminación contra la Mujer han dado este paso. Directrices para la presentación de informes\", párrafo 29, CDESC, Ecuador, op. cit.</td>\n",
       "      <td>NaN</td>\n",
       "    </tr>\n",
       "    <tr>\n",
       "      <th>3</th>\n",
       "      <td>Hay muchos profesores no cualificados en las escuelas, ya que es difícil contratar a profesores cualificados. Un indicio del reconocimiento del importante papel de los profesores en este contexto es la inclusión por Alberta de preguntas adicionales en la Encuesta Internacional sobre la Enseñanza y el Aprendizaje de la OCDE de 2018 relativas a la comprensión por parte de los profesores y los lÃderes escolares de cuestiones relacionadas con las culturas indÃgenas, la historia y el trabajo con alumnos indÃgenas, asà como sobre el desarrollo profesional pertinente. El enfoque holÃstico de los pueblos indÃgenas hace hincapié en lo mucho que estos contribuyen al bienestar general de los niños, asà como al de todos los demás, además de factores como las ventajas y desventajas materiales. El trauma sufrido por los pueblos indígenas, incluso a través del sistema de escuelas residenciales, todavía es sentido agudamente por muchos. De hecho, se nos dijo que los síntomas del trauma pueden aumentar en lugar de disminuir con el paso del tiempo, exacerbados por las relaciones intergeneracionales. Frente a este panorama más amplio, pueden comprenderse mejor los estudios específicos de determinadas provincias y territorios, y la comparación entre jóvenes indígenas y no indígenas (Freeman, King y Pickett, 2016).</td>\n",
       "      <td>NaN</td>\n",
       "    </tr>\n",
       "    <tr>\n",
       "      <th>4</th>\n",
       "      <td>A raíz de su preocupación por el hecho de que los médicos de todo el sistema sanitario japonés no fueran capaces de identificar los signos de sufrimiento psicológico que podrían ayudar a reducir los suicidios, la Asociación Médica Japonesa informa de que empezó a compartir información y orientaciones sobre la depresión con todos los médicos, primero en 2004 y luego de nuevo en 2009. En la actualidad, sólo se recogen indicadores sobre la tasa de reclusión y contención, y de ingresos involuntarios, por parte de los proveedores y a nivel prefectural. La información recopilada sistemáticamente sobre el sistema de atención de salud mental se limita a indicadores estructurales: instalaciones, número de personal, número de camas.</td>\n",
       "      <td>NaN</td>\n",
       "    </tr>\n",
       "  </tbody>\n",
       "</table>\n",
       "</div>"
      ],
      "text/plain": [
       "                                                                                                                                                                                                                                                                                                                                                                                                                                                                                                                                                                                                                                                                                                                                                                                                                                                                                                                                                                                                                                                                                                                                                                                                                                                                                                                                                         Textos_espanol  \\\n",
       "0                                                                                                                                                                                                                                                                                                                                                                                                                                                                Se basa en los nueve años de educación básica (seis de primaria y tres de secundaria). Los alumnos que acceden al segundo ciclo de secundaria pueden ir a un centro de orientación más académica o a un centro de formación profesional. Esto se aplica tanto en el sistema islámico como en el no islámico. La enseñanza secundaria superior formal comprende la enseñanza general (sekolah menengah atas, o SMA), la enseñanza profesional (sekolah menengah kejuruan, o SMK), las escuelas secundarias superiores islámicas (madrasah aliyah, o MA) y la enseñanza profesional islámica (madrasah aliyah kejuruan, o MAK). Este capítulo se centra principalmente en la enseñanza secundaria superior académica, mientras que el capítulo 5 trata de la formación profesional. Se está trabajando en el desarrollo de colegios comunitarios y vías alternativas de acceso a la enseñanza superior.    \n",
       "1                                                                                                                                                                                                                                                En la última década, y en particular desde 2010, el número de altas per cápita ha tendido a disminuir, y ahora está en línea con la media de la OCDE mencionada anteriormente. Por ejemplo, los habitantes de zonas rurales representan el 43% de la población, pero sólo el 32% de las altas hospitalarias. A falta de información complementaria, no es posible determinar si esta diferencia indica o no disparidades en el acceso de las poblaciones rurales y, en caso afirmativo, si las causas son geográficas, culturales o infraestructurales. No parece que se recojan datos sobre el acceso a la atención desde el punto de vista del paciente, lo que ayudaría a comprender la naturaleza de los obstáculos al acceso (y las soluciones). En general, no es posible determinar con los datos disponibles si los ingresos o las características socioeconómicas de los pacientes influyen a la hora de llegar a las puertas del hospital o de ser ingresado. El acceso desigual probablemente se deba también a la incapacidad de los centros de las distintas regiones para prestar los mismos servicios.    \n",
       "2                                                                                                                                                                                                                                                                                                                                                                                                                                                                                                                                   AsÃ, por ejemplo, el estigma asociado a los beneficiarios de prestaciones sociales o a los pobres aumenta su desventaja. Del mismo modo, los errores de dignidad y reconocimiento pueden causar desventajas.54 La infravaloración del trabajo de las mujeres es un error de reconocimiento que causa directamente desventajas socioeconómicas, por lo que el derecho a la igualdad de retribución por un trabajo de igual valor es una sÃntesis importante de las dos primeras dimensiones del derecho a la igualdad: reparar la desventaja y abordar el estigma y los estereotipos. Tanto el Comité de Derechos Económicos, Sociales y Culturales como el Comité para la Eliminación de la Discriminación contra la Mujer han dado este paso. Directrices para la presentación de informes\", párrafo 29, CDESC, Ecuador, op. cit.    \n",
       "3  Hay muchos profesores no cualificados en las escuelas, ya que es difícil contratar a profesores cualificados. Un indicio del reconocimiento del importante papel de los profesores en este contexto es la inclusión por Alberta de preguntas adicionales en la Encuesta Internacional sobre la Enseñanza y el Aprendizaje de la OCDE de 2018 relativas a la comprensión por parte de los profesores y los lÃderes escolares de cuestiones relacionadas con las culturas indÃgenas, la historia y el trabajo con alumnos indÃgenas, asà como sobre el desarrollo profesional pertinente. El enfoque holÃstico de los pueblos indÃgenas hace hincapié en lo mucho que estos contribuyen al bienestar general de los niños, asà como al de todos los demás, además de factores como las ventajas y desventajas materiales. El trauma sufrido por los pueblos indígenas, incluso a través del sistema de escuelas residenciales, todavía es sentido agudamente por muchos. De hecho, se nos dijo que los síntomas del trauma pueden aumentar en lugar de disminuir con el paso del tiempo, exacerbados por las relaciones intergeneracionales. Frente a este panorama más amplio, pueden comprenderse mejor los estudios específicos de determinadas provincias y territorios, y la comparación entre jóvenes indígenas y no indígenas (Freeman, King y Pickett, 2016).    \n",
       "4                                                                                                                                                                                                                                                                                                                                                                                                                                                                                                                                                                                                         A raíz de su preocupación por el hecho de que los médicos de todo el sistema sanitario japonés no fueran capaces de identificar los signos de sufrimiento psicológico que podrían ayudar a reducir los suicidios, la Asociación Médica Japonesa informa de que empezó a compartir información y orientaciones sobre la depresión con todos los médicos, primero en 2004 y luego de nuevo en 2009. En la actualidad, sólo se recogen indicadores sobre la tasa de reclusión y contención, y de ingresos involuntarios, por parte de los proveedores y a nivel prefectural. La información recopilada sistemáticamente sobre el sistema de atención de salud mental se limita a indicadores estructurales: instalaciones, número de personal, número de camas.    \n",
       "\n",
       "   sdg  \n",
       "0  NaN  \n",
       "1  NaN  \n",
       "2  NaN  \n",
       "3  NaN  \n",
       "4  NaN  "
      ]
     },
     "execution_count": 29,
     "metadata": {},
     "output_type": "execute_result"
    }
   ],
   "source": [
    "#Se verifica que se haya realizado la corrección\n",
    "data_t_nuevo.head(5)"
   ]
  },
  {
   "cell_type": "markdown",
   "metadata": {},
   "source": [
    "### 2.3 Eliminación de caracteres especiales y puntuación"
   ]
  },
  {
   "cell_type": "code",
   "execution_count": 30,
   "metadata": {},
   "outputs": [],
   "source": [
    "import re\n",
    "import unicodedata\n",
    "import inflect\n",
    "from nltk.corpus import stopwords\n",
    "\n",
    "# Esta lista contiene las stop words en español\n",
    "spanish_stopwords = set(stopwords.words('spanish'))\n",
    "\n",
    "def remove_non_ascii(words):\n",
    "    \"\"\"Remove non-ASCII characters from list of tokenized words\"\"\"\n",
    "    new_words = []\n",
    "    for word in words:\n",
    "        new_word = unicodedata.normalize('NFKD', word).encode('ascii', 'ignore').decode('utf-8', 'ignore')\n",
    "        new_words.append(new_word)\n",
    "    return new_words\n",
    "\n",
    "def to_lowercase(words):\n",
    "    \"\"\"Convert all characters to lowercase from list of tokenized words\"\"\"\n",
    "    new_words = []\n",
    "    for word in words:\n",
    "        new_words.append(word.lower())\n",
    "    return new_words\n",
    "\n",
    "def remove_punctuation(words):\n",
    "    \"\"\"Remove punctuation from list of tokenized words\"\"\"\n",
    "    new_words = []\n",
    "    for word in words:\n",
    "        new_word = re.sub(r'[^\\w\\s]', '', word)\n",
    "        if new_word != '':\n",
    "            new_words.append(new_word)\n",
    "    return new_words\n",
    "\n",
    "def replace_numbers(words):\n",
    "    \"\"\"Replace all integer occurrences in list of tokenized words with textual representation\"\"\"\n",
    "    p = inflect.engine()\n",
    "    new_words = []\n",
    "    for word in words:\n",
    "        if word.isdigit():\n",
    "            new_word = p.number_to_words(word)\n",
    "            new_words.append(new_word)\n",
    "        else:\n",
    "            new_words.append(word)\n",
    "    return new_words\n",
    "\n",
    "def remove_stopwords(words):\n",
    "    \"\"\"Remove stop words from list of tokenized words\"\"\"\n",
    "    new_words = []\n",
    "    for word in words:\n",
    "        if word not in spanish_stopwords:\n",
    "            new_words.append(word)\n",
    "    return new_words\n",
    "\n",
    "def preprocessing(words):\n",
    "    words = to_lowercase(words)\n",
    "    words = replace_numbers(words)\n",
    "    words = remove_punctuation(words)\n",
    "    words = remove_non_ascii(words)\n",
    "    words = remove_stopwords(words)\n",
    "    return words\n"
   ]
  },
  {
   "cell_type": "markdown",
   "metadata": {},
   "source": [
    "### 2.4 Tokenización"
   ]
  },
  {
   "cell_type": "code",
   "execution_count": 31,
   "metadata": {},
   "outputs": [],
   "source": [
    "data_t['Textos_espanol'] = data_t['Textos_espanol'].apply(contractions.fix) #Aplica la corrección de las contracciones"
   ]
  },
  {
   "cell_type": "code",
   "execution_count": 32,
   "metadata": {},
   "outputs": [],
   "source": [
    "data_t_nuevo['Textos_espanol'] = data_t_nuevo['Textos_espanol'].apply(contractions.fix) #Aplica la corrección de las contracciones"
   ]
  },
  {
   "cell_type": "code",
   "execution_count": 33,
   "metadata": {},
   "outputs": [
    {
     "data": {
      "text/html": [
       "<div>\n",
       "<style scoped>\n",
       "    .dataframe tbody tr th:only-of-type {\n",
       "        vertical-align: middle;\n",
       "    }\n",
       "\n",
       "    .dataframe tbody tr th {\n",
       "        vertical-align: top;\n",
       "    }\n",
       "\n",
       "    .dataframe thead th {\n",
       "        text-align: right;\n",
       "    }\n",
       "</style>\n",
       "<table border=\"1\" class=\"dataframe\">\n",
       "  <thead>\n",
       "    <tr style=\"text-align: right;\">\n",
       "      <th></th>\n",
       "      <th>Textos_espanol</th>\n",
       "      <th>sdg</th>\n",
       "      <th>words</th>\n",
       "    </tr>\n",
       "  </thead>\n",
       "  <tbody>\n",
       "    <tr>\n",
       "      <th>0</th>\n",
       "      <td>Por ejemplo, el número de consultas externas de especialistas es de 319 por cada mil derechohabientes en el SP, en comparación con 338 y 620 por cada mil derechohabientes en el IMSS y el ISSSTE, respectivamente. Si bien algunas de estas diferencias pueden reflejar una necesidad desigual (como la población ligeramente mayor del ISSSTE), otras no pueden justificarse de esta manera. El número de recetas que no pudieron ser surtidas en su totalidad por un farmacéutico debido a la falta de existencias es de 33% dentro del SP en comparación con 14% dentro del IMSS según los datos de la encuesta (aunque las propias cifras de los institutos de la SS sugieren tasas más altas de recetas surtidas). Ambas cifras se encuentran entre las más altas de la OCDE. El gasto de bolsillo no se ha reducido significativamente en la última década, a pesar de los esfuerzos para lograr la cobertura sanitaria universal a través de la reforma del SP.</td>\n",
       "      <td>3</td>\n",
       "      <td>[ejemplo, numero, consultas, externas, especialistas, three hundred and nineteen, cada, mil, derechohabientes, sp, comparacion, three hundred and thirtyeight, six hundred and twenty, cada, mil, derechohabientes, imss, issste, respectivamente, si, bien, diferencias, pueden, reflejar, necesidad, desigual, poblacion, ligeramente, mayor, issste, pueden, justificarse, manera, numero, recetas, pudieron, ser, surtidas, totalidad, farmaceutico, debido, falta, existencias, thirtythree, dentro, sp, comparacion, fourteen, dentro, imss, segun, datos, encuesta, aunque, propias, cifras, institutos, ss, sugieren, tasas, mas, altas, recetas, surtidas, ambas, cifras, encuentran, mas, altas, ocde, gasto, bolsillo, reducido, significativamente, ultima, decada, pesar, esfuerzos, lograr, cobertura, sanitaria, universal, traves, reforma, sp]</td>\n",
       "    </tr>\n",
       "    <tr>\n",
       "      <th>1</th>\n",
       "      <td>En 2007, el gobierno central financió directamente solo el 0,3% del gasto total en salud, pero realizó transferencias específicas para el gasto en salud que ascendieron a otro 5,6% del gasto total. La mayor parte del gasto presupuestario en salud lo realizan los gobiernos de los condados. Por lo tanto, los condados pobres solo pueden ofrecer un bajo nivel de atención a la población local. El gobierno provincial proporciona subsidios del lado de la oferta a los hospitales.</td>\n",
       "      <td>3</td>\n",
       "      <td>[two thousand and seven, gobierno, central, financio, directamente, solo, 03, gasto, total, salud, realizo, transferencias, especificas, gasto, salud, ascendieron, 56, gasto, total, mayor, parte, gasto, presupuestario, salud, realizan, gobiernos, condados, condados, pobres, solo, pueden, ofrecer, bajo, nivel, atencion, poblacion, local, gobierno, provincial, proporciona, subsidios, lado, oferta, hospitales]</td>\n",
       "    </tr>\n",
       "    <tr>\n",
       "      <th>2</th>\n",
       "      <td>Claramente, hay muchos otros factores en juego, en particular, una variedad de barreras y determinantes sociales. Estos pueden estar relacionados con el género, la clase, la etnia, la casta, el idioma y la religión, y surgen de estructuras, normas y procesos sociales arraigados que aceptan e incluso fomentan distribuciones injustas de la riqueza y los recursos sociales. Por ejemplo, las personas que viven con el VIH y algunas otras enfermedades crónicas enfrentan altos niveles de estigma y discriminación que dificultan su acceso a pruebas médicas, tratamiento, atención y apoyo. Por lo tanto, los gobiernos que buscan mejorar los estándares de salud querrán mejorar la condición de la mujer, brindar servicios de salud reproductiva efectivos, implementar programas integrales de lactancia materna en línea con las recomendaciones actuales y aumentar las presiones comunitarias contra el aborto selectivo por sexo. Las personas pobres, que carecen de educación e información, o de fondos para opciones más saludables, son más vulnerables al impacto de las ENT que los ricos y es probable que mueran antes. Directa e indirectamente, las ENT tendrán impactos de gran alcance en el progreso hacia los ODM.</td>\n",
       "      <td>3</td>\n",
       "      <td>[claramente, factores, juego, particular, variedad, barreras, determinantes, sociales, pueden, relacionados, genero, clase, etnia, casta, idioma, religion, surgen, estructuras, normas, procesos, sociales, arraigados, aceptan, incluso, fomentan, distribuciones, injustas, riqueza, recursos, sociales, ejemplo, personas, viven, vih, enfermedades, cronicas, enfrentan, altos, niveles, estigma, discriminacion, dificultan, acceso, pruebas, medicas, tratamiento, atencion, apoyo, gobiernos, buscan, mejorar, estandares, salud, querran, mejorar, condicion, mujer, brindar, servicios, salud, reproductiva, efectivos, implementar, programas, integrales, lactancia, materna, linea, recomendaciones, actuales, aumentar, presiones, comunitarias, aborto, selectivo, sexo, personas, pobres, carecen, educacion, informacion, fondos, opciones, mas, saludables, mas, vulnerables, impacto, ent, ricos, probable, mueran, directa, indirectamente, ent, tendran, impactos, gran, alcance, progreso, ...]</td>\n",
       "    </tr>\n",
       "    <tr>\n",
       "      <th>3</th>\n",
       "      <td>Por ejemplo, el estado australiano de Victoria creó una agencia de promoción de la salud financiada con los impuestos sobre el tabaco, y varios estados de EE.UU. (California, Massachusetts, Arizona y Oregón) han destinado parte de los ingresos procedentes de los impuestos especiales sobre el tabaco a actividades de educación y control del tabaco, mientras que en Nueva Jersey, Ohio y Texas los ingresos procedentes del alcohol se utilizan para programas de educación y prevención relacionados con el alcohol (Sassi et al., 2004), Los impuestos locales pueden ser una fuente importante de ingresos, sobre todo en los sistemas sanitarios descentralizados (por ejemplo, Dinamarca, Finlandia, Italia y Suecia)17 . Además, el nivel de los impuestos locales puede fijarse en función de las preferencias locales sobre el nivel y la calidad de los servicios médicos. Sin embargo, en ausencia de un mecanismo de transferencia ajustado al riesgo y gestionado centralmente, la descentralización reduce la mancomunación de riesgos y podría dar lugar a mayores disparidades sanitarias interregionales.</td>\n",
       "      <td>3</td>\n",
       "      <td>[ejemplo, australiano, victoria, creo, agencia, promocion, salud, financiada, impuestos, tabaco, varios, eeuu, california, massachusetts, arizona, oregon, destinado, parte, ingresos, procedentes, impuestos, especiales, tabaco, actividades, educacion, control, tabaco, mientras, nueva, jersey, ohio, texas, ingresos, procedentes, alcohol, utilizan, programas, educacion, prevencion, relacionados, alcohol, sassi, et, two thousand and four, impuestos, locales, pueden, ser, fuente, importante, ingresos, sistemas, sanitarios, descentralizados, ejemplo, dinamarca, finlandia, italia, suecia, seventeen, ademas, nivel, impuestos, locales, puede, fijarse, funcion, preferencias, locales, nivel, calidad, servicios, medicos, embargo, ausencia, mecanismo, transferencia, ajustado, riesgo, gestionado, centralmente, descentralizacion, reduce, mancomunacion, riesgos, podria, dar, lugar, mayores, disparidades, sanitarias, interregionales]</td>\n",
       "    </tr>\n",
       "    <tr>\n",
       "      <th>4</th>\n",
       "      <td>El consumo anual de alcohol se estima en 15,7 litros al año para los hombres, más de un 50% por encima de la media de la OCDE (10,4) (Sistema mundial de información sobre alcohol y salud de la OMS), lo que puede ayudar a explicar la alta mortalidad por enfermedad hepática relacionada con el alcohol. Si bien la prevalencia de la obesidad en adultos es relativamente baja en comparación con muchos países de la OCDE, más del 30 % de las mujeres en Kazajstán son obesas, en comparación con el 16 % de los hombres (World Obesity, 2016), lo que coloca la tasa entre las mujeres a la par con algunos de los países más obesos de la OCDE. De hecho, una gran proporción de la brecha en la esperanza de vida se explica por una mayor mortalidad entre los jóvenes kazajos de 15 a 29 años, un grupo de edad en el que las tasas generales de mortalidad son más de tres veces más altas que en la UE de los 15.</td>\n",
       "      <td>3</td>\n",
       "      <td>[consumo, anual, alcohol, estima, 157, litros, ano, hombres, mas, fifty, encima, media, ocde, 104, sistema, mundial, informacion, alcohol, salud, oms, puede, ayudar, explicar, alta, mortalidad, enfermedad, hepatica, relacionada, alcohol, si, bien, prevalencia, obesidad, adultos, relativamente, baja, comparacion, paises, ocde, mas, thirty, mujeres, kazajstan, obesas, comparacion, sixteen, hombres, world, obesity, two thousand and sixteen, coloca, tasa, mujeres, par, paises, mas, obesos, ocde, hecho, gran, proporcion, brecha, esperanza, vida, explica, mayor, mortalidad, jovenes, kazajos, fifteen, twentynine, anos, grupo, edad, tasas, generales, mortalidad, mas, tres, veces, mas, altas, ue, fifteen]</td>\n",
       "    </tr>\n",
       "  </tbody>\n",
       "</table>\n",
       "</div>"
      ],
      "text/plain": [
       "                                                                                                                                                                                                                                                                                                                                                                                                                                                                                                                                                                                                                                                                                                                                                                                                                                                                                                                                                                                                                                                                                                                                                                                                                                            Textos_espanol  \\\n",
       "0                                                                                                                                                                                                                                                                                  Por ejemplo, el número de consultas externas de especialistas es de 319 por cada mil derechohabientes en el SP, en comparación con 338 y 620 por cada mil derechohabientes en el IMSS y el ISSSTE, respectivamente. Si bien algunas de estas diferencias pueden reflejar una necesidad desigual (como la población ligeramente mayor del ISSSTE), otras no pueden justificarse de esta manera. El número de recetas que no pudieron ser surtidas en su totalidad por un farmacéutico debido a la falta de existencias es de 33% dentro del SP en comparación con 14% dentro del IMSS según los datos de la encuesta (aunque las propias cifras de los institutos de la SS sugieren tasas más altas de recetas surtidas). Ambas cifras se encuentran entre las más altas de la OCDE. El gasto de bolsillo no se ha reducido significativamente en la última década, a pesar de los esfuerzos para lograr la cobertura sanitaria universal a través de la reforma del SP.   \n",
       "1                                                                                                                                                                                                                                                                                                                                                                                                                                                                                                                                                                                                                                                                                                                                                             En 2007, el gobierno central financió directamente solo el 0,3% del gasto total en salud, pero realizó transferencias específicas para el gasto en salud que ascendieron a otro 5,6% del gasto total. La mayor parte del gasto presupuestario en salud lo realizan los gobiernos de los condados. Por lo tanto, los condados pobres solo pueden ofrecer un bajo nivel de atención a la población local. El gobierno provincial proporciona subsidios del lado de la oferta a los hospitales.   \n",
       "2  Claramente, hay muchos otros factores en juego, en particular, una variedad de barreras y determinantes sociales. Estos pueden estar relacionados con el género, la clase, la etnia, la casta, el idioma y la religión, y surgen de estructuras, normas y procesos sociales arraigados que aceptan e incluso fomentan distribuciones injustas de la riqueza y los recursos sociales. Por ejemplo, las personas que viven con el VIH y algunas otras enfermedades crónicas enfrentan altos niveles de estigma y discriminación que dificultan su acceso a pruebas médicas, tratamiento, atención y apoyo. Por lo tanto, los gobiernos que buscan mejorar los estándares de salud querrán mejorar la condición de la mujer, brindar servicios de salud reproductiva efectivos, implementar programas integrales de lactancia materna en línea con las recomendaciones actuales y aumentar las presiones comunitarias contra el aborto selectivo por sexo. Las personas pobres, que carecen de educación e información, o de fondos para opciones más saludables, son más vulnerables al impacto de las ENT que los ricos y es probable que mueran antes. Directa e indirectamente, las ENT tendrán impactos de gran alcance en el progreso hacia los ODM.   \n",
       "3                                                                                                                       Por ejemplo, el estado australiano de Victoria creó una agencia de promoción de la salud financiada con los impuestos sobre el tabaco, y varios estados de EE.UU. (California, Massachusetts, Arizona y Oregón) han destinado parte de los ingresos procedentes de los impuestos especiales sobre el tabaco a actividades de educación y control del tabaco, mientras que en Nueva Jersey, Ohio y Texas los ingresos procedentes del alcohol se utilizan para programas de educación y prevención relacionados con el alcohol (Sassi et al., 2004), Los impuestos locales pueden ser una fuente importante de ingresos, sobre todo en los sistemas sanitarios descentralizados (por ejemplo, Dinamarca, Finlandia, Italia y Suecia)17 . Además, el nivel de los impuestos locales puede fijarse en función de las preferencias locales sobre el nivel y la calidad de los servicios médicos. Sin embargo, en ausencia de un mecanismo de transferencia ajustado al riesgo y gestionado centralmente, la descentralización reduce la mancomunación de riesgos y podría dar lugar a mayores disparidades sanitarias interregionales.   \n",
       "4                                                                                                                                                                                                                                                                                                                          El consumo anual de alcohol se estima en 15,7 litros al año para los hombres, más de un 50% por encima de la media de la OCDE (10,4) (Sistema mundial de información sobre alcohol y salud de la OMS), lo que puede ayudar a explicar la alta mortalidad por enfermedad hepática relacionada con el alcohol. Si bien la prevalencia de la obesidad en adultos es relativamente baja en comparación con muchos países de la OCDE, más del 30 % de las mujeres en Kazajstán son obesas, en comparación con el 16 % de los hombres (World Obesity, 2016), lo que coloca la tasa entre las mujeres a la par con algunos de los países más obesos de la OCDE. De hecho, una gran proporción de la brecha en la esperanza de vida se explica por una mayor mortalidad entre los jóvenes kazajos de 15 a 29 años, un grupo de edad en el que las tasas generales de mortalidad son más de tres veces más altas que en la UE de los 15.   \n",
       "\n",
       "   sdg  \\\n",
       "0    3   \n",
       "1    3   \n",
       "2    3   \n",
       "3    3   \n",
       "4    3   \n",
       "\n",
       "                                                                                                                                                                                                                                                                                                                                                                                                                                                                                                                                                                                                                                                                                                                                                                                                                                                                                                                                                                                                                   words  \n",
       "0                                                                                                                                                        [ejemplo, numero, consultas, externas, especialistas, three hundred and nineteen, cada, mil, derechohabientes, sp, comparacion, three hundred and thirtyeight, six hundred and twenty, cada, mil, derechohabientes, imss, issste, respectivamente, si, bien, diferencias, pueden, reflejar, necesidad, desigual, poblacion, ligeramente, mayor, issste, pueden, justificarse, manera, numero, recetas, pudieron, ser, surtidas, totalidad, farmaceutico, debido, falta, existencias, thirtythree, dentro, sp, comparacion, fourteen, dentro, imss, segun, datos, encuesta, aunque, propias, cifras, institutos, ss, sugieren, tasas, mas, altas, recetas, surtidas, ambas, cifras, encuentran, mas, altas, ocde, gasto, bolsillo, reducido, significativamente, ultima, decada, pesar, esfuerzos, lograr, cobertura, sanitaria, universal, traves, reforma, sp]  \n",
       "1                                                                                                                                                                                                                                                                                                                                                                                                                                                                                                                                                                                             [two thousand and seven, gobierno, central, financio, directamente, solo, 03, gasto, total, salud, realizo, transferencias, especificas, gasto, salud, ascendieron, 56, gasto, total, mayor, parte, gasto, presupuestario, salud, realizan, gobiernos, condados, condados, pobres, solo, pueden, ofrecer, bajo, nivel, atencion, poblacion, local, gobierno, provincial, proporciona, subsidios, lado, oferta, hospitales]  \n",
       "2  [claramente, factores, juego, particular, variedad, barreras, determinantes, sociales, pueden, relacionados, genero, clase, etnia, casta, idioma, religion, surgen, estructuras, normas, procesos, sociales, arraigados, aceptan, incluso, fomentan, distribuciones, injustas, riqueza, recursos, sociales, ejemplo, personas, viven, vih, enfermedades, cronicas, enfrentan, altos, niveles, estigma, discriminacion, dificultan, acceso, pruebas, medicas, tratamiento, atencion, apoyo, gobiernos, buscan, mejorar, estandares, salud, querran, mejorar, condicion, mujer, brindar, servicios, salud, reproductiva, efectivos, implementar, programas, integrales, lactancia, materna, linea, recomendaciones, actuales, aumentar, presiones, comunitarias, aborto, selectivo, sexo, personas, pobres, carecen, educacion, informacion, fondos, opciones, mas, saludables, mas, vulnerables, impacto, ent, ricos, probable, mueran, directa, indirectamente, ent, tendran, impactos, gran, alcance, progreso, ...]  \n",
       "3                                                     [ejemplo, australiano, victoria, creo, agencia, promocion, salud, financiada, impuestos, tabaco, varios, eeuu, california, massachusetts, arizona, oregon, destinado, parte, ingresos, procedentes, impuestos, especiales, tabaco, actividades, educacion, control, tabaco, mientras, nueva, jersey, ohio, texas, ingresos, procedentes, alcohol, utilizan, programas, educacion, prevencion, relacionados, alcohol, sassi, et, two thousand and four, impuestos, locales, pueden, ser, fuente, importante, ingresos, sistemas, sanitarios, descentralizados, ejemplo, dinamarca, finlandia, italia, suecia, seventeen, ademas, nivel, impuestos, locales, puede, fijarse, funcion, preferencias, locales, nivel, calidad, servicios, medicos, embargo, ausencia, mecanismo, transferencia, ajustado, riesgo, gestionado, centralmente, descentralizacion, reduce, mancomunacion, riesgos, podria, dar, lugar, mayores, disparidades, sanitarias, interregionales]  \n",
       "4                                                                                                                                                                                                                                                                                      [consumo, anual, alcohol, estima, 157, litros, ano, hombres, mas, fifty, encima, media, ocde, 104, sistema, mundial, informacion, alcohol, salud, oms, puede, ayudar, explicar, alta, mortalidad, enfermedad, hepatica, relacionada, alcohol, si, bien, prevalencia, obesidad, adultos, relativamente, baja, comparacion, paises, ocde, mas, thirty, mujeres, kazajstan, obesas, comparacion, sixteen, hombres, world, obesity, two thousand and sixteen, coloca, tasa, mujeres, par, paises, mas, obesos, ocde, hecho, gran, proporcion, brecha, esperanza, vida, explica, mayor, mortalidad, jovenes, kazajos, fifteen, twentynine, anos, grupo, edad, tasas, generales, mortalidad, mas, tres, veces, mas, altas, ue, fifteen]  "
      ]
     },
     "execution_count": 33,
     "metadata": {},
     "output_type": "execute_result"
    }
   ],
   "source": [
    "data_t['words'] = data_t['Textos_espanol'].apply(word_tokenize).apply(preprocessing) #Aplica la eliminación del ruido\n",
    "data_t.head()"
   ]
  },
  {
   "cell_type": "code",
   "execution_count": 34,
   "metadata": {},
   "outputs": [
    {
     "data": {
      "text/html": [
       "<div>\n",
       "<style scoped>\n",
       "    .dataframe tbody tr th:only-of-type {\n",
       "        vertical-align: middle;\n",
       "    }\n",
       "\n",
       "    .dataframe tbody tr th {\n",
       "        vertical-align: top;\n",
       "    }\n",
       "\n",
       "    .dataframe thead th {\n",
       "        text-align: right;\n",
       "    }\n",
       "</style>\n",
       "<table border=\"1\" class=\"dataframe\">\n",
       "  <thead>\n",
       "    <tr style=\"text-align: right;\">\n",
       "      <th></th>\n",
       "      <th>Textos_espanol</th>\n",
       "      <th>sdg</th>\n",
       "      <th>words</th>\n",
       "    </tr>\n",
       "  </thead>\n",
       "  <tbody>\n",
       "    <tr>\n",
       "      <th>0</th>\n",
       "      <td>Se basa en los nueve años de educación básica (seis de primaria y tres de secundaria). Los alumnos que acceden al segundo ciclo de secundaria pueden ir a un centro de orientación más académica o a un centro de formación profesional. Esto se aplica tanto en el sistema islámico como en el no islámico. La enseñanza secundaria superior formal comprende la enseñanza general (sekolah menengah atas, o SMA), la enseñanza profesional (sekolah menengah kejuruan, o SMK), las escuelas secundarias superiores islámicas (madrasah aliyah, o MA) y la enseñanza profesional islámica (madrasah aliyah kejuruan, o MAK). Este capítulo se centra principalmente en la enseñanza secundaria superior académica, mientras que el capítulo 5 trata de la formación profesional. Se está trabajando en el desarrollo de colegios comunitarios y vías alternativas de acceso a la enseñanza superior.</td>\n",
       "      <td>NaN</td>\n",
       "      <td>[basa, nueve, anos, educacion, basica, seis, primaria, tres, secundaria, alumnos, acceden, segundo, ciclo, secundaria, pueden, ir, centro, orientacion, mas, academica, centro, formacion, profesional, aplica, sistema, islamico, islamico, ensenanza, secundaria, superior, formal, comprende, ensenanza, general, sekolah, menengah, atas, sma, ensenanza, profesional, sekolah, menengah, kejuruan, smk, escuelas, secundarias, superiores, islamicas, madrasah, aliyah, ma, ensenanza, profesional, islamica, madrasah, aliyah, kejuruan, mak, capitulo, centra, principalmente, ensenanza, secundaria, superior, academica, mientras, capitulo, five, trata, formacion, profesional, trabajando, desarrollo, colegios, comunitarios, vias, alternativas, acceso, ensenanza, superior]</td>\n",
       "    </tr>\n",
       "    <tr>\n",
       "      <th>1</th>\n",
       "      <td>En la última década, y en particular desde 2010, el número de altas per cápita ha tendido a disminuir, y ahora está en línea con la media de la OCDE mencionada anteriormente. Por ejemplo, los habitantes de zonas rurales representan el 43% de la población, pero sólo el 32% de las altas hospitalarias. A falta de información complementaria, no es posible determinar si esta diferencia indica o no disparidades en el acceso de las poblaciones rurales y, en caso afirmativo, si las causas son geográficas, culturales o infraestructurales. No parece que se recojan datos sobre el acceso a la atención desde el punto de vista del paciente, lo que ayudaría a comprender la naturaleza de los obstáculos al acceso (y las soluciones). En general, no es posible determinar con los datos disponibles si los ingresos o las características socioeconómicas de los pacientes influyen a la hora de llegar a las puertas del hospital o de ser ingresado. El acceso desigual probablemente se deba también a la incapacidad de los centros de las distintas regiones para prestar los mismos servicios.</td>\n",
       "      <td>NaN</td>\n",
       "      <td>[ultima, decada, particular, two thousand and ten, numero, altas, per, capita, tendido, disminuir, ahora, linea, media, ocde, mencionada, anteriormente, ejemplo, habitantes, zonas, rurales, representan, fortythree, poblacion, solo, thirtytwo, altas, hospitalarias, falta, informacion, complementaria, posible, determinar, si, diferencia, indica, disparidades, acceso, poblaciones, rurales, caso, afirmativo, si, causas, geograficas, culturales, infraestructurales, parece, recojan, datos, acceso, atencion, punto, vista, paciente, ayudaria, comprender, naturaleza, obstaculos, acceso, soluciones, general, posible, determinar, datos, disponibles, si, ingresos, caracteristicas, socioeconomicas, pacientes, influyen, hora, llegar, puertas, hospital, ser, ingresado, acceso, desigual, probablemente, deba, tambien, incapacidad, centros, distintas, regiones, prestar, mismos, servicios]</td>\n",
       "    </tr>\n",
       "    <tr>\n",
       "      <th>2</th>\n",
       "      <td>AsÃ, por ejemplo, el estigma asociado a los beneficiarios de prestaciones sociales o a los pobres aumenta su desventaja. Del mismo modo, los errores de dignidad y reconocimiento pueden causar desventajas.54 La infravaloración del trabajo de las mujeres es un error de reconocimiento que causa directamente desventajas socioeconómicas, por lo que el derecho a la igualdad de retribución por un trabajo de igual valor es una sÃntesis importante de las dos primeras dimensiones del derecho a la igualdad: reparar la desventaja y abordar el estigma y los estereotipos. Tanto el Comité de Derechos Económicos, Sociales y Culturales como el Comité para la Eliminación de la Discriminación contra la Mujer han dado este paso. Directrices para la presentación de informes\", párrafo 29, CDESC, Ecuador, op. cit.</td>\n",
       "      <td>NaN</td>\n",
       "      <td>[asa, ejemplo, estigma, asociado, beneficiarios, prestaciones, sociales, pobres, aumenta, desventaja, mismo, modo, errores, dignidad, reconocimiento, pueden, causar, desventajas54, infravaloracion, trabajo, mujeres, error, reconocimiento, causa, directamente, desventajas, socioeconomicas, derecho, igualdad, retribucion, trabajo, igual, valor, santesis, importante, dos, primeras, dimensiones, derecho, igualdad, reparar, desventaja, abordar, estigma, estereotipos, comite, derechos, economicos, sociales, culturales, comite, eliminacion, discriminacion, mujer, dado, paso, directrices, presentacion, informes, parrafo, twentynine, cdesc, ecuador, op, cit]</td>\n",
       "    </tr>\n",
       "    <tr>\n",
       "      <th>3</th>\n",
       "      <td>Hay muchos profesores no cualificados en las escuelas, ya que es difícil contratar a profesores cualificados. Un indicio del reconocimiento del importante papel de los profesores en este contexto es la inclusión por Alberta de preguntas adicionales en la Encuesta Internacional sobre la Enseñanza y el Aprendizaje de la OCDE de 2018 relativas a la comprensión por parte de los profesores y los lÃderes escolares de cuestiones relacionadas con las culturas indÃgenas, la historia y el trabajo con alumnos indÃgenas, asà como sobre el desarrollo profesional pertinente. El enfoque holÃstico de los pueblos indÃgenas hace hincapié en lo mucho que estos contribuyen al bienestar general de los niños, asà como al de todos los demás, además de factores como las ventajas y desventajas materiales. El trauma sufrido por los pueblos indígenas, incluso a través del sistema de escuelas residenciales, todavía es sentido agudamente por muchos. De hecho, se nos dijo que los síntomas del trauma pueden aumentar en lugar de disminuir con el paso del tiempo, exacerbados por las relaciones intergeneracionales. Frente a este panorama más amplio, pueden comprenderse mejor los estudios específicos de determinadas provincias y territorios, y la comparación entre jóvenes indígenas y no indígenas (Freeman, King y Pickett, 2016).</td>\n",
       "      <td>NaN</td>\n",
       "      <td>[profesores, cualificados, escuelas, dificil, contratar, profesores, cualificados, indicio, reconocimiento, importante, papel, profesores, contexto, inclusion, alberta, preguntas, adicionales, encuesta, internacional, ensenanza, aprendizaje, ocde, two thousand and eighteen, relativas, comprension, parte, profesores, laderes, escolares, cuestiones, relacionadas, culturas, indagenas, historia, trabajo, alumnos, indagenas, asa, desarrollo, profesional, pertinente, enfoque, holastico, pueblos, indagenas, hace, hincapie, contribuyen, bienestar, general, ninos, asa, demas, ademas, factores, ventajas, desventajas, materiales, trauma, sufrido, pueblos, indigenas, incluso, traves, sistema, escuelas, residenciales, todavia, agudamente, hecho, dijo, sintomas, trauma, pueden, aumentar, lugar, disminuir, paso, tiempo, exacerbados, relaciones, intergeneracionales, frente, panorama, mas, amplio, pueden, comprenderse, mejor, estudios, especificos, determinadas, provincias, territorios, comparacion, jovenes, indigenas, indigenas, freeman, king, ...]</td>\n",
       "    </tr>\n",
       "    <tr>\n",
       "      <th>4</th>\n",
       "      <td>A raíz de su preocupación por el hecho de que los médicos de todo el sistema sanitario japonés no fueran capaces de identificar los signos de sufrimiento psicológico que podrían ayudar a reducir los suicidios, la Asociación Médica Japonesa informa de que empezó a compartir información y orientaciones sobre la depresión con todos los médicos, primero en 2004 y luego de nuevo en 2009. En la actualidad, sólo se recogen indicadores sobre la tasa de reclusión y contención, y de ingresos involuntarios, por parte de los proveedores y a nivel prefectural. La información recopilada sistemáticamente sobre el sistema de atención de salud mental se limita a indicadores estructurales: instalaciones, número de personal, número de camas.</td>\n",
       "      <td>NaN</td>\n",
       "      <td>[raiz, preocupacion, hecho, medicos, sistema, sanitario, japones, capaces, identificar, signos, sufrimiento, psicologico, podrian, ayudar, reducir, suicidios, asociacion, medica, japonesa, informa, empezo, compartir, informacion, orientaciones, depresion, medicos, primero, two thousand and four, luego, nuevo, two thousand and nine, actualidad, solo, recogen, indicadores, tasa, reclusion, contencion, ingresos, involuntarios, parte, proveedores, nivel, prefectural, informacion, recopilada, sistematicamente, sistema, atencion, salud, mental, limita, indicadores, estructurales, instalaciones, numero, personal, numero, camas]</td>\n",
       "    </tr>\n",
       "  </tbody>\n",
       "</table>\n",
       "</div>"
      ],
      "text/plain": [
       "                                                                                                                                                                                                                                                                                                                                                                                                                                                                                                                                                                                                                                                                                                                                                                                                                                                                                                                                                                                                                                                                                                                                                                                                                                                                                                                                                         Textos_espanol  \\\n",
       "0                                                                                                                                                                                                                                                                                                                                                                                                                                                                Se basa en los nueve años de educación básica (seis de primaria y tres de secundaria). Los alumnos que acceden al segundo ciclo de secundaria pueden ir a un centro de orientación más académica o a un centro de formación profesional. Esto se aplica tanto en el sistema islámico como en el no islámico. La enseñanza secundaria superior formal comprende la enseñanza general (sekolah menengah atas, o SMA), la enseñanza profesional (sekolah menengah kejuruan, o SMK), las escuelas secundarias superiores islámicas (madrasah aliyah, o MA) y la enseñanza profesional islámica (madrasah aliyah kejuruan, o MAK). Este capítulo se centra principalmente en la enseñanza secundaria superior académica, mientras que el capítulo 5 trata de la formación profesional. Se está trabajando en el desarrollo de colegios comunitarios y vías alternativas de acceso a la enseñanza superior.    \n",
       "1                                                                                                                                                                                                                                                En la última década, y en particular desde 2010, el número de altas per cápita ha tendido a disminuir, y ahora está en línea con la media de la OCDE mencionada anteriormente. Por ejemplo, los habitantes de zonas rurales representan el 43% de la población, pero sólo el 32% de las altas hospitalarias. A falta de información complementaria, no es posible determinar si esta diferencia indica o no disparidades en el acceso de las poblaciones rurales y, en caso afirmativo, si las causas son geográficas, culturales o infraestructurales. No parece que se recojan datos sobre el acceso a la atención desde el punto de vista del paciente, lo que ayudaría a comprender la naturaleza de los obstáculos al acceso (y las soluciones). En general, no es posible determinar con los datos disponibles si los ingresos o las características socioeconómicas de los pacientes influyen a la hora de llegar a las puertas del hospital o de ser ingresado. El acceso desigual probablemente se deba también a la incapacidad de los centros de las distintas regiones para prestar los mismos servicios.    \n",
       "2                                                                                                                                                                                                                                                                                                                                                                                                                                                                                                                                   AsÃ, por ejemplo, el estigma asociado a los beneficiarios de prestaciones sociales o a los pobres aumenta su desventaja. Del mismo modo, los errores de dignidad y reconocimiento pueden causar desventajas.54 La infravaloración del trabajo de las mujeres es un error de reconocimiento que causa directamente desventajas socioeconómicas, por lo que el derecho a la igualdad de retribución por un trabajo de igual valor es una sÃntesis importante de las dos primeras dimensiones del derecho a la igualdad: reparar la desventaja y abordar el estigma y los estereotipos. Tanto el Comité de Derechos Económicos, Sociales y Culturales como el Comité para la Eliminación de la Discriminación contra la Mujer han dado este paso. Directrices para la presentación de informes\", párrafo 29, CDESC, Ecuador, op. cit.    \n",
       "3  Hay muchos profesores no cualificados en las escuelas, ya que es difícil contratar a profesores cualificados. Un indicio del reconocimiento del importante papel de los profesores en este contexto es la inclusión por Alberta de preguntas adicionales en la Encuesta Internacional sobre la Enseñanza y el Aprendizaje de la OCDE de 2018 relativas a la comprensión por parte de los profesores y los lÃderes escolares de cuestiones relacionadas con las culturas indÃgenas, la historia y el trabajo con alumnos indÃgenas, asà como sobre el desarrollo profesional pertinente. El enfoque holÃstico de los pueblos indÃgenas hace hincapié en lo mucho que estos contribuyen al bienestar general de los niños, asà como al de todos los demás, además de factores como las ventajas y desventajas materiales. El trauma sufrido por los pueblos indígenas, incluso a través del sistema de escuelas residenciales, todavía es sentido agudamente por muchos. De hecho, se nos dijo que los síntomas del trauma pueden aumentar en lugar de disminuir con el paso del tiempo, exacerbados por las relaciones intergeneracionales. Frente a este panorama más amplio, pueden comprenderse mejor los estudios específicos de determinadas provincias y territorios, y la comparación entre jóvenes indígenas y no indígenas (Freeman, King y Pickett, 2016).    \n",
       "4                                                                                                                                                                                                                                                                                                                                                                                                                                                                                                                                                                                                         A raíz de su preocupación por el hecho de que los médicos de todo el sistema sanitario japonés no fueran capaces de identificar los signos de sufrimiento psicológico que podrían ayudar a reducir los suicidios, la Asociación Médica Japonesa informa de que empezó a compartir información y orientaciones sobre la depresión con todos los médicos, primero en 2004 y luego de nuevo en 2009. En la actualidad, sólo se recogen indicadores sobre la tasa de reclusión y contención, y de ingresos involuntarios, por parte de los proveedores y a nivel prefectural. La información recopilada sistemáticamente sobre el sistema de atención de salud mental se limita a indicadores estructurales: instalaciones, número de personal, número de camas.    \n",
       "\n",
       "   sdg  \\\n",
       "0  NaN   \n",
       "1  NaN   \n",
       "2  NaN   \n",
       "3  NaN   \n",
       "4  NaN   \n",
       "\n",
       "                                                                                                                                                                                                                                                                                                                                                                                                                                                                                                                                                                                                                                                                                                                                                                                                                                                                                                                                                                                                                                                                                      words  \n",
       "0                                                                                                                                                                                                                                                                                               [basa, nueve, anos, educacion, basica, seis, primaria, tres, secundaria, alumnos, acceden, segundo, ciclo, secundaria, pueden, ir, centro, orientacion, mas, academica, centro, formacion, profesional, aplica, sistema, islamico, islamico, ensenanza, secundaria, superior, formal, comprende, ensenanza, general, sekolah, menengah, atas, sma, ensenanza, profesional, sekolah, menengah, kejuruan, smk, escuelas, secundarias, superiores, islamicas, madrasah, aliyah, ma, ensenanza, profesional, islamica, madrasah, aliyah, kejuruan, mak, capitulo, centra, principalmente, ensenanza, secundaria, superior, academica, mientras, capitulo, five, trata, formacion, profesional, trabajando, desarrollo, colegios, comunitarios, vias, alternativas, acceso, ensenanza, superior]  \n",
       "1                                                                                                                                                                       [ultima, decada, particular, two thousand and ten, numero, altas, per, capita, tendido, disminuir, ahora, linea, media, ocde, mencionada, anteriormente, ejemplo, habitantes, zonas, rurales, representan, fortythree, poblacion, solo, thirtytwo, altas, hospitalarias, falta, informacion, complementaria, posible, determinar, si, diferencia, indica, disparidades, acceso, poblaciones, rurales, caso, afirmativo, si, causas, geograficas, culturales, infraestructurales, parece, recojan, datos, acceso, atencion, punto, vista, paciente, ayudaria, comprender, naturaleza, obstaculos, acceso, soluciones, general, posible, determinar, datos, disponibles, si, ingresos, caracteristicas, socioeconomicas, pacientes, influyen, hora, llegar, puertas, hospital, ser, ingresado, acceso, desigual, probablemente, deba, tambien, incapacidad, centros, distintas, regiones, prestar, mismos, servicios]  \n",
       "2                                                                                                                                                                                                                                                                                                                                                                                                         [asa, ejemplo, estigma, asociado, beneficiarios, prestaciones, sociales, pobres, aumenta, desventaja, mismo, modo, errores, dignidad, reconocimiento, pueden, causar, desventajas54, infravaloracion, trabajo, mujeres, error, reconocimiento, causa, directamente, desventajas, socioeconomicas, derecho, igualdad, retribucion, trabajo, igual, valor, santesis, importante, dos, primeras, dimensiones, derecho, igualdad, reparar, desventaja, abordar, estigma, estereotipos, comite, derechos, economicos, sociales, culturales, comite, eliminacion, discriminacion, mujer, dado, paso, directrices, presentacion, informes, parrafo, twentynine, cdesc, ecuador, op, cit]  \n",
       "3  [profesores, cualificados, escuelas, dificil, contratar, profesores, cualificados, indicio, reconocimiento, importante, papel, profesores, contexto, inclusion, alberta, preguntas, adicionales, encuesta, internacional, ensenanza, aprendizaje, ocde, two thousand and eighteen, relativas, comprension, parte, profesores, laderes, escolares, cuestiones, relacionadas, culturas, indagenas, historia, trabajo, alumnos, indagenas, asa, desarrollo, profesional, pertinente, enfoque, holastico, pueblos, indagenas, hace, hincapie, contribuyen, bienestar, general, ninos, asa, demas, ademas, factores, ventajas, desventajas, materiales, trauma, sufrido, pueblos, indigenas, incluso, traves, sistema, escuelas, residenciales, todavia, agudamente, hecho, dijo, sintomas, trauma, pueden, aumentar, lugar, disminuir, paso, tiempo, exacerbados, relaciones, intergeneracionales, frente, panorama, mas, amplio, pueden, comprenderse, mejor, estudios, especificos, determinadas, provincias, territorios, comparacion, jovenes, indigenas, indigenas, freeman, king, ...]  \n",
       "4                                                                                                                                                                                                                                                                                                                                                                                                                                      [raiz, preocupacion, hecho, medicos, sistema, sanitario, japones, capaces, identificar, signos, sufrimiento, psicologico, podrian, ayudar, reducir, suicidios, asociacion, medica, japonesa, informa, empezo, compartir, informacion, orientaciones, depresion, medicos, primero, two thousand and four, luego, nuevo, two thousand and nine, actualidad, solo, recogen, indicadores, tasa, reclusion, contencion, ingresos, involuntarios, parte, proveedores, nivel, prefectural, informacion, recopilada, sistematicamente, sistema, atencion, salud, mental, limita, indicadores, estructurales, instalaciones, numero, personal, numero, camas]  "
      ]
     },
     "execution_count": 34,
     "metadata": {},
     "output_type": "execute_result"
    }
   ],
   "source": [
    "data_t_nuevo['words'] = data_t_nuevo['Textos_espanol'].apply(word_tokenize).apply(preprocessing) #Aplica la eliminación del ruido\n",
    "data_t_nuevo.head()"
   ]
  },
  {
   "cell_type": "markdown",
   "metadata": {},
   "source": [
    "### 2.5 Normalización de texto"
   ]
  },
  {
   "cell_type": "code",
   "execution_count": 35,
   "metadata": {},
   "outputs": [],
   "source": [
    "# Crear instancias de los stemmers y lematizadores\n",
    "stemmer = LancasterStemmer()\n",
    "lemmatizer = WordNetLemmatizer()\n",
    "\n",
    "def stem_words(words):\n",
    "    \"\"\"Stem words in list of tokenized words\"\"\"\n",
    "    stems = [stemmer.stem(word) for word in words]\n",
    "    return stems\n",
    "\n",
    "def lemmatize_verbs(words):\n",
    "    \"\"\"Lemmatize verbs in list of tokenized words\"\"\"\n",
    "    lemmas = []\n",
    "    for word in words:\n",
    "        pos = get_wordnet_pos(word)\n",
    "        if pos:\n",
    "            lemma = lemmatizer.lemmatize(word, pos)\n",
    "            lemmas.append(lemma)\n",
    "        else:\n",
    "            lemmas.append(word)\n",
    "    return lemmas\n",
    "\n",
    "def stem_and_lemmatize(words):\n",
    "    stems = stem_words(words)\n",
    "    lemmas = lemmatize_verbs(stems)\n",
    "    return lemmas\n",
    "\n",
    "def get_wordnet_pos(word):\n",
    "    \"\"\"Map POS tag to first character accepted by WordNetLemmatizer\"\"\"\n",
    "    tag = nltk.pos_tag([word])[0][1][0].upper()\n",
    "    tag_dict = {\"J\": wordnet.ADJ,\n",
    "                \"N\": wordnet.NOUN,\n",
    "                \"V\": wordnet.VERB,\n",
    "                \"R\": wordnet.ADV}\n",
    "    return tag_dict.get(tag, wordnet.NOUN)\n"
   ]
  },
  {
   "cell_type": "code",
   "execution_count": 36,
   "metadata": {},
   "outputs": [
    {
     "data": {
      "text/html": [
       "<div>\n",
       "<style scoped>\n",
       "    .dataframe tbody tr th:only-of-type {\n",
       "        vertical-align: middle;\n",
       "    }\n",
       "\n",
       "    .dataframe tbody tr th {\n",
       "        vertical-align: top;\n",
       "    }\n",
       "\n",
       "    .dataframe thead th {\n",
       "        text-align: right;\n",
       "    }\n",
       "</style>\n",
       "<table border=\"1\" class=\"dataframe\">\n",
       "  <thead>\n",
       "    <tr style=\"text-align: right;\">\n",
       "      <th></th>\n",
       "      <th>Textos_espanol</th>\n",
       "      <th>sdg</th>\n",
       "      <th>words</th>\n",
       "    </tr>\n",
       "  </thead>\n",
       "  <tbody>\n",
       "    <tr>\n",
       "      <th>0</th>\n",
       "      <td>Por ejemplo, el número de consultas externas de especialistas es de 319 por cada mil derechohabientes en el SP, en comparación con 338 y 620 por cada mil derechohabientes en el IMSS y el ISSSTE, respectivamente. Si bien algunas de estas diferencias pueden reflejar una necesidad desigual (como la población ligeramente mayor del ISSSTE), otras no pueden justificarse de esta manera. El número de recetas que no pudieron ser surtidas en su totalidad por un farmacéutico debido a la falta de existencias es de 33% dentro del SP en comparación con 14% dentro del IMSS según los datos de la encuesta (aunque las propias cifras de los institutos de la SS sugieren tasas más altas de recetas surtidas). Ambas cifras se encuentran entre las más altas de la OCDE. El gasto de bolsillo no se ha reducido significativamente en la última década, a pesar de los esfuerzos para lograr la cobertura sanitaria universal a través de la reforma del SP.</td>\n",
       "      <td>3</td>\n",
       "      <td>[ejemplo, numero, consultas, externas, especialistas, three hundred and nineteen, cada, mil, derechohabientes, sp, comparacion, three hundred and thirtyeight, six hundred and twenty, cada, mil, derechohabientes, imss, issste, respectivamente, si, bien, diferencias, pueden, reflejar, necesidad, desigual, poblacion, ligeramente, mayor, issste, pueden, justificarse, manera, numero, recetas, pudieron, ser, surtidas, totalidad, farmaceutico, debido, falta, existencias, thirtythree, dentro, sp, comparacion, fourteen, dentro, imss, segun, datos, encuesta, aunque, propias, cifras, institutos, ss, sugieren, tasas, mas, altas, recetas, surtidas, ambas, cifras, encuentran, mas, altas, ocde, gasto, bolsillo, reducido, significativamente, ultima, decada, pesar, esfuerzos, lograr, cobertura, sanitaria, universal, traves, reforma, sp]</td>\n",
       "    </tr>\n",
       "    <tr>\n",
       "      <th>1</th>\n",
       "      <td>En 2007, el gobierno central financió directamente solo el 0,3% del gasto total en salud, pero realizó transferencias específicas para el gasto en salud que ascendieron a otro 5,6% del gasto total. La mayor parte del gasto presupuestario en salud lo realizan los gobiernos de los condados. Por lo tanto, los condados pobres solo pueden ofrecer un bajo nivel de atención a la población local. El gobierno provincial proporciona subsidios del lado de la oferta a los hospitales.</td>\n",
       "      <td>3</td>\n",
       "      <td>[two thousand and seven, gobierno, central, financio, directamente, solo, 03, gasto, total, salud, realizo, transferencias, especificas, gasto, salud, ascendieron, 56, gasto, total, mayor, parte, gasto, presupuestario, salud, realizan, gobiernos, condados, condados, pobres, solo, pueden, ofrecer, bajo, nivel, atencion, poblacion, local, gobierno, provincial, proporciona, subsidios, lado, oferta, hospitales]</td>\n",
       "    </tr>\n",
       "    <tr>\n",
       "      <th>2</th>\n",
       "      <td>Claramente, hay muchos otros factores en juego, en particular, una variedad de barreras y determinantes sociales. Estos pueden estar relacionados con el género, la clase, la etnia, la casta, el idioma y la religión, y surgen de estructuras, normas y procesos sociales arraigados que aceptan e incluso fomentan distribuciones injustas de la riqueza y los recursos sociales. Por ejemplo, las personas que viven con el VIH y algunas otras enfermedades crónicas enfrentan altos niveles de estigma y discriminación que dificultan su acceso a pruebas médicas, tratamiento, atención y apoyo. Por lo tanto, los gobiernos que buscan mejorar los estándares de salud querrán mejorar la condición de la mujer, brindar servicios de salud reproductiva efectivos, implementar programas integrales de lactancia materna en línea con las recomendaciones actuales y aumentar las presiones comunitarias contra el aborto selectivo por sexo. Las personas pobres, que carecen de educación e información, o de fondos para opciones más saludables, son más vulnerables al impacto de las ENT que los ricos y es probable que mueran antes. Directa e indirectamente, las ENT tendrán impactos de gran alcance en el progreso hacia los ODM.</td>\n",
       "      <td>3</td>\n",
       "      <td>[claramente, factores, juego, particular, variedad, barreras, determinantes, sociales, pueden, relacionados, genero, clase, etnia, casta, idioma, religion, surgen, estructuras, normas, procesos, sociales, arraigados, aceptan, incluso, fomentan, distribuciones, injustas, riqueza, recursos, sociales, ejemplo, personas, viven, vih, enfermedades, cronicas, enfrentan, altos, niveles, estigma, discriminacion, dificultan, acceso, pruebas, medicas, tratamiento, atencion, apoyo, gobiernos, buscan, mejorar, estandares, salud, querran, mejorar, condicion, mujer, brindar, servicios, salud, reproductiva, efectivos, implementar, programas, integrales, lactancia, materna, linea, recomendaciones, actuales, aumentar, presiones, comunitarias, aborto, selectivo, sexo, personas, pobres, carecen, educacion, informacion, fondos, opciones, mas, saludables, mas, vulnerables, impacto, ent, ricos, probable, mueran, directa, indirectamente, ent, tendran, impactos, gran, alcance, progreso, ...]</td>\n",
       "    </tr>\n",
       "    <tr>\n",
       "      <th>3</th>\n",
       "      <td>Por ejemplo, el estado australiano de Victoria creó una agencia de promoción de la salud financiada con los impuestos sobre el tabaco, y varios estados de EE.UU. (California, Massachusetts, Arizona y Oregón) han destinado parte de los ingresos procedentes de los impuestos especiales sobre el tabaco a actividades de educación y control del tabaco, mientras que en Nueva Jersey, Ohio y Texas los ingresos procedentes del alcohol se utilizan para programas de educación y prevención relacionados con el alcohol (Sassi et al., 2004), Los impuestos locales pueden ser una fuente importante de ingresos, sobre todo en los sistemas sanitarios descentralizados (por ejemplo, Dinamarca, Finlandia, Italia y Suecia)17 . Además, el nivel de los impuestos locales puede fijarse en función de las preferencias locales sobre el nivel y la calidad de los servicios médicos. Sin embargo, en ausencia de un mecanismo de transferencia ajustado al riesgo y gestionado centralmente, la descentralización reduce la mancomunación de riesgos y podría dar lugar a mayores disparidades sanitarias interregionales.</td>\n",
       "      <td>3</td>\n",
       "      <td>[ejemplo, australiano, victoria, creo, agencia, promocion, salud, financiada, impuestos, tabaco, varios, eeuu, california, massachusetts, arizona, oregon, destinado, parte, ingresos, procedentes, impuestos, especiales, tabaco, actividades, educacion, control, tabaco, mientras, nueva, jersey, ohio, texas, ingresos, procedentes, alcohol, utilizan, programas, educacion, prevencion, relacionados, alcohol, sassi, et, two thousand and four, impuestos, locales, pueden, ser, fuente, importante, ingresos, sistemas, sanitarios, descentralizados, ejemplo, dinamarca, finlandia, italia, suecia, seventeen, ademas, nivel, impuestos, locales, puede, fijarse, funcion, preferencias, locales, nivel, calidad, servicios, medicos, embargo, ausencia, mecanismo, transferencia, ajustado, riesgo, gestionado, centralmente, descentralizacion, reduce, mancomunacion, riesgos, podria, dar, lugar, mayores, disparidades, sanitarias, interregionales]</td>\n",
       "    </tr>\n",
       "    <tr>\n",
       "      <th>4</th>\n",
       "      <td>El consumo anual de alcohol se estima en 15,7 litros al año para los hombres, más de un 50% por encima de la media de la OCDE (10,4) (Sistema mundial de información sobre alcohol y salud de la OMS), lo que puede ayudar a explicar la alta mortalidad por enfermedad hepática relacionada con el alcohol. Si bien la prevalencia de la obesidad en adultos es relativamente baja en comparación con muchos países de la OCDE, más del 30 % de las mujeres en Kazajstán son obesas, en comparación con el 16 % de los hombres (World Obesity, 2016), lo que coloca la tasa entre las mujeres a la par con algunos de los países más obesos de la OCDE. De hecho, una gran proporción de la brecha en la esperanza de vida se explica por una mayor mortalidad entre los jóvenes kazajos de 15 a 29 años, un grupo de edad en el que las tasas generales de mortalidad son más de tres veces más altas que en la UE de los 15.</td>\n",
       "      <td>3</td>\n",
       "      <td>[consumo, anual, alcohol, estima, 157, litros, ano, hombres, mas, fifty, encima, media, ocde, 104, sistema, mundial, informacion, alcohol, salud, oms, puede, ayudar, explicar, alta, mortalidad, enfermedad, hepatica, relacionada, alcohol, si, bien, prevalencia, obesidad, adultos, relativamente, baja, comparacion, paises, ocde, mas, thirty, mujeres, kazajstan, obesas, comparacion, sixteen, hombres, world, obesity, two thousand and sixteen, coloca, tasa, mujeres, par, paises, mas, obesos, ocde, hecho, gran, proporcion, brecha, esperanza, vida, explica, mayor, mortalidad, jovenes, kazajos, fifteen, twentynine, anos, grupo, edad, tasas, generales, mortalidad, mas, tres, veces, mas, altas, ue, fifteen]</td>\n",
       "    </tr>\n",
       "  </tbody>\n",
       "</table>\n",
       "</div>"
      ],
      "text/plain": [
       "                                                                                                                                                                                                                                                                                                                                                                                                                                                                                                                                                                                                                                                                                                                                                                                                                                                                                                                                                                                                                                                                                                                                                                                                                                            Textos_espanol  \\\n",
       "0                                                                                                                                                                                                                                                                                  Por ejemplo, el número de consultas externas de especialistas es de 319 por cada mil derechohabientes en el SP, en comparación con 338 y 620 por cada mil derechohabientes en el IMSS y el ISSSTE, respectivamente. Si bien algunas de estas diferencias pueden reflejar una necesidad desigual (como la población ligeramente mayor del ISSSTE), otras no pueden justificarse de esta manera. El número de recetas que no pudieron ser surtidas en su totalidad por un farmacéutico debido a la falta de existencias es de 33% dentro del SP en comparación con 14% dentro del IMSS según los datos de la encuesta (aunque las propias cifras de los institutos de la SS sugieren tasas más altas de recetas surtidas). Ambas cifras se encuentran entre las más altas de la OCDE. El gasto de bolsillo no se ha reducido significativamente en la última década, a pesar de los esfuerzos para lograr la cobertura sanitaria universal a través de la reforma del SP.   \n",
       "1                                                                                                                                                                                                                                                                                                                                                                                                                                                                                                                                                                                                                                                                                                                                                             En 2007, el gobierno central financió directamente solo el 0,3% del gasto total en salud, pero realizó transferencias específicas para el gasto en salud que ascendieron a otro 5,6% del gasto total. La mayor parte del gasto presupuestario en salud lo realizan los gobiernos de los condados. Por lo tanto, los condados pobres solo pueden ofrecer un bajo nivel de atención a la población local. El gobierno provincial proporciona subsidios del lado de la oferta a los hospitales.   \n",
       "2  Claramente, hay muchos otros factores en juego, en particular, una variedad de barreras y determinantes sociales. Estos pueden estar relacionados con el género, la clase, la etnia, la casta, el idioma y la religión, y surgen de estructuras, normas y procesos sociales arraigados que aceptan e incluso fomentan distribuciones injustas de la riqueza y los recursos sociales. Por ejemplo, las personas que viven con el VIH y algunas otras enfermedades crónicas enfrentan altos niveles de estigma y discriminación que dificultan su acceso a pruebas médicas, tratamiento, atención y apoyo. Por lo tanto, los gobiernos que buscan mejorar los estándares de salud querrán mejorar la condición de la mujer, brindar servicios de salud reproductiva efectivos, implementar programas integrales de lactancia materna en línea con las recomendaciones actuales y aumentar las presiones comunitarias contra el aborto selectivo por sexo. Las personas pobres, que carecen de educación e información, o de fondos para opciones más saludables, son más vulnerables al impacto de las ENT que los ricos y es probable que mueran antes. Directa e indirectamente, las ENT tendrán impactos de gran alcance en el progreso hacia los ODM.   \n",
       "3                                                                                                                       Por ejemplo, el estado australiano de Victoria creó una agencia de promoción de la salud financiada con los impuestos sobre el tabaco, y varios estados de EE.UU. (California, Massachusetts, Arizona y Oregón) han destinado parte de los ingresos procedentes de los impuestos especiales sobre el tabaco a actividades de educación y control del tabaco, mientras que en Nueva Jersey, Ohio y Texas los ingresos procedentes del alcohol se utilizan para programas de educación y prevención relacionados con el alcohol (Sassi et al., 2004), Los impuestos locales pueden ser una fuente importante de ingresos, sobre todo en los sistemas sanitarios descentralizados (por ejemplo, Dinamarca, Finlandia, Italia y Suecia)17 . Además, el nivel de los impuestos locales puede fijarse en función de las preferencias locales sobre el nivel y la calidad de los servicios médicos. Sin embargo, en ausencia de un mecanismo de transferencia ajustado al riesgo y gestionado centralmente, la descentralización reduce la mancomunación de riesgos y podría dar lugar a mayores disparidades sanitarias interregionales.   \n",
       "4                                                                                                                                                                                                                                                                                                                          El consumo anual de alcohol se estima en 15,7 litros al año para los hombres, más de un 50% por encima de la media de la OCDE (10,4) (Sistema mundial de información sobre alcohol y salud de la OMS), lo que puede ayudar a explicar la alta mortalidad por enfermedad hepática relacionada con el alcohol. Si bien la prevalencia de la obesidad en adultos es relativamente baja en comparación con muchos países de la OCDE, más del 30 % de las mujeres en Kazajstán son obesas, en comparación con el 16 % de los hombres (World Obesity, 2016), lo que coloca la tasa entre las mujeres a la par con algunos de los países más obesos de la OCDE. De hecho, una gran proporción de la brecha en la esperanza de vida se explica por una mayor mortalidad entre los jóvenes kazajos de 15 a 29 años, un grupo de edad en el que las tasas generales de mortalidad son más de tres veces más altas que en la UE de los 15.   \n",
       "\n",
       "   sdg  \\\n",
       "0    3   \n",
       "1    3   \n",
       "2    3   \n",
       "3    3   \n",
       "4    3   \n",
       "\n",
       "                                                                                                                                                                                                                                                                                                                                                                                                                                                                                                                                                                                                                                                                                                                                                                                                                                                                                                                                                                                                                   words  \n",
       "0                                                                                                                                                        [ejemplo, numero, consultas, externas, especialistas, three hundred and nineteen, cada, mil, derechohabientes, sp, comparacion, three hundred and thirtyeight, six hundred and twenty, cada, mil, derechohabientes, imss, issste, respectivamente, si, bien, diferencias, pueden, reflejar, necesidad, desigual, poblacion, ligeramente, mayor, issste, pueden, justificarse, manera, numero, recetas, pudieron, ser, surtidas, totalidad, farmaceutico, debido, falta, existencias, thirtythree, dentro, sp, comparacion, fourteen, dentro, imss, segun, datos, encuesta, aunque, propias, cifras, institutos, ss, sugieren, tasas, mas, altas, recetas, surtidas, ambas, cifras, encuentran, mas, altas, ocde, gasto, bolsillo, reducido, significativamente, ultima, decada, pesar, esfuerzos, lograr, cobertura, sanitaria, universal, traves, reforma, sp]  \n",
       "1                                                                                                                                                                                                                                                                                                                                                                                                                                                                                                                                                                                             [two thousand and seven, gobierno, central, financio, directamente, solo, 03, gasto, total, salud, realizo, transferencias, especificas, gasto, salud, ascendieron, 56, gasto, total, mayor, parte, gasto, presupuestario, salud, realizan, gobiernos, condados, condados, pobres, solo, pueden, ofrecer, bajo, nivel, atencion, poblacion, local, gobierno, provincial, proporciona, subsidios, lado, oferta, hospitales]  \n",
       "2  [claramente, factores, juego, particular, variedad, barreras, determinantes, sociales, pueden, relacionados, genero, clase, etnia, casta, idioma, religion, surgen, estructuras, normas, procesos, sociales, arraigados, aceptan, incluso, fomentan, distribuciones, injustas, riqueza, recursos, sociales, ejemplo, personas, viven, vih, enfermedades, cronicas, enfrentan, altos, niveles, estigma, discriminacion, dificultan, acceso, pruebas, medicas, tratamiento, atencion, apoyo, gobiernos, buscan, mejorar, estandares, salud, querran, mejorar, condicion, mujer, brindar, servicios, salud, reproductiva, efectivos, implementar, programas, integrales, lactancia, materna, linea, recomendaciones, actuales, aumentar, presiones, comunitarias, aborto, selectivo, sexo, personas, pobres, carecen, educacion, informacion, fondos, opciones, mas, saludables, mas, vulnerables, impacto, ent, ricos, probable, mueran, directa, indirectamente, ent, tendran, impactos, gran, alcance, progreso, ...]  \n",
       "3                                                     [ejemplo, australiano, victoria, creo, agencia, promocion, salud, financiada, impuestos, tabaco, varios, eeuu, california, massachusetts, arizona, oregon, destinado, parte, ingresos, procedentes, impuestos, especiales, tabaco, actividades, educacion, control, tabaco, mientras, nueva, jersey, ohio, texas, ingresos, procedentes, alcohol, utilizan, programas, educacion, prevencion, relacionados, alcohol, sassi, et, two thousand and four, impuestos, locales, pueden, ser, fuente, importante, ingresos, sistemas, sanitarios, descentralizados, ejemplo, dinamarca, finlandia, italia, suecia, seventeen, ademas, nivel, impuestos, locales, puede, fijarse, funcion, preferencias, locales, nivel, calidad, servicios, medicos, embargo, ausencia, mecanismo, transferencia, ajustado, riesgo, gestionado, centralmente, descentralizacion, reduce, mancomunacion, riesgos, podria, dar, lugar, mayores, disparidades, sanitarias, interregionales]  \n",
       "4                                                                                                                                                                                                                                                                                      [consumo, anual, alcohol, estima, 157, litros, ano, hombres, mas, fifty, encima, media, ocde, 104, sistema, mundial, informacion, alcohol, salud, oms, puede, ayudar, explicar, alta, mortalidad, enfermedad, hepatica, relacionada, alcohol, si, bien, prevalencia, obesidad, adultos, relativamente, baja, comparacion, paises, ocde, mas, thirty, mujeres, kazajstan, obesas, comparacion, sixteen, hombres, world, obesity, two thousand and sixteen, coloca, tasa, mujeres, par, paises, mas, obesos, ocde, hecho, gran, proporcion, brecha, esperanza, vida, explica, mayor, mortalidad, jovenes, kazajos, fifteen, twentynine, anos, grupo, edad, tasas, generales, mortalidad, mas, tres, veces, mas, altas, ue, fifteen]  "
      ]
     },
     "execution_count": 36,
     "metadata": {},
     "output_type": "execute_result"
    }
   ],
   "source": [
    "#Se verifica que se haya realizado la corrección\n",
    "data_t.head(5)"
   ]
  },
  {
   "cell_type": "code",
   "execution_count": 37,
   "metadata": {},
   "outputs": [
    {
     "data": {
      "text/html": [
       "<div>\n",
       "<style scoped>\n",
       "    .dataframe tbody tr th:only-of-type {\n",
       "        vertical-align: middle;\n",
       "    }\n",
       "\n",
       "    .dataframe tbody tr th {\n",
       "        vertical-align: top;\n",
       "    }\n",
       "\n",
       "    .dataframe thead th {\n",
       "        text-align: right;\n",
       "    }\n",
       "</style>\n",
       "<table border=\"1\" class=\"dataframe\">\n",
       "  <thead>\n",
       "    <tr style=\"text-align: right;\">\n",
       "      <th></th>\n",
       "      <th>Textos_espanol</th>\n",
       "      <th>sdg</th>\n",
       "      <th>words</th>\n",
       "    </tr>\n",
       "  </thead>\n",
       "  <tbody>\n",
       "    <tr>\n",
       "      <th>0</th>\n",
       "      <td>Se basa en los nueve años de educación básica (seis de primaria y tres de secundaria). Los alumnos que acceden al segundo ciclo de secundaria pueden ir a un centro de orientación más académica o a un centro de formación profesional. Esto se aplica tanto en el sistema islámico como en el no islámico. La enseñanza secundaria superior formal comprende la enseñanza general (sekolah menengah atas, o SMA), la enseñanza profesional (sekolah menengah kejuruan, o SMK), las escuelas secundarias superiores islámicas (madrasah aliyah, o MA) y la enseñanza profesional islámica (madrasah aliyah kejuruan, o MAK). Este capítulo se centra principalmente en la enseñanza secundaria superior académica, mientras que el capítulo 5 trata de la formación profesional. Se está trabajando en el desarrollo de colegios comunitarios y vías alternativas de acceso a la enseñanza superior.</td>\n",
       "      <td>NaN</td>\n",
       "      <td>[basa, nueve, anos, educacion, basica, seis, primaria, tres, secundaria, alumnos, acceden, segundo, ciclo, secundaria, pueden, ir, centro, orientacion, mas, academica, centro, formacion, profesional, aplica, sistema, islamico, islamico, ensenanza, secundaria, superior, formal, comprende, ensenanza, general, sekolah, menengah, atas, sma, ensenanza, profesional, sekolah, menengah, kejuruan, smk, escuelas, secundarias, superiores, islamicas, madrasah, aliyah, ma, ensenanza, profesional, islamica, madrasah, aliyah, kejuruan, mak, capitulo, centra, principalmente, ensenanza, secundaria, superior, academica, mientras, capitulo, five, trata, formacion, profesional, trabajando, desarrollo, colegios, comunitarios, vias, alternativas, acceso, ensenanza, superior]</td>\n",
       "    </tr>\n",
       "    <tr>\n",
       "      <th>1</th>\n",
       "      <td>En la última década, y en particular desde 2010, el número de altas per cápita ha tendido a disminuir, y ahora está en línea con la media de la OCDE mencionada anteriormente. Por ejemplo, los habitantes de zonas rurales representan el 43% de la población, pero sólo el 32% de las altas hospitalarias. A falta de información complementaria, no es posible determinar si esta diferencia indica o no disparidades en el acceso de las poblaciones rurales y, en caso afirmativo, si las causas son geográficas, culturales o infraestructurales. No parece que se recojan datos sobre el acceso a la atención desde el punto de vista del paciente, lo que ayudaría a comprender la naturaleza de los obstáculos al acceso (y las soluciones). En general, no es posible determinar con los datos disponibles si los ingresos o las características socioeconómicas de los pacientes influyen a la hora de llegar a las puertas del hospital o de ser ingresado. El acceso desigual probablemente se deba también a la incapacidad de los centros de las distintas regiones para prestar los mismos servicios.</td>\n",
       "      <td>NaN</td>\n",
       "      <td>[ultima, decada, particular, two thousand and ten, numero, altas, per, capita, tendido, disminuir, ahora, linea, media, ocde, mencionada, anteriormente, ejemplo, habitantes, zonas, rurales, representan, fortythree, poblacion, solo, thirtytwo, altas, hospitalarias, falta, informacion, complementaria, posible, determinar, si, diferencia, indica, disparidades, acceso, poblaciones, rurales, caso, afirmativo, si, causas, geograficas, culturales, infraestructurales, parece, recojan, datos, acceso, atencion, punto, vista, paciente, ayudaria, comprender, naturaleza, obstaculos, acceso, soluciones, general, posible, determinar, datos, disponibles, si, ingresos, caracteristicas, socioeconomicas, pacientes, influyen, hora, llegar, puertas, hospital, ser, ingresado, acceso, desigual, probablemente, deba, tambien, incapacidad, centros, distintas, regiones, prestar, mismos, servicios]</td>\n",
       "    </tr>\n",
       "    <tr>\n",
       "      <th>2</th>\n",
       "      <td>AsÃ, por ejemplo, el estigma asociado a los beneficiarios de prestaciones sociales o a los pobres aumenta su desventaja. Del mismo modo, los errores de dignidad y reconocimiento pueden causar desventajas.54 La infravaloración del trabajo de las mujeres es un error de reconocimiento que causa directamente desventajas socioeconómicas, por lo que el derecho a la igualdad de retribución por un trabajo de igual valor es una sÃntesis importante de las dos primeras dimensiones del derecho a la igualdad: reparar la desventaja y abordar el estigma y los estereotipos. Tanto el Comité de Derechos Económicos, Sociales y Culturales como el Comité para la Eliminación de la Discriminación contra la Mujer han dado este paso. Directrices para la presentación de informes\", párrafo 29, CDESC, Ecuador, op. cit.</td>\n",
       "      <td>NaN</td>\n",
       "      <td>[asa, ejemplo, estigma, asociado, beneficiarios, prestaciones, sociales, pobres, aumenta, desventaja, mismo, modo, errores, dignidad, reconocimiento, pueden, causar, desventajas54, infravaloracion, trabajo, mujeres, error, reconocimiento, causa, directamente, desventajas, socioeconomicas, derecho, igualdad, retribucion, trabajo, igual, valor, santesis, importante, dos, primeras, dimensiones, derecho, igualdad, reparar, desventaja, abordar, estigma, estereotipos, comite, derechos, economicos, sociales, culturales, comite, eliminacion, discriminacion, mujer, dado, paso, directrices, presentacion, informes, parrafo, twentynine, cdesc, ecuador, op, cit]</td>\n",
       "    </tr>\n",
       "    <tr>\n",
       "      <th>3</th>\n",
       "      <td>Hay muchos profesores no cualificados en las escuelas, ya que es difícil contratar a profesores cualificados. Un indicio del reconocimiento del importante papel de los profesores en este contexto es la inclusión por Alberta de preguntas adicionales en la Encuesta Internacional sobre la Enseñanza y el Aprendizaje de la OCDE de 2018 relativas a la comprensión por parte de los profesores y los lÃderes escolares de cuestiones relacionadas con las culturas indÃgenas, la historia y el trabajo con alumnos indÃgenas, asà como sobre el desarrollo profesional pertinente. El enfoque holÃstico de los pueblos indÃgenas hace hincapié en lo mucho que estos contribuyen al bienestar general de los niños, asà como al de todos los demás, además de factores como las ventajas y desventajas materiales. El trauma sufrido por los pueblos indígenas, incluso a través del sistema de escuelas residenciales, todavía es sentido agudamente por muchos. De hecho, se nos dijo que los síntomas del trauma pueden aumentar en lugar de disminuir con el paso del tiempo, exacerbados por las relaciones intergeneracionales. Frente a este panorama más amplio, pueden comprenderse mejor los estudios específicos de determinadas provincias y territorios, y la comparación entre jóvenes indígenas y no indígenas (Freeman, King y Pickett, 2016).</td>\n",
       "      <td>NaN</td>\n",
       "      <td>[profesores, cualificados, escuelas, dificil, contratar, profesores, cualificados, indicio, reconocimiento, importante, papel, profesores, contexto, inclusion, alberta, preguntas, adicionales, encuesta, internacional, ensenanza, aprendizaje, ocde, two thousand and eighteen, relativas, comprension, parte, profesores, laderes, escolares, cuestiones, relacionadas, culturas, indagenas, historia, trabajo, alumnos, indagenas, asa, desarrollo, profesional, pertinente, enfoque, holastico, pueblos, indagenas, hace, hincapie, contribuyen, bienestar, general, ninos, asa, demas, ademas, factores, ventajas, desventajas, materiales, trauma, sufrido, pueblos, indigenas, incluso, traves, sistema, escuelas, residenciales, todavia, agudamente, hecho, dijo, sintomas, trauma, pueden, aumentar, lugar, disminuir, paso, tiempo, exacerbados, relaciones, intergeneracionales, frente, panorama, mas, amplio, pueden, comprenderse, mejor, estudios, especificos, determinadas, provincias, territorios, comparacion, jovenes, indigenas, indigenas, freeman, king, ...]</td>\n",
       "    </tr>\n",
       "    <tr>\n",
       "      <th>4</th>\n",
       "      <td>A raíz de su preocupación por el hecho de que los médicos de todo el sistema sanitario japonés no fueran capaces de identificar los signos de sufrimiento psicológico que podrían ayudar a reducir los suicidios, la Asociación Médica Japonesa informa de que empezó a compartir información y orientaciones sobre la depresión con todos los médicos, primero en 2004 y luego de nuevo en 2009. En la actualidad, sólo se recogen indicadores sobre la tasa de reclusión y contención, y de ingresos involuntarios, por parte de los proveedores y a nivel prefectural. La información recopilada sistemáticamente sobre el sistema de atención de salud mental se limita a indicadores estructurales: instalaciones, número de personal, número de camas.</td>\n",
       "      <td>NaN</td>\n",
       "      <td>[raiz, preocupacion, hecho, medicos, sistema, sanitario, japones, capaces, identificar, signos, sufrimiento, psicologico, podrian, ayudar, reducir, suicidios, asociacion, medica, japonesa, informa, empezo, compartir, informacion, orientaciones, depresion, medicos, primero, two thousand and four, luego, nuevo, two thousand and nine, actualidad, solo, recogen, indicadores, tasa, reclusion, contencion, ingresos, involuntarios, parte, proveedores, nivel, prefectural, informacion, recopilada, sistematicamente, sistema, atencion, salud, mental, limita, indicadores, estructurales, instalaciones, numero, personal, numero, camas]</td>\n",
       "    </tr>\n",
       "  </tbody>\n",
       "</table>\n",
       "</div>"
      ],
      "text/plain": [
       "                                                                                                                                                                                                                                                                                                                                                                                                                                                                                                                                                                                                                                                                                                                                                                                                                                                                                                                                                                                                                                                                                                                                                                                                                                                                                                                                                         Textos_espanol  \\\n",
       "0                                                                                                                                                                                                                                                                                                                                                                                                                                                                Se basa en los nueve años de educación básica (seis de primaria y tres de secundaria). Los alumnos que acceden al segundo ciclo de secundaria pueden ir a un centro de orientación más académica o a un centro de formación profesional. Esto se aplica tanto en el sistema islámico como en el no islámico. La enseñanza secundaria superior formal comprende la enseñanza general (sekolah menengah atas, o SMA), la enseñanza profesional (sekolah menengah kejuruan, o SMK), las escuelas secundarias superiores islámicas (madrasah aliyah, o MA) y la enseñanza profesional islámica (madrasah aliyah kejuruan, o MAK). Este capítulo se centra principalmente en la enseñanza secundaria superior académica, mientras que el capítulo 5 trata de la formación profesional. Se está trabajando en el desarrollo de colegios comunitarios y vías alternativas de acceso a la enseñanza superior.    \n",
       "1                                                                                                                                                                                                                                                En la última década, y en particular desde 2010, el número de altas per cápita ha tendido a disminuir, y ahora está en línea con la media de la OCDE mencionada anteriormente. Por ejemplo, los habitantes de zonas rurales representan el 43% de la población, pero sólo el 32% de las altas hospitalarias. A falta de información complementaria, no es posible determinar si esta diferencia indica o no disparidades en el acceso de las poblaciones rurales y, en caso afirmativo, si las causas son geográficas, culturales o infraestructurales. No parece que se recojan datos sobre el acceso a la atención desde el punto de vista del paciente, lo que ayudaría a comprender la naturaleza de los obstáculos al acceso (y las soluciones). En general, no es posible determinar con los datos disponibles si los ingresos o las características socioeconómicas de los pacientes influyen a la hora de llegar a las puertas del hospital o de ser ingresado. El acceso desigual probablemente se deba también a la incapacidad de los centros de las distintas regiones para prestar los mismos servicios.    \n",
       "2                                                                                                                                                                                                                                                                                                                                                                                                                                                                                                                                   AsÃ, por ejemplo, el estigma asociado a los beneficiarios de prestaciones sociales o a los pobres aumenta su desventaja. Del mismo modo, los errores de dignidad y reconocimiento pueden causar desventajas.54 La infravaloración del trabajo de las mujeres es un error de reconocimiento que causa directamente desventajas socioeconómicas, por lo que el derecho a la igualdad de retribución por un trabajo de igual valor es una sÃntesis importante de las dos primeras dimensiones del derecho a la igualdad: reparar la desventaja y abordar el estigma y los estereotipos. Tanto el Comité de Derechos Económicos, Sociales y Culturales como el Comité para la Eliminación de la Discriminación contra la Mujer han dado este paso. Directrices para la presentación de informes\", párrafo 29, CDESC, Ecuador, op. cit.    \n",
       "3  Hay muchos profesores no cualificados en las escuelas, ya que es difícil contratar a profesores cualificados. Un indicio del reconocimiento del importante papel de los profesores en este contexto es la inclusión por Alberta de preguntas adicionales en la Encuesta Internacional sobre la Enseñanza y el Aprendizaje de la OCDE de 2018 relativas a la comprensión por parte de los profesores y los lÃderes escolares de cuestiones relacionadas con las culturas indÃgenas, la historia y el trabajo con alumnos indÃgenas, asà como sobre el desarrollo profesional pertinente. El enfoque holÃstico de los pueblos indÃgenas hace hincapié en lo mucho que estos contribuyen al bienestar general de los niños, asà como al de todos los demás, además de factores como las ventajas y desventajas materiales. El trauma sufrido por los pueblos indígenas, incluso a través del sistema de escuelas residenciales, todavía es sentido agudamente por muchos. De hecho, se nos dijo que los síntomas del trauma pueden aumentar en lugar de disminuir con el paso del tiempo, exacerbados por las relaciones intergeneracionales. Frente a este panorama más amplio, pueden comprenderse mejor los estudios específicos de determinadas provincias y territorios, y la comparación entre jóvenes indígenas y no indígenas (Freeman, King y Pickett, 2016).    \n",
       "4                                                                                                                                                                                                                                                                                                                                                                                                                                                                                                                                                                                                         A raíz de su preocupación por el hecho de que los médicos de todo el sistema sanitario japonés no fueran capaces de identificar los signos de sufrimiento psicológico que podrían ayudar a reducir los suicidios, la Asociación Médica Japonesa informa de que empezó a compartir información y orientaciones sobre la depresión con todos los médicos, primero en 2004 y luego de nuevo en 2009. En la actualidad, sólo se recogen indicadores sobre la tasa de reclusión y contención, y de ingresos involuntarios, por parte de los proveedores y a nivel prefectural. La información recopilada sistemáticamente sobre el sistema de atención de salud mental se limita a indicadores estructurales: instalaciones, número de personal, número de camas.    \n",
       "\n",
       "   sdg  \\\n",
       "0  NaN   \n",
       "1  NaN   \n",
       "2  NaN   \n",
       "3  NaN   \n",
       "4  NaN   \n",
       "\n",
       "                                                                                                                                                                                                                                                                                                                                                                                                                                                                                                                                                                                                                                                                                                                                                                                                                                                                                                                                                                                                                                                                                      words  \n",
       "0                                                                                                                                                                                                                                                                                               [basa, nueve, anos, educacion, basica, seis, primaria, tres, secundaria, alumnos, acceden, segundo, ciclo, secundaria, pueden, ir, centro, orientacion, mas, academica, centro, formacion, profesional, aplica, sistema, islamico, islamico, ensenanza, secundaria, superior, formal, comprende, ensenanza, general, sekolah, menengah, atas, sma, ensenanza, profesional, sekolah, menengah, kejuruan, smk, escuelas, secundarias, superiores, islamicas, madrasah, aliyah, ma, ensenanza, profesional, islamica, madrasah, aliyah, kejuruan, mak, capitulo, centra, principalmente, ensenanza, secundaria, superior, academica, mientras, capitulo, five, trata, formacion, profesional, trabajando, desarrollo, colegios, comunitarios, vias, alternativas, acceso, ensenanza, superior]  \n",
       "1                                                                                                                                                                       [ultima, decada, particular, two thousand and ten, numero, altas, per, capita, tendido, disminuir, ahora, linea, media, ocde, mencionada, anteriormente, ejemplo, habitantes, zonas, rurales, representan, fortythree, poblacion, solo, thirtytwo, altas, hospitalarias, falta, informacion, complementaria, posible, determinar, si, diferencia, indica, disparidades, acceso, poblaciones, rurales, caso, afirmativo, si, causas, geograficas, culturales, infraestructurales, parece, recojan, datos, acceso, atencion, punto, vista, paciente, ayudaria, comprender, naturaleza, obstaculos, acceso, soluciones, general, posible, determinar, datos, disponibles, si, ingresos, caracteristicas, socioeconomicas, pacientes, influyen, hora, llegar, puertas, hospital, ser, ingresado, acceso, desigual, probablemente, deba, tambien, incapacidad, centros, distintas, regiones, prestar, mismos, servicios]  \n",
       "2                                                                                                                                                                                                                                                                                                                                                                                                         [asa, ejemplo, estigma, asociado, beneficiarios, prestaciones, sociales, pobres, aumenta, desventaja, mismo, modo, errores, dignidad, reconocimiento, pueden, causar, desventajas54, infravaloracion, trabajo, mujeres, error, reconocimiento, causa, directamente, desventajas, socioeconomicas, derecho, igualdad, retribucion, trabajo, igual, valor, santesis, importante, dos, primeras, dimensiones, derecho, igualdad, reparar, desventaja, abordar, estigma, estereotipos, comite, derechos, economicos, sociales, culturales, comite, eliminacion, discriminacion, mujer, dado, paso, directrices, presentacion, informes, parrafo, twentynine, cdesc, ecuador, op, cit]  \n",
       "3  [profesores, cualificados, escuelas, dificil, contratar, profesores, cualificados, indicio, reconocimiento, importante, papel, profesores, contexto, inclusion, alberta, preguntas, adicionales, encuesta, internacional, ensenanza, aprendizaje, ocde, two thousand and eighteen, relativas, comprension, parte, profesores, laderes, escolares, cuestiones, relacionadas, culturas, indagenas, historia, trabajo, alumnos, indagenas, asa, desarrollo, profesional, pertinente, enfoque, holastico, pueblos, indagenas, hace, hincapie, contribuyen, bienestar, general, ninos, asa, demas, ademas, factores, ventajas, desventajas, materiales, trauma, sufrido, pueblos, indigenas, incluso, traves, sistema, escuelas, residenciales, todavia, agudamente, hecho, dijo, sintomas, trauma, pueden, aumentar, lugar, disminuir, paso, tiempo, exacerbados, relaciones, intergeneracionales, frente, panorama, mas, amplio, pueden, comprenderse, mejor, estudios, especificos, determinadas, provincias, territorios, comparacion, jovenes, indigenas, indigenas, freeman, king, ...]  \n",
       "4                                                                                                                                                                                                                                                                                                                                                                                                                                      [raiz, preocupacion, hecho, medicos, sistema, sanitario, japones, capaces, identificar, signos, sufrimiento, psicologico, podrian, ayudar, reducir, suicidios, asociacion, medica, japonesa, informa, empezo, compartir, informacion, orientaciones, depresion, medicos, primero, two thousand and four, luego, nuevo, two thousand and nine, actualidad, solo, recogen, indicadores, tasa, reclusion, contencion, ingresos, involuntarios, parte, proveedores, nivel, prefectural, informacion, recopilada, sistematicamente, sistema, atencion, salud, mental, limita, indicadores, estructurales, instalaciones, numero, personal, numero, camas]  "
      ]
     },
     "execution_count": 37,
     "metadata": {},
     "output_type": "execute_result"
    }
   ],
   "source": [
    "#Se verifica que se haya realizado la corrección\n",
    "data_t_nuevo.head(5)"
   ]
  },
  {
   "cell_type": "markdown",
   "metadata": {},
   "source": [
    "#### Selección de campos"
   ]
  },
  {
   "cell_type": "code",
   "execution_count": 38,
   "metadata": {},
   "outputs": [
    {
     "data": {
      "text/html": [
       "<div>\n",
       "<style scoped>\n",
       "    .dataframe tbody tr th:only-of-type {\n",
       "        vertical-align: middle;\n",
       "    }\n",
       "\n",
       "    .dataframe tbody tr th {\n",
       "        vertical-align: top;\n",
       "    }\n",
       "\n",
       "    .dataframe thead th {\n",
       "        text-align: right;\n",
       "    }\n",
       "</style>\n",
       "<table border=\"1\" class=\"dataframe\">\n",
       "  <thead>\n",
       "    <tr style=\"text-align: right;\">\n",
       "      <th></th>\n",
       "      <th>Textos_espanol</th>\n",
       "      <th>sdg</th>\n",
       "      <th>words</th>\n",
       "    </tr>\n",
       "  </thead>\n",
       "  <tbody>\n",
       "    <tr>\n",
       "      <th>0</th>\n",
       "      <td>Por ejemplo, el número de consultas externas de especialistas es de 319 por cada mil derechohabientes en el SP, en comparación con 338 y 620 por cada mil derechohabientes en el IMSS y el ISSSTE, respectivamente. Si bien algunas de estas diferencias pueden reflejar una necesidad desigual (como la población ligeramente mayor del ISSSTE), otras no pueden justificarse de esta manera. El número de recetas que no pudieron ser surtidas en su totalidad por un farmacéutico debido a la falta de existencias es de 33% dentro del SP en comparación con 14% dentro del IMSS según los datos de la encuesta (aunque las propias cifras de los institutos de la SS sugieren tasas más altas de recetas surtidas). Ambas cifras se encuentran entre las más altas de la OCDE. El gasto de bolsillo no se ha reducido significativamente en la última década, a pesar de los esfuerzos para lograr la cobertura sanitaria universal a través de la reforma del SP.</td>\n",
       "      <td>3</td>\n",
       "      <td>ejemplo numero consultas externas especialistas three hundred and nineteen cada mil derechohabientes sp comparacion three hundred and thirtyeight six hundred and twenty cada mil derechohabientes imss issste respectivamente si bien diferencias pueden reflejar necesidad desigual poblacion ligeramente mayor issste pueden justificarse manera numero recetas pudieron ser surtidas totalidad farmaceutico debido falta existencias thirtythree dentro sp comparacion fourteen dentro imss segun datos encuesta aunque propias cifras institutos ss sugieren tasas mas altas recetas surtidas ambas cifras encuentran mas altas ocde gasto bolsillo reducido significativamente ultima decada pesar esfuerzos lograr cobertura sanitaria universal traves reforma sp</td>\n",
       "    </tr>\n",
       "    <tr>\n",
       "      <th>1</th>\n",
       "      <td>En 2007, el gobierno central financió directamente solo el 0,3% del gasto total en salud, pero realizó transferencias específicas para el gasto en salud que ascendieron a otro 5,6% del gasto total. La mayor parte del gasto presupuestario en salud lo realizan los gobiernos de los condados. Por lo tanto, los condados pobres solo pueden ofrecer un bajo nivel de atención a la población local. El gobierno provincial proporciona subsidios del lado de la oferta a los hospitales.</td>\n",
       "      <td>3</td>\n",
       "      <td>two thousand and seven gobierno central financio directamente solo 03 gasto total salud realizo transferencias especificas gasto salud ascendieron 56 gasto total mayor parte gasto presupuestario salud realizan gobiernos condados condados pobres solo pueden ofrecer bajo nivel atencion poblacion local gobierno provincial proporciona subsidios lado oferta hospitales</td>\n",
       "    </tr>\n",
       "    <tr>\n",
       "      <th>2</th>\n",
       "      <td>Claramente, hay muchos otros factores en juego, en particular, una variedad de barreras y determinantes sociales. Estos pueden estar relacionados con el género, la clase, la etnia, la casta, el idioma y la religión, y surgen de estructuras, normas y procesos sociales arraigados que aceptan e incluso fomentan distribuciones injustas de la riqueza y los recursos sociales. Por ejemplo, las personas que viven con el VIH y algunas otras enfermedades crónicas enfrentan altos niveles de estigma y discriminación que dificultan su acceso a pruebas médicas, tratamiento, atención y apoyo. Por lo tanto, los gobiernos que buscan mejorar los estándares de salud querrán mejorar la condición de la mujer, brindar servicios de salud reproductiva efectivos, implementar programas integrales de lactancia materna en línea con las recomendaciones actuales y aumentar las presiones comunitarias contra el aborto selectivo por sexo. Las personas pobres, que carecen de educación e información, o de fondos para opciones más saludables, son más vulnerables al impacto de las ENT que los ricos y es probable que mueran antes. Directa e indirectamente, las ENT tendrán impactos de gran alcance en el progreso hacia los ODM.</td>\n",
       "      <td>3</td>\n",
       "      <td>claramente factores juego particular variedad barreras determinantes sociales pueden relacionados genero clase etnia casta idioma religion surgen estructuras normas procesos sociales arraigados aceptan incluso fomentan distribuciones injustas riqueza recursos sociales ejemplo personas viven vih enfermedades cronicas enfrentan altos niveles estigma discriminacion dificultan acceso pruebas medicas tratamiento atencion apoyo gobiernos buscan mejorar estandares salud querran mejorar condicion mujer brindar servicios salud reproductiva efectivos implementar programas integrales lactancia materna linea recomendaciones actuales aumentar presiones comunitarias aborto selectivo sexo personas pobres carecen educacion informacion fondos opciones mas saludables mas vulnerables impacto ent ricos probable mueran directa indirectamente ent tendran impactos gran alcance progreso hacia odm</td>\n",
       "    </tr>\n",
       "    <tr>\n",
       "      <th>3</th>\n",
       "      <td>Por ejemplo, el estado australiano de Victoria creó una agencia de promoción de la salud financiada con los impuestos sobre el tabaco, y varios estados de EE.UU. (California, Massachusetts, Arizona y Oregón) han destinado parte de los ingresos procedentes de los impuestos especiales sobre el tabaco a actividades de educación y control del tabaco, mientras que en Nueva Jersey, Ohio y Texas los ingresos procedentes del alcohol se utilizan para programas de educación y prevención relacionados con el alcohol (Sassi et al., 2004), Los impuestos locales pueden ser una fuente importante de ingresos, sobre todo en los sistemas sanitarios descentralizados (por ejemplo, Dinamarca, Finlandia, Italia y Suecia)17 . Además, el nivel de los impuestos locales puede fijarse en función de las preferencias locales sobre el nivel y la calidad de los servicios médicos. Sin embargo, en ausencia de un mecanismo de transferencia ajustado al riesgo y gestionado centralmente, la descentralización reduce la mancomunación de riesgos y podría dar lugar a mayores disparidades sanitarias interregionales.</td>\n",
       "      <td>3</td>\n",
       "      <td>ejemplo australiano victoria creo agencia promocion salud financiada impuestos tabaco varios eeuu california massachusetts arizona oregon destinado parte ingresos procedentes impuestos especiales tabaco actividades educacion control tabaco mientras nueva jersey ohio texas ingresos procedentes alcohol utilizan programas educacion prevencion relacionados alcohol sassi et two thousand and four impuestos locales pueden ser fuente importante ingresos sistemas sanitarios descentralizados ejemplo dinamarca finlandia italia suecia seventeen ademas nivel impuestos locales puede fijarse funcion preferencias locales nivel calidad servicios medicos embargo ausencia mecanismo transferencia ajustado riesgo gestionado centralmente descentralizacion reduce mancomunacion riesgos podria dar lugar mayores disparidades sanitarias interregionales</td>\n",
       "    </tr>\n",
       "    <tr>\n",
       "      <th>4</th>\n",
       "      <td>El consumo anual de alcohol se estima en 15,7 litros al año para los hombres, más de un 50% por encima de la media de la OCDE (10,4) (Sistema mundial de información sobre alcohol y salud de la OMS), lo que puede ayudar a explicar la alta mortalidad por enfermedad hepática relacionada con el alcohol. Si bien la prevalencia de la obesidad en adultos es relativamente baja en comparación con muchos países de la OCDE, más del 30 % de las mujeres en Kazajstán son obesas, en comparación con el 16 % de los hombres (World Obesity, 2016), lo que coloca la tasa entre las mujeres a la par con algunos de los países más obesos de la OCDE. De hecho, una gran proporción de la brecha en la esperanza de vida se explica por una mayor mortalidad entre los jóvenes kazajos de 15 a 29 años, un grupo de edad en el que las tasas generales de mortalidad son más de tres veces más altas que en la UE de los 15.</td>\n",
       "      <td>3</td>\n",
       "      <td>consumo anual alcohol estima 157 litros ano hombres mas fifty encima media ocde 104 sistema mundial informacion alcohol salud oms puede ayudar explicar alta mortalidad enfermedad hepatica relacionada alcohol si bien prevalencia obesidad adultos relativamente baja comparacion paises ocde mas thirty mujeres kazajstan obesas comparacion sixteen hombres world obesity two thousand and sixteen coloca tasa mujeres par paises mas obesos ocde hecho gran proporcion brecha esperanza vida explica mayor mortalidad jovenes kazajos fifteen twentynine anos grupo edad tasas generales mortalidad mas tres veces mas altas ue fifteen</td>\n",
       "    </tr>\n",
       "    <tr>\n",
       "      <th>...</th>\n",
       "      <td>...</td>\n",
       "      <td>...</td>\n",
       "      <td>...</td>\n",
       "    </tr>\n",
       "    <tr>\n",
       "      <th>2995</th>\n",
       "      <td>Un caucus efectivo se basa en fuertes vínculos con grupos nacionales de mujeres, OSC e institutos de investigación y universidades. El Consejo continúa el trabajo del Consejo Interinstitucional posterior a Beijing y la Oficina de Iniciativas y Alcance de la Mujer de la Casa Blanca. Su objetivo es proporcionar \"una respuesta federal coordinada a los desafíos que enfrentan las mujeres y las niñas\" y garantizar \"que todos los gabinetes y agencias a nivel de gabinete consideren cómo sus políticas y programas responden a las necesidades y necesidades de las mujeres y las niñas\". impactarlos.â€</td>\n",
       "      <td>5</td>\n",
       "      <td>caucus efectivo basa fuertes vinculos grupos nacionales mujeres osc institutos investigacion universidades consejo continua trabajo consejo interinstitucional posterior beijing oficina iniciativas alcance mujer casa blanca objetivo proporcionar respuesta federal coordinada desafios enfrentan mujeres ninas garantizar gabinetes agencias nivel gabinete consideren politicas programas responden necesidades necesidades mujeres ninas impactarlosa</td>\n",
       "    </tr>\n",
       "    <tr>\n",
       "      <th>2996</th>\n",
       "      <td>Por el contrario, el porcentaje de hogares en edad de trabajar con un hombre que trabaja se mantuvo relativamente estable (en el 76%) a lo largo del tiempo en la mayorÃa de los paÃses (panel A). Alemania, sin embargo, fue testigo de un descenso significativo (de unos 15 puntos porcentuales) en la participación de los hombres en el empleo entre los hogares durante este perÃodo. A. Hogares con un trabajador masculino Panel. En España, por ejemplo, en 1995 sólo el 22% (25%) de los hogares contaban con una mujer que trabajaba a tiempo completo (todo el año), frente al 42% (52%) del año anterior a la crisis. Las mujeres neerlandesas trabajan ahora más semanas al año, aunque no más horas por semana.</td>\n",
       "      <td>5</td>\n",
       "      <td>contrario porcentaje hogares edad trabajar hombre trabaja mantuvo relativamente estable seventysix largo tiempo mayoraa paases panel alemania embargo testigo descenso significativo fifteen puntos porcentuales participacion hombres empleo hogares peraodo hogares trabajador masculino panel espana ejemplo one thousand nine hundred and ninetyfive solo twentytwo twentyfive hogares contaban mujer trabajaba tiempo completo ano frente fortytwo fiftytwo ano anterior crisis mujeres neerlandesas trabajan ahora mas semanas ano aunque mas horas semana</td>\n",
       "    </tr>\n",
       "    <tr>\n",
       "      <th>2997</th>\n",
       "      <td>El análisis utilizará una gama de medidas que reflejen las barreras básicas por un lado, y la asistencia por el otro, para la participación de las mujeres como agentes económicos productivos en los países de la Commonwealth. Según el Banco Mundial (Banco Mundial 2018a). Estas restricciones abarcan decisiones que afectan su movimiento, para conseguir un trabajo. Para muchas mujeres, estas decisiones no se pueden tomar sin el permiso de su marido.</td>\n",
       "      <td>5</td>\n",
       "      <td>analisis utilizara gama medidas reflejen barreras basicas lado asistencia participacion mujeres agentes economicos productivos paises commonwealth segun banco mundial banco mundial 2018a restricciones abarcan decisiones afectan movimiento conseguir trabajo muchas mujeres decisiones pueden tomar permiso marido</td>\n",
       "    </tr>\n",
       "    <tr>\n",
       "      <th>2998</th>\n",
       "      <td>La capacitación económica, el apoyo y, a veces, los incentivos que abordan las justificaciones económicas de las familias para casar a sus hijas a una edad temprana brindan alternativas al matrimonio y aumentan el valor de las niñas para sus familias de origen. Un ejemplo es Berhane-Hewan en Etiopía, que proporcionó a las familias una cabra mientras sus hijas permanecieran en el programa y permanecieran solteras hasta los 18 años (Karei y Erulkar, 2010). Otro ejemplo es el programa de transferencia de efectivo Zomba en Malawi, que descubrió que las transferencias de efectivo no condicionadas eran más efectivas para retrasar el matrimonio que las transferencias condicionadas (Baird et al., Al educar y movilizar a los padres y las comunidades—aquellos que deciden cuándo y con quién se casarán las niñas) —para cambiar las normas sociales relacionadas con las expectativas de las niñas y sus perspectivas de matrimonio, estos programas apuntan a retrasar el matrimonio.</td>\n",
       "      <td>5</td>\n",
       "      <td>capacitacion economica apoyo veces incentivos abordan justificaciones economicas familias casar hijas edad temprana brindan alternativas matrimonio aumentan valor ninas familias origen ejemplo berhanehewan etiopia proporciono familias cabra mientras hijas permanecieran programa permanecieran solteras eighteen anos karei erulkar two thousand and ten ejemplo programa transferencia efectivo zomba malawi descubrio transferencias efectivo condicionadas mas efectivas retrasar matrimonio transferencias condicionadas baird et educar movilizar padres comunidadesaquellos deciden casaran ninas cambiar normas sociales relacionadas expectativas ninas perspectivas matrimonio programas apuntan retrasar matrimonio</td>\n",
       "    </tr>\n",
       "    <tr>\n",
       "      <th>2999</th>\n",
       "      <td>Esto ha sido reconocido por los comités en la atención prestada a la salud reproductiva de la mujer, el aborto, la anticoncepción, el matrimonio precoz y el embarazo en la adolescencia. AsÃ, se reconoce que el control sobre su propia reproducción es fundamental para que las mujeres puedan participar en igualdad de condiciones en la sociedad. AsÃ, las Directrices para la presentación de informes sobre el artÃculo 6, el derecho a la vida, exigen a los Estados que proporcionen información sobre las tasas de natalidad y las muertes de mujeres relacionadas con el embarazo y el parto, asà como sobre las medidas adoptadas para ayudar a las mujeres a evitar embarazos no deseados y garantizar que no tengan que someterse a abortos clandestinos que pongan en peligro su vida (PIDCP 2012).</td>\n",
       "      <td>5</td>\n",
       "      <td>sido reconocido comites atencion prestada salud reproductiva mujer aborto anticoncepcion matrimonio precoz embarazo adolescencia asa reconoce control propia reproduccion fundamental mujeres puedan participar igualdad condiciones sociedad asa directrices presentacion informes artaculo six derecho vida exigen proporcionen informacion tasas natalidad muertes mujeres relacionadas embarazo parto asa medidas adoptadas ayudar mujeres evitar embarazos deseados garantizar someterse abortos clandestinos pongan peligro vida pidcp two thousand and twelve</td>\n",
       "    </tr>\n",
       "  </tbody>\n",
       "</table>\n",
       "<p>3000 rows × 3 columns</p>\n",
       "</div>"
      ],
      "text/plain": [
       "                                                                                                                                                                                                                                                                                                                                                                                                                                                                                                                                                                                                                                                                                                                                                                                                                                                                                                                                                                                                                                                                                                                                                                                                                                               Textos_espanol  \\\n",
       "0                                                                                                                                                                                                                                                                                     Por ejemplo, el número de consultas externas de especialistas es de 319 por cada mil derechohabientes en el SP, en comparación con 338 y 620 por cada mil derechohabientes en el IMSS y el ISSSTE, respectivamente. Si bien algunas de estas diferencias pueden reflejar una necesidad desigual (como la población ligeramente mayor del ISSSTE), otras no pueden justificarse de esta manera. El número de recetas que no pudieron ser surtidas en su totalidad por un farmacéutico debido a la falta de existencias es de 33% dentro del SP en comparación con 14% dentro del IMSS según los datos de la encuesta (aunque las propias cifras de los institutos de la SS sugieren tasas más altas de recetas surtidas). Ambas cifras se encuentran entre las más altas de la OCDE. El gasto de bolsillo no se ha reducido significativamente en la última década, a pesar de los esfuerzos para lograr la cobertura sanitaria universal a través de la reforma del SP.   \n",
       "1                                                                                                                                                                                                                                                                                                                                                                                                                                                                                                                                                                                                                                                                                                                                                                En 2007, el gobierno central financió directamente solo el 0,3% del gasto total en salud, pero realizó transferencias específicas para el gasto en salud que ascendieron a otro 5,6% del gasto total. La mayor parte del gasto presupuestario en salud lo realizan los gobiernos de los condados. Por lo tanto, los condados pobres solo pueden ofrecer un bajo nivel de atención a la población local. El gobierno provincial proporciona subsidios del lado de la oferta a los hospitales.   \n",
       "2     Claramente, hay muchos otros factores en juego, en particular, una variedad de barreras y determinantes sociales. Estos pueden estar relacionados con el género, la clase, la etnia, la casta, el idioma y la religión, y surgen de estructuras, normas y procesos sociales arraigados que aceptan e incluso fomentan distribuciones injustas de la riqueza y los recursos sociales. Por ejemplo, las personas que viven con el VIH y algunas otras enfermedades crónicas enfrentan altos niveles de estigma y discriminación que dificultan su acceso a pruebas médicas, tratamiento, atención y apoyo. Por lo tanto, los gobiernos que buscan mejorar los estándares de salud querrán mejorar la condición de la mujer, brindar servicios de salud reproductiva efectivos, implementar programas integrales de lactancia materna en línea con las recomendaciones actuales y aumentar las presiones comunitarias contra el aborto selectivo por sexo. Las personas pobres, que carecen de educación e información, o de fondos para opciones más saludables, son más vulnerables al impacto de las ENT que los ricos y es probable que mueran antes. Directa e indirectamente, las ENT tendrán impactos de gran alcance en el progreso hacia los ODM.   \n",
       "3                                                                                                                          Por ejemplo, el estado australiano de Victoria creó una agencia de promoción de la salud financiada con los impuestos sobre el tabaco, y varios estados de EE.UU. (California, Massachusetts, Arizona y Oregón) han destinado parte de los ingresos procedentes de los impuestos especiales sobre el tabaco a actividades de educación y control del tabaco, mientras que en Nueva Jersey, Ohio y Texas los ingresos procedentes del alcohol se utilizan para programas de educación y prevención relacionados con el alcohol (Sassi et al., 2004), Los impuestos locales pueden ser una fuente importante de ingresos, sobre todo en los sistemas sanitarios descentralizados (por ejemplo, Dinamarca, Finlandia, Italia y Suecia)17 . Además, el nivel de los impuestos locales puede fijarse en función de las preferencias locales sobre el nivel y la calidad de los servicios médicos. Sin embargo, en ausencia de un mecanismo de transferencia ajustado al riesgo y gestionado centralmente, la descentralización reduce la mancomunación de riesgos y podría dar lugar a mayores disparidades sanitarias interregionales.   \n",
       "4                                                                                                                                                                                                                                                                                                                             El consumo anual de alcohol se estima en 15,7 litros al año para los hombres, más de un 50% por encima de la media de la OCDE (10,4) (Sistema mundial de información sobre alcohol y salud de la OMS), lo que puede ayudar a explicar la alta mortalidad por enfermedad hepática relacionada con el alcohol. Si bien la prevalencia de la obesidad en adultos es relativamente baja en comparación con muchos países de la OCDE, más del 30 % de las mujeres en Kazajstán son obesas, en comparación con el 16 % de los hombres (World Obesity, 2016), lo que coloca la tasa entre las mujeres a la par con algunos de los países más obesos de la OCDE. De hecho, una gran proporción de la brecha en la esperanza de vida se explica por una mayor mortalidad entre los jóvenes kazajos de 15 a 29 años, un grupo de edad en el que las tasas generales de mortalidad son más de tres veces más altas que en la UE de los 15.   \n",
       "...                                                                                                                                                                                                                                                                                                                                                                                                                                                                                                                                                                                                                                                                                                                                                                                                                                                                                                                                                                                                                                                                                                                                                                                                                                                       ...   \n",
       "2995                                                                                                                                                                                                                                                                                                                                                                                                                                                                                                                                                                                                                                      Un caucus efectivo se basa en fuertes vínculos con grupos nacionales de mujeres, OSC e institutos de investigación y universidades. El Consejo continúa el trabajo del Consejo Interinstitucional posterior a Beijing y la Oficina de Iniciativas y Alcance de la Mujer de la Casa Blanca. Su objetivo es proporcionar \"una respuesta federal coordinada a los desafíos que enfrentan las mujeres y las niñas\" y garantizar \"que todos los gabinetes y agencias a nivel de gabinete consideren cómo sus políticas y programas responden a las necesidades y necesidades de las mujeres y las niñas\". impactarlos.â€   \n",
       "2996                                                                                                                                                                                                                                                                                                                                                                                                                                                                                                                          Por el contrario, el porcentaje de hogares en edad de trabajar con un hombre que trabaja se mantuvo relativamente estable (en el 76%) a lo largo del tiempo en la mayorÃa de los paÃses (panel A). Alemania, sin embargo, fue testigo de un descenso significativo (de unos 15 puntos porcentuales) en la participación de los hombres en el empleo entre los hogares durante este perÃodo. A. Hogares con un trabajador masculino Panel. En España, por ejemplo, en 1995 sólo el 22% (25%) de los hogares contaban con una mujer que trabajaba a tiempo completo (todo el año), frente al 42% (52%) del año anterior a la crisis. Las mujeres neerlandesas trabajan ahora más semanas al año, aunque no más horas por semana.    \n",
       "2997                                                                                                                                                                                                                                                                                                                                                                                                                                                                                                                                                                                                                                                                                                                                                                                        El análisis utilizará una gama de medidas que reflejen las barreras básicas por un lado, y la asistencia por el otro, para la participación de las mujeres como agentes económicos productivos en los países de la Commonwealth. Según el Banco Mundial (Banco Mundial 2018a). Estas restricciones abarcan decisiones que afectan su movimiento, para conseguir un trabajo. Para muchas mujeres, estas decisiones no se pueden tomar sin el permiso de su marido.   \n",
       "2998                                                                                                                                                                                                                                        La capacitación económica, el apoyo y, a veces, los incentivos que abordan las justificaciones económicas de las familias para casar a sus hijas a una edad temprana brindan alternativas al matrimonio y aumentan el valor de las niñas para sus familias de origen. Un ejemplo es Berhane-Hewan en Etiopía, que proporcionó a las familias una cabra mientras sus hijas permanecieran en el programa y permanecieran solteras hasta los 18 años (Karei y Erulkar, 2010). Otro ejemplo es el programa de transferencia de efectivo Zomba en Malawi, que descubrió que las transferencias de efectivo no condicionadas eran más efectivas para retrasar el matrimonio que las transferencias condicionadas (Baird et al., Al educar y movilizar a los padres y las comunidades—aquellos que deciden cuándo y con quién se casarán las niñas) —para cambiar las normas sociales relacionadas con las expectativas de las niñas y sus perspectivas de matrimonio, estos programas apuntan a retrasar el matrimonio.   \n",
       "2999                                                                                                                                                                                                                                                                                                                                                                                                                                     Esto ha sido reconocido por los comités en la atención prestada a la salud reproductiva de la mujer, el aborto, la anticoncepción, el matrimonio precoz y el embarazo en la adolescencia. AsÃ, se reconoce que el control sobre su propia reproducción es fundamental para que las mujeres puedan participar en igualdad de condiciones en la sociedad. AsÃ, las Directrices para la presentación de informes sobre el artÃculo 6, el derecho a la vida, exigen a los Estados que proporcionen información sobre las tasas de natalidad y las muertes de mujeres relacionadas con el embarazo y el parto, asà como sobre las medidas adoptadas para ayudar a las mujeres a evitar embarazos no deseados y garantizar que no tengan que someterse a abortos clandestinos que pongan en peligro su vida (PIDCP 2012).    \n",
       "\n",
       "      sdg  \\\n",
       "0       3   \n",
       "1       3   \n",
       "2       3   \n",
       "3       3   \n",
       "4       3   \n",
       "...   ...   \n",
       "2995    5   \n",
       "2996    5   \n",
       "2997    5   \n",
       "2998    5   \n",
       "2999    5   \n",
       "\n",
       "                                                                                                                                                                                                                                                                                                                                                                                                                                                                                                                                                                                                                                                                                                                                                                                                                                                                                                                      words  \n",
       "0                                                                                                                                                 ejemplo numero consultas externas especialistas three hundred and nineteen cada mil derechohabientes sp comparacion three hundred and thirtyeight six hundred and twenty cada mil derechohabientes imss issste respectivamente si bien diferencias pueden reflejar necesidad desigual poblacion ligeramente mayor issste pueden justificarse manera numero recetas pudieron ser surtidas totalidad farmaceutico debido falta existencias thirtythree dentro sp comparacion fourteen dentro imss segun datos encuesta aunque propias cifras institutos ss sugieren tasas mas altas recetas surtidas ambas cifras encuentran mas altas ocde gasto bolsillo reducido significativamente ultima decada pesar esfuerzos lograr cobertura sanitaria universal traves reforma sp  \n",
       "1                                                                                                                                                                                                                                                                                                                                                                                                                                                                                                                                             two thousand and seven gobierno central financio directamente solo 03 gasto total salud realizo transferencias especificas gasto salud ascendieron 56 gasto total mayor parte gasto presupuestario salud realizan gobiernos condados condados pobres solo pueden ofrecer bajo nivel atencion poblacion local gobierno provincial proporciona subsidios lado oferta hospitales  \n",
       "2     claramente factores juego particular variedad barreras determinantes sociales pueden relacionados genero clase etnia casta idioma religion surgen estructuras normas procesos sociales arraigados aceptan incluso fomentan distribuciones injustas riqueza recursos sociales ejemplo personas viven vih enfermedades cronicas enfrentan altos niveles estigma discriminacion dificultan acceso pruebas medicas tratamiento atencion apoyo gobiernos buscan mejorar estandares salud querran mejorar condicion mujer brindar servicios salud reproductiva efectivos implementar programas integrales lactancia materna linea recomendaciones actuales aumentar presiones comunitarias aborto selectivo sexo personas pobres carecen educacion informacion fondos opciones mas saludables mas vulnerables impacto ent ricos probable mueran directa indirectamente ent tendran impactos gran alcance progreso hacia odm  \n",
       "3                                                     ejemplo australiano victoria creo agencia promocion salud financiada impuestos tabaco varios eeuu california massachusetts arizona oregon destinado parte ingresos procedentes impuestos especiales tabaco actividades educacion control tabaco mientras nueva jersey ohio texas ingresos procedentes alcohol utilizan programas educacion prevencion relacionados alcohol sassi et two thousand and four impuestos locales pueden ser fuente importante ingresos sistemas sanitarios descentralizados ejemplo dinamarca finlandia italia suecia seventeen ademas nivel impuestos locales puede fijarse funcion preferencias locales nivel calidad servicios medicos embargo ausencia mecanismo transferencia ajustado riesgo gestionado centralmente descentralizacion reduce mancomunacion riesgos podria dar lugar mayores disparidades sanitarias interregionales  \n",
       "4                                                                                                                                                                                                                                                                              consumo anual alcohol estima 157 litros ano hombres mas fifty encima media ocde 104 sistema mundial informacion alcohol salud oms puede ayudar explicar alta mortalidad enfermedad hepatica relacionada alcohol si bien prevalencia obesidad adultos relativamente baja comparacion paises ocde mas thirty mujeres kazajstan obesas comparacion sixteen hombres world obesity two thousand and sixteen coloca tasa mujeres par paises mas obesos ocde hecho gran proporcion brecha esperanza vida explica mayor mortalidad jovenes kazajos fifteen twentynine anos grupo edad tasas generales mortalidad mas tres veces mas altas ue fifteen  \n",
       "...                                                                                                                                                                                                                                                                                                                                                                                                                                                                                                                                                                                                                                                                                                                                                                                                                                                                                                                     ...  \n",
       "2995                                                                                                                                                                                                                                                                                                                                                                                                                                                            caucus efectivo basa fuertes vinculos grupos nacionales mujeres osc institutos investigacion universidades consejo continua trabajo consejo interinstitucional posterior beijing oficina iniciativas alcance mujer casa blanca objetivo proporcionar respuesta federal coordinada desafios enfrentan mujeres ninas garantizar gabinetes agencias nivel gabinete consideren politicas programas responden necesidades necesidades mujeres ninas impactarlosa  \n",
       "2996                                                                                                                                                                                                                                                                                                                                                       contrario porcentaje hogares edad trabajar hombre trabaja mantuvo relativamente estable seventysix largo tiempo mayoraa paases panel alemania embargo testigo descenso significativo fifteen puntos porcentuales participacion hombres empleo hogares peraodo hogares trabajador masculino panel espana ejemplo one thousand nine hundred and ninetyfive solo twentytwo twentyfive hogares contaban mujer trabajaba tiempo completo ano frente fortytwo fiftytwo ano anterior crisis mujeres neerlandesas trabajan ahora mas semanas ano aunque mas horas semana  \n",
       "2997                                                                                                                                                                                                                                                                                                                                                                                                                                                                                                                                                                                                 analisis utilizara gama medidas reflejen barreras basicas lado asistencia participacion mujeres agentes economicos productivos paises commonwealth segun banco mundial banco mundial 2018a restricciones abarcan decisiones afectan movimiento conseguir trabajo muchas mujeres decisiones pueden tomar permiso marido  \n",
       "2998                                                                                                                                                                                    capacitacion economica apoyo veces incentivos abordan justificaciones economicas familias casar hijas edad temprana brindan alternativas matrimonio aumentan valor ninas familias origen ejemplo berhanehewan etiopia proporciono familias cabra mientras hijas permanecieran programa permanecieran solteras eighteen anos karei erulkar two thousand and ten ejemplo programa transferencia efectivo zomba malawi descubrio transferencias efectivo condicionadas mas efectivas retrasar matrimonio transferencias condicionadas baird et educar movilizar padres comunidadesaquellos deciden casaran ninas cambiar normas sociales relacionadas expectativas ninas perspectivas matrimonio programas apuntan retrasar matrimonio  \n",
       "2999                                                                                                                                                                                                                                                                                                                                                   sido reconocido comites atencion prestada salud reproductiva mujer aborto anticoncepcion matrimonio precoz embarazo adolescencia asa reconoce control propia reproduccion fundamental mujeres puedan participar igualdad condiciones sociedad asa directrices presentacion informes artaculo six derecho vida exigen proporcionen informacion tasas natalidad muertes mujeres relacionadas embarazo parto asa medidas adoptadas ayudar mujeres evitar embarazos deseados garantizar someterse abortos clandestinos pongan peligro vida pidcp two thousand and twelve  \n",
       "\n",
       "[3000 rows x 3 columns]"
      ]
     },
     "execution_count": 38,
     "metadata": {},
     "output_type": "execute_result"
    }
   ],
   "source": [
    "data_t['words'] = data_t['words'].apply(lambda x: ' '.join(map(str, x)))\n",
    "data_t"
   ]
  },
  {
   "cell_type": "code",
   "execution_count": 39,
   "metadata": {},
   "outputs": [
    {
     "data": {
      "text/html": [
       "<div>\n",
       "<style scoped>\n",
       "    .dataframe tbody tr th:only-of-type {\n",
       "        vertical-align: middle;\n",
       "    }\n",
       "\n",
       "    .dataframe tbody tr th {\n",
       "        vertical-align: top;\n",
       "    }\n",
       "\n",
       "    .dataframe thead th {\n",
       "        text-align: right;\n",
       "    }\n",
       "</style>\n",
       "<table border=\"1\" class=\"dataframe\">\n",
       "  <thead>\n",
       "    <tr style=\"text-align: right;\">\n",
       "      <th></th>\n",
       "      <th>Textos_espanol</th>\n",
       "      <th>sdg</th>\n",
       "      <th>words</th>\n",
       "    </tr>\n",
       "  </thead>\n",
       "  <tbody>\n",
       "    <tr>\n",
       "      <th>0</th>\n",
       "      <td>Se basa en los nueve años de educación básica (seis de primaria y tres de secundaria). Los alumnos que acceden al segundo ciclo de secundaria pueden ir a un centro de orientación más académica o a un centro de formación profesional. Esto se aplica tanto en el sistema islámico como en el no islámico. La enseñanza secundaria superior formal comprende la enseñanza general (sekolah menengah atas, o SMA), la enseñanza profesional (sekolah menengah kejuruan, o SMK), las escuelas secundarias superiores islámicas (madrasah aliyah, o MA) y la enseñanza profesional islámica (madrasah aliyah kejuruan, o MAK). Este capítulo se centra principalmente en la enseñanza secundaria superior académica, mientras que el capítulo 5 trata de la formación profesional. Se está trabajando en el desarrollo de colegios comunitarios y vías alternativas de acceso a la enseñanza superior.</td>\n",
       "      <td>NaN</td>\n",
       "      <td>basa nueve anos educacion basica seis primaria tres secundaria alumnos acceden segundo ciclo secundaria pueden ir centro orientacion mas academica centro formacion profesional aplica sistema islamico islamico ensenanza secundaria superior formal comprende ensenanza general sekolah menengah atas sma ensenanza profesional sekolah menengah kejuruan smk escuelas secundarias superiores islamicas madrasah aliyah ma ensenanza profesional islamica madrasah aliyah kejuruan mak capitulo centra principalmente ensenanza secundaria superior academica mientras capitulo five trata formacion profesional trabajando desarrollo colegios comunitarios vias alternativas acceso ensenanza superior</td>\n",
       "    </tr>\n",
       "    <tr>\n",
       "      <th>1</th>\n",
       "      <td>En la última década, y en particular desde 2010, el número de altas per cápita ha tendido a disminuir, y ahora está en línea con la media de la OCDE mencionada anteriormente. Por ejemplo, los habitantes de zonas rurales representan el 43% de la población, pero sólo el 32% de las altas hospitalarias. A falta de información complementaria, no es posible determinar si esta diferencia indica o no disparidades en el acceso de las poblaciones rurales y, en caso afirmativo, si las causas son geográficas, culturales o infraestructurales. No parece que se recojan datos sobre el acceso a la atención desde el punto de vista del paciente, lo que ayudaría a comprender la naturaleza de los obstáculos al acceso (y las soluciones). En general, no es posible determinar con los datos disponibles si los ingresos o las características socioeconómicas de los pacientes influyen a la hora de llegar a las puertas del hospital o de ser ingresado. El acceso desigual probablemente se deba también a la incapacidad de los centros de las distintas regiones para prestar los mismos servicios.</td>\n",
       "      <td>NaN</td>\n",
       "      <td>ultima decada particular two thousand and ten numero altas per capita tendido disminuir ahora linea media ocde mencionada anteriormente ejemplo habitantes zonas rurales representan fortythree poblacion solo thirtytwo altas hospitalarias falta informacion complementaria posible determinar si diferencia indica disparidades acceso poblaciones rurales caso afirmativo si causas geograficas culturales infraestructurales parece recojan datos acceso atencion punto vista paciente ayudaria comprender naturaleza obstaculos acceso soluciones general posible determinar datos disponibles si ingresos caracteristicas socioeconomicas pacientes influyen hora llegar puertas hospital ser ingresado acceso desigual probablemente deba tambien incapacidad centros distintas regiones prestar mismos servicios</td>\n",
       "    </tr>\n",
       "    <tr>\n",
       "      <th>2</th>\n",
       "      <td>AsÃ, por ejemplo, el estigma asociado a los beneficiarios de prestaciones sociales o a los pobres aumenta su desventaja. Del mismo modo, los errores de dignidad y reconocimiento pueden causar desventajas.54 La infravaloración del trabajo de las mujeres es un error de reconocimiento que causa directamente desventajas socioeconómicas, por lo que el derecho a la igualdad de retribución por un trabajo de igual valor es una sÃntesis importante de las dos primeras dimensiones del derecho a la igualdad: reparar la desventaja y abordar el estigma y los estereotipos. Tanto el Comité de Derechos Económicos, Sociales y Culturales como el Comité para la Eliminación de la Discriminación contra la Mujer han dado este paso. Directrices para la presentación de informes\", párrafo 29, CDESC, Ecuador, op. cit.</td>\n",
       "      <td>NaN</td>\n",
       "      <td>asa ejemplo estigma asociado beneficiarios prestaciones sociales pobres aumenta desventaja mismo modo errores dignidad reconocimiento pueden causar desventajas54 infravaloracion trabajo mujeres error reconocimiento causa directamente desventajas socioeconomicas derecho igualdad retribucion trabajo igual valor santesis importante dos primeras dimensiones derecho igualdad reparar desventaja abordar estigma estereotipos comite derechos economicos sociales culturales comite eliminacion discriminacion mujer dado paso directrices presentacion informes parrafo twentynine cdesc ecuador op cit</td>\n",
       "    </tr>\n",
       "    <tr>\n",
       "      <th>3</th>\n",
       "      <td>Hay muchos profesores no cualificados en las escuelas, ya que es difícil contratar a profesores cualificados. Un indicio del reconocimiento del importante papel de los profesores en este contexto es la inclusión por Alberta de preguntas adicionales en la Encuesta Internacional sobre la Enseñanza y el Aprendizaje de la OCDE de 2018 relativas a la comprensión por parte de los profesores y los lÃderes escolares de cuestiones relacionadas con las culturas indÃgenas, la historia y el trabajo con alumnos indÃgenas, asà como sobre el desarrollo profesional pertinente. El enfoque holÃstico de los pueblos indÃgenas hace hincapié en lo mucho que estos contribuyen al bienestar general de los niños, asà como al de todos los demás, además de factores como las ventajas y desventajas materiales. El trauma sufrido por los pueblos indígenas, incluso a través del sistema de escuelas residenciales, todavía es sentido agudamente por muchos. De hecho, se nos dijo que los síntomas del trauma pueden aumentar en lugar de disminuir con el paso del tiempo, exacerbados por las relaciones intergeneracionales. Frente a este panorama más amplio, pueden comprenderse mejor los estudios específicos de determinadas provincias y territorios, y la comparación entre jóvenes indígenas y no indígenas (Freeman, King y Pickett, 2016).</td>\n",
       "      <td>NaN</td>\n",
       "      <td>profesores cualificados escuelas dificil contratar profesores cualificados indicio reconocimiento importante papel profesores contexto inclusion alberta preguntas adicionales encuesta internacional ensenanza aprendizaje ocde two thousand and eighteen relativas comprension parte profesores laderes escolares cuestiones relacionadas culturas indagenas historia trabajo alumnos indagenas asa desarrollo profesional pertinente enfoque holastico pueblos indagenas hace hincapie contribuyen bienestar general ninos asa demas ademas factores ventajas desventajas materiales trauma sufrido pueblos indigenas incluso traves sistema escuelas residenciales todavia agudamente hecho dijo sintomas trauma pueden aumentar lugar disminuir paso tiempo exacerbados relaciones intergeneracionales frente panorama mas amplio pueden comprenderse mejor estudios especificos determinadas provincias territorios comparacion jovenes indigenas indigenas freeman king pickett two thousand and sixteen</td>\n",
       "    </tr>\n",
       "    <tr>\n",
       "      <th>4</th>\n",
       "      <td>A raíz de su preocupación por el hecho de que los médicos de todo el sistema sanitario japonés no fueran capaces de identificar los signos de sufrimiento psicológico que podrían ayudar a reducir los suicidios, la Asociación Médica Japonesa informa de que empezó a compartir información y orientaciones sobre la depresión con todos los médicos, primero en 2004 y luego de nuevo en 2009. En la actualidad, sólo se recogen indicadores sobre la tasa de reclusión y contención, y de ingresos involuntarios, por parte de los proveedores y a nivel prefectural. La información recopilada sistemáticamente sobre el sistema de atención de salud mental se limita a indicadores estructurales: instalaciones, número de personal, número de camas.</td>\n",
       "      <td>NaN</td>\n",
       "      <td>raiz preocupacion hecho medicos sistema sanitario japones capaces identificar signos sufrimiento psicologico podrian ayudar reducir suicidios asociacion medica japonesa informa empezo compartir informacion orientaciones depresion medicos primero two thousand and four luego nuevo two thousand and nine actualidad solo recogen indicadores tasa reclusion contencion ingresos involuntarios parte proveedores nivel prefectural informacion recopilada sistematicamente sistema atencion salud mental limita indicadores estructurales instalaciones numero personal numero camas</td>\n",
       "    </tr>\n",
       "    <tr>\n",
       "      <th>...</th>\n",
       "      <td>...</td>\n",
       "      <td>...</td>\n",
       "      <td>...</td>\n",
       "    </tr>\n",
       "    <tr>\n",
       "      <th>1754</th>\n",
       "      <td>O puede darse de baja llamando a XXXXXXX o visitando www. Un ensayo controlado aleatorizado similar de 2 años de duración entre 537 hombres indios asiáticos con prediabetes encontró que los mensajes de teléfono móvil eran un método aceptable para brindar asesoramiento y apoyo para la modificación del estilo de vida para prevenir la diabetes tipo 2 (Ramachandran, 2013). El ensayo fue el primero en mostrar el beneficio de esta tecnología en la prevención de la diabetes, con una reducción del 36 % en el riesgo relativo en comparación con la atención estándar en 2 años. Otro estudio piloto de 1 año de duración entre 200 pacientes con diabetes tipo 2 en la clínica mostró que los mensajes de teléfonos móviles sobre los principios del control de la diabetes ayudaron a mejorar los resultados de la atención médica.</td>\n",
       "      <td>NaN</td>\n",
       "      <td>puede darse baja llamando xxxxxxx visitando www ensayo controlado aleatorizado similar two anos duracion five hundred and thirtyseven hombres indios asiaticos prediabetes encontro mensajes telefono movil metodo aceptable brindar asesoramiento apoyo modificacion estilo vida prevenir diabetes tipo two ramachandran two thousand and thirteen ensayo primero mostrar beneficio tecnologia prevencion diabetes reduccion thirtysix riesgo relativo comparacion atencion estandar two anos estudio piloto one ano duracion two hundred pacientes diabetes tipo two clinica mostro mensajes telefonos moviles principios control diabetes ayudaron mejorar resultados atencion medica</td>\n",
       "    </tr>\n",
       "    <tr>\n",
       "      <th>1755</th>\n",
       "      <td>Considere establecer o fortalecer la capacidad de instituciones independientes (como Comisiones Independientes, Entidades Fiscalizadoras Superiores, Oficinas de Ombudsman) y órganos asesores (p. ej., consejos de Gobierno) para monitorear la implementación de estrategias de igualdad de género, integrar cuestiones de género en la formulación de políticas y facilitar informes regulares, auditorías y mediciones. Para ser eficaz, dicha supervisión debe llevarse a cabo de manera equilibrada y evitar enfoques prescriptivos para fomentar la mejora continua al tiempo que permite realizar un seguimiento del progreso en la igualdad de género. Por ejemplo, sobre la base de buenas prácticas y según corresponda, estas medidas pueden incluir requisitos de divulgación, cuotas, metas voluntarias, leyes de paridad, alternancia de sexos en la lista del partido y vinculación de las proporciones de género en los partidos políticos con su acceso a la financiación pública. Promover la contratación basada en el mérito, considerar políticas y prácticas positivas para garantizar una representación equilibrada de hombres y mujeres en cada grupo ocupacional en el empleo del sector público, y desarrollar medidas concretas para garantizar la eliminación efectiva de las barreras implícitas en los procesos de contratación y dotación de personal, donde apropiado y necesario.</td>\n",
       "      <td>NaN</td>\n",
       "      <td>considere establecer fortalecer capacidad instituciones independientes comisiones independientes entidades fiscalizadoras superiores oficinas ombudsman organos asesores p ej consejos gobierno monitorear implementacion estrategias igualdad genero integrar cuestiones genero formulacion politicas facilitar informes regulares auditorias mediciones ser eficaz dicha supervision debe llevarse cabo manera equilibrada evitar enfoques prescriptivos fomentar mejora continua tiempo permite realizar seguimiento progreso igualdad genero ejemplo base buenas practicas segun corresponda medidas pueden incluir requisitos divulgacion cuotas metas voluntarias leyes paridad alternancia sexos lista partido vinculacion proporciones genero partidos politicos acceso financiacion publica promover contratacion basada merito considerar politicas practicas positivas garantizar representacion equilibrada hombres mujeres cada grupo ocupacional empleo sector publico desarrollar medidas concretas garantizar eliminacion efectiva barreras implicitas procesos contratacion dotacion personal apropiado necesario</td>\n",
       "    </tr>\n",
       "    <tr>\n",
       "      <th>1756</th>\n",
       "      <td>Sin embargo, la calidad general del entorno de EAPI tuvo un efecto sobre los ingresos de los adultos. En muchos países, las proporciones entre el personal y los niños se han regulado con proporciones más altas entre el personal y los niños para los más pequeños y proporciones más bajas para los niños mayores (NICHD, 2002). Sin embargo, falta investigación sobre exactamente qué proporción es más favorable para mejorar la satisfacción laboral de los docentes, la calidad de la EAPI y los resultados de los niños.</td>\n",
       "      <td>NaN</td>\n",
       "      <td>embargo calidad general entorno eapi efecto ingresos adultos paises proporciones personal ninos regulado proporciones mas altas personal ninos mas pequenos proporciones mas bajas ninos mayores nichd two thousand and two embargo falta investigacion exactamente proporcion mas favorable mejorar satisfaccion laboral docentes calidad eapi resultados ninos</td>\n",
       "    </tr>\n",
       "    <tr>\n",
       "      <th>1757</th>\n",
       "      <td>Cada vez con más frecuencia, los traficantes de drogas utilizan números de registro de aeronaves robados o falsificados cuando transportan envíos ilícitos por vía aérea. En la mayoría de los países de América Central y el Caribe se producen niveles significativos de hierba de cannabis. Jamaica sigue siendo el mayor productor de cannabis en el Caribe, con un cultivo total de planta de cannabis estimado por las autoridades locales en unas 15.000 ha.</td>\n",
       "      <td>NaN</td>\n",
       "      <td>cada vez mas frecuencia traficantes drogas utilizan numeros registro aeronaves robados falsificados transportan envios ilicitos via aerea mayoria paises america central caribe producen niveles significativos hierba cannabis jamaica sigue siendo mayor productor cannabis caribe cultivo total planta cannabis estimado autoridades locales unas 15000</td>\n",
       "    </tr>\n",
       "    <tr>\n",
       "      <th>1758</th>\n",
       "      <td>También presenta responsabilidad individual, lo que significa que el éxito del equipo depende del aprendizaje individual, no de los productos grupales. Se debe considerar que el plan de estudios tiene en cuenta las diferencias individuales significativas y que es capaz de ampliar a cada alumno un poco más allá de su capacidad autodefinida (Dumont, Istance y Benavides, 2010). Sin embargo, dada la variación entre países en cuanto a quién tiene la responsabilidad de los currículos, es difícil proporcionar una dirección política clara sobre los currículos a nivel escolar. Los métodos de aprendizaje cooperativo, que implican que el maestro coloque a los estudiantes dentro de la misma clase en pequeños grupos temporales con habilidades mixtas que se enfocan en tareas que requieren que confíen en las habilidades de los demás, tienden a funcionar igualmente bien para todos los tipos de estudiantes (Slavin, 2010).</td>\n",
       "      <td>NaN</td>\n",
       "      <td>tambien presenta responsabilidad individual significa exito equipo depende aprendizaje individual productos grupales debe considerar plan estudios cuenta diferencias individuales significativas capaz ampliar cada alumno mas alla capacidad autodefinida dumont istance benavides two thousand and ten embargo dada variacion paises cuanto responsabilidad curriculos dificil proporcionar direccion politica clara curriculos nivel escolar metodos aprendizaje cooperativo implican maestro coloque estudiantes dentro misma clase pequenos grupos temporales habilidades mixtas enfocan tareas requieren confien habilidades demas tienden funcionar igualmente bien tipos estudiantes slavin two thousand and ten</td>\n",
       "    </tr>\n",
       "  </tbody>\n",
       "</table>\n",
       "<p>1759 rows × 3 columns</p>\n",
       "</div>"
      ],
      "text/plain": [
       "                                                                                                                                                                                                                                                                                                                                                                                                                                                                                                                                                                                                                                                                                                                                                                                                                                                                                                                                                                                                                                                                                                                                                                                                                                                                                                                                                                                                            Textos_espanol  \\\n",
       "0                                                                                                                                                                                                                                                                                                                                                                                                                                                                                                                   Se basa en los nueve años de educación básica (seis de primaria y tres de secundaria). Los alumnos que acceden al segundo ciclo de secundaria pueden ir a un centro de orientación más académica o a un centro de formación profesional. Esto se aplica tanto en el sistema islámico como en el no islámico. La enseñanza secundaria superior formal comprende la enseñanza general (sekolah menengah atas, o SMA), la enseñanza profesional (sekolah menengah kejuruan, o SMK), las escuelas secundarias superiores islámicas (madrasah aliyah, o MA) y la enseñanza profesional islámica (madrasah aliyah kejuruan, o MAK). Este capítulo se centra principalmente en la enseñanza secundaria superior académica, mientras que el capítulo 5 trata de la formación profesional. Se está trabajando en el desarrollo de colegios comunitarios y vías alternativas de acceso a la enseñanza superior.    \n",
       "1                                                                                                                                                                                                                                                                                                   En la última década, y en particular desde 2010, el número de altas per cápita ha tendido a disminuir, y ahora está en línea con la media de la OCDE mencionada anteriormente. Por ejemplo, los habitantes de zonas rurales representan el 43% de la población, pero sólo el 32% de las altas hospitalarias. A falta de información complementaria, no es posible determinar si esta diferencia indica o no disparidades en el acceso de las poblaciones rurales y, en caso afirmativo, si las causas son geográficas, culturales o infraestructurales. No parece que se recojan datos sobre el acceso a la atención desde el punto de vista del paciente, lo que ayudaría a comprender la naturaleza de los obstáculos al acceso (y las soluciones). En general, no es posible determinar con los datos disponibles si los ingresos o las características socioeconómicas de los pacientes influyen a la hora de llegar a las puertas del hospital o de ser ingresado. El acceso desigual probablemente se deba también a la incapacidad de los centros de las distintas regiones para prestar los mismos servicios.    \n",
       "2                                                                                                                                                                                                                                                                                                                                                                                                                                                                                                                                                                                      AsÃ, por ejemplo, el estigma asociado a los beneficiarios de prestaciones sociales o a los pobres aumenta su desventaja. Del mismo modo, los errores de dignidad y reconocimiento pueden causar desventajas.54 La infravaloración del trabajo de las mujeres es un error de reconocimiento que causa directamente desventajas socioeconómicas, por lo que el derecho a la igualdad de retribución por un trabajo de igual valor es una sÃntesis importante de las dos primeras dimensiones del derecho a la igualdad: reparar la desventaja y abordar el estigma y los estereotipos. Tanto el Comité de Derechos Económicos, Sociales y Culturales como el Comité para la Eliminación de la Discriminación contra la Mujer han dado este paso. Directrices para la presentación de informes\", párrafo 29, CDESC, Ecuador, op. cit.    \n",
       "3                                                     Hay muchos profesores no cualificados en las escuelas, ya que es difícil contratar a profesores cualificados. Un indicio del reconocimiento del importante papel de los profesores en este contexto es la inclusión por Alberta de preguntas adicionales en la Encuesta Internacional sobre la Enseñanza y el Aprendizaje de la OCDE de 2018 relativas a la comprensión por parte de los profesores y los lÃderes escolares de cuestiones relacionadas con las culturas indÃgenas, la historia y el trabajo con alumnos indÃgenas, asà como sobre el desarrollo profesional pertinente. El enfoque holÃstico de los pueblos indÃgenas hace hincapié en lo mucho que estos contribuyen al bienestar general de los niños, asà como al de todos los demás, además de factores como las ventajas y desventajas materiales. El trauma sufrido por los pueblos indígenas, incluso a través del sistema de escuelas residenciales, todavía es sentido agudamente por muchos. De hecho, se nos dijo que los síntomas del trauma pueden aumentar en lugar de disminuir con el paso del tiempo, exacerbados por las relaciones intergeneracionales. Frente a este panorama más amplio, pueden comprenderse mejor los estudios específicos de determinadas provincias y territorios, y la comparación entre jóvenes indígenas y no indígenas (Freeman, King y Pickett, 2016).    \n",
       "4                                                                                                                                                                                                                                                                                                                                                                                                                                                                                                                                                                                                                                                            A raíz de su preocupación por el hecho de que los médicos de todo el sistema sanitario japonés no fueran capaces de identificar los signos de sufrimiento psicológico que podrían ayudar a reducir los suicidios, la Asociación Médica Japonesa informa de que empezó a compartir información y orientaciones sobre la depresión con todos los médicos, primero en 2004 y luego de nuevo en 2009. En la actualidad, sólo se recogen indicadores sobre la tasa de reclusión y contención, y de ingresos involuntarios, por parte de los proveedores y a nivel prefectural. La información recopilada sistemáticamente sobre el sistema de atención de salud mental se limita a indicadores estructurales: instalaciones, número de personal, número de camas.    \n",
       "...                                                                                                                                                                                                                                                                                                                                                                                                                                                                                                                                                                                                                                                                                                                                                                                                                                                                                                                                                                                                                                                                                                                                                                                                                                                                                                                                                                                                                    ...   \n",
       "1754                                                                                                                                                                                                                                                                                                                                                                                                                                                                                                                                                                     O puede darse de baja llamando a XXXXXXX o visitando www. Un ensayo controlado aleatorizado similar de 2 años de duración entre 537 hombres indios asiáticos con prediabetes encontró que los mensajes de teléfono móvil eran un método aceptable para brindar asesoramiento y apoyo para la modificación del estilo de vida para prevenir la diabetes tipo 2 (Ramachandran, 2013). El ensayo fue el primero en mostrar el beneficio de esta tecnología en la prevención de la diabetes, con una reducción del 36 % en el riesgo relativo en comparación con la atención estándar en 2 años. Otro estudio piloto de 1 año de duración entre 200 pacientes con diabetes tipo 2 en la clínica mostró que los mensajes de teléfonos móviles sobre los principios del control de la diabetes ayudaron a mejorar los resultados de la atención médica.   \n",
       "1755  Considere establecer o fortalecer la capacidad de instituciones independientes (como Comisiones Independientes, Entidades Fiscalizadoras Superiores, Oficinas de Ombudsman) y órganos asesores (p. ej., consejos de Gobierno) para monitorear la implementación de estrategias de igualdad de género, integrar cuestiones de género en la formulación de políticas y facilitar informes regulares, auditorías y mediciones. Para ser eficaz, dicha supervisión debe llevarse a cabo de manera equilibrada y evitar enfoques prescriptivos para fomentar la mejora continua al tiempo que permite realizar un seguimiento del progreso en la igualdad de género. Por ejemplo, sobre la base de buenas prácticas y según corresponda, estas medidas pueden incluir requisitos de divulgación, cuotas, metas voluntarias, leyes de paridad, alternancia de sexos en la lista del partido y vinculación de las proporciones de género en los partidos políticos con su acceso a la financiación pública. Promover la contratación basada en el mérito, considerar políticas y prácticas positivas para garantizar una representación equilibrada de hombres y mujeres en cada grupo ocupacional en el empleo del sector público, y desarrollar medidas concretas para garantizar la eliminación efectiva de las barreras implícitas en los procesos de contratación y dotación de personal, donde apropiado y necesario.   \n",
       "1756                                                                                                                                                                                                                                                                                                                                                                                                                                                                                                                                                                                                                                                                                                                                                                                                                                                                                    Sin embargo, la calidad general del entorno de EAPI tuvo un efecto sobre los ingresos de los adultos. En muchos países, las proporciones entre el personal y los niños se han regulado con proporciones más altas entre el personal y los niños para los más pequeños y proporciones más bajas para los niños mayores (NICHD, 2002). Sin embargo, falta investigación sobre exactamente qué proporción es más favorable para mejorar la satisfacción laboral de los docentes, la calidad de la EAPI y los resultados de los niños.   \n",
       "1757                                                                                                                                                                                                                                                                                                                                                                                                                                                                                                                                                                                                                                                                                                                                                                                                                                                                                                                                                   Cada vez con más frecuencia, los traficantes de drogas utilizan números de registro de aeronaves robados o falsificados cuando transportan envíos ilícitos por vía aérea. En la mayoría de los países de América Central y el Caribe se producen niveles significativos de hierba de cannabis. Jamaica sigue siendo el mayor productor de cannabis en el Caribe, con un cultivo total de planta de cannabis estimado por las autoridades locales en unas 15.000 ha.   \n",
       "1758                                                                                                                                                                                                                                                                                                                                                                                                                                                                También presenta responsabilidad individual, lo que significa que el éxito del equipo depende del aprendizaje individual, no de los productos grupales. Se debe considerar que el plan de estudios tiene en cuenta las diferencias individuales significativas y que es capaz de ampliar a cada alumno un poco más allá de su capacidad autodefinida (Dumont, Istance y Benavides, 2010). Sin embargo, dada la variación entre países en cuanto a quién tiene la responsabilidad de los currículos, es difícil proporcionar una dirección política clara sobre los currículos a nivel escolar. Los métodos de aprendizaje cooperativo, que implican que el maestro coloque a los estudiantes dentro de la misma clase en pequeños grupos temporales con habilidades mixtas que se enfocan en tareas que requieren que confíen en las habilidades de los demás, tienden a funcionar igualmente bien para todos los tipos de estudiantes (Slavin, 2010).   \n",
       "\n",
       "      sdg  \\\n",
       "0     NaN   \n",
       "1     NaN   \n",
       "2     NaN   \n",
       "3     NaN   \n",
       "4     NaN   \n",
       "...   ...   \n",
       "1754  NaN   \n",
       "1755  NaN   \n",
       "1756  NaN   \n",
       "1757  NaN   \n",
       "1758  NaN   \n",
       "\n",
       "                                                                                                                                                                                                                                                                                                                                                                                                                                                                                                                                                                                                                                                                                                                                                                                                                                                                                                                                                                                                                                                                                                                                   words  \n",
       "0                                                                                                                                                                                                                                                                                                                                                                                                                             basa nueve anos educacion basica seis primaria tres secundaria alumnos acceden segundo ciclo secundaria pueden ir centro orientacion mas academica centro formacion profesional aplica sistema islamico islamico ensenanza secundaria superior formal comprende ensenanza general sekolah menengah atas sma ensenanza profesional sekolah menengah kejuruan smk escuelas secundarias superiores islamicas madrasah aliyah ma ensenanza profesional islamica madrasah aliyah kejuruan mak capitulo centra principalmente ensenanza secundaria superior academica mientras capitulo five trata formacion profesional trabajando desarrollo colegios comunitarios vias alternativas acceso ensenanza superior  \n",
       "1                                                                                                                                                                                                                                                                                                              ultima decada particular two thousand and ten numero altas per capita tendido disminuir ahora linea media ocde mencionada anteriormente ejemplo habitantes zonas rurales representan fortythree poblacion solo thirtytwo altas hospitalarias falta informacion complementaria posible determinar si diferencia indica disparidades acceso poblaciones rurales caso afirmativo si causas geograficas culturales infraestructurales parece recojan datos acceso atencion punto vista paciente ayudaria comprender naturaleza obstaculos acceso soluciones general posible determinar datos disponibles si ingresos caracteristicas socioeconomicas pacientes influyen hora llegar puertas hospital ser ingresado acceso desigual probablemente deba tambien incapacidad centros distintas regiones prestar mismos servicios  \n",
       "2                                                                                                                                                                                                                                                                                                                                                                                                                                                                                                                        asa ejemplo estigma asociado beneficiarios prestaciones sociales pobres aumenta desventaja mismo modo errores dignidad reconocimiento pueden causar desventajas54 infravaloracion trabajo mujeres error reconocimiento causa directamente desventajas socioeconomicas derecho igualdad retribucion trabajo igual valor santesis importante dos primeras dimensiones derecho igualdad reparar desventaja abordar estigma estereotipos comite derechos economicos sociales culturales comite eliminacion discriminacion mujer dado paso directrices presentacion informes parrafo twentynine cdesc ecuador op cit  \n",
       "3                                                                                                                        profesores cualificados escuelas dificil contratar profesores cualificados indicio reconocimiento importante papel profesores contexto inclusion alberta preguntas adicionales encuesta internacional ensenanza aprendizaje ocde two thousand and eighteen relativas comprension parte profesores laderes escolares cuestiones relacionadas culturas indagenas historia trabajo alumnos indagenas asa desarrollo profesional pertinente enfoque holastico pueblos indagenas hace hincapie contribuyen bienestar general ninos asa demas ademas factores ventajas desventajas materiales trauma sufrido pueblos indigenas incluso traves sistema escuelas residenciales todavia agudamente hecho dijo sintomas trauma pueden aumentar lugar disminuir paso tiempo exacerbados relaciones intergeneracionales frente panorama mas amplio pueden comprenderse mejor estudios especificos determinadas provincias territorios comparacion jovenes indigenas indigenas freeman king pickett two thousand and sixteen  \n",
       "4                                                                                                                                                                                                                                                                                                                                                                                                                                                                                                                                               raiz preocupacion hecho medicos sistema sanitario japones capaces identificar signos sufrimiento psicologico podrian ayudar reducir suicidios asociacion medica japonesa informa empezo compartir informacion orientaciones depresion medicos primero two thousand and four luego nuevo two thousand and nine actualidad solo recogen indicadores tasa reclusion contencion ingresos involuntarios parte proveedores nivel prefectural informacion recopilada sistematicamente sistema atencion salud mental limita indicadores estructurales instalaciones numero personal numero camas  \n",
       "...                                                                                                                                                                                                                                                                                                                                                                                                                                                                                                                                                                                                                                                                                                                                                                                                                                                                                                                                                                                                                                                                                                                                  ...  \n",
       "1754                                                                                                                                                                                                                                                                                                                                                                                                                                            puede darse baja llamando xxxxxxx visitando www ensayo controlado aleatorizado similar two anos duracion five hundred and thirtyseven hombres indios asiaticos prediabetes encontro mensajes telefono movil metodo aceptable brindar asesoramiento apoyo modificacion estilo vida prevenir diabetes tipo two ramachandran two thousand and thirteen ensayo primero mostrar beneficio tecnologia prevencion diabetes reduccion thirtysix riesgo relativo comparacion atencion estandar two anos estudio piloto one ano duracion two hundred pacientes diabetes tipo two clinica mostro mensajes telefonos moviles principios control diabetes ayudaron mejorar resultados atencion medica  \n",
       "1755  considere establecer fortalecer capacidad instituciones independientes comisiones independientes entidades fiscalizadoras superiores oficinas ombudsman organos asesores p ej consejos gobierno monitorear implementacion estrategias igualdad genero integrar cuestiones genero formulacion politicas facilitar informes regulares auditorias mediciones ser eficaz dicha supervision debe llevarse cabo manera equilibrada evitar enfoques prescriptivos fomentar mejora continua tiempo permite realizar seguimiento progreso igualdad genero ejemplo base buenas practicas segun corresponda medidas pueden incluir requisitos divulgacion cuotas metas voluntarias leyes paridad alternancia sexos lista partido vinculacion proporciones genero partidos politicos acceso financiacion publica promover contratacion basada merito considerar politicas practicas positivas garantizar representacion equilibrada hombres mujeres cada grupo ocupacional empleo sector publico desarrollar medidas concretas garantizar eliminacion efectiva barreras implicitas procesos contratacion dotacion personal apropiado necesario  \n",
       "1756                                                                                                                                                                                                                                                                                                                                                                                                                                                                                                                                                                                                                                                                                                                                                                    embargo calidad general entorno eapi efecto ingresos adultos paises proporciones personal ninos regulado proporciones mas altas personal ninos mas pequenos proporciones mas bajas ninos mayores nichd two thousand and two embargo falta investigacion exactamente proporcion mas favorable mejorar satisfaccion laboral docentes calidad eapi resultados ninos  \n",
       "1757                                                                                                                                                                                                                                                                                                                                                                                                                                                                                                                                                                                                                                                                                                                                                                          cada vez mas frecuencia traficantes drogas utilizan numeros registro aeronaves robados falsificados transportan envios ilicitos via aerea mayoria paises america central caribe producen niveles significativos hierba cannabis jamaica sigue siendo mayor productor cannabis caribe cultivo total planta cannabis estimado autoridades locales unas 15000  \n",
       "1758                                                                                                                                                                                                                                                                                                                                                                                                           tambien presenta responsabilidad individual significa exito equipo depende aprendizaje individual productos grupales debe considerar plan estudios cuenta diferencias individuales significativas capaz ampliar cada alumno mas alla capacidad autodefinida dumont istance benavides two thousand and ten embargo dada variacion paises cuanto responsabilidad curriculos dificil proporcionar direccion politica clara curriculos nivel escolar metodos aprendizaje cooperativo implican maestro coloque estudiantes dentro misma clase pequenos grupos temporales habilidades mixtas enfocan tareas requieren confien habilidades demas tienden funcionar igualmente bien tipos estudiantes slavin two thousand and ten  \n",
       "\n",
       "[1759 rows x 3 columns]"
      ]
     },
     "execution_count": 39,
     "metadata": {},
     "output_type": "execute_result"
    }
   ],
   "source": [
    "data_t_nuevo['words'] = data_t_nuevo['words'].apply(lambda x: ' '.join(map(str, x)))\n",
    "data_t_nuevo"
   ]
  },
  {
   "cell_type": "code",
   "execution_count": 40,
   "metadata": {},
   "outputs": [],
   "source": [
    "data_t.to_csv('datos_limpios.csv', index=False)"
   ]
  },
  {
   "cell_type": "markdown",
   "metadata": {},
   "source": [
    "### 3. Entrenamiento del modelo con TF_IDF"
   ]
  },
  {
   "cell_type": "markdown",
   "metadata": {},
   "source": [
    "En TF-IDF Los valores no son necesariamente enteros, ya que dependen de la frecuencia de un término en un documento específico y en la colección de documentos en su conjunto."
   ]
  },
  {
   "cell_type": "markdown",
   "metadata": {},
   "source": [
    "#### 3.1 Data splitting"
   ]
  },
  {
   "cell_type": "code",
   "execution_count": 41,
   "metadata": {},
   "outputs": [],
   "source": [
    "X_train, X_test, y_train, y_test = train_test_split(data_t[[\"words\"]], data_t[\"sdg\"], random_state=1, stratify=data_t['sdg'])"
   ]
  },
  {
   "cell_type": "code",
   "execution_count": 42,
   "metadata": {},
   "outputs": [
    {
     "data": {
      "text/plain": [
       "((2250, 1), (750, 1))"
      ]
     },
     "execution_count": 42,
     "metadata": {},
     "output_type": "execute_result"
    }
   ],
   "source": [
    "X_train.shape, X_test.shape"
   ]
  },
  {
   "cell_type": "code",
   "execution_count": 43,
   "metadata": {},
   "outputs": [
    {
     "data": {
      "text/plain": [
       "((2250,), (750,))"
      ]
     },
     "execution_count": 43,
     "metadata": {},
     "output_type": "execute_result"
    }
   ],
   "source": [
    "y_train.shape, y_test.shape"
   ]
  },
  {
   "cell_type": "code",
   "execution_count": 44,
   "metadata": {},
   "outputs": [
    {
     "data": {
      "text/plain": [
       "876     3\n",
       "2518    5\n",
       "2775    5\n",
       "1910    4\n",
       "2776    5\n",
       "Name: sdg, dtype: int64"
      ]
     },
     "execution_count": 44,
     "metadata": {},
     "output_type": "execute_result"
    }
   ],
   "source": [
    "#ver los primeros datos de entrenamiento\n",
    "y_train[:5]"
   ]
  },
  {
   "cell_type": "code",
   "execution_count": 45,
   "metadata": {},
   "outputs": [
    {
     "data": {
      "text/plain": [
       "sdg\n",
       "3    0.333333\n",
       "5    0.333333\n",
       "4    0.333333\n",
       "Name: proportion, dtype: float64"
      ]
     },
     "execution_count": 45,
     "metadata": {},
     "output_type": "execute_result"
    }
   ],
   "source": [
    "pd.Series(y_train).value_counts(normalize=True)"
   ]
  },
  {
   "cell_type": "code",
   "execution_count": 46,
   "metadata": {},
   "outputs": [
    {
     "data": {
      "text/plain": [
       "sdg\n",
       "4    0.333333\n",
       "5    0.333333\n",
       "3    0.333333\n",
       "Name: proportion, dtype: float64"
      ]
     },
     "execution_count": 46,
     "metadata": {},
     "output_type": "execute_result"
    }
   ],
   "source": [
    "pd.Series(y_test).value_counts(normalize=True)"
   ]
  },
  {
   "cell_type": "markdown",
   "metadata": {},
   "source": [
    "#### 3.2 Vectorización del texto"
   ]
  },
  {
   "cell_type": "code",
   "execution_count": 47,
   "metadata": {},
   "outputs": [
    {
     "name": "stdout",
     "output_type": "stream",
     "text": [
      "(2250, 15109)\n",
      "Vocabulary size: 15109\n"
     ]
    }
   ],
   "source": [
    "# Supongamos que tienes un DataFrame llamado 'df' con una columna 'words' que contiene tus textos preprocesados.\n",
    "texts = X_train['words']\n",
    "\n",
    "\n",
    "# Crea una instancia de TfidfVectorizer\n",
    "tfidf_vectorizer = TfidfVectorizer(tokenizer=word_tokenize,  # Número máximo de características (ajusta según sea necesario)\n",
    "                                   stop_words= stop_words, # Especifica las stop words\n",
    "                                   lowercase=True)\n",
    "\n",
    "# Ajusta y transforma tus datos de texto\n",
    "X_tfidf = tfidf_vectorizer.fit_transform(texts)\n",
    "\n",
    "\n",
    "# tfidf_matrix es una matriz que contiene las representaciones TF-IDF de tus textos\n",
    "\n",
    "print(X_tfidf.shape)\n",
    "\n",
    "print(\"Vocabulary size:\", len(tfidf_vectorizer.vocabulary_))\n"
   ]
  },
  {
   "cell_type": "markdown",
   "metadata": {},
   "source": [
    "### 3.3 Selección del modelo"
   ]
  },
  {
   "cell_type": "markdown",
   "metadata": {},
   "source": [
    "### Primer modelo"
   ]
  },
  {
   "cell_type": "code",
   "execution_count": 48,
   "metadata": {},
   "outputs": [],
   "source": [
    "tfidf_model = RandomForestClassifier(random_state=3)"
   ]
  },
  {
   "cell_type": "code",
   "execution_count": 49,
   "metadata": {},
   "outputs": [
    {
     "name": "stdout",
     "output_type": "stream",
     "text": [
      "Shape de X_tfidf: (2250, 1)\n",
      "Shape de y_train: (2250,)\n",
      "Shape de y_test: (750,)\n",
      "Ejemplos de y_train: 876     3\n",
      "2518    5\n",
      "2775    5\n",
      "1910    4\n",
      "2776    5\n",
      "2642    5\n",
      "2251    5\n",
      "1442    4\n",
      "1028    4\n",
      "1592    4\n",
      "Name: sdg, dtype: int64\n",
      "Ejemplos de y_test: 1731    4\n",
      "1436    4\n",
      "2611    5\n",
      "2211    5\n",
      "2955    5\n",
      "1247    4\n",
      "777     3\n",
      "1253    4\n",
      "1244    4\n",
      "2180    5\n",
      "Name: sdg, dtype: int64\n"
     ]
    }
   ],
   "source": [
    "print(\"Shape de X_tfidf:\", X_train.shape)\n",
    "print(\"Shape de y_train:\", y_train.shape)\n",
    "print(\"Shape de y_test:\", y_test.shape)\n",
    "print(\"Ejemplos de y_train:\", y_train[:10])  # Imprime las primeras 10 etiquetas\n",
    "print(\"Ejemplos de y_test:\", y_test[:10])    # Imprime las primeras 10 etiquetas"
   ]
  },
  {
   "cell_type": "code",
   "execution_count": 50,
   "metadata": {},
   "outputs": [
    {
     "data": {
      "text/html": [
       "<style>#sk-container-id-1 {color: black;}#sk-container-id-1 pre{padding: 0;}#sk-container-id-1 div.sk-toggleable {background-color: white;}#sk-container-id-1 label.sk-toggleable__label {cursor: pointer;display: block;width: 100%;margin-bottom: 0;padding: 0.3em;box-sizing: border-box;text-align: center;}#sk-container-id-1 label.sk-toggleable__label-arrow:before {content: \"▸\";float: left;margin-right: 0.25em;color: #696969;}#sk-container-id-1 label.sk-toggleable__label-arrow:hover:before {color: black;}#sk-container-id-1 div.sk-estimator:hover label.sk-toggleable__label-arrow:before {color: black;}#sk-container-id-1 div.sk-toggleable__content {max-height: 0;max-width: 0;overflow: hidden;text-align: left;background-color: #f0f8ff;}#sk-container-id-1 div.sk-toggleable__content pre {margin: 0.2em;color: black;border-radius: 0.25em;background-color: #f0f8ff;}#sk-container-id-1 input.sk-toggleable__control:checked~div.sk-toggleable__content {max-height: 200px;max-width: 100%;overflow: auto;}#sk-container-id-1 input.sk-toggleable__control:checked~label.sk-toggleable__label-arrow:before {content: \"▾\";}#sk-container-id-1 div.sk-estimator input.sk-toggleable__control:checked~label.sk-toggleable__label {background-color: #d4ebff;}#sk-container-id-1 div.sk-label input.sk-toggleable__control:checked~label.sk-toggleable__label {background-color: #d4ebff;}#sk-container-id-1 input.sk-hidden--visually {border: 0;clip: rect(1px 1px 1px 1px);clip: rect(1px, 1px, 1px, 1px);height: 1px;margin: -1px;overflow: hidden;padding: 0;position: absolute;width: 1px;}#sk-container-id-1 div.sk-estimator {font-family: monospace;background-color: #f0f8ff;border: 1px dotted black;border-radius: 0.25em;box-sizing: border-box;margin-bottom: 0.5em;}#sk-container-id-1 div.sk-estimator:hover {background-color: #d4ebff;}#sk-container-id-1 div.sk-parallel-item::after {content: \"\";width: 100%;border-bottom: 1px solid gray;flex-grow: 1;}#sk-container-id-1 div.sk-label:hover label.sk-toggleable__label {background-color: #d4ebff;}#sk-container-id-1 div.sk-serial::before {content: \"\";position: absolute;border-left: 1px solid gray;box-sizing: border-box;top: 0;bottom: 0;left: 50%;z-index: 0;}#sk-container-id-1 div.sk-serial {display: flex;flex-direction: column;align-items: center;background-color: white;padding-right: 0.2em;padding-left: 0.2em;position: relative;}#sk-container-id-1 div.sk-item {position: relative;z-index: 1;}#sk-container-id-1 div.sk-parallel {display: flex;align-items: stretch;justify-content: center;background-color: white;position: relative;}#sk-container-id-1 div.sk-item::before, #sk-container-id-1 div.sk-parallel-item::before {content: \"\";position: absolute;border-left: 1px solid gray;box-sizing: border-box;top: 0;bottom: 0;left: 50%;z-index: -1;}#sk-container-id-1 div.sk-parallel-item {display: flex;flex-direction: column;z-index: 1;position: relative;background-color: white;}#sk-container-id-1 div.sk-parallel-item:first-child::after {align-self: flex-end;width: 50%;}#sk-container-id-1 div.sk-parallel-item:last-child::after {align-self: flex-start;width: 50%;}#sk-container-id-1 div.sk-parallel-item:only-child::after {width: 0;}#sk-container-id-1 div.sk-dashed-wrapped {border: 1px dashed gray;margin: 0 0.4em 0.5em 0.4em;box-sizing: border-box;padding-bottom: 0.4em;background-color: white;}#sk-container-id-1 div.sk-label label {font-family: monospace;font-weight: bold;display: inline-block;line-height: 1.2em;}#sk-container-id-1 div.sk-label-container {text-align: center;}#sk-container-id-1 div.sk-container {/* jupyter's `normalize.less` sets `[hidden] { display: none; }` but bootstrap.min.css set `[hidden] { display: none !important; }` so we also need the `!important` here to be able to override the default hidden behavior on the sphinx rendered scikit-learn.org. See: https://github.com/scikit-learn/scikit-learn/issues/21755 */display: inline-block !important;position: relative;}#sk-container-id-1 div.sk-text-repr-fallback {display: none;}</style><div id=\"sk-container-id-1\" class=\"sk-top-container\"><div class=\"sk-text-repr-fallback\"><pre>RandomForestClassifier(random_state=3)</pre><b>In a Jupyter environment, please rerun this cell to show the HTML representation or trust the notebook. <br />On GitHub, the HTML representation is unable to render, please try loading this page with nbviewer.org.</b></div><div class=\"sk-container\" hidden><div class=\"sk-item\"><div class=\"sk-estimator sk-toggleable\"><input class=\"sk-toggleable__control sk-hidden--visually\" id=\"sk-estimator-id-1\" type=\"checkbox\" checked><label for=\"sk-estimator-id-1\" class=\"sk-toggleable__label sk-toggleable__label-arrow\">RandomForestClassifier</label><div class=\"sk-toggleable__content\"><pre>RandomForestClassifier(random_state=3)</pre></div></div></div></div></div>"
      ],
      "text/plain": [
       "RandomForestClassifier(random_state=3)"
      ]
     },
     "execution_count": 50,
     "metadata": {},
     "output_type": "execute_result"
    }
   ],
   "source": [
    "tfidf_model.fit(X_tfidf, y_train)"
   ]
  },
  {
   "cell_type": "code",
   "execution_count": 51,
   "metadata": {},
   "outputs": [
    {
     "data": {
      "text/plain": [
       "<Axes: >"
      ]
     },
     "execution_count": 51,
     "metadata": {},
     "output_type": "execute_result"
    },
    {
     "data": {
      "image/png": "[encoded data removed]",
      "text/plain": [
       "<Figure size 1500x1000 with 1 Axes>"
      ]
     },
     "metadata": {},
     "output_type": "display_data"
    }
   ],
   "source": [
    "pd.Series(tfidf_model.feature_importances_, index=tfidf_vectorizer.vocabulary_).sort_values().tail(20).plot.barh(figsize=(15, 10))"
   ]
  },
  {
   "cell_type": "code",
   "execution_count": 52,
   "metadata": {},
   "outputs": [
    {
     "name": "stdout",
     "output_type": "stream",
     "text": [
      "Number of trees: 100\n",
      "Trees depth (mean): 98.02\n"
     ]
    }
   ],
   "source": [
    "tfidf_estimators = tfidf_model.estimators_\n",
    "print(\"Number of trees:\", len(tfidf_estimators))\n",
    "print(\"Trees depth (mean):\", np.mean([tree.get_depth() for tree in tfidf_estimators]))"
   ]
  },
  {
   "cell_type": "code",
   "execution_count": 53,
   "metadata": {},
   "outputs": [],
   "source": [
    "\n",
    "# predicciones en función de las características de entrenamiento vectorizadas\n",
    "y_train_tfidf_predict = tfidf_model.predict(X_tfidf)\n",
    "# predicciones en función de las características de prueba vectorizadas en X_test[\"words\"]\n",
    "y_test_tfidf_predict = tfidf_model.predict(tfidf_vectorizer.transform(X_test[\"words\"]))"
   ]
  },
  {
   "cell_type": "code",
   "execution_count": 54,
   "metadata": {},
   "outputs": [
    {
     "data": {
      "text/plain": [
       "<sklearn.metrics._plot.confusion_matrix.ConfusionMatrixDisplay at 0x292450f10>"
      ]
     },
     "execution_count": 54,
     "metadata": {},
     "output_type": "execute_result"
    },
    {
     "data": {
      "image/png": "[encoded data removed]",
      "text/plain": [
       "<Figure size 640x480 with 2 Axes>"
      ]
     },
     "metadata": {},
     "output_type": "display_data"
    }
   ],
   "source": [
    "ConfusionMatrixDisplay.from_predictions(y_train, y_train_tfidf_predict)"
   ]
  },
  {
   "cell_type": "code",
   "execution_count": 55,
   "metadata": {},
   "outputs": [
    {
     "data": {
      "text/plain": [
       "<sklearn.metrics._plot.confusion_matrix.ConfusionMatrixDisplay at 0x2931083d0>"
      ]
     },
     "execution_count": 55,
     "metadata": {},
     "output_type": "execute_result"
    },
    {
     "data": {
      "image/png": "[encoded data removed]",
      "text/plain": [
       "<Figure size 640x480 with 2 Axes>"
      ]
     },
     "metadata": {},
     "output_type": "display_data"
    }
   ],
   "source": [
    "ConfusionMatrixDisplay.from_predictions(y_test, y_test_tfidf_predict)"
   ]
  },
  {
   "cell_type": "markdown",
   "metadata": {},
   "source": [
    "#### Métricas para del data frame de entrenamiento"
   ]
  },
  {
   "cell_type": "code",
   "execution_count": 56,
   "metadata": {},
   "outputs": [
    {
     "name": "stdout",
     "output_type": "stream",
     "text": [
      "Precision (weighted): 1.0\n",
      "Recall (weighted): 1.0\n",
      "F1 (weighted): 1.0\n"
     ]
    }
   ],
   "source": [
    "print(\"Precision (weighted):\", precision_score(y_train, y_train_tfidf_predict, average='weighted'))\n",
    "print(\"Recall (weighted):\", recall_score(y_train, y_train_tfidf_predict, average='weighted'))\n",
    "print(\"F1 (weighted):\", f1_score(y_train, y_train_tfidf_predict, average='weighted'))\n"
   ]
  },
  {
   "cell_type": "markdown",
   "metadata": {},
   "source": [
    "#### Métricas para de data frame de prueba"
   ]
  },
  {
   "cell_type": "code",
   "execution_count": 57,
   "metadata": {},
   "outputs": [
    {
     "name": "stdout",
     "output_type": "stream",
     "text": [
      "Precision (weighted): 0.9746975593104625\n",
      "Recall (weighted): 0.9746666666666667\n",
      "F1 (weighted): 0.9746717227475639\n"
     ]
    }
   ],
   "source": [
    "print(\"Precision (weighted):\", precision_score(y_test, y_test_tfidf_predict, average='weighted'))\n",
    "print(\"Recall (weighted):\", recall_score(y_test, y_test_tfidf_predict, average='weighted'))\n",
    "print(\"F1 (weighted):\", f1_score(y_test, y_test_tfidf_predict, average='weighted'))"
   ]
  },
  {
   "cell_type": "markdown",
   "metadata": {},
   "source": [
    "### Segundo modelo"
   ]
  },
  {
   "cell_type": "code",
   "execution_count": 58,
   "metadata": {},
   "outputs": [],
   "source": [
    "X_train_1=X_train\n",
    "X_test_1=X_test\n",
    "y_train_1=y_train\n",
    "y_test_1=y_test"
   ]
  },
  {
   "cell_type": "code",
   "execution_count": 59,
   "metadata": {},
   "outputs": [],
   "source": [
    "parametros_1 = {\n",
    "    \"vectorizer\": TfidfVectorizer(tokenizer=word_tokenize, stop_words=stop_words),\n",
    "    \"vectorizer__lowercase\": True,\n",
    "    \"classifier__n_estimators\": 100,\n",
    "    \"classifier__criterion\": 'gini',\n",
    "    \"classifier__max_depth\": 50\n",
    "}"
   ]
  },
  {
   "cell_type": "code",
   "execution_count": 60,
   "metadata": {},
   "outputs": [],
   "source": [
    "pipeline_1 = Pipeline(steps=[\n",
    "    (\"vectorizer\", parametros_1[\"vectorizer\"]),\n",
    "    (\"classifier\", RandomForestClassifier(\n",
    "        n_estimators=parametros_1[\"classifier__n_estimators\"],\n",
    "        criterion=parametros_1[\"classifier__criterion\"],\n",
    "        max_depth=parametros_1[\"classifier__max_depth\"],\n",
    "        random_state=4\n",
    "    ))\n",
    "])"
   ]
  },
  {
   "cell_type": "code",
   "execution_count": 61,
   "metadata": {},
   "outputs": [
    {
     "data": {
      "text/html": [
       "<style>#sk-container-id-2 {color: black;}#sk-container-id-2 pre{padding: 0;}#sk-container-id-2 div.sk-toggleable {background-color: white;}#sk-container-id-2 label.sk-toggleable__label {cursor: pointer;display: block;width: 100%;margin-bottom: 0;padding: 0.3em;box-sizing: border-box;text-align: center;}#sk-container-id-2 label.sk-toggleable__label-arrow:before {content: \"▸\";float: left;margin-right: 0.25em;color: #696969;}#sk-container-id-2 label.sk-toggleable__label-arrow:hover:before {color: black;}#sk-container-id-2 div.sk-estimator:hover label.sk-toggleable__label-arrow:before {color: black;}#sk-container-id-2 div.sk-toggleable__content {max-height: 0;max-width: 0;overflow: hidden;text-align: left;background-color: #f0f8ff;}#sk-container-id-2 div.sk-toggleable__content pre {margin: 0.2em;color: black;border-radius: 0.25em;background-color: #f0f8ff;}#sk-container-id-2 input.sk-toggleable__control:checked~div.sk-toggleable__content {max-height: 200px;max-width: 100%;overflow: auto;}#sk-container-id-2 input.sk-toggleable__control:checked~label.sk-toggleable__label-arrow:before {content: \"▾\";}#sk-container-id-2 div.sk-estimator input.sk-toggleable__control:checked~label.sk-toggleable__label {background-color: #d4ebff;}#sk-container-id-2 div.sk-label input.sk-toggleable__control:checked~label.sk-toggleable__label {background-color: #d4ebff;}#sk-container-id-2 input.sk-hidden--visually {border: 0;clip: rect(1px 1px 1px 1px);clip: rect(1px, 1px, 1px, 1px);height: 1px;margin: -1px;overflow: hidden;padding: 0;position: absolute;width: 1px;}#sk-container-id-2 div.sk-estimator {font-family: monospace;background-color: #f0f8ff;border: 1px dotted black;border-radius: 0.25em;box-sizing: border-box;margin-bottom: 0.5em;}#sk-container-id-2 div.sk-estimator:hover {background-color: #d4ebff;}#sk-container-id-2 div.sk-parallel-item::after {content: \"\";width: 100%;border-bottom: 1px solid gray;flex-grow: 1;}#sk-container-id-2 div.sk-label:hover label.sk-toggleable__label {background-color: #d4ebff;}#sk-container-id-2 div.sk-serial::before {content: \"\";position: absolute;border-left: 1px solid gray;box-sizing: border-box;top: 0;bottom: 0;left: 50%;z-index: 0;}#sk-container-id-2 div.sk-serial {display: flex;flex-direction: column;align-items: center;background-color: white;padding-right: 0.2em;padding-left: 0.2em;position: relative;}#sk-container-id-2 div.sk-item {position: relative;z-index: 1;}#sk-container-id-2 div.sk-parallel {display: flex;align-items: stretch;justify-content: center;background-color: white;position: relative;}#sk-container-id-2 div.sk-item::before, #sk-container-id-2 div.sk-parallel-item::before {content: \"\";position: absolute;border-left: 1px solid gray;box-sizing: border-box;top: 0;bottom: 0;left: 50%;z-index: -1;}#sk-container-id-2 div.sk-parallel-item {display: flex;flex-direction: column;z-index: 1;position: relative;background-color: white;}#sk-container-id-2 div.sk-parallel-item:first-child::after {align-self: flex-end;width: 50%;}#sk-container-id-2 div.sk-parallel-item:last-child::after {align-self: flex-start;width: 50%;}#sk-container-id-2 div.sk-parallel-item:only-child::after {width: 0;}#sk-container-id-2 div.sk-dashed-wrapped {border: 1px dashed gray;margin: 0 0.4em 0.5em 0.4em;box-sizing: border-box;padding-bottom: 0.4em;background-color: white;}#sk-container-id-2 div.sk-label label {font-family: monospace;font-weight: bold;display: inline-block;line-height: 1.2em;}#sk-container-id-2 div.sk-label-container {text-align: center;}#sk-container-id-2 div.sk-container {/* jupyter's `normalize.less` sets `[hidden] { display: none; }` but bootstrap.min.css set `[hidden] { display: none !important; }` so we also need the `!important` here to be able to override the default hidden behavior on the sphinx rendered scikit-learn.org. See: https://github.com/scikit-learn/scikit-learn/issues/21755 */display: inline-block !important;position: relative;}#sk-container-id-2 div.sk-text-repr-fallback {display: none;}</style><div id=\"sk-container-id-2\" class=\"sk-top-container\"><div class=\"sk-text-repr-fallback\"><pre>Pipeline(steps=[(&#x27;vectorizer&#x27;,\n",
       "                 TfidfVectorizer(stop_words=[&#x27;de&#x27;, &#x27;la&#x27;, &#x27;que&#x27;, &#x27;el&#x27;, &#x27;en&#x27;, &#x27;y&#x27;,\n",
       "                                             &#x27;a&#x27;, &#x27;los&#x27;, &#x27;del&#x27;, &#x27;se&#x27;, &#x27;las&#x27;,\n",
       "                                             &#x27;por&#x27;, &#x27;un&#x27;, &#x27;para&#x27;, &#x27;con&#x27;, &#x27;no&#x27;,\n",
       "                                             &#x27;una&#x27;, &#x27;su&#x27;, &#x27;al&#x27;, &#x27;lo&#x27;, &#x27;como&#x27;,\n",
       "                                             &#x27;más&#x27;, &#x27;pero&#x27;, &#x27;sus&#x27;, &#x27;le&#x27;, &#x27;ya&#x27;,\n",
       "                                             &#x27;o&#x27;, &#x27;este&#x27;, &#x27;sí&#x27;, &#x27;porque&#x27;, ...],\n",
       "                                 tokenizer=&lt;function word_tokenize at 0x119481240&gt;)),\n",
       "                (&#x27;classifier&#x27;,\n",
       "                 RandomForestClassifier(max_depth=50, random_state=4))])</pre><b>In a Jupyter environment, please rerun this cell to show the HTML representation or trust the notebook. <br />On GitHub, the HTML representation is unable to render, please try loading this page with nbviewer.org.</b></div><div class=\"sk-container\" hidden><div class=\"sk-item sk-dashed-wrapped\"><div class=\"sk-label-container\"><div class=\"sk-label sk-toggleable\"><input class=\"sk-toggleable__control sk-hidden--visually\" id=\"sk-estimator-id-2\" type=\"checkbox\" ><label for=\"sk-estimator-id-2\" class=\"sk-toggleable__label sk-toggleable__label-arrow\">Pipeline</label><div class=\"sk-toggleable__content\"><pre>Pipeline(steps=[(&#x27;vectorizer&#x27;,\n",
       "                 TfidfVectorizer(stop_words=[&#x27;de&#x27;, &#x27;la&#x27;, &#x27;que&#x27;, &#x27;el&#x27;, &#x27;en&#x27;, &#x27;y&#x27;,\n",
       "                                             &#x27;a&#x27;, &#x27;los&#x27;, &#x27;del&#x27;, &#x27;se&#x27;, &#x27;las&#x27;,\n",
       "                                             &#x27;por&#x27;, &#x27;un&#x27;, &#x27;para&#x27;, &#x27;con&#x27;, &#x27;no&#x27;,\n",
       "                                             &#x27;una&#x27;, &#x27;su&#x27;, &#x27;al&#x27;, &#x27;lo&#x27;, &#x27;como&#x27;,\n",
       "                                             &#x27;más&#x27;, &#x27;pero&#x27;, &#x27;sus&#x27;, &#x27;le&#x27;, &#x27;ya&#x27;,\n",
       "                                             &#x27;o&#x27;, &#x27;este&#x27;, &#x27;sí&#x27;, &#x27;porque&#x27;, ...],\n",
       "                                 tokenizer=&lt;function word_tokenize at 0x119481240&gt;)),\n",
       "                (&#x27;classifier&#x27;,\n",
       "                 RandomForestClassifier(max_depth=50, random_state=4))])</pre></div></div></div><div class=\"sk-serial\"><div class=\"sk-item\"><div class=\"sk-estimator sk-toggleable\"><input class=\"sk-toggleable__control sk-hidden--visually\" id=\"sk-estimator-id-3\" type=\"checkbox\" ><label for=\"sk-estimator-id-3\" class=\"sk-toggleable__label sk-toggleable__label-arrow\">TfidfVectorizer</label><div class=\"sk-toggleable__content\"><pre>TfidfVectorizer(stop_words=[&#x27;de&#x27;, &#x27;la&#x27;, &#x27;que&#x27;, &#x27;el&#x27;, &#x27;en&#x27;, &#x27;y&#x27;, &#x27;a&#x27;, &#x27;los&#x27;,\n",
       "                            &#x27;del&#x27;, &#x27;se&#x27;, &#x27;las&#x27;, &#x27;por&#x27;, &#x27;un&#x27;, &#x27;para&#x27;, &#x27;con&#x27;,\n",
       "                            &#x27;no&#x27;, &#x27;una&#x27;, &#x27;su&#x27;, &#x27;al&#x27;, &#x27;lo&#x27;, &#x27;como&#x27;, &#x27;más&#x27;,\n",
       "                            &#x27;pero&#x27;, &#x27;sus&#x27;, &#x27;le&#x27;, &#x27;ya&#x27;, &#x27;o&#x27;, &#x27;este&#x27;, &#x27;sí&#x27;,\n",
       "                            &#x27;porque&#x27;, ...],\n",
       "                tokenizer=&lt;function word_tokenize at 0x119481240&gt;)</pre></div></div></div><div class=\"sk-item\"><div class=\"sk-estimator sk-toggleable\"><input class=\"sk-toggleable__control sk-hidden--visually\" id=\"sk-estimator-id-4\" type=\"checkbox\" ><label for=\"sk-estimator-id-4\" class=\"sk-toggleable__label sk-toggleable__label-arrow\">RandomForestClassifier</label><div class=\"sk-toggleable__content\"><pre>RandomForestClassifier(max_depth=50, random_state=4)</pre></div></div></div></div></div></div></div>"
      ],
      "text/plain": [
       "Pipeline(steps=[('vectorizer',\n",
       "                 TfidfVectorizer(stop_words=['de', 'la', 'que', 'el', 'en', 'y',\n",
       "                                             'a', 'los', 'del', 'se', 'las',\n",
       "                                             'por', 'un', 'para', 'con', 'no',\n",
       "                                             'una', 'su', 'al', 'lo', 'como',\n",
       "                                             'más', 'pero', 'sus', 'le', 'ya',\n",
       "                                             'o', 'este', 'sí', 'porque', ...],\n",
       "                                 tokenizer=<function word_tokenize at 0x119481240>)),\n",
       "                ('classifier',\n",
       "                 RandomForestClassifier(max_depth=50, random_state=4))])"
      ]
     },
     "execution_count": 61,
     "metadata": {},
     "output_type": "execute_result"
    }
   ],
   "source": [
    "# Entrena el modelo con tus datos\n",
    "pipeline_1.fit(X_train_1[\"words\"], y_train_1)"
   ]
  },
  {
   "cell_type": "code",
   "execution_count": 62,
   "metadata": {},
   "outputs": [],
   "source": [
    "# Realizar predicciones en los conjuntos de entrenamiento y prueba\n",
    "y_train_predict_1 = pipeline_1.predict(X_train_1[\"words\"])\n",
    "y_test_predict_1 = pipeline_1.predict(X_test_1[\"words\"])"
   ]
  },
  {
   "cell_type": "code",
   "execution_count": 63,
   "metadata": {},
   "outputs": [
    {
     "name": "stdout",
     "output_type": "stream",
     "text": [
      "Precision (weighted): 0.9991134751773049\n",
      "Recall (weighted): 0.9991111111111111\n",
      "F1 (weighted): 0.9991114064206734\n"
     ]
    }
   ],
   "source": [
    "print(\"Precision (weighted):\", precision_score(y_train_1, y_train_predict_1, average='weighted'))\n",
    "print(\"Recall (weighted):\", recall_score(y_train_1, y_train_predict_1, average='weighted'))\n",
    "print(\"F1 (weighted):\", f1_score(y_train_1, y_train_predict_1, average='weighted'))"
   ]
  },
  {
   "cell_type": "code",
   "execution_count": 64,
   "metadata": {},
   "outputs": [
    {
     "name": "stdout",
     "output_type": "stream",
     "text": [
      "Precision (weighted): 0.9721706579464988\n",
      "Recall (weighted): 0.972\n",
      "F1 (weighted): 0.9720136869463488\n"
     ]
    }
   ],
   "source": [
    "print(\"Precision (weighted):\", precision_score(y_test_1, y_test_predict_1, average='weighted'))\n",
    "print(\"Recall (weighted):\", recall_score(y_test_1, y_test_predict_1, average='weighted'))\n",
    "print(\"F1 (weighted):\", f1_score(y_test_1, y_test_predict_1, average='weighted'))"
   ]
  },
  {
   "cell_type": "markdown",
   "metadata": {},
   "source": [
    "#### Tercer Modelo"
   ]
  },
  {
   "cell_type": "code",
   "execution_count": 65,
   "metadata": {},
   "outputs": [],
   "source": [
    "X_train_2=X_train\n",
    "X_test_2=X_test\n",
    "y_train_2=y_train\n",
    "y_test_2=y_test"
   ]
  },
  {
   "cell_type": "code",
   "execution_count": 66,
   "metadata": {},
   "outputs": [],
   "source": [
    "parametros_2 = {\n",
    "    \"vectorizer\": TfidfVectorizer(tokenizer=word_tokenize, stop_words=stop_words),\n",
    "    \"vectorizer__lowercase\": True,\n",
    "    \"classifier__n_estimators\": 300,\n",
    "    \"classifier__criterion\": 'gini',\n",
    "    \"classifier__max_depth\": 100\n",
    "}"
   ]
  },
  {
   "cell_type": "code",
   "execution_count": 67,
   "metadata": {},
   "outputs": [],
   "source": [
    "pipeline_2 = Pipeline(steps=[\n",
    "    (\"vectorizer\", parametros_2[\"vectorizer\"]),\n",
    "    (\"classifier\", RandomForestClassifier(\n",
    "        n_estimators=parametros_2[\"classifier__n_estimators\"],\n",
    "        criterion=parametros_2[\"classifier__criterion\"],\n",
    "        max_depth=parametros_2[\"classifier__max_depth\"],\n",
    "        random_state=4\n",
    "    ))\n",
    "])"
   ]
  },
  {
   "cell_type": "code",
   "execution_count": 68,
   "metadata": {},
   "outputs": [
    {
     "data": {
      "text/html": [
       "<style>#sk-container-id-3 {color: black;}#sk-container-id-3 pre{padding: 0;}#sk-container-id-3 div.sk-toggleable {background-color: white;}#sk-container-id-3 label.sk-toggleable__label {cursor: pointer;display: block;width: 100%;margin-bottom: 0;padding: 0.3em;box-sizing: border-box;text-align: center;}#sk-container-id-3 label.sk-toggleable__label-arrow:before {content: \"▸\";float: left;margin-right: 0.25em;color: #696969;}#sk-container-id-3 label.sk-toggleable__label-arrow:hover:before {color: black;}#sk-container-id-3 div.sk-estimator:hover label.sk-toggleable__label-arrow:before {color: black;}#sk-container-id-3 div.sk-toggleable__content {max-height: 0;max-width: 0;overflow: hidden;text-align: left;background-color: #f0f8ff;}#sk-container-id-3 div.sk-toggleable__content pre {margin: 0.2em;color: black;border-radius: 0.25em;background-color: #f0f8ff;}#sk-container-id-3 input.sk-toggleable__control:checked~div.sk-toggleable__content {max-height: 200px;max-width: 100%;overflow: auto;}#sk-container-id-3 input.sk-toggleable__control:checked~label.sk-toggleable__label-arrow:before {content: \"▾\";}#sk-container-id-3 div.sk-estimator input.sk-toggleable__control:checked~label.sk-toggleable__label {background-color: #d4ebff;}#sk-container-id-3 div.sk-label input.sk-toggleable__control:checked~label.sk-toggleable__label {background-color: #d4ebff;}#sk-container-id-3 input.sk-hidden--visually {border: 0;clip: rect(1px 1px 1px 1px);clip: rect(1px, 1px, 1px, 1px);height: 1px;margin: -1px;overflow: hidden;padding: 0;position: absolute;width: 1px;}#sk-container-id-3 div.sk-estimator {font-family: monospace;background-color: #f0f8ff;border: 1px dotted black;border-radius: 0.25em;box-sizing: border-box;margin-bottom: 0.5em;}#sk-container-id-3 div.sk-estimator:hover {background-color: #d4ebff;}#sk-container-id-3 div.sk-parallel-item::after {content: \"\";width: 100%;border-bottom: 1px solid gray;flex-grow: 1;}#sk-container-id-3 div.sk-label:hover label.sk-toggleable__label {background-color: #d4ebff;}#sk-container-id-3 div.sk-serial::before {content: \"\";position: absolute;border-left: 1px solid gray;box-sizing: border-box;top: 0;bottom: 0;left: 50%;z-index: 0;}#sk-container-id-3 div.sk-serial {display: flex;flex-direction: column;align-items: center;background-color: white;padding-right: 0.2em;padding-left: 0.2em;position: relative;}#sk-container-id-3 div.sk-item {position: relative;z-index: 1;}#sk-container-id-3 div.sk-parallel {display: flex;align-items: stretch;justify-content: center;background-color: white;position: relative;}#sk-container-id-3 div.sk-item::before, #sk-container-id-3 div.sk-parallel-item::before {content: \"\";position: absolute;border-left: 1px solid gray;box-sizing: border-box;top: 0;bottom: 0;left: 50%;z-index: -1;}#sk-container-id-3 div.sk-parallel-item {display: flex;flex-direction: column;z-index: 1;position: relative;background-color: white;}#sk-container-id-3 div.sk-parallel-item:first-child::after {align-self: flex-end;width: 50%;}#sk-container-id-3 div.sk-parallel-item:last-child::after {align-self: flex-start;width: 50%;}#sk-container-id-3 div.sk-parallel-item:only-child::after {width: 0;}#sk-container-id-3 div.sk-dashed-wrapped {border: 1px dashed gray;margin: 0 0.4em 0.5em 0.4em;box-sizing: border-box;padding-bottom: 0.4em;background-color: white;}#sk-container-id-3 div.sk-label label {font-family: monospace;font-weight: bold;display: inline-block;line-height: 1.2em;}#sk-container-id-3 div.sk-label-container {text-align: center;}#sk-container-id-3 div.sk-container {/* jupyter's `normalize.less` sets `[hidden] { display: none; }` but bootstrap.min.css set `[hidden] { display: none !important; }` so we also need the `!important` here to be able to override the default hidden behavior on the sphinx rendered scikit-learn.org. See: https://github.com/scikit-learn/scikit-learn/issues/21755 */display: inline-block !important;position: relative;}#sk-container-id-3 div.sk-text-repr-fallback {display: none;}</style><div id=\"sk-container-id-3\" class=\"sk-top-container\"><div class=\"sk-text-repr-fallback\"><pre>Pipeline(steps=[(&#x27;vectorizer&#x27;,\n",
       "                 TfidfVectorizer(stop_words=[&#x27;de&#x27;, &#x27;la&#x27;, &#x27;que&#x27;, &#x27;el&#x27;, &#x27;en&#x27;, &#x27;y&#x27;,\n",
       "                                             &#x27;a&#x27;, &#x27;los&#x27;, &#x27;del&#x27;, &#x27;se&#x27;, &#x27;las&#x27;,\n",
       "                                             &#x27;por&#x27;, &#x27;un&#x27;, &#x27;para&#x27;, &#x27;con&#x27;, &#x27;no&#x27;,\n",
       "                                             &#x27;una&#x27;, &#x27;su&#x27;, &#x27;al&#x27;, &#x27;lo&#x27;, &#x27;como&#x27;,\n",
       "                                             &#x27;más&#x27;, &#x27;pero&#x27;, &#x27;sus&#x27;, &#x27;le&#x27;, &#x27;ya&#x27;,\n",
       "                                             &#x27;o&#x27;, &#x27;este&#x27;, &#x27;sí&#x27;, &#x27;porque&#x27;, ...],\n",
       "                                 tokenizer=&lt;function word_tokenize at 0x119481240&gt;)),\n",
       "                (&#x27;classifier&#x27;,\n",
       "                 RandomForestClassifier(max_depth=100, n_estimators=300,\n",
       "                                        random_state=4))])</pre><b>In a Jupyter environment, please rerun this cell to show the HTML representation or trust the notebook. <br />On GitHub, the HTML representation is unable to render, please try loading this page with nbviewer.org.</b></div><div class=\"sk-container\" hidden><div class=\"sk-item sk-dashed-wrapped\"><div class=\"sk-label-container\"><div class=\"sk-label sk-toggleable\"><input class=\"sk-toggleable__control sk-hidden--visually\" id=\"sk-estimator-id-5\" type=\"checkbox\" ><label for=\"sk-estimator-id-5\" class=\"sk-toggleable__label sk-toggleable__label-arrow\">Pipeline</label><div class=\"sk-toggleable__content\"><pre>Pipeline(steps=[(&#x27;vectorizer&#x27;,\n",
       "                 TfidfVectorizer(stop_words=[&#x27;de&#x27;, &#x27;la&#x27;, &#x27;que&#x27;, &#x27;el&#x27;, &#x27;en&#x27;, &#x27;y&#x27;,\n",
       "                                             &#x27;a&#x27;, &#x27;los&#x27;, &#x27;del&#x27;, &#x27;se&#x27;, &#x27;las&#x27;,\n",
       "                                             &#x27;por&#x27;, &#x27;un&#x27;, &#x27;para&#x27;, &#x27;con&#x27;, &#x27;no&#x27;,\n",
       "                                             &#x27;una&#x27;, &#x27;su&#x27;, &#x27;al&#x27;, &#x27;lo&#x27;, &#x27;como&#x27;,\n",
       "                                             &#x27;más&#x27;, &#x27;pero&#x27;, &#x27;sus&#x27;, &#x27;le&#x27;, &#x27;ya&#x27;,\n",
       "                                             &#x27;o&#x27;, &#x27;este&#x27;, &#x27;sí&#x27;, &#x27;porque&#x27;, ...],\n",
       "                                 tokenizer=&lt;function word_tokenize at 0x119481240&gt;)),\n",
       "                (&#x27;classifier&#x27;,\n",
       "                 RandomForestClassifier(max_depth=100, n_estimators=300,\n",
       "                                        random_state=4))])</pre></div></div></div><div class=\"sk-serial\"><div class=\"sk-item\"><div class=\"sk-estimator sk-toggleable\"><input class=\"sk-toggleable__control sk-hidden--visually\" id=\"sk-estimator-id-6\" type=\"checkbox\" ><label for=\"sk-estimator-id-6\" class=\"sk-toggleable__label sk-toggleable__label-arrow\">TfidfVectorizer</label><div class=\"sk-toggleable__content\"><pre>TfidfVectorizer(stop_words=[&#x27;de&#x27;, &#x27;la&#x27;, &#x27;que&#x27;, &#x27;el&#x27;, &#x27;en&#x27;, &#x27;y&#x27;, &#x27;a&#x27;, &#x27;los&#x27;,\n",
       "                            &#x27;del&#x27;, &#x27;se&#x27;, &#x27;las&#x27;, &#x27;por&#x27;, &#x27;un&#x27;, &#x27;para&#x27;, &#x27;con&#x27;,\n",
       "                            &#x27;no&#x27;, &#x27;una&#x27;, &#x27;su&#x27;, &#x27;al&#x27;, &#x27;lo&#x27;, &#x27;como&#x27;, &#x27;más&#x27;,\n",
       "                            &#x27;pero&#x27;, &#x27;sus&#x27;, &#x27;le&#x27;, &#x27;ya&#x27;, &#x27;o&#x27;, &#x27;este&#x27;, &#x27;sí&#x27;,\n",
       "                            &#x27;porque&#x27;, ...],\n",
       "                tokenizer=&lt;function word_tokenize at 0x119481240&gt;)</pre></div></div></div><div class=\"sk-item\"><div class=\"sk-estimator sk-toggleable\"><input class=\"sk-toggleable__control sk-hidden--visually\" id=\"sk-estimator-id-7\" type=\"checkbox\" ><label for=\"sk-estimator-id-7\" class=\"sk-toggleable__label sk-toggleable__label-arrow\">RandomForestClassifier</label><div class=\"sk-toggleable__content\"><pre>RandomForestClassifier(max_depth=100, n_estimators=300, random_state=4)</pre></div></div></div></div></div></div></div>"
      ],
      "text/plain": [
       "Pipeline(steps=[('vectorizer',\n",
       "                 TfidfVectorizer(stop_words=['de', 'la', 'que', 'el', 'en', 'y',\n",
       "                                             'a', 'los', 'del', 'se', 'las',\n",
       "                                             'por', 'un', 'para', 'con', 'no',\n",
       "                                             'una', 'su', 'al', 'lo', 'como',\n",
       "                                             'más', 'pero', 'sus', 'le', 'ya',\n",
       "                                             'o', 'este', 'sí', 'porque', ...],\n",
       "                                 tokenizer=<function word_tokenize at 0x119481240>)),\n",
       "                ('classifier',\n",
       "                 RandomForestClassifier(max_depth=100, n_estimators=300,\n",
       "                                        random_state=4))])"
      ]
     },
     "execution_count": 68,
     "metadata": {},
     "output_type": "execute_result"
    }
   ],
   "source": [
    "# Entrena el modelo con tus datos\n",
    "pipeline_2.fit(X_train_2[\"words\"], y_train_2)"
   ]
  },
  {
   "cell_type": "code",
   "execution_count": 69,
   "metadata": {},
   "outputs": [],
   "source": [
    "# Realizar predicciones en los conjuntos de entrenamiento y prueba\n",
    "y_train_predict_2 = pipeline_2.predict(X_train_2[\"words\"])\n",
    "y_test_predict_2 = pipeline_2.predict(X_test_2[\"words\"])"
   ]
  },
  {
   "cell_type": "code",
   "execution_count": 70,
   "metadata": {},
   "outputs": [
    {
     "name": "stdout",
     "output_type": "stream",
     "text": [
      "Precision (weighted): 1.0\n",
      "Recall (weighted): 1.0\n",
      "F1 (weighted): 1.0\n"
     ]
    }
   ],
   "source": [
    "print(\"Precision (weighted):\", precision_score(y_train_2, y_train_predict_2, average='weighted'))\n",
    "print(\"Recall (weighted):\", recall_score(y_train_2, y_train_predict_2, average='weighted'))\n",
    "print(\"F1 (weighted):\", f1_score(y_train_2, y_train_predict_2, average='weighted'))"
   ]
  },
  {
   "cell_type": "code",
   "execution_count": 71,
   "metadata": {},
   "outputs": [
    {
     "name": "stdout",
     "output_type": "stream",
     "text": [
      "Precision (weighted): 0.9734600361410509\n",
      "Recall (weighted): 0.9733333333333334\n",
      "F1 (weighted): 0.9733479008369674\n"
     ]
    }
   ],
   "source": [
    "print(\"Precision (weighted):\", precision_score(y_test_2, y_test_predict_2, average='weighted'))\n",
    "print(\"Recall (weighted):\", recall_score(y_test_2, y_test_predict_2, average='weighted'))\n",
    "print(\"F1 (weighted):\", f1_score(y_test_2, y_test_predict_2, average='weighted'))"
   ]
  },
  {
   "cell_type": "markdown",
   "metadata": {},
   "source": [
    "#### Cuarto modelo"
   ]
  },
  {
   "cell_type": "code",
   "execution_count": 72,
   "metadata": {},
   "outputs": [],
   "source": [
    "X_train_3=X_train\n",
    "X_test_3=X_test\n",
    "y_train_3=y_train\n",
    "y_test_3=y_test"
   ]
  },
  {
   "cell_type": "code",
   "execution_count": 73,
   "metadata": {},
   "outputs": [],
   "source": [
    "parametros_3 = {\n",
    "    \"vectorizer\": TfidfVectorizer(tokenizer=word_tokenize, stop_words=stop_words),\n",
    "    \"vectorizer__lowercase\": False,\n",
    "    \"classifier__n_estimators\": 350,\n",
    "    \"classifier__criterion\": 'gini',\n",
    "    \"classifier__max_depth\": 100\n",
    "}"
   ]
  },
  {
   "cell_type": "code",
   "execution_count": 74,
   "metadata": {},
   "outputs": [],
   "source": [
    "pipeline_3 = Pipeline(steps=[\n",
    "    (\"vectorizer\", parametros_3[\"vectorizer\"]),\n",
    "    (\"classifier\", RandomForestClassifier(\n",
    "        n_estimators=parametros_3[\"classifier__n_estimators\"],\n",
    "        criterion=parametros_3[\"classifier__criterion\"],\n",
    "        max_depth=parametros_3[\"classifier__max_depth\"],\n",
    "        random_state=4\n",
    "    ))\n",
    "])"
   ]
  },
  {
   "cell_type": "code",
   "execution_count": 75,
   "metadata": {},
   "outputs": [
    {
     "data": {
      "text/html": [
       "<style>#sk-container-id-4 {color: black;}#sk-container-id-4 pre{padding: 0;}#sk-container-id-4 div.sk-toggleable {background-color: white;}#sk-container-id-4 label.sk-toggleable__label {cursor: pointer;display: block;width: 100%;margin-bottom: 0;padding: 0.3em;box-sizing: border-box;text-align: center;}#sk-container-id-4 label.sk-toggleable__label-arrow:before {content: \"▸\";float: left;margin-right: 0.25em;color: #696969;}#sk-container-id-4 label.sk-toggleable__label-arrow:hover:before {color: black;}#sk-container-id-4 div.sk-estimator:hover label.sk-toggleable__label-arrow:before {color: black;}#sk-container-id-4 div.sk-toggleable__content {max-height: 0;max-width: 0;overflow: hidden;text-align: left;background-color: #f0f8ff;}#sk-container-id-4 div.sk-toggleable__content pre {margin: 0.2em;color: black;border-radius: 0.25em;background-color: #f0f8ff;}#sk-container-id-4 input.sk-toggleable__control:checked~div.sk-toggleable__content {max-height: 200px;max-width: 100%;overflow: auto;}#sk-container-id-4 input.sk-toggleable__control:checked~label.sk-toggleable__label-arrow:before {content: \"▾\";}#sk-container-id-4 div.sk-estimator input.sk-toggleable__control:checked~label.sk-toggleable__label {background-color: #d4ebff;}#sk-container-id-4 div.sk-label input.sk-toggleable__control:checked~label.sk-toggleable__label {background-color: #d4ebff;}#sk-container-id-4 input.sk-hidden--visually {border: 0;clip: rect(1px 1px 1px 1px);clip: rect(1px, 1px, 1px, 1px);height: 1px;margin: -1px;overflow: hidden;padding: 0;position: absolute;width: 1px;}#sk-container-id-4 div.sk-estimator {font-family: monospace;background-color: #f0f8ff;border: 1px dotted black;border-radius: 0.25em;box-sizing: border-box;margin-bottom: 0.5em;}#sk-container-id-4 div.sk-estimator:hover {background-color: #d4ebff;}#sk-container-id-4 div.sk-parallel-item::after {content: \"\";width: 100%;border-bottom: 1px solid gray;flex-grow: 1;}#sk-container-id-4 div.sk-label:hover label.sk-toggleable__label {background-color: #d4ebff;}#sk-container-id-4 div.sk-serial::before {content: \"\";position: absolute;border-left: 1px solid gray;box-sizing: border-box;top: 0;bottom: 0;left: 50%;z-index: 0;}#sk-container-id-4 div.sk-serial {display: flex;flex-direction: column;align-items: center;background-color: white;padding-right: 0.2em;padding-left: 0.2em;position: relative;}#sk-container-id-4 div.sk-item {position: relative;z-index: 1;}#sk-container-id-4 div.sk-parallel {display: flex;align-items: stretch;justify-content: center;background-color: white;position: relative;}#sk-container-id-4 div.sk-item::before, #sk-container-id-4 div.sk-parallel-item::before {content: \"\";position: absolute;border-left: 1px solid gray;box-sizing: border-box;top: 0;bottom: 0;left: 50%;z-index: -1;}#sk-container-id-4 div.sk-parallel-item {display: flex;flex-direction: column;z-index: 1;position: relative;background-color: white;}#sk-container-id-4 div.sk-parallel-item:first-child::after {align-self: flex-end;width: 50%;}#sk-container-id-4 div.sk-parallel-item:last-child::after {align-self: flex-start;width: 50%;}#sk-container-id-4 div.sk-parallel-item:only-child::after {width: 0;}#sk-container-id-4 div.sk-dashed-wrapped {border: 1px dashed gray;margin: 0 0.4em 0.5em 0.4em;box-sizing: border-box;padding-bottom: 0.4em;background-color: white;}#sk-container-id-4 div.sk-label label {font-family: monospace;font-weight: bold;display: inline-block;line-height: 1.2em;}#sk-container-id-4 div.sk-label-container {text-align: center;}#sk-container-id-4 div.sk-container {/* jupyter's `normalize.less` sets `[hidden] { display: none; }` but bootstrap.min.css set `[hidden] { display: none !important; }` so we also need the `!important` here to be able to override the default hidden behavior on the sphinx rendered scikit-learn.org. See: https://github.com/scikit-learn/scikit-learn/issues/21755 */display: inline-block !important;position: relative;}#sk-container-id-4 div.sk-text-repr-fallback {display: none;}</style><div id=\"sk-container-id-4\" class=\"sk-top-container\"><div class=\"sk-text-repr-fallback\"><pre>Pipeline(steps=[(&#x27;vectorizer&#x27;,\n",
       "                 TfidfVectorizer(stop_words=[&#x27;de&#x27;, &#x27;la&#x27;, &#x27;que&#x27;, &#x27;el&#x27;, &#x27;en&#x27;, &#x27;y&#x27;,\n",
       "                                             &#x27;a&#x27;, &#x27;los&#x27;, &#x27;del&#x27;, &#x27;se&#x27;, &#x27;las&#x27;,\n",
       "                                             &#x27;por&#x27;, &#x27;un&#x27;, &#x27;para&#x27;, &#x27;con&#x27;, &#x27;no&#x27;,\n",
       "                                             &#x27;una&#x27;, &#x27;su&#x27;, &#x27;al&#x27;, &#x27;lo&#x27;, &#x27;como&#x27;,\n",
       "                                             &#x27;más&#x27;, &#x27;pero&#x27;, &#x27;sus&#x27;, &#x27;le&#x27;, &#x27;ya&#x27;,\n",
       "                                             &#x27;o&#x27;, &#x27;este&#x27;, &#x27;sí&#x27;, &#x27;porque&#x27;, ...],\n",
       "                                 tokenizer=&lt;function word_tokenize at 0x119481240&gt;)),\n",
       "                (&#x27;classifier&#x27;,\n",
       "                 RandomForestClassifier(max_depth=100, n_estimators=350,\n",
       "                                        random_state=4))])</pre><b>In a Jupyter environment, please rerun this cell to show the HTML representation or trust the notebook. <br />On GitHub, the HTML representation is unable to render, please try loading this page with nbviewer.org.</b></div><div class=\"sk-container\" hidden><div class=\"sk-item sk-dashed-wrapped\"><div class=\"sk-label-container\"><div class=\"sk-label sk-toggleable\"><input class=\"sk-toggleable__control sk-hidden--visually\" id=\"sk-estimator-id-8\" type=\"checkbox\" ><label for=\"sk-estimator-id-8\" class=\"sk-toggleable__label sk-toggleable__label-arrow\">Pipeline</label><div class=\"sk-toggleable__content\"><pre>Pipeline(steps=[(&#x27;vectorizer&#x27;,\n",
       "                 TfidfVectorizer(stop_words=[&#x27;de&#x27;, &#x27;la&#x27;, &#x27;que&#x27;, &#x27;el&#x27;, &#x27;en&#x27;, &#x27;y&#x27;,\n",
       "                                             &#x27;a&#x27;, &#x27;los&#x27;, &#x27;del&#x27;, &#x27;se&#x27;, &#x27;las&#x27;,\n",
       "                                             &#x27;por&#x27;, &#x27;un&#x27;, &#x27;para&#x27;, &#x27;con&#x27;, &#x27;no&#x27;,\n",
       "                                             &#x27;una&#x27;, &#x27;su&#x27;, &#x27;al&#x27;, &#x27;lo&#x27;, &#x27;como&#x27;,\n",
       "                                             &#x27;más&#x27;, &#x27;pero&#x27;, &#x27;sus&#x27;, &#x27;le&#x27;, &#x27;ya&#x27;,\n",
       "                                             &#x27;o&#x27;, &#x27;este&#x27;, &#x27;sí&#x27;, &#x27;porque&#x27;, ...],\n",
       "                                 tokenizer=&lt;function word_tokenize at 0x119481240&gt;)),\n",
       "                (&#x27;classifier&#x27;,\n",
       "                 RandomForestClassifier(max_depth=100, n_estimators=350,\n",
       "                                        random_state=4))])</pre></div></div></div><div class=\"sk-serial\"><div class=\"sk-item\"><div class=\"sk-estimator sk-toggleable\"><input class=\"sk-toggleable__control sk-hidden--visually\" id=\"sk-estimator-id-9\" type=\"checkbox\" ><label for=\"sk-estimator-id-9\" class=\"sk-toggleable__label sk-toggleable__label-arrow\">TfidfVectorizer</label><div class=\"sk-toggleable__content\"><pre>TfidfVectorizer(stop_words=[&#x27;de&#x27;, &#x27;la&#x27;, &#x27;que&#x27;, &#x27;el&#x27;, &#x27;en&#x27;, &#x27;y&#x27;, &#x27;a&#x27;, &#x27;los&#x27;,\n",
       "                            &#x27;del&#x27;, &#x27;se&#x27;, &#x27;las&#x27;, &#x27;por&#x27;, &#x27;un&#x27;, &#x27;para&#x27;, &#x27;con&#x27;,\n",
       "                            &#x27;no&#x27;, &#x27;una&#x27;, &#x27;su&#x27;, &#x27;al&#x27;, &#x27;lo&#x27;, &#x27;como&#x27;, &#x27;más&#x27;,\n",
       "                            &#x27;pero&#x27;, &#x27;sus&#x27;, &#x27;le&#x27;, &#x27;ya&#x27;, &#x27;o&#x27;, &#x27;este&#x27;, &#x27;sí&#x27;,\n",
       "                            &#x27;porque&#x27;, ...],\n",
       "                tokenizer=&lt;function word_tokenize at 0x119481240&gt;)</pre></div></div></div><div class=\"sk-item\"><div class=\"sk-estimator sk-toggleable\"><input class=\"sk-toggleable__control sk-hidden--visually\" id=\"sk-estimator-id-10\" type=\"checkbox\" ><label for=\"sk-estimator-id-10\" class=\"sk-toggleable__label sk-toggleable__label-arrow\">RandomForestClassifier</label><div class=\"sk-toggleable__content\"><pre>RandomForestClassifier(max_depth=100, n_estimators=350, random_state=4)</pre></div></div></div></div></div></div></div>"
      ],
      "text/plain": [
       "Pipeline(steps=[('vectorizer',\n",
       "                 TfidfVectorizer(stop_words=['de', 'la', 'que', 'el', 'en', 'y',\n",
       "                                             'a', 'los', 'del', 'se', 'las',\n",
       "                                             'por', 'un', 'para', 'con', 'no',\n",
       "                                             'una', 'su', 'al', 'lo', 'como',\n",
       "                                             'más', 'pero', 'sus', 'le', 'ya',\n",
       "                                             'o', 'este', 'sí', 'porque', ...],\n",
       "                                 tokenizer=<function word_tokenize at 0x119481240>)),\n",
       "                ('classifier',\n",
       "                 RandomForestClassifier(max_depth=100, n_estimators=350,\n",
       "                                        random_state=4))])"
      ]
     },
     "execution_count": 75,
     "metadata": {},
     "output_type": "execute_result"
    }
   ],
   "source": [
    "# Entrena el modelo con tus datos\n",
    "pipeline_3.fit(X_train_3[\"words\"], y_train_3)"
   ]
  },
  {
   "cell_type": "code",
   "execution_count": 76,
   "metadata": {},
   "outputs": [],
   "source": [
    "# Realizar predicciones en los conjuntos de entrenamiento y prueba\n",
    "y_train_predict_3 = pipeline_3.predict(X_train_3[\"words\"])\n",
    "y_test_predict_3 = pipeline_3.predict(X_test_3[\"words\"])"
   ]
  },
  {
   "cell_type": "code",
   "execution_count": 77,
   "metadata": {},
   "outputs": [
    {
     "name": "stdout",
     "output_type": "stream",
     "text": [
      "Precision (weighted): 1.0\n",
      "Recall (weighted): 1.0\n",
      "F1 (weighted): 1.0\n"
     ]
    }
   ],
   "source": [
    "print(\"Precision (weighted):\", precision_score(y_train_3, y_train_predict_3, average='weighted'))\n",
    "print(\"Recall (weighted):\", recall_score(y_train_3, y_train_predict_3, average='weighted'))\n",
    "print(\"F1 (weighted):\", f1_score(y_train_3, y_train_predict_3, average='weighted'))"
   ]
  },
  {
   "cell_type": "code",
   "execution_count": 78,
   "metadata": {},
   "outputs": [
    {
     "name": "stdout",
     "output_type": "stream",
     "text": [
      "Precision (weighted): 0.9774848517134365\n",
      "Recall (weighted): 0.9773333333333334\n",
      "F1 (weighted): 0.9773369051026666\n"
     ]
    }
   ],
   "source": [
    "print(\"Precision (weighted):\", precision_score(y_test_3, y_test_predict_3, average='weighted'))\n",
    "print(\"Recall (weighted):\", recall_score(y_test_3, y_test_predict_3, average='weighted'))\n",
    "print(\"F1 (weighted):\", f1_score(y_test_3, y_test_predict_3, average='weighted'))"
   ]
  },
  {
   "cell_type": "markdown",
   "metadata": {},
   "source": [
    "#### Quinto modelo"
   ]
  },
  {
   "cell_type": "code",
   "execution_count": 79,
   "metadata": {},
   "outputs": [],
   "source": [
    "X_train_4=X_train\n",
    "X_test_4=X_test\n",
    "y_train_4=y_train\n",
    "y_test_4=y_test"
   ]
  },
  {
   "cell_type": "code",
   "execution_count": 80,
   "metadata": {},
   "outputs": [],
   "source": [
    "tfidf_vectorizer = TfidfVectorizer(tokenizer=word_tokenize, stop_words=stop_words)\n",
    "X_train_tfidf = tfidf_vectorizer.fit_transform(X_train_4[\"words\"])\n",
    "X_test_tfidf = tfidf_vectorizer.transform(X_test_4[\"words\"])\n",
    "# y_test_tfidf = tfidf_vectorizer.transform(y_test_4)\n",
    "# y_train_tfidf = tfidf_vectorizer.transform(y_train_4)"
   ]
  },
  {
   "cell_type": "code",
   "execution_count": 81,
   "metadata": {},
   "outputs": [],
   "source": [
    "tree_model = DecisionTreeClassifier(max_depth=10, random_state=4)"
   ]
  },
  {
   "cell_type": "code",
   "execution_count": 82,
   "metadata": {},
   "outputs": [
    {
     "data": {
      "text/html": [
       "<style>#sk-container-id-5 {color: black;}#sk-container-id-5 pre{padding: 0;}#sk-container-id-5 div.sk-toggleable {background-color: white;}#sk-container-id-5 label.sk-toggleable__label {cursor: pointer;display: block;width: 100%;margin-bottom: 0;padding: 0.3em;box-sizing: border-box;text-align: center;}#sk-container-id-5 label.sk-toggleable__label-arrow:before {content: \"▸\";float: left;margin-right: 0.25em;color: #696969;}#sk-container-id-5 label.sk-toggleable__label-arrow:hover:before {color: black;}#sk-container-id-5 div.sk-estimator:hover label.sk-toggleable__label-arrow:before {color: black;}#sk-container-id-5 div.sk-toggleable__content {max-height: 0;max-width: 0;overflow: hidden;text-align: left;background-color: #f0f8ff;}#sk-container-id-5 div.sk-toggleable__content pre {margin: 0.2em;color: black;border-radius: 0.25em;background-color: #f0f8ff;}#sk-container-id-5 input.sk-toggleable__control:checked~div.sk-toggleable__content {max-height: 200px;max-width: 100%;overflow: auto;}#sk-container-id-5 input.sk-toggleable__control:checked~label.sk-toggleable__label-arrow:before {content: \"▾\";}#sk-container-id-5 div.sk-estimator input.sk-toggleable__control:checked~label.sk-toggleable__label {background-color: #d4ebff;}#sk-container-id-5 div.sk-label input.sk-toggleable__control:checked~label.sk-toggleable__label {background-color: #d4ebff;}#sk-container-id-5 input.sk-hidden--visually {border: 0;clip: rect(1px 1px 1px 1px);clip: rect(1px, 1px, 1px, 1px);height: 1px;margin: -1px;overflow: hidden;padding: 0;position: absolute;width: 1px;}#sk-container-id-5 div.sk-estimator {font-family: monospace;background-color: #f0f8ff;border: 1px dotted black;border-radius: 0.25em;box-sizing: border-box;margin-bottom: 0.5em;}#sk-container-id-5 div.sk-estimator:hover {background-color: #d4ebff;}#sk-container-id-5 div.sk-parallel-item::after {content: \"\";width: 100%;border-bottom: 1px solid gray;flex-grow: 1;}#sk-container-id-5 div.sk-label:hover label.sk-toggleable__label {background-color: #d4ebff;}#sk-container-id-5 div.sk-serial::before {content: \"\";position: absolute;border-left: 1px solid gray;box-sizing: border-box;top: 0;bottom: 0;left: 50%;z-index: 0;}#sk-container-id-5 div.sk-serial {display: flex;flex-direction: column;align-items: center;background-color: white;padding-right: 0.2em;padding-left: 0.2em;position: relative;}#sk-container-id-5 div.sk-item {position: relative;z-index: 1;}#sk-container-id-5 div.sk-parallel {display: flex;align-items: stretch;justify-content: center;background-color: white;position: relative;}#sk-container-id-5 div.sk-item::before, #sk-container-id-5 div.sk-parallel-item::before {content: \"\";position: absolute;border-left: 1px solid gray;box-sizing: border-box;top: 0;bottom: 0;left: 50%;z-index: -1;}#sk-container-id-5 div.sk-parallel-item {display: flex;flex-direction: column;z-index: 1;position: relative;background-color: white;}#sk-container-id-5 div.sk-parallel-item:first-child::after {align-self: flex-end;width: 50%;}#sk-container-id-5 div.sk-parallel-item:last-child::after {align-self: flex-start;width: 50%;}#sk-container-id-5 div.sk-parallel-item:only-child::after {width: 0;}#sk-container-id-5 div.sk-dashed-wrapped {border: 1px dashed gray;margin: 0 0.4em 0.5em 0.4em;box-sizing: border-box;padding-bottom: 0.4em;background-color: white;}#sk-container-id-5 div.sk-label label {font-family: monospace;font-weight: bold;display: inline-block;line-height: 1.2em;}#sk-container-id-5 div.sk-label-container {text-align: center;}#sk-container-id-5 div.sk-container {/* jupyter's `normalize.less` sets `[hidden] { display: none; }` but bootstrap.min.css set `[hidden] { display: none !important; }` so we also need the `!important` here to be able to override the default hidden behavior on the sphinx rendered scikit-learn.org. See: https://github.com/scikit-learn/scikit-learn/issues/21755 */display: inline-block !important;position: relative;}#sk-container-id-5 div.sk-text-repr-fallback {display: none;}</style><div id=\"sk-container-id-5\" class=\"sk-top-container\"><div class=\"sk-text-repr-fallback\"><pre>DecisionTreeClassifier(max_depth=10, random_state=4)</pre><b>In a Jupyter environment, please rerun this cell to show the HTML representation or trust the notebook. <br />On GitHub, the HTML representation is unable to render, please try loading this page with nbviewer.org.</b></div><div class=\"sk-container\" hidden><div class=\"sk-item\"><div class=\"sk-estimator sk-toggleable\"><input class=\"sk-toggleable__control sk-hidden--visually\" id=\"sk-estimator-id-11\" type=\"checkbox\" checked><label for=\"sk-estimator-id-11\" class=\"sk-toggleable__label sk-toggleable__label-arrow\">DecisionTreeClassifier</label><div class=\"sk-toggleable__content\"><pre>DecisionTreeClassifier(max_depth=10, random_state=4)</pre></div></div></div></div></div>"
      ],
      "text/plain": [
       "DecisionTreeClassifier(max_depth=10, random_state=4)"
      ]
     },
     "execution_count": 82,
     "metadata": {},
     "output_type": "execute_result"
    }
   ],
   "source": [
    "tree_model.fit(X_train_tfidf, y_train_4)\n"
   ]
  },
  {
   "cell_type": "code",
   "execution_count": 83,
   "metadata": {},
   "outputs": [],
   "source": [
    "y_train_predict_4 = tree_model.predict(X_train_tfidf)\n",
    "y_test_predict_4 = tree_model.predict(X_test_tfidf)"
   ]
  },
  {
   "cell_type": "code",
   "execution_count": 84,
   "metadata": {},
   "outputs": [
    {
     "name": "stdout",
     "output_type": "stream",
     "text": [
      "Precision (weighted): 0.954462691898449\n",
      "Recall (weighted): 0.9515555555555556\n",
      "F1 (weighted): 0.9519843106683067\n"
     ]
    }
   ],
   "source": [
    "print(\"Precision (weighted):\", precision_score(y_train_4, y_train_predict_4, average='weighted'))\n",
    "print(\"Recall (weighted):\", recall_score(y_train_4, y_train_predict_4, average='weighted'))\n",
    "print(\"F1 (weighted):\", f1_score(y_train_4, y_train_predict_4, average='weighted'))"
   ]
  },
  {
   "cell_type": "markdown",
   "metadata": {},
   "source": [
    "### 4. Generar predicciones"
   ]
  },
  {
   "cell_type": "code",
   "execution_count": 85,
   "metadata": {},
   "outputs": [
    {
     "data": {
      "text/html": [
       "<div>\n",
       "<style scoped>\n",
       "    .dataframe tbody tr th:only-of-type {\n",
       "        vertical-align: middle;\n",
       "    }\n",
       "\n",
       "    .dataframe tbody tr th {\n",
       "        vertical-align: top;\n",
       "    }\n",
       "\n",
       "    .dataframe thead th {\n",
       "        text-align: right;\n",
       "    }\n",
       "</style>\n",
       "<table border=\"1\" class=\"dataframe\">\n",
       "  <thead>\n",
       "    <tr style=\"text-align: right;\">\n",
       "      <th></th>\n",
       "      <th>Textos_espanol</th>\n",
       "      <th>sdg</th>\n",
       "      <th>words</th>\n",
       "    </tr>\n",
       "  </thead>\n",
       "  <tbody>\n",
       "    <tr>\n",
       "      <th>707</th>\n",
       "      <td>Por ejemplo, en promedio en los países de la OCDE, es probable que el 12 % de los niños de 15 años aspiren a una carrera como científico, arquitecto o ingeniero, mientras que solo el 5 % de las niñas hacen lo mismo (OECD, 2016[30]). Del mismo modo, una carrera en tecnologías de la información y la comunicación (TIC) es una aspiración para alrededor del 5% de los niños y menos del 1% de las niñas. Además, las expectativas de los padres sobre las carreras relacionadas con STEM también tienden a diferir significativamente según el género (OCDE, 2015 [3i]). Existe alguna evidencia de que esta brecha ha disminuido recientemente (Ernst &amp; Young (EY), 2018(32)). Aún así, en general, la participación de las mujeres en STEM es significativamente más alta que la participación en el emprendimiento financiado con capital de riesgo. Con respecto al financiamiento de la deuda, las empresarias enfrentan un acceso más limitado al crédito e incluso si reciben financiamiento, se enfrentan a tasas de interés más altas (Bellucci , Borisov y Zazzaro, 2010(33], Alesina, Lotti y Mistrulli, 2013(34]).</td>\n",
       "      <td>NaN</td>\n",
       "      <td>ejemplo promedio paises ocde probable twelve ninos fifteen anos aspiren carrera cientifico arquitecto ingeniero mientras solo five ninas hacen mismo oecd two thousand and sixteen thirty mismo modo carrera tecnologias informacion comunicacion tic aspiracion alrededor five ninos menos one ninas ademas expectativas padres carreras relacionadas stem tambien tienden diferir significativamente segun genero ocde two thousand and fifteen 3i existe alguna evidencia brecha disminuido recientemente ernst young ey two thousand and eighteen thirtytwo aun asi general participacion mujeres stem significativamente mas alta participacion emprendimiento financiado capital riesgo respecto financiamiento deuda empresarias enfrentan acceso mas limitado credito incluso si reciben financiamiento enfrentan tasas interes mas altas bellucci borisov zazzaro two thousand and ten thirtythree alesina lotti mistrulli two thousand and thirteen thirtyfour</td>\n",
       "    </tr>\n",
       "    <tr>\n",
       "      <th>230</th>\n",
       "      <td>Las niñas están en desventaja en las regiones con tasas globales de matriculación bajas, mientras que en las regiones con tasas más altas -como Sudamérica, Centroamérica y el sur de Ãfrica- es al revés. A medida que las expectativas educativas de las niñas aumentan a un ritmo más rápido que las de los niños, también lo hace su rendimiento académico. Una vez que han accedido a la enseñanza superior, las mujeres superan a los hombres en calificaciones, evaluaciones y titulaciones (UNESCO, 2012a). Las regiones están en orden descendente según las tasas de matriculación de 2010.</td>\n",
       "      <td>NaN</td>\n",
       "      <td>ninas estan desventaja regiones tasas globales matriculacion bajas mientras regiones tasas mas altas sudamerica centroamerica sur africa reves medida expectativas educativas ninas aumentan ritmo mas rapido ninos tambien hace rendimiento academico vez accedido ensenanza superior mujeres superan hombres calificaciones evaluaciones titulaciones unesco 2012a regiones estan orden descendente segun tasas matriculacion two thousand and ten</td>\n",
       "    </tr>\n",
       "    <tr>\n",
       "      <th>1495</th>\n",
       "      <td>La Sección 3 investiga estrategias para promover una formación profesional de calidad, incluidos los aprendizajes, mientras que la Sección 4 se centra en el apoyo a los estudiantes en riesgo. Para una descripción más detallada y una evaluación del sistema educativo de Letonia, véase OCDE (2015e). El Ministerio de Educación y Ciencia (MoES) nacional tiene la función de supervisión y, a través del Centro Nacional de Educación subordinado, establece los estándares educativos nacionales y determina los planes de estudio y los procedimientos de examen. Proporciona el marco regulatorio para la provisión de educación vocacional y emplea a los directores de los establecimientos VET.1 También mantiene el registro de estándares ocupacionales y estudia las demandas de habilidades del mercado laboral.</td>\n",
       "      <td>NaN</td>\n",
       "      <td>seccion three investiga estrategias promover formacion profesional calidad incluidos aprendizajes mientras seccion four centra apoyo estudiantes riesgo descripcion mas detallada evaluacion sistema educativo letonia vease ocde 2015e ministerio educacion ciencia moes nacional funcion supervision traves centro nacional educacion subordinado establece estandares educativos nacionales determina planes estudio procedimientos examen proporciona marco regulatorio provision educacion vocacional emplea directores establecimientos vet1 tambien mantiene registro estandares ocupacionales estudia demandas habilidades mercado laboral</td>\n",
       "    </tr>\n",
       "    <tr>\n",
       "      <th>499</th>\n",
       "      <td>Durante la última década, muchos países han desarrollado un enfoque más holístico de la educación al integrar el desarrollo de estas habilidades específicamente en los currículos escolares, fomentando la cooperación entre las escuelas y las comunidades locales e introduciendo reformas importantes en la educación (Recuadro 3.1). Las empresas a menudo están mejor equipadas con las tecnologías más nuevas, e idealmente con las personas que saben cómo usarlas y guiar el aprendizaje, que las instituciones educativas y, por lo tanto, están mejor preparadas para brindar capacitación práctica. Al mismo tiempo, muchas habilidades cognitivas, especialmente la resolución de problemas y las habilidades sociales y emocionales, como la comunicación y la gestión de conflictos, pueden enseñarse y aprenderse con mayor eficacia en los lugares de trabajo que en las aulas.</td>\n",
       "      <td>NaN</td>\n",
       "      <td>ultima decada paises desarrollado enfoque mas holistico educacion integrar desarrollo habilidades especificamente curriculos escolares fomentando cooperacion escuelas comunidades locales introduciendo reformas importantes educacion recuadro 31 empresas menudo estan mejor equipadas tecnologias mas nuevas idealmente personas saben usarlas guiar aprendizaje instituciones educativas estan mejor preparadas brindar capacitacion practica mismo tiempo muchas habilidades cognitivas especialmente resolucion problemas habilidades sociales emocionales comunicacion gestion conflictos pueden ensenarse aprenderse mayor eficacia lugares trabajo aulas</td>\n",
       "    </tr>\n",
       "    <tr>\n",
       "      <th>522</th>\n",
       "      <td>Las entrevistas a nivel regional y nacional revelaron que la falta de materiales de género en idiomas distintos al inglés también planteaba un problema. Gender Net, una red de resolución de problemas e intercambio de información entre pares para el personal del PNUD, se estableció inicialmente como una plataforma basada en correo electrónico y luego se convirtió en una red activa. Además, cada centro regional estableció comunidades de práctica, supervisadas por asesores regionales de género/líderes de práctica, y posteriormente se transfirieron a la plataforma Teamworks. La participación cayó entre un 30% y un 40% de un año a otro según las estadísticas mantenidas por el personal de gestión del conocimiento.</td>\n",
       "      <td>NaN</td>\n",
       "      <td>entrevistas nivel regional nacional revelaron falta materiales genero idiomas distintos ingles tambien planteaba problema gender net red resolucion problemas intercambio informacion pares personal pnud establecio inicialmente plataforma basada correo electronico luego convirtio red activa ademas cada centro regional establecio comunidades practica supervisadas asesores regionales generolideres practica posteriormente transfirieron plataforma teamworks participacion cayo thirty forty ano segun estadisticas mantenidas personal gestion conocimiento</td>\n",
       "    </tr>\n",
       "  </tbody>\n",
       "</table>\n",
       "</div>"
      ],
      "text/plain": [
       "                                                                                                                                                                                                                                                                                                                                                                                                                                                                                                                                                                                                                                                                                                                                                                                                                                                                                                                                                                                                                                                                                                                             Textos_espanol  \\\n",
       "707   Por ejemplo, en promedio en los países de la OCDE, es probable que el 12 % de los niños de 15 años aspiren a una carrera como científico, arquitecto o ingeniero, mientras que solo el 5 % de las niñas hacen lo mismo (OECD, 2016[30]). Del mismo modo, una carrera en tecnologías de la información y la comunicación (TIC) es una aspiración para alrededor del 5% de los niños y menos del 1% de las niñas. Además, las expectativas de los padres sobre las carreras relacionadas con STEM también tienden a diferir significativamente según el género (OCDE, 2015 [3i]). Existe alguna evidencia de que esta brecha ha disminuido recientemente (Ernst & Young (EY), 2018(32)). Aún así, en general, la participación de las mujeres en STEM es significativamente más alta que la participación en el emprendimiento financiado con capital de riesgo. Con respecto al financiamiento de la deuda, las empresarias enfrentan un acceso más limitado al crédito e incluso si reciben financiamiento, se enfrentan a tasas de interés más altas (Bellucci , Borisov y Zazzaro, 2010(33], Alesina, Lotti y Mistrulli, 2013(34]).   \n",
       "230                                                                                                                                                                                                                                                                                                                                                                                                                                                                                                                                   Las niñas están en desventaja en las regiones con tasas globales de matriculación bajas, mientras que en las regiones con tasas más altas -como Sudamérica, Centroamérica y el sur de Ãfrica- es al revés. A medida que las expectativas educativas de las niñas aumentan a un ritmo más rápido que las de los niños, también lo hace su rendimiento académico. Una vez que han accedido a la enseñanza superior, las mujeres superan a los hombres en calificaciones, evaluaciones y titulaciones (UNESCO, 2012a). Las regiones están en orden descendente según las tasas de matriculación de 2010.   \n",
       "1495                                                                                                                                                                                                                                                                                                       La Sección 3 investiga estrategias para promover una formación profesional de calidad, incluidos los aprendizajes, mientras que la Sección 4 se centra en el apoyo a los estudiantes en riesgo. Para una descripción más detallada y una evaluación del sistema educativo de Letonia, véase OCDE (2015e). El Ministerio de Educación y Ciencia (MoES) nacional tiene la función de supervisión y, a través del Centro Nacional de Educación subordinado, establece los estándares educativos nacionales y determina los planes de estudio y los procedimientos de examen. Proporciona el marco regulatorio para la provisión de educación vocacional y emplea a los directores de los establecimientos VET.1 También mantiene el registro de estándares ocupacionales y estudia las demandas de habilidades del mercado laboral.   \n",
       "499                                                                                                                                                                                                                                        Durante la última década, muchos países han desarrollado un enfoque más holístico de la educación al integrar el desarrollo de estas habilidades específicamente en los currículos escolares, fomentando la cooperación entre las escuelas y las comunidades locales e introduciendo reformas importantes en la educación (Recuadro 3.1). Las empresas a menudo están mejor equipadas con las tecnologías más nuevas, e idealmente con las personas que saben cómo usarlas y guiar el aprendizaje, que las instituciones educativas y, por lo tanto, están mejor preparadas para brindar capacitación práctica. Al mismo tiempo, muchas habilidades cognitivas, especialmente la resolución de problemas y las habilidades sociales y emocionales, como la comunicación y la gestión de conflictos, pueden enseñarse y aprenderse con mayor eficacia en los lugares de trabajo que en las aulas.   \n",
       "522                                                                                                                                                                                                                                                                                                                                                                                           Las entrevistas a nivel regional y nacional revelaron que la falta de materiales de género en idiomas distintos al inglés también planteaba un problema. Gender Net, una red de resolución de problemas e intercambio de información entre pares para el personal del PNUD, se estableció inicialmente como una plataforma basada en correo electrónico y luego se convirtió en una red activa. Además, cada centro regional estableció comunidades de práctica, supervisadas por asesores regionales de género/líderes de práctica, y posteriormente se transfirieron a la plataforma Teamworks. La participación cayó entre un 30% y un 40% de un año a otro según las estadísticas mantenidas por el personal de gestión del conocimiento.   \n",
       "\n",
       "      sdg  \\\n",
       "707   NaN   \n",
       "230   NaN   \n",
       "1495  NaN   \n",
       "499   NaN   \n",
       "522   NaN   \n",
       "\n",
       "                                                                                                                                                                                                                                                                                                                                                                                                                                                                                                                                                                                                                                                                                                                                                                                                                                                                                                                                                                         words  \n",
       "707   ejemplo promedio paises ocde probable twelve ninos fifteen anos aspiren carrera cientifico arquitecto ingeniero mientras solo five ninas hacen mismo oecd two thousand and sixteen thirty mismo modo carrera tecnologias informacion comunicacion tic aspiracion alrededor five ninos menos one ninas ademas expectativas padres carreras relacionadas stem tambien tienden diferir significativamente segun genero ocde two thousand and fifteen 3i existe alguna evidencia brecha disminuido recientemente ernst young ey two thousand and eighteen thirtytwo aun asi general participacion mujeres stem significativamente mas alta participacion emprendimiento financiado capital riesgo respecto financiamiento deuda empresarias enfrentan acceso mas limitado credito incluso si reciben financiamiento enfrentan tasas interes mas altas bellucci borisov zazzaro two thousand and ten thirtythree alesina lotti mistrulli two thousand and thirteen thirtyfour  \n",
       "230                                                                                                                                                                                                                                                                                                                                                                                                                                                                                                                       ninas estan desventaja regiones tasas globales matriculacion bajas mientras regiones tasas mas altas sudamerica centroamerica sur africa reves medida expectativas educativas ninas aumentan ritmo mas rapido ninos tambien hace rendimiento academico vez accedido ensenanza superior mujeres superan hombres calificaciones evaluaciones titulaciones unesco 2012a regiones estan orden descendente segun tasas matriculacion two thousand and ten  \n",
       "1495                                                                                                                                                                                                                                                                                                                        seccion three investiga estrategias promover formacion profesional calidad incluidos aprendizajes mientras seccion four centra apoyo estudiantes riesgo descripcion mas detallada evaluacion sistema educativo letonia vease ocde 2015e ministerio educacion ciencia moes nacional funcion supervision traves centro nacional educacion subordinado establece estandares educativos nacionales determina planes estudio procedimientos examen proporciona marco regulatorio provision educacion vocacional emplea directores establecimientos vet1 tambien mantiene registro estandares ocupacionales estudia demandas habilidades mercado laboral  \n",
       "499                                                                                                                                                                                                                                                                                                         ultima decada paises desarrollado enfoque mas holistico educacion integrar desarrollo habilidades especificamente curriculos escolares fomentando cooperacion escuelas comunidades locales introduciendo reformas importantes educacion recuadro 31 empresas menudo estan mejor equipadas tecnologias mas nuevas idealmente personas saben usarlas guiar aprendizaje instituciones educativas estan mejor preparadas brindar capacitacion practica mismo tiempo muchas habilidades cognitivas especialmente resolucion problemas habilidades sociales emocionales comunicacion gestion conflictos pueden ensenarse aprenderse mayor eficacia lugares trabajo aulas  \n",
       "522                                                                                                                                                                                                                                                                                                                                                                                                    entrevistas nivel regional nacional revelaron falta materiales genero idiomas distintos ingles tambien planteaba problema gender net red resolucion problemas intercambio informacion pares personal pnud establecio inicialmente plataforma basada correo electronico luego convirtio red activa ademas cada centro regional establecio comunidades practica supervisadas asesores regionales generolideres practica posteriormente transfirieron plataforma teamworks participacion cayo thirty forty ano segun estadisticas mantenidas personal gestion conocimiento  "
      ]
     },
     "execution_count": 85,
     "metadata": {},
     "output_type": "execute_result"
    }
   ],
   "source": [
    "data_t_nuevo.sample(5)"
   ]
  },
  {
   "cell_type": "code",
   "execution_count": 86,
   "metadata": {},
   "outputs": [],
   "source": [
    "data_t_nuevo['sdg'] = pipeline_2.predict(data_t_nuevo['words'])"
   ]
  },
  {
   "cell_type": "code",
   "execution_count": 87,
   "metadata": {},
   "outputs": [
    {
     "data": {
      "text/plain": [
       "count    1759.000000\n",
       "mean        4.142695\n",
       "std         0.787843\n",
       "min         3.000000\n",
       "25%         4.000000\n",
       "50%         4.000000\n",
       "75%         5.000000\n",
       "max         5.000000\n",
       "Name: sdg, dtype: float64"
      ]
     },
     "execution_count": 87,
     "metadata": {},
     "output_type": "execute_result"
    }
   ],
   "source": [
    "data_t_nuevo['sdg'].describe()"
   ]
  },
  {
   "cell_type": "code",
   "execution_count": 88,
   "metadata": {},
   "outputs": [
    {
     "data": {
      "image/png": "[encoded data removed]",
      "text/plain": [
       "<Figure size 640x480 with 1 Axes>"
      ]
     },
     "metadata": {},
     "output_type": "display_data"
    }
   ],
   "source": [
    "# Create a histogram plot of selling prices\n",
    "import seaborn as sns\n",
    "\n",
    "# Create a histogram plot of selling prices\n",
    "sns.histplot(data_t_nuevo['sdg'])\n",
    "plt.xlim(3, 5)\n",
    "# Display the plot\n",
    "plt.show()"
   ]
  },
  {
   "cell_type": "code",
   "execution_count": 89,
   "metadata": {},
   "outputs": [
    {
     "data": {
      "image/png": "[encoded data removed]",
      "text/plain": [
       "<Figure size 640x480 with 1 Axes>"
      ]
     },
     "metadata": {},
     "output_type": "display_data"
    }
   ],
   "source": [
    "sns.histplot(data_t['sdg'])\n",
    "plt.xlim(3, 5)\n",
    "plt.show()"
   ]
  },
  {
   "cell_type": "code",
   "execution_count": 90,
   "metadata": {},
   "outputs": [
    {
     "data": {
      "text/html": [
       "<div>\n",
       "<style scoped>\n",
       "    .dataframe tbody tr th:only-of-type {\n",
       "        vertical-align: middle;\n",
       "    }\n",
       "\n",
       "    .dataframe tbody tr th {\n",
       "        vertical-align: top;\n",
       "    }\n",
       "\n",
       "    .dataframe thead th {\n",
       "        text-align: right;\n",
       "    }\n",
       "</style>\n",
       "<table border=\"1\" class=\"dataframe\">\n",
       "  <thead>\n",
       "    <tr style=\"text-align: right;\">\n",
       "      <th></th>\n",
       "      <th>Textos_espanol</th>\n",
       "      <th>sdg</th>\n",
       "      <th>words</th>\n",
       "    </tr>\n",
       "  </thead>\n",
       "  <tbody>\n",
       "    <tr>\n",
       "      <th>1584</th>\n",
       "      <td>Mientras que la tasa de recuento multidimensional de los hombres en 2011-2012 fue de 0,40, en el caso de las mujeres fue de 0,68 (Cuadro 11-21). El índice de Alkire y Foster de las mujeres fue de 0,28 frente a 0,10 de los hombres. Por lo tanto, el índice de sesgo de género llegó a 3,0, lo que indica que las mujeres tienen tres veces más privaciones que los hombres. También ha habido cambios estructurales en la población, incluida una mejor proporción de sexos, tasas de natalidad reducidas, un aumento en la edad promedio para contraer matrimonio, una mayor longevidad y un envejecimiento progresivo de la población.</td>\n",
       "      <td>5</td>\n",
       "      <td>mientras tasa recuento multidimensional hombres 20112012 040 caso mujeres 068 cuadro 1121 indice alkire foster mujeres 028 frente 010 hombres indice sesgo genero llego 30 indica mujeres tres veces mas privaciones hombres tambien cambios estructurales poblacion incluida mejor proporcion sexos tasas natalidad reducidas aumento edad promedio contraer matrimonio mayor longevidad envejecimiento progresivo poblacion</td>\n",
       "    </tr>\n",
       "    <tr>\n",
       "      <th>1656</th>\n",
       "      <td>La redistribución del trabajo no remunerado es uno de los pilares para lograr la igualdad de género en América Latina y el Caribe al 2030 (Bidegain Ponte, 2017). La capacidad de colocar a los niños pequeños en guarderías depende en gran medida del poder adquisitivo de los hogares o de los programas que atienden a las mujeres o los hogares pobres o vulnerables. En muchos casos, estos servicios no están regulados o bajo una estricta supervisión estatal, lo que hace que las condiciones y la calidad de la atención en los diferentes centros sean mixtas.</td>\n",
       "      <td>5</td>\n",
       "      <td>redistribucion trabajo remunerado pilares lograr igualdad genero america latina caribe two thousand and thirty bidegain ponte two thousand and seventeen capacidad colocar ninos pequenos guarderias depende gran medida poder adquisitivo hogares programas atienden mujeres hogares pobres vulnerables casos servicios estan regulados bajo estricta supervision estatal hace condiciones calidad atencion diferentes centros mixtas</td>\n",
       "    </tr>\n",
       "    <tr>\n",
       "      <th>359</th>\n",
       "      <td>Las mujeres empresarias constituyen un grupo heterogéneo en términos de edad, formación y educación, y desarrollan su actividad en una amplia gama de sectores. Sin embargo, a menudo trabajan en profesiones en las que las oportunidades y las condiciones para el emprendimiento han sido limitadas, como la sanidad, la enfermerÃa y la educación. No hay grandes diferencias entre el espíritu empresarial de hombres y mujeres en Suecia, pero se observa una diferencia interesante en el nivel de educación. El nivel educativo de las mujeres es superior al de los hombres. Este hecho también se refleja en el número de ingenieras y en las patentes obtenidas por mujeres en los últimos años. En 2006, el 5% de todas las patentes de Suecia fueron registradas por mujeres.</td>\n",
       "      <td>5</td>\n",
       "      <td>mujeres empresarias constituyen grupo heterogeneo terminos edad formacion educacion desarrollan actividad amplia gama sectores embargo menudo trabajan profesiones oportunidades condiciones emprendimiento sido limitadas sanidad enfermeraa educacion grandes diferencias espiritu empresarial hombres mujeres suecia observa diferencia interesante nivel educacion nivel educativo mujeres superior hombres hecho tambien refleja numero ingenieras patentes obtenidas mujeres ultimos anos two thousand and six five todas patentes suecia registradas mujeres</td>\n",
       "    </tr>\n",
       "    <tr>\n",
       "      <th>707</th>\n",
       "      <td>Por ejemplo, en promedio en los países de la OCDE, es probable que el 12 % de los niños de 15 años aspiren a una carrera como científico, arquitecto o ingeniero, mientras que solo el 5 % de las niñas hacen lo mismo (OECD, 2016[30]). Del mismo modo, una carrera en tecnologías de la información y la comunicación (TIC) es una aspiración para alrededor del 5% de los niños y menos del 1% de las niñas. Además, las expectativas de los padres sobre las carreras relacionadas con STEM también tienden a diferir significativamente según el género (OCDE, 2015 [3i]). Existe alguna evidencia de que esta brecha ha disminuido recientemente (Ernst &amp; Young (EY), 2018(32)). Aún así, en general, la participación de las mujeres en STEM es significativamente más alta que la participación en el emprendimiento financiado con capital de riesgo. Con respecto al financiamiento de la deuda, las empresarias enfrentan un acceso más limitado al crédito e incluso si reciben financiamiento, se enfrentan a tasas de interés más altas (Bellucci , Borisov y Zazzaro, 2010(33], Alesina, Lotti y Mistrulli, 2013(34]).</td>\n",
       "      <td>5</td>\n",
       "      <td>ejemplo promedio paises ocde probable twelve ninos fifteen anos aspiren carrera cientifico arquitecto ingeniero mientras solo five ninas hacen mismo oecd two thousand and sixteen thirty mismo modo carrera tecnologias informacion comunicacion tic aspiracion alrededor five ninos menos one ninas ademas expectativas padres carreras relacionadas stem tambien tienden diferir significativamente segun genero ocde two thousand and fifteen 3i existe alguna evidencia brecha disminuido recientemente ernst young ey two thousand and eighteen thirtytwo aun asi general participacion mujeres stem significativamente mas alta participacion emprendimiento financiado capital riesgo respecto financiamiento deuda empresarias enfrentan acceso mas limitado credito incluso si reciben financiamiento enfrentan tasas interes mas altas bellucci borisov zazzaro two thousand and ten thirtythree alesina lotti mistrulli two thousand and thirteen thirtyfour</td>\n",
       "    </tr>\n",
       "    <tr>\n",
       "      <th>832</th>\n",
       "      <td>Las guerras, los conflictos armados y la ocupación de territorios a menudo conducen a un aumento de la prostitución, la trata de mujeres y las agresiones sexuales a las mujeres, que requieren medidas de protección y punitivas específicas. La igualdad en el empleo puede verse gravemente afectada cuando las mujeres son objeto de violencia específica de género, como el acoso sexual en el lugar de trabajo. El acoso sexual incluye comportamiento sexualmente determinado no deseado como contacto físico y avances, comentarios de color sexual, mostrar pornografía y demanda sexual, ya sea con palabras o acciones.</td>\n",
       "      <td>5</td>\n",
       "      <td>guerras conflictos armados ocupacion territorios menudo conducen aumento prostitucion trata mujeres agresiones sexuales mujeres requieren medidas proteccion punitivas especificas igualdad empleo puede verse gravemente afectada mujeres objeto violencia especifica genero acoso sexual lugar trabajo acoso sexual incluye comportamiento sexualmente determinado deseado contacto fisico avances comentarios color sexual mostrar pornografia demanda sexual palabras acciones</td>\n",
       "    </tr>\n",
       "  </tbody>\n",
       "</table>\n",
       "</div>"
      ],
      "text/plain": [
       "                                                                                                                                                                                                                                                                                                                                                                                                                                                                                                                                                                                                                                                                                                                                                                                                                                                                                                                                                                                                                                                                                                                             Textos_espanol  \\\n",
       "1584                                                                                                                                                                                                                                                                                                                                                                                                                                                                                           Mientras que la tasa de recuento multidimensional de los hombres en 2011-2012 fue de 0,40, en el caso de las mujeres fue de 0,68 (Cuadro 11-21). El índice de Alkire y Foster de las mujeres fue de 0,28 frente a 0,10 de los hombres. Por lo tanto, el índice de sesgo de género llegó a 3,0, lo que indica que las mujeres tienen tres veces más privaciones que los hombres. También ha habido cambios estructurales en la población, incluida una mejor proporción de sexos, tasas de natalidad reducidas, un aumento en la edad promedio para contraer matrimonio, una mayor longevidad y un envejecimiento progresivo de la población.   \n",
       "1656                                                                                                                                                                                                                                                                                                                                                                                                                                                                                                                                                             La redistribución del trabajo no remunerado es uno de los pilares para lograr la igualdad de género en América Latina y el Caribe al 2030 (Bidegain Ponte, 2017). La capacidad de colocar a los niños pequeños en guarderías depende en gran medida del poder adquisitivo de los hogares o de los programas que atienden a las mujeres o los hogares pobres o vulnerables. En muchos casos, estos servicios no están regulados o bajo una estricta supervisión estatal, lo que hace que las condiciones y la calidad de la atención en los diferentes centros sean mixtas.   \n",
       "359                                                                                                                                                                                                                                                                                                                                              Las mujeres empresarias constituyen un grupo heterogéneo en términos de edad, formación y educación, y desarrollan su actividad en una amplia gama de sectores. Sin embargo, a menudo trabajan en profesiones en las que las oportunidades y las condiciones para el emprendimiento han sido limitadas, como la sanidad, la enfermerÃa y la educación. No hay grandes diferencias entre el espíritu empresarial de hombres y mujeres en Suecia, pero se observa una diferencia interesante en el nivel de educación. El nivel educativo de las mujeres es superior al de los hombres. Este hecho también se refleja en el número de ingenieras y en las patentes obtenidas por mujeres en los últimos años. En 2006, el 5% de todas las patentes de Suecia fueron registradas por mujeres.   \n",
       "707   Por ejemplo, en promedio en los países de la OCDE, es probable que el 12 % de los niños de 15 años aspiren a una carrera como científico, arquitecto o ingeniero, mientras que solo el 5 % de las niñas hacen lo mismo (OECD, 2016[30]). Del mismo modo, una carrera en tecnologías de la información y la comunicación (TIC) es una aspiración para alrededor del 5% de los niños y menos del 1% de las niñas. Además, las expectativas de los padres sobre las carreras relacionadas con STEM también tienden a diferir significativamente según el género (OCDE, 2015 [3i]). Existe alguna evidencia de que esta brecha ha disminuido recientemente (Ernst & Young (EY), 2018(32)). Aún así, en general, la participación de las mujeres en STEM es significativamente más alta que la participación en el emprendimiento financiado con capital de riesgo. Con respecto al financiamiento de la deuda, las empresarias enfrentan un acceso más limitado al crédito e incluso si reciben financiamiento, se enfrentan a tasas de interés más altas (Bellucci , Borisov y Zazzaro, 2010(33], Alesina, Lotti y Mistrulli, 2013(34]).   \n",
       "832                                                                                                                                                                                                                                                                                                                                                                                                                                                                                                      Las guerras, los conflictos armados y la ocupación de territorios a menudo conducen a un aumento de la prostitución, la trata de mujeres y las agresiones sexuales a las mujeres, que requieren medidas de protección y punitivas específicas. La igualdad en el empleo puede verse gravemente afectada cuando las mujeres son objeto de violencia específica de género, como el acoso sexual en el lugar de trabajo. El acoso sexual incluye comportamiento sexualmente determinado no deseado como contacto físico y avances, comentarios de color sexual, mostrar pornografía y demanda sexual, ya sea con palabras o acciones.   \n",
       "\n",
       "      sdg  \\\n",
       "1584    5   \n",
       "1656    5   \n",
       "359     5   \n",
       "707     5   \n",
       "832     5   \n",
       "\n",
       "                                                                                                                                                                                                                                                                                                                                                                                                                                                                                                                                                                                                                                                                                                                                                                                                                                                                                                                                                                         words  \n",
       "1584                                                                                                                                                                                                                                                                                                                                                                                                                                                                                                                                             mientras tasa recuento multidimensional hombres 20112012 040 caso mujeres 068 cuadro 1121 indice alkire foster mujeres 028 frente 010 hombres indice sesgo genero llego 30 indica mujeres tres veces mas privaciones hombres tambien cambios estructurales poblacion incluida mejor proporcion sexos tasas natalidad reducidas aumento edad promedio contraer matrimonio mayor longevidad envejecimiento progresivo poblacion  \n",
       "1656                                                                                                                                                                                                                                                                                                                                                                                                                                                                                                                                    redistribucion trabajo remunerado pilares lograr igualdad genero america latina caribe two thousand and thirty bidegain ponte two thousand and seventeen capacidad colocar ninos pequenos guarderias depende gran medida poder adquisitivo hogares programas atienden mujeres hogares pobres vulnerables casos servicios estan regulados bajo estricta supervision estatal hace condiciones calidad atencion diferentes centros mixtas  \n",
       "359                                                                                                                                                                                                                                                                                                                                                                                                        mujeres empresarias constituyen grupo heterogeneo terminos edad formacion educacion desarrollan actividad amplia gama sectores embargo menudo trabajan profesiones oportunidades condiciones emprendimiento sido limitadas sanidad enfermeraa educacion grandes diferencias espiritu empresarial hombres mujeres suecia observa diferencia interesante nivel educacion nivel educativo mujeres superior hombres hecho tambien refleja numero ingenieras patentes obtenidas mujeres ultimos anos two thousand and six five todas patentes suecia registradas mujeres  \n",
       "707   ejemplo promedio paises ocde probable twelve ninos fifteen anos aspiren carrera cientifico arquitecto ingeniero mientras solo five ninas hacen mismo oecd two thousand and sixteen thirty mismo modo carrera tecnologias informacion comunicacion tic aspiracion alrededor five ninos menos one ninas ademas expectativas padres carreras relacionadas stem tambien tienden diferir significativamente segun genero ocde two thousand and fifteen 3i existe alguna evidencia brecha disminuido recientemente ernst young ey two thousand and eighteen thirtytwo aun asi general participacion mujeres stem significativamente mas alta participacion emprendimiento financiado capital riesgo respecto financiamiento deuda empresarias enfrentan acceso mas limitado credito incluso si reciben financiamiento enfrentan tasas interes mas altas bellucci borisov zazzaro two thousand and ten thirtythree alesina lotti mistrulli two thousand and thirteen thirtyfour  \n",
       "832                                                                                                                                                                                                                                                                                                                                                                                                                                                                                         guerras conflictos armados ocupacion territorios menudo conducen aumento prostitucion trata mujeres agresiones sexuales mujeres requieren medidas proteccion punitivas especificas igualdad empleo puede verse gravemente afectada mujeres objeto violencia especifica genero acoso sexual lugar trabajo acoso sexual incluye comportamiento sexualmente determinado deseado contacto fisico avances comentarios color sexual mostrar pornografia demanda sexual palabras acciones  "
      ]
     },
     "execution_count": 90,
     "metadata": {},
     "output_type": "execute_result"
    }
   ],
   "source": [
    "data_t_nuevo.sample(5)"
   ]
  }
 ],
 "metadata": {
  "kernelspec": {
   "display_name": "Python 3",
   "language": "python",
   "name": "python3"
  },
  "language_info": {
   "codemirror_mode": {
    "name": "ipython",
    "version": 3
   },
   "file_extension": ".py",
   "mimetype": "text/x-python",
   "name": "python",
   "nbconvert_exporter": "python",
   "pygments_lexer": "ipython3",
   "version": "3.10.8"
  }
 },
 "nbformat": 4,
 "nbformat_minor": 2
}
